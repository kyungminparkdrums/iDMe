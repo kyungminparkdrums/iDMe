{
 "cells": [
  {
   "cell_type": "code",
   "execution_count": 1,
   "id": "12ee842b-e6f4-4bcd-8f52-957ba88275b7",
   "metadata": {},
   "outputs": [],
   "source": [
    "%load_ext autoreload\n",
    "%autoreload 2\n",
    "import uproot\n",
    "import numpy as np\n",
    "import matplotlib.pyplot as plt\n",
    "import awkward as ak\n",
    "import importlib\n",
    "import coffea.util as util\n",
    "import time\n",
    "import json\n",
    "import os\n",
    "\n",
    "import sys\n",
    "sys.path.append(\"/uscms/home/kyungmip/nobackup/CMSSW_10_6_26/src/iDMe/python_analysis/analysisTools/\")\n",
    "from analysisTools import Analyzer\n",
    "from analysisTools import loadSchema\n",
    "import analysisTools as tools\n",
    "import analysisSubroutines as routines"
   ]
  },
  {
   "cell_type": "markdown",
   "id": "f5ab31af-f2b2-441d-895b-cd38385311b0",
   "metadata": {},
   "source": [
    "### Input files to be analyzed\n",
    "Coffea analyzer will analyze the ntuples that skimmed AOD. The skimmed ntuples information (file location, xsec, lumi, weight, etc) is available as sample config json files and the json files are given as input to the analyzer. \n",
    "\n",
    "The workflow is as follows:\n",
    "1) `EDAnalyzer` format ntuplizer is run on AOD, saving useful branches: `/AODSkimmer/`\n",
    "2) `rdataframe` format skimmer is run on the ntuples, applying basic cuts (MET filter, trigger, MET cut etc): `/python_analysis/condor/condor_skim_rdf.py`\n",
    "3) `coffea` format analyzer is run on the skimmed files, applying the rest of the cuts. This step is done in this notebook. "
   ]
  },
  {
   "cell_type": "code",
   "execution_count": 15,
   "id": "0d67d303-bf5f-4a01-9ad8-9b11bd558c78",
   "metadata": {},
   "outputs": [
    {
     "name": "stdout",
     "output_type": "stream",
     "text": [
      "Skipping bkg_2018_Diboson.json, can't find original file\n",
      "Skipping bkg_2018_DY.json, can't find original file\n",
      "Skipping bkg_2018_QCD_TuneCP5_PSWeights.json, can't find original file\n",
      "Skipping bkg_2018_Top.json, can't find original file\n",
      "Skipping bkg_2018_Triboson.json, can't find original file\n",
      "Skipping bkg_2018_TTJetsDiLept.json, can't find original file\n",
      "Skipping bkg_2018_WJets.json, can't find original file\n",
      "Skipping bkg_2018_ZJets.json, can't find original file\n",
      "Skipping signal_v2_2018_aEM.json, can't find original file\n"
     ]
    }
   ],
   "source": [
    "# update jsons from original ones in case cross section, number of files, etc has updated\n",
    "sample_json_dir = './'\n",
    "\n",
    "src = \"/uscms/home/kyungmip/nobackup/CMSSW_10_6_26/src/iDMe/python_analysis/analysisTools/configs/sample_configs/\"\n",
    "jsons = [f for f in os.listdir(sample_json_dir) if \".json\" in f]\n",
    "for jf in jsons:\n",
    "    if not os.path.exists(src+jf):\n",
    "        print(f\"Skipping {jf}, can't find original file\")\n",
    "        continue\n",
    "    with open(src+jf,\"r\") as sf:\n",
    "        source = json.load(sf)\n",
    "    with open(jf,\"r\") as tf:\n",
    "        targ = json.load(tf)\n",
    "    for i,entry in enumerate(targ):\n",
    "        src_entry = [k for k in source if k['name']==entry['name']][0]\n",
    "        entry['xsec'] = src_entry['xsec']\n",
    "        entry['sum_wgt'] = src_entry['sum_wgt']\n",
    "        entry['nFiles'] = src_entry['nFiles']\n",
    "        if 'num_events' in src_entry.keys():\n",
    "            entry['num_events'] = src_entry['num_events']\n",
    "    with open(jf,\"w\") as of:\n",
    "        json.dump(targ,of,indent=4)"
   ]
  },
  {
   "cell_type": "code",
   "execution_count": 16,
   "id": "6b6fd4fb-4097-4a15-8f3b-132bad756c59",
   "metadata": {},
   "outputs": [],
   "source": [
    "cut_file = \"./configs/cut_configs/SR_fromSkimmed_v1.py\"\n",
    "hist_file = \"./configs/histo_configs/SR_studies.py\""
   ]
  },
  {
   "cell_type": "code",
   "execution_count": 17,
   "id": "adbf76c6-5416-4e6c-997f-4b8898298ab4",
   "metadata": {},
   "outputs": [
    {
     "data": {
      "text/plain": [
       "0"
      ]
     },
     "execution_count": 17,
     "metadata": {},
     "output_type": "execute_result"
    }
   ],
   "source": [
    "outdir = \"./coffea/\"\n",
    "os.system(f\"mkdir -p {outdir}\")"
   ]
  },
  {
   "cell_type": "code",
   "execution_count": 18,
   "id": "46bcef59-54c2-47d9-b622-26ff458807f2",
   "metadata": {},
   "outputs": [],
   "source": [
    "# Coffea output file name suffix\n",
    "\n",
    "#suffix = \"_ejdR_rejection_IDcut\"\n",
    "suffix = \"_hist_cut8to11\""
   ]
  },
  {
   "cell_type": "markdown",
   "id": "5c4cd5e9-958f-44ff-bd6f-cc03b7dd54e1",
   "metadata": {},
   "source": [
    "### Signal"
   ]
  },
  {
   "cell_type": "code",
   "execution_count": 19,
   "id": "3204c9d7-7bc8-40c1-89e2-264c9abd129d",
   "metadata": {},
   "outputs": [
    {
     "name": "stdout",
     "output_type": "stream",
     "text": [
      "['signal_v2_2018_aEM']\n"
     ]
    }
   ],
   "source": [
    "signal_list = [ samp.split('.')[0] for samp in jsons if \"signal\" in samp ]\n",
    "print(signal_list)"
   ]
  },
  {
   "cell_type": "code",
   "execution_count": 20,
   "id": "60416c18-500c-4270-8aea-1139fdec5aa1",
   "metadata": {},
   "outputs": [
    {
     "name": "stdout",
     "output_type": "stream",
     "text": [
      "Start analyzing: signal_v2_2018_aEM\n"
     ]
    },
    {
     "data": {
      "application/vnd.jupyter.widget-view+json": {
       "model_id": "d579b6e85351407cbccfc0336637237d",
       "version_major": 2,
       "version_minor": 0
      },
      "text/plain": [
       "Output()"
      ]
     },
     "metadata": {},
     "output_type": "display_data"
    },
    {
     "data": {
      "text/html": [
       "<pre style=\"white-space:pre;overflow-x:auto;line-height:normal;font-family:Menlo,'DejaVu Sans Mono',consolas,'Courier New',monospace\"></pre>\n"
      ],
      "text/plain": []
     },
     "metadata": {},
     "output_type": "display_data"
    },
    {
     "data": {
      "text/html": [
       "<pre style=\"white-space:pre;overflow-x:auto;line-height:normal;font-family:Menlo,'DejaVu Sans Mono',consolas,'Courier New',monospace\">\n",
       "</pre>\n"
      ],
      "text/plain": [
       "\n"
      ]
     },
     "metadata": {},
     "output_type": "display_data"
    },
    {
     "name": "stdout",
     "output_type": "stream",
     "text": [
      "Completed in 4.77 min\n",
      "\n"
     ]
    }
   ],
   "source": [
    "for samp in signal_list:\n",
    "    print(f'Start analyzing: {samp}')\n",
    "    \n",
    "    test = Analyzer(f\"{samp}.json\",hist_file,cut_file)\n",
    "    \n",
    "    t1 = time.time()\n",
    "    out = test.process(execr='futures',lite=True)\n",
    "    t2 = time.time()\n",
    "    \n",
    "    util.save(out, f\"{outdir}/{samp}{suffix}.coffea\")\n",
    "    \n",
    "    print('Completed in {:.2f} min\\n'.format((t2-t1)/60))\n",
    "    del out, test"
   ]
  },
  {
   "cell_type": "markdown",
   "id": "511619cc-608a-4fb3-8426-39dba14eaeca",
   "metadata": {},
   "source": [
    "### Backgrounds"
   ]
  },
  {
   "cell_type": "code",
   "execution_count": 21,
   "id": "f9dbde10-4d1f-4c2a-98ab-766aca0e5b38",
   "metadata": {},
   "outputs": [
    {
     "name": "stdout",
     "output_type": "stream",
     "text": [
      "['bkg_2018_Diboson', 'bkg_2018_DY', 'bkg_2018_QCD_TuneCP5_PSWeights', 'bkg_2018_Top', 'bkg_2018_Triboson', 'bkg_2018_TTJetsDiLept', 'bkg_2018_WJets', 'bkg_2018_ZJets']\n"
     ]
    }
   ],
   "source": [
    "bkg_list = [ samp.split('.')[0] for samp in jsons if \"bkg\" in samp ]\n",
    "print(bkg_list)"
   ]
  },
  {
   "cell_type": "code",
   "execution_count": 22,
   "id": "1a8f72c3-06ca-4e1e-9108-0ae19f25ab12",
   "metadata": {},
   "outputs": [
    {
     "name": "stdout",
     "output_type": "stream",
     "text": [
      "Start analyzing: bkg_2018_Diboson\n"
     ]
    },
    {
     "data": {
      "application/vnd.jupyter.widget-view+json": {
       "model_id": "f4365cb451a84958b0f7e36e5a7e48b1",
       "version_major": 2,
       "version_minor": 0
      },
      "text/plain": [
       "Output()"
      ]
     },
     "metadata": {},
     "output_type": "display_data"
    },
    {
     "data": {
      "text/html": [
       "<pre style=\"white-space:pre;overflow-x:auto;line-height:normal;font-family:Menlo,'DejaVu Sans Mono',consolas,'Courier New',monospace\"></pre>\n"
      ],
      "text/plain": []
     },
     "metadata": {},
     "output_type": "display_data"
    },
    {
     "data": {
      "text/html": [
       "<pre style=\"white-space:pre;overflow-x:auto;line-height:normal;font-family:Menlo,'DejaVu Sans Mono',consolas,'Courier New',monospace\">\n",
       "</pre>\n"
      ],
      "text/plain": [
       "\n"
      ]
     },
     "metadata": {},
     "output_type": "display_data"
    },
    {
     "name": "stdout",
     "output_type": "stream",
     "text": [
      "Completed in 0.59 min\n",
      "\n",
      "Start analyzing: bkg_2018_DY\n"
     ]
    },
    {
     "data": {
      "application/vnd.jupyter.widget-view+json": {
       "model_id": "4c246dfd4e4b4d358ac9de2f1c927f8e",
       "version_major": 2,
       "version_minor": 0
      },
      "text/plain": [
       "Output()"
      ]
     },
     "metadata": {},
     "output_type": "display_data"
    },
    {
     "data": {
      "text/html": [
       "<pre style=\"white-space:pre;overflow-x:auto;line-height:normal;font-family:Menlo,'DejaVu Sans Mono',consolas,'Courier New',monospace\"></pre>\n"
      ],
      "text/plain": []
     },
     "metadata": {},
     "output_type": "display_data"
    },
    {
     "data": {
      "text/html": [
       "<pre style=\"white-space:pre;overflow-x:auto;line-height:normal;font-family:Menlo,'DejaVu Sans Mono',consolas,'Courier New',monospace\">\n",
       "</pre>\n"
      ],
      "text/plain": [
       "\n"
      ]
     },
     "metadata": {},
     "output_type": "display_data"
    },
    {
     "name": "stdout",
     "output_type": "stream",
     "text": [
      "Completed in 0.53 min\n",
      "\n",
      "Start analyzing: bkg_2018_QCD_TuneCP5_PSWeights\n"
     ]
    },
    {
     "data": {
      "application/vnd.jupyter.widget-view+json": {
       "model_id": "48ffe22fc1084b88ad38a8bb179eac66",
       "version_major": 2,
       "version_minor": 0
      },
      "text/plain": [
       "Output()"
      ]
     },
     "metadata": {},
     "output_type": "display_data"
    },
    {
     "data": {
      "text/html": [
       "<pre style=\"white-space:pre;overflow-x:auto;line-height:normal;font-family:Menlo,'DejaVu Sans Mono',consolas,'Courier New',monospace\"></pre>\n"
      ],
      "text/plain": []
     },
     "metadata": {},
     "output_type": "display_data"
    },
    {
     "data": {
      "text/html": [
       "<pre style=\"white-space:pre;overflow-x:auto;line-height:normal;font-family:Menlo,'DejaVu Sans Mono',consolas,'Courier New',monospace\">\n",
       "</pre>\n"
      ],
      "text/plain": [
       "\n"
      ]
     },
     "metadata": {},
     "output_type": "display_data"
    },
    {
     "name": "stdout",
     "output_type": "stream",
     "text": [
      "Completed in 1.23 min\n",
      "\n",
      "Start analyzing: bkg_2018_Top\n"
     ]
    },
    {
     "data": {
      "application/vnd.jupyter.widget-view+json": {
       "model_id": "1aabacce8ca94858a7ffe9743d73b86e",
       "version_major": 2,
       "version_minor": 0
      },
      "text/plain": [
       "Output()"
      ]
     },
     "metadata": {},
     "output_type": "display_data"
    },
    {
     "data": {
      "text/html": [
       "<pre style=\"white-space:pre;overflow-x:auto;line-height:normal;font-family:Menlo,'DejaVu Sans Mono',consolas,'Courier New',monospace\"></pre>\n"
      ],
      "text/plain": []
     },
     "metadata": {},
     "output_type": "display_data"
    },
    {
     "data": {
      "text/html": [
       "<pre style=\"white-space:pre;overflow-x:auto;line-height:normal;font-family:Menlo,'DejaVu Sans Mono',consolas,'Courier New',monospace\">\n",
       "</pre>\n"
      ],
      "text/plain": [
       "\n"
      ]
     },
     "metadata": {},
     "output_type": "display_data"
    },
    {
     "name": "stdout",
     "output_type": "stream",
     "text": [
      "Completed in 3.63 min\n",
      "\n",
      "Start analyzing: bkg_2018_Triboson\n"
     ]
    },
    {
     "data": {
      "application/vnd.jupyter.widget-view+json": {
       "model_id": "c62b9df8d5c74bf7b5c66aeb73e15bf5",
       "version_major": 2,
       "version_minor": 0
      },
      "text/plain": [
       "Output()"
      ]
     },
     "metadata": {},
     "output_type": "display_data"
    },
    {
     "data": {
      "text/html": [
       "<pre style=\"white-space:pre;overflow-x:auto;line-height:normal;font-family:Menlo,'DejaVu Sans Mono',consolas,'Courier New',monospace\"></pre>\n"
      ],
      "text/plain": []
     },
     "metadata": {},
     "output_type": "display_data"
    },
    {
     "data": {
      "text/html": [
       "<pre style=\"white-space:pre;overflow-x:auto;line-height:normal;font-family:Menlo,'DejaVu Sans Mono',consolas,'Courier New',monospace\">\n",
       "</pre>\n"
      ],
      "text/plain": [
       "\n"
      ]
     },
     "metadata": {},
     "output_type": "display_data"
    },
    {
     "name": "stdout",
     "output_type": "stream",
     "text": [
      "Completed in 0.23 min\n",
      "\n",
      "Start analyzing: bkg_2018_TTJetsDiLept\n"
     ]
    },
    {
     "data": {
      "application/vnd.jupyter.widget-view+json": {
       "model_id": "bc149550fc454bbaac7a6e582ac52b9a",
       "version_major": 2,
       "version_minor": 0
      },
      "text/plain": [
       "Output()"
      ]
     },
     "metadata": {},
     "output_type": "display_data"
    },
    {
     "data": {
      "text/html": [
       "<pre style=\"white-space:pre;overflow-x:auto;line-height:normal;font-family:Menlo,'DejaVu Sans Mono',consolas,'Courier New',monospace\"></pre>\n"
      ],
      "text/plain": []
     },
     "metadata": {},
     "output_type": "display_data"
    },
    {
     "data": {
      "text/html": [
       "<pre style=\"white-space:pre;overflow-x:auto;line-height:normal;font-family:Menlo,'DejaVu Sans Mono',consolas,'Courier New',monospace\">\n",
       "</pre>\n"
      ],
      "text/plain": [
       "\n"
      ]
     },
     "metadata": {},
     "output_type": "display_data"
    },
    {
     "name": "stdout",
     "output_type": "stream",
     "text": [
      "Completed in 0.47 min\n",
      "\n",
      "Start analyzing: bkg_2018_WJets\n"
     ]
    },
    {
     "data": {
      "application/vnd.jupyter.widget-view+json": {
       "model_id": "91162e8350ba47a691f8d3be9063adde",
       "version_major": 2,
       "version_minor": 0
      },
      "text/plain": [
       "Output()"
      ]
     },
     "metadata": {},
     "output_type": "display_data"
    },
    {
     "data": {
      "text/html": [
       "<pre style=\"white-space:pre;overflow-x:auto;line-height:normal;font-family:Menlo,'DejaVu Sans Mono',consolas,'Courier New',monospace\"></pre>\n"
      ],
      "text/plain": []
     },
     "metadata": {},
     "output_type": "display_data"
    },
    {
     "data": {
      "text/html": [
       "<pre style=\"white-space:pre;overflow-x:auto;line-height:normal;font-family:Menlo,'DejaVu Sans Mono',consolas,'Courier New',monospace\">\n",
       "</pre>\n"
      ],
      "text/plain": [
       "\n"
      ]
     },
     "metadata": {},
     "output_type": "display_data"
    },
    {
     "name": "stdout",
     "output_type": "stream",
     "text": [
      "Completed in 3.11 min\n",
      "\n",
      "Start analyzing: bkg_2018_ZJets\n"
     ]
    },
    {
     "data": {
      "application/vnd.jupyter.widget-view+json": {
       "model_id": "dfaeae2e0d8c4092a64f27eaad7039ac",
       "version_major": 2,
       "version_minor": 0
      },
      "text/plain": [
       "Output()"
      ]
     },
     "metadata": {},
     "output_type": "display_data"
    },
    {
     "data": {
      "text/html": [
       "<pre style=\"white-space:pre;overflow-x:auto;line-height:normal;font-family:Menlo,'DejaVu Sans Mono',consolas,'Courier New',monospace\"></pre>\n"
      ],
      "text/plain": []
     },
     "metadata": {},
     "output_type": "display_data"
    },
    {
     "data": {
      "text/html": [
       "<pre style=\"white-space:pre;overflow-x:auto;line-height:normal;font-family:Menlo,'DejaVu Sans Mono',consolas,'Courier New',monospace\">\n",
       "</pre>\n"
      ],
      "text/plain": [
       "\n"
      ]
     },
     "metadata": {},
     "output_type": "display_data"
    },
    {
     "name": "stdout",
     "output_type": "stream",
     "text": [
      "Completed in 3.21 min\n",
      "\n"
     ]
    }
   ],
   "source": [
    "for samp in bkg_list:\n",
    "    print(f'Start analyzing: {samp}')\n",
    "    \n",
    "    test = Analyzer(f\"{samp}.json\",hist_file,cut_file)\n",
    "    \n",
    "    t1 = time.time()\n",
    "    out = test.process(execr='futures',lite=True)\n",
    "    t2 = time.time()\n",
    "    \n",
    "    util.save(out, f\"{outdir}/{samp}{suffix}.coffea\")\n",
    "    \n",
    "    print('Completed in {:.2f} min\\n'.format((t2-t1)/60))\n",
    "    del out, test"
   ]
  },
  {
   "cell_type": "code",
   "execution_count": null,
   "id": "06fe33c9-b83c-4cf1-bb01-69a85782d4de",
   "metadata": {},
   "outputs": [],
   "source": []
  }
 ],
 "metadata": {
  "kernelspec": {
   "display_name": "Python 3 (ipykernel)",
   "language": "python",
   "name": "python3"
  },
  "language_info": {
   "codemirror_mode": {
    "name": "ipython",
    "version": 3
   },
   "file_extension": ".py",
   "mimetype": "text/x-python",
   "name": "python",
   "nbconvert_exporter": "python",
   "pygments_lexer": "ipython3",
   "version": "3.8.17"
  }
 },
 "nbformat": 4,
 "nbformat_minor": 5
}
