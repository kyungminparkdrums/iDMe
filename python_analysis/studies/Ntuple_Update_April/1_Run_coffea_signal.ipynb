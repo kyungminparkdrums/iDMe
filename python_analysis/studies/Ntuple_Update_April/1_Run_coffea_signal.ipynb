{
 "cells": [
  {
   "cell_type": "code",
   "execution_count": 1,
   "id": "e94963cd-6dd7-44cd-9e04-b15d8ada688c",
   "metadata": {},
   "outputs": [],
   "source": [
    "%load_ext autoreload\n",
    "%autoreload 2\n",
    "import uproot\n",
    "import numpy as np\n",
    "import matplotlib.pyplot as plt\n",
    "import awkward as ak\n",
    "import sys\n",
    "sys.path.append(\"../../analysisTools/\")\n",
    "from analysisTools import Analyzer\n",
    "from analysisTools import loadSchema\n",
    "import analysisTools as tools\n",
    "import analysisSubroutines as routines\n",
    "import plotTools as ptools\n",
    "import utils\n",
    "import importlib\n",
    "import coffea.util as util\n",
    "import time\n",
    "import json\n",
    "import os\n",
    "import glob\n",
    "import pandas as pd"
   ]
  },
  {
   "cell_type": "code",
   "execution_count": 2,
   "id": "80730354-47ca-4b54-8913-832f3a6fcbe7",
   "metadata": {},
   "outputs": [
    {
     "data": {
      "text/plain": [
       "0"
      ]
     },
     "execution_count": 2,
     "metadata": {},
     "output_type": "execute_result"
    }
   ],
   "source": [
    "outdir = \"./coffea/\"\n",
    "os.system(f'mkdir -p {outdir}')"
   ]
  },
  {
   "cell_type": "markdown",
   "id": "47ec10fd-b1f2-43c9-8c3d-006dff2d84de",
   "metadata": {
    "jp-MarkdownHeadingCollapsed": true
   },
   "source": [
    "## VR"
   ]
  },
  {
   "cell_type": "code",
   "execution_count": 3,
   "id": "7f0b8d61-57bd-4e39-bd71-9b86a531b2f9",
   "metadata": {},
   "outputs": [],
   "source": [
    "cuts_config = \"./cut_configs/VR.py\""
   ]
  },
  {
   "cell_type": "code",
   "execution_count": 4,
   "id": "220f6954-b310-4689-b83b-daefa7b9118d",
   "metadata": {},
   "outputs": [],
   "source": [
    "sample_config = \"./sample_configs/skimmed_signal_v9_miniAOD_2018_aEM.json\" # v9 signal; MINIAOD & new cross-cleaning & new xsec\n",
    "#histos_config = \"./histo_configs/histos.py\" # new histogramming framework\n",
    "histos_config = \"./histo_configs/BDTvariables.py\" # old histogramming framework"
   ]
  },
  {
   "cell_type": "code",
   "execution_count": 5,
   "id": "bb6dedbe-775e-4ae6-bd90-8b8d5fb6fd1e",
   "metadata": {
    "scrolled": true
   },
   "outputs": [
    {
     "data": {
      "application/vnd.jupyter.widget-view+json": {
       "model_id": "e5bdadf93e5d4ab4b7adeda662241d8b",
       "version_major": 2,
       "version_minor": 0
      },
      "text/plain": [
       "Output()"
      ]
     },
     "metadata": {},
     "output_type": "display_data"
    },
    {
     "data": {
      "text/html": [
       "<pre style=\"white-space:pre;overflow-x:auto;line-height:normal;font-family:Menlo,'DejaVu Sans Mono',consolas,'Courier New',monospace\"></pre>\n"
      ],
      "text/plain": []
     },
     "metadata": {},
     "output_type": "display_data"
    },
    {
     "data": {
      "text/html": [
       "<pre style=\"white-space:pre;overflow-x:auto;line-height:normal;font-family:Menlo,'DejaVu Sans Mono',consolas,'Courier New',monospace\">\n",
       "</pre>\n"
      ],
      "text/plain": [
       "\n"
      ]
     },
     "metadata": {},
     "output_type": "display_data"
    },
    {
     "data": {
      "application/vnd.jupyter.widget-view+json": {
       "model_id": "1e1051907a6c42d2b129acd907cd18eb",
       "version_major": 2,
       "version_minor": 0
      },
      "text/plain": [
       "Output()"
      ]
     },
     "metadata": {},
     "output_type": "display_data"
    },
    {
     "name": "stderr",
     "output_type": "stream",
     "text": [
      "/uscms_data/d3/kyungmip/CMSSW_10_6_26/src/iDMe/python_analysis/studies/Ntuple_Update_April/../../analysisTools/analysisTools.py:321: RuntimeWarning: invalid value encountered in scalar divide\n",
      "  cutflow_vtx_matched[cutName] += ak.sum(vtx_matched_events.genWgt)/ak.sum(events.genWgt)\n",
      "/uscms_data/d3/kyungmip/CMSSW_10_6_26/src/iDMe/python_analysis/studies/Ntuple_Update_April/../../analysisTools/analysisTools.py:321: RuntimeWarning: invalid value encountered in scalar divide\n",
      "  cutflow_vtx_matched[cutName] += ak.sum(vtx_matched_events.genWgt)/ak.sum(events.genWgt)\n",
      "/uscms_data/d3/kyungmip/CMSSW_10_6_26/src/iDMe/python_analysis/studies/Ntuple_Update_April/../../analysisTools/analysisTools.py:321: RuntimeWarning: invalid value encountered in scalar divide\n",
      "  cutflow_vtx_matched[cutName] += ak.sum(vtx_matched_events.genWgt)/ak.sum(events.genWgt)\n",
      "/uscms_data/d3/kyungmip/CMSSW_10_6_26/src/iDMe/python_analysis/studies/Ntuple_Update_April/../../analysisTools/analysisTools.py:321: RuntimeWarning: invalid value encountered in scalar divide\n",
      "  cutflow_vtx_matched[cutName] += ak.sum(vtx_matched_events.genWgt)/ak.sum(events.genWgt)\n",
      "/uscms_data/d3/kyungmip/CMSSW_10_6_26/src/iDMe/python_analysis/studies/Ntuple_Update_April/../../analysisTools/analysisTools.py:321: RuntimeWarning: invalid value encountered in scalar divide\n",
      "  cutflow_vtx_matched[cutName] += ak.sum(vtx_matched_events.genWgt)/ak.sum(events.genWgt)\n",
      "/uscms_data/d3/kyungmip/CMSSW_10_6_26/src/iDMe/python_analysis/studies/Ntuple_Update_April/../../analysisTools/analysisTools.py:321: RuntimeWarning: invalid value encountered in scalar divide\n",
      "  cutflow_vtx_matched[cutName] += ak.sum(vtx_matched_events.genWgt)/ak.sum(events.genWgt)\n",
      "/uscms_data/d3/kyungmip/CMSSW_10_6_26/src/iDMe/python_analysis/studies/Ntuple_Update_April/../../analysisTools/analysisTools.py:321: RuntimeWarning: invalid value encountered in scalar divide\n",
      "  cutflow_vtx_matched[cutName] += ak.sum(vtx_matched_events.genWgt)/ak.sum(events.genWgt)\n",
      "/uscms_data/d3/kyungmip/CMSSW_10_6_26/src/iDMe/python_analysis/studies/Ntuple_Update_April/../../analysisTools/analysisTools.py:321: RuntimeWarning: invalid value encountered in scalar divide\n",
      "  cutflow_vtx_matched[cutName] += ak.sum(vtx_matched_events.genWgt)/ak.sum(events.genWgt)\n",
      "/uscms_data/d3/kyungmip/CMSSW_10_6_26/src/iDMe/python_analysis/studies/Ntuple_Update_April/../../analysisTools/analysisTools.py:321: RuntimeWarning: invalid value encountered in scalar divide\n",
      "  cutflow_vtx_matched[cutName] += ak.sum(vtx_matched_events.genWgt)/ak.sum(events.genWgt)\n",
      "/uscms_data/d3/kyungmip/CMSSW_10_6_26/src/iDMe/python_analysis/studies/Ntuple_Update_April/../../analysisTools/analysisTools.py:321: RuntimeWarning: invalid value encountered in scalar divide\n",
      "  cutflow_vtx_matched[cutName] += ak.sum(vtx_matched_events.genWgt)/ak.sum(events.genWgt)\n",
      "/uscms_data/d3/kyungmip/CMSSW_10_6_26/src/iDMe/python_analysis/studies/Ntuple_Update_April/../../analysisTools/analysisTools.py:321: RuntimeWarning: invalid value encountered in scalar divide\n",
      "  cutflow_vtx_matched[cutName] += ak.sum(vtx_matched_events.genWgt)/ak.sum(events.genWgt)\n",
      "/uscms_data/d3/kyungmip/CMSSW_10_6_26/src/iDMe/python_analysis/studies/Ntuple_Update_April/../../analysisTools/analysisTools.py:321: RuntimeWarning: invalid value encountered in scalar divide\n",
      "  cutflow_vtx_matched[cutName] += ak.sum(vtx_matched_events.genWgt)/ak.sum(events.genWgt)\n",
      "/uscms_data/d3/kyungmip/CMSSW_10_6_26/src/iDMe/python_analysis/studies/Ntuple_Update_April/../../analysisTools/analysisTools.py:321: RuntimeWarning: invalid value encountered in scalar divide\n",
      "  cutflow_vtx_matched[cutName] += ak.sum(vtx_matched_events.genWgt)/ak.sum(events.genWgt)\n",
      "/uscms_data/d3/kyungmip/CMSSW_10_6_26/src/iDMe/python_analysis/studies/Ntuple_Update_April/../../analysisTools/analysisTools.py:321: RuntimeWarning: invalid value encountered in scalar divide\n",
      "  cutflow_vtx_matched[cutName] += ak.sum(vtx_matched_events.genWgt)/ak.sum(events.genWgt)\n",
      "/uscms_data/d3/kyungmip/CMSSW_10_6_26/src/iDMe/python_analysis/studies/Ntuple_Update_April/../../analysisTools/analysisTools.py:321: RuntimeWarning: invalid value encountered in scalar divide\n",
      "  cutflow_vtx_matched[cutName] += ak.sum(vtx_matched_events.genWgt)/ak.sum(events.genWgt)\n",
      "/uscms_data/d3/kyungmip/CMSSW_10_6_26/src/iDMe/python_analysis/studies/Ntuple_Update_April/../../analysisTools/analysisTools.py:321: RuntimeWarning: invalid value encountered in scalar divide\n",
      "  cutflow_vtx_matched[cutName] += ak.sum(vtx_matched_events.genWgt)/ak.sum(events.genWgt)\n",
      "/uscms_data/d3/kyungmip/CMSSW_10_6_26/src/iDMe/python_analysis/studies/Ntuple_Update_April/../../analysisTools/analysisTools.py:321: RuntimeWarning: invalid value encountered in scalar divide\n",
      "  cutflow_vtx_matched[cutName] += ak.sum(vtx_matched_events.genWgt)/ak.sum(events.genWgt)\n",
      "/uscms_data/d3/kyungmip/CMSSW_10_6_26/src/iDMe/python_analysis/studies/Ntuple_Update_April/../../analysisTools/analysisTools.py:321: RuntimeWarning: invalid value encountered in scalar divide\n",
      "  cutflow_vtx_matched[cutName] += ak.sum(vtx_matched_events.genWgt)/ak.sum(events.genWgt)\n",
      "/uscms_data/d3/kyungmip/CMSSW_10_6_26/src/iDMe/python_analysis/studies/Ntuple_Update_April/../../analysisTools/analysisTools.py:321: RuntimeWarning: invalid value encountered in scalar divide\n",
      "  cutflow_vtx_matched[cutName] += ak.sum(vtx_matched_events.genWgt)/ak.sum(events.genWgt)\n",
      "/uscms_data/d3/kyungmip/CMSSW_10_6_26/src/iDMe/python_analysis/studies/Ntuple_Update_April/../../analysisTools/analysisTools.py:321: RuntimeWarning: invalid value encountered in scalar divide\n",
      "  cutflow_vtx_matched[cutName] += ak.sum(vtx_matched_events.genWgt)/ak.sum(events.genWgt)\n",
      "/uscms_data/d3/kyungmip/CMSSW_10_6_26/src/iDMe/python_analysis/studies/Ntuple_Update_April/../../analysisTools/analysisTools.py:321: RuntimeWarning: invalid value encountered in scalar divide\n",
      "  cutflow_vtx_matched[cutName] += ak.sum(vtx_matched_events.genWgt)/ak.sum(events.genWgt)\n",
      "/uscms_data/d3/kyungmip/CMSSW_10_6_26/src/iDMe/python_analysis/studies/Ntuple_Update_April/../../analysisTools/analysisTools.py:321: RuntimeWarning: invalid value encountered in scalar divide\n",
      "  cutflow_vtx_matched[cutName] += ak.sum(vtx_matched_events.genWgt)/ak.sum(events.genWgt)\n",
      "/uscms_data/d3/kyungmip/CMSSW_10_6_26/src/iDMe/python_analysis/studies/Ntuple_Update_April/../../analysisTools/analysisTools.py:321: RuntimeWarning: invalid value encountered in scalar divide\n",
      "  cutflow_vtx_matched[cutName] += ak.sum(vtx_matched_events.genWgt)/ak.sum(events.genWgt)\n",
      "/uscms_data/d3/kyungmip/CMSSW_10_6_26/src/iDMe/python_analysis/studies/Ntuple_Update_April/../../analysisTools/analysisTools.py:321: RuntimeWarning: invalid value encountered in scalar divide\n",
      "  cutflow_vtx_matched[cutName] += ak.sum(vtx_matched_events.genWgt)/ak.sum(events.genWgt)\n",
      "/uscms_data/d3/kyungmip/CMSSW_10_6_26/src/iDMe/python_analysis/studies/Ntuple_Update_April/../../analysisTools/analysisTools.py:321: RuntimeWarning: invalid value encountered in scalar divide\n",
      "  cutflow_vtx_matched[cutName] += ak.sum(vtx_matched_events.genWgt)/ak.sum(events.genWgt)\n",
      "/uscms_data/d3/kyungmip/CMSSW_10_6_26/src/iDMe/python_analysis/studies/Ntuple_Update_April/../../analysisTools/analysisTools.py:321: RuntimeWarning: invalid value encountered in scalar divide\n",
      "  cutflow_vtx_matched[cutName] += ak.sum(vtx_matched_events.genWgt)/ak.sum(events.genWgt)\n",
      "/uscms_data/d3/kyungmip/CMSSW_10_6_26/src/iDMe/python_analysis/studies/Ntuple_Update_April/../../analysisTools/analysisTools.py:321: RuntimeWarning: invalid value encountered in scalar divide\n",
      "  cutflow_vtx_matched[cutName] += ak.sum(vtx_matched_events.genWgt)/ak.sum(events.genWgt)\n",
      "/uscms_data/d3/kyungmip/CMSSW_10_6_26/src/iDMe/python_analysis/studies/Ntuple_Update_April/../../analysisTools/analysisTools.py:321: RuntimeWarning: invalid value encountered in scalar divide\n",
      "  cutflow_vtx_matched[cutName] += ak.sum(vtx_matched_events.genWgt)/ak.sum(events.genWgt)\n",
      "/uscms_data/d3/kyungmip/CMSSW_10_6_26/src/iDMe/python_analysis/studies/Ntuple_Update_April/../../analysisTools/analysisTools.py:321: RuntimeWarning: invalid value encountered in scalar divide\n",
      "  cutflow_vtx_matched[cutName] += ak.sum(vtx_matched_events.genWgt)/ak.sum(events.genWgt)\n",
      "/uscms_data/d3/kyungmip/CMSSW_10_6_26/src/iDMe/python_analysis/studies/Ntuple_Update_April/../../analysisTools/analysisTools.py:321: RuntimeWarning: invalid value encountered in scalar divide\n",
      "  cutflow_vtx_matched[cutName] += ak.sum(vtx_matched_events.genWgt)/ak.sum(events.genWgt)\n",
      "/uscms_data/d3/kyungmip/CMSSW_10_6_26/src/iDMe/python_analysis/studies/Ntuple_Update_April/../../analysisTools/analysisTools.py:321: RuntimeWarning: invalid value encountered in scalar divide\n",
      "  cutflow_vtx_matched[cutName] += ak.sum(vtx_matched_events.genWgt)/ak.sum(events.genWgt)\n",
      "/uscms_data/d3/kyungmip/CMSSW_10_6_26/src/iDMe/python_analysis/studies/Ntuple_Update_April/../../analysisTools/analysisTools.py:321: RuntimeWarning: invalid value encountered in scalar divide\n",
      "  cutflow_vtx_matched[cutName] += ak.sum(vtx_matched_events.genWgt)/ak.sum(events.genWgt)\n",
      "/uscms_data/d3/kyungmip/CMSSW_10_6_26/src/iDMe/python_analysis/studies/Ntuple_Update_April/../../analysisTools/analysisTools.py:321: RuntimeWarning: invalid value encountered in scalar divide\n",
      "  cutflow_vtx_matched[cutName] += ak.sum(vtx_matched_events.genWgt)/ak.sum(events.genWgt)\n",
      "/uscms_data/d3/kyungmip/CMSSW_10_6_26/src/iDMe/python_analysis/studies/Ntuple_Update_April/../../analysisTools/analysisTools.py:321: RuntimeWarning: invalid value encountered in scalar divide\n",
      "  cutflow_vtx_matched[cutName] += ak.sum(vtx_matched_events.genWgt)/ak.sum(events.genWgt)\n",
      "/uscms_data/d3/kyungmip/CMSSW_10_6_26/src/iDMe/python_analysis/studies/Ntuple_Update_April/../../analysisTools/analysisTools.py:321: RuntimeWarning: invalid value encountered in scalar divide\n",
      "  cutflow_vtx_matched[cutName] += ak.sum(vtx_matched_events.genWgt)/ak.sum(events.genWgt)\n",
      "/uscms_data/d3/kyungmip/CMSSW_10_6_26/src/iDMe/python_analysis/studies/Ntuple_Update_April/../../analysisTools/analysisTools.py:321: RuntimeWarning: invalid value encountered in scalar divide\n",
      "  cutflow_vtx_matched[cutName] += ak.sum(vtx_matched_events.genWgt)/ak.sum(events.genWgt)\n",
      "/uscms_data/d3/kyungmip/CMSSW_10_6_26/src/iDMe/python_analysis/studies/Ntuple_Update_April/../../analysisTools/analysisTools.py:321: RuntimeWarning: invalid value encountered in scalar divide\n",
      "  cutflow_vtx_matched[cutName] += ak.sum(vtx_matched_events.genWgt)/ak.sum(events.genWgt)\n",
      "/uscms_data/d3/kyungmip/CMSSW_10_6_26/src/iDMe/python_analysis/studies/Ntuple_Update_April/../../analysisTools/analysisTools.py:321: RuntimeWarning: invalid value encountered in scalar divide\n",
      "  cutflow_vtx_matched[cutName] += ak.sum(vtx_matched_events.genWgt)/ak.sum(events.genWgt)\n",
      "/uscms_data/d3/kyungmip/CMSSW_10_6_26/src/iDMe/python_analysis/studies/Ntuple_Update_April/../../analysisTools/analysisTools.py:321: RuntimeWarning: invalid value encountered in scalar divide\n",
      "  cutflow_vtx_matched[cutName] += ak.sum(vtx_matched_events.genWgt)/ak.sum(events.genWgt)\n",
      "/uscms_data/d3/kyungmip/CMSSW_10_6_26/src/iDMe/python_analysis/studies/Ntuple_Update_April/../../analysisTools/analysisTools.py:321: RuntimeWarning: invalid value encountered in scalar divide\n",
      "  cutflow_vtx_matched[cutName] += ak.sum(vtx_matched_events.genWgt)/ak.sum(events.genWgt)\n",
      "/uscms_data/d3/kyungmip/CMSSW_10_6_26/src/iDMe/python_analysis/studies/Ntuple_Update_April/../../analysisTools/analysisTools.py:321: RuntimeWarning: invalid value encountered in scalar divide\n",
      "  cutflow_vtx_matched[cutName] += ak.sum(vtx_matched_events.genWgt)/ak.sum(events.genWgt)\n",
      "/uscms_data/d3/kyungmip/CMSSW_10_6_26/src/iDMe/python_analysis/studies/Ntuple_Update_April/../../analysisTools/analysisTools.py:321: RuntimeWarning: invalid value encountered in scalar divide\n",
      "  cutflow_vtx_matched[cutName] += ak.sum(vtx_matched_events.genWgt)/ak.sum(events.genWgt)\n",
      "/uscms_data/d3/kyungmip/CMSSW_10_6_26/src/iDMe/python_analysis/studies/Ntuple_Update_April/../../analysisTools/analysisTools.py:321: RuntimeWarning: invalid value encountered in scalar divide\n",
      "  cutflow_vtx_matched[cutName] += ak.sum(vtx_matched_events.genWgt)/ak.sum(events.genWgt)\n",
      "/uscms_data/d3/kyungmip/CMSSW_10_6_26/src/iDMe/python_analysis/studies/Ntuple_Update_April/../../analysisTools/analysisTools.py:321: RuntimeWarning: invalid value encountered in scalar divide\n",
      "  cutflow_vtx_matched[cutName] += ak.sum(vtx_matched_events.genWgt)/ak.sum(events.genWgt)\n",
      "/uscms_data/d3/kyungmip/CMSSW_10_6_26/src/iDMe/python_analysis/studies/Ntuple_Update_April/../../analysisTools/analysisTools.py:321: RuntimeWarning: invalid value encountered in scalar divide\n",
      "  cutflow_vtx_matched[cutName] += ak.sum(vtx_matched_events.genWgt)/ak.sum(events.genWgt)\n",
      "/uscms_data/d3/kyungmip/CMSSW_10_6_26/src/iDMe/python_analysis/studies/Ntuple_Update_April/../../analysisTools/analysisTools.py:321: RuntimeWarning: invalid value encountered in scalar divide\n",
      "  cutflow_vtx_matched[cutName] += ak.sum(vtx_matched_events.genWgt)/ak.sum(events.genWgt)\n",
      "/uscms_data/d3/kyungmip/CMSSW_10_6_26/src/iDMe/python_analysis/studies/Ntuple_Update_April/../../analysisTools/analysisTools.py:321: RuntimeWarning: invalid value encountered in scalar divide\n",
      "  cutflow_vtx_matched[cutName] += ak.sum(vtx_matched_events.genWgt)/ak.sum(events.genWgt)\n",
      "/uscms_data/d3/kyungmip/CMSSW_10_6_26/src/iDMe/python_analysis/studies/Ntuple_Update_April/../../analysisTools/analysisTools.py:321: RuntimeWarning: invalid value encountered in scalar divide\n",
      "  cutflow_vtx_matched[cutName] += ak.sum(vtx_matched_events.genWgt)/ak.sum(events.genWgt)\n",
      "/uscms_data/d3/kyungmip/CMSSW_10_6_26/src/iDMe/python_analysis/studies/Ntuple_Update_April/../../analysisTools/analysisTools.py:321: RuntimeWarning: invalid value encountered in scalar divide\n",
      "  cutflow_vtx_matched[cutName] += ak.sum(vtx_matched_events.genWgt)/ak.sum(events.genWgt)\n",
      "/uscms_data/d3/kyungmip/CMSSW_10_6_26/src/iDMe/python_analysis/studies/Ntuple_Update_April/../../analysisTools/analysisTools.py:321: RuntimeWarning: invalid value encountered in scalar divide\n",
      "  cutflow_vtx_matched[cutName] += ak.sum(vtx_matched_events.genWgt)/ak.sum(events.genWgt)\n",
      "/uscms_data/d3/kyungmip/CMSSW_10_6_26/src/iDMe/python_analysis/studies/Ntuple_Update_April/../../analysisTools/analysisTools.py:321: RuntimeWarning: invalid value encountered in scalar divide\n",
      "  cutflow_vtx_matched[cutName] += ak.sum(vtx_matched_events.genWgt)/ak.sum(events.genWgt)\n",
      "/uscms_data/d3/kyungmip/CMSSW_10_6_26/src/iDMe/python_analysis/studies/Ntuple_Update_April/../../analysisTools/analysisTools.py:321: RuntimeWarning: invalid value encountered in scalar divide\n",
      "  cutflow_vtx_matched[cutName] += ak.sum(vtx_matched_events.genWgt)/ak.sum(events.genWgt)\n",
      "/uscms_data/d3/kyungmip/CMSSW_10_6_26/src/iDMe/python_analysis/studies/Ntuple_Update_April/../../analysisTools/analysisTools.py:321: RuntimeWarning: invalid value encountered in scalar divide\n",
      "  cutflow_vtx_matched[cutName] += ak.sum(vtx_matched_events.genWgt)/ak.sum(events.genWgt)\n",
      "/uscms_data/d3/kyungmip/CMSSW_10_6_26/src/iDMe/python_analysis/studies/Ntuple_Update_April/../../analysisTools/analysisTools.py:321: RuntimeWarning: invalid value encountered in scalar divide\n",
      "  cutflow_vtx_matched[cutName] += ak.sum(vtx_matched_events.genWgt)/ak.sum(events.genWgt)\n",
      "/uscms_data/d3/kyungmip/CMSSW_10_6_26/src/iDMe/python_analysis/studies/Ntuple_Update_April/../../analysisTools/analysisTools.py:321: RuntimeWarning: invalid value encountered in scalar divide\n",
      "  cutflow_vtx_matched[cutName] += ak.sum(vtx_matched_events.genWgt)/ak.sum(events.genWgt)\n",
      "/uscms_data/d3/kyungmip/CMSSW_10_6_26/src/iDMe/python_analysis/studies/Ntuple_Update_April/../../analysisTools/analysisTools.py:321: RuntimeWarning: invalid value encountered in scalar divide\n",
      "  cutflow_vtx_matched[cutName] += ak.sum(vtx_matched_events.genWgt)/ak.sum(events.genWgt)\n",
      "/uscms_data/d3/kyungmip/CMSSW_10_6_26/src/iDMe/python_analysis/studies/Ntuple_Update_April/../../analysisTools/analysisTools.py:321: RuntimeWarning: invalid value encountered in scalar divide\n",
      "  cutflow_vtx_matched[cutName] += ak.sum(vtx_matched_events.genWgt)/ak.sum(events.genWgt)\n",
      "/uscms_data/d3/kyungmip/CMSSW_10_6_26/src/iDMe/python_analysis/studies/Ntuple_Update_April/../../analysisTools/analysisTools.py:321: RuntimeWarning: invalid value encountered in scalar divide\n",
      "  cutflow_vtx_matched[cutName] += ak.sum(vtx_matched_events.genWgt)/ak.sum(events.genWgt)\n",
      "/uscms_data/d3/kyungmip/CMSSW_10_6_26/src/iDMe/python_analysis/studies/Ntuple_Update_April/../../analysisTools/analysisTools.py:321: RuntimeWarning: invalid value encountered in scalar divide\n",
      "  cutflow_vtx_matched[cutName] += ak.sum(vtx_matched_events.genWgt)/ak.sum(events.genWgt)\n",
      "/uscms_data/d3/kyungmip/CMSSW_10_6_26/src/iDMe/python_analysis/studies/Ntuple_Update_April/../../analysisTools/analysisTools.py:321: RuntimeWarning: invalid value encountered in scalar divide\n",
      "  cutflow_vtx_matched[cutName] += ak.sum(vtx_matched_events.genWgt)/ak.sum(events.genWgt)\n",
      "/uscms_data/d3/kyungmip/CMSSW_10_6_26/src/iDMe/python_analysis/studies/Ntuple_Update_April/../../analysisTools/analysisTools.py:321: RuntimeWarning: invalid value encountered in scalar divide\n",
      "  cutflow_vtx_matched[cutName] += ak.sum(vtx_matched_events.genWgt)/ak.sum(events.genWgt)\n"
     ]
    },
    {
     "data": {
      "text/html": [
       "<pre style=\"white-space:pre;overflow-x:auto;line-height:normal;font-family:Menlo,'DejaVu Sans Mono',consolas,'Courier New',monospace\"></pre>\n"
      ],
      "text/plain": []
     },
     "metadata": {},
     "output_type": "display_data"
    },
    {
     "data": {
      "text/html": [
       "<pre style=\"white-space:pre;overflow-x:auto;line-height:normal;font-family:Menlo,'DejaVu Sans Mono',consolas,'Courier New',monospace\">\n",
       "</pre>\n"
      ],
      "text/plain": [
       "\n"
      ]
     },
     "metadata": {},
     "output_type": "display_data"
    },
    {
     "name": "stdout",
     "output_type": "stream",
     "text": [
      "Runtime: 2.673364229996999 minutes\n"
     ]
    }
   ],
   "source": [
    "test = Analyzer(sample_config, histos_config, cuts_config)\n",
    "t1 = time.time()\n",
    "out = test.process(execr='futures', workers=4)\n",
    "t2 = time.time()\n",
    "print(f\"Runtime: {(t2-t1)/60} minutes\")\n",
    "util.save(out,f\"{outdir}/signal_VR_v9_MINIAOD_NewXclean_NewXsec.coffea\")\n",
    "del out, test"
   ]
  },
  {
   "cell_type": "markdown",
   "id": "04cd54bd-184a-4a30-a877-9be8d21009a9",
   "metadata": {},
   "source": [
    "## SR: Tighter dPhi(MET, leading jet) cut"
   ]
  },
  {
   "cell_type": "code",
   "execution_count": 3,
   "id": "2dde2f5d-4244-4cee-8689-0a34f4c7ef9b",
   "metadata": {},
   "outputs": [],
   "source": [
    "cuts_config = \"./cut_configs/SR_BDT_OneBin_minDxyCut_dPhiTight.py\""
   ]
  },
  {
   "cell_type": "code",
   "execution_count": 4,
   "id": "f30cc84e-8976-46e4-a3c4-d340ad0158ed",
   "metadata": {},
   "outputs": [],
   "source": [
    "sample_config = \"./sample_configs/skimmed_signal_v9_miniAOD_2018_aEM.json\" # v9 signal; MINIAOD & new cross-cleaning & new xsec\n",
    "histos_config = \"./histo_configs/BDTvariables.py\" # old histogramming framework"
   ]
  },
  {
   "cell_type": "code",
   "execution_count": 5,
   "id": "3e8804d8-abb8-492d-b62e-a9a79857a48a",
   "metadata": {
    "scrolled": true
   },
   "outputs": [
    {
     "data": {
      "application/vnd.jupyter.widget-view+json": {
       "model_id": "c6fe5d1b081b4de1b9168d40a07e0646",
       "version_major": 2,
       "version_minor": 0
      },
      "text/plain": [
       "Output()"
      ]
     },
     "metadata": {},
     "output_type": "display_data"
    },
    {
     "data": {
      "text/html": [
       "<pre style=\"white-space:pre;overflow-x:auto;line-height:normal;font-family:Menlo,'DejaVu Sans Mono',consolas,'Courier New',monospace\"></pre>\n"
      ],
      "text/plain": []
     },
     "metadata": {},
     "output_type": "display_data"
    },
    {
     "data": {
      "text/html": [
       "<pre style=\"white-space:pre;overflow-x:auto;line-height:normal;font-family:Menlo,'DejaVu Sans Mono',consolas,'Courier New',monospace\">\n",
       "</pre>\n"
      ],
      "text/plain": [
       "\n"
      ]
     },
     "metadata": {},
     "output_type": "display_data"
    },
    {
     "data": {
      "application/vnd.jupyter.widget-view+json": {
       "model_id": "0f7948f348ad42ef81f3de1f5bdfa943",
       "version_major": 2,
       "version_minor": 0
      },
      "text/plain": [
       "Output()"
      ]
     },
     "metadata": {},
     "output_type": "display_data"
    },
    {
     "name": "stdout",
     "output_type": "stream",
     "text": [
      "BDT Pass: 3010/3437\n",
      "BDT Pass: 3210/3605\n",
      "BDT Pass: 8531/9605\n",
      "BDT Pass: 7164/8746\n",
      "BDT Pass: 1360/1533\n",
      "BDT Pass: 2025/2241\n",
      "BDT Pass: 10973/12181\n",
      "BDT Pass: 8461/10148\n",
      "BDT Pass: 1071/1199\n",
      "BDT Pass: 3229/3545\n",
      "BDT Pass: 2802/3352\n",
      "BDT Pass: 1040/1156\n",
      "BDT Pass: 2812/3080\n",
      "BDT Pass: 3205/3727\n",
      "BDT Pass: 846/938\n",
      "BDT Pass: 2822/3080\n",
      "BDT Pass: 2454/2869\n",
      "BDT Pass: 729/800\n",
      "BDT Pass: 36/54\n",
      "BDT Pass: 2014/2170\n",
      "BDT Pass: 252/316\n",
      "BDT Pass: 2082/2413\n",
      "BDT Pass: 501/596\n",
      "BDT Pass: 82/179\n",
      "BDT Pass: 187/316\n",
      "BDT Pass: 184/316\n",
      "BDT Pass: 887/926\n",
      "BDT Pass: 699/764\n",
      "BDT Pass: 200/213\n",
      "BDT Pass: 1214/1332\n",
      "BDT Pass: 2078/2371\n",
      "BDT Pass: 982/1058\n",
      "BDT Pass: 2503/2661\n",
      "BDT Pass: 2221/2315\n",
      "BDT Pass: 1128/1250\n",
      "BDT Pass: 1935/2098\n",
      "BDT Pass: 2119/2249\n",
      "BDT Pass: 1753/1989BDT Pass: 440/464\n",
      "\n",
      "BDT Pass: 1777/1838\n",
      "BDT Pass: 1910/2074\n",
      "BDT Pass: 1706/1828\n",
      "BDT Pass: 901/1024\n",
      "BDT Pass: 1434/1623\n",
      "BDT Pass: 431/477\n",
      "BDT Pass: 391/458\n",
      "BDT Pass: 1447/1549\n",
      "BDT Pass: 898/985\n",
      "BDT Pass: 1648/1729\n",
      "BDT Pass: 235/288\n",
      "BDT Pass: 1005/1124\n",
      "BDT Pass: 954/1030\n",
      "BDT Pass: 1124/1214\n",
      "BDT Pass: 1769/2022\n",
      "BDT Pass: 278/378\n",
      "BDT Pass: 5010/5683BDT Pass: 715/873\n",
      "BDT Pass: 4040/5050\n",
      "BDT Pass: 838/983\n",
      "BDT Pass: 965/1179\n",
      "BDT Pass: 3990/4516\n",
      "BDT Pass: 9327/10432\n"
     ]
    },
    {
     "data": {
      "text/html": [
       "<pre style=\"white-space:pre;overflow-x:auto;line-height:normal;font-family:Menlo,'DejaVu Sans Mono',consolas,'Courier New',monospace\"></pre>\n"
      ],
      "text/plain": []
     },
     "metadata": {},
     "output_type": "display_data"
    },
    {
     "data": {
      "text/html": [
       "<pre style=\"white-space:pre;overflow-x:auto;line-height:normal;font-family:Menlo,'DejaVu Sans Mono',consolas,'Courier New',monospace\">\n",
       "</pre>\n"
      ],
      "text/plain": [
       "\n"
      ]
     },
     "metadata": {},
     "output_type": "display_data"
    },
    {
     "name": "stdout",
     "output_type": "stream",
     "text": [
      "Runtime: 2.3557426571846007 minutes\n"
     ]
    }
   ],
   "source": [
    "test = Analyzer(sample_config, histos_config, cuts_config)\n",
    "t1 = time.time()\n",
    "out = test.process(execr='futures', workers=4)\n",
    "t2 = time.time()\n",
    "print(f\"Runtime: {(t2-t1)/60} minutes\")\n",
    "util.save(out,f\"{outdir}/signal_v5_goodvtx_SR_dPhiTight.coffea\")\n",
    "del out, test"
   ]
  },
  {
   "cell_type": "markdown",
   "id": "c0386d2a-9699-4903-9620-94105baa74ed",
   "metadata": {},
   "source": [
    "## SR"
   ]
  },
  {
   "cell_type": "markdown",
   "id": "9d1bca0d-928c-4671-b836-63b6cc6e3733",
   "metadata": {},
   "source": [
    "#### Configs"
   ]
  },
  {
   "cell_type": "code",
   "execution_count": 3,
   "id": "a2b371d8-ebc4-4d4b-b5d1-f3c7abe6ef9f",
   "metadata": {},
   "outputs": [],
   "source": [
    "cuts_config = \"./cut_configs/SR_BDT_OneBin_minDxyCut.py\"\n",
    "#cuts_config = \"./cut_configs/dummy_cut.py\""
   ]
  },
  {
   "cell_type": "markdown",
   "id": "333c3e9e-b450-4fac-bbbd-8f38e42a3fa1",
   "metadata": {},
   "source": [
    "#### Run signal v9: MINIAOD & new xclean & another new xsec (similar to old xsec) & miniISO `None` good_vtx definition"
   ]
  },
  {
   "cell_type": "code",
   "execution_count": 9,
   "id": "03222f15-b6d3-4885-9384-9208e5495294",
   "metadata": {},
   "outputs": [],
   "source": [
    "sample_config = \"./sample_configs/skimmed_signal_v9_miniAOD_2018_aEM.json\" # v9 signal; MINIAOD & new cross-cleaning & new xsec\n",
    "#histos_config = \"./histo_configs/histos.py\" # new histogramming framework\n",
    "histos_config = \"./histo_configs/BDTvariables.py\" # old histogramming framework"
   ]
  },
  {
   "cell_type": "code",
   "execution_count": 10,
   "id": "2c6c332d-0c00-48e7-a308-cb66075b7510",
   "metadata": {
    "scrolled": true
   },
   "outputs": [
    {
     "data": {
      "application/vnd.jupyter.widget-view+json": {
       "model_id": "944fe8e693d743809a9e517fdecc3ec8",
       "version_major": 2,
       "version_minor": 0
      },
      "text/plain": [
       "Output()"
      ]
     },
     "metadata": {},
     "output_type": "display_data"
    },
    {
     "name": "stdout",
     "output_type": "stream",
     "text": [
      "BDT Pass: 3396/5088\n",
      "BDT Pass: 3492/5627\n",
      "BDT Pass: 9162/12051\n",
      "BDT Pass: 7570/10613\n",
      "BDT Pass: 1514/2264\n",
      "BDT Pass: 2174/2829\n",
      "BDT Pass: 11598/15921\n",
      "BDT Pass: 1167/1917\n",
      "BDT Pass: 8889/13068\n",
      "BDT Pass: 3427/4725\n",
      "BDT Pass: 1166/1760\n",
      "BDT Pass: 2955/4366\n",
      "BDT Pass: 3021/3869\n",
      "BDT Pass: 2970/4092\n",
      "BDT Pass: 920/1570\n",
      "BDT Pass: 3379/4547\n",
      "BDT Pass: 2143/2962\n",
      "BDT Pass: 778/1314\n",
      "BDT Pass: 2581/3835\n",
      "BDT Pass: 2191/3216\n",
      "BDT Pass: 41/131\n",
      "BDT Pass: 285/486\n",
      "BDT Pass: 541/867\n",
      "BDT Pass: 96/570\n",
      "BDT Pass: 212/602\n",
      "BDT Pass: 218/566\n",
      "BDT Pass: 793/1197\n",
      "BDT Pass: 942/1218BDT Pass: 209/253\n",
      "\n",
      "BDT Pass: 1320/2281\n",
      "BDT Pass: 2647/3674\n",
      "BDT Pass: 1063/1635\n",
      "BDT Pass: 2187/3190\n",
      "BDT Pass: 2360/2986\n",
      "BDT Pass: 1219/2175\n",
      "BDT Pass: 2251/3042BDT Pass: 2015/2624\n",
      "\n",
      "BDT Pass: 476/758\n",
      "BDT Pass: 1895/2407\n",
      "BDT Pass: 2006/2611\n",
      "BDT Pass: 1853/2698\n",
      "BDT Pass: 953/1853\n",
      "BDT Pass: 1813/2568\n",
      "BDT Pass: 1527/2236\n",
      "BDT Pass: 1753/2322\n",
      "BDT Pass: 417/844\n",
      "BDT Pass: 1506/1990\n",
      "BDT Pass: 942/1466\n",
      "BDT Pass: 251/506\n",
      "BDT Pass: 1071/1580\n",
      "BDT Pass: 1011/1458\n",
      "BDT Pass: 1179/1604\n",
      "BDT Pass: 1987/2968\n",
      "BDT Pass: 314/866\n",
      "BDT Pass: 5402/7097\n",
      "BDT Pass: 760/1387\n",
      "BDT Pass: 4298/6075\n",
      "BDT Pass: 927/1512\n",
      "BDT Pass: 1024/1528\n",
      "BDT Pass: 4334/6893\n",
      "BDT Pass: 9921/13723\n"
     ]
    },
    {
     "data": {
      "text/html": [
       "<pre style=\"white-space:pre;overflow-x:auto;line-height:normal;font-family:Menlo,'DejaVu Sans Mono',consolas,'Courier New',monospace\"></pre>\n"
      ],
      "text/plain": []
     },
     "metadata": {},
     "output_type": "display_data"
    },
    {
     "data": {
      "text/html": [
       "<pre style=\"white-space:pre;overflow-x:auto;line-height:normal;font-family:Menlo,'DejaVu Sans Mono',consolas,'Courier New',monospace\">\n",
       "</pre>\n"
      ],
      "text/plain": [
       "\n"
      ]
     },
     "metadata": {},
     "output_type": "display_data"
    },
    {
     "name": "stdout",
     "output_type": "stream",
     "text": [
      "Runtime: 2.635729352633158 minutes\n"
     ]
    }
   ],
   "source": [
    "test = Analyzer(sample_config, histos_config, cuts_config)\n",
    "t1 = time.time()\n",
    "out = test.process(execr='futures', workers=4)\n",
    "t2 = time.time()\n",
    "print(f\"Runtime: {(t2-t1)/60} minutes\")\n",
    "util.save(out,f\"{outdir}/signal_v9_MINIAOD_NewXclean_NewXsec.coffea\")\n",
    "del out, test"
   ]
  },
  {
   "cell_type": "code",
   "execution_count": null,
   "id": "eee79edd-2218-4f97-a3f1-96da3557a366",
   "metadata": {},
   "outputs": [],
   "source": []
  },
  {
   "cell_type": "markdown",
   "id": "e1af323d-b05f-419a-9912-0249cd7b4cf5",
   "metadata": {},
   "source": [
    "#### Run signal v9: MINIAOD & new xclean & another new xsec (similar to old xsec) & miniISO + `default` good_vtx definition"
   ]
  },
  {
   "cell_type": "code",
   "execution_count": 4,
   "id": "03286420-3afe-42a4-8c9c-647749fd1a27",
   "metadata": {},
   "outputs": [],
   "source": [
    "sample_config = \"./sample_configs/skimmed_signal_v9_miniAOD_2018_aEM.json\" # v9 signal; MINIAOD & new cross-cleaning & new xsec\n",
    "#histos_config = \"./histo_configs/histos.py\" # new histogramming framework\n",
    "histos_config = \"./histo_configs/BDTvariables.py\" # old histogramming framework"
   ]
  },
  {
   "cell_type": "code",
   "execution_count": 5,
   "id": "c730206d-d27c-445f-b8f7-648e2f77e05f",
   "metadata": {
    "scrolled": true
   },
   "outputs": [
    {
     "data": {
      "application/vnd.jupyter.widget-view+json": {
       "model_id": "ddf2be01bfde404d886afc6e86ef5cf6",
       "version_major": 2,
       "version_minor": 0
      },
      "text/plain": [
       "Output()"
      ]
     },
     "metadata": {},
     "output_type": "display_data"
    },
    {
     "data": {
      "text/html": [
       "<pre style=\"white-space:pre;overflow-x:auto;line-height:normal;font-family:Menlo,'DejaVu Sans Mono',consolas,'Courier New',monospace\"></pre>\n"
      ],
      "text/plain": []
     },
     "metadata": {},
     "output_type": "display_data"
    },
    {
     "data": {
      "text/html": [
       "<pre style=\"white-space:pre;overflow-x:auto;line-height:normal;font-family:Menlo,'DejaVu Sans Mono',consolas,'Courier New',monospace\">\n",
       "</pre>\n"
      ],
      "text/plain": [
       "\n"
      ]
     },
     "metadata": {},
     "output_type": "display_data"
    },
    {
     "data": {
      "application/vnd.jupyter.widget-view+json": {
       "model_id": "30acda0e265f40d8a5d714a114ed5e69",
       "version_major": 2,
       "version_minor": 0
      },
      "text/plain": [
       "Output()"
      ]
     },
     "metadata": {},
     "output_type": "display_data"
    },
    {
     "name": "stdout",
     "output_type": "stream",
     "text": [
      "BDT Pass: 3191/4150\n",
      "BDT Pass: 3421/4493\n",
      "BDT Pass: 9034/10913\n",
      "BDT Pass: 7609/9879\n",
      "BDT Pass: 1447/1830\n",
      "BDT Pass: 2151/2556\n",
      "BDT Pass: 11682/14218\n",
      "BDT Pass: 1138/1523\n",
      "BDT Pass: 9015/11838\n",
      "BDT Pass: 3457/4179\n",
      "BDT Pass: 1114/1421\n",
      "BDT Pass: 3010/3542\n",
      "BDT Pass: 3014/3933\n",
      "BDT Pass: 909/1229\n",
      "BDT Pass: 3435/4265\n",
      "BDT Pass: 777/1035\n",
      "BDT Pass: 2631/3416\n",
      "BDT Pass: 3001/3608\n",
      "BDT Pass: 2149/2562\n",
      "BDT Pass: 39/79\n",
      "BDT Pass: 284/423\n",
      "BDT Pass: 2227/2843\n",
      "BDT Pass: 96/324\n",
      "BDT Pass: 220/469\n",
      "BDT Pass: 550/743\n",
      "BDT Pass: 224/455\n",
      "BDT Pass: 207/231\n",
      "BDT Pass: 757/954\n",
      "BDT Pass: 945/1076\n",
      "BDT Pass: 1049/1321\n",
      "BDT Pass: 2676/3166\n",
      "BDT Pass: 1303/1764\n",
      "BDT Pass: 2230/2823\n",
      "BDT Pass: 2060/2410\n",
      "BDT Pass: 2358/2667\n",
      "BDT Pass: 1207/1642\n",
      "BDT Pass: 2273/2669\n",
      "BDT Pass: 475/596\n",
      "BDT Pass: 1905/2166\n",
      "BDT Pass: 1873/2359\n",
      "BDT Pass: 2033/2371\n",
      "BDT Pass: 961/1394\n",
      "BDT Pass: 1562/1971\n",
      "BDT Pass: 466/627\n",
      "BDT Pass: 1838/2230\n",
      "BDT Pass: 419/623\n",
      "BDT Pass: 963/1219\n",
      "BDT Pass: 1774/2041\n",
      "BDT Pass: 1535/1797\n",
      "BDT Pass: 257/379\n",
      "BDT Pass: 1086/1374\n",
      "BDT Pass: 1204/1427\n",
      "BDT Pass: 1034/1269\n",
      "BDT Pass: 1859/2414\n",
      "BDT Pass: 312/560\n",
      "BDT Pass: 4292/5690\n",
      "BDT Pass: 942/1285\n",
      "BDT Pass: 770/1119\n",
      "BDT Pass: 5307/6452\n",
      "BDT Pass: 1031/1375\n",
      "BDT Pass: 4234/5575\n",
      "BDT Pass: 9961/12247\n"
     ]
    },
    {
     "data": {
      "text/html": [
       "<pre style=\"white-space:pre;overflow-x:auto;line-height:normal;font-family:Menlo,'DejaVu Sans Mono',consolas,'Courier New',monospace\"></pre>\n"
      ],
      "text/plain": []
     },
     "metadata": {},
     "output_type": "display_data"
    },
    {
     "data": {
      "text/html": [
       "<pre style=\"white-space:pre;overflow-x:auto;line-height:normal;font-family:Menlo,'DejaVu Sans Mono',consolas,'Courier New',monospace\">\n",
       "</pre>\n"
      ],
      "text/plain": [
       "\n"
      ]
     },
     "metadata": {},
     "output_type": "display_data"
    },
    {
     "name": "stdout",
     "output_type": "stream",
     "text": [
      "Runtime: 2.3061149676640826 minutes\n"
     ]
    }
   ],
   "source": [
    "test = Analyzer(sample_config, histos_config, cuts_config)\n",
    "t1 = time.time()\n",
    "out = test.process(execr='futures', workers=4)\n",
    "t2 = time.time()\n",
    "print(f\"Runtime: {(t2-t1)/60} minutes\")\n",
    "util.save(out,f\"{outdir}/signal_v9_MINIAOD_NewXclean_NewXsec_default_good_vtx.coffea\")\n",
    "del out, test"
   ]
  },
  {
   "cell_type": "markdown",
   "id": "17ecf5a1-bdf4-493a-9bf7-fccea8e713f8",
   "metadata": {},
   "source": [
    "#### Run signal v9: MINIAOD & new xclean & another new xsec (similar to old xsec) & miniISO + `v5` good_vtx definition"
   ]
  },
  {
   "cell_type": "code",
   "execution_count": 4,
   "id": "3dff0d97-df35-41d8-9d43-9408306b234f",
   "metadata": {},
   "outputs": [],
   "source": [
    "sample_config = \"./sample_configs/skimmed_signal_v9_miniAOD_2018_aEM.json\" # v9 signal; MINIAOD & new cross-cleaning & new xsec\n",
    "#histos_config = \"./histo_configs/histos.py\" # new histogramming framework\n",
    "histos_config = \"./histo_configs/BDTvariables.py\" # old histogramming framework"
   ]
  },
  {
   "cell_type": "code",
   "execution_count": 5,
   "id": "a355af5d-9c4e-40af-b108-ff1afeb6edc9",
   "metadata": {
    "scrolled": true
   },
   "outputs": [
    {
     "data": {
      "application/vnd.jupyter.widget-view+json": {
       "model_id": "6f7db18d2d0b44b592c154290ab2c7cb",
       "version_major": 2,
       "version_minor": 0
      },
      "text/plain": [
       "Output()"
      ]
     },
     "metadata": {},
     "output_type": "display_data"
    },
    {
     "data": {
      "text/html": [
       "<pre style=\"white-space:pre;overflow-x:auto;line-height:normal;font-family:Menlo,'DejaVu Sans Mono',consolas,'Courier New',monospace\"></pre>\n"
      ],
      "text/plain": []
     },
     "metadata": {},
     "output_type": "display_data"
    },
    {
     "data": {
      "text/html": [
       "<pre style=\"white-space:pre;overflow-x:auto;line-height:normal;font-family:Menlo,'DejaVu Sans Mono',consolas,'Courier New',monospace\">\n",
       "</pre>\n"
      ],
      "text/plain": [
       "\n"
      ]
     },
     "metadata": {},
     "output_type": "display_data"
    },
    {
     "data": {
      "application/vnd.jupyter.widget-view+json": {
       "model_id": "c33ec92df737458d8eab993a7655ac60",
       "version_major": 2,
       "version_minor": 0
      },
      "text/plain": [
       "Output()"
      ]
     },
     "metadata": {},
     "output_type": "display_data"
    },
    {
     "name": "stdout",
     "output_type": "stream",
     "text": [
      "BDT Pass: 3210/3605\n",
      "BDT Pass: 3010/3437\n",
      "BDT Pass: 8531/9605\n",
      "BDT Pass: 7164/8746\n",
      "BDT Pass: 1360/1533\n",
      "BDT Pass: 1071/1199\n",
      "BDT Pass: 2025/2241\n",
      "BDT Pass: 10974/12182\n",
      "BDT Pass: 1040/1156\n",
      "BDT Pass: 8461/10148\n",
      "BDT Pass: 3229/3545\n",
      "BDT Pass: 2802/3352\n",
      "BDT Pass: 2812/3080\n",
      "BDT Pass: 846/938\n",
      "BDT Pass: 2822/3080\n",
      "BDT Pass: 3206/3728\n",
      "BDT Pass: 729/800\n",
      "BDT Pass: 2454/2869\n",
      "BDT Pass: 2014/2170\n",
      "BDT Pass: 36/54\n",
      "BDT Pass: 252/316\n",
      "BDT Pass: 2082/2413\n",
      "BDT Pass: 501/596\n",
      "BDT Pass: 187/316\n",
      "BDT Pass: 184/316\n",
      "BDT Pass: 699/764\n",
      "BDT Pass: 82/179\n",
      "BDT Pass: 887/926\n",
      "BDT Pass: 200/213\n",
      "BDT Pass: 1214/1332\n",
      "BDT Pass: 2503/2661\n",
      "BDT Pass: 982/1058\n",
      "BDT Pass: 2078/2371\n",
      "BDT Pass: 1935/2098\n",
      "BDT Pass: 1128/1250\n",
      "BDT Pass: 2221/2315\n",
      "BDT Pass: 2119/2249\n",
      "BDT Pass: 440/464\n",
      "BDT Pass: 1753/1989\n",
      "BDT Pass: 1777/1838\n",
      "BDT Pass: 1706/1828\n",
      "BDT Pass: 1910/2074\n",
      "BDT Pass: 901/1024\n",
      "BDT Pass: 1434/1623\n",
      "BDT Pass: 431/477\n",
      "BDT Pass: 391/458\n",
      "BDT Pass: 1447/1549\n",
      "BDT Pass: 1648/1729\n",
      "BDT Pass: 898/985\n",
      "BDT Pass: 235/288\n",
      "BDT Pass: 1005/1124\n",
      "BDT Pass: 954/1030\n",
      "BDT Pass: 1124/1214\n",
      "BDT Pass: 5010/5683\n",
      "BDT Pass: 1769/2022\n",
      "BDT Pass: 278/378\n",
      "BDT Pass: 4040/5050\n",
      "BDT Pass: 715/873\n",
      "BDT Pass: 838/983\n",
      "BDT Pass: 965/1179\n",
      "BDT Pass: 3990/4516\n",
      "BDT Pass: 9327/10432\n"
     ]
    },
    {
     "data": {
      "text/html": [
       "<pre style=\"white-space:pre;overflow-x:auto;line-height:normal;font-family:Menlo,'DejaVu Sans Mono',consolas,'Courier New',monospace\"></pre>\n"
      ],
      "text/plain": []
     },
     "metadata": {},
     "output_type": "display_data"
    },
    {
     "data": {
      "text/html": [
       "<pre style=\"white-space:pre;overflow-x:auto;line-height:normal;font-family:Menlo,'DejaVu Sans Mono',consolas,'Courier New',monospace\">\n",
       "</pre>\n"
      ],
      "text/plain": [
       "\n"
      ]
     },
     "metadata": {},
     "output_type": "display_data"
    },
    {
     "name": "stdout",
     "output_type": "stream",
     "text": [
      "Runtime: 2.8538251161575316 minutes\n"
     ]
    }
   ],
   "source": [
    "test = Analyzer(sample_config, histos_config, cuts_config)\n",
    "t1 = time.time()\n",
    "out = test.process(execr='futures', workers=4)\n",
    "t2 = time.time()\n",
    "print(f\"Runtime: {(t2-t1)/60} minutes\")\n",
    "util.save(out,f\"{outdir}/signal_v9_MINIAOD_NewXclean_NewXsec_v5_good_vtx.coffea\")\n",
    "del out, test"
   ]
  },
  {
   "cell_type": "markdown",
   "id": "4208e6b7-f3d4-4b0c-aed7-96a622ec99e9",
   "metadata": {},
   "source": [
    "#### Run signal v2: AOD & old xclean & old xsec"
   ]
  },
  {
   "cell_type": "markdown",
   "id": "d065caa6-ef80-4607-9604-d25a89d2533f",
   "metadata": {},
   "source": [
    "Use `analysisTools_legacy_sigv2.py` and `analysisSubroutines_legacy_sigv2.py`"
   ]
  },
  {
   "cell_type": "code",
   "execution_count": 4,
   "id": "7f03a5cd-3e7b-469b-91a5-0afce318505d",
   "metadata": {},
   "outputs": [],
   "source": [
    "sample_config = \"./sample_configs/skimmed_sig_v2_mA_3m1_2018_aEM.json\" # v2 signal; AOD & old cross-cleaning & old xsec\n",
    "histos_config = \"./histo_configs/BDTvariables.py\" # old histogramming framework"
   ]
  },
  {
   "cell_type": "code",
   "execution_count": 5,
   "id": "e065f631-80a4-443d-a539-5f1af837877e",
   "metadata": {
    "scrolled": true
   },
   "outputs": [
    {
     "data": {
      "application/vnd.jupyter.widget-view+json": {
       "model_id": "13ced180ffcd4db98c52effe776b9084",
       "version_major": 2,
       "version_minor": 0
      },
      "text/plain": [
       "Output()"
      ]
     },
     "metadata": {},
     "output_type": "display_data"
    },
    {
     "data": {
      "text/html": [
       "<pre style=\"white-space:pre;overflow-x:auto;line-height:normal;font-family:Menlo,'DejaVu Sans Mono',consolas,'Courier New',monospace\"></pre>\n"
      ],
      "text/plain": []
     },
     "metadata": {},
     "output_type": "display_data"
    },
    {
     "data": {
      "text/html": [
       "<pre style=\"white-space:pre;overflow-x:auto;line-height:normal;font-family:Menlo,'DejaVu Sans Mono',consolas,'Courier New',monospace\">\n",
       "</pre>\n"
      ],
      "text/plain": [
       "\n"
      ]
     },
     "metadata": {},
     "output_type": "display_data"
    },
    {
     "data": {
      "application/vnd.jupyter.widget-view+json": {
       "model_id": "d68c2eb76ef24bf28fbba305ffd5827b",
       "version_major": 2,
       "version_minor": 0
      },
      "text/plain": [
       "Output()"
      ]
     },
     "metadata": {},
     "output_type": "display_data"
    },
    {
     "name": "stdout",
     "output_type": "stream",
     "text": [
      "BDT Pass: 636/1303\n",
      "BDT Pass: 726/1367\n",
      "BDT Pass: 1871/2886\n",
      "BDT Pass: 2316/3407\n",
      "BDT Pass: 332/603\n",
      "BDT Pass: 568/808\n",
      "BDT Pass: 1692/2713\n",
      "BDT Pass: 2124/3645\n",
      "BDT Pass: 214/455\n",
      "BDT Pass: 493/834\n",
      "BDT Pass: 528/902\n",
      "BDT Pass: 200/379\n",
      "BDT Pass: 679/1016\n",
      "BDT Pass: 676/1011\n",
      "BDT Pass: 185/407\n",
      "BDT Pass: 539/851\n",
      "BDT Pass: 493/931\n",
      "BDT Pass: 145/313\n",
      "BDT Pass: 498/826\n",
      "BDT Pass: 432/785\n",
      "BDT Pass: 147/294\n",
      "BDT Pass: 527/746\n",
      "BDT Pass: 552/773\n",
      "BDT Pass: 11/51\n",
      "BDT Pass: 53/142\n",
      "BDT Pass: 111/198\n",
      "BDT Pass: 38/155\n",
      "BDT Pass: 22/220\n",
      "BDT Pass: 56/178\n",
      "BDT Pass: 161/314\n",
      "BDT Pass: 230/328\n",
      "BDT Pass: 45/64\n",
      "BDT Pass: 556/944\n",
      "BDT Pass: 272/639\n",
      "BDT Pass: 203/429\n",
      "BDT Pass: 535/982\n",
      "BDT Pass: 475/697\n",
      "BDT Pass: 407/633\n",
      "BDT Pass: 257/612\n",
      "BDT Pass: 416/704\n",
      "BDT Pass: 92/211\n",
      "BDT Pass: 366/644\n",
      "BDT Pass: 403/634\n",
      "BDT Pass: 369/538\n",
      "BDT Pass: 166/499\n",
      "BDT Pass: 299/577\n",
      "BDT Pass: 92/220\n",
      "BDT Pass: 307/488\n",
      "BDT Pass: 325/505\n",
      "BDT Pass: 71/247\n",
      "BDT Pass: 181/382\n",
      "BDT Pass: 35/146\n",
      "BDT Pass: 256/467\n",
      "BDT Pass: 178/328\n",
      "BDT Pass: 218/370\n",
      "BDT Pass: 450/798\n",
      "BDT Pass: 73/307\n",
      "BDT Pass: 1069/1720\n",
      "BDT Pass: 1336/1997\n",
      "BDT Pass: 163/382\n",
      "BDT Pass: 182/375\n",
      "BDT Pass: 977/1920\n",
      "BDT Pass: 2769/4400\n",
      "BDT Pass: 2631/4459\n"
     ]
    },
    {
     "data": {
      "text/html": [
       "<pre style=\"white-space:pre;overflow-x:auto;line-height:normal;font-family:Menlo,'DejaVu Sans Mono',consolas,'Courier New',monospace\"></pre>\n"
      ],
      "text/plain": []
     },
     "metadata": {},
     "output_type": "display_data"
    },
    {
     "data": {
      "text/html": [
       "<pre style=\"white-space:pre;overflow-x:auto;line-height:normal;font-family:Menlo,'DejaVu Sans Mono',consolas,'Courier New',monospace\">\n",
       "</pre>\n"
      ],
      "text/plain": [
       "\n"
      ]
     },
     "metadata": {},
     "output_type": "display_data"
    },
    {
     "name": "stdout",
     "output_type": "stream",
     "text": [
      "Runtime: 2.6394903937975567 minutes\n"
     ]
    }
   ],
   "source": [
    "test = Analyzer(sample_config, histos_config, cuts_config) \n",
    "t1 = time.time()\n",
    "out = test.process(execr='futures')\n",
    "t2 = time.time()\n",
    "print(f\"Runtime: {(t2-t1)/60} minutes\")\n",
    "util.save(out,f\"{outdir}/signal_v2_AOD_OldXclean_OldXsec.coffea\")\n",
    "del out, test"
   ]
  },
  {
   "cell_type": "markdown",
   "id": "00281993-ae63-4750-b6a9-eed1949fa7ba",
   "metadata": {},
   "source": [
    "#### Run signal v4: AOD & old xclean & new xsec (+ remove `GenEleClosest` and save only dR < 0.1 reco electrons)"
   ]
  },
  {
   "cell_type": "markdown",
   "id": "be08a7e4-cf46-4f1f-8bfd-e53e4347eb3a",
   "metadata": {},
   "source": [
    "Using `analysisTools_legacy.py` and `analysisSubroutines_legacy.py`"
   ]
  },
  {
   "cell_type": "code",
   "execution_count": 4,
   "id": "42942276-78c1-45b6-84c5-1c099d06f37f",
   "metadata": {},
   "outputs": [],
   "source": [
    "sample_config = \"./sample_configs/skimmed_signal_v4_2018_aEM.json\" # v4 signal; AOD & old cross-cleaning & new xsec\n",
    "histos_config = \"./histo_configs/BDTvariables.py\" # old histogramming framework"
   ]
  },
  {
   "cell_type": "code",
   "execution_count": 6,
   "id": "58f77805-342d-411f-a389-4d5702de59e5",
   "metadata": {
    "scrolled": true
   },
   "outputs": [
    {
     "data": {
      "application/vnd.jupyter.widget-view+json": {
       "model_id": "9925b8ada4284a6eb82ea9c9deb3f4d4",
       "version_major": 2,
       "version_minor": 0
      },
      "text/plain": [
       "Output()"
      ]
     },
     "metadata": {},
     "output_type": "display_data"
    },
    {
     "name": "stdout",
     "output_type": "stream",
     "text": [
      "BDT Pass: 1015/1664\n",
      "BDT Pass: 893/1680\n",
      "BDT Pass: 3208/4323\n",
      "BDT Pass: 3648/4830\n",
      "BDT Pass: 869/1126\n",
      "BDT Pass: 444/720\n",
      "BDT Pass: 3349/4938\n",
      "BDT Pass: 2685/4228\n",
      "BDT Pass: 293/583\n",
      "BDT Pass: 966/1484\n",
      "BDT Pass: 876/1412\n",
      "BDT Pass: 342/559\n",
      "BDT Pass: 1323/1770\n",
      "BDT Pass: 1392/1860\n",
      "BDT Pass: 225/465\n",
      "BDT Pass: 820/1222\n",
      "BDT Pass: 705/1199\n",
      "BDT Pass: 178/354\n",
      "BDT Pass: 622/982\n",
      "BDT Pass: 9/46\n",
      "BDT Pass: 605/1000\n",
      "BDT Pass: 48/121\n",
      "BDT Pass: 108/202\n",
      "BDT Pass: 18/203\n",
      "BDT Pass: 31/139\n",
      "\n",
      "BDT Pass: 202/342\n",
      "BDT Pass: 345/447\n",
      "BDT Pass: 76/97\n",
      "BDT Pass: 286/640\n",
      "BDT Pass: 650/1038\n",
      "BDT Pass: 302/531\n",
      "BDT Pass: 626/1059\n",
      "BDT Pass: 781/1028\n",
      "BDT Pass: 269/613\n",
      "BDT Pass: 514/831\n",
      "BDT Pass: 708/950\n",
      "BDT Pass: 471/778\n",
      "BDT Pass: 509/693\n",
      "BDT Pass: 127/246\n",
      "BDT Pass: 542/701\n",
      "BDT Pass: 156/453\n",
      "BDT Pass: 429/690\n",
      "BDT Pass: 108/241\n",
      "\n",
      "BDT Pass: 454/641\n",
      "BDT Pass: 478/671\n",
      "BDT Pass: 68/235\n",
      "BDT Pass: 175/370\n",
      "BDT Pass: 252/434\n",
      "BDT Pass: 42/147\n",
      "BDT Pass: 231/384\n",
      "BDT Pass: 285/441\n",
      "BDT Pass: 392/624\n",
      "BDT Pass: 2076/2746\n",
      "BDT Pass: 1831/2536\n",
      "BDT Pass: 64/284\n",
      "BDT Pass: 133/323\n",
      "BDT Pass: 166/341\n",
      "BDT Pass: 1133/2064\n",
      "BDT Pass: 3126/4635\n",
      "BDT Pass: 3401/5284\n"
     ]
    },
    {
     "data": {
      "text/html": [
       "<pre style=\"white-space:pre;overflow-x:auto;line-height:normal;font-family:Menlo,'DejaVu Sans Mono',consolas,'Courier New',monospace\"></pre>\n"
      ],
      "text/plain": []
     },
     "metadata": {},
     "output_type": "display_data"
    },
    {
     "data": {
      "text/html": [
       "<pre style=\"white-space:pre;overflow-x:auto;line-height:normal;font-family:Menlo,'DejaVu Sans Mono',consolas,'Courier New',monospace\">\n",
       "</pre>\n"
      ],
      "text/plain": [
       "\n"
      ]
     },
     "metadata": {},
     "output_type": "display_data"
    },
    {
     "name": "stdout",
     "output_type": "stream",
     "text": [
      "Runtime: 2.0117168108622234 minutes\n"
     ]
    }
   ],
   "source": [
    "test = Analyzer(sample_config, histos_config, cuts_config) \n",
    "t1 = time.time()\n",
    "out = test.process(execr='futures')\n",
    "t2 = time.time()\n",
    "print(f\"Runtime: {(t2-t1)/60} minutes\")\n",
    "util.save(out,f\"{outdir}/signal_v4_AOD_OldXclean_NewXsec.coffea\")\n",
    "del out, test"
   ]
  },
  {
   "cell_type": "markdown",
   "id": "6e1e922c-4a7e-477b-96af-1885de2eb3ca",
   "metadata": {},
   "source": [
    "#### Run signal v5: AOD & new xclean & new xsec"
   ]
  },
  {
   "cell_type": "markdown",
   "id": "ac0548fc-3ab5-41f8-8493-ad301b23a144",
   "metadata": {},
   "source": [
    "Using `analysisTools_legacy.py` and `analysisSubroutines_legacy.py`"
   ]
  },
  {
   "cell_type": "code",
   "execution_count": 7,
   "id": "81740447-24db-45c1-b33d-f545c48b5635",
   "metadata": {},
   "outputs": [],
   "source": [
    "sample_config = \"./sample_configs/skimmed_signal_v5_xcleanStudy_2018_aEM.json\" # v5 signal; AOD & new cross-cleaning & new xsec\n",
    "histos_config = \"./histo_configs/BDTvariables.py\" # old histogramming framework"
   ]
  },
  {
   "cell_type": "code",
   "execution_count": 8,
   "id": "fe4fa923-c254-459d-8879-81fde3027c06",
   "metadata": {
    "scrolled": true
   },
   "outputs": [
    {
     "data": {
      "application/vnd.jupyter.widget-view+json": {
       "model_id": "9a0a0edde466443aaa690b742f95a309",
       "version_major": 2,
       "version_minor": 0
      },
      "text/plain": [
       "Output()"
      ]
     },
     "metadata": {},
     "output_type": "display_data"
    },
    {
     "data": {
      "text/html": [
       "<pre style=\"white-space:pre;overflow-x:auto;line-height:normal;font-family:Menlo,'DejaVu Sans Mono',consolas,'Courier New',monospace\"></pre>\n"
      ],
      "text/plain": []
     },
     "metadata": {},
     "output_type": "display_data"
    },
    {
     "data": {
      "text/html": [
       "<pre style=\"white-space:pre;overflow-x:auto;line-height:normal;font-family:Menlo,'DejaVu Sans Mono',consolas,'Courier New',monospace\">\n",
       "</pre>\n"
      ],
      "text/plain": [
       "\n"
      ]
     },
     "metadata": {},
     "output_type": "display_data"
    },
    {
     "data": {
      "application/vnd.jupyter.widget-view+json": {
       "model_id": "c06c3a55550b4c58a6ce2ee358100a32",
       "version_major": 2,
       "version_minor": 0
      },
      "text/plain": [
       "Output()"
      ]
     },
     "metadata": {},
     "output_type": "display_data"
    },
    {
     "name": "stdout",
     "output_type": "stream",
     "text": [
      "BDT Pass: 3177/4456\n",
      "BDT Pass: 3438/5012\n",
      "BDT Pass: 9355/11840\n",
      "BDT Pass: 7128/9678\n",
      "BDT Pass: 1487/2035\n",
      "BDT Pass: 2187/2717\n",
      "BDT Pass: 8838/12374\n",
      "BDT Pass: 1206/1784\n",
      "BDT Pass: 11985/15530\n",
      "BDT Pass: 3582/4617\n",
      "BDT Pass: 1148/1605\n",
      "BDT Pass: 2993/3686\n",
      "BDT Pass: 3075/4283\n",
      "BDT Pass: 3429/4464\n",
      "BDT Pass: 868/1324\n",
      "BDT Pass: 3026/3861\n",
      "BDT Pass: 737/1082\n",
      "BDT Pass: 2722/3781\n",
      "BDT Pass: 2642/3351\n",
      "BDT Pass: 47/119\n",
      "BDT Pass: 325/525\n",
      "BDT Pass: 2302/3157\n",
      "BDT Pass: 641/919\n",
      "BDT Pass: 111/486\n",
      "BDT Pass: 280/597\n",
      "BDT Pass: 281/654\n",
      "BDT Pass: 784/1079\n",
      "BDT Pass: 854/1026\n",
      "BDT Pass: 213/247\n",
      "BDT Pass: 1388/2119\n",
      "\n",
      "BDT Pass: 1111/1544\n",
      "BDT Pass: 2093/2846\n",
      "BDT Pass: 1891/2326\n",
      "BDT Pass: 2274/2724\n",
      "BDT Pass: 1272/1940\n",
      "\n",
      "BDT Pass: 493/690\n",
      "BDT Pass: 1975/2659\n",
      "BDT Pass: 1842/2207\n",
      "BDT Pass: 2101/2565\n",
      "BDT Pass: 1946/2514\n",
      "BDT Pass: 1006/1662\n",
      "BDT Pass: 1691/2270\n",
      "BDT Pass: 496/747\n",
      "BDT Pass: 1614/1999\n",
      "BDT Pass: 1852/2239BDT Pass: 1040/1414\n",
      "BDT Pass: 437/756\n",
      "BDT Pass: 1334/1769\n",
      "BDT Pass: 238/420BDT Pass: 1215/1537\n",
      "BDT Pass: 1094/1424\n",
      "BDT Pass: 1937/2692\n",
      "BDT Pass: 4805/6094\n",
      "BDT Pass: 4249/5900\n",
      "BDT Pass: 987/1454\n",
      "BDT Pass: 884/1381\n",
      "BDT Pass: 4471/6462\n",
      "BDT Pass: 11873/15467\n",
      "BDT Pass: 11239/15886\n"
     ]
    },
    {
     "data": {
      "text/html": [
       "<pre style=\"white-space:pre;overflow-x:auto;line-height:normal;font-family:Menlo,'DejaVu Sans Mono',consolas,'Courier New',monospace\"></pre>\n"
      ],
      "text/plain": []
     },
     "metadata": {},
     "output_type": "display_data"
    },
    {
     "data": {
      "text/html": [
       "<pre style=\"white-space:pre;overflow-x:auto;line-height:normal;font-family:Menlo,'DejaVu Sans Mono',consolas,'Courier New',monospace\">\n",
       "</pre>\n"
      ],
      "text/plain": [
       "\n"
      ]
     },
     "metadata": {},
     "output_type": "display_data"
    },
    {
     "name": "stdout",
     "output_type": "stream",
     "text": [
      "Runtime: 2.4487100283304852 minutes\n"
     ]
    }
   ],
   "source": [
    "test = Analyzer(sample_config, histos_config, cuts_config) \n",
    "t1 = time.time()\n",
    "out = test.process(execr='futures')\n",
    "t2 = time.time()\n",
    "print(f\"Runtime: {(t2-t1)/60} minutes\")\n",
    "util.save(out,f\"{outdir}/signal_v5_AOD_NewXclean_NewXsec.coffea\")\n",
    "del out, test"
   ]
  },
  {
   "cell_type": "code",
   "execution_count": null,
   "id": "d5a2d549-ffd6-4b31-bb15-5daa9a7a509a",
   "metadata": {},
   "outputs": [],
   "source": []
  },
  {
   "cell_type": "code",
   "execution_count": null,
   "id": "2a6315b1-4a67-46e5-933b-07473283c73b",
   "metadata": {},
   "outputs": [],
   "source": []
  },
  {
   "cell_type": "code",
   "execution_count": null,
   "id": "9fbcffad-c45e-4597-92b7-b1190f39503c",
   "metadata": {},
   "outputs": [],
   "source": []
  }
 ],
 "metadata": {
  "kernelspec": {
   "display_name": "Python 3 (ipykernel)",
   "language": "python",
   "name": "python3"
  },
  "language_info": {
   "codemirror_mode": {
    "name": "ipython",
    "version": 3
   },
   "file_extension": ".py",
   "mimetype": "text/x-python",
   "name": "python",
   "nbconvert_exporter": "python",
   "pygments_lexer": "ipython3",
   "version": "3.8.17"
  }
 },
 "nbformat": 4,
 "nbformat_minor": 5
}
