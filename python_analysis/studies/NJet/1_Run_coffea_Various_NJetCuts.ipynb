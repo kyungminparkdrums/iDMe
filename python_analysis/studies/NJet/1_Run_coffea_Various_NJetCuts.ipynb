{
 "cells": [
  {
   "cell_type": "code",
   "execution_count": 1,
   "id": "e94963cd-6dd7-44cd-9e04-b15d8ada688c",
   "metadata": {},
   "outputs": [],
   "source": [
    "%load_ext autoreload\n",
    "%autoreload 2\n",
    "import uproot\n",
    "import numpy as np\n",
    "import matplotlib.pyplot as plt\n",
    "import awkward as ak\n",
    "import sys\n",
    "sys.path.append(\"../../analysisTools/\")\n",
    "from analysisTools import Analyzer\n",
    "from analysisTools import loadSchema\n",
    "import analysisTools as tools\n",
    "import analysisSubroutines as routines\n",
    "import plotTools as ptools\n",
    "import utils\n",
    "import importlib\n",
    "import coffea.util as util\n",
    "import time\n",
    "import json\n",
    "import os\n",
    "import glob\n",
    "import pandas as pd"
   ]
  },
  {
   "cell_type": "code",
   "execution_count": 2,
   "id": "80730354-47ca-4b54-8913-832f3a6fcbe7",
   "metadata": {},
   "outputs": [
    {
     "data": {
      "text/plain": [
       "0"
      ]
     },
     "execution_count": 2,
     "metadata": {},
     "output_type": "execute_result"
    }
   ],
   "source": [
    "outdir = \"./coffea/\"\n",
    "os.system(f'mkdir -p {outdir}')"
   ]
  },
  {
   "cell_type": "markdown",
   "id": "c0386d2a-9699-4903-9620-94105baa74ed",
   "metadata": {},
   "source": [
    "## SR"
   ]
  },
  {
   "cell_type": "markdown",
   "id": "9d1bca0d-928c-4671-b836-63b6cc6e3733",
   "metadata": {},
   "source": [
    "#### Configs"
   ]
  },
  {
   "cell_type": "code",
   "execution_count": 14,
   "id": "a2b371d8-ebc4-4d4b-b5d1-f3c7abe6ef9f",
   "metadata": {},
   "outputs": [],
   "source": [
    "#cuts_config = \"./cut_configs/SR_ISRCuts.py\"\n",
    "cuts_config = \"./cut_configs/SR.py\""
   ]
  },
  {
   "cell_type": "code",
   "execution_count": 15,
   "id": "67c13a84-0d94-45ba-8644-ba5baf1e1a57",
   "metadata": {},
   "outputs": [],
   "source": [
    "#histos_config = \"./histo_configs/histos.py\" # new histogramming framework\n",
    "histos_config = \"./histo_configs/histo_SR.py\" # old histogramming framework"
   ]
  },
  {
   "cell_type": "markdown",
   "id": "84f19506-e4fd-49e2-86aa-936c72b9f6db",
   "metadata": {},
   "source": [
    "### Signal"
   ]
  },
  {
   "cell_type": "code",
   "execution_count": 16,
   "id": "3dff0d97-df35-41d8-9d43-9408306b234f",
   "metadata": {},
   "outputs": [],
   "source": [
    "#sample_config = \"./sample_configs/skimmed_signal_v9_miniAOD_2018_aEM.json\" # NJet [1,2] preselection applied\n",
    "sample_config = \"./sample_configs/skimmed_signal_v9_miniAOD_2018_aEM_noNJetCut.json\" # No NJet cut; only NJet > 0 applied in analyzer"
   ]
  },
  {
   "cell_type": "code",
   "execution_count": 17,
   "id": "a355af5d-9c4e-40af-b108-ff1afeb6edc9",
   "metadata": {
    "scrolled": true
   },
   "outputs": [
    {
     "data": {
      "application/vnd.jupyter.widget-view+json": {
       "model_id": "34839e3f8f85484f82c1346e63579a4b",
       "version_major": 2,
       "version_minor": 0
      },
      "text/plain": [
       "Output()"
      ]
     },
     "metadata": {},
     "output_type": "display_data"
    },
    {
     "name": "stdout",
     "output_type": "stream",
     "text": [
      "BDT Pass: 2556/3446\n",
      "BDT Pass: 2918/3611\n",
      "BDT Pass: 7476/9647\n",
      "BDT Pass: 6026/8778\n",
      "BDT Pass: 1223/1538\n",
      "BDT Pass: 1810/2249\n",
      "BDT Pass: 10260/12218\n",
      "BDT Pass: 1001/1206\n",
      "BDT Pass: 7583/10190\n",
      "BDT Pass: 3091/3556\n",
      "BDT Pass: 950/1160\n",
      "BDT Pass: 2559/3358\n",
      "BDT Pass: 2615/3092\n",
      "BDT Pass: 2823/3743\n",
      "BDT Pass: 810/943\n",
      "BDT Pass: 2739/3087\n",
      "BDT Pass: 2302/2880\n",
      "BDT Pass: 710/802\n",
      "BDT Pass: 1974/2177\n",
      "BDT Pass: 28/55\n",
      "BDT Pass: 216/317\n",
      "BDT Pass: 457/597\n",
      "BDT Pass: 1982/2420\n",
      "BDT Pass: 43/180\n",
      "BDT Pass: 109/317\n",
      "BDT Pass: 123/317\n",
      "BDT Pass: 672/765\n",
      "BDT Pass: 866/927\n",
      "BDT Pass: 185/213\n",
      "BDT Pass: 2473/2663\n",
      "BDT Pass: 1163/1334\n",
      "BDT Pass: 960/1063\n",
      "BDT Pass: 2022/2374\n",
      "BDT Pass: 2186/2322\n",
      "BDT Pass: 1845/2103\n",
      "BDT Pass: 2108/2256\n",
      "BDT Pass: 1080/1254\n",
      "BDT Pass: 1727/1995\n",
      "BDT Pass: 1769/1848\n",
      "BDT Pass: 418/465\n",
      "BDT Pass: 1884/2081\n",
      "BDT Pass: 1685/1831\n",
      "BDT Pass: 409/478\n",
      "BDT Pass: 861/1030\n",
      "BDT Pass: 1456/1628\n",
      "BDT Pass: 1627/1731\n",
      "BDT Pass: 889/987\n",
      "BDT Pass: 365/460\n",
      "BDT Pass: 1439/1552\n",
      "BDT Pass: 208/289\n",
      "BDT Pass: 1116/1218\n",
      "BDT Pass: 910/1033\n",
      "BDT Pass: 1004/1128\n",
      "BDT Pass: 1450/2026\n",
      "BDT Pass: 224/381\n",
      "BDT Pass: 4267/5702\n",
      "BDT Pass: 3341/5069\n",
      "BDT Pass: 639/875\n",
      "BDT Pass: 770/989\n",
      "BDT Pass: 841/1184\n",
      "BDT Pass: 3568/4530\n",
      "BDT Pass: 8586/10471\n"
     ]
    },
    {
     "data": {
      "text/html": [
       "<pre style=\"white-space:pre;overflow-x:auto;line-height:normal;font-family:Menlo,'DejaVu Sans Mono',consolas,'Courier New',monospace\"></pre>\n"
      ],
      "text/plain": []
     },
     "metadata": {},
     "output_type": "display_data"
    },
    {
     "data": {
      "text/html": [
       "<pre style=\"white-space:pre;overflow-x:auto;line-height:normal;font-family:Menlo,'DejaVu Sans Mono',consolas,'Courier New',monospace\">\n",
       "</pre>\n"
      ],
      "text/plain": [
       "\n"
      ]
     },
     "metadata": {},
     "output_type": "display_data"
    },
    {
     "name": "stdout",
     "output_type": "stream",
     "text": [
      "Runtime: 2.384704625606537 minutes\n"
     ]
    }
   ],
   "source": [
    "test = Analyzer(sample_config, histos_config, cuts_config)\n",
    "t1 = time.time()\n",
    "out = test.process(execr='futures', workers=4)\n",
    "t2 = time.time()\n",
    "print(f\"Runtime: {(t2-t1)/60} minutes\")\n",
    "util.save(out,f\"{outdir}/signal_NJet_NoCut.coffea\")\n",
    "del out, test"
   ]
  },
  {
   "cell_type": "markdown",
   "id": "22727b08-0078-4652-a57b-9c2312e7fccc",
   "metadata": {},
   "source": [
    "### Background"
   ]
  },
  {
   "cell_type": "code",
   "execution_count": 18,
   "id": "60f35816-5d5c-4af3-93a6-f473500d12dc",
   "metadata": {},
   "outputs": [],
   "source": [
    "#sample_config = \"./sample_configs/skimmed_bkg_2018_v7_miniAOD.json\" # NJet [1,2] preselection applied\n",
    "sample_config = \"./sample_configs/skimmed_bkg_2018_v7_miniAOD_noNJetCut.json\""
   ]
  },
  {
   "cell_type": "code",
   "execution_count": 19,
   "id": "78e32a58-c7c1-4df1-9fff-d5710e78220d",
   "metadata": {
    "scrolled": true
   },
   "outputs": [
    {
     "data": {
      "application/vnd.jupyter.widget-view+json": {
       "model_id": "8b79bfb6aa0d4e6d945d657b310bf6ae",
       "version_major": 2,
       "version_minor": 0
      },
      "text/plain": [
       "Output()"
      ]
     },
     "metadata": {},
     "output_type": "display_data"
    },
    {
     "name": "stdout",
     "output_type": "stream",
     "text": [
      "BDT Pass: 0/83\n",
      "BDT Pass: 6/382\n",
      "BDT Pass: 5/392\n",
      "BDT Pass: 0/2\n",
      "BDT Pass: 3/284\n",
      "BDT Pass: 0/6\n",
      "BDT Pass: 3/129\n",
      "BDT Pass: 20/592\n",
      "BDT Pass: 6/413\n",
      "BDT Pass: 13/636\n",
      "BDT Pass: 0/66\n",
      "BDT Pass: 1/76\n",
      "BDT Pass: 5/219\n",
      "BDT Pass: 4/164\n",
      "BDT Pass: 11/380\n",
      "BDT Pass: 10/422\n",
      "BDT Pass: 12/413\n",
      "BDT Pass: 0/5\n",
      "BDT Pass: 1/61\n",
      "BDT Pass: 1/18\n",
      "BDT Pass: 0/14\n",
      "BDT Pass: 1/12\n",
      "BDT Pass: 1/9\n",
      "BDT Pass: 2/48\n",
      "BDT Pass: 0/17\n",
      "BDT Pass: 4/47\n",
      "BDT Pass: 0/11\n",
      "BDT Pass: 1/25\n",
      "BDT Pass: 1/15\n",
      "BDT Pass: 1/9BDT Pass: 0/24\n",
      "BDT Pass: 0/5\n",
      "BDT Pass: 0/10\n",
      "BDT Pass: 0/2\n",
      "BDT Pass: 0/6\n",
      "BDT Pass: 0/4\n",
      "BDT Pass: 0/28\n",
      "BDT Pass: 1/1\n",
      "BDT Pass: 1/9\n",
      "BDT Pass: 1/20\n"
     ]
    },
    {
     "data": {
      "text/html": [
       "<pre style=\"white-space:pre;overflow-x:auto;line-height:normal;font-family:Menlo,'DejaVu Sans Mono',consolas,'Courier New',monospace\"></pre>\n"
      ],
      "text/plain": []
     },
     "metadata": {},
     "output_type": "display_data"
    },
    {
     "data": {
      "text/html": [
       "<pre style=\"white-space:pre;overflow-x:auto;line-height:normal;font-family:Menlo,'DejaVu Sans Mono',consolas,'Courier New',monospace\">\n",
       "</pre>\n"
      ],
      "text/plain": [
       "\n"
      ]
     },
     "metadata": {},
     "output_type": "display_data"
    },
    {
     "name": "stdout",
     "output_type": "stream",
     "text": [
      "Runtime: 4.676182281970978 minutes\n"
     ]
    }
   ],
   "source": [
    "test = Analyzer(sample_config, histos_config, cuts_config)\n",
    "t1 = time.time()\n",
    "out = test.process(execr='futures', workers=4)\n",
    "t2 = time.time()\n",
    "print(f\"Runtime: {(t2-t1)/60} minutes\")\n",
    "util.save(out,f\"{outdir}/background_NJet_NoCut.coffea\")\n",
    "del out, test"
   ]
  },
  {
   "cell_type": "code",
   "execution_count": null,
   "id": "4c88511e-4122-4008-85a1-871514e7ad8d",
   "metadata": {},
   "outputs": [],
   "source": []
  },
  {
   "cell_type": "code",
   "execution_count": null,
   "id": "9fbcffad-c45e-4597-92b7-b1190f39503c",
   "metadata": {},
   "outputs": [],
   "source": []
  }
 ],
 "metadata": {
  "kernelspec": {
   "display_name": "Python 3 (ipykernel)",
   "language": "python",
   "name": "python3"
  },
  "language_info": {
   "codemirror_mode": {
    "name": "ipython",
    "version": 3
   },
   "file_extension": ".py",
   "mimetype": "text/x-python",
   "name": "python",
   "nbconvert_exporter": "python",
   "pygments_lexer": "ipython3",
   "version": "3.8.17"
  }
 },
 "nbformat": 4,
 "nbformat_minor": 5
}
