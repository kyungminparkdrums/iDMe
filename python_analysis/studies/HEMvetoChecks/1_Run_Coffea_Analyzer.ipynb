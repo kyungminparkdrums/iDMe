{
 "cells": [
  {
   "cell_type": "code",
   "execution_count": 1,
   "id": "e669ba8e-d8ae-45e9-bdac-9dabb1da3557",
   "metadata": {},
   "outputs": [],
   "source": [
    "%load_ext autoreload\n",
    "%autoreload 2\n",
    "import numpy as np\n",
    "import matplotlib.pyplot as plt\n",
    "import awkward as ak\n",
    "\n",
    "import sys\n",
    "sys.path.append(\"../../analysisTools/\")\n",
    "from analysisTools import Analyzer\n",
    "from analysisTools import loadSchema\n",
    "import analysisTools as tools\n",
    "import analysisSubroutines as routines\n",
    "import importlib\n",
    "import coffea.util as util\n",
    "\n",
    "import time\n",
    "import json\n",
    "import os\n",
    "import glob"
   ]
  },
  {
   "cell_type": "markdown",
   "id": "d90eb2c8-1882-4781-a242-44a5758376b4",
   "metadata": {},
   "source": [
    "## Run coffea on skimmed ntuples"
   ]
  },
  {
   "cell_type": "code",
   "execution_count": 2,
   "id": "c72681ac-a0f5-402a-8a80-d5f17505b69c",
   "metadata": {},
   "outputs": [],
   "source": [
    "cuts_config = \"./configs/cut_configs/VR_Collinearity.py\"\n",
    "#cuts_config = \"./configs/cut_configs/HEMMETveto.py\"\n",
    "#cuts_config = \"./configs/cut_configs/SR_unskimmed_beforeISRcut.py\"\n",
    "histos_config = \"./configs/histo_configs/histos_SR.py\""
   ]
  },
  {
   "cell_type": "code",
   "execution_count": 3,
   "id": "67a3d095-2d86-4899-a215-b97b166a5fc2",
   "metadata": {},
   "outputs": [],
   "source": [
    "# BDT \n",
    "model_config = \"./configs/models/BDT_inclusive_10Vars.json\""
   ]
  },
  {
   "cell_type": "code",
   "execution_count": 4,
   "id": "8ca2a112-1126-407b-8b83-99e6b07a59eb",
   "metadata": {},
   "outputs": [],
   "source": [
    "outdir = \"./coffea/skimmed/\"\n",
    "os.makedirs(outdir, exist_ok=True)"
   ]
  },
  {
   "cell_type": "markdown",
   "id": "d248ae59-1cd0-45e3-91a1-3462012c6a27",
   "metadata": {
    "jp-MarkdownHeadingCollapsed": true
   },
   "source": [
    "### Signal"
   ]
  },
  {
   "cell_type": "code",
   "execution_count": 5,
   "id": "e0ecc4e0-151c-408b-b400-381d1e1a973e",
   "metadata": {},
   "outputs": [],
   "source": [
    "sample_config = \"./configs/sample_configs/skimmed_signal_v9_miniAOD_2018_aEM_noNJetCut.json\"\n",
    "#sample_config = \"./configs/sample_configs/signal_v9_miniAOD_2018_aEM.json\""
   ]
  },
  {
   "cell_type": "code",
   "execution_count": 6,
   "id": "02537ff8-2bb2-4752-bed0-a504affad525",
   "metadata": {
    "scrolled": true
   },
   "outputs": [
    {
     "data": {
      "application/vnd.jupyter.widget-view+json": {
       "model_id": "7927c6817db345b0bc4dd6b00e288156",
       "version_major": 2,
       "version_minor": 0
      },
      "text/plain": [
       "Output()"
      ]
     },
     "metadata": {},
     "output_type": "display_data"
    },
    {
     "data": {
      "text/html": [
       "<pre style=\"white-space:pre;overflow-x:auto;line-height:normal;font-family:Menlo,'DejaVu Sans Mono',consolas,'Courier New',monospace\"></pre>\n"
      ],
      "text/plain": []
     },
     "metadata": {},
     "output_type": "display_data"
    },
    {
     "data": {
      "text/html": [
       "<pre style=\"white-space:pre;overflow-x:auto;line-height:normal;font-family:Menlo,'DejaVu Sans Mono',consolas,'Courier New',monospace\">\n",
       "</pre>\n"
      ],
      "text/plain": [
       "\n"
      ]
     },
     "metadata": {},
     "output_type": "display_data"
    },
    {
     "data": {
      "application/vnd.jupyter.widget-view+json": {
       "model_id": "6271e02a27af49b3bc794ce8caf55ad2",
       "version_major": 2,
       "version_minor": 0
      },
      "text/plain": [
       "Output()"
      ]
     },
     "metadata": {},
     "output_type": "display_data"
    },
    {
     "name": "stdout",
     "output_type": "stream",
     "text": [
      "NJet > 2\n",
      "good_vtx definition v7\n",
      "NJet > 2\n",
      "good_vtx definition v7\n",
      "NJet > 2\n",
      "good_vtx definition v7\n",
      "NJet > 2\n",
      "good_vtx definition v7\n",
      "NJet > 2\n",
      "good_vtx definition v7\n",
      "NJet > 2\n",
      "good_vtx definition v7\n",
      "NJet > 2\n",
      "good_vtx definition v7\n"
     ]
    },
    {
     "data": {
      "text/html": [
       "<pre style=\"white-space:pre;overflow-x:auto;line-height:normal;font-family:Menlo,'DejaVu Sans Mono',consolas,'Courier New',monospace\"></pre>\n"
      ],
      "text/plain": []
     },
     "metadata": {},
     "output_type": "display_data"
    },
    {
     "data": {
      "text/html": [
       "<pre style=\"white-space:pre;overflow-x:auto;line-height:normal;font-family:Menlo,'DejaVu Sans Mono',consolas,'Courier New',monospace\">\n",
       "</pre>\n"
      ],
      "text/plain": [
       "\n"
      ]
     },
     "metadata": {},
     "output_type": "display_data"
    },
    {
     "name": "stderr",
     "output_type": "stream",
     "text": [
      "Process ForkProcess-5:\n",
      "Traceback (most recent call last):\n",
      "  File \"/uscms/home/kyungmip/nobackup/miniconda3/envs/debug/lib/python3.8/concurrent/futures/process.py\", line 239, in _process_worker\n",
      "    r = call_item.fn(*call_item.args, **call_item.kwargs)\n",
      "  File \"/uscms/home/kyungmip/nobackup/miniconda3/envs/debug/lib/python3.8/site-packages/coffea/processor/executor.py\", line 221, in __call__\n",
      "    out = self.function(*args, **kwargs)\n",
      "  File \"/uscms/home/kyungmip/nobackup/miniconda3/envs/debug/lib/python3.8/site-packages/coffea/processor/executor.py\", line 1336, in automatic_retries\n",
      "    return func(*args, **kwargs)\n",
      "  File \"/uscms/home/kyungmip/nobackup/miniconda3/envs/debug/lib/python3.8/site-packages/coffea/processor/executor.py\", line 1654, in _work_function\n",
      "    out = processor_instance.process(events)\n",
      "  File \"/uscms_data/d3/kyungmip/CMSSW_10_6_26/src/iDMe/python_analysis/studies/VRstudies/../../analysisTools/analysisTools.py\", line 266, in process\n",
      "    routines.genElectronKinematicBins(events)\n",
      "  File \"/uscms_data/d3/kyungmip/CMSSW_10_6_26/src/iDMe/python_analysis/studies/VRstudies/../../analysisTools/analysisSubroutines.py\", line 355, in genElectronKinematicBins\n",
      "    events[\"GenEle\",\"ptBin\"] = pt_map[runJitOutput(ele_ptCategory,events.GenEle.pt)]\n",
      "  File \"/uscms_data/d3/kyungmip/CMSSW_10_6_26/src/iDMe/python_analysis/studies/VRstudies/../../analysisTools/analysisSubroutines.py\", line 53, in runJitOutput\n",
      "    func(b,*args)\n",
      "  File \"/uscms/home/kyungmip/nobackup/miniconda3/envs/debug/lib/python3.8/site-packages/numba/core/dispatcher.py\", line 420, in _compile_for_args\n",
      "    return_val = self.compile(tuple(argtypes))\n",
      "  File \"/uscms/home/kyungmip/nobackup/miniconda3/envs/debug/lib/python3.8/site-packages/numba/core/lowering.py\", line 187, in lower\n",
      "    self.lower_normal_function(self.fndesc)\n",
      "  File \"/uscms/home/kyungmip/nobackup/miniconda3/envs/debug/lib/python3.8/site-packages/numba/core/dispatcher.py\", line 965, in compile\n",
      "    cres = self._compiler.compile(args, return_type)\n",
      "  File \"/uscms/home/kyungmip/nobackup/miniconda3/envs/debug/lib/python3.8/site-packages/numba/core/dispatcher.py\", line 125, in compile\n",
      "    status, retval = self._compile_cached(args, return_type)\n",
      "  File \"/uscms/home/kyungmip/nobackup/miniconda3/envs/debug/lib/python3.8/site-packages/numba/core/dispatcher.py\", line 139, in _compile_cached\n",
      "    retval = self._compile_core(args, return_type)\n",
      "  File \"/uscms/home/kyungmip/nobackup/miniconda3/envs/debug/lib/python3.8/site-packages/numba/core/dispatcher.py\", line 152, in _compile_core\n",
      "    cres = compiler.compile_extra(self.targetdescr.typing_context,\n",
      "  File \"/uscms/home/kyungmip/nobackup/miniconda3/envs/debug/lib/python3.8/site-packages/numba/core/compiler.py\", line 742, in compile_extra\n",
      "    return pipeline.compile_extra(func)\n",
      "  File \"/uscms/home/kyungmip/nobackup/miniconda3/envs/debug/lib/python3.8/site-packages/numba/core/compiler.py\", line 460, in compile_extra\n",
      "    return self._compile_bytecode()\n",
      "  File \"/uscms/home/kyungmip/nobackup/miniconda3/envs/debug/lib/python3.8/site-packages/numba/core/compiler.py\", line 528, in _compile_bytecode\n",
      "    return self._compile_core()\n",
      "  File \"/uscms/home/kyungmip/nobackup/miniconda3/envs/debug/lib/python3.8/site-packages/numba/core/compiler.py\", line 494, in _compile_core\n",
      "    pm.run(self.state)\n",
      "  File \"/uscms/home/kyungmip/nobackup/miniconda3/envs/debug/lib/python3.8/site-packages/numba/core/compiler_machinery.py\", line 356, in run\n",
      "    self._runPass(idx, pass_inst, state)\n",
      "  File \"/uscms/home/kyungmip/nobackup/miniconda3/envs/debug/lib/python3.8/site-packages/numba/core/compiler_lock.py\", line 35, in _acquire_compile_lock\n",
      "    return func(*args, **kwargs)\n",
      "  File \"/uscms/home/kyungmip/nobackup/miniconda3/envs/debug/lib/python3.8/site-packages/numba/core/compiler_machinery.py\", line 311, in _runPass\n",
      "    mutated |= check(pss.run_pass, internal_state)\n",
      "  File \"/uscms/home/kyungmip/nobackup/miniconda3/envs/debug/lib/python3.8/site-packages/numba/core/compiler_machinery.py\", line 273, in check\n",
      "    mangled = func(compiler_state)\n",
      "  File \"/uscms/home/kyungmip/nobackup/miniconda3/envs/debug/lib/python3.8/site-packages/numba/core/typed_passes.py\", line 466, in run_pass\n",
      "    lower.lower()\n",
      "  File \"/uscms/home/kyungmip/nobackup/miniconda3/envs/debug/lib/python3.8/site-packages/numba/core/lowering.py\", line 241, in lower_normal_function\n",
      "    entry_block_tail = self.lower_function_body()\n",
      "  File \"/uscms/home/kyungmip/nobackup/miniconda3/envs/debug/lib/python3.8/site-packages/numba/core/lowering.py\", line 271, in lower_function_body\n",
      "    self.lower_block(block)\n",
      "  File \"/uscms/home/kyungmip/nobackup/miniconda3/envs/debug/lib/python3.8/site-packages/numba/core/lowering.py\", line 285, in lower_block\n",
      "    self.lower_inst(inst)\n",
      "  File \"/uscms/home/kyungmip/nobackup/miniconda3/envs/debug/lib/python3.8/site-packages/numba/core/lowering.py\", line 463, in lower_inst\n",
      "    val = self.lower_assign(ty, inst)\n",
      "\n",
      "KeyboardInterrupt\n",
      "\n"
     ]
    }
   ],
   "source": [
    "#analyzer = Analyzer(sample_config, histos_config, cuts_config, model_config) # If using BDT in cuts\n",
    "analyzer = Analyzer(sample_config, histos_config, cuts_config) # If not using BDT in cuts\n",
    "\n",
    "t1 = time.time()\n",
    "out = analyzer.process(execr='futures')\n",
    "t2 = time.time()\n",
    "\n",
    "print(\"Runtime: {:.2f} minutes\".format((t2-t1)/60))\n",
    "#util.save(out,f\"{outdir}/signal_VR_collinear_neg_good_vtx_v7_NJetG2.coffea\")\n",
    "#util.save(out,f\"{outdir}/signal_SRbeforeISRcuts_good_vtx_v7_NJetG0L3.coffea\")\n",
    "#util.save(out,f\"{outdir}/signal_SRbeforeISRcuts_no_good_vtx_cut_NJetG0L3.coffea\")\n",
    "#util.save(out,f\"{outdir}/signal_SRbeforeISRcuts_good_vtx_idOnly_NJetG0L3.coffea\")\n",
    "#util.save(out,f\"{outdir}/signal_SRbeforeISRcuts_good_vtx_none_NJetG0.coffea\")\n",
    "#util.save(out,f\"{outdir}/signal_SRbeforeISRcuts_good_vtx_idOnly_NJetG0.coffea\")\n",
    "util.save(out,f\"{outdir}/signal_SRbeforeISRcuts_good_vtx_v7_NJetG2.coffea\")\n",
    "#util.save(out,f\"{outdir}/unskimmed_signal_SRbeforeISRcuts_no_good_vtx_cut.coffea\")\n",
    "\n",
    "del out, analyzer"
   ]
  },
  {
   "cell_type": "markdown",
   "id": "97b2ff87-c610-4e5a-9d3d-0255d980dbe3",
   "metadata": {},
   "source": [
    "### Background"
   ]
  },
  {
   "cell_type": "code",
   "execution_count": 8,
   "id": "4cbca9d7-c595-4f90-abcf-ad958b299a3b",
   "metadata": {},
   "outputs": [],
   "source": [
    "#sample_config = \"./configs/sample_configs/skimmed_bkg_2018_v10_miniAOD.json\" # withOUT refitted mass & HEM veto (bug) applied\n",
    "#sample_config = \"./configs/sample_configs/skimmed_bkg_2018_v10_miniAOD_noHEMveto.json\" # without refitted mass & HEM veto NOT applied\n",
    "\n",
    "sample_config = \"./configs/sample_configs/skimmed_bkg_2018_v11_miniAOD.json\" # WITH refitted mass & HEM veto (bug) applied\n",
    "#sample_config = \"./configs/sample_configs/skimmed_bkg_2018_v11_miniAOD_noHEMveto.json\" # WITH refitted mass & HEM veto NOT applied"
   ]
  },
  {
   "cell_type": "code",
   "execution_count": 9,
   "id": "6f817866-b919-4b88-b1ad-01f21d032c36",
   "metadata": {},
   "outputs": [],
   "source": [
    "outname = 'VR_bugHEMveto'"
   ]
  },
  {
   "cell_type": "code",
   "execution_count": 10,
   "id": "f3671a4a-36ea-4965-91f2-aea7fae78ca6",
   "metadata": {},
   "outputs": [
    {
     "data": {
      "application/vnd.jupyter.widget-view+json": {
       "model_id": "dbe7b99632354865954f369c93ca254a",
       "version_major": 2,
       "version_minor": 0
      },
      "text/plain": [
       "Output()"
      ]
     },
     "metadata": {},
     "output_type": "display_data"
    },
    {
     "name": "stdout",
     "output_type": "stream",
     "text": [
      "NJet > 2\n",
      "good_vtx definition v7\n",
      "NJet > 2\n",
      "good_vtx definition v7\n",
      "NJet > 2\n",
      "good_vtx definition v7\n",
      "NJet > 2\n",
      "good_vtx definition v7\n",
      "NJet > 2\n",
      "good_vtx definition v7\n",
      "NJet > 2\n",
      "good_vtx definition v7\n",
      "NJet > 2\n",
      "good_vtx definition v7\n",
      "NJet > 2\n",
      "NJet > 2good_vtx definition v7\n",
      "\n",
      "good_vtx definition v7\n",
      "NJet > 2\n",
      "NJet > 2good_vtx definition v7\n",
      "\n",
      "NJet > 2\n",
      "good_vtx definition v7\n",
      "good_vtx definition v7\n",
      "NJet > 2\n",
      "good_vtx definition v7\n",
      "NJet > 2\n",
      "NJet > 2\n",
      "good_vtx definition v7\n",
      "good_vtx definition v7\n",
      "NJet > 2\n",
      "good_vtx definition v7\n",
      "NJet > 2\n",
      "good_vtx definition v7\n",
      "NJet > 2\n",
      "NJet > 2good_vtx definition v7\n",
      "\n",
      "good_vtx definition v7\n",
      "NJet > 2\n",
      "NJet > 2good_vtx definition v7\n",
      "\n",
      "good_vtx definition v7\n",
      "NJet > 2\n",
      "good_vtx definition v7\n",
      "NJet > 2\n",
      "good_vtx definition v7\n",
      "NJet > 2\n",
      "good_vtx definition v7\n",
      "NJet > 2\n",
      "good_vtx definition v7\n",
      "NJet > 2\n",
      "good_vtx definition v7\n",
      "NJet > 2\n",
      "good_vtx definition v7\n",
      "NJet > 2\n",
      "good_vtx definition v7\n",
      "NJet > 2\n",
      "good_vtx definition v7\n",
      "NJet > 2\n",
      "good_vtx definition v7\n",
      "NJet > 2\n",
      "good_vtx definition v7\n",
      "NJet > 2\n",
      "good_vtx definition v7\n",
      "NJet > 2\n",
      "good_vtx definition v7\n",
      "NJet > 2\n",
      "good_vtx definition v7\n",
      "NJet > 2\n",
      "good_vtx definition v7\n",
      "NJet > 2\n",
      "good_vtx definition v7\n",
      "NJet > 2\n",
      "good_vtx definition v7\n",
      "NJet > 2\n",
      "good_vtx definition v7\n",
      "NJet > 2\n",
      "good_vtx definition v7\n",
      "NJet > 2\n",
      "good_vtx definition v7\n",
      "NJet > 2\n",
      "good_vtx definition v7\n",
      "NJet > 2\n",
      "good_vtx definition v7\n",
      "NJet > 2\n",
      "good_vtx definition v7\n",
      "NJet > 2\n",
      "good_vtx definition v7\n",
      "NJet > 2\n",
      "good_vtx definition v7\n",
      "NJet > 2\n",
      "good_vtx definition v7\n",
      "NJet > 2\n",
      "good_vtx definition v7\n",
      "NJet > 2\n",
      "good_vtx definition v7\n",
      "NJet > 2\n",
      "good_vtx definition v7\n",
      "NJet > 2\n",
      "good_vtx definition v7\n",
      "NJet > 2\n",
      "good_vtx definition v7\n",
      "NJet > 2\n",
      "\n",
      "NJet > 2\n",
      "good_vtx definition v7\n",
      "NJet > 2\n",
      "good_vtx definition v7\n",
      "NJet > 2\n",
      "good_vtx definition v7\n",
      "\n",
      "good_vtx definition v7NJet > 2\n",
      "NJet > 2\n",
      "good_vtx definition v7\n",
      "NJet > 2\n",
      "\n",
      "good_vtx definition v7NJet > 2\n",
      "good_vtx definition v7\n",
      "NJet > 2\n",
      "\n",
      "\n",
      "NJet > 2good_vtx definition v7good_vtx definition v7\n",
      "NJet > 2\n",
      "good_vtx definition v7\n",
      "NJet > 2\n",
      "good_vtx definition v7\n",
      "NJet > 2\n",
      "good_vtx definition v7\n",
      "NJet > 2\n",
      "good_vtx definition v7\n",
      "NJet > 2\n",
      "good_vtx definition v7\n",
      "NJet > 2\n",
      "good_vtx definition v7\n",
      "NJet > 2\n",
      "good_vtx definition v7\n",
      "NJet > 2\n",
      "\n",
      "good_vtx definition v7good_vtx definition v7\n",
      "NJet > 2\n",
      "good_vtx definition v7NJet > 2\n",
      "NJet > 2\n",
      "good_vtx definition v7\n",
      "good_vtx definition v7\n",
      "NJet > 2NJet > 2\n",
      "\n",
      "good_vtx definition v7\n",
      "good_vtx definition v7\n",
      "NJet > 2\n",
      "good_vtx definition v7\n",
      "NJet > 2\n",
      "good_vtx definition v7\n",
      "NJet > 2\n",
      "good_vtx definition v7\n",
      "NJet > 2\n",
      "good_vtx definition v7\n"
     ]
    },
    {
     "data": {
      "text/html": [
       "<pre style=\"white-space:pre;overflow-x:auto;line-height:normal;font-family:Menlo,'DejaVu Sans Mono',consolas,'Courier New',monospace\"></pre>\n"
      ],
      "text/plain": []
     },
     "metadata": {},
     "output_type": "display_data"
    },
    {
     "data": {
      "text/html": [
       "<pre style=\"white-space:pre;overflow-x:auto;line-height:normal;font-family:Menlo,'DejaVu Sans Mono',consolas,'Courier New',monospace\">\n",
       "</pre>\n"
      ],
      "text/plain": [
       "\n"
      ]
     },
     "metadata": {},
     "output_type": "display_data"
    },
    {
     "name": "stdout",
     "output_type": "stream",
     "text": [
      "Runtime: 8.34 minutes\n"
     ]
    }
   ],
   "source": [
    "#analyzer = Analyzer(sample_config, histos_config, cuts_config, model_config) # If using BDT in cuts\n",
    "analyzer = Analyzer(sample_config, histos_config, cuts_config) # If not using BDT in cuts\n",
    "\n",
    "t1 = time.time()\n",
    "out = analyzer.process(execr='futures')\n",
    "t2 = time.time()\n",
    "\n",
    "print(\"Runtime: {:.2f} minutes\".format((t2-t1)/60))\n",
    "\n",
    "util.save(out,f\"{outdir}/bkg_{outname}.coffea\")\n",
    "\n",
    "del out, analyzer"
   ]
  },
  {
   "cell_type": "markdown",
   "id": "7c1a1354-e052-4ff6-a4e1-0259a2a1e564",
   "metadata": {},
   "source": [
    "### Data"
   ]
  },
  {
   "cell_type": "code",
   "execution_count": 11,
   "id": "4b10e392-03a0-4408-a84f-07ff69ef5e5c",
   "metadata": {},
   "outputs": [],
   "source": [
    "#sample_config = \"./configs/sample_configs/skimmed_data_2018_MET_v3.json\" # withOUT refitted mass & HEM veto (bug) applied\n",
    "#sample_config = \"./configs/sample_configs/skimmed_data_2018_MET_v3_noHEMveto.json\" # without refitted mass & HEM veto NOT applied\n",
    "\n",
    "sample_config = \"./configs/sample_configs/skimmed_data_2018_MET_v4.json\" # WITH refitted mass & HEM veto (bug) applied\n",
    "#sample_config = \"./configs/sample_configs/skimmed_data_2018_MET_v4_noHEMveto.json\" # WITH refitted mass & HEM veto NOT applied"
   ]
  },
  {
   "cell_type": "code",
   "execution_count": 12,
   "id": "8ac5ea24-3f42-48f5-8fdd-9fde5589d67a",
   "metadata": {
    "scrolled": true
   },
   "outputs": [
    {
     "data": {
      "application/vnd.jupyter.widget-view+json": {
       "model_id": "f23f139b86194d9db085e95a7260272d",
       "version_major": 2,
       "version_minor": 0
      },
      "text/plain": [
       "Output()"
      ]
     },
     "metadata": {},
     "output_type": "display_data"
    },
    {
     "data": {
      "text/html": [
       "<pre style=\"white-space:pre;overflow-x:auto;line-height:normal;font-family:Menlo,'DejaVu Sans Mono',consolas,'Courier New',monospace\"></pre>\n"
      ],
      "text/plain": []
     },
     "metadata": {},
     "output_type": "display_data"
    },
    {
     "data": {
      "text/html": [
       "<pre style=\"white-space:pre;overflow-x:auto;line-height:normal;font-family:Menlo,'DejaVu Sans Mono',consolas,'Courier New',monospace\">\n",
       "</pre>\n"
      ],
      "text/plain": [
       "\n"
      ]
     },
     "metadata": {},
     "output_type": "display_data"
    },
    {
     "data": {
      "application/vnd.jupyter.widget-view+json": {
       "model_id": "42e2e55a1efd4f5da1d033ac387d2807",
       "version_major": 2,
       "version_minor": 0
      },
      "text/plain": [
       "Output()"
      ]
     },
     "metadata": {},
     "output_type": "display_data"
    },
    {
     "name": "stdout",
     "output_type": "stream",
     "text": [
      "NJet > 2\n",
      "good_vtx definition v7\n",
      "NJet > 2\n",
      "good_vtx definition v7\n",
      "NJet > 2\n",
      "good_vtx definition v7\n",
      "NJet > 2\n",
      "good_vtx definition v7\n",
      "NJet > 2\n",
      "good_vtx definition v7\n",
      "NJet > 2\n",
      "good_vtx definition v7\n",
      "NJet > 2\n",
      "good_vtx definition v7\n",
      "NJet > 2\n",
      "NJet > 2\n",
      "good_vtx definition v7\n",
      "good_vtx definition v7\n",
      "NJet > 2\n",
      "good_vtx definition v7\n",
      "NJet > 2\n",
      "good_vtx definition v7\n",
      "NJet > 2\n",
      "good_vtx definition v7\n",
      "NJet > 2\n",
      "good_vtx definition v7\n",
      "NJet > 2\n",
      "good_vtx definition v7\n",
      "NJet > 2\n",
      "NJet > 2\n",
      "good_vtx definition v7\n",
      "good_vtx definition v7\n",
      "NJet > 2\n",
      "good_vtx definition v7\n"
     ]
    },
    {
     "data": {
      "text/html": [
       "<pre style=\"white-space:pre;overflow-x:auto;line-height:normal;font-family:Menlo,'DejaVu Sans Mono',consolas,'Courier New',monospace\"></pre>\n"
      ],
      "text/plain": []
     },
     "metadata": {},
     "output_type": "display_data"
    },
    {
     "data": {
      "text/html": [
       "<pre style=\"white-space:pre;overflow-x:auto;line-height:normal;font-family:Menlo,'DejaVu Sans Mono',consolas,'Courier New',monospace\">\n",
       "</pre>\n"
      ],
      "text/plain": [
       "\n"
      ]
     },
     "metadata": {},
     "output_type": "display_data"
    },
    {
     "name": "stdout",
     "output_type": "stream",
     "text": [
      "Runtime: 1.41 minutes\n"
     ]
    }
   ],
   "source": [
    "#analyzer = Analyzer(sample_config, histos_config, cuts_config, model_config) # If using BDT in cuts\n",
    "analyzer = Analyzer(sample_config, histos_config, cuts_config) # If not using BDT in cuts\n",
    "\n",
    "t1 = time.time()\n",
    "out = analyzer.process(execr='futures')\n",
    "t2 = time.time()\n",
    "\n",
    "print(\"Runtime: {:.2f} minutes\".format((t2-t1)/60))\n",
    "\n",
    "util.save(out,f\"{outdir}/data_{outname}.coffea\")\n",
    "\n",
    "del out, analyzer"
   ]
  },
  {
   "cell_type": "code",
   "execution_count": null,
   "id": "3535cbce-e3ab-4783-91ba-559f06713645",
   "metadata": {},
   "outputs": [],
   "source": []
  },
  {
   "cell_type": "code",
   "execution_count": null,
   "id": "e8a14c05-24bb-4848-9c65-9f8485e00a6a",
   "metadata": {},
   "outputs": [],
   "source": []
  }
 ],
 "metadata": {
  "kernelspec": {
   "display_name": "Python 3 (ipykernel)",
   "language": "python",
   "name": "python3"
  },
  "language_info": {
   "codemirror_mode": {
    "name": "ipython",
    "version": 3
   },
   "file_extension": ".py",
   "mimetype": "text/x-python",
   "name": "python",
   "nbconvert_exporter": "python",
   "pygments_lexer": "ipython3",
   "version": "3.8.17"
  }
 },
 "nbformat": 4,
 "nbformat_minor": 5
}
