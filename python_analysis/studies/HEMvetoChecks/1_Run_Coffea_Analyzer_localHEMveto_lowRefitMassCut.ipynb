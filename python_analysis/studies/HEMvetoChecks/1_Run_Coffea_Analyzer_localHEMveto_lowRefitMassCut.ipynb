{
 "cells": [
  {
   "cell_type": "code",
   "execution_count": 1,
   "id": "e669ba8e-d8ae-45e9-bdac-9dabb1da3557",
   "metadata": {},
   "outputs": [],
   "source": [
    "%load_ext autoreload\n",
    "%autoreload 2\n",
    "import numpy as np\n",
    "import matplotlib.pyplot as plt\n",
    "import awkward as ak\n",
    "\n",
    "import sys\n",
    "sys.path.append(\"../../analysisTools/\")\n",
    "from analysisTools import Analyzer\n",
    "from analysisTools import loadSchema\n",
    "import analysisTools as tools\n",
    "import analysisSubroutines as routines\n",
    "import importlib\n",
    "import coffea.util as util\n",
    "\n",
    "import time\n",
    "import json\n",
    "import os\n",
    "import glob"
   ]
  },
  {
   "cell_type": "markdown",
   "id": "d90eb2c8-1882-4781-a242-44a5758376b4",
   "metadata": {},
   "source": [
    "## Run coffea on skimmed ntuples"
   ]
  },
  {
   "cell_type": "code",
   "execution_count": 2,
   "id": "c72681ac-a0f5-402a-8a80-d5f17505b69c",
   "metadata": {},
   "outputs": [],
   "source": [
    "#cuts_config = \"./configs/cut_configs/VR_Collinearity_withLocalHEMjetVeto.py\"\n",
    "cuts_config = \"./configs/cut_configs/VR_SSSF_withLocalHEMjetVeto.py\"\n",
    "\n",
    "#histos_config = \"./configs/histo_configs/histos_SR.py\"\n",
    "histos_config = \"./configs/histo_configs/minimal_histo.py\""
   ]
  },
  {
   "cell_type": "code",
   "execution_count": 3,
   "id": "67a3d095-2d86-4899-a215-b97b166a5fc2",
   "metadata": {},
   "outputs": [],
   "source": [
    "# BDT \n",
    "model_config = \"./configs/models/BDT_inclusive_10Vars.json\""
   ]
  },
  {
   "cell_type": "code",
   "execution_count": 4,
   "id": "8ca2a112-1126-407b-8b83-99e6b07a59eb",
   "metadata": {},
   "outputs": [],
   "source": [
    "outdir = \"./coffea/skimmed/\"\n",
    "os.makedirs(outdir, exist_ok=True)"
   ]
  },
  {
   "cell_type": "markdown",
   "id": "97b2ff87-c610-4e5a-9d3d-0255d980dbe3",
   "metadata": {},
   "source": [
    "### Background"
   ]
  },
  {
   "cell_type": "code",
   "execution_count": 5,
   "id": "4cbca9d7-c595-4f90-abcf-ad958b299a3b",
   "metadata": {},
   "outputs": [],
   "source": [
    "#sample_config = \"./configs/sample_configs/skimmed_bkg_2018_v10_miniAOD.json\" # withOUT refitted mass & HEM veto (bug) applied\n",
    "#sample_config = \"./configs/sample_configs/skimmed_bkg_2018_v10_miniAOD_noHEMveto.json\" # without refitted mass & HEM veto NOT applied\n",
    "\n",
    "#sample_config = \"./configs/sample_configs/skimmed_bkg_2018_v11_miniAOD.json\" # WITH refitted mass & HEM veto (bug) applied\n",
    "sample_config = \"./configs/sample_configs/skimmed_bkg_2018_v11_miniAOD_noHEMveto.json\" # WITH refitted mass & HEM veto NOT applied"
   ]
  },
  {
   "cell_type": "code",
   "execution_count": 6,
   "id": "6f817866-b919-4b88-b1ad-01f21d032c36",
   "metadata": {},
   "outputs": [],
   "source": [
    "#outname = 'VR_localHEMveto_lowRefitMassCut'\n",
    "outname = 'VR_SSSF_localHEMveto_good_vtx_v10'"
   ]
  },
  {
   "cell_type": "code",
   "execution_count": 7,
   "id": "f3671a4a-36ea-4965-91f2-aea7fae78ca6",
   "metadata": {},
   "outputs": [
    {
     "data": {
      "application/vnd.jupyter.widget-view+json": {
       "model_id": "17b814314cf14f359029a7f7aec17ff3",
       "version_major": 2,
       "version_minor": 0
      },
      "text/plain": [
       "Output()"
      ]
     },
     "metadata": {},
     "output_type": "display_data"
    },
    {
     "data": {
      "text/html": [
       "<pre style=\"white-space:pre;overflow-x:auto;line-height:normal;font-family:Menlo,'DejaVu Sans Mono',consolas,'Courier New',monospace\"></pre>\n"
      ],
      "text/plain": []
     },
     "metadata": {},
     "output_type": "display_data"
    },
    {
     "data": {
      "text/html": [
       "<pre style=\"white-space:pre;overflow-x:auto;line-height:normal;font-family:Menlo,'DejaVu Sans Mono',consolas,'Courier New',monospace\">\n",
       "</pre>\n"
      ],
      "text/plain": [
       "\n"
      ]
     },
     "metadata": {},
     "output_type": "display_data"
    },
    {
     "data": {
      "application/vnd.jupyter.widget-view+json": {
       "model_id": "ca48b05d069345bd81cb3fcb8911e7c6",
       "version_major": 2,
       "version_minor": 0
      },
      "text/plain": [
       "Output()"
      ]
     },
     "metadata": {},
     "output_type": "display_data"
    },
    {
     "name": "stdout",
     "output_type": "stream",
     "text": [
      "good_vtx definition v10\n",
      "good_vtx definition v10\n",
      "good_vtx definition v10\n",
      "good_vtx definition v10\n",
      "good_vtx definition v10\n",
      "good_vtx definition v10\n",
      "good_vtx definition v10\n",
      "good_vtx definition v10\n",
      "good_vtx definition v10\n",
      "good_vtx definition v10\n",
      "good_vtx definition v10\n",
      "good_vtx definition v10\n",
      "good_vtx definition v10\n",
      "good_vtx definition v10\n",
      "good_vtx definition v10\n",
      "good_vtx definition v10\n",
      "good_vtx definition v10\n",
      "good_vtx definition v10\n",
      "good_vtx definition v10\n",
      "good_vtx definition v10\n",
      "good_vtx definition v10\n",
      "good_vtx definition v10\n",
      "good_vtx definition v10\n",
      "good_vtx definition v10\n",
      "good_vtx definition v10\n",
      "good_vtx definition v10\n",
      "good_vtx definition v10\n",
      "good_vtx definition v10\n",
      "good_vtx definition v10\n",
      "good_vtx definition v10\n",
      "good_vtx definition v10\n",
      "good_vtx definition v10\n",
      "good_vtx definition v10\n",
      "good_vtx definition v10good_vtx definition v10\n",
      "\n",
      "good_vtx definition v10\n",
      "good_vtx definition v10\n",
      "good_vtx definition v10\n",
      "good_vtx definition v10\n",
      "good_vtx definition v10\n",
      "good_vtx definition v10\n",
      "good_vtx definition v10\n",
      "good_vtx definition v10\n",
      "good_vtx definition v10\n",
      "good_vtx definition v10\n",
      "good_vtx definition v10\n",
      "good_vtx definition v10\n",
      "good_vtx definition v10\n",
      "good_vtx definition v10\n",
      "good_vtx definition v10\n",
      "good_vtx definition v10\n",
      "good_vtx definition v10good_vtx definition v10\n",
      "\n",
      "good_vtx definition v10\n",
      "good_vtx definition v10\n",
      "good_vtx definition v10\n",
      "good_vtx definition v10\n",
      "good_vtx definition v10\n",
      "good_vtx definition v10\n",
      "good_vtx definition v10good_vtx definition v10\n",
      "\n",
      "good_vtx definition v10\n",
      "good_vtx definition v10\n",
      "good_vtx definition v10\n",
      "good_vtx definition v10\n",
      "good_vtx definition v10\n",
      "good_vtx definition v10\n",
      "good_vtx definition v10\n",
      "good_vtx definition v10\n",
      "good_vtx definition v10\n",
      "good_vtx definition v10\n",
      "good_vtx definition v10\n",
      "good_vtx definition v10\n",
      "good_vtx definition v10\n",
      "good_vtx definition v10\n",
      "good_vtx definition v10\n",
      "good_vtx definition v10\n",
      "good_vtx definition v10\n",
      "good_vtx definition v10\n"
     ]
    },
    {
     "data": {
      "text/html": [
       "<pre style=\"white-space:pre;overflow-x:auto;line-height:normal;font-family:Menlo,'DejaVu Sans Mono',consolas,'Courier New',monospace\"></pre>\n"
      ],
      "text/plain": []
     },
     "metadata": {},
     "output_type": "display_data"
    },
    {
     "data": {
      "text/html": [
       "<pre style=\"white-space:pre;overflow-x:auto;line-height:normal;font-family:Menlo,'DejaVu Sans Mono',consolas,'Courier New',monospace\">\n",
       "</pre>\n"
      ],
      "text/plain": [
       "\n"
      ]
     },
     "metadata": {},
     "output_type": "display_data"
    },
    {
     "name": "stdout",
     "output_type": "stream",
     "text": [
      "Runtime: 10.09 minutes\n"
     ]
    }
   ],
   "source": [
    "#analyzer = Analyzer(sample_config, histos_config, cuts_config, model_config) # If using BDT in cuts\n",
    "analyzer = Analyzer(sample_config, histos_config, cuts_config) # If not using BDT in cuts\n",
    "\n",
    "t1 = time.time()\n",
    "out = analyzer.process(execr='futures')\n",
    "t2 = time.time()\n",
    "\n",
    "print(\"Runtime: {:.2f} minutes\".format((t2-t1)/60))\n",
    "\n",
    "util.save(out,f\"{outdir}/bkg_{outname}.coffea\")\n",
    "\n",
    "del out, analyzer"
   ]
  },
  {
   "cell_type": "markdown",
   "id": "7c1a1354-e052-4ff6-a4e1-0259a2a1e564",
   "metadata": {},
   "source": [
    "### Data"
   ]
  },
  {
   "cell_type": "code",
   "execution_count": 8,
   "id": "4b10e392-03a0-4408-a84f-07ff69ef5e5c",
   "metadata": {},
   "outputs": [],
   "source": [
    "#sample_config = \"./configs/sample_configs/skimmed_data_2018_MET_v3.json\" # withOUT refitted mass & HEM veto (bug) applied\n",
    "#sample_config = \"./configs/sample_configs/skimmed_data_2018_MET_v3_noHEMveto.json\" # without refitted mass & HEM veto NOT applied\n",
    "\n",
    "#sample_config = \"./configs/sample_configs/skimmed_data_2018_MET_v4.json\" # WITH refitted mass & HEM veto (bug) applied\n",
    "sample_config = \"./configs/sample_configs/skimmed_data_2018_MET_v4_noHEMveto.json\" # WITH refitted mass & HEM veto NOT applied"
   ]
  },
  {
   "cell_type": "code",
   "execution_count": 9,
   "id": "8ac5ea24-3f42-48f5-8fdd-9fde5589d67a",
   "metadata": {
    "scrolled": true
   },
   "outputs": [
    {
     "data": {
      "application/vnd.jupyter.widget-view+json": {
       "model_id": "6e3a3dcc32aa45a88d07a036b3f69b97",
       "version_major": 2,
       "version_minor": 0
      },
      "text/plain": [
       "Output()"
      ]
     },
     "metadata": {},
     "output_type": "display_data"
    },
    {
     "data": {
      "text/html": [
       "<pre style=\"white-space:pre;overflow-x:auto;line-height:normal;font-family:Menlo,'DejaVu Sans Mono',consolas,'Courier New',monospace\"></pre>\n"
      ],
      "text/plain": []
     },
     "metadata": {},
     "output_type": "display_data"
    },
    {
     "data": {
      "text/html": [
       "<pre style=\"white-space:pre;overflow-x:auto;line-height:normal;font-family:Menlo,'DejaVu Sans Mono',consolas,'Courier New',monospace\">\n",
       "</pre>\n"
      ],
      "text/plain": [
       "\n"
      ]
     },
     "metadata": {},
     "output_type": "display_data"
    },
    {
     "data": {
      "application/vnd.jupyter.widget-view+json": {
       "model_id": "ee719a428b01432da776ac9d8738dea1",
       "version_major": 2,
       "version_minor": 0
      },
      "text/plain": [
       "Output()"
      ]
     },
     "metadata": {},
     "output_type": "display_data"
    },
    {
     "name": "stdout",
     "output_type": "stream",
     "text": [
      "good_vtx definition v10\n",
      "good_vtx definition v10\n",
      "good_vtx definition v10\n",
      "good_vtx definition v10\n",
      "good_vtx definition v10\n",
      "good_vtx definition v10\n",
      "good_vtx definition v10\n",
      "good_vtx definition v10\n",
      "good_vtx definition v10\n",
      "good_vtx definition v10\n",
      "good_vtx definition v10\n",
      "good_vtx definition v10\n",
      "good_vtx definition v10\n",
      "good_vtx definition v10\n",
      "good_vtx definition v10\n",
      "good_vtx definition v10\n",
      "good_vtx definition v10\n"
     ]
    },
    {
     "data": {
      "text/html": [
       "<pre style=\"white-space:pre;overflow-x:auto;line-height:normal;font-family:Menlo,'DejaVu Sans Mono',consolas,'Courier New',monospace\"></pre>\n"
      ],
      "text/plain": []
     },
     "metadata": {},
     "output_type": "display_data"
    },
    {
     "data": {
      "text/html": [
       "<pre style=\"white-space:pre;overflow-x:auto;line-height:normal;font-family:Menlo,'DejaVu Sans Mono',consolas,'Courier New',monospace\">\n",
       "</pre>\n"
      ],
      "text/plain": [
       "\n"
      ]
     },
     "metadata": {},
     "output_type": "display_data"
    },
    {
     "name": "stdout",
     "output_type": "stream",
     "text": [
      "Runtime: 2.19 minutes\n"
     ]
    }
   ],
   "source": [
    "#analyzer = Analyzer(sample_config, histos_config, cuts_config, model_config) # If using BDT in cuts\n",
    "analyzer = Analyzer(sample_config, histos_config, cuts_config) # If not using BDT in cuts\n",
    "\n",
    "t1 = time.time()\n",
    "out = analyzer.process(execr='futures')\n",
    "t2 = time.time()\n",
    "\n",
    "print(\"Runtime: {:.2f} minutes\".format((t2-t1)/60))\n",
    "\n",
    "util.save(out,f\"{outdir}/data_{outname}.coffea\")\n",
    "\n",
    "del out, analyzer"
   ]
  },
  {
   "cell_type": "code",
   "execution_count": null,
   "id": "dd687ddc-9774-434a-a231-d988a9f4e90d",
   "metadata": {},
   "outputs": [],
   "source": []
  },
  {
   "cell_type": "code",
   "execution_count": null,
   "id": "ed065839-72c4-46e8-ba35-bfb6e6193d30",
   "metadata": {},
   "outputs": [],
   "source": []
  },
  {
   "cell_type": "code",
   "execution_count": null,
   "id": "67ea2a2e-8456-4451-be5c-8f169d86e46d",
   "metadata": {},
   "outputs": [],
   "source": []
  }
 ],
 "metadata": {
  "kernelspec": {
   "display_name": "Python 3 (ipykernel)",
   "language": "python",
   "name": "python3"
  },
  "language_info": {
   "codemirror_mode": {
    "name": "ipython",
    "version": 3
   },
   "file_extension": ".py",
   "mimetype": "text/x-python",
   "name": "python",
   "nbconvert_exporter": "python",
   "pygments_lexer": "ipython3",
   "version": "3.8.17"
  }
 },
 "nbformat": 4,
 "nbformat_minor": 5
}
