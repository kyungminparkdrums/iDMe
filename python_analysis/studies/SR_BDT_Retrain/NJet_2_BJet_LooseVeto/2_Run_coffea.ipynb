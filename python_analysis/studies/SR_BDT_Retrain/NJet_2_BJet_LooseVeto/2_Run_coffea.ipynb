{
 "cells": [
  {
   "cell_type": "code",
   "execution_count": 23,
   "id": "e94963cd-6dd7-44cd-9e04-b15d8ada688c",
   "metadata": {},
   "outputs": [
    {
     "name": "stdout",
     "output_type": "stream",
     "text": [
      "The autoreload extension is already loaded. To reload it, use:\n",
      "  %reload_ext autoreload\n"
     ]
    }
   ],
   "source": [
    "%load_ext autoreload\n",
    "%autoreload 2\n",
    "import uproot\n",
    "import numpy as np\n",
    "import matplotlib.pyplot as plt\n",
    "import awkward as ak\n",
    "import sys\n",
    "sys.path.append(\"../../analysisTools/\")\n",
    "from analysisTools import Analyzer\n",
    "from analysisTools import loadSchema\n",
    "import analysisTools as tools\n",
    "import analysisSubroutines as routines\n",
    "import plotTools as ptools\n",
    "import utils\n",
    "import importlib\n",
    "import coffea.util as util\n",
    "import time\n",
    "import json\n",
    "import os\n",
    "import glob\n",
    "import pandas as pd"
   ]
  },
  {
   "cell_type": "code",
   "execution_count": 24,
   "id": "80730354-47ca-4b54-8913-832f3a6fcbe7",
   "metadata": {},
   "outputs": [
    {
     "data": {
      "text/plain": [
       "0"
      ]
     },
     "execution_count": 24,
     "metadata": {},
     "output_type": "execute_result"
    }
   ],
   "source": [
    "outdir = \"./coffea/\"\n",
    "os.system(f'mkdir -p {outdir}')"
   ]
  },
  {
   "cell_type": "markdown",
   "id": "c0386d2a-9699-4903-9620-94105baa74ed",
   "metadata": {},
   "source": [
    "## SR"
   ]
  },
  {
   "cell_type": "markdown",
   "id": "9d1bca0d-928c-4671-b836-63b6cc6e3733",
   "metadata": {},
   "source": [
    "#### Configs"
   ]
  },
  {
   "cell_type": "code",
   "execution_count": 25,
   "id": "a2b371d8-ebc4-4d4b-b5d1-f3c7abe6ef9f",
   "metadata": {},
   "outputs": [],
   "source": [
    "cuts_config = \"./cut_configs/SR_dPhiMETj0_BDT_update.py\""
   ]
  },
  {
   "cell_type": "code",
   "execution_count": 26,
   "id": "67c13a84-0d94-45ba-8644-ba5baf1e1a57",
   "metadata": {},
   "outputs": [],
   "source": [
    "#histos_config = \"./histo_configs/histos.py\" # new histogramming framework\n",
    "histos_config = \"./histo_configs/BDTvariables.py\" # old histogramming framework"
   ]
  },
  {
   "cell_type": "markdown",
   "id": "84f19506-e4fd-49e2-86aa-936c72b9f6db",
   "metadata": {},
   "source": [
    "### Signal"
   ]
  },
  {
   "cell_type": "code",
   "execution_count": 27,
   "id": "3dff0d97-df35-41d8-9d43-9408306b234f",
   "metadata": {},
   "outputs": [],
   "source": [
    "sample_config = \"./sample_configs/skimmed_signal_v9_miniAOD_2018_aEM.json\" # v9 signal; MINIAOD & new cross-cleaning & new xsec"
   ]
  },
  {
   "cell_type": "code",
   "execution_count": 28,
   "id": "a355af5d-9c4e-40af-b108-ff1afeb6edc9",
   "metadata": {
    "scrolled": true
   },
   "outputs": [
    {
     "data": {
      "application/vnd.jupyter.widget-view+json": {
       "model_id": "8c93d47ca7ca49d682b0b675615cd692",
       "version_major": 2,
       "version_minor": 0
      },
      "text/plain": [
       "Output()"
      ]
     },
     "metadata": {},
     "output_type": "display_data"
    },
    {
     "name": "stdout",
     "output_type": "stream",
     "text": [
      "BDT Pass: 2552/3437\n",
      "BDT Pass: 2912/3605\n",
      "BDT Pass: 7445/9605\n",
      "BDT Pass: 6007/8746\n",
      "BDT Pass: 1219/1533\n",
      "BDT Pass: 1803/2241\n",
      "BDT Pass: 10227/12181\n",
      "BDT Pass: 995/1199\n",
      "BDT Pass: 7548/10148\n",
      "BDT Pass: 3082/3545\n",
      "BDT Pass: 2554/3352\n",
      "BDT Pass: 946/1156\n",
      "BDT Pass: 2605/3080\n",
      "BDT Pass: 2811/3727\n",
      "BDT Pass: 805/938\n",
      "BDT Pass: 2733/3080\n",
      "BDT Pass: 2292/2869\n",
      "BDT Pass: 708/800\n",
      "BDT Pass: 1968/2170\n",
      "BDT Pass: 28/54\n",
      "BDT Pass: 1976/2413\n",
      "BDT Pass: 216/316\n",
      "BDT Pass: 457/596\n",
      "BDT Pass: 43/179\n",
      "BDT Pass: 109/316\n",
      "BDT Pass: 122/316\n",
      "BDT Pass: 185/213\n",
      "BDT Pass: 865/926\n",
      "BDT Pass: 671/764\n",
      "BDT Pass: 1161/1332\n",
      "BDT Pass: 956/1058\n",
      "BDT Pass: 2019/2371\n",
      "BDT Pass: 2473/2661\n",
      "BDT Pass: 2179/2315\n",
      "BDT Pass: 1840/2098\n",
      "BDT Pass: 1076/1250\n",
      "BDT Pass: 2102/2249\n",
      "BDT Pass: 417/464\n",
      "BDT Pass: 1723/1989\n",
      "BDT Pass: 1759/1838\n",
      "BDT Pass: 1877/2074\n",
      "BDT Pass: 856/1024\n",
      "BDT Pass: 1682/1828\n",
      "BDT Pass: 1451/1623\n",
      "BDT Pass: 1625/1729\n",
      "BDT Pass: 408/477\n",
      "BDT Pass: 364/458\n",
      "BDT Pass: 1436/1549\n",
      "BDT Pass: 1001/1124\n",
      "BDT Pass: 207/288\n",
      "BDT Pass: 887/985\n",
      "BDT Pass: 909/1030\n",
      "BDT Pass: 1113/1214\n",
      "BDT Pass: 1448/2022\n",
      "BDT Pass: 4254/5683\n",
      "BDT Pass: 637/873\n",
      "BDT Pass: 765/983\n",
      "BDT Pass: 3332/5050\n",
      "BDT Pass: 224/378\n",
      "BDT Pass: 839/1179\n",
      "BDT Pass: 3559/4516\n",
      "BDT Pass: 8555/10432\n"
     ]
    },
    {
     "data": {
      "text/html": [
       "<pre style=\"white-space:pre;overflow-x:auto;line-height:normal;font-family:Menlo,'DejaVu Sans Mono',consolas,'Courier New',monospace\"></pre>\n"
      ],
      "text/plain": []
     },
     "metadata": {},
     "output_type": "display_data"
    },
    {
     "data": {
      "text/html": [
       "<pre style=\"white-space:pre;overflow-x:auto;line-height:normal;font-family:Menlo,'DejaVu Sans Mono',consolas,'Courier New',monospace\">\n",
       "</pre>\n"
      ],
      "text/plain": [
       "\n"
      ]
     },
     "metadata": {},
     "output_type": "display_data"
    },
    {
     "name": "stdout",
     "output_type": "stream",
     "text": [
      "Runtime: 2.297274907430013 minutes\n"
     ]
    }
   ],
   "source": [
    "test = Analyzer(sample_config, histos_config, cuts_config)\n",
    "t1 = time.time()\n",
    "out = test.process(execr='futures', workers=4)\n",
    "t2 = time.time()\n",
    "print(f\"Runtime: {(t2-t1)/60} minutes\")\n",
    "util.save(out,f\"{outdir}/signal_v9_SR_dPhiMETj0Tight_BDTretrain.coffea\")\n",
    "del out, test"
   ]
  },
  {
   "cell_type": "markdown",
   "id": "22727b08-0078-4652-a57b-9c2312e7fccc",
   "metadata": {},
   "source": [
    "### Background"
   ]
  },
  {
   "cell_type": "code",
   "execution_count": 29,
   "id": "60f35816-5d5c-4af3-93a6-f473500d12dc",
   "metadata": {},
   "outputs": [],
   "source": [
    "sample_config = \"./sample_configs/skimmed_bkg_2018_v7_miniAOD.json\""
   ]
  },
  {
   "cell_type": "code",
   "execution_count": 30,
   "id": "78e32a58-c7c1-4df1-9fff-d5710e78220d",
   "metadata": {
    "scrolled": true
   },
   "outputs": [
    {
     "data": {
      "application/vnd.jupyter.widget-view+json": {
       "model_id": "059b088cb0cd48a7bd1fc9e08c1c50cc",
       "version_major": 2,
       "version_minor": 0
      },
      "text/plain": [
       "Output()"
      ]
     },
     "metadata": {},
     "output_type": "display_data"
    },
    {
     "name": "stdout",
     "output_type": "stream",
     "text": [
      "BDT Pass: 0/1\n",
      "BDT Pass: 0/27\n",
      "BDT Pass: 0/2\n",
      "BDT Pass: 2/132\n",
      "BDT Pass: 3/126\n",
      "BDT Pass: 1/40\n",
      "BDT Pass: 2/76\n",
      "BDT Pass: 25/1031\n",
      "BDT Pass: 11/634\n",
      "BDT Pass: 0/4\n",
      "BDT Pass: 4/120\n",
      "BDT Pass: 1/29\n",
      "BDT Pass: 0/29\n",
      "BDT Pass: 0/13\n",
      "BDT Pass: 0/9\n",
      "BDT Pass: 0/8\n",
      "BDT Pass: 1/7\n",
      "BDT Pass: 1/29\n",
      "BDT Pass: 0/21\n",
      "BDT Pass: 3/30\n",
      "BDT Pass: 0/13\n",
      "BDT Pass: 0/5\n",
      "BDT Pass: 10/378\n",
      "BDT Pass: 1/14\n",
      "BDT Pass: 1/21\n",
      "BDT Pass: 1/9\n",
      "BDT Pass: 0/3\n",
      "BDT Pass: 0/1\n",
      "BDT Pass: 0/6\n",
      "BDT Pass: 17/634\n",
      "BDT Pass: 0/2\n",
      "BDT Pass: 0/22\n",
      "BDT Pass: 1/6\n",
      "BDT Pass: 0/4BDT Pass: 1/1\n",
      "\n",
      "BDT Pass: 0/15\n"
     ]
    },
    {
     "data": {
      "text/html": [
       "<pre style=\"white-space:pre;overflow-x:auto;line-height:normal;font-family:Menlo,'DejaVu Sans Mono',consolas,'Courier New',monospace\"></pre>\n"
      ],
      "text/plain": []
     },
     "metadata": {},
     "output_type": "display_data"
    },
    {
     "data": {
      "text/html": [
       "<pre style=\"white-space:pre;overflow-x:auto;line-height:normal;font-family:Menlo,'DejaVu Sans Mono',consolas,'Courier New',monospace\">\n",
       "</pre>\n"
      ],
      "text/plain": [
       "\n"
      ]
     },
     "metadata": {},
     "output_type": "display_data"
    },
    {
     "name": "stdout",
     "output_type": "stream",
     "text": [
      "Runtime: 1.667773441473643 minutes\n"
     ]
    }
   ],
   "source": [
    "test = Analyzer(sample_config, histos_config, cuts_config)\n",
    "t1 = time.time()\n",
    "out = test.process(execr='futures', workers=4)\n",
    "t2 = time.time()\n",
    "print(f\"Runtime: {(t2-t1)/60} minutes\")\n",
    "util.save(out,f\"{outdir}/background_v7_SR_dPhiMETj0Tight_BDTretrain.coffea\")\n",
    "del out, test"
   ]
  },
  {
   "cell_type": "code",
   "execution_count": null,
   "id": "4c88511e-4122-4008-85a1-871514e7ad8d",
   "metadata": {},
   "outputs": [],
   "source": []
  },
  {
   "cell_type": "markdown",
   "id": "ac0548fc-3ab5-41f8-8493-ad301b23a144",
   "metadata": {},
   "source": [
    "Using `analysisTools_legacy.py` and `analysisSubroutines_legacy.py`"
   ]
  },
  {
   "cell_type": "code",
   "execution_count": 7,
   "id": "81740447-24db-45c1-b33d-f545c48b5635",
   "metadata": {},
   "outputs": [],
   "source": [
    "sample_config = \"./sample_configs/skimmed_signal_v5_xcleanStudy_2018_aEM.json\" # v5 signal; AOD & new cross-cleaning & new xsec\n",
    "histos_config = \"./histo_configs/BDTvariables.py\" # old histogramming framework"
   ]
  },
  {
   "cell_type": "code",
   "execution_count": 8,
   "id": "fe4fa923-c254-459d-8879-81fde3027c06",
   "metadata": {
    "scrolled": true
   },
   "outputs": [
    {
     "data": {
      "application/vnd.jupyter.widget-view+json": {
       "model_id": "9a0a0edde466443aaa690b742f95a309",
       "version_major": 2,
       "version_minor": 0
      },
      "text/plain": [
       "Output()"
      ]
     },
     "metadata": {},
     "output_type": "display_data"
    },
    {
     "data": {
      "text/html": [
       "<pre style=\"white-space:pre;overflow-x:auto;line-height:normal;font-family:Menlo,'DejaVu Sans Mono',consolas,'Courier New',monospace\"></pre>\n"
      ],
      "text/plain": []
     },
     "metadata": {},
     "output_type": "display_data"
    },
    {
     "data": {
      "text/html": [
       "<pre style=\"white-space:pre;overflow-x:auto;line-height:normal;font-family:Menlo,'DejaVu Sans Mono',consolas,'Courier New',monospace\">\n",
       "</pre>\n"
      ],
      "text/plain": [
       "\n"
      ]
     },
     "metadata": {},
     "output_type": "display_data"
    },
    {
     "data": {
      "application/vnd.jupyter.widget-view+json": {
       "model_id": "c06c3a55550b4c58a6ce2ee358100a32",
       "version_major": 2,
       "version_minor": 0
      },
      "text/plain": [
       "Output()"
      ]
     },
     "metadata": {},
     "output_type": "display_data"
    },
    {
     "name": "stdout",
     "output_type": "stream",
     "text": [
      "BDT Pass: 3177/4456\n",
      "BDT Pass: 3438/5012\n",
      "BDT Pass: 9355/11840\n",
      "BDT Pass: 7128/9678\n",
      "BDT Pass: 1487/2035\n",
      "BDT Pass: 2187/2717\n",
      "BDT Pass: 8838/12374\n",
      "BDT Pass: 1206/1784\n",
      "BDT Pass: 11985/15530\n",
      "BDT Pass: 3582/4617\n",
      "BDT Pass: 1148/1605\n",
      "BDT Pass: 2993/3686\n",
      "BDT Pass: 3075/4283\n",
      "BDT Pass: 3429/4464\n",
      "BDT Pass: 868/1324\n",
      "BDT Pass: 3026/3861\n",
      "BDT Pass: 737/1082\n",
      "BDT Pass: 2722/3781\n",
      "BDT Pass: 2642/3351\n",
      "BDT Pass: 47/119\n",
      "BDT Pass: 325/525\n",
      "BDT Pass: 2302/3157\n",
      "BDT Pass: 641/919\n",
      "BDT Pass: 111/486\n",
      "BDT Pass: 280/597\n",
      "BDT Pass: 281/654\n",
      "BDT Pass: 784/1079\n",
      "BDT Pass: 854/1026\n",
      "BDT Pass: 213/247\n",
      "BDT Pass: 1388/2119\n",
      "\n",
      "BDT Pass: 1111/1544\n",
      "BDT Pass: 2093/2846\n",
      "BDT Pass: 1891/2326\n",
      "BDT Pass: 2274/2724\n",
      "BDT Pass: 1272/1940\n",
      "\n",
      "BDT Pass: 493/690\n",
      "BDT Pass: 1975/2659\n",
      "BDT Pass: 1842/2207\n",
      "BDT Pass: 2101/2565\n",
      "BDT Pass: 1946/2514\n",
      "BDT Pass: 1006/1662\n",
      "BDT Pass: 1691/2270\n",
      "BDT Pass: 496/747\n",
      "BDT Pass: 1614/1999\n",
      "BDT Pass: 1852/2239BDT Pass: 1040/1414\n",
      "BDT Pass: 437/756\n",
      "BDT Pass: 1334/1769\n",
      "BDT Pass: 238/420BDT Pass: 1215/1537\n",
      "BDT Pass: 1094/1424\n",
      "BDT Pass: 1937/2692\n",
      "BDT Pass: 4805/6094\n",
      "BDT Pass: 4249/5900\n",
      "BDT Pass: 987/1454\n",
      "BDT Pass: 884/1381\n",
      "BDT Pass: 4471/6462\n",
      "BDT Pass: 11873/15467\n",
      "BDT Pass: 11239/15886\n"
     ]
    },
    {
     "data": {
      "text/html": [
       "<pre style=\"white-space:pre;overflow-x:auto;line-height:normal;font-family:Menlo,'DejaVu Sans Mono',consolas,'Courier New',monospace\"></pre>\n"
      ],
      "text/plain": []
     },
     "metadata": {},
     "output_type": "display_data"
    },
    {
     "data": {
      "text/html": [
       "<pre style=\"white-space:pre;overflow-x:auto;line-height:normal;font-family:Menlo,'DejaVu Sans Mono',consolas,'Courier New',monospace\">\n",
       "</pre>\n"
      ],
      "text/plain": [
       "\n"
      ]
     },
     "metadata": {},
     "output_type": "display_data"
    },
    {
     "name": "stdout",
     "output_type": "stream",
     "text": [
      "Runtime: 2.4487100283304852 minutes\n"
     ]
    }
   ],
   "source": [
    "test = Analyzer(sample_config, histos_config, cuts_config) \n",
    "t1 = time.time()\n",
    "out = test.process(execr='futures')\n",
    "t2 = time.time()\n",
    "print(f\"Runtime: {(t2-t1)/60} minutes\")\n",
    "util.save(out,f\"{outdir}/signal_v5_AOD_NewXclean_NewXsec.coffea\")\n",
    "del out, test"
   ]
  },
  {
   "cell_type": "code",
   "execution_count": null,
   "id": "d5a2d549-ffd6-4b31-bb15-5daa9a7a509a",
   "metadata": {},
   "outputs": [],
   "source": []
  },
  {
   "cell_type": "code",
   "execution_count": null,
   "id": "2a6315b1-4a67-46e5-933b-07473283c73b",
   "metadata": {},
   "outputs": [],
   "source": []
  },
  {
   "cell_type": "code",
   "execution_count": null,
   "id": "9fbcffad-c45e-4597-92b7-b1190f39503c",
   "metadata": {},
   "outputs": [],
   "source": []
  }
 ],
 "metadata": {
  "kernelspec": {
   "display_name": "Python 3 (ipykernel)",
   "language": "python",
   "name": "python3"
  },
  "language_info": {
   "codemirror_mode": {
    "name": "ipython",
    "version": 3
   },
   "file_extension": ".py",
   "mimetype": "text/x-python",
   "name": "python",
   "nbconvert_exporter": "python",
   "pygments_lexer": "ipython3",
   "version": "3.8.17"
  }
 },
 "nbformat": 4,
 "nbformat_minor": 5
}
