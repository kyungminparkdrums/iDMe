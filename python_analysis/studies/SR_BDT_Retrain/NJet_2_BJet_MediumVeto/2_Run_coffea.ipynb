{
 "cells": [
  {
   "cell_type": "code",
   "execution_count": 24,
   "id": "e94963cd-6dd7-44cd-9e04-b15d8ada688c",
   "metadata": {},
   "outputs": [
    {
     "name": "stdout",
     "output_type": "stream",
     "text": [
      "The autoreload extension is already loaded. To reload it, use:\n",
      "  %reload_ext autoreload\n"
     ]
    }
   ],
   "source": [
    "%load_ext autoreload\n",
    "%autoreload 2\n",
    "import uproot\n",
    "import numpy as np\n",
    "import matplotlib.pyplot as plt\n",
    "import awkward as ak\n",
    "import sys\n",
    "sys.path.append(\"../../../analysisTools/\")\n",
    "from analysisTools import Analyzer\n",
    "from analysisTools import loadSchema\n",
    "import analysisTools as tools\n",
    "import analysisSubroutines as routines\n",
    "import plotTools as ptools\n",
    "import utils\n",
    "import importlib\n",
    "import coffea.util as util\n",
    "import time\n",
    "import json\n",
    "import os\n",
    "import glob\n",
    "import pandas as pd"
   ]
  },
  {
   "cell_type": "code",
   "execution_count": 25,
   "id": "80730354-47ca-4b54-8913-832f3a6fcbe7",
   "metadata": {},
   "outputs": [
    {
     "data": {
      "text/plain": [
       "0"
      ]
     },
     "execution_count": 25,
     "metadata": {},
     "output_type": "execute_result"
    }
   ],
   "source": [
    "outdir = \"./coffea/\"\n",
    "os.system(f'mkdir -p {outdir}')"
   ]
  },
  {
   "cell_type": "markdown",
   "id": "c0386d2a-9699-4903-9620-94105baa74ed",
   "metadata": {},
   "source": [
    "## SR"
   ]
  },
  {
   "cell_type": "markdown",
   "id": "9d1bca0d-928c-4671-b836-63b6cc6e3733",
   "metadata": {},
   "source": [
    "#### Configs"
   ]
  },
  {
   "cell_type": "code",
   "execution_count": 26,
   "id": "a2b371d8-ebc4-4d4b-b5d1-f3c7abe6ef9f",
   "metadata": {},
   "outputs": [],
   "source": [
    "cuts_config = \"./cut_configs/SR_dPhiMETj0_BDT_update_BJetMedium.py\""
   ]
  },
  {
   "cell_type": "code",
   "execution_count": 27,
   "id": "67c13a84-0d94-45ba-8644-ba5baf1e1a57",
   "metadata": {},
   "outputs": [],
   "source": [
    "#histos_config = \"./histo_configs/histos.py\" # new histogramming framework\n",
    "histos_config = \"./histo_configs/BDTvariables.py\" # old histogramming framework"
   ]
  },
  {
   "cell_type": "markdown",
   "id": "84f19506-e4fd-49e2-86aa-936c72b9f6db",
   "metadata": {},
   "source": [
    "### Signal"
   ]
  },
  {
   "cell_type": "code",
   "execution_count": 28,
   "id": "3dff0d97-df35-41d8-9d43-9408306b234f",
   "metadata": {},
   "outputs": [],
   "source": [
    "sample_config = \"./sample_configs/skimmed_signal_v9_miniAOD_2018_aEM.json\" # v9 signal; MINIAOD & new cross-cleaning & new xsec"
   ]
  },
  {
   "cell_type": "code",
   "execution_count": 29,
   "id": "a355af5d-9c4e-40af-b108-ff1afeb6edc9",
   "metadata": {
    "scrolled": true
   },
   "outputs": [
    {
     "data": {
      "application/vnd.jupyter.widget-view+json": {
       "model_id": "7bee4bbf11fe41c5a85a929d711ccf45",
       "version_major": 2,
       "version_minor": 0
      },
      "text/plain": [
       "Output()"
      ]
     },
     "metadata": {},
     "output_type": "display_data"
    },
    {
     "name": "stdout",
     "output_type": "stream",
     "text": [
      "sig_2018_Mchi-99p0_dMchi-18p0_ctau-100\n",
      "sig_2018_Mchi-94p5_dMchi-9p0_ctau-100\n",
      "BDT Pass: 2393/3437BDT Pass: 2779/3605\n",
      "\n",
      "sig_2018_Mchi-99p0_dMchi-18p0_ctau-10\n",
      "BDT Pass: 7010/9605\n",
      "sig_2018_Mchi-99p0_dMchi-18p0_ctau-1\n",
      "BDT Pass: 5414/8746\n",
      "sig_2018_Mchi-88p0_dMchi-16p0_ctau-100\n",
      "BDT Pass: 1155/1533\n",
      "sig_2018_Mchi-88p0_dMchi-16p0_ctau-10\n",
      "BDT Pass: 1715/2241\n",
      "sig_2018_Mchi-94p5_dMchi-9p0_ctau-10\n",
      "sig_2018_Mchi-84p0_dMchi-8p0_ctau-100\n",
      "BDT Pass: 9715/12181\n",
      "BDT Pass: 940/1199\n",
      "sig_2018_Mchi-94p5_dMchi-9p0_ctau-1\n",
      "BDT Pass: 6938/10148\n",
      "sig_2018_Mchi-77p0_dMchi-14p0_ctau-100\n",
      "sig_2018_Mchi-84p0_dMchi-8p0_ctau-10\n",
      "BDT Pass: 921/1156\n",
      "BDT Pass: 2929/3545\n",
      "sig_2018_Mchi-84p0_dMchi-8p0_ctau-1\n",
      "BDT Pass: 2355/3352\n",
      "sig_2018_Mchi-73p5_dMchi-7p0_ctau-100\n",
      "sig_2018_Mchi-77p0_dMchi-14p0_ctau-10\n",
      "BDT Pass: 764/938\n",
      "BDT Pass: 2464/3080\n",
      "sig_2018_Mchi-77p0_dMchi-14p0_ctau-1\n",
      "BDT Pass: 2590/3727\n",
      "sig_2018_Mchi-63p0_dMchi-6p0_ctau-100\n",
      "BDT Pass: 670/800\n",
      "sig_2018_Mchi-73p5_dMchi-7p0_ctau-10\n",
      "BDT Pass: 2617/3080\n",
      "sig_2018_Mchi-73p5_dMchi-7p0_ctau-1\n",
      "BDT Pass: 2141/2869\n",
      "sig_2018_Mchi-63p0_dMchi-6p0_ctau-10\n",
      "sig_2018_Mchi-5p5_dMchi-1p0_ctau-100\n",
      "BDT Pass: 1863/2170\n",
      "BDT Pass: 26/54\n",
      "sig_2018_Mchi-5p5_dMchi-1p0_ctau-10\n",
      "sig_2018_Mchi-63p0_dMchi-6p0_ctau-1\n",
      "BDT Pass: 189/316\n",
      "BDT Pass: 1833/2413\n",
      "sig_2018_Mchi-5p5_dMchi-1p0_ctau-1\n",
      "BDT Pass: 379/596\n",
      "sig_2018_Mchi-5p25_dMchi-0p5_ctau-100\n",
      "BDT Pass: 34/179\n",
      "sig_2018_Mchi-5p25_dMchi-0p5_ctau-10\n",
      "BDT Pass: 95/316\n",
      "sig_2018_Mchi-5p25_dMchi-0p5_ctau-1\n",
      "BDT Pass: 89/316\n",
      "sig_2018_Mchi-55p0_dMchi-10p0_ctau-100\n",
      "sig_2018_Mchi-55p0_dMchi-10p0_ctau-10\n",
      "BDT Pass: 646/764\n",
      "sig_2018_Mchi-55p0_dMchi-10p0_ctau-1\n",
      "BDT Pass: 816/926\n",
      "BDT Pass: 170/213\n",
      "sig_2018_Mchi-52p5_dMchi-5p0_ctau-100\n",
      "BDT Pass: 1114/1332\n",
      "sig_2018_Mchi-44p0_dMchi-8p0_ctau-100\n",
      "sig_2018_Mchi-52p5_dMchi-5p0_ctau-10\n",
      "BDT Pass: 921/1058\n",
      "BDT Pass: 2345/2661\n",
      "sig_2018_Mchi-52p5_dMchi-5p0_ctau-1\n",
      "BDT Pass: 1847/2371\n",
      "sig_2018_Mchi-44p0_dMchi-8p0_ctau-10\n",
      "BDT Pass: 2096/2315\n",
      "sig_2018_Mchi-44p0_dMchi-8p0_ctau-1\n",
      "sig_2018_Mchi-42p0_dMchi-4p0_ctau-100\n",
      "BDT Pass: 1732/2098\n",
      "BDT Pass: 1002/1250\n",
      "sig_2018_Mchi-42p0_dMchi-4p0_ctau-10\n",
      "BDT Pass: 1958/2249\n",
      "sig_2018_Mchi-33p0_dMchi-6p0_ctau-100\n",
      "sig_2018_Mchi-42p0_dMchi-4p0_ctau-1\n",
      "BDT Pass: 404/464\n",
      "sig_2018_Mchi-33p0_dMchi-6p0_ctau-10\n",
      "BDT Pass: 1558/1989\n",
      "BDT Pass: 1690/1838\n",
      "sig_2018_Mchi-33p0_dMchi-6p0_ctau-1\n",
      "sig_2018_Mchi-31p5_dMchi-3p0_ctau-100\n",
      "BDT Pass: 1767/2074\n",
      "BDT Pass: 799/1024\n",
      "sig_2018_Mchi-31p5_dMchi-3p0_ctau-10\n",
      "sig_2018_Mchi-31p5_dMchi-3p0_ctau-1\n",
      "BDT Pass: 1564/1828\n",
      "BDT Pass: 1233/1623\n",
      "sig_2018_Mchi-22p0_dMchi-4p0_ctau-10\n",
      "sig_2018_Mchi-22p0_dMchi-4p0_ctau-100\n",
      "sig_2018_Mchi-21p0_dMchi-2p0_ctau-100\n",
      "BDT Pass: 1542/1729\n",
      "BDT Pass: 385/477\n",
      "BDT Pass: 334/458\n",
      "sig_2018_Mchi-22p0_dMchi-4p0_ctau-1\n",
      "BDT Pass: 1308/1549\n",
      "sig_2018_Mchi-11p0_dMchi-2p0_ctau-100\n",
      "sig_2018_Mchi-21p0_dMchi-2p0_ctau-10\n",
      "sig_2018_Mchi-21p0_dMchi-2p0_ctau-1\n",
      "BDT Pass: 189/288\n",
      "BDT Pass: 781/985\n",
      "BDT Pass: 836/1124\n",
      "sig_2018_Mchi-11p0_dMchi-2p0_ctau-10\n",
      "BDT Pass: 819/1030\n",
      "sig_2018_Mchi-11p0_dMchi-2p0_ctau-1\n",
      "BDT Pass: 962/1214\n",
      "sig_2018_Mchi-110p0_dMchi-20p0_ctau-100\n",
      "BDT Pass: 1369/2022\n",
      "sig_2018_Mchi-110p0_dMchi-20p0_ctau-10\n",
      "BDT Pass: 3988/5683\n",
      "sig_2018_Mchi-110p0_dMchi-20p0_ctau-1\n",
      "sig_2018_Mchi-10p5_dMchi-1p0_ctau-10\n",
      "sig_2018_Mchi-10p5_dMchi-1p0_ctau-100\n",
      "BDT Pass: 555/873\n",
      "BDT Pass: 2962/5050\n",
      "BDT Pass: 198/378\n",
      "sig_2018_Mchi-10p5_dMchi-1p0_ctau-1\n",
      "BDT Pass: 638/983\n",
      "sig_2018_Mchi-105p0_dMchi-10p0_ctau-1\n",
      "BDT Pass: 790/1179\n",
      "sig_2018_Mchi-105p0_dMchi-10p0_ctau-100\n",
      "BDT Pass: 3363/4516\n",
      "sig_2018_Mchi-105p0_dMchi-10p0_ctau-10\n",
      "BDT Pass: 8094/10432\n"
     ]
    },
    {
     "data": {
      "text/html": [
       "<pre style=\"white-space:pre;overflow-x:auto;line-height:normal;font-family:Menlo,'DejaVu Sans Mono',consolas,'Courier New',monospace\"></pre>\n"
      ],
      "text/plain": []
     },
     "metadata": {},
     "output_type": "display_data"
    },
    {
     "data": {
      "text/html": [
       "<pre style=\"white-space:pre;overflow-x:auto;line-height:normal;font-family:Menlo,'DejaVu Sans Mono',consolas,'Courier New',monospace\">\n",
       "</pre>\n"
      ],
      "text/plain": [
       "\n"
      ]
     },
     "metadata": {},
     "output_type": "display_data"
    },
    {
     "name": "stdout",
     "output_type": "stream",
     "text": [
      "Runtime: 2.1860812187194822 minutes\n"
     ]
    }
   ],
   "source": [
    "test = Analyzer(sample_config, histos_config, cuts_config)\n",
    "t1 = time.time()\n",
    "out = test.process(execr='futures', workers=4)\n",
    "t2 = time.time()\n",
    "print(f\"Runtime: {(t2-t1)/60} minutes\")\n",
    "util.save(out,f\"{outdir}/signal_v9_SR_dPhiMETj0Tight_BDTretrain_BJetMediumVeto.coffea\")\n",
    "del out, test"
   ]
  },
  {
   "cell_type": "markdown",
   "id": "22727b08-0078-4652-a57b-9c2312e7fccc",
   "metadata": {},
   "source": [
    "### Background"
   ]
  },
  {
   "cell_type": "code",
   "execution_count": 30,
   "id": "60f35816-5d5c-4af3-93a6-f473500d12dc",
   "metadata": {},
   "outputs": [],
   "source": [
    "sample_config = \"./sample_configs/skimmed_bkg_2018_v7_miniAOD.json\""
   ]
  },
  {
   "cell_type": "code",
   "execution_count": 31,
   "id": "78e32a58-c7c1-4df1-9fff-d5710e78220d",
   "metadata": {},
   "outputs": [
    {
     "data": {
      "application/vnd.jupyter.widget-view+json": {
       "model_id": "9f7a6203acf6496d9be74a022eed8a7f",
       "version_major": 2,
       "version_minor": 0
      },
      "text/plain": [
       "Output()"
      ]
     },
     "metadata": {},
     "output_type": "display_data"
    },
    {
     "name": "stdout",
     "output_type": "stream",
     "text": [
      "bkg_2018_ZJets_ZJetsNuNu_HT2500toInf\n",
      "BDT Pass: 0/1\n",
      "bkg_2018_ZJets_ZJetsNuNu_HT800to1200\n",
      "BDT Pass: 0/27\n",
      "bkg_2018_ZJets_ZJetsNuNu_HT1200to2500\n",
      "BDT Pass: 0/2\n",
      "bkg_2018_ZJets_ZJetsNuNu_HT600to800\n",
      "BDT Pass: 1/132\n",
      "bkg_2018_ZJets_ZJetsNuNu_HT100to200\n",
      "BDT Pass: 3/126\n",
      "bkg_2018_WJets_WJetsLNu_HT70to100\n",
      "bkg_2018_WJets_WJetsLNu_HT70to100\n",
      "bkg_2018_WJets_WJetsLNu_HT800to1200\n",
      "bkg_2018_WJets_WJetsLNu_HT600to800\n",
      "BDT Pass: 0/40\n",
      "BDT Pass: 0/76\n",
      "bkg_2018_ZJets_ZJetsNuNu_HT400to600\n",
      "bkg_2018_WJets_WJetsLNu_HT2500toInf\n",
      "BDT Pass: 0/4\n",
      "bkg_2018_ZJets_ZJetsNuNu_HT200to400\n",
      "BDT Pass: 7/634\n",
      "BDT Pass: 14/1031\n",
      "bkg_2018_WJets_WJetsLNu_HT400to600\n",
      "BDT Pass: 1/120\n",
      "bkg_2018_WJets_WJetsLNu_HT100to200\n",
      "BDT Pass: 0/29\n",
      "bkg_2018_WJets_WJetsLNu_HT100to200\n",
      "bkg_2018_WJets_WJetsLNu_HT1200to2500\n",
      "BDT Pass: 0/29\n",
      "BDT Pass: 0/13\n",
      "bkg_2018_Top_TTJets\n",
      "BDT Pass: 0/9\n",
      "bkg_2018_Top_ST_tW_top\n",
      "bkg_2018_Top_ST_tW_antitop\n",
      "BDT Pass: 0/8\n",
      "BDT Pass: 1/7\n",
      "bkg_2018_Top_ST_t-channel_top\n",
      "BDT Pass: 0/21\n",
      "bkg_2018_Top_ST_t-channel_top\n",
      "BDT Pass: 0/29bkg_2018_WJets_WJetsLNu_HT200to400\n",
      "\n",
      "bkg_2018_Top_ST_t-channel_top\n",
      "BDT Pass: 2/30\n",
      "bkg_2018_Top_ST_t-channel_top\n",
      "BDT Pass: 3/378\n",
      "BDT Pass: 0/13\n",
      "bkg_2018_Top_ST_t-channel_top\n",
      "BDT Pass: 1/5\n",
      "bkg_2018_Top_ST_t-channel_antitop\n",
      "BDT Pass: 1/21\n",
      "bkg_2018_Top_ST_t-channel_antitop\n",
      "BDT Pass: 1/14\n",
      "bkg_2018_QCD_QCD_HT700to1000\n",
      "bkg_2018_Top_ST_s-channel\n",
      "bkg_2018_QCD_QCD_HT700to1000\n",
      "BDT Pass: 1/9\n",
      "bkg_2018_QCD_QCD_HT700to1000\n",
      "bkg_2018_QCD_QCD_HT500to700\n",
      "bkg_2018_QCD_QCD_HT300to500\n",
      "bkg_2018_QCD_QCD_HT500to700\n",
      "bkg_2018_QCD_QCD_HT1500to2000\n",
      "bkg_2018_QCD_QCD_HT2000toInf\n",
      "bkg_2018_QCD_QCD_HT1500to2000\n",
      "bkg_2018_QCD_QCD_HT1000to1500\n",
      "bkg_2018_Multiboson_ZZZ\n",
      "bkg_2018_QCD_QCD_HT1000to1500\n",
      "BDT Pass: 0/3\n",
      "bkg_2018_Multiboson_WZZ\n",
      "BDT Pass: 0/1\n",
      "bkg_2018_Multiboson_WZ\n",
      "BDT Pass: 0/22\n",
      "\n",
      "bkg_2018_WJets_WJetsLNu_HT200to400\n",
      "bkg_2018_Multiboson_ZZ\n",
      "BDT Pass: 0/4\n",
      "bkg_2018_Multiboson_WWW\n",
      "BDT Pass: 0/6\n",
      "BDT Pass: 0/2\n",
      "bkg_2018_DY_DYJetsToLL\n",
      "bkg_2018_DY_DYJetsToLL\n",
      "BDT Pass: 1/6\n",
      "bkg_2018_Multiboson_WW\n",
      "BDT Pass: 1/1\n",
      "BDT Pass: 0/15\n",
      "BDT Pass: 9/634\n"
     ]
    },
    {
     "data": {
      "text/html": [
       "<pre style=\"white-space:pre;overflow-x:auto;line-height:normal;font-family:Menlo,'DejaVu Sans Mono',consolas,'Courier New',monospace\"></pre>\n"
      ],
      "text/plain": []
     },
     "metadata": {},
     "output_type": "display_data"
    },
    {
     "data": {
      "text/html": [
       "<pre style=\"white-space:pre;overflow-x:auto;line-height:normal;font-family:Menlo,'DejaVu Sans Mono',consolas,'Courier New',monospace\">\n",
       "</pre>\n"
      ],
      "text/plain": [
       "\n"
      ]
     },
     "metadata": {},
     "output_type": "display_data"
    },
    {
     "name": "stdout",
     "output_type": "stream",
     "text": [
      "Runtime: 1.6325920780499776 minutes\n"
     ]
    }
   ],
   "source": [
    "test = Analyzer(sample_config, histos_config, cuts_config)\n",
    "t1 = time.time()\n",
    "out = test.process(execr='futures', workers=4)\n",
    "t2 = time.time()\n",
    "print(f\"Runtime: {(t2-t1)/60} minutes\")\n",
    "util.save(out,f\"{outdir}/background_v7_SR_dPhiMETj0Tight_BDTretrain_BJetMediumVeto.coffea\")\n",
    "del out, test"
   ]
  },
  {
   "cell_type": "code",
   "execution_count": null,
   "id": "c2576812-0c66-47fb-a03f-e0933448bb42",
   "metadata": {},
   "outputs": [],
   "source": []
  }
 ],
 "metadata": {
  "kernelspec": {
   "display_name": "Python 3 (ipykernel)",
   "language": "python",
   "name": "python3"
  },
  "language_info": {
   "codemirror_mode": {
    "name": "ipython",
    "version": 3
   },
   "file_extension": ".py",
   "mimetype": "text/x-python",
   "name": "python",
   "nbconvert_exporter": "python",
   "pygments_lexer": "ipython3",
   "version": "3.8.17"
  }
 },
 "nbformat": 4,
 "nbformat_minor": 5
}
