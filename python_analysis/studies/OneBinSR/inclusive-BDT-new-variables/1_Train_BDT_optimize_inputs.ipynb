{
 "cells": [
  {
   "cell_type": "code",
   "execution_count": 1,
   "id": "d4d61483-80c6-4f62-bb66-25974ee99bea",
   "metadata": {},
   "outputs": [],
   "source": [
    "import json\n",
    "import uproot\n",
    "from XRootD import client\n",
    "import xgboost as xgb\n",
    "import os\n",
    "import sys\n",
    "sys.path.append(\"../../../analysisTools/\")\n",
    "from skimmerTools import Skimmer\n",
    "import coffea\n",
    "import coffea.util as util\n",
    "import numpy as np\n",
    "import awkward as ak\n",
    "import time\n",
    "import h5py"
   ]
  },
  {
   "cell_type": "markdown",
   "id": "2ebb8a1b-2f74-4d31-bed8-b54f0a96eff3",
   "metadata": {
    "jp-MarkdownHeadingCollapsed": true
   },
   "source": [
    "### Run Skimmers on skimmed ntuples with preselections, produce h5 files for BDT input"
   ]
  },
  {
   "cell_type": "code",
   "execution_count": 2,
   "id": "07767f63-0c71-45f1-a5dc-b970bc177b95",
   "metadata": {},
   "outputs": [
    {
     "data": {
      "text/plain": [
       "0"
      ]
     },
     "execution_count": 2,
     "metadata": {},
     "output_type": "execute_result"
    }
   ],
   "source": [
    "outdir = \"./h5/\"\n",
    "os.system(f\"mkdir -p {outdir}\")"
   ]
  },
  {
   "cell_type": "code",
   "execution_count": 3,
   "id": "ff83377c-7ec4-4d0c-9c9e-d1a1c410e93c",
   "metadata": {},
   "outputs": [],
   "source": [
    "def write_h5(data,fname):\n",
    "    with h5py.File(fname,'w') as f:\n",
    "        for k in data.keys():\n",
    "            arr = data[k].value\n",
    "            if type(arr) == np.ma.core.MaskedArray:\n",
    "                arr = arr.data\n",
    "            f.create_dataset(k,data=arr)"
   ]
  },
  {
   "cell_type": "code",
   "execution_count": 4,
   "id": "32a94ba3-48ac-47bb-8b11-e894cc0e30d5",
   "metadata": {},
   "outputs": [],
   "source": [
    "suffix = \"_TrueVertexForSignal\""
   ]
  },
  {
   "cell_type": "code",
   "execution_count": 5,
   "id": "ffd68739-5609-436f-9da9-c1816e0e3476",
   "metadata": {},
   "outputs": [],
   "source": [
    "cut_config = \"./cut_configs/BDTskimmer_preselections.py\""
   ]
  },
  {
   "cell_type": "code",
   "execution_count": 6,
   "id": "36eaa6c8-1b21-4222-bdb5-3b54bc730263",
   "metadata": {},
   "outputs": [
    {
     "name": "stdout",
     "output_type": "stream",
     "text": [
      "['skimmed_sig_v2_mA_3m1_2018_aEM']\n",
      "['skimmed_bkg_2018_DY', 'skimmed_bkg_2018_Diboson', 'skimmed_bkg_2018_QCD_TuneCP5_PSWeights', 'skimmed_bkg_2018_TTJetsDiLept', 'skimmed_bkg_2018_Top', 'skimmed_bkg_2018_Triboson', 'skimmed_bkg_2018_WJets', 'skimmed_bkg_2018_ZJets']\n"
     ]
    }
   ],
   "source": [
    "sig_sample_json_dir = './sample_configs/'\n",
    "jsons = [f for f in os.listdir(sig_sample_json_dir) if \".json\" in f]\n",
    "\n",
    "signal_list = [ samp.split('.')[0] for samp in jsons if f\"skimmed_sig_v2_mA_3m1_2018_aEM.\" in samp ]\n",
    "print(signal_list)\n",
    "\n",
    "bkg_sample_json_dir = '../../../configs/sample_configs/'\n",
    "jsons = [f for f in os.listdir(bkg_sample_json_dir) if \".json\" in f]\n",
    "\n",
    "bkg_list = [ samp.split('.')[0] for samp in jsons if \"skimmed_bkg\" in samp ]\n",
    "print(bkg_list)"
   ]
  },
  {
   "cell_type": "code",
   "execution_count": 7,
   "id": "0f996a24-e7be-4677-abb6-f5b1a5a6aaa3",
   "metadata": {},
   "outputs": [
    {
     "name": "stdout",
     "output_type": "stream",
     "text": [
      "Start analyzing: skimmed_sig_v2_mA_3m1_2018_aEM\n"
     ]
    },
    {
     "data": {
      "application/vnd.jupyter.widget-view+json": {
       "model_id": "e5fd120be705499bac7f85898a4d6133",
       "version_major": 2,
       "version_minor": 0
      },
      "text/plain": [
       "Output()"
      ]
     },
     "metadata": {},
     "output_type": "display_data"
    },
    {
     "data": {
      "text/html": [
       "<pre style=\"white-space:pre;overflow-x:auto;line-height:normal;font-family:Menlo,'DejaVu Sans Mono',consolas,'Courier New',monospace\"></pre>\n"
      ],
      "text/plain": []
     },
     "metadata": {},
     "output_type": "display_data"
    },
    {
     "data": {
      "text/html": [
       "<pre style=\"white-space:pre;overflow-x:auto;line-height:normal;font-family:Menlo,'DejaVu Sans Mono',consolas,'Courier New',monospace\">\n",
       "</pre>\n"
      ],
      "text/plain": [
       "\n"
      ]
     },
     "metadata": {},
     "output_type": "display_data"
    },
    {
     "data": {
      "application/vnd.jupyter.widget-view+json": {
       "model_id": "ef0d471a22124feb8f014fb792f656e1",
       "version_major": 2,
       "version_minor": 0
      },
      "text/plain": [
       "Output()"
      ]
     },
     "metadata": {},
     "output_type": "display_data"
    },
    {
     "data": {
      "text/html": [
       "<pre style=\"white-space:pre;overflow-x:auto;line-height:normal;font-family:Menlo,'DejaVu Sans Mono',consolas,'Courier New',monospace\"></pre>\n"
      ],
      "text/plain": []
     },
     "metadata": {},
     "output_type": "display_data"
    },
    {
     "data": {
      "text/html": [
       "<pre style=\"white-space:pre;overflow-x:auto;line-height:normal;font-family:Menlo,'DejaVu Sans Mono',consolas,'Courier New',monospace\">\n",
       "</pre>\n"
      ],
      "text/plain": [
       "\n"
      ]
     },
     "metadata": {},
     "output_type": "display_data"
    },
    {
     "name": "stdout",
     "output_type": "stream",
     "text": [
      "Completed in 3.38 min\n",
      "\n"
     ]
    }
   ],
   "source": [
    "for samp in signal_list:\n",
    "    print(f'Start analyzing: {samp}')\n",
    "    \n",
    "    test = Skimmer(f\"{sig_sample_json_dir}/{samp}.json\", cut_config)\n",
    "    \n",
    "    t1 = time.time()\n",
    "    out = test.process(execr='futures')\n",
    "    t2 = time.time()\n",
    "\n",
    "    write_h5(out[0],f\"{outdir}/{samp}{suffix}.h5\")\n",
    "    \n",
    "    print('Completed in {:.2f} min\\n'.format((t2-t1)/60))\n",
    "    del out, test"
   ]
  },
  {
   "cell_type": "code",
   "execution_count": null,
   "id": "56d73cb9-ef28-41aa-8920-f44b30ffc7f1",
   "metadata": {},
   "outputs": [],
   "source": []
  },
  {
   "cell_type": "code",
   "execution_count": 8,
   "id": "687fdb63-2b1c-4ca4-bbc2-9d0fce66e302",
   "metadata": {},
   "outputs": [
    {
     "name": "stdout",
     "output_type": "stream",
     "text": [
      "Start analyzing: skimmed_bkg_2018_DY\n"
     ]
    },
    {
     "data": {
      "application/vnd.jupyter.widget-view+json": {
       "model_id": "9d20b704f4fb4fe6a2b5e39e52d1e3f8",
       "version_major": 2,
       "version_minor": 0
      },
      "text/plain": [
       "Output()"
      ]
     },
     "metadata": {},
     "output_type": "display_data"
    },
    {
     "data": {
      "text/html": [
       "<pre style=\"white-space:pre;overflow-x:auto;line-height:normal;font-family:Menlo,'DejaVu Sans Mono',consolas,'Courier New',monospace\"></pre>\n"
      ],
      "text/plain": []
     },
     "metadata": {},
     "output_type": "display_data"
    },
    {
     "data": {
      "text/html": [
       "<pre style=\"white-space:pre;overflow-x:auto;line-height:normal;font-family:Menlo,'DejaVu Sans Mono',consolas,'Courier New',monospace\">\n",
       "</pre>\n"
      ],
      "text/plain": [
       "\n"
      ]
     },
     "metadata": {},
     "output_type": "display_data"
    },
    {
     "data": {
      "application/vnd.jupyter.widget-view+json": {
       "model_id": "342b88e317a24ea7856d8bfa8f4dc765",
       "version_major": 2,
       "version_minor": 0
      },
      "text/plain": [
       "Output()"
      ]
     },
     "metadata": {},
     "output_type": "display_data"
    },
    {
     "data": {
      "text/html": [
       "<pre style=\"white-space:pre;overflow-x:auto;line-height:normal;font-family:Menlo,'DejaVu Sans Mono',consolas,'Courier New',monospace\"></pre>\n"
      ],
      "text/plain": []
     },
     "metadata": {},
     "output_type": "display_data"
    },
    {
     "data": {
      "text/html": [
       "<pre style=\"white-space:pre;overflow-x:auto;line-height:normal;font-family:Menlo,'DejaVu Sans Mono',consolas,'Courier New',monospace\">\n",
       "</pre>\n"
      ],
      "text/plain": [
       "\n"
      ]
     },
     "metadata": {},
     "output_type": "display_data"
    },
    {
     "name": "stdout",
     "output_type": "stream",
     "text": [
      "Completed in 0.87 min\n",
      "\n",
      "Start analyzing: skimmed_bkg_2018_Diboson\n"
     ]
    },
    {
     "data": {
      "application/vnd.jupyter.widget-view+json": {
       "model_id": "a8bc33c8360c4a5581036391b3c96a46",
       "version_major": 2,
       "version_minor": 0
      },
      "text/plain": [
       "Output()"
      ]
     },
     "metadata": {},
     "output_type": "display_data"
    },
    {
     "data": {
      "text/html": [
       "<pre style=\"white-space:pre;overflow-x:auto;line-height:normal;font-family:Menlo,'DejaVu Sans Mono',consolas,'Courier New',monospace\"></pre>\n"
      ],
      "text/plain": []
     },
     "metadata": {},
     "output_type": "display_data"
    },
    {
     "data": {
      "text/html": [
       "<pre style=\"white-space:pre;overflow-x:auto;line-height:normal;font-family:Menlo,'DejaVu Sans Mono',consolas,'Courier New',monospace\">\n",
       "</pre>\n"
      ],
      "text/plain": [
       "\n"
      ]
     },
     "metadata": {},
     "output_type": "display_data"
    },
    {
     "data": {
      "application/vnd.jupyter.widget-view+json": {
       "model_id": "df415e179a44413ca5d00aeac199c4ca",
       "version_major": 2,
       "version_minor": 0
      },
      "text/plain": [
       "Output()"
      ]
     },
     "metadata": {},
     "output_type": "display_data"
    },
    {
     "data": {
      "text/html": [
       "<pre style=\"white-space:pre;overflow-x:auto;line-height:normal;font-family:Menlo,'DejaVu Sans Mono',consolas,'Courier New',monospace\"></pre>\n"
      ],
      "text/plain": []
     },
     "metadata": {},
     "output_type": "display_data"
    },
    {
     "data": {
      "text/html": [
       "<pre style=\"white-space:pre;overflow-x:auto;line-height:normal;font-family:Menlo,'DejaVu Sans Mono',consolas,'Courier New',monospace\">\n",
       "</pre>\n"
      ],
      "text/plain": [
       "\n"
      ]
     },
     "metadata": {},
     "output_type": "display_data"
    },
    {
     "name": "stdout",
     "output_type": "stream",
     "text": [
      "Completed in 0.56 min\n",
      "\n",
      "Start analyzing: skimmed_bkg_2018_QCD_TuneCP5_PSWeights\n"
     ]
    },
    {
     "data": {
      "application/vnd.jupyter.widget-view+json": {
       "model_id": "729b5ceec1d34dc9ae3c0184baa9704a",
       "version_major": 2,
       "version_minor": 0
      },
      "text/plain": [
       "Output()"
      ]
     },
     "metadata": {},
     "output_type": "display_data"
    },
    {
     "data": {
      "text/html": [
       "<pre style=\"white-space:pre;overflow-x:auto;line-height:normal;font-family:Menlo,'DejaVu Sans Mono',consolas,'Courier New',monospace\"></pre>\n"
      ],
      "text/plain": []
     },
     "metadata": {},
     "output_type": "display_data"
    },
    {
     "data": {
      "text/html": [
       "<pre style=\"white-space:pre;overflow-x:auto;line-height:normal;font-family:Menlo,'DejaVu Sans Mono',consolas,'Courier New',monospace\">\n",
       "</pre>\n"
      ],
      "text/plain": [
       "\n"
      ]
     },
     "metadata": {},
     "output_type": "display_data"
    },
    {
     "data": {
      "application/vnd.jupyter.widget-view+json": {
       "model_id": "5469fafe8f4b43258ed1897323948901",
       "version_major": 2,
       "version_minor": 0
      },
      "text/plain": [
       "Output()"
      ]
     },
     "metadata": {},
     "output_type": "display_data"
    },
    {
     "data": {
      "text/html": [
       "<pre style=\"white-space:pre;overflow-x:auto;line-height:normal;font-family:Menlo,'DejaVu Sans Mono',consolas,'Courier New',monospace\"></pre>\n"
      ],
      "text/plain": []
     },
     "metadata": {},
     "output_type": "display_data"
    },
    {
     "data": {
      "text/html": [
       "<pre style=\"white-space:pre;overflow-x:auto;line-height:normal;font-family:Menlo,'DejaVu Sans Mono',consolas,'Courier New',monospace\">\n",
       "</pre>\n"
      ],
      "text/plain": [
       "\n"
      ]
     },
     "metadata": {},
     "output_type": "display_data"
    },
    {
     "name": "stdout",
     "output_type": "stream",
     "text": [
      "Completed in 2.36 min\n",
      "\n",
      "Start analyzing: skimmed_bkg_2018_Top\n"
     ]
    },
    {
     "data": {
      "application/vnd.jupyter.widget-view+json": {
       "model_id": "3fa103a84b7d452298c9ff003fa3a354",
       "version_major": 2,
       "version_minor": 0
      },
      "text/plain": [
       "Output()"
      ]
     },
     "metadata": {},
     "output_type": "display_data"
    },
    {
     "data": {
      "text/html": [
       "<pre style=\"white-space:pre;overflow-x:auto;line-height:normal;font-family:Menlo,'DejaVu Sans Mono',consolas,'Courier New',monospace\"></pre>\n"
      ],
      "text/plain": []
     },
     "metadata": {},
     "output_type": "display_data"
    },
    {
     "data": {
      "text/html": [
       "<pre style=\"white-space:pre;overflow-x:auto;line-height:normal;font-family:Menlo,'DejaVu Sans Mono',consolas,'Courier New',monospace\">\n",
       "</pre>\n"
      ],
      "text/plain": [
       "\n"
      ]
     },
     "metadata": {},
     "output_type": "display_data"
    },
    {
     "data": {
      "application/vnd.jupyter.widget-view+json": {
       "model_id": "7303a4eaca4f48e68f574d287affbe51",
       "version_major": 2,
       "version_minor": 0
      },
      "text/plain": [
       "Output()"
      ]
     },
     "metadata": {},
     "output_type": "display_data"
    },
    {
     "data": {
      "text/html": [
       "<pre style=\"white-space:pre;overflow-x:auto;line-height:normal;font-family:Menlo,'DejaVu Sans Mono',consolas,'Courier New',monospace\"></pre>\n"
      ],
      "text/plain": []
     },
     "metadata": {},
     "output_type": "display_data"
    },
    {
     "data": {
      "text/html": [
       "<pre style=\"white-space:pre;overflow-x:auto;line-height:normal;font-family:Menlo,'DejaVu Sans Mono',consolas,'Courier New',monospace\">\n",
       "</pre>\n"
      ],
      "text/plain": [
       "\n"
      ]
     },
     "metadata": {},
     "output_type": "display_data"
    },
    {
     "name": "stdout",
     "output_type": "stream",
     "text": [
      "Completed in 3.65 min\n",
      "\n",
      "Start analyzing: skimmed_bkg_2018_Triboson\n"
     ]
    },
    {
     "data": {
      "application/vnd.jupyter.widget-view+json": {
       "model_id": "cace870ffba24bb0afe7105046611834",
       "version_major": 2,
       "version_minor": 0
      },
      "text/plain": [
       "Output()"
      ]
     },
     "metadata": {},
     "output_type": "display_data"
    },
    {
     "data": {
      "text/html": [
       "<pre style=\"white-space:pre;overflow-x:auto;line-height:normal;font-family:Menlo,'DejaVu Sans Mono',consolas,'Courier New',monospace\"></pre>\n"
      ],
      "text/plain": []
     },
     "metadata": {},
     "output_type": "display_data"
    },
    {
     "data": {
      "text/html": [
       "<pre style=\"white-space:pre;overflow-x:auto;line-height:normal;font-family:Menlo,'DejaVu Sans Mono',consolas,'Courier New',monospace\">\n",
       "</pre>\n"
      ],
      "text/plain": [
       "\n"
      ]
     },
     "metadata": {},
     "output_type": "display_data"
    },
    {
     "data": {
      "application/vnd.jupyter.widget-view+json": {
       "model_id": "db5540011df14c25a5b70712bab16f96",
       "version_major": 2,
       "version_minor": 0
      },
      "text/plain": [
       "Output()"
      ]
     },
     "metadata": {},
     "output_type": "display_data"
    },
    {
     "data": {
      "text/html": [
       "<pre style=\"white-space:pre;overflow-x:auto;line-height:normal;font-family:Menlo,'DejaVu Sans Mono',consolas,'Courier New',monospace\"></pre>\n"
      ],
      "text/plain": []
     },
     "metadata": {},
     "output_type": "display_data"
    },
    {
     "data": {
      "text/html": [
       "<pre style=\"white-space:pre;overflow-x:auto;line-height:normal;font-family:Menlo,'DejaVu Sans Mono',consolas,'Courier New',monospace\">\n",
       "</pre>\n"
      ],
      "text/plain": [
       "\n"
      ]
     },
     "metadata": {},
     "output_type": "display_data"
    },
    {
     "name": "stdout",
     "output_type": "stream",
     "text": [
      "Completed in 0.25 min\n",
      "\n",
      "Start analyzing: skimmed_bkg_2018_WJets\n"
     ]
    },
    {
     "data": {
      "application/vnd.jupyter.widget-view+json": {
       "model_id": "c8cb9a9bad1444c98e2358e652b6ec4d",
       "version_major": 2,
       "version_minor": 0
      },
      "text/plain": [
       "Output()"
      ]
     },
     "metadata": {},
     "output_type": "display_data"
    },
    {
     "data": {
      "text/html": [
       "<pre style=\"white-space:pre;overflow-x:auto;line-height:normal;font-family:Menlo,'DejaVu Sans Mono',consolas,'Courier New',monospace\"></pre>\n"
      ],
      "text/plain": []
     },
     "metadata": {},
     "output_type": "display_data"
    },
    {
     "data": {
      "text/html": [
       "<pre style=\"white-space:pre;overflow-x:auto;line-height:normal;font-family:Menlo,'DejaVu Sans Mono',consolas,'Courier New',monospace\">\n",
       "</pre>\n"
      ],
      "text/plain": [
       "\n"
      ]
     },
     "metadata": {},
     "output_type": "display_data"
    },
    {
     "data": {
      "application/vnd.jupyter.widget-view+json": {
       "model_id": "fa078346adc7446f80c3055d8412d2b6",
       "version_major": 2,
       "version_minor": 0
      },
      "text/plain": [
       "Output()"
      ]
     },
     "metadata": {},
     "output_type": "display_data"
    },
    {
     "data": {
      "text/html": [
       "<pre style=\"white-space:pre;overflow-x:auto;line-height:normal;font-family:Menlo,'DejaVu Sans Mono',consolas,'Courier New',monospace\"></pre>\n"
      ],
      "text/plain": []
     },
     "metadata": {},
     "output_type": "display_data"
    },
    {
     "data": {
      "text/html": [
       "<pre style=\"white-space:pre;overflow-x:auto;line-height:normal;font-family:Menlo,'DejaVu Sans Mono',consolas,'Courier New',monospace\">\n",
       "</pre>\n"
      ],
      "text/plain": [
       "\n"
      ]
     },
     "metadata": {},
     "output_type": "display_data"
    },
    {
     "name": "stdout",
     "output_type": "stream",
     "text": [
      "Completed in 2.65 min\n",
      "\n",
      "Start analyzing: skimmed_bkg_2018_ZJets\n"
     ]
    },
    {
     "data": {
      "application/vnd.jupyter.widget-view+json": {
       "model_id": "1193db2b52c1470195b2c0b3c6d83e38",
       "version_major": 2,
       "version_minor": 0
      },
      "text/plain": [
       "Output()"
      ]
     },
     "metadata": {},
     "output_type": "display_data"
    },
    {
     "data": {
      "text/html": [
       "<pre style=\"white-space:pre;overflow-x:auto;line-height:normal;font-family:Menlo,'DejaVu Sans Mono',consolas,'Courier New',monospace\"></pre>\n"
      ],
      "text/plain": []
     },
     "metadata": {},
     "output_type": "display_data"
    },
    {
     "data": {
      "text/html": [
       "<pre style=\"white-space:pre;overflow-x:auto;line-height:normal;font-family:Menlo,'DejaVu Sans Mono',consolas,'Courier New',monospace\">\n",
       "</pre>\n"
      ],
      "text/plain": [
       "\n"
      ]
     },
     "metadata": {},
     "output_type": "display_data"
    },
    {
     "data": {
      "application/vnd.jupyter.widget-view+json": {
       "model_id": "dcc934fb1a1549f2a48cdb3ef4766350",
       "version_major": 2,
       "version_minor": 0
      },
      "text/plain": [
       "Output()"
      ]
     },
     "metadata": {},
     "output_type": "display_data"
    },
    {
     "data": {
      "text/html": [
       "<pre style=\"white-space:pre;overflow-x:auto;line-height:normal;font-family:Menlo,'DejaVu Sans Mono',consolas,'Courier New',monospace\"></pre>\n"
      ],
      "text/plain": []
     },
     "metadata": {},
     "output_type": "display_data"
    },
    {
     "data": {
      "text/html": [
       "<pre style=\"white-space:pre;overflow-x:auto;line-height:normal;font-family:Menlo,'DejaVu Sans Mono',consolas,'Courier New',monospace\">\n",
       "</pre>\n"
      ],
      "text/plain": [
       "\n"
      ]
     },
     "metadata": {},
     "output_type": "display_data"
    },
    {
     "name": "stdout",
     "output_type": "stream",
     "text": [
      "Completed in 2.45 min\n",
      "\n"
     ]
    }
   ],
   "source": [
    "for samp in bkg_list:\n",
    "    if 'TTJetsDiLept' in samp: # currently not available ntuples\n",
    "        continue\n",
    "    \n",
    "    print(f'Start analyzing: {samp}')\n",
    "    \n",
    "    test = Skimmer(f\"{bkg_sample_json_dir}/{samp}.json\", cut_config)\n",
    "    \n",
    "    t1 = time.time()\n",
    "    out = test.process(execr='futures')\n",
    "    t2 = time.time()\n",
    "\n",
    "    write_h5(out[0],f\"{outdir}/{samp}{suffix}.h5\")\n",
    "    \n",
    "    print('Completed in {:.2f} min\\n'.format((t2-t1)/60))\n",
    "    del out, test"
   ]
  },
  {
   "cell_type": "markdown",
   "id": "ae2b7aff-56dd-43c6-933b-1eb739dc8af1",
   "metadata": {},
   "source": [
    "## BDT"
   ]
  },
  {
   "cell_type": "code",
   "execution_count": 2,
   "id": "40a38c7e-1ab6-4989-aa87-65f89d7c9143",
   "metadata": {},
   "outputs": [],
   "source": [
    "import numpy as np\n",
    "import h5py\n",
    "import matplotlib.pyplot as plt\n",
    "import xgboost as xgb\n",
    "import os\n",
    "from sklearn.model_selection import train_test_split\n",
    "from sklearn.metrics import roc_curve, roc_auc_score"
   ]
  },
  {
   "cell_type": "code",
   "execution_count": 168,
   "id": "f7c9499a-39c9-4dce-a784-c7cdd495bac5",
   "metadata": {},
   "outputs": [
    {
     "data": {
      "text/plain": [
       "\"\\n# Combo 13\\nvariables = ['sel_vtx_chi2','sel_vtx_METdPhi','sel_vtx_m','sel_vtx_dR', 'sel_vtx_minDxy','vxy_signif','sel_vtx_projectedLxy', 'sel_vtx_pt_over_m',\\n]\\n\\n# Combo 14\\nvariables = ['sel_vtx_chi2','sel_vtx_METdPhi','sel_vtx_m','sel_vtx_dR', 'sel_vtx_minDxy','vxy_signif','sel_vtx_projectedLxy',\\n]\\n\""
      ]
     },
     "execution_count": 168,
     "metadata": {},
     "output_type": "execute_result"
    }
   ],
   "source": [
    "# BDT variables\n",
    "\n",
    "'''\n",
    "# Combo 1\n",
    "variables = ['sel_vtx_chi2','sel_vtx_METdPhi','sel_vtx_m','sel_vtx_dR',\\\n",
    "             'sel_vtx_minDxy','vxy','vxy_signif','sel_vtx_projectedLxy',\\\n",
    "             'sel_vtx_cos_collinear', 'sel_vtx_prod_eta', 'sel_vtx_pt_over_m', \\\n",
    "             'delta_dxy_over_maxdxy', 'met_leadPt_ratio'\n",
    "            ]\n",
    "\n",
    "\n",
    "# Combo 2\n",
    "variables = ['sel_vtx_chi2','sel_vtx_METdPhi','sel_vtx_m','sel_vtx_dR',\\\n",
    "             'sel_vtx_minDxy','vxy','vxy_signif','sel_vtx_projectedLxy',\\\n",
    "             'sel_vtx_cos_collinear', 'sel_vtx_sign_prod_eta', 'sel_vtx_pt_over_m', \\\n",
    "             'delta_dxy_over_maxdxy', 'met_leadPt_ratio'\n",
    "            ]\n",
    "\n",
    "# Combo 3\n",
    "variables = ['sel_vtx_chi2','sel_vtx_METdPhi','sel_vtx_m','sel_vtx_dR',\\\n",
    "             'sel_vtx_minDxy','vxy','vxy_signif','sel_vtx_projectedLxy',\\\n",
    "             'sel_vtx_cos_collinear', 'sel_vtx_prod_eta', 'sel_vtx_pt_over_m', \\\n",
    "             'delta_dxy_over_maxdxy',\n",
    "            ]\n",
    "\n",
    "\n",
    "# Combo 4\n",
    "variables = ['sel_vtx_chi2','sel_vtx_METdPhi','sel_vtx_m','sel_vtx_dR',\\\n",
    " 'sel_vtx_minDxy','vxy','vxy_signif',\\\n",
    " 'sel_vtx_cos_collinear', 'sel_vtx_prod_eta', 'sel_vtx_pt_over_m', \\\n",
    " 'delta_dxy_over_maxdxy',\n",
    "]\n",
    "\n",
    "\n",
    "# Combo 5\n",
    "variables = ['sel_vtx_chi2','sel_vtx_METdPhi','sel_vtx_m','sel_vtx_dR',\\\n",
    " 'sel_vtx_minDxy','vxy','vxy_signif',\\\n",
    " 'sel_vtx_cos_collinear', 'sel_vtx_pt_over_m', \\\n",
    " 'delta_dxy_over_maxdxy',\n",
    "]\n",
    "\n",
    "# Combo 6\n",
    "variables = ['sel_vtx_chi2','sel_vtx_METdPhi','sel_vtx_m','sel_vtx_dR',\\\n",
    " 'sel_vtx_minDxy','vxy','vxy_signif','sel_vtx_projectedLxy',\\\n",
    " 'sel_vtx_cos_collinear', 'sel_vtx_pt_over_m', \\\n",
    " 'delta_dxy_over_maxdxy',\n",
    "]\n",
    "\n",
    "\n",
    "# Combo 7\n",
    "variables = ['sel_vtx_chi2','sel_vtx_METdPhi','sel_vtx_m','sel_vtx_dR',\\\n",
    " 'sel_vtx_minDxy','vxy','vxy_signif','sel_vtx_projectedLxy',\\\n",
    " 'sel_vtx_pt_over_m', \\\n",
    " 'delta_dxy_over_maxdxy',\n",
    "]\n",
    "\n",
    "\n",
    "\n",
    "# Combo 8\n",
    "variables = ['sel_vtx_chi2','sel_vtx_METdPhi','sel_vtx_m','sel_vtx_dR',\\\n",
    " 'sel_vtx_minDxy','vxy_signif','sel_vtx_projectedLxy',\\\n",
    " 'sel_vtx_pt_over_m', \\\n",
    " 'delta_dxy_over_maxdxy',\n",
    "]\n",
    "\n",
    "\n",
    "# Combo 9\n",
    "variables = ['sel_vtx_chi2','sel_vtx_METdPhi','sel_vtx_m','sel_vtx_dR',\\\n",
    " 'sel_vtx_minDxy','vxy','sel_vtx_projectedLxy',\\\n",
    " 'sel_vtx_pt_over_m', \\\n",
    " 'delta_dxy_over_maxdxy',\n",
    "]\n",
    "\n",
    "# Combo 10\n",
    "variables = ['sel_vtx_chi2','sel_vtx_METdPhi','sel_vtx_m','sel_vtx_dR',\\\n",
    " 'sel_vtx_minDxy','vxy','sel_vtx_cos_collinear',\\\n",
    " 'sel_vtx_pt_over_m','delta_dxy_over_maxdxy'\n",
    "]\n",
    "\n",
    "\n",
    "# Combo 11\n",
    "variables = ['sel_vtx_chi2','sel_vtx_METdPhi','sel_vtx_m','sel_vtx_dR',\\\n",
    " 'sel_vtx_minDxy','vxy','vxy_signif','sel_vtx_cos_collinear',\\\n",
    " 'delta_dxy_over_maxdxy',\n",
    "]\n",
    "'''\n",
    "# Combo 12\n",
    "variables = ['sel_vtx_chi2','sel_vtx_METdPhi','sel_vtx_m','sel_vtx_dR',\\\n",
    " 'sel_vtx_minDxy','vxy','vxy_signif','sel_vtx_cos_collinear',\\\n",
    " 'sel_vtx_pt_over_m',\n",
    "]\n",
    "\n",
    "'''\n",
    "# Combo 13\n",
    "variables = ['sel_vtx_chi2','sel_vtx_METdPhi','sel_vtx_m','sel_vtx_dR',\\\n",
    " 'sel_vtx_minDxy','vxy_signif','sel_vtx_projectedLxy',\\\n",
    " 'sel_vtx_pt_over_m',\n",
    "]\n",
    "\n",
    "# Combo 14\n",
    "variables = ['sel_vtx_chi2','sel_vtx_METdPhi','sel_vtx_m','sel_vtx_dR',\\\n",
    " 'sel_vtx_minDxy','vxy_signif','sel_vtx_projectedLxy',\n",
    "]\n",
    "'''"
   ]
  },
  {
   "cell_type": "code",
   "execution_count": 169,
   "id": "13ad9bd8-f536-42e5-90b2-3ff614bb356a",
   "metadata": {},
   "outputs": [
    {
     "name": "stdout",
     "output_type": "stream",
     "text": [
      "Signal events 54961 -> 54961 after gen matching (raw counts)\n",
      "\n",
      "Diboson: 767\n",
      "DY: 9\n",
      "QCD: 3\n",
      "Top: 2006\n",
      "Triboson: 92\n",
      "WJets: 29090\n",
      "ZJets: 44480\n",
      "\n",
      "Number of total background events (raw counts): 76447\n"
     ]
    }
   ],
   "source": [
    "h5_dir = \"./h5/\"\n",
    "sig_suffix = \"_TrueVertexForSignal\"\n",
    "bkg_suffix = \"_TrueVertexForSignal\"\n",
    "\n",
    "sig_files = [f for f in os.listdir(h5_dir) if sig_suffix in f and 'sig' in f]\n",
    "bkg_files = [f for f in os.listdir(h5_dir) if bkg_suffix in f and 'bkg' in f]\n",
    "\n",
    "# To add in the future?\n",
    "# e1 pt / e2 pt (e1 and e2 need to be sorted out in pT for now)\n",
    "\n",
    "sig_data = []\n",
    "\n",
    "sig_data_train = []\n",
    "sig_data_test = []\n",
    "sig_point_train = {'m1':[], 'delta':[], 'ctau':[]}\n",
    "sig_point_test = {'m1':[], 'delta':[], 'ctau':[]}\n",
    "\n",
    "sig_xsec_norm = []\n",
    "\n",
    "sig_xsec_norm_train = []\n",
    "sig_xsec_norm_test = []\n",
    "sig_point_test = {'m1':[], 'delta':[], 'ctau':[]}\n",
    "\n",
    "sig_point = {'m1':[], 'delta':[], 'ctau':[]}\n",
    "\n",
    "m1s = [5, 10, 20, 30, 40, 50, 60, 70, 80, 90, 100]\n",
    "ctaus = [1, 10, 100]\n",
    "deltas = [0.1, 0.2]\n",
    "\n",
    "for sf in sig_files:\n",
    "    with h5py.File(f'{h5_dir}/{sf}',\"r\") as fin:\n",
    "        entries = len(fin['wgt'])\n",
    "        \n",
    "        match = fin[\"sel_vtx_match\"][()]\n",
    "        mask = match==2\n",
    "\n",
    "        entries_genMatched = sum(mask)\n",
    "        print(f'Signal events {entries} -> {entries_genMatched} after gen matching (raw counts)\\n')\n",
    "        \n",
    "        sig_data.append(np.concatenate([fin[v][()][mask].reshape(-1,1) for v in variables],axis=1))\n",
    "        sig_xsec_norm.append(fin['wgt_norm'][()][mask])\n",
    "        \n",
    "        sig_point['m1'].append(fin['m1'][()][mask])\n",
    "        sig_point['delta'].append(fin['delta'][()][mask])\n",
    "        sig_point['ctau'].append(fin['ctau'][()][mask])\n",
    "\n",
    "        # for loop for each signal point to get the sig_data_test and sig_data_train\n",
    "        for m1 in m1s:\n",
    "            for delta in deltas:\n",
    "                for ctau in ctaus:\n",
    "                    mask_sig_point = (fin['m1'][()][mask] == m1) & (fin['delta'][()][mask] == delta) & (fin['ctau'][()][mask] == ctau)\n",
    "                    idx_train = int(0.8*len(fin['m1'][()][mask][mask_sig_point]))\n",
    "                    #print(fin['m1'][()][mask][mask_sig_point][:idx_train])\n",
    "                    sig_data_train.append(np.concatenate([fin[v][()][mask][mask_sig_point][:idx_train].reshape(-1,1) for v in variables],axis=1))\n",
    "                    sig_data_test.append(np.concatenate([fin[v][()][mask][mask_sig_point][idx_train:].reshape(-1,1) for v in variables],axis=1))\n",
    "\n",
    "                    sig_point_train['m1'].append(fin['m1'][()][mask][mask_sig_point][:idx_train])\n",
    "                    sig_point_train['delta'].append(fin['delta'][()][mask][mask_sig_point][:idx_train])\n",
    "                    sig_point_train['ctau'].append(fin['ctau'][()][mask][mask_sig_point][:idx_train])\n",
    "\n",
    "                    sig_point_test['m1'].append(fin['m1'][()][mask][mask_sig_point][idx_train:])\n",
    "                    sig_point_test['delta'].append(fin['delta'][()][mask][mask_sig_point][idx_train:])\n",
    "                    sig_point_test['ctau'].append(fin['ctau'][()][mask][mask_sig_point][idx_train:])\n",
    "\n",
    "                    sig_xsec_norm_train.append(fin['wgt_norm'][()][mask][mask_sig_point][:idx_train])\n",
    "                    sig_xsec_norm_test.append(fin['wgt_norm'][()][mask][mask_sig_point][idx_train:])\n",
    "                    \n",
    "\n",
    "sig_data_train = np.concatenate(sig_data_train, axis=0)\n",
    "sig_data_test = np.concatenate(sig_data_test, axis=0)\n",
    "\n",
    "sig_data = np.concatenate(sig_data,axis=0)\n",
    "sig_xsec_norm = np.concatenate(sig_xsec_norm,axis=0)\n",
    "\n",
    "sig_xsec_norm_train = np.concatenate(sig_xsec_norm_train, axis=0)\n",
    "sig_xsec_norm_test = np.concatenate(sig_xsec_norm_test, axis=0)\n",
    "\n",
    "sig_point_train['m1'] = np.concatenate(sig_point_train['m1'], axis=0)\n",
    "sig_point_train['delta'] = np.concatenate(sig_point_train['delta'], axis=0)\n",
    "sig_point_train['ctau'] = np.concatenate(sig_point_train['ctau'], axis=0)\n",
    "\n",
    "sig_point_test['m1'] = np.concatenate(sig_point_test['m1'], axis=0)\n",
    "sig_point_test['delta'] = np.concatenate(sig_point_test['delta'], axis=0)\n",
    "sig_point_test['ctau'] = np.concatenate(sig_point_test['ctau'], axis=0)\n",
    "\n",
    "nBkg = 0\n",
    "bkg_data = []\n",
    "\n",
    "bkg_xsec_norm = []\n",
    "\n",
    "for bf in bkg_files:\n",
    "    with h5py.File(f'{h5_dir}/{bf}',\"r\") as fin:\n",
    "        process = bf.split('_')[3]\n",
    "        entries = len(fin['wgt'])\n",
    "        print(f'{process}: {entries}')\n",
    "        nBkg += len(fin['wgt'])\n",
    "        \n",
    "        bkg_data.append(np.concatenate([fin[v][()].reshape(-1,1) for v in variables],axis=1))\n",
    "        bkg_xsec_norm.append(fin['wgt_norm'][()])\n",
    "\n",
    "bkg_xsec_norm = np.concatenate(bkg_xsec_norm,axis=0)\n",
    "\n",
    "\n",
    "print(f'\\nNumber of total background events (raw counts): {nBkg}')\n",
    "\n",
    "bkg_data = np.concatenate(bkg_data,axis=0)"
   ]
  },
  {
   "cell_type": "code",
   "execution_count": 170,
   "id": "58f060b0-6c6b-4e19-8d97-0c3b7dd4f367",
   "metadata": {
    "scrolled": true
   },
   "outputs": [
    {
     "name": "stdout",
     "output_type": "stream",
     "text": [
      "Signal input statistics (unweighted)\n",
      "m1_5.0_delta_0.1_ctau_1: 154\n",
      "m1_10.0_delta_0.1_ctau_1: 312\n",
      "m1_20.0_delta_0.1_ctau_1: 400\n",
      "m1_30.0_delta_0.1_ctau_1: 477\n",
      "m1_40.0_delta_0.1_ctau_1: 573\n",
      "m1_50.0_delta_0.1_ctau_1: 912\n",
      "m1_60.0_delta_0.1_ctau_1: 729\n",
      "m1_70.0_delta_0.1_ctau_1: 912\n",
      "m1_80.0_delta_0.1_ctau_1: 959\n",
      "m1_90.0_delta_0.1_ctau_1: 3758\n",
      "m1_100.0_delta_0.1_ctau_1: 4810\n",
      "m1_5.0_delta_0.2_ctau_1: 176\n",
      "m1_10.0_delta_0.2_ctau_1: 324\n",
      "m1_20.0_delta_0.2_ctau_1: 444\n",
      "m1_30.0_delta_0.2_ctau_1: 615\n",
      "m1_40.0_delta_0.2_ctau_1: 601\n",
      "m1_50.0_delta_0.2_ctau_1: 64\n",
      "m1_60.0_delta_0.2_ctau_1: 0\n",
      "m1_70.0_delta_0.2_ctau_1: 1061\n",
      "m1_80.0_delta_0.2_ctau_1: 0\n",
      "m1_90.0_delta_0.2_ctau_1: 3352\n",
      "m1_100.0_delta_0.2_ctau_1: 1980\n",
      "m1_5.0_delta_0.1_ctau_10: 89\n",
      "m1_10.0_delta_0.1_ctau_10: 205\n",
      "m1_20.0_delta_0.1_ctau_10: 191\n",
      "m1_30.0_delta_0.1_ctau_10: 407\n",
      "m1_40.0_delta_0.1_ctau_10: 422\n",
      "m1_50.0_delta_0.1_ctau_10: 564\n",
      "m1_60.0_delta_0.1_ctau_10: 504\n",
      "m1_70.0_delta_0.1_ctau_10: 560\n",
      "m1_80.0_delta_0.1_ctau_10: 518\n",
      "m1_90.0_delta_0.1_ctau_10: 1769\n",
      "m1_100.0_delta_0.1_ctau_10: 2846\n",
      "m1_5.0_delta_0.2_ctau_10: 67\n",
      "m1_10.0_delta_0.2_ctau_10: 181\n",
      "m1_20.0_delta_0.2_ctau_10: 308\n",
      "m1_30.0_delta_0.2_ctau_10: 352\n",
      "m1_40.0_delta_0.2_ctau_10: 468\n",
      "m1_50.0_delta_0.2_ctau_10: 223\n",
      "m1_60.0_delta_0.2_ctau_10: 0\n",
      "m1_70.0_delta_0.2_ctau_10: 683\n",
      "m1_80.0_delta_0.2_ctau_10: 582\n",
      "m1_90.0_delta_0.2_ctau_10: 2408\n",
      "m1_100.0_delta_0.2_ctau_10: 1435\n",
      "m1_5.0_delta_0.1_ctau_100: 46\n",
      "m1_10.0_delta_0.1_ctau_100: 77\n",
      "m1_20.0_delta_0.1_ctau_100: 70\n",
      "m1_30.0_delta_0.1_ctau_100: 157\n",
      "m1_40.0_delta_0.1_ctau_100: 237\n",
      "m1_50.0_delta_0.1_ctau_100: 255\n",
      "m1_60.0_delta_0.1_ctau_100: 140\n",
      "m1_70.0_delta_0.1_ctau_100: 174\n",
      "m1_80.0_delta_0.1_ctau_100: 207\n",
      "m1_90.0_delta_0.1_ctau_100: 604\n",
      "m1_100.0_delta_0.1_ctau_100: 923\n",
      "m1_5.0_delta_0.2_ctau_100: 12\n",
      "m1_10.0_delta_0.2_ctau_100: 40\n",
      "m1_20.0_delta_0.2_ctau_100: 80\n",
      "m1_30.0_delta_0.2_ctau_100: 80\n",
      "m1_40.0_delta_0.2_ctau_100: 180\n",
      "m1_50.0_delta_0.2_ctau_100: 149\n",
      "m1_60.0_delta_0.2_ctau_100: 0\n",
      "m1_70.0_delta_0.2_ctau_100: 186\n",
      "m1_80.0_delta_0.2_ctau_100: 319\n",
      "m1_90.0_delta_0.2_ctau_100: 703\n",
      "m1_100.0_delta_0.2_ctau_100: 440\n",
      "m1_60.0_delta_0.2_ctau_1 has zero counts\n",
      "m1_80.0_delta_0.2_ctau_1 has zero counts\n",
      "m1_60.0_delta_0.2_ctau_10 has zero counts\n",
      "m1_60.0_delta_0.2_ctau_100 has zero counts\n",
      "Number of signal subprocesses (training set) with non-zero count: 62\n"
     ]
    }
   ],
   "source": [
    "print('Signal input statistics (unweighted)')\n",
    "\n",
    "sig_subprocess = {}\n",
    "\n",
    "for ctau in [1, 10, 100]:\n",
    "    for delta in [0.1, 0.2]:\n",
    "        for m1 in [5.,10.,20.,30.,40.,50.,60.,70.,80.,90.,100.]:\n",
    "            idx = ((sig_point_train['m1'] == m1) & (sig_point_train['delta'] == delta))&(sig_point_train['ctau'] == ctau)\n",
    "            point = f'm1_{m1}_delta_{delta}_ctau_{ctau}'\n",
    "            sig_subprocess[point] = idx\n",
    "            print(f'{point}: {np.sum(idx)}')\n",
    "\n",
    "nSamp = 0\n",
    "for samp, count in sig_subprocess.items():\n",
    "    if np.sum(count) != 0:\n",
    "        nSamp += 1\n",
    "    else:\n",
    "        print(f'{samp} has zero counts')\n",
    "\n",
    "print(f'Number of signal subprocesses (training set) with non-zero count: {nSamp}')"
   ]
  },
  {
   "cell_type": "markdown",
   "id": "31b7cbde-ed51-4ec4-9475-254e7e8299a2",
   "metadata": {},
   "source": [
    "## Reweight Backgrounds"
   ]
  },
  {
   "cell_type": "markdown",
   "id": "345b0173-a0f8-4e3e-8ba5-643212abd61e",
   "metadata": {},
   "source": [
    "### Background raw counts"
   ]
  },
  {
   "cell_type": "code",
   "execution_count": 171,
   "id": "c8be1352-1d2d-447e-815b-2109c941c535",
   "metadata": {},
   "outputs": [
    {
     "name": "stdout",
     "output_type": "stream",
     "text": [
      "Diboson: 767\n",
      "DY: 9\n",
      "QCD: 3\n",
      "Top: 2006\n",
      "Triboson: 92\n",
      "WJets: 29090\n",
      "ZJets: 44480\n"
     ]
    }
   ],
   "source": [
    "bkg_raw = {}\n",
    "nBkg = 0\n",
    "\n",
    "for bf in bkg_files:\n",
    "    with h5py.File(f'{h5_dir}/{bf}',\"r\") as fin:\n",
    "        process = bf.split('_')[3]\n",
    "        entries = len(fin['wgt'])\n",
    "        print(f'{process}: {entries}')\n",
    "        nBkg += len(fin['wgt'])\n",
    "\n",
    "        bkg_raw[process] = entries"
   ]
  },
  {
   "cell_type": "markdown",
   "id": "9c958dc8-bd7b-48f7-8306-832a55097e6c",
   "metadata": {},
   "source": [
    "### Cutflow counts (xsec weighted)"
   ]
  },
  {
   "cell_type": "code",
   "execution_count": 172,
   "id": "52d9ccd0-4b97-4e85-b89b-3d6a6e54e6e2",
   "metadata": {},
   "outputs": [
    {
     "name": "stdout",
     "output_type": "stream",
     "text": [
      "Diboson: 189.35027223825455\n",
      "DY: 455.6547508239746\n",
      "QCD: 632.250424861908\n",
      "Top: 294.0013522002846\n",
      "Triboson: 2.0868917726911604\n",
      "WJets: 11204.390249389457\n",
      "ZJets: 6256.761405692319\n",
      "Total background counts (xsec weighted): 19034.49534697889\n"
     ]
    }
   ],
   "source": [
    "bkg_cts = {}\n",
    "total_bkg_cts = 0\n",
    "\n",
    "for bf in bkg_files:\n",
    "    with h5py.File(f'{h5_dir}/{bf}',\"r\") as fin:\n",
    "        process = bf.split('_')[3]\n",
    "        entries = sum(fin['wgt_norm'][()])\n",
    "        print(f'{process}: {entries}')\n",
    "\n",
    "        total_bkg_cts += entries\n",
    "        \n",
    "        bkg_cts[process] = entries\n",
    "\n",
    "print(f'Total background counts (xsec weighted): {total_bkg_cts}')"
   ]
  },
  {
   "cell_type": "markdown",
   "id": "8fe9be7f-f587-446f-b0e8-90f604acc5c0",
   "metadata": {},
   "source": [
    "### Reweighing factor = `wgt_norm` / `total_bkg_cts` * `nBkg`"
   ]
  },
  {
   "cell_type": "markdown",
   "id": "3be95b69-d941-4853-a304-b930a79e6fa1",
   "metadata": {},
   "source": [
    "Reweigh the background samples, such that after reweighting the total number of backgrounds (BDT sample size) are unchanged but the relative contributions of each sub-process within the BDT sample are physically correct."
   ]
  },
  {
   "cell_type": "code",
   "execution_count": 173,
   "id": "2c82f6e7-e59d-43c6-958e-c290287ee6b8",
   "metadata": {},
   "outputs": [],
   "source": [
    "sf = {}\n",
    "xsec_norm = {}\n",
    "\n",
    "for bf in bkg_files:\n",
    "    with h5py.File(f'{h5_dir}/{bf}',\"r\") as fin:\n",
    "        process = bf.split('_')[3]\n",
    "        entries = fin['wgt_norm'][()] / total_bkg_cts * nBkg\n",
    "        #print(f'{process}: {entries}')\n",
    "\n",
    "        sf[process] = entries\n",
    "        xsec_norm[process] = fin['wgt_norm'][()]"
   ]
  },
  {
   "cell_type": "code",
   "execution_count": null,
   "id": "c9e43690-d002-4d50-abf3-cb2b77ca091b",
   "metadata": {},
   "outputs": [],
   "source": []
  },
  {
   "cell_type": "code",
   "execution_count": null,
   "id": "1a6e646d-9cb4-41d2-aeb2-c86e276708ef",
   "metadata": {},
   "outputs": [],
   "source": []
  },
  {
   "cell_type": "markdown",
   "id": "4c62b29c-fabd-4233-94a1-44563ba2f4dc",
   "metadata": {},
   "source": [
    "**With the weight applied, the total bkg events are the same as raw counts, but the contribution of the relative xsec is considered now.**"
   ]
  },
  {
   "cell_type": "code",
   "execution_count": 174,
   "id": "9d9e2f81-f292-4d05-9233-337c8260afef",
   "metadata": {},
   "outputs": [],
   "source": [
    "eff = {'QCD': 5.67763170e-05, \\\n",
    "       'Top': 1.29972802e-02, \\\n",
    "       'DY': 6.84993158e-04, \\\n",
    "       'Diboson': 5.27846365e-02, \\\n",
    "       'Triboson': 1.47270096e-01,\\\n",
    "       'WJets': 2.20440725e-01,\\\n",
    "       'ZJets': 5.65765493e-01,\n",
    "      }"
   ]
  },
  {
   "cell_type": "code",
   "execution_count": 175,
   "id": "38b25b6e-1ef3-4f55-9e70-dbcc6a5c6195",
   "metadata": {},
   "outputs": [
    {
     "name": "stdout",
     "output_type": "stream",
     "text": [
      "Diboson: 40.14140205314688\n",
      "DY: 1.2535486564496918\n",
      "QCD: 0.1441701740280272\n",
      "Top: 15.346907175320029\n",
      "Triboson: 1.2343364841659745\n",
      "WJets: 9919.713300155101\n",
      "ZJets: 14216.90652980942\n",
      "24194.74019448575\n"
     ]
    }
   ],
   "source": [
    "total_weighted = 0\n",
    "\n",
    "for process in sf.keys():\n",
    "    print(f'{process}: {sum(sf[process])*eff[process]}')\n",
    "    total_weighted += sum(sf[process]*eff[process])\n",
    "\n",
    "print(total_weighted)"
   ]
  },
  {
   "cell_type": "code",
   "execution_count": 176,
   "id": "c2c34c55-5587-4574-bd3c-f0a476f01ada",
   "metadata": {},
   "outputs": [
    {
     "data": {
      "text/plain": [
       "76447"
      ]
     },
     "execution_count": 176,
     "metadata": {},
     "output_type": "execute_result"
    }
   ],
   "source": [
    "nBkg"
   ]
  },
  {
   "cell_type": "code",
   "execution_count": 177,
   "id": "59ee26d8-a4a3-4dd8-af6c-0feb7dafc521",
   "metadata": {},
   "outputs": [],
   "source": [
    "# SF\n",
    "bkg_sf = []\n",
    "bkg_xsec_norm = []\n",
    "\n",
    "for process in sf.keys():\n",
    "    bkg_sf += list(sf[process]*eff[process])\n",
    "    bkg_xsec_norm += list(xsec_norm[process]*eff[process])\n",
    "\n",
    "#print(len(bkg_sf))"
   ]
  },
  {
   "cell_type": "code",
   "execution_count": 178,
   "id": "b3d0f55f-4c92-4b4b-aee2-b49fda693580",
   "metadata": {},
   "outputs": [
    {
     "data": {
      "text/plain": [
       "array([0.00044529, 0.01772578, 0.01772578], dtype=float32)"
      ]
     },
     "execution_count": 178,
     "metadata": {},
     "output_type": "execute_result"
    }
   ],
   "source": [
    "xsec_norm['QCD']*eff['QCD']"
   ]
  },
  {
   "cell_type": "code",
   "execution_count": 179,
   "id": "d534d47e-b04b-4d88-a0bc-74d029983192",
   "metadata": {
    "scrolled": true
   },
   "outputs": [
    {
     "data": {
      "text/plain": [
       "{-0.008768425,\n",
       " -0.006692652,\n",
       " -0.0018502856,\n",
       " -0.00062421587,\n",
       " -0.0002116886,\n",
       " 0.00016636733,\n",
       " 0.0002116886,\n",
       " 0.00044529405,\n",
       " 0.00048210262,\n",
       " 0.00056381087,\n",
       " 0.00062421587,\n",
       " 0.0006242159,\n",
       " 0.0007078533,\n",
       " 0.0018502856,\n",
       " 0.0023449338,\n",
       " 0.0031738435,\n",
       " 0.0032812036,\n",
       " 0.006692652,\n",
       " 0.008768425,\n",
       " 0.008782745,\n",
       " 0.010455771,\n",
       " 0.011419581,\n",
       " 0.013761678,\n",
       " 0.015364231,\n",
       " 0.01624509,\n",
       " 0.016502155,\n",
       " 0.016980432,\n",
       " 0.017725779,\n",
       " 0.01888182,\n",
       " 0.021940107,\n",
       " 0.036256213,\n",
       " 0.07595454,\n",
       " 0.086272165,\n",
       " 0.098302655,\n",
       " 0.10451188,\n",
       " 0.26204792,\n",
       " 0.315949}"
      ]
     },
     "execution_count": 179,
     "metadata": {},
     "output_type": "execute_result"
    }
   ],
   "source": [
    "set(bkg_xsec_norm)"
   ]
  },
  {
   "cell_type": "code",
   "execution_count": 180,
   "id": "722d1837-7054-432b-af84-9d8c5eccc4e9",
   "metadata": {},
   "outputs": [
    {
     "data": {
      "text/plain": [
       "76447"
      ]
     },
     "execution_count": 180,
     "metadata": {},
     "output_type": "execute_result"
    }
   ],
   "source": [
    "len(bkg_sf)"
   ]
  },
  {
   "cell_type": "code",
   "execution_count": null,
   "id": "bbac57a7-fdcb-4072-bc77-fc13df4a0fdb",
   "metadata": {},
   "outputs": [],
   "source": []
  },
  {
   "cell_type": "code",
   "execution_count": null,
   "id": "1fd20d49-7d59-498e-9c1e-00905c7f4482",
   "metadata": {},
   "outputs": [],
   "source": []
  },
  {
   "cell_type": "code",
   "execution_count": null,
   "id": "72c8fbe1-4a78-4053-9c9c-05d61f344e66",
   "metadata": {},
   "outputs": [],
   "source": []
  },
  {
   "cell_type": "markdown",
   "id": "2b2730e7-ccd2-478c-86e9-1d3dd5c5056e",
   "metadata": {},
   "source": [
    "## Reweight Signal"
   ]
  },
  {
   "cell_type": "markdown",
   "id": "0d73d386-252e-4453-8f3e-8505bcb058ae",
   "metadata": {},
   "source": [
    "For signal, we also apply the reweighting factors.\n",
    "1) First, since our signal samples are smaller than background samples, get the overall scale factor for signal samples to match the total number of background samples. Reweigh against background.\n",
    "2) Then, reweigh across signal samples. We will make all signal subprocesses \"equally shown\" to the BDT. Currently the inputs are biased, i.e. to have more 10% splitting, 1mm ctau, etc. We will flatten these out."
   ]
  },
  {
   "cell_type": "code",
   "execution_count": 181,
   "id": "8b26f0b3-b80c-4608-8ebd-a68b89800e02",
   "metadata": {},
   "outputs": [
    {
     "name": "stdout",
     "output_type": "stream",
     "text": [
      "Signal sample size (all subprocesses summed): 54961\n",
      "Background sample size (all subprocesses summed): 24194.74019448575\n",
      "0.44021652070533196 more background than signal samples\n"
     ]
    }
   ],
   "source": [
    "#bkg_to_sig = len(bkg_xsec_norm)/len(sig_xsec_norm)\n",
    "bkg_to_sig = total_weighted/len(sig_xsec_norm)\n",
    "\n",
    "print(f'Signal sample size (all subprocesses summed): {len(sig_xsec_norm)}')\n",
    "#print(f'Background sample size (all subprocesses summed): {len(bkg_xsec_norm)}')\n",
    "print(f'Background sample size (all subprocesses summed): {total_weighted}')\n",
    "print(f'{bkg_to_sig} more background than signal samples')"
   ]
  },
  {
   "cell_type": "code",
   "execution_count": 182,
   "id": "ae85a386-539e-41b9-b054-bfd1e4b01859",
   "metadata": {},
   "outputs": [
    {
     "name": "stdout",
     "output_type": "stream",
     "text": [
      "There are 62 subprocesses in signal, i.e. per m1/delta/ctau points.\n",
      "\n",
      "Ideally, sig and bkg sample size for BDT input should be the same.\n",
      "\n",
      "For background, we care about each background process contribution to the total, i.e. QCD having higher xsec than Diboson.\n",
      "This should be taken into account, so we got the SF for background input that will correct for this relative xsec contribution.\n",
      "\n",
      "For signal, we want BDT to equally \"see\" each subprocess. For example, delta=0.2 splitting has lower xsec than delta=0.1.\n",
      "But we want the BDT to \"equally\" see them. Therefore, we reweigh signal such that each subprocess relative contribution is the same.\n",
      "For signal, we also get the overall SF against bkg, because right now we have 10 times less signal input than background.\n"
     ]
    }
   ],
   "source": [
    "print(f'There are {nSamp} subprocesses in signal, i.e. per m1/delta/ctau points.')\n",
    "print(f'\\nIdeally, sig and bkg sample size for BDT input should be the same.')\n",
    "print(f'\\nFor background, we care about each background process contribution to the total, i.e. QCD having higher xsec than Diboson.')\n",
    "print(f'This should be taken into account, so we got the SF for background input that will correct for this relative xsec contribution.')\n",
    "print(f'\\nFor signal, we want BDT to equally \"see\" each subprocess. For example, delta=0.2 splitting has lower xsec than delta=0.1.')\n",
    "print(f'But we want the BDT to \"equally\" see them. Therefore, we reweigh signal such that each subprocess relative contribution is the same.')\n",
    "print(f'For signal, we also get the overall SF against bkg, because right now we have 10 times less signal input than background.')"
   ]
  },
  {
   "cell_type": "code",
   "execution_count": 183,
   "id": "3bd8e196-bf91-4766-9914-a5f058a16b00",
   "metadata": {},
   "outputs": [
    {
     "name": "stdout",
     "output_type": "stream",
     "text": [
      "This means, for each one of 62 signal subprocesses, there should be [n(background sample size)/n(number of signal subprocess)] = 1233.016129032258\n"
     ]
    }
   ],
   "source": [
    "print(f'This means, for each one of {nSamp} signal subprocesses, there should be [n(background sample size)/n(number of signal subprocess)] = {len(bkg_xsec_norm)/nSamp}')"
   ]
  },
  {
   "cell_type": "code",
   "execution_count": 184,
   "id": "9c1fb0fb-e5b6-429e-9470-b7bf91588b53",
   "metadata": {},
   "outputs": [
    {
     "name": "stdout",
     "output_type": "stream",
     "text": [
      "We will get the SF for each signal subprocess such that their weighted count corresponds to 390.2377450723508\n"
     ]
    }
   ],
   "source": [
    "#print(f'We will get the SF for each signal subprocess such that their weighted count corresponds to {len(bkg_xsec_norm)/nSamp}')\n",
    "print(f'We will get the SF for each signal subprocess such that their weighted count corresponds to {total_weighted/nSamp}')"
   ]
  },
  {
   "cell_type": "code",
   "execution_count": 185,
   "id": "d78ce6d2-d61d-48b6-b54d-4558f59851c2",
   "metadata": {
    "scrolled": true
   },
   "outputs": [
    {
     "name": "stdout",
     "output_type": "stream",
     "text": [
      "m1_5.0_delta_0.1_ctau_1: 2.5340113316386415\n",
      "m1_10.0_delta_0.1_ctau_1: 1.2507620034370217\n",
      "m1_20.0_delta_0.1_ctau_1: 0.975594362680877\n",
      "m1_30.0_delta_0.1_ctau_1: 0.8181084802355362\n",
      "m1_40.0_delta_0.1_ctau_1: 0.6810431851175406\n",
      "m1_50.0_delta_0.1_ctau_1: 0.42789226433371796\n",
      "m1_60.0_delta_0.1_ctau_1: 0.5353055487960916\n",
      "m1_70.0_delta_0.1_ctau_1: 0.42789226433371796\n",
      "m1_80.0_delta_0.1_ctau_1: 0.40692152770839496\n",
      "m1_90.0_delta_0.1_ctau_1: 0.10384186936464895\n",
      "m1_100.0_delta_0.1_ctau_1: 0.08113050833105005\n",
      "m1_5.0_delta_0.2_ctau_1: 2.2172599151838113\n",
      "m1_10.0_delta_0.2_ctau_1: 1.204437484791206\n",
      "m1_20.0_delta_0.2_ctau_1: 0.8789138402530423\n",
      "m1_30.0_delta_0.2_ctau_1: 0.6345329188168305\n",
      "m1_40.0_delta_0.2_ctau_1: 0.6493140517010828\n",
      "m1_50.0_delta_0.2_ctau_1: 6.097464766755481\n",
      "m1_70.0_delta_0.2_ctau_1: 0.36780183324443994\n",
      "m1_90.0_delta_0.2_ctau_1: 0.11641937502158436\n",
      "m1_100.0_delta_0.2_ctau_1: 0.197089770238561\n",
      "m1_5.0_delta_0.1_ctau_10: 4.384693764857874\n",
      "m1_10.0_delta_0.1_ctau_10: 1.9035987564504917\n",
      "m1_20.0_delta_0.1_ctau_10: 2.043129555352622\n",
      "m1_30.0_delta_0.1_ctau_10: 0.9588150984578643\n",
      "m1_40.0_delta_0.1_ctau_10: 0.9247339930624426\n",
      "m1_50.0_delta_0.1_ctau_10: 0.6919108955183524\n",
      "m1_60.0_delta_0.1_ctau_10: 0.7742812402229182\n",
      "m1_70.0_delta_0.1_ctau_10: 0.6968531162006264\n",
      "m1_80.0_delta_0.1_ctau_10: 0.7533547202168934\n",
      "m1_90.0_delta_0.1_ctau_10: 0.22059793390183763\n",
      "m1_100.0_delta_0.1_ctau_10: 0.13711797086168334\n",
      "m1_5.0_delta_0.2_ctau_10: 5.824443956303743\n",
      "m1_10.0_delta_0.2_ctau_10: 2.1560096412837058\n",
      "m1_20.0_delta_0.2_ctau_10: 1.2670056658193207\n",
      "m1_30.0_delta_0.2_ctau_10: 1.1086299575919056\n",
      "m1_40.0_delta_0.2_ctau_10: 0.8338413356246811\n",
      "m1_50.0_delta_0.2_ctau_10: 1.7499450451674923\n",
      "m1_70.0_delta_0.2_ctau_10: 0.5713583383196936\n",
      "m1_80.0_delta_0.2_ctau_10: 0.6705115894713931\n",
      "m1_90.0_delta_0.2_ctau_10: 0.1620588642327038\n",
      "m1_100.0_delta_0.2_ctau_10: 0.2719426794929274\n",
      "m1_5.0_delta_0.1_ctau_100: 8.483429240703277\n",
      "m1_10.0_delta_0.1_ctau_100: 5.068022663277283\n",
      "m1_20.0_delta_0.1_ctau_100: 5.574824929605011\n",
      "m1_30.0_delta_0.1_ctau_100: 2.4855907329449094\n",
      "m1_40.0_delta_0.1_ctau_100: 1.6465727640183576\n",
      "m1_50.0_delta_0.1_ctau_100: 1.5303440983229442\n",
      "m1_60.0_delta_0.1_ctau_100: 2.7874124648025056\n",
      "m1_70.0_delta_0.1_ctau_100: 2.2427456613353494\n",
      "m1_80.0_delta_0.1_ctau_100: 1.8852064979340617\n",
      "m1_90.0_delta_0.1_ctau_100: 0.6460889819078656\n",
      "m1_100.0_delta_0.1_ctau_100: 0.42279278989420455\n",
      "m1_5.0_delta_0.2_ctau_100: 32.51981208936257\n",
      "m1_10.0_delta_0.2_ctau_100: 9.755943626808769\n",
      "m1_20.0_delta_0.2_ctau_100: 4.877971813404384\n",
      "m1_30.0_delta_0.2_ctau_100: 4.877971813404384\n",
      "m1_40.0_delta_0.2_ctau_100: 2.167987472624171\n",
      "m1_50.0_delta_0.2_ctau_100: 2.6190452689419517\n",
      "m1_70.0_delta_0.2_ctau_100: 2.098052392862101\n",
      "m1_80.0_delta_0.2_ctau_100: 1.2233158152738268\n",
      "m1_90.0_delta_0.2_ctau_100: 0.5551034780545531\n",
      "m1_100.0_delta_0.2_ctau_100: 0.8869039660735245\n",
      "[2.53401133 2.53401133 2.53401133 ... 0.88690397 0.88690397 0.88690397]\n"
     ]
    }
   ],
   "source": [
    "#sig_sf = np.zeros(len(sig_xsec_norm)) # initialize\n",
    "sig_sf = np.zeros(len(sig_data_train))\n",
    "\n",
    "#nSubprocessWeighted = len(bkg_xsec_norm)/nSamp\n",
    "nSubprocessWeighted = total_weighted/nSamp\n",
    "#nSubprocessWeighted = nSamp\n",
    "\n",
    "for samp, idx in sig_subprocess.items():\n",
    "    samp_idx = np.nonzero(idx)[0]\n",
    "    nSubprocess = np.sum(idx) # unweighted\n",
    "    \n",
    "    if nSubprocess == 0:\n",
    "        continue\n",
    "    sf = nSubprocessWeighted/nSubprocess\n",
    "\n",
    "    print(f'{samp}: {sf}')\n",
    "\n",
    "    sig_sf[samp_idx] = sf\n",
    "\n",
    "print(sig_sf)"
   ]
  },
  {
   "cell_type": "code",
   "execution_count": 186,
   "id": "81c5de3b-bec0-41fd-8ded-35b4883f9790",
   "metadata": {},
   "outputs": [
    {
     "data": {
      "text/plain": [
       "42474"
      ]
     },
     "execution_count": 186,
     "metadata": {},
     "output_type": "execute_result"
    }
   ],
   "source": [
    "len(sig_sf)"
   ]
  },
  {
   "cell_type": "code",
   "execution_count": 187,
   "id": "169d3fe4-2cd6-411c-b936-4bd8f8229751",
   "metadata": {},
   "outputs": [
    {
     "data": {
      "text/plain": [
       "42474"
      ]
     },
     "execution_count": 187,
     "metadata": {},
     "output_type": "execute_result"
    }
   ],
   "source": [
    "len(sig_data_train)"
   ]
  },
  {
   "cell_type": "markdown",
   "id": "eedf972e-5154-46fe-ba74-11b25b7e5f26",
   "metadata": {},
   "source": [
    "### Train"
   ]
  },
  {
   "cell_type": "code",
   "execution_count": 188,
   "id": "fb470c17-3d1f-4712-9b63-ef000aa26eb6",
   "metadata": {},
   "outputs": [],
   "source": [
    "bkg_sf_arr = np.array(bkg_sf)\n",
    "sig_sf_arr = sig_sf"
   ]
  },
  {
   "cell_type": "code",
   "execution_count": 189,
   "id": "f9942969-e134-4532-8f93-7d8da22ed07c",
   "metadata": {},
   "outputs": [],
   "source": [
    "from sklearn.utils import shuffle"
   ]
  },
  {
   "cell_type": "code",
   "execution_count": 190,
   "id": "3e71bdfa-7a1d-4bf7-a712-8630831f889b",
   "metadata": {},
   "outputs": [],
   "source": [
    "rng = np.random.default_rng(seed=438290)\n",
    "random_state = rng.integers(0,100000,1)[0]\n",
    "\n",
    "# 8-2 split of train/test set; shuffle the array of SFs accordingly\n",
    "'''\n",
    "sig_train, sig_test = train_test_split(sig_data,train_size=0.8,random_state=random_state)\n",
    "sig_train_sf, sig_test_sf = train_test_split(sig_sf_arr, train_size=0.8, random_state=random_state)\n",
    "sig_train_xsec_norm, sig_test_xsec_norm = train_test_split(sig_xsec_norm, train_size=0.8, random_state=random_state)\n",
    "sig_train_m1, sig_test_m1 = train_test_split(sig_point['m1'], train_size=0.8, random_state=random_state)\n",
    "sig_train_delta, sig_test_delta = train_test_split(sig_point['delta'], train_size=0.8, random_state=random_state)\n",
    "sig_train_ctau, sig_test_ctau = train_test_split(sig_point['ctau'], train_size=0.8, random_state=random_state)\n",
    "'''\n",
    "\n",
    "sig_train = shuffle(sig_data_train, random_state=random_state)\n",
    "sig_test = shuffle(sig_data_test, random_state=random_state)\n",
    "sig_train_sf = shuffle(sig_sf_arr, random_state=random_state)\n",
    "\n",
    "sig_train_xsec_norm = shuffle(sig_xsec_norm_train, random_state=random_state)\n",
    "sig_test_xsec_norm = shuffle(sig_xsec_norm_test, random_state=random_state)\n",
    "\n",
    "sig_train_m1 = shuffle(sig_point_train['m1'], random_state=random_state)\n",
    "sig_test_m1 = shuffle(sig_point_test['m1'], random_state=random_state)\n",
    "\n",
    "sig_train_delta = shuffle(sig_point_train['delta'], random_state=random_state)\n",
    "sig_test_delta = shuffle(sig_point_test['delta'], random_state=random_state)\n",
    "\n",
    "sig_train_ctau = shuffle(sig_point_train['ctau'], random_state=random_state)\n",
    "sig_test_ctau = shuffle(sig_point_test['ctau'], random_state=random_state)\n",
    "\n",
    "bkg_train, bkg_test = train_test_split(bkg_data,train_size=0.8,random_state=random_state)\n",
    "bkg_train_sf, bkg_test_sf = train_test_split(bkg_sf_arr, train_size=0.8, random_state=random_state)\n",
    "bkg_train_xsec_norm, bkg_test_xsec_norm = train_test_split(bkg_xsec_norm, train_size=0.8, random_state=random_state)\n",
    "\n",
    "bkg_train_m1, bkg_test_m1 = train_test_split(np.zeros(bkg_sf_arr.shape[0]), train_size=0.8, random_state=random_state)\n",
    "bkg_train_delta, bkg_test_delta = train_test_split(np.zeros(bkg_sf_arr.shape[0]), train_size=0.8, random_state=random_state)\n",
    "bkg_train_ctau, bkg_test_ctau = train_test_split(np.zeros(bkg_sf_arr.shape[0]), train_size=0.8, random_state=random_state)\n",
    "\n",
    "train = np.concatenate((sig_train,bkg_train),axis=0)\n",
    "train_sf = np.concatenate((sig_train_sf,bkg_train_sf),axis=0)\n",
    "train_sf = abs(train_sf)  # training sf cannot have negative values, genWgts have negative values, take abs for now, which is not correct :( \n",
    "\n",
    "y_train = np.concatenate((np.ones(len(sig_train)),np.zeros(len(bkg_train))),axis=0)\n",
    "\n",
    "perm = rng.permutation(len(train))\n",
    "train = train[perm]\n",
    "y_train = y_train[perm]\n",
    "dtrain = xgb.DMatrix(train,label=y_train,feature_names=variables)\n",
    "\n",
    "test = np.concatenate((sig_test,bkg_test),axis=0)\n",
    "\n",
    "test_xsec_norm = np.concatenate((sig_test_xsec_norm, bkg_test_xsec_norm), axis=0)\n",
    "\n",
    "test_m1 = np.concatenate((sig_test_m1,bkg_test_m1),axis=0)\n",
    "test_delta = np.concatenate((sig_test_delta,bkg_test_delta),axis=0)\n",
    "test_ctau = np.concatenate((sig_test_ctau,bkg_test_ctau),axis=0)\n",
    "\n",
    "y_test = np.concatenate((np.ones(len(sig_test)),np.zeros(len(bkg_test))),axis=0)\n",
    "\n",
    "perm = rng.permutation(len(test))\n",
    "test = test[perm]\n",
    "y_test = y_test[perm]\n",
    "#test_xsec_norm = test_xsec_norm[perm]\n",
    "test_m1 = test_m1[perm]\n",
    "test_delta = test_delta[perm]\n",
    "test_ctau = test_ctau[perm]\n",
    "\n",
    "dtest = xgb.DMatrix(test,label=y_test,feature_names=variables)"
   ]
  },
  {
   "cell_type": "code",
   "execution_count": null,
   "id": "3fedb5dc-045d-45fe-8f6e-c8541d099f69",
   "metadata": {},
   "outputs": [],
   "source": []
  },
  {
   "cell_type": "code",
   "execution_count": 145,
   "id": "c764f1fb-042a-470c-8abc-a2d27d94955c",
   "metadata": {},
   "outputs": [],
   "source": [
    "#test_ctau[np.where(y_test == ct)] # signal"
   ]
  },
  {
   "cell_type": "code",
   "execution_count": 146,
   "id": "2dcbc8c1-35c2-4e22-ad55-7f80bda1f04e",
   "metadata": {
    "scrolled": true
   },
   "outputs": [
    {
     "data": {
      "text/plain": [
       "array([100.,   1.,   1., ...,   1.,   1.,   1.])"
      ]
     },
     "execution_count": 146,
     "metadata": {},
     "output_type": "execute_result"
    }
   ],
   "source": [
    "test_ctau[np.where(y_test == 1)] # bkg; should all be zeros by construction, printing out to check if this is the case (not messed up by random_state)"
   ]
  },
  {
   "cell_type": "code",
   "execution_count": 147,
   "id": "b479e25d-88ac-4d9f-a4ad-c2d4466bc388",
   "metadata": {},
   "outputs": [
    {
     "data": {
      "text/plain": [
       "array([0.2, 0.2, 0.1, ..., 0.2, 0.1, 0.1])"
      ]
     },
     "execution_count": 147,
     "metadata": {},
     "output_type": "execute_result"
    }
   ],
   "source": [
    "test_delta[np.where(y_test == 1)]"
   ]
  },
  {
   "cell_type": "code",
   "execution_count": 60,
   "id": "31683e2a-13a9-4e41-9c58-38e278985774",
   "metadata": {},
   "outputs": [
    {
     "name": "stderr",
     "output_type": "stream",
     "text": [
      "\n",
      "KeyboardInterrupt\n",
      "\n"
     ]
    }
   ],
   "source": [
    "bst = xgb.XGBRegressor(n_estimators=100, max_depth=10, learning_rate=0.05, objective='binary:logistic')\n",
    "\n",
    "# fit model\n",
    "bst.fit(train, y_train, sample_weight=train_sf)\n",
    "#bst.fit(train, y_train)"
   ]
  },
  {
   "cell_type": "code",
   "execution_count": 751,
   "id": "ec8b8894-dff0-449f-8db3-13d89ab69ab5",
   "metadata": {},
   "outputs": [],
   "source": [
    "# make predictions\n",
    "preds = bst.predict(test)"
   ]
  },
  {
   "cell_type": "code",
   "execution_count": 752,
   "id": "68d2aac2-8651-4930-b31a-2f411833a1db",
   "metadata": {},
   "outputs": [
    {
     "data": {
      "text/plain": [
       "0"
      ]
     },
     "execution_count": 752,
     "metadata": {},
     "output_type": "execute_result"
    }
   ],
   "source": [
    "os.system('mkdir -p plots')"
   ]
  },
  {
   "cell_type": "code",
   "execution_count": 753,
   "id": "e14d4a8e-a9a4-44b7-881f-7639f050ba65",
   "metadata": {},
   "outputs": [
    {
     "data": {
      "image/png": "[encoded data removed]",
      "text/plain": [
       "<Figure size 640x480 with 1 Axes>"
      ]
     },
     "metadata": {},
     "output_type": "display_data"
    }
   ],
   "source": [
    "bins = 50\n",
    "\n",
    "h,bins,_ = plt.hist(preds[y_test==0],bins=bins,density=True,histtype='step', label='Background')\n",
    "h,bins,_ = plt.hist(preds[y_test==1],bins=bins,density=True,histtype='step', label='Signal')\n",
    "\n",
    "plt.legend()\n",
    "plt.title('BDT Prediction for the Test Dataset')\n",
    "\n",
    "plt.ylabel('A.U.')\n",
    "#plt.savefig(f'plots/BDT_inclusive_score.png')\n",
    "plt.yscale('log')"
   ]
  },
  {
   "cell_type": "code",
   "execution_count": 754,
   "id": "697a6006-c365-4d3b-9b8c-a652e7ea5e7a",
   "metadata": {},
   "outputs": [
    {
     "data": {
      "text/plain": [
       "[Text(0, 0, 'sel_vtx_chi2'),\n",
       " Text(0, 1, 'sel_vtx_METdPhi'),\n",
       " Text(0, 2, 'vxy_signif'),\n",
       " Text(0, 3, 'sel_vtx_m'),\n",
       " Text(0, 4, 'sel_vtx_minDxy'),\n",
       " Text(0, 5, 'sel_vtx_dR'),\n",
       " Text(0, 6, 'sel_vtx_projectedLxy')]"
      ]
     },
     "execution_count": 754,
     "metadata": {},
     "output_type": "execute_result"
    },
    {
     "data": {
      "image/png": "[encoded data removed]",
      "text/plain": [
       "<Figure size 640x480 with 1 Axes>"
      ]
     },
     "metadata": {},
     "output_type": "display_data"
    },
    {
     "data": {
      "image/png": "[encoded data removed]",
      "text/plain": [
       "<Figure size 640x480 with 1 Axes>"
      ]
     },
     "metadata": {},
     "output_type": "display_data"
    }
   ],
   "source": [
    "# Label the feature importance plot: replace, i.e. f1 with the variable name lead_jet_pt\n",
    "label_dict = {}\n",
    "\n",
    "for idx, var in enumerate(variables):\n",
    "    label_dict['f{}'.format(idx)] = var\n",
    "#print(label_dict)\n",
    "\n",
    "# Plot importance\n",
    "\n",
    "xgb.plot_importance(bst)\n",
    "\n",
    "ticks = [ item.get_text() for item in plt.gca().get_yticklabels() ]\n",
    "#print(ticks)\n",
    "relabel = [ label_dict[tick] for tick in ticks ]\n",
    "#print(relabel)\n",
    "\n",
    "# Plot importance with axis with variable names\n",
    "xgb.plot_importance(bst).set_yticklabels(relabel)\n",
    "#plt.savefig(f'plots/BDT_inclusive_importance_bst.png', bbox_inches = \"tight\")"
   ]
  },
  {
   "cell_type": "code",
   "execution_count": 755,
   "id": "b4eb8b19-a819-4b07-a1c5-59206784629f",
   "metadata": {},
   "outputs": [
    {
     "data": {
      "text/plain": [
       "<matplotlib.legend.Legend at 0x7fa77fca5550>"
      ]
     },
     "execution_count": 755,
     "metadata": {},
     "output_type": "execute_result"
    },
    {
     "data": {
      "image/png": "[encoded data removed]",
      "text/plain": [
       "<Figure size 640x480 with 1 Axes>"
      ]
     },
     "metadata": {},
     "output_type": "display_data"
    }
   ],
   "source": [
    "# ROC\n",
    "from sklearn.metrics import roc_auc_score, classification_report, accuracy_score, roc_curve, confusion_matrix, average_precision_score, precision_recall_curve\n",
    "\n",
    "# make predictions\n",
    "\n",
    "fpr, tpr, thresholds = roc_curve(y_test, preds)\n",
    "auc = roc_auc_score(y_test, preds)\n",
    "precision, recall, thresholds2 = precision_recall_curve(y_test, preds)\n",
    "\n",
    "plt.plot(fpr, tpr, color = \"red\", label = F\"AUC = {auc:.4f}\")\n",
    "\n",
    "plt.plot([0,1], [0,1] , color = \"black\", ls = \"--\")\n",
    "plt.xlim([-0.01, 1.01])\n",
    "plt.ylim([-0.01, 1.01])\n",
    "plt.xlabel('FPR' , fontsize=12)\n",
    "plt.ylabel('TPR' , fontsize=12)\n",
    "plt.tick_params(axis='both', which='major', labelsize=12)\n",
    "plt.legend( prop={'size':12} , loc = 4)\n",
    "#plt.savefig(f'plots/BDT_inclusive_roc_curve.png')"
   ]
  },
  {
   "cell_type": "code",
   "execution_count": 756,
   "id": "ce2e1b2f-d5c6-4c7e-9695-d16a51d1a051",
   "metadata": {},
   "outputs": [
    {
     "data": {
      "text/plain": [
       "<matplotlib.legend.Legend at 0x7fa77f8427c0>"
      ]
     },
     "execution_count": 756,
     "metadata": {},
     "output_type": "execute_result"
    },
    {
     "data": {
      "image/png": "[encoded data removed]",
      "text/plain": [
       "<Figure size 640x480 with 1 Axes>"
      ]
     },
     "metadata": {},
     "output_type": "display_data"
    }
   ],
   "source": [
    "from sklearn.metrics import precision_recall_curve\n",
    "from sklearn.metrics import auc\n",
    "\n",
    "precision, recall, _ = precision_recall_curve(y_test, preds)\n",
    "\n",
    "#idx = np.where(recall > 0.005)\n",
    "#recall[idx]\n",
    "\n",
    "plt.plot(recall, precision, color = \"red\", label=f\"PR-AUC: {auc(recall, precision):.4f}\")\n",
    "\n",
    "#plt.xlim([-0.01, 1.01])\n",
    "#plt.ylim([-0.01, 1.01])\n",
    "\n",
    "plt.ylabel('Precision (TP/(TP+FP))', fontsize=12)\n",
    "plt.xlabel('Signal Efficiency (TPR)', fontsize=12)\n",
    "\n",
    "plt.tick_params(axis='both', which='major', labelsize=12)\n",
    "plt.legend( prop={'size':12} , loc = 3)\n",
    "#plt.savefig(f'plots/BDT_inclusive_PR_curve.png')"
   ]
  },
  {
   "cell_type": "markdown",
   "id": "7b6ef9da-590b-4595-a6b7-3df8b073b325",
   "metadata": {},
   "source": [
    "### Save and load"
   ]
  },
  {
   "cell_type": "code",
   "execution_count": 148,
   "id": "e53ce45c-0683-4ebb-8b6c-6d1b79e78f26",
   "metadata": {},
   "outputs": [
    {
     "data": {
      "text/plain": [
       "0"
      ]
     },
     "execution_count": 148,
     "metadata": {},
     "output_type": "execute_result"
    }
   ],
   "source": [
    "os.system(f'mkdir -p models')"
   ]
  },
  {
   "cell_type": "code",
   "execution_count": 758,
   "id": "1da817e6-098f-4bcc-984c-d64a04f15235",
   "metadata": {},
   "outputs": [],
   "source": [
    "bst.save_model(f'models/BDT_comb14.json')"
   ]
  },
  {
   "cell_type": "code",
   "execution_count": 191,
   "id": "e6fcc07a-b2f2-48d2-9e5e-5e285006d298",
   "metadata": {},
   "outputs": [],
   "source": [
    "trained_model = xgb.XGBRegressor()\n",
    "trained_model.load_model(f'models/BDT_comb12.json')"
   ]
  },
  {
   "cell_type": "code",
   "execution_count": 192,
   "id": "e52b8158-fb69-4e52-bd7b-ac5153ed02d3",
   "metadata": {},
   "outputs": [],
   "source": [
    "prediction = trained_model.predict(test)"
   ]
  },
  {
   "cell_type": "code",
   "execution_count": 195,
   "id": "e9b54f49-b13e-47d7-bb0a-db4fd04618cc",
   "metadata": {},
   "outputs": [
    {
     "data": {
      "image/png": "[encoded data removed]",
      "text/plain": [
       "<Figure size 640x480 with 1 Axes>"
      ]
     },
     "metadata": {},
     "output_type": "display_data"
    }
   ],
   "source": [
    "bins = 50\n",
    "\n",
    "h_bkg,bins,_ = plt.hist(prediction[y_test==0],bins=bins,density=True,histtype='step', label='Background')\n",
    "h_sig,bins,_ = plt.hist(prediction[y_test==1],bins=bins,density=True,histtype='step', label='Signal')\n",
    "\n",
    "plt.legend()\n",
    "plt.title('BDT Prediction for the Test Dataset')\n",
    "\n",
    "plt.ylabel('A.U.')\n",
    "plt.yscale('log')"
   ]
  },
  {
   "cell_type": "code",
   "execution_count": 152,
   "id": "f247ad7f-9d47-4ded-8638-bb5af3964e6b",
   "metadata": {
    "scrolled": true
   },
   "outputs": [
    {
     "data": {
      "text/plain": [
       "array([30.75134988,  5.42133407,  2.55908758,  1.35356698,  1.00107859,\n",
       "        0.86007902,  0.58513573,  0.4441405 ,  0.51463745,  0.39479037,\n",
       "        0.38774171,  0.24674398,  0.21854467,  0.28199312,  0.21149548,\n",
       "        0.2255945 ,  0.19739518,  0.18329608,  0.16919587,  0.21149484,\n",
       "        0.14804683,  0.16919587,  0.15509622,  0.15509668,  0.1762457 ,\n",
       "        0.16214629,  0.14099656,  0.14804661,  0.11984726,  0.16214604,\n",
       "        0.1268971 ,  0.09869774,  0.14804639,  0.14099677,  0.14804639,\n",
       "        0.1268971 ,  0.11279742,  0.15509633,  0.09869767,  0.09164783,\n",
       "        0.16919613,  0.1057475 ,  0.16214617,  0.16214623,  0.15509639,\n",
       "        0.1057475 ,  0.19739541,  0.19034554,  0.09164785,  0.13394686])"
      ]
     },
     "execution_count": 152,
     "metadata": {},
     "output_type": "execute_result"
    }
   ],
   "source": [
    "h_sig = h_sig[::-1]\n",
    "h_sig"
   ]
  },
  {
   "cell_type": "code",
   "execution_count": 153,
   "id": "a5f1e13c-b2ca-4815-a98e-879ec94cb4ca",
   "metadata": {},
   "outputs": [
    {
     "data": {
      "text/plain": [
       "array([7.26284442e-02, 6.93273599e-02, 3.63142221e-02, 6.93271513e-02,\n",
       "       2.97117257e-02, 6.93271513e-02, 4.29168079e-02, 1.65065143e-02,\n",
       "       4.95193938e-02, 5.94232725e-02, 5.94234513e-02, 5.61219796e-02,\n",
       "       5.28206867e-02, 6.93271513e-02, 2.97117257e-02, 4.62181008e-02,\n",
       "       7.59297371e-02, 7.26286627e-02, 4.95193938e-02, 5.28206867e-02,\n",
       "       6.60260570e-02, 7.59297371e-02, 7.59297371e-02, 6.27247542e-02,\n",
       "       5.28206867e-02, 7.59298513e-02, 1.05641373e-01, 7.92311492e-02,\n",
       "       1.15545426e-01, 1.18846545e-01, 1.12244128e-01, 1.02340234e-01,\n",
       "       1.18846545e-01, 1.35353213e-01, 1.28750424e-01, 1.48558405e-01,\n",
       "       1.61763596e-01, 1.78269952e-01, 2.31090678e-01, 2.50898450e-01,\n",
       "       2.34392150e-01, 3.40033426e-01, 3.99456743e-01, 5.28207463e-01,\n",
       "       5.77726912e-01, 8.12118669e-01, 1.05971622e+00, 1.33042230e+00,\n",
       "       2.10292557e+00, 3.96155523e+01])"
      ]
     },
     "execution_count": 153,
     "metadata": {},
     "output_type": "execute_result"
    }
   ],
   "source": [
    "h_bkg = h_bkg[::-1]\n",
    "h_bkg"
   ]
  },
  {
   "cell_type": "code",
   "execution_count": 154,
   "id": "450dc2b6-7942-4377-b92e-000cb6b5346b",
   "metadata": {},
   "outputs": [
    {
     "name": "stderr",
     "output_type": "stream",
     "text": [
      "/tmp/ipykernel_7242/326739833.py:17: RuntimeWarning: invalid value encountered in divide\n",
      "  np.array(h_sig_sum)/np.array(h_bkg_sum)\n"
     ]
    },
    {
     "data": {
      "text/plain": [
       "array([         nan, 423.40642458, 254.81651975, 217.26463141,\n",
       "       161.8973969 , 148.16119007, 121.01019381, 109.18064263,\n",
       "       105.83617774,  95.46188854,  85.21364289,  77.07342784,\n",
       "        70.60481202,  65.46724462,  59.81201549,  57.81098196,\n",
       "        54.858719  ,  50.47201673,  46.90828601,  44.81062567,\n",
       "        42.8139735 ,  40.47554063,  38.09801281,  35.98790291,\n",
       "        34.44229356,  33.27946787,  31.69119232,  29.67999596,\n",
       "        28.36347652,  26.5988655 ,  25.02716574,  23.69957491,\n",
       "        22.60347758,  21.4711071 ,  20.30776489,  19.32336803,\n",
       "        18.28964475,  17.27906387,  16.30211916,  15.16470716,\n",
       "        14.09656243,  13.25171805,  12.16541438,  11.10985132,\n",
       "         9.96365726,   8.95554088,   7.83007143,   6.73955585,\n",
       "         5.73752677,   4.63508198])"
      ]
     },
     "execution_count": 154,
     "metadata": {},
     "output_type": "execute_result"
    }
   ],
   "source": [
    "# S/B scan on the score (xsec unweighted)\n",
    "h_sig_sum = []\n",
    "h_bkg_sum = []\n",
    "\n",
    "for idx, entry in enumerate(h_sig):\n",
    "    integral = 0\n",
    "    for j in range(idx):\n",
    "        integral += h_sig[j]\n",
    "    h_sig_sum.append(integral)\n",
    "\n",
    "for idx, entry in enumerate(h_bkg):\n",
    "    integral = 0\n",
    "    for j in range(idx):\n",
    "        integral += h_bkg[j]\n",
    "    h_bkg_sum.append(integral)\n",
    "\n",
    "np.array(h_sig_sum)/np.array(h_bkg_sum)"
   ]
  },
  {
   "cell_type": "code",
   "execution_count": 155,
   "id": "a785b01a-6474-4a1e-b6d2-76b85e701094",
   "metadata": {},
   "outputs": [
    {
     "data": {
      "text/plain": [
       "(25937,)"
      ]
     },
     "execution_count": 155,
     "metadata": {},
     "output_type": "execute_result"
    }
   ],
   "source": [
    "prediction.shape"
   ]
  },
  {
   "cell_type": "code",
   "execution_count": 156,
   "id": "1c8c264c-8ad1-436e-b765-4433d6ade710",
   "metadata": {},
   "outputs": [
    {
     "data": {
      "text/plain": [
       "(25937,)"
      ]
     },
     "execution_count": 156,
     "metadata": {},
     "output_type": "execute_result"
    }
   ],
   "source": [
    "test_xsec_norm.shape"
   ]
  },
  {
   "cell_type": "code",
   "execution_count": 157,
   "id": "7f5ccc79-f7e6-429d-aee2-0b8249767df4",
   "metadata": {},
   "outputs": [
    {
     "data": {
      "text/plain": [
       "(25937,)"
      ]
     },
     "execution_count": 157,
     "metadata": {},
     "output_type": "execute_result"
    }
   ],
   "source": [
    "y_test.shape"
   ]
  },
  {
   "cell_type": "code",
   "execution_count": 158,
   "id": "0e2322f2-adad-4614-9753-36f281ba1c86",
   "metadata": {},
   "outputs": [
    {
     "data": {
      "text/plain": [
       "(9287,)"
      ]
     },
     "execution_count": 158,
     "metadata": {},
     "output_type": "execute_result"
    }
   ],
   "source": [
    "test_xsec_norm[ (y_test == 1) & (prediction > 0.9) ].shape"
   ]
  },
  {
   "cell_type": "code",
   "execution_count": 159,
   "id": "590bd210-bc38-4b3e-b451-87233bb49611",
   "metadata": {},
   "outputs": [],
   "source": [
    "# S/B scan on the score (xsec weighted)\n",
    "def yieldScan(test_xsec_norm, thresholds):\n",
    "    sig_yields = []\n",
    "    bkg_yields = []\n",
    "    \n",
    "    for t in thresholds:\n",
    "        sig_yields.append(np.sum(test_xsec_norm[ (y_test == 1) & (prediction > t) ]))\n",
    "        bkg_yields.append(np.sum(test_xsec_norm[ (y_test == 0) & (prediction > t) ]))\n",
    "        \n",
    "    return sig_yields, bkg_yields\n",
    "\n",
    "# threshold scan\n",
    "\n",
    "thresholds = np.arange(0,1,step=0.0001)\n",
    "sig_yields, bkg_yields = yieldScan(test_xsec_norm,thresholds)\n",
    "\n"
   ]
  },
  {
   "cell_type": "code",
   "execution_count": 160,
   "id": "018ccd9f-0a95-4e42-a410-2dc501ed905b",
   "metadata": {},
   "outputs": [
    {
     "data": {
      "text/plain": [
       "9995"
      ]
     },
     "execution_count": 160,
     "metadata": {},
     "output_type": "execute_result"
    }
   ],
   "source": [
    "np.where(thresholds == 0.9995)[0][0]"
   ]
  },
  {
   "cell_type": "code",
   "execution_count": 161,
   "id": "8b802b04-5aa0-4280-bbfe-5acd857df3ac",
   "metadata": {},
   "outputs": [
    {
     "ename": "IndexError",
     "evalue": "index 0 is out of bounds for axis 0 with size 0",
     "output_type": "error",
     "traceback": [
      "\u001b[0;31m---------------------------------------------------------------------------\u001b[0m",
      "\u001b[0;31mIndexError\u001b[0m                                Traceback (most recent call last)",
      "Cell \u001b[0;32mIn[161], line 1\u001b[0m\n\u001b[0;32m----> 1\u001b[0m bkg_yields[\u001b[43mnp\u001b[49m\u001b[38;5;241;43m.\u001b[39;49m\u001b[43mwhere\u001b[49m\u001b[43m(\u001b[49m\u001b[43mthresholds\u001b[49m\u001b[43m \u001b[49m\u001b[38;5;241;43m==\u001b[39;49m\u001b[43m \u001b[49m\u001b[38;5;241;43m0.99\u001b[39;49m\u001b[43m)\u001b[49m\u001b[43m[\u001b[49m\u001b[38;5;241;43m0\u001b[39;49m\u001b[43m]\u001b[49m\u001b[43m[\u001b[49m\u001b[38;5;241;43m0\u001b[39;49m\u001b[43m]\u001b[49m]\n",
      "\u001b[0;31mIndexError\u001b[0m: index 0 is out of bounds for axis 0 with size 0"
     ]
    }
   ],
   "source": [
    "bkg_yields[np.where(thresholds == 0.99)[0][0]]"
   ]
  },
  {
   "cell_type": "code",
   "execution_count": null,
   "id": "eaaca0d6-a2db-4aa1-8b83-a2bb96111501",
   "metadata": {},
   "outputs": [],
   "source": []
  },
  {
   "cell_type": "code",
   "execution_count": null,
   "id": "dfc9c524-e1ec-4da2-a19d-352633f4262d",
   "metadata": {},
   "outputs": [],
   "source": []
  },
  {
   "cell_type": "code",
   "execution_count": 162,
   "id": "432b0c48-5e4f-4884-863f-58b5edca768a",
   "metadata": {},
   "outputs": [
    {
     "data": {
      "text/plain": [
       "[Text(0, 0, 'sel_vtx_chi2'),\n",
       " Text(0, 1, 'sel_vtx_pt_over_m'),\n",
       " Text(0, 2, 'vxy_signif'),\n",
       " Text(0, 3, 'sel_vtx_METdPhi'),\n",
       " Text(0, 4, 'sel_vtx_dR'),\n",
       " Text(0, 5, 'sel_vtx_m'),\n",
       " Text(0, 6, 'sel_vtx_minDxy'),\n",
       " Text(0, 7, 'sel_vtx_projectedLxy')]"
      ]
     },
     "execution_count": 162,
     "metadata": {},
     "output_type": "execute_result"
    },
    {
     "data": {
      "image/png": "[encoded data removed]",
      "text/plain": [
       "<Figure size 640x480 with 1 Axes>"
      ]
     },
     "metadata": {},
     "output_type": "display_data"
    },
    {
     "data": {
      "image/png": "[encoded data removed]",
      "text/plain": [
       "<Figure size 640x480 with 1 Axes>"
      ]
     },
     "metadata": {},
     "output_type": "display_data"
    }
   ],
   "source": [
    "# Label the feature importance plot: replace, i.e. f1 with the variable name lead_jet_pt\n",
    "label_dict = {}\n",
    "\n",
    "for idx, var in enumerate(variables):\n",
    "    label_dict['f{}'.format(idx)] = var\n",
    "#print(label_dict)\n",
    "\n",
    "# Plot importance\n",
    "\n",
    "xgb.plot_importance(trained_model)\n",
    "\n",
    "ticks = [ item.get_text() for item in plt.gca().get_yticklabels() ]\n",
    "#print(ticks)\n",
    "relabel = [ label_dict[tick] for tick in ticks ]\n",
    "#print(relabel)\n",
    "\n",
    "# Plot importance with axis with variable names\n",
    "xgb.plot_importance(trained_model).set_yticklabels(relabel)\n",
    "#plt.savefig('plots/importance_bst_weighted.png', bbox_inches = \"tight\")"
   ]
  },
  {
   "cell_type": "code",
   "execution_count": 163,
   "id": "05764870-0322-4193-8961-69c1a60526b7",
   "metadata": {},
   "outputs": [
    {
     "data": {
      "text/plain": [
       "<matplotlib.legend.Legend at 0x7f933c31abe0>"
      ]
     },
     "execution_count": 163,
     "metadata": {},
     "output_type": "execute_result"
    },
    {
     "data": {
      "image/png": "[encoded data removed]",
      "text/plain": [
       "<Figure size 640x480 with 1 Axes>"
      ]
     },
     "metadata": {},
     "output_type": "display_data"
    }
   ],
   "source": [
    "# ROC\n",
    "from sklearn.metrics import roc_auc_score, classification_report, accuracy_score, roc_curve, confusion_matrix, average_precision_score, precision_recall_curve\n",
    "\n",
    "# make predictions\n",
    "\n",
    "fpr, tpr, thresholds = roc_curve(y_test, prediction)\n",
    "auc = roc_auc_score(y_test, prediction)\n",
    "precision, recall, thresholds2 = precision_recall_curve(y_test, prediction)\n",
    "\n",
    "plt.plot(fpr, tpr, color = \"red\", label = F\"AUC = {auc:.4f}\")\n",
    "\n",
    "plt.plot([0,1], [0,1] , color = \"black\", ls = \"--\")\n",
    "plt.xlim([-0.01, 1.01])\n",
    "plt.ylim([-0.01, 1.01])\n",
    "plt.xlabel('FPR' , fontsize=12)\n",
    "plt.ylabel('TPR' , fontsize=12)\n",
    "plt.tick_params(axis='both', which='major', labelsize=12)\n",
    "plt.legend( prop={'size':12} , loc = 4)\n",
    "#plt.savefig('plots/roc_curve_weighted_training.png')"
   ]
  },
  {
   "cell_type": "code",
   "execution_count": 164,
   "id": "36ea7c12-6a58-46f9-9081-082d21a266e1",
   "metadata": {},
   "outputs": [
    {
     "data": {
      "text/plain": [
       "<matplotlib.legend.Legend at 0x7f93378a7760>"
      ]
     },
     "execution_count": 164,
     "metadata": {},
     "output_type": "execute_result"
    },
    {
     "data": {
      "image/png": "[encoded data removed]",
      "text/plain": [
       "<Figure size 640x480 with 1 Axes>"
      ]
     },
     "metadata": {},
     "output_type": "display_data"
    }
   ],
   "source": [
    "from sklearn.metrics import precision_recall_curve\n",
    "from sklearn.metrics import auc\n",
    "\n",
    "precision, recall, _ = precision_recall_curve(y_test, prediction)\n",
    "\n",
    "#idx = np.where(recall > 0.005)\n",
    "#recall[idx]\n",
    "\n",
    "plt.plot(recall, precision, color = \"red\", label=f\"PR-AUC: {auc(recall, precision):.4f}\")\n",
    "\n",
    "#plt.xlim([-0.01, 1.01])\n",
    "#plt.ylim([-0.01, 1.01])\n",
    "\n",
    "plt.ylabel('Precision (TP/(TP+FP))', fontsize=12)\n",
    "plt.xlabel('Signal Efficiency (TPR)', fontsize=12)\n",
    "\n",
    "plt.tick_params(axis='both', which='major', labelsize=12)\n",
    "plt.legend( prop={'size':12} , loc = 3)\n",
    "#plt.savefig(f'plots/BDT_inclusive_PR_curve.png')"
   ]
  },
  {
   "cell_type": "markdown",
   "id": "9c4de31a-2d67-4f3d-bea6-0cb84a18ea0c",
   "metadata": {},
   "source": [
    "### WP"
   ]
  },
  {
   "cell_type": "code",
   "execution_count": 165,
   "id": "777ff2c4-17c4-4922-9d7a-ff0417ed85eb",
   "metadata": {},
   "outputs": [],
   "source": [
    "idx_valid = thresholds < 1\n",
    "\n",
    "tpr = tpr[idx_valid]\n",
    "thresholds = thresholds[idx_valid]"
   ]
  },
  {
   "cell_type": "code",
   "execution_count": 166,
   "id": "3222ca72-fff9-4985-998f-0b888b1e0c38",
   "metadata": {},
   "outputs": [],
   "source": [
    "tpr_WP = {'tight': 0.7, 'medium': 0.85, 'loose': 0.9}\n",
    "thres_WP = {'tight': 0, 'medium': 0, 'loose': 0}"
   ]
  },
  {
   "cell_type": "code",
   "execution_count": 167,
   "id": "bedfa9cd-7891-4558-8d61-7c52da2444df",
   "metadata": {},
   "outputs": [
    {
     "name": "stdout",
     "output_type": "stream",
     "text": [
      "tight threshold: 0.9792826175689697\n",
      "medium threshold: 0.9282112717628479\n",
      "loose threshold: 0.8343673348426819\n"
     ]
    }
   ],
   "source": [
    "epsilon = 0.005\n",
    "\n",
    "for wp in tpr_WP.keys():    \n",
    "    idx = np.where((tpr > tpr_WP[wp] - epsilon) & (tpr < tpr_WP[wp] + epsilon))\n",
    "    \n",
    "    thres_WP[wp] = thresholds[idx].mean()\n",
    "\n",
    "    print(f'{wp} threshold: {thres_WP[wp]}')"
   ]
  },
  {
   "cell_type": "code",
   "execution_count": null,
   "id": "966c474d-437b-41c3-981a-9c04d2bdb020",
   "metadata": {},
   "outputs": [],
   "source": []
  },
  {
   "cell_type": "code",
   "execution_count": null,
   "id": "4345ebfe-9727-495a-9653-658f3d0453ba",
   "metadata": {},
   "outputs": [],
   "source": []
  }
 ],
 "metadata": {
  "kernelspec": {
   "display_name": "Python 3 (ipykernel)",
   "language": "python",
   "name": "python3"
  },
  "language_info": {
   "codemirror_mode": {
    "name": "ipython",
    "version": 3
   },
   "file_extension": ".py",
   "mimetype": "text/x-python",
   "name": "python",
   "nbconvert_exporter": "python",
   "pygments_lexer": "ipython3",
   "version": "3.8.17"
  }
 },
 "nbformat": 4,
 "nbformat_minor": 5
}
