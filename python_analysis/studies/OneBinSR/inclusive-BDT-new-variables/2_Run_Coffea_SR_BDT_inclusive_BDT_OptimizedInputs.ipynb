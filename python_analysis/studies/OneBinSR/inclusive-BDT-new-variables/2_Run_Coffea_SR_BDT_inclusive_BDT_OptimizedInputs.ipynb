{
 "cells": [
  {
   "cell_type": "code",
   "execution_count": 1,
   "id": "e669ba8e-d8ae-45e9-bdac-9dabb1da3557",
   "metadata": {},
   "outputs": [],
   "source": [
    "%load_ext autoreload\n",
    "%autoreload 2\n",
    "import numpy as np\n",
    "import matplotlib.pyplot as plt\n",
    "import awkward as ak\n",
    "import sys\n",
    "sys.path.append(\"../../../analysisTools/\")\n",
    "from analysisTools import Analyzer\n",
    "from analysisTools import loadSchema\n",
    "import analysisTools as tools\n",
    "import analysisSubroutines as routines\n",
    "import importlib\n",
    "import coffea.util as util\n",
    "import time\n",
    "import json\n",
    "import os\n",
    "import glob"
   ]
  },
  {
   "cell_type": "code",
   "execution_count": 2,
   "id": "c59aff4f-6762-4e07-957a-349d22652fad",
   "metadata": {},
   "outputs": [],
   "source": [
    "outdir = \"./coffea/\"\n",
    "if not os.path.isdir(outdir):\n",
    "    os.mkdir(outdir)"
   ]
  },
  {
   "cell_type": "code",
   "execution_count": 3,
   "id": "73201266-7873-48cb-b6b9-ea70e7703e5b",
   "metadata": {},
   "outputs": [],
   "source": [
    "outdir = \"./coffea/skimmed/\"\n",
    "if not os.path.isdir(outdir):\n",
    "    os.mkdir(outdir)"
   ]
  },
  {
   "cell_type": "code",
   "execution_count": 4,
   "id": "c72681ac-a0f5-402a-8a80-d5f17505b69c",
   "metadata": {},
   "outputs": [],
   "source": [
    "cuts_config = \"./cut_configs/BDT_comb13_optv2.py\"\n",
    "histos_config = \"./histo_configs/displacement.py\""
   ]
  },
  {
   "cell_type": "markdown",
   "id": "d248ae59-1cd0-45e3-91a1-3462012c6a27",
   "metadata": {},
   "source": [
    "### Signal"
   ]
  },
  {
   "cell_type": "code",
   "execution_count": 5,
   "id": "e0ecc4e0-151c-408b-b400-381d1e1a973e",
   "metadata": {},
   "outputs": [],
   "source": [
    "sample_config = \"./sample_configs/skimmed_sig_v2_mA_3m1_2018_aEM.json\""
   ]
  },
  {
   "cell_type": "code",
   "execution_count": 6,
   "id": "02537ff8-2bb2-4752-bed0-a504affad525",
   "metadata": {
    "scrolled": true
   },
   "outputs": [
    {
     "data": {
      "application/vnd.jupyter.widget-view+json": {
       "model_id": "8386b928f2834d8d815ad3a11f3e8283",
       "version_major": 2,
       "version_minor": 0
      },
      "text/plain": [
       "Output()"
      ]
     },
     "metadata": {},
     "output_type": "display_data"
    },
    {
     "data": {
      "text/html": [
       "<pre style=\"white-space:pre;overflow-x:auto;line-height:normal;font-family:Menlo,'DejaVu Sans Mono',consolas,'Courier New',monospace\"></pre>\n"
      ],
      "text/plain": []
     },
     "metadata": {},
     "output_type": "display_data"
    },
    {
     "data": {
      "text/html": [
       "<pre style=\"white-space:pre;overflow-x:auto;line-height:normal;font-family:Menlo,'DejaVu Sans Mono',consolas,'Courier New',monospace\">\n",
       "</pre>\n"
      ],
      "text/plain": [
       "\n"
      ]
     },
     "metadata": {},
     "output_type": "display_data"
    },
    {
     "data": {
      "application/vnd.jupyter.widget-view+json": {
       "model_id": "44f38cecf19b48ac88282cbc3d9571a9",
       "version_major": 2,
       "version_minor": 0
      },
      "text/plain": [
       "Output()"
      ]
     },
     "metadata": {},
     "output_type": "display_data"
    },
    {
     "name": "stdout",
     "output_type": "stream",
     "text": [
      "BDT Pass: 705/756\n",
      "BDT Pass: 797/879\n",
      "BDT Pass: 2702/3010\n",
      "BDT Pass: 3270/4190\n",
      "BDT Pass: 667/728\n",
      "BDT Pass: 2000/2212\n",
      "BDT Pass: 371/399\n",
      "BDT Pass: 235/259\n",
      "BDT Pass: 3791/4698\n",
      "BDT Pass: 578/648\n",
      "BDT Pass: 963/1199\n",
      "BDT Pass: 222/233\n",
      "BDT Pass: 805/854\n",
      "BDT Pass: 1095/1327\n",
      "BDT Pass: 200/218\n",
      "BDT Pass: 641/700\n",
      "BDT Pass: 932/1141\n",
      "BDT Pass: 574/630\n",
      "BDT Pass: 162/175\n",
      "BDT Pass: 754/912\n",
      "BDT Pass: 167/178\n",
      "BDT Pass: 591/629\n",
      "BDT Pass: 14/15\n",
      "BDT Pass: 863/1033\n",
      "BDT Pass: 76/84\n",
      "BDT Pass: 191/220\n",
      "BDT Pass: 74/112\n",
      "BDT Pass: 40/58\n",
      "BDT Pass: 179/187\n",
      "BDT Pass: 145/193\n",
      "BDT Pass: 270/279\n",
      "BDT Pass: 76/81\n",
      "BDT Pass: 299/319\n",
      "BDT Pass: 656/705\n",
      "BDT Pass: 940/1140\n",
      "BDT Pass: 215/226\n",
      "BDT Pass: 677/752\n",
      "BDT Pass: 550/585\n",
      "BDT Pass: 284/297\n",
      "BDT Pass: 493/528\n",
      "BDT Pass: 92/100\n",
      "BDT Pass: 627/717\n",
      "BDT Pass: 429/441\n",
      "BDT Pass: 714/769\n",
      "BDT Pass: 174/197\n",
      "BDT Pass: 473/509\n",
      "BDT Pass: 517/597\n",
      "BDT Pass: 510/556\n",
      "BDT Pass: 98/100\n",
      "BDT Pass: 369/386\n",
      "BDT Pass: 75/88\n",
      "BDT Pass: 219/239\n",
      "BDT Pass: 425/501\n",
      "BDT Pass: 46/51\n",
      "BDT Pass: 209/227\n",
      "BDT Pass: 376/405\n",
      "BDT Pass: 498/550\n",
      "BDT Pass: 1852/2475BDT Pass: 1580/1794\n",
      "\n",
      "BDT Pass: 79/97\n",
      "BDT Pass: 210/257\n",
      "BDT Pass: 327/391\n",
      "BDT Pass: 1076/1154\n",
      "BDT Pass: 3210/3558\n",
      "BDT Pass: 4748/6013\n"
     ]
    },
    {
     "data": {
      "text/html": [
       "<pre style=\"white-space:pre;overflow-x:auto;line-height:normal;font-family:Menlo,'DejaVu Sans Mono',consolas,'Courier New',monospace\"></pre>\n"
      ],
      "text/plain": []
     },
     "metadata": {},
     "output_type": "display_data"
    },
    {
     "data": {
      "text/html": [
       "<pre style=\"white-space:pre;overflow-x:auto;line-height:normal;font-family:Menlo,'DejaVu Sans Mono',consolas,'Courier New',monospace\">\n",
       "</pre>\n"
      ],
      "text/plain": [
       "\n"
      ]
     },
     "metadata": {},
     "output_type": "display_data"
    },
    {
     "name": "stdout",
     "output_type": "stream",
     "text": [
      "Runtime: 19.77 minutes\n"
     ]
    }
   ],
   "source": [
    "test = Analyzer(sample_config,histos_config,cuts_config, max_samples=-1) # run over all samples in the config\n",
    "\n",
    "t1 = time.time()\n",
    "out = test.process(execr='futures')\n",
    "t2 = time.time()\n",
    "\n",
    "print(\"Runtime: {:.2f} minutes\".format((t2-t1)/60))\n",
    "util.save(out,f\"{outdir}/signal_SR_BDT_optv2_TrueVertex.coffea\")\n",
    "\n",
    "del out, test"
   ]
  },
  {
   "cell_type": "code",
   "execution_count": 6,
   "id": "f63b4fd9-f9ba-4609-bd17-03610de4aeb9",
   "metadata": {
    "scrolled": true
   },
   "outputs": [
    {
     "data": {
      "application/vnd.jupyter.widget-view+json": {
       "model_id": "8efd43387f094de28c809ed72be2f2e5",
       "version_major": 2,
       "version_minor": 0
      },
      "text/plain": [
       "Output()"
      ]
     },
     "metadata": {},
     "output_type": "display_data"
    },
    {
     "data": {
      "text/html": [
       "<pre style=\"white-space:pre;overflow-x:auto;line-height:normal;font-family:Menlo,'DejaVu Sans Mono',consolas,'Courier New',monospace\"></pre>\n"
      ],
      "text/plain": []
     },
     "metadata": {},
     "output_type": "display_data"
    },
    {
     "data": {
      "text/html": [
       "<pre style=\"white-space:pre;overflow-x:auto;line-height:normal;font-family:Menlo,'DejaVu Sans Mono',consolas,'Courier New',monospace\">\n",
       "</pre>\n"
      ],
      "text/plain": [
       "\n"
      ]
     },
     "metadata": {},
     "output_type": "display_data"
    },
    {
     "data": {
      "application/vnd.jupyter.widget-view+json": {
       "model_id": "ab96097edefd47458913227682c02010",
       "version_major": 2,
       "version_minor": 0
      },
      "text/plain": [
       "Output()"
      ]
     },
     "metadata": {},
     "output_type": "display_data"
    },
    {
     "name": "stdout",
     "output_type": "stream",
     "text": [
      "BDT Pass: 823/2173\n",
      "BDT Pass: 721/2261\n",
      "BDT Pass: 3305/6023\n",
      "BDT Pass: 2765/4904\n",
      "BDT Pass: 374/972\n",
      "BDT Pass: 673/1132\n",
      "BDT Pass: 2035/4163\n",
      "BDT Pass: 241/782\n",
      "BDT Pass: 3819/7883\n",
      "BDT Pass: 587/1300\n",
      "BDT Pass: 227/666\n",
      "BDT Pass: 821/1494\n",
      "BDT Pass: 1107/1963\n",
      "BDT Pass: 206/757\n",
      "BDT Pass: 650/1370\n",
      "BDT Pass: 936/2005\n",
      "BDT Pass: 168/600\n",
      "BDT Pass: 168/457\n",
      "\n",
      "BDT Pass: 769/1665\n",
      "BDT Pass: 873/1436BDT Pass: 77/254\n",
      "BDT Pass: 194/413\n",
      "BDT Pass: 15/147\n",
      "BDT Pass: 74/361\n",
      "BDT Pass: 143/432\n",
      "BDT Pass: 42/666\n",
      "BDT Pass: 185/590\n",
      "BDT Pass: 77/127\n",
      "BDT Pass: 276/494\n",
      "BDT Pass: 667/1542\n",
      "BDT Pass: 312/1244\n",
      "BDT Pass: 560/1111\n",
      "BDT Pass: 680/1257\n",
      "BDT Pass: 939/2090\n",
      "BDT Pass: 226/821\n",
      "BDT Pass: 633/1363\n",
      "\n",
      "\n",
      "BDT Pass: 501/1149\n",
      "BDT Pass: 289/1222BDT Pass: 95/394BDT Pass: 433/834\n",
      "BDT Pass: 718/1282\n",
      "BDT Pass: 478/1175\n",
      "BDT Pass: 189/1027\n",
      "BDT Pass: 104/436\n",
      "BDT Pass: 524/1237\n",
      "BDT Pass: 508/989\n",
      "BDT Pass: 378/810\n",
      "BDT Pass: 224/660\n",
      "BDT Pass: 79/576\n",
      "BDT Pass: 428/1023\n",
      "BDT Pass: 49/342\n",
      "BDT Pass: 213/585\n",
      "BDT Pass: 378/796\n",
      "BDT Pass: 514/1230\n",
      "BDT Pass: 1604/2858\n",
      "BDT Pass: 213/698\n",
      "BDT Pass: 88/776\n",
      "BDT Pass: 1863/3554\n",
      "BDT Pass: 336/866\n",
      "BDT Pass: 1098/3281\n",
      "BDT Pass: 3284/6669\n",
      "BDT Pass: 4782/9799\n"
     ]
    },
    {
     "data": {
      "text/html": [
       "<pre style=\"white-space:pre;overflow-x:auto;line-height:normal;font-family:Menlo,'DejaVu Sans Mono',consolas,'Courier New',monospace\"></pre>\n"
      ],
      "text/plain": []
     },
     "metadata": {},
     "output_type": "display_data"
    },
    {
     "data": {
      "text/html": [
       "<pre style=\"white-space:pre;overflow-x:auto;line-height:normal;font-family:Menlo,'DejaVu Sans Mono',consolas,'Courier New',monospace\">\n",
       "</pre>\n"
      ],
      "text/plain": [
       "\n"
      ]
     },
     "metadata": {},
     "output_type": "display_data"
    },
    {
     "name": "stdout",
     "output_type": "stream",
     "text": [
      "Runtime: 19.39 minutes\n"
     ]
    }
   ],
   "source": [
    "test = Analyzer(sample_config,histos_config,cuts_config, max_samples=-1) # run over all samples in the config\n",
    "\n",
    "t1 = time.time()\n",
    "out = test.process(execr='futures')\n",
    "t2 = time.time()\n",
    "\n",
    "print(\"Runtime: {:.2f} minutes\".format((t2-t1)/60))\n",
    "util.save(out,f\"{outdir}/signal_SR_BDT_optv2_BestVertex.coffea\")\n",
    "\n",
    "del out, test"
   ]
  },
  {
   "cell_type": "markdown",
   "id": "97b2ff87-c610-4e5a-9d3d-0255d980dbe3",
   "metadata": {},
   "source": [
    "### Background"
   ]
  },
  {
   "cell_type": "code",
   "execution_count": 7,
   "id": "c65bc29b-bfda-48ed-84d4-7ea8f8eded39",
   "metadata": {},
   "outputs": [
    {
     "name": "stdout",
     "output_type": "stream",
     "text": [
      "['../../../configs/sample_configs/skimmed_bkg_2018_DY.json', '../../../configs/sample_configs/skimmed_bkg_2018_Diboson.json', '../../../configs/sample_configs/skimmed_bkg_2018_QCD_TuneCP5_PSWeights.json', '../../../configs/sample_configs/skimmed_bkg_2018_TTJetsDiLept.json', '../../../configs/sample_configs/skimmed_bkg_2018_Top.json', '../../../configs/sample_configs/skimmed_bkg_2018_Triboson.json', '../../../configs/sample_configs/skimmed_bkg_2018_WJets.json', '../../../configs/sample_configs/skimmed_bkg_2018_ZJets.json']\n"
     ]
    }
   ],
   "source": [
    "bkg_configs = glob.glob(\"../../../configs/sample_configs/skimmed_bkg*.json\")\n",
    "\n",
    "print(bkg_configs)"
   ]
  },
  {
   "cell_type": "code",
   "execution_count": 8,
   "id": "f7af452c-6938-4868-8307-bd0f6b2e330d",
   "metadata": {},
   "outputs": [
    {
     "name": "stdout",
     "output_type": "stream",
     "text": [
      "bkg_2018_DY\n"
     ]
    },
    {
     "data": {
      "application/vnd.jupyter.widget-view+json": {
       "model_id": "5792178eac4c465f95a58c82d6c6234b",
       "version_major": 2,
       "version_minor": 0
      },
      "text/plain": [
       "Output()"
      ]
     },
     "metadata": {},
     "output_type": "display_data"
    },
    {
     "data": {
      "text/html": [
       "<pre style=\"white-space:pre;overflow-x:auto;line-height:normal;font-family:Menlo,'DejaVu Sans Mono',consolas,'Courier New',monospace\"></pre>\n"
      ],
      "text/plain": []
     },
     "metadata": {},
     "output_type": "display_data"
    },
    {
     "data": {
      "text/html": [
       "<pre style=\"white-space:pre;overflow-x:auto;line-height:normal;font-family:Menlo,'DejaVu Sans Mono',consolas,'Courier New',monospace\">\n",
       "</pre>\n"
      ],
      "text/plain": [
       "\n"
      ]
     },
     "metadata": {},
     "output_type": "display_data"
    },
    {
     "data": {
      "application/vnd.jupyter.widget-view+json": {
       "model_id": "a21671c262aa44e68e913112b1766921",
       "version_major": 2,
       "version_minor": 0
      },
      "text/plain": [
       "Output()"
      ]
     },
     "metadata": {},
     "output_type": "display_data"
    },
    {
     "name": "stdout",
     "output_type": "stream",
     "text": [
      "BDT Pass: 0/2\n",
      "BDT Pass: 0/1\n",
      "BDT Pass: 0/1\n",
      "BDT Pass: 0/1\n",
      "BDT Pass: 0/2\n",
      "BDT Pass: 0/2\n"
     ]
    },
    {
     "data": {
      "text/html": [
       "<pre style=\"white-space:pre;overflow-x:auto;line-height:normal;font-family:Menlo,'DejaVu Sans Mono',consolas,'Courier New',monospace\"></pre>\n"
      ],
      "text/plain": []
     },
     "metadata": {},
     "output_type": "display_data"
    },
    {
     "data": {
      "text/html": [
       "<pre style=\"white-space:pre;overflow-x:auto;line-height:normal;font-family:Menlo,'DejaVu Sans Mono',consolas,'Courier New',monospace\">\n",
       "</pre>\n"
      ],
      "text/plain": [
       "\n"
      ]
     },
     "metadata": {},
     "output_type": "display_data"
    },
    {
     "name": "stdout",
     "output_type": "stream",
     "text": [
      "Runtime: 0.91 minutes\n",
      "bkg_2018_Diboson\n"
     ]
    },
    {
     "data": {
      "application/vnd.jupyter.widget-view+json": {
       "model_id": "f0a2757afed5490d800fd67cac0ae5ac",
       "version_major": 2,
       "version_minor": 0
      },
      "text/plain": [
       "Output()"
      ]
     },
     "metadata": {},
     "output_type": "display_data"
    },
    {
     "data": {
      "text/html": [
       "<pre style=\"white-space:pre;overflow-x:auto;line-height:normal;font-family:Menlo,'DejaVu Sans Mono',consolas,'Courier New',monospace\"></pre>\n"
      ],
      "text/plain": []
     },
     "metadata": {},
     "output_type": "display_data"
    },
    {
     "data": {
      "text/html": [
       "<pre style=\"white-space:pre;overflow-x:auto;line-height:normal;font-family:Menlo,'DejaVu Sans Mono',consolas,'Courier New',monospace\">\n",
       "</pre>\n"
      ],
      "text/plain": [
       "\n"
      ]
     },
     "metadata": {},
     "output_type": "display_data"
    },
    {
     "data": {
      "application/vnd.jupyter.widget-view+json": {
       "model_id": "eb07f379d889496bad4c5e35a73147ae",
       "version_major": 2,
       "version_minor": 0
      },
      "text/plain": [
       "Output()"
      ]
     },
     "metadata": {},
     "output_type": "display_data"
    },
    {
     "name": "stdout",
     "output_type": "stream",
     "text": [
      "BDT Pass: 0/90\n",
      "BDT Pass: 0/91\n",
      "\n",
      "BDT Pass: 0/91\n",
      "BDT Pass: 0/100\n",
      "BDT Pass: 1/108BDT Pass: 0/29\n",
      "BDT Pass: 0/112\n"
     ]
    },
    {
     "data": {
      "text/html": [
       "<pre style=\"white-space:pre;overflow-x:auto;line-height:normal;font-family:Menlo,'DejaVu Sans Mono',consolas,'Courier New',monospace\"></pre>\n"
      ],
      "text/plain": []
     },
     "metadata": {},
     "output_type": "display_data"
    },
    {
     "data": {
      "text/html": [
       "<pre style=\"white-space:pre;overflow-x:auto;line-height:normal;font-family:Menlo,'DejaVu Sans Mono',consolas,'Courier New',monospace\">\n",
       "</pre>\n"
      ],
      "text/plain": [
       "\n"
      ]
     },
     "metadata": {},
     "output_type": "display_data"
    },
    {
     "name": "stdout",
     "output_type": "stream",
     "text": [
      "Runtime: 0.61 minutes\n",
      "bkg_2018_QCD_TuneCP5_PSWeights\n"
     ]
    },
    {
     "data": {
      "application/vnd.jupyter.widget-view+json": {
       "model_id": "9a84f047ee424be2870dcfe83c6e4198",
       "version_major": 2,
       "version_minor": 0
      },
      "text/plain": [
       "Output()"
      ]
     },
     "metadata": {},
     "output_type": "display_data"
    },
    {
     "data": {
      "text/html": [
       "<pre style=\"white-space:pre;overflow-x:auto;line-height:normal;font-family:Menlo,'DejaVu Sans Mono',consolas,'Courier New',monospace\"></pre>\n"
      ],
      "text/plain": []
     },
     "metadata": {},
     "output_type": "display_data"
    },
    {
     "data": {
      "text/html": [
       "<pre style=\"white-space:pre;overflow-x:auto;line-height:normal;font-family:Menlo,'DejaVu Sans Mono',consolas,'Courier New',monospace\">\n",
       "</pre>\n"
      ],
      "text/plain": [
       "\n"
      ]
     },
     "metadata": {},
     "output_type": "display_data"
    },
    {
     "data": {
      "application/vnd.jupyter.widget-view+json": {
       "model_id": "a6b7ea2f3fbc442f89f278ff4eb87515",
       "version_major": 2,
       "version_minor": 0
      },
      "text/plain": [
       "Output()"
      ]
     },
     "metadata": {},
     "output_type": "display_data"
    },
    {
     "name": "stdout",
     "output_type": "stream",
     "text": [
      "BDT Pass: 0/1\n",
      "BDT Pass: 0/1\n",
      "BDT Pass: 0/1\n"
     ]
    },
    {
     "data": {
      "text/html": [
       "<pre style=\"white-space:pre;overflow-x:auto;line-height:normal;font-family:Menlo,'DejaVu Sans Mono',consolas,'Courier New',monospace\"></pre>\n"
      ],
      "text/plain": []
     },
     "metadata": {},
     "output_type": "display_data"
    },
    {
     "data": {
      "text/html": [
       "<pre style=\"white-space:pre;overflow-x:auto;line-height:normal;font-family:Menlo,'DejaVu Sans Mono',consolas,'Courier New',monospace\">\n",
       "</pre>\n"
      ],
      "text/plain": [
       "\n"
      ]
     },
     "metadata": {},
     "output_type": "display_data"
    },
    {
     "name": "stdout",
     "output_type": "stream",
     "text": [
      "Runtime: 2.44 minutes\n",
      "bkg_2018_TTJetsDiLept\n",
      "bkg_2018_Top\n"
     ]
    },
    {
     "data": {
      "application/vnd.jupyter.widget-view+json": {
       "model_id": "93e4129edeb74e51a194ef973d6bd0f6",
       "version_major": 2,
       "version_minor": 0
      },
      "text/plain": [
       "Output()"
      ]
     },
     "metadata": {},
     "output_type": "display_data"
    },
    {
     "data": {
      "text/html": [
       "<pre style=\"white-space:pre;overflow-x:auto;line-height:normal;font-family:Menlo,'DejaVu Sans Mono',consolas,'Courier New',monospace\"></pre>\n"
      ],
      "text/plain": []
     },
     "metadata": {},
     "output_type": "display_data"
    },
    {
     "data": {
      "text/html": [
       "<pre style=\"white-space:pre;overflow-x:auto;line-height:normal;font-family:Menlo,'DejaVu Sans Mono',consolas,'Courier New',monospace\">\n",
       "</pre>\n"
      ],
      "text/plain": [
       "\n"
      ]
     },
     "metadata": {},
     "output_type": "display_data"
    },
    {
     "data": {
      "application/vnd.jupyter.widget-view+json": {
       "model_id": "87468641529e4472997ed4d872ab5881",
       "version_major": 2,
       "version_minor": 0
      },
      "text/plain": [
       "Output()"
      ]
     },
     "metadata": {},
     "output_type": "display_data"
    },
    {
     "name": "stdout",
     "output_type": "stream",
     "text": [
      "BDT Pass: 0/12\n",
      "BDT Pass: 0/17\n",
      "BDT Pass: 1/22\n",
      "BDT Pass: 0/24\n",
      "BDT Pass: 0/9\n",
      "BDT Pass: 0/22\n",
      "BDT Pass: 0/9\n",
      "BDT Pass: 0/15\n",
      "BDT Pass: 0/3\n",
      "\n",
      "BDT Pass: 0/29\n",
      "BDT Pass: 0/6\n",
      "BDT Pass: 0/23\n",
      "BDT Pass: 0/29\n",
      "BDT Pass: 0/26\n",
      "\n",
      "BDT Pass: 0/6\n",
      "BDT Pass: 0/7\n",
      "BDT Pass: 0/28\n",
      "BDT Pass: 0/20\n",
      "BDT Pass: 0/34\n",
      "BDT Pass: 0/30\n",
      "BDT Pass: 0/28\n",
      "BDT Pass: 0/23\n",
      "BDT Pass: 0/31\n",
      "BDT Pass: 0/25\n",
      "BDT Pass: 1/17\n",
      "BDT Pass: 0/7\n",
      "BDT Pass: 0/24\n",
      "\n",
      "BDT Pass: 0/13\n",
      "BDT Pass: 0/13BDT Pass: 0/17\n",
      "BDT Pass: 0/53\n",
      "BDT Pass: 0/52\n",
      "BDT Pass: 1/42\n",
      "BDT Pass: 1/56\n",
      "BDT Pass: 0/5\n",
      "BDT Pass: 0/7\n",
      "BDT Pass: 0/14\n",
      "BDT Pass: 0/20\n",
      "BDT Pass: 0/6\n",
      "BDT Pass: 0/4\n",
      "BDT Pass: 1/40\n",
      "BDT Pass: 0/43\n",
      "BDT Pass: 0/47\n",
      "BDT Pass: 0/10\n",
      "BDT Pass: 0/32\n",
      "BDT Pass: 0/9\n",
      "BDT Pass: 0/7\n",
      "BDT Pass: 0/6\n",
      "BDT Pass: 0/8\n",
      "BDT Pass: 1/24\n",
      "BDT Pass: 1/51\n",
      "BDT Pass: 0/39\n",
      "BDT Pass: 0/31\n",
      "BDT Pass: 0/49BDT Pass: 0/23\n",
      "BDT Pass: 0/3\n",
      "BDT Pass: 0/6\n",
      "BDT Pass: 0/9\n",
      "BDT Pass: 0/5\n",
      "BDT Pass: 0/11\n",
      "BDT Pass: 0/8\n",
      "BDT Pass: 0/8BDT Pass: 0/42\n",
      "BDT Pass: 0/40\n",
      "BDT Pass: 0/35\n",
      "BDT Pass: 0/35\n",
      "BDT Pass: 1/10\n",
      "BDT Pass: 0/8\n",
      "BDT Pass: 0/22\n",
      "BDT Pass: 0/5\n",
      "BDT Pass: 0/8\n",
      "BDT Pass: 1/26\n",
      "BDT Pass: 0/41\n",
      "BDT Pass: 0/30\n",
      "BDT Pass: 0/37\n",
      "BDT Pass: 0/20\n",
      "BDT Pass: 0/12\n",
      "BDT Pass: 0/10\n",
      "BDT Pass: 0/5\n",
      "BDT Pass: 0/11BDT Pass: 0/10\n",
      "BDT Pass: 0/7\n",
      "BDT Pass: 0/40\n",
      "BDT Pass: 0/7\n",
      "BDT Pass: 0/40\n",
      "BDT Pass: 0/33\n",
      "BDT Pass: 1/50\n",
      "BDT Pass: 0/18\n",
      "BDT Pass: 0/23\n",
      "BDT Pass: 0/12\n",
      "BDT Pass: 0/8BDT Pass: 0/15\n",
      "BDT Pass: 0/7\n"
     ]
    },
    {
     "data": {
      "text/html": [
       "<pre style=\"white-space:pre;overflow-x:auto;line-height:normal;font-family:Menlo,'DejaVu Sans Mono',consolas,'Courier New',monospace\"></pre>\n"
      ],
      "text/plain": []
     },
     "metadata": {},
     "output_type": "display_data"
    },
    {
     "data": {
      "text/html": [
       "<pre style=\"white-space:pre;overflow-x:auto;line-height:normal;font-family:Menlo,'DejaVu Sans Mono',consolas,'Courier New',monospace\">\n",
       "</pre>\n"
      ],
      "text/plain": [
       "\n"
      ]
     },
     "metadata": {},
     "output_type": "display_data"
    },
    {
     "name": "stdout",
     "output_type": "stream",
     "text": [
      "Runtime: 4.18 minutes\n",
      "bkg_2018_Triboson\n"
     ]
    },
    {
     "data": {
      "application/vnd.jupyter.widget-view+json": {
       "model_id": "bcdc01fa43d74c7f967713c4769c00a5",
       "version_major": 2,
       "version_minor": 0
      },
      "text/plain": [
       "Output()"
      ]
     },
     "metadata": {},
     "output_type": "display_data"
    },
    {
     "data": {
      "text/html": [
       "<pre style=\"white-space:pre;overflow-x:auto;line-height:normal;font-family:Menlo,'DejaVu Sans Mono',consolas,'Courier New',monospace\"></pre>\n"
      ],
      "text/plain": []
     },
     "metadata": {},
     "output_type": "display_data"
    },
    {
     "data": {
      "text/html": [
       "<pre style=\"white-space:pre;overflow-x:auto;line-height:normal;font-family:Menlo,'DejaVu Sans Mono',consolas,'Courier New',monospace\">\n",
       "</pre>\n"
      ],
      "text/plain": [
       "\n"
      ]
     },
     "metadata": {},
     "output_type": "display_data"
    },
    {
     "data": {
      "application/vnd.jupyter.widget-view+json": {
       "model_id": "cea90cb2443c436384f81e4cb3ac4932",
       "version_major": 2,
       "version_minor": 0
      },
      "text/plain": [
       "Output()"
      ]
     },
     "metadata": {},
     "output_type": "display_data"
    },
    {
     "name": "stdout",
     "output_type": "stream",
     "text": [
      "BDT Pass: 1/26\n",
      "BDT Pass: 0/35\n",
      "BDT Pass: 0/13\n",
      "BDT Pass: 0/18\n"
     ]
    },
    {
     "data": {
      "text/html": [
       "<pre style=\"white-space:pre;overflow-x:auto;line-height:normal;font-family:Menlo,'DejaVu Sans Mono',consolas,'Courier New',monospace\"></pre>\n"
      ],
      "text/plain": []
     },
     "metadata": {},
     "output_type": "display_data"
    },
    {
     "data": {
      "text/html": [
       "<pre style=\"white-space:pre;overflow-x:auto;line-height:normal;font-family:Menlo,'DejaVu Sans Mono',consolas,'Courier New',monospace\">\n",
       "</pre>\n"
      ],
      "text/plain": [
       "\n"
      ]
     },
     "metadata": {},
     "output_type": "display_data"
    },
    {
     "name": "stdout",
     "output_type": "stream",
     "text": [
      "Runtime: 0.32 minutes\n",
      "bkg_2018_WJets\n"
     ]
    },
    {
     "data": {
      "application/vnd.jupyter.widget-view+json": {
       "model_id": "b009d25913804f68bc75a1a598257667",
       "version_major": 2,
       "version_minor": 0
      },
      "text/plain": [
       "Output()"
      ]
     },
     "metadata": {},
     "output_type": "display_data"
    },
    {
     "data": {
      "text/html": [
       "<pre style=\"white-space:pre;overflow-x:auto;line-height:normal;font-family:Menlo,'DejaVu Sans Mono',consolas,'Courier New',monospace\"></pre>\n"
      ],
      "text/plain": []
     },
     "metadata": {},
     "output_type": "display_data"
    },
    {
     "data": {
      "text/html": [
       "<pre style=\"white-space:pre;overflow-x:auto;line-height:normal;font-family:Menlo,'DejaVu Sans Mono',consolas,'Courier New',monospace\">\n",
       "</pre>\n"
      ],
      "text/plain": [
       "\n"
      ]
     },
     "metadata": {},
     "output_type": "display_data"
    },
    {
     "data": {
      "application/vnd.jupyter.widget-view+json": {
       "model_id": "5cc12e66732e4e87935a3e898ebf1dc9",
       "version_major": 2,
       "version_minor": 0
      },
      "text/plain": [
       "Output()"
      ]
     },
     "metadata": {},
     "output_type": "display_data"
    },
    {
     "name": "stdout",
     "output_type": "stream",
     "text": [
      "BDT Pass: 0/28\n",
      "BDT Pass: 2/583\n",
      "BDT Pass: 0/151\n",
      "BDT Pass: 3/487\n",
      "BDT Pass: 0/130\n",
      "BDT Pass: 1/255\n",
      "BDT Pass: 0/273\n",
      "BDT Pass: 0/270\n",
      "BDT Pass: 1/280\n",
      "BDT Pass: 1/271\n",
      "BDT Pass: 1/262\n",
      "BDT Pass: 0/100\n",
      "BDT Pass: 0/141\n",
      "BDT Pass: 0/137\n",
      "BDT Pass: 2/526\n",
      "BDT Pass: 3/1086\n",
      "BDT Pass: 3/389\n",
      "BDT Pass: 3/1160\n",
      "BDT Pass: 0/319BDT Pass: 0/365\n",
      "BDT Pass: 1/321BDT Pass: 0/367BDT Pass: 6/1369\n",
      "BDT Pass: 2/346\n",
      "BDT Pass: 11/2248\n",
      "BDT Pass: 3/860\n",
      "BDT Pass: 7/2786\n",
      "BDT Pass: 4/333\n",
      "BDT Pass: 6/2752\n",
      "BDT Pass: 0/348\n",
      "BDT Pass: 2/355\n",
      "BDT Pass: 2/359\n",
      "BDT Pass: 4/1480\n",
      "BDT Pass: 1/236\n",
      "BDT Pass: 7/2781\n",
      "BDT Pass: 0/190\n",
      "BDT Pass: 1/223\n",
      "BDT Pass: 2/333\n",
      "\n",
      "BDT Pass: 1/371BDT Pass: 2/687\n",
      "BDT Pass: 1/326\n"
     ]
    },
    {
     "data": {
      "text/html": [
       "<pre style=\"white-space:pre;overflow-x:auto;line-height:normal;font-family:Menlo,'DejaVu Sans Mono',consolas,'Courier New',monospace\"></pre>\n"
      ],
      "text/plain": []
     },
     "metadata": {},
     "output_type": "display_data"
    },
    {
     "data": {
      "text/html": [
       "<pre style=\"white-space:pre;overflow-x:auto;line-height:normal;font-family:Menlo,'DejaVu Sans Mono',consolas,'Courier New',monospace\">\n",
       "</pre>\n"
      ],
      "text/plain": [
       "\n"
      ]
     },
     "metadata": {},
     "output_type": "display_data"
    },
    {
     "name": "stdout",
     "output_type": "stream",
     "text": [
      "Runtime: 3.19 minutes\n",
      "bkg_2018_ZJets\n"
     ]
    },
    {
     "data": {
      "application/vnd.jupyter.widget-view+json": {
       "model_id": "6c1fd54446ca410aaa5500e99426977c",
       "version_major": 2,
       "version_minor": 0
      },
      "text/plain": [
       "Output()"
      ]
     },
     "metadata": {},
     "output_type": "display_data"
    },
    {
     "data": {
      "text/html": [
       "<pre style=\"white-space:pre;overflow-x:auto;line-height:normal;font-family:Menlo,'DejaVu Sans Mono',consolas,'Courier New',monospace\"></pre>\n"
      ],
      "text/plain": []
     },
     "metadata": {},
     "output_type": "display_data"
    },
    {
     "data": {
      "text/html": [
       "<pre style=\"white-space:pre;overflow-x:auto;line-height:normal;font-family:Menlo,'DejaVu Sans Mono',consolas,'Courier New',monospace\">\n",
       "</pre>\n"
      ],
      "text/plain": [
       "\n"
      ]
     },
     "metadata": {},
     "output_type": "display_data"
    },
    {
     "data": {
      "application/vnd.jupyter.widget-view+json": {
       "model_id": "95d7940d773d444a9e3da2bfaef7cd46",
       "version_major": 2,
       "version_minor": 0
      },
      "text/plain": [
       "Output()"
      ]
     },
     "metadata": {},
     "output_type": "display_data"
    },
    {
     "name": "stdout",
     "output_type": "stream",
     "text": [
      "BDT Pass: 1/42\n",
      "BDT Pass: 1/550\n",
      "BDT Pass: 2/522\n",
      "BDT Pass: 0/393\n",
      "\n",
      "BDT Pass: 1/391\n",
      "BDT Pass: 0/237\n",
      "BDT Pass: 3/2489\n",
      "BDT Pass: 7/3355\n",
      "BDT Pass: 3/5643\n",
      "BDT Pass: 8/5546\n",
      "BDT Pass: 0/7\n",
      "BDT Pass: 5/4407\n",
      "BDT Pass: 5/2605\n",
      "BDT Pass: 1/2630\n",
      "BDT Pass: 0/528\n",
      "BDT Pass: 2/2308\n",
      "BDT Pass: 0/1006\n",
      "BDT Pass: 3/2250\n",
      "BDT Pass: 7/3428\n",
      "BDT Pass: 7/2920\n",
      "BDT Pass: 3/3020\n"
     ]
    },
    {
     "data": {
      "text/html": [
       "<pre style=\"white-space:pre;overflow-x:auto;line-height:normal;font-family:Menlo,'DejaVu Sans Mono',consolas,'Courier New',monospace\"></pre>\n"
      ],
      "text/plain": []
     },
     "metadata": {},
     "output_type": "display_data"
    },
    {
     "data": {
      "text/html": [
       "<pre style=\"white-space:pre;overflow-x:auto;line-height:normal;font-family:Menlo,'DejaVu Sans Mono',consolas,'Courier New',monospace\">\n",
       "</pre>\n"
      ],
      "text/plain": [
       "\n"
      ]
     },
     "metadata": {},
     "output_type": "display_data"
    },
    {
     "name": "stdout",
     "output_type": "stream",
     "text": [
      "Runtime: 3.39 minutes\n"
     ]
    }
   ],
   "source": [
    "for bkg in bkg_configs:\n",
    "    process = bkg.split('/')[-1].split('.json')[0].split('skimmed_')[-1]\n",
    "    print(process)\n",
    "\n",
    "    if 'TTJetsDiLept' in bkg: # currently not available ntuples\n",
    "        continue\n",
    "    \n",
    "    test = Analyzer(bkg,histos_config,cuts_config) \n",
    "        \n",
    "    t1 = time.time()\n",
    "    out = test.process(execr='futures')\n",
    "    t2 = time.time()\n",
    "        \n",
    "    print(\"Runtime: {:.2f} minutes\".format((t2-t1)/60))\n",
    "    util.save(out,f\"{outdir}/{process}_SR_BDT_optv2_BestVertex.coffea\")\n",
    "    del out, test"
   ]
  },
  {
   "cell_type": "code",
   "execution_count": null,
   "id": "c6ff0d93-8d3e-4fa4-8297-d8bee6a34429",
   "metadata": {},
   "outputs": [],
   "source": []
  },
  {
   "cell_type": "code",
   "execution_count": null,
   "id": "73488761-2cc8-4a54-acb1-2ad6945abbdb",
   "metadata": {},
   "outputs": [],
   "source": []
  }
 ],
 "metadata": {
  "kernelspec": {
   "display_name": "Python 3 (ipykernel)",
   "language": "python",
   "name": "python3"
  },
  "language_info": {
   "codemirror_mode": {
    "name": "ipython",
    "version": 3
   },
   "file_extension": ".py",
   "mimetype": "text/x-python",
   "name": "python",
   "nbconvert_exporter": "python",
   "pygments_lexer": "ipython3",
   "version": "3.8.17"
  }
 },
 "nbformat": 4,
 "nbformat_minor": 5
}
