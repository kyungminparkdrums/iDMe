{
 "cells": [
  {
   "cell_type": "code",
   "execution_count": 1,
   "id": "e669ba8e-d8ae-45e9-bdac-9dabb1da3557",
   "metadata": {},
   "outputs": [],
   "source": [
    "%load_ext autoreload\n",
    "%autoreload 2\n",
    "import numpy as np\n",
    "import matplotlib.pyplot as plt\n",
    "import awkward as ak\n",
    "import sys\n",
    "sys.path.append(\"../../../analysisTools/\")\n",
    "from analysisTools import Analyzer\n",
    "from analysisTools import loadSchema\n",
    "import analysisTools as tools\n",
    "import analysisSubroutines as routines\n",
    "import importlib\n",
    "import coffea.util as util\n",
    "import time\n",
    "import json\n",
    "import os\n",
    "import glob"
   ]
  },
  {
   "cell_type": "code",
   "execution_count": 2,
   "id": "c59aff4f-6762-4e07-957a-349d22652fad",
   "metadata": {},
   "outputs": [],
   "source": [
    "outdir = \"./coffea/\"\n",
    "if not os.path.isdir(outdir):\n",
    "    os.mkdir(outdir)"
   ]
  },
  {
   "cell_type": "code",
   "execution_count": 3,
   "id": "73201266-7873-48cb-b6b9-ea70e7703e5b",
   "metadata": {},
   "outputs": [],
   "source": [
    "outdir = \"./coffea/skimmed/\"\n",
    "if not os.path.isdir(outdir):\n",
    "    os.mkdir(outdir)"
   ]
  },
  {
   "cell_type": "code",
   "execution_count": 4,
   "id": "c72681ac-a0f5-402a-8a80-d5f17505b69c",
   "metadata": {},
   "outputs": [],
   "source": [
    "cuts_config = \"./cut_configs/BDTv3.py\"\n",
    "histos_config = \"./histo_configs/displacement.py\""
   ]
  },
  {
   "cell_type": "markdown",
   "id": "d248ae59-1cd0-45e3-91a1-3462012c6a27",
   "metadata": {},
   "source": [
    "### Signal"
   ]
  },
  {
   "cell_type": "code",
   "execution_count": 5,
   "id": "e0ecc4e0-151c-408b-b400-381d1e1a973e",
   "metadata": {},
   "outputs": [],
   "source": [
    "sample_config = \"./sample_configs/skimmed_sig_v2_mA_3m1_2018_aEM.json\""
   ]
  },
  {
   "cell_type": "code",
   "execution_count": 6,
   "id": "02537ff8-2bb2-4752-bed0-a504affad525",
   "metadata": {
    "scrolled": true
   },
   "outputs": [
    {
     "data": {
      "application/vnd.jupyter.widget-view+json": {
       "model_id": "aaee082a87e4433bb91c8d39371af22c",
       "version_major": 2,
       "version_minor": 0
      },
      "text/plain": [
       "Output()"
      ]
     },
     "metadata": {},
     "output_type": "display_data"
    },
    {
     "data": {
      "text/html": [
       "<pre style=\"white-space:pre;overflow-x:auto;line-height:normal;font-family:Menlo,'DejaVu Sans Mono',consolas,'Courier New',monospace\"></pre>\n"
      ],
      "text/plain": []
     },
     "metadata": {},
     "output_type": "display_data"
    },
    {
     "data": {
      "text/html": [
       "<pre style=\"white-space:pre;overflow-x:auto;line-height:normal;font-family:Menlo,'DejaVu Sans Mono',consolas,'Courier New',monospace\">\n",
       "</pre>\n"
      ],
      "text/plain": [
       "\n"
      ]
     },
     "metadata": {},
     "output_type": "display_data"
    },
    {
     "data": {
      "application/vnd.jupyter.widget-view+json": {
       "model_id": "cb299b275bf9466fad171f4603b98b94",
       "version_major": 2,
       "version_minor": 0
      },
      "text/plain": [
       "Output()"
      ]
     },
     "metadata": {},
     "output_type": "display_data"
    },
    {
     "name": "stdout",
     "output_type": "stream",
     "text": [
      "BDT Pass: 810/879\n",
      "BDT Pass: 710/756\n",
      "BDT Pass: 2718/3010BDT Pass: 3306/4190\n",
      "\n",
      "BDT Pass: 375/399\n",
      "BDT Pass: 676/728\n",
      "BDT Pass: 2032/2212\n",
      "BDT Pass: 243/259\n",
      "BDT Pass: 3821/4698\n",
      "BDT Pass: 587/648\n",
      "BDT Pass: 966/1199\n",
      "BDT Pass: 805/854\n",
      "BDT Pass: 224/233\n",
      "BDT Pass: 1118/1327\n",
      "BDT Pass: 206/218\n",
      "BDT Pass: 645/700\n",
      "BDT Pass: 949/1141\n",
      "\n",
      "BDT Pass: 171/178\n",
      "BDT Pass: 763/912\n",
      "BDT Pass: 601/629\n",
      "BDT Pass: 15/15\n",
      "\n",
      "BDT Pass: 190/220\n",
      "BDT Pass: 49/58\n",
      "BDT Pass: 87/112\n",
      "BDT Pass: 157/193\n",
      "BDT Pass: 179/187\n",
      "BDT Pass: 76/81\n",
      "BDT Pass: 269/279\n",
      "BDT Pass: 305/319\n",
      "BDT Pass: 660/705\n",
      "BDT Pass: 216/226\n",
      "BDT Pass: 950/1140\n",
      "BDT Pass: 553/585\n",
      "BDT Pass: 682/752\n",
      "BDT Pass: 501/528\n",
      "BDT Pass: 291/297\n",
      "BDT Pass: 96/100\n",
      "BDT Pass: 627/717\n",
      "BDT Pass: 430/441\n",
      "BDT Pass: 723/769\n",
      "BDT Pass: 474/509\n",
      "BDT Pass: 187/197\n",
      "BDT Pass: 96/100\n",
      "\n",
      "BDT Pass: 504/597BDT Pass: 511/556\n",
      "BDT Pass: 372/386BDT Pass: 224/239\n",
      "\n",
      "\n",
      "BDT Pass: 46/51BDT Pass: 425/501BDT Pass: 83/88\n",
      "BDT Pass: 219/227BDT Pass: 367/405\n",
      "BDT Pass: 505/550\n",
      "BDT Pass: 1608/1794\n",
      "BDT Pass: 89/97\n",
      "BDT Pass: 222/257\n",
      "BDT Pass: 1856/2475\n",
      "BDT Pass: 327/391\n",
      "BDT Pass: 1089/1154\n",
      "BDT Pass: 3249/3558\n",
      "BDT Pass: 4815/6013\n"
     ]
    },
    {
     "data": {
      "text/html": [
       "<pre style=\"white-space:pre;overflow-x:auto;line-height:normal;font-family:Menlo,'DejaVu Sans Mono',consolas,'Courier New',monospace\"></pre>\n"
      ],
      "text/plain": []
     },
     "metadata": {},
     "output_type": "display_data"
    },
    {
     "data": {
      "text/html": [
       "<pre style=\"white-space:pre;overflow-x:auto;line-height:normal;font-family:Menlo,'DejaVu Sans Mono',consolas,'Courier New',monospace\">\n",
       "</pre>\n"
      ],
      "text/plain": [
       "\n"
      ]
     },
     "metadata": {},
     "output_type": "display_data"
    },
    {
     "name": "stdout",
     "output_type": "stream",
     "text": [
      "Runtime: 17.57 minutes\n"
     ]
    }
   ],
   "source": [
    "test = Analyzer(sample_config,histos_config,cuts_config, max_samples=-1) # run over all samples in the config\n",
    "\n",
    "t1 = time.time()\n",
    "out = test.process(execr='futures')\n",
    "t2 = time.time()\n",
    "\n",
    "print(\"Runtime: {:.2f} minutes\".format((t2-t1)/60))\n",
    "util.save(out,f\"{outdir}/signal_SR_BDTv3_TrueVertex.coffea\")\n",
    "\n",
    "del out, test"
   ]
  },
  {
   "cell_type": "code",
   "execution_count": null,
   "id": "f63b4fd9-f9ba-4609-bd17-03610de4aeb9",
   "metadata": {},
   "outputs": [],
   "source": []
  },
  {
   "cell_type": "code",
   "execution_count": 7,
   "id": "11d947c4-eabb-4a2a-9d84-59e273fce335",
   "metadata": {
    "scrolled": true
   },
   "outputs": [
    {
     "data": {
      "application/vnd.jupyter.widget-view+json": {
       "model_id": "523d6d9b701344549f0e66d9368b6783",
       "version_major": 2,
       "version_minor": 0
      },
      "text/plain": [
       "Output()"
      ]
     },
     "metadata": {},
     "output_type": "display_data"
    },
    {
     "name": "stdout",
     "output_type": "stream",
     "text": [
      "BDT Pass: 835/2173BDT Pass: 727/2261\n",
      "\n",
      "BDT Pass: 2789/4904\n",
      "BDT Pass: 3338/6023\n",
      "BDT Pass: 680/1132\n",
      "BDT Pass: 380/972\n",
      "BDT Pass: 2067/4163\n",
      "BDT Pass: 3858/7883\n",
      "BDT Pass: 600/1300\n",
      "BDT Pass: 251/782\n",
      "BDT Pass: 970/2053\n",
      "BDT Pass: 229/666\n",
      "BDT Pass: 828/1494\n",
      "BDT Pass: 1134/1963\n",
      "BDT Pass: 213/757\n",
      "BDT Pass: 168/600\n",
      "BDT Pass: 657/1370\n",
      "BDT Pass: 954/2005\n",
      "BDT Pass: 593/1364\n",
      "BDT Pass: 174/457\n",
      "BDT Pass: 609/1014\n",
      "BDT Pass: 781/1665\n",
      "BDT Pass: 885/1436\n",
      "BDT Pass: 16/147\n",
      "BDT Pass: 192/413\n",
      "BDT Pass: 83/254\n",
      "BDT Pass: 84/361\n",
      "BDT Pass: 52/666\n",
      "BDT Pass: 158/432\n",
      "BDT Pass: 185/590\n",
      "BDT Pass: 77/127\n",
      "BDT Pass: 274/494\n",
      "BDT Pass: 321/1244\n",
      "BDT Pass: 674/1542\n",
      "BDT Pass: 227/821\n",
      "BDT Pass: 958/2090\n",
      "BDT Pass: 563/1111\n",
      "BDT Pass: 688/1257\n",
      "BDT Pass: 296/1222\n",
      "BDT Pass: 513/1149\n",
      "BDT Pass: 640/1363\n",
      "BDT Pass: 100/394\n",
      "BDT Pass: 729/1282\n",
      "BDT Pass: 436/834\n",
      "BDT Pass: 202/1027\n",
      "BDT Pass: 480/1175\n",
      "BDT Pass: 519/1237\n",
      "BDT Pass: 103/436\n",
      "BDT Pass: 232/660\n",
      "BDT Pass: 86/576\n",
      "BDT Pass: 507/989\n",
      "BDT Pass: 379/810\n",
      "BDT Pass: 429/1023\n",
      "BDT Pass: 228/585\n",
      "BDT Pass: 370/796\n",
      "BDT Pass: 50/342\n",
      "BDT Pass: 523/1230\n",
      "BDT Pass: 102/776\n",
      "BDT Pass: 227/698\n",
      "BDT Pass: 1879/3554BDT Pass: 1638/2858\n",
      "\n",
      "BDT Pass: 337/866\n",
      "BDT Pass: 1115/3281\n",
      "BDT Pass: 3336/6669\n",
      "BDT Pass: 4848/9799\n"
     ]
    },
    {
     "data": {
      "text/html": [
       "<pre style=\"white-space:pre;overflow-x:auto;line-height:normal;font-family:Menlo,'DejaVu Sans Mono',consolas,'Courier New',monospace\"></pre>\n"
      ],
      "text/plain": []
     },
     "metadata": {},
     "output_type": "display_data"
    },
    {
     "data": {
      "text/html": [
       "<pre style=\"white-space:pre;overflow-x:auto;line-height:normal;font-family:Menlo,'DejaVu Sans Mono',consolas,'Courier New',monospace\">\n",
       "</pre>\n"
      ],
      "text/plain": [
       "\n"
      ]
     },
     "metadata": {},
     "output_type": "display_data"
    },
    {
     "name": "stdout",
     "output_type": "stream",
     "text": [
      "Runtime: 17.72 minutes\n"
     ]
    }
   ],
   "source": [
    "test = Analyzer(sample_config,histos_config,cuts_config, max_samples=-1) # run over all samples in the config\n",
    "\n",
    "t1 = time.time()\n",
    "out = test.process(execr='futures')\n",
    "t2 = time.time()\n",
    "\n",
    "print(\"Runtime: {:.2f} minutes\".format((t2-t1)/60))\n",
    "util.save(out,f\"{outdir}/signal_SR_BDTv3_BestVertex.coffea\")\n",
    "\n",
    "del out, test"
   ]
  },
  {
   "cell_type": "markdown",
   "id": "97b2ff87-c610-4e5a-9d3d-0255d980dbe3",
   "metadata": {},
   "source": [
    "### Background"
   ]
  },
  {
   "cell_type": "code",
   "execution_count": 8,
   "id": "c65bc29b-bfda-48ed-84d4-7ea8f8eded39",
   "metadata": {},
   "outputs": [
    {
     "name": "stdout",
     "output_type": "stream",
     "text": [
      "['../../../configs/sample_configs/skimmed_bkg_2018_DY.json', '../../../configs/sample_configs/skimmed_bkg_2018_Diboson.json', '../../../configs/sample_configs/skimmed_bkg_2018_QCD_TuneCP5_PSWeights.json', '../../../configs/sample_configs/skimmed_bkg_2018_TTJetsDiLept.json', '../../../configs/sample_configs/skimmed_bkg_2018_Top.json', '../../../configs/sample_configs/skimmed_bkg_2018_Triboson.json', '../../../configs/sample_configs/skimmed_bkg_2018_WJets.json', '../../../configs/sample_configs/skimmed_bkg_2018_ZJets.json']\n"
     ]
    }
   ],
   "source": [
    "bkg_configs = glob.glob(\"../../../configs/sample_configs/skimmed_bkg*.json\")\n",
    "\n",
    "print(bkg_configs)"
   ]
  },
  {
   "cell_type": "code",
   "execution_count": 9,
   "id": "f7af452c-6938-4868-8307-bd0f6b2e330d",
   "metadata": {
    "scrolled": true
   },
   "outputs": [
    {
     "name": "stdout",
     "output_type": "stream",
     "text": [
      "bkg_2018_DY\n"
     ]
    },
    {
     "data": {
      "application/vnd.jupyter.widget-view+json": {
       "model_id": "b9fe3dba222c492591bc8a75eeebd933",
       "version_major": 2,
       "version_minor": 0
      },
      "text/plain": [
       "Output()"
      ]
     },
     "metadata": {},
     "output_type": "display_data"
    },
    {
     "data": {
      "text/html": [
       "<pre style=\"white-space:pre;overflow-x:auto;line-height:normal;font-family:Menlo,'DejaVu Sans Mono',consolas,'Courier New',monospace\"></pre>\n"
      ],
      "text/plain": []
     },
     "metadata": {},
     "output_type": "display_data"
    },
    {
     "data": {
      "text/html": [
       "<pre style=\"white-space:pre;overflow-x:auto;line-height:normal;font-family:Menlo,'DejaVu Sans Mono',consolas,'Courier New',monospace\">\n",
       "</pre>\n"
      ],
      "text/plain": [
       "\n"
      ]
     },
     "metadata": {},
     "output_type": "display_data"
    },
    {
     "data": {
      "application/vnd.jupyter.widget-view+json": {
       "model_id": "140ceff4c234453c9af2abbee762b5de",
       "version_major": 2,
       "version_minor": 0
      },
      "text/plain": [
       "Output()"
      ]
     },
     "metadata": {},
     "output_type": "display_data"
    },
    {
     "name": "stdout",
     "output_type": "stream",
     "text": [
      "BDT Pass: 0/2\n",
      "BDT Pass: 0/1\n",
      "BDT Pass: 0/1\n",
      "BDT Pass: 0/1\n",
      "BDT Pass: 0/2\n",
      "BDT Pass: 0/2\n"
     ]
    },
    {
     "data": {
      "text/html": [
       "<pre style=\"white-space:pre;overflow-x:auto;line-height:normal;font-family:Menlo,'DejaVu Sans Mono',consolas,'Courier New',monospace\"></pre>\n"
      ],
      "text/plain": []
     },
     "metadata": {},
     "output_type": "display_data"
    },
    {
     "data": {
      "text/html": [
       "<pre style=\"white-space:pre;overflow-x:auto;line-height:normal;font-family:Menlo,'DejaVu Sans Mono',consolas,'Courier New',monospace\">\n",
       "</pre>\n"
      ],
      "text/plain": [
       "\n"
      ]
     },
     "metadata": {},
     "output_type": "display_data"
    },
    {
     "name": "stdout",
     "output_type": "stream",
     "text": [
      "Runtime: 0.94 minutes\n",
      "bkg_2018_Diboson\n"
     ]
    },
    {
     "data": {
      "application/vnd.jupyter.widget-view+json": {
       "model_id": "fc6cbf8804344f0888946c5f7a8c794f",
       "version_major": 2,
       "version_minor": 0
      },
      "text/plain": [
       "Output()"
      ]
     },
     "metadata": {},
     "output_type": "display_data"
    },
    {
     "data": {
      "text/html": [
       "<pre style=\"white-space:pre;overflow-x:auto;line-height:normal;font-family:Menlo,'DejaVu Sans Mono',consolas,'Courier New',monospace\"></pre>\n"
      ],
      "text/plain": []
     },
     "metadata": {},
     "output_type": "display_data"
    },
    {
     "data": {
      "text/html": [
       "<pre style=\"white-space:pre;overflow-x:auto;line-height:normal;font-family:Menlo,'DejaVu Sans Mono',consolas,'Courier New',monospace\">\n",
       "</pre>\n"
      ],
      "text/plain": [
       "\n"
      ]
     },
     "metadata": {},
     "output_type": "display_data"
    },
    {
     "data": {
      "application/vnd.jupyter.widget-view+json": {
       "model_id": "79c47391144c41c692614ccc856edc22",
       "version_major": 2,
       "version_minor": 0
      },
      "text/plain": [
       "Output()"
      ]
     },
     "metadata": {},
     "output_type": "display_data"
    },
    {
     "name": "stdout",
     "output_type": "stream",
     "text": [
      "BDT Pass: 1/91\n",
      "BDT Pass: 0/91\n",
      "BDT Pass: 0/90\n",
      "BDT Pass: 0/146\n",
      "BDT Pass: 0/29\n",
      "BDT Pass: 0/112\n",
      "BDT Pass: 1/108\n",
      "BDT Pass: 0/100\n"
     ]
    },
    {
     "data": {
      "text/html": [
       "<pre style=\"white-space:pre;overflow-x:auto;line-height:normal;font-family:Menlo,'DejaVu Sans Mono',consolas,'Courier New',monospace\"></pre>\n"
      ],
      "text/plain": []
     },
     "metadata": {},
     "output_type": "display_data"
    },
    {
     "data": {
      "text/html": [
       "<pre style=\"white-space:pre;overflow-x:auto;line-height:normal;font-family:Menlo,'DejaVu Sans Mono',consolas,'Courier New',monospace\">\n",
       "</pre>\n"
      ],
      "text/plain": [
       "\n"
      ]
     },
     "metadata": {},
     "output_type": "display_data"
    },
    {
     "name": "stdout",
     "output_type": "stream",
     "text": [
      "Runtime: 0.64 minutes\n",
      "bkg_2018_QCD_TuneCP5_PSWeights\n"
     ]
    },
    {
     "data": {
      "application/vnd.jupyter.widget-view+json": {
       "model_id": "32b89a16eea744929a669298a6e2db33",
       "version_major": 2,
       "version_minor": 0
      },
      "text/plain": [
       "Output()"
      ]
     },
     "metadata": {},
     "output_type": "display_data"
    },
    {
     "data": {
      "text/html": [
       "<pre style=\"white-space:pre;overflow-x:auto;line-height:normal;font-family:Menlo,'DejaVu Sans Mono',consolas,'Courier New',monospace\"></pre>\n"
      ],
      "text/plain": []
     },
     "metadata": {},
     "output_type": "display_data"
    },
    {
     "data": {
      "text/html": [
       "<pre style=\"white-space:pre;overflow-x:auto;line-height:normal;font-family:Menlo,'DejaVu Sans Mono',consolas,'Courier New',monospace\">\n",
       "</pre>\n"
      ],
      "text/plain": [
       "\n"
      ]
     },
     "metadata": {},
     "output_type": "display_data"
    },
    {
     "data": {
      "application/vnd.jupyter.widget-view+json": {
       "model_id": "645db9b97e784e5fabe7e42835d972fd",
       "version_major": 2,
       "version_minor": 0
      },
      "text/plain": [
       "Output()"
      ]
     },
     "metadata": {},
     "output_type": "display_data"
    },
    {
     "name": "stdout",
     "output_type": "stream",
     "text": [
      "BDT Pass: 0/1\n",
      "BDT Pass: 0/1\n",
      "BDT Pass: 0/1\n"
     ]
    },
    {
     "data": {
      "text/html": [
       "<pre style=\"white-space:pre;overflow-x:auto;line-height:normal;font-family:Menlo,'DejaVu Sans Mono',consolas,'Courier New',monospace\"></pre>\n"
      ],
      "text/plain": []
     },
     "metadata": {},
     "output_type": "display_data"
    },
    {
     "data": {
      "text/html": [
       "<pre style=\"white-space:pre;overflow-x:auto;line-height:normal;font-family:Menlo,'DejaVu Sans Mono',consolas,'Courier New',monospace\">\n",
       "</pre>\n"
      ],
      "text/plain": [
       "\n"
      ]
     },
     "metadata": {},
     "output_type": "display_data"
    },
    {
     "name": "stdout",
     "output_type": "stream",
     "text": [
      "Runtime: 3.00 minutes\n",
      "bkg_2018_TTJetsDiLept\n",
      "bkg_2018_Top\n"
     ]
    },
    {
     "data": {
      "application/vnd.jupyter.widget-view+json": {
       "model_id": "7337925987ad41449432892991a98e3e",
       "version_major": 2,
       "version_minor": 0
      },
      "text/plain": [
       "Output()"
      ]
     },
     "metadata": {},
     "output_type": "display_data"
    },
    {
     "data": {
      "text/html": [
       "<pre style=\"white-space:pre;overflow-x:auto;line-height:normal;font-family:Menlo,'DejaVu Sans Mono',consolas,'Courier New',monospace\"></pre>\n"
      ],
      "text/plain": []
     },
     "metadata": {},
     "output_type": "display_data"
    },
    {
     "data": {
      "text/html": [
       "<pre style=\"white-space:pre;overflow-x:auto;line-height:normal;font-family:Menlo,'DejaVu Sans Mono',consolas,'Courier New',monospace\">\n",
       "</pre>\n"
      ],
      "text/plain": [
       "\n"
      ]
     },
     "metadata": {},
     "output_type": "display_data"
    },
    {
     "data": {
      "application/vnd.jupyter.widget-view+json": {
       "model_id": "1f27d99ca71241dd8290a02a32207739",
       "version_major": 2,
       "version_minor": 0
      },
      "text/plain": [
       "Output()"
      ]
     },
     "metadata": {},
     "output_type": "display_data"
    },
    {
     "name": "stdout",
     "output_type": "stream",
     "text": [
      "BDT Pass: 0/12\n",
      "BDT Pass: 0/24\n",
      "BDT Pass: 0/17\n",
      "BDT Pass: 1/22\n",
      "BDT Pass: 0/15\n",
      "BDT Pass: 1/9\n",
      "BDT Pass: 0/22\n",
      "BDT Pass: 0/9\n",
      "BDT Pass: 0/6\n",
      "BDT Pass: 0/6\n",
      "BDT Pass: 0/3\n",
      "BDT Pass: 0/29\n",
      "BDT Pass: 0/23\n",
      "BDT Pass: 0/29\n",
      "BDT Pass: 0/26\n",
      "BDT Pass: 0/18\n",
      "BDT Pass: 0/6\n",
      "BDT Pass: 0/20\n",
      "BDT Pass: 0/7\n",
      "BDT Pass: 0/28\n",
      "BDT Pass: 0/30\n",
      "BDT Pass: 0/34\n",
      "BDT Pass: 0/28\n",
      "BDT Pass: 0/23\n",
      "BDT Pass: 1/31BDT Pass: 0/25\n",
      "BDT Pass: 0/17\n",
      "BDT Pass: 0/7\n",
      "BDT Pass: 0/24\n",
      "BDT Pass: 0/10\n",
      "BDT Pass: 0/13\n",
      "BDT Pass: 0/13\n",
      "BDT Pass: 0/17\n",
      "BDT Pass: 0/53\n",
      "BDT Pass: 1/52BDT Pass: 0/42\n",
      "BDT Pass: 0/56\n",
      "BDT Pass: 0/14\n",
      "BDT Pass: 0/7\n",
      "BDT Pass: 0/5BDT Pass: 0/20\n",
      "BDT Pass: 0/4\n",
      "BDT Pass: 0/6\n",
      "BDT Pass: 0/40\n",
      "BDT Pass: 0/47\n",
      "BDT Pass: 0/43\n",
      "BDT Pass: 0/10\n",
      "BDT Pass: 0/32\n",
      "BDT Pass: 0/6\n",
      "BDT Pass: 0/7\n",
      "BDT Pass: 0/9BDT Pass: 1/8\n",
      "BDT Pass: 2/24\n",
      "BDT Pass: 0/51\n",
      "BDT Pass: 0/31\n",
      "BDT Pass: 0/39\n",
      "BDT Pass: 0/49\n",
      "BDT Pass: 0/23\n",
      "BDT Pass: 0/6\n",
      "BDT Pass: 0/3\n",
      "BDT Pass: 0/9\n",
      "BDT Pass: 0/5\n",
      "BDT Pass: 0/11\n",
      "BDT Pass: 0/8\n",
      "BDT Pass: 0/8\n",
      "BDT Pass: 0/42\n",
      "BDT Pass: 0/35\n",
      "BDT Pass: 0/40\n",
      "BDT Pass: 0/35\n",
      "BDT Pass: 0/8\n",
      "BDT Pass: 0/10\n",
      "BDT Pass: 0/22\n",
      "BDT Pass: 0/8\n",
      "BDT Pass: 0/8\n",
      "BDT Pass: 0/5\n",
      "BDT Pass: 0/26\n",
      "BDT Pass: 0/41\n",
      "BDT Pass: 0/30\n",
      "BDT Pass: 0/37\n",
      "BDT Pass: 0/20\n",
      "BDT Pass: 0/12\n",
      "BDT Pass: 0/10\n",
      "BDT Pass: 0/5\n",
      "BDT Pass: 0/11\n",
      "BDT Pass: 0/10\n",
      "BDT Pass: 0/7\n",
      "BDT Pass: 0/40\n",
      "BDT Pass: 0/7\n",
      "BDT Pass: 0/40\n",
      "BDT Pass: 0/33\n",
      "BDT Pass: 0/18\n",
      "BDT Pass: 0/23\n",
      "BDT Pass: 0/50\n",
      "BDT Pass: 0/12\n",
      "BDT Pass: 0/15\n",
      "BDT Pass: 0/7\n",
      "BDT Pass: 0/8\n"
     ]
    },
    {
     "data": {
      "text/html": [
       "<pre style=\"white-space:pre;overflow-x:auto;line-height:normal;font-family:Menlo,'DejaVu Sans Mono',consolas,'Courier New',monospace\"></pre>\n"
      ],
      "text/plain": []
     },
     "metadata": {},
     "output_type": "display_data"
    },
    {
     "data": {
      "text/html": [
       "<pre style=\"white-space:pre;overflow-x:auto;line-height:normal;font-family:Menlo,'DejaVu Sans Mono',consolas,'Courier New',monospace\">\n",
       "</pre>\n"
      ],
      "text/plain": [
       "\n"
      ]
     },
     "metadata": {},
     "output_type": "display_data"
    },
    {
     "name": "stdout",
     "output_type": "stream",
     "text": [
      "Runtime: 4.25 minutes\n",
      "bkg_2018_Triboson\n"
     ]
    },
    {
     "data": {
      "application/vnd.jupyter.widget-view+json": {
       "model_id": "ca60ebbeb6fd433e87988a4a0f917523",
       "version_major": 2,
       "version_minor": 0
      },
      "text/plain": [
       "Output()"
      ]
     },
     "metadata": {},
     "output_type": "display_data"
    },
    {
     "data": {
      "text/html": [
       "<pre style=\"white-space:pre;overflow-x:auto;line-height:normal;font-family:Menlo,'DejaVu Sans Mono',consolas,'Courier New',monospace\"></pre>\n"
      ],
      "text/plain": []
     },
     "metadata": {},
     "output_type": "display_data"
    },
    {
     "data": {
      "text/html": [
       "<pre style=\"white-space:pre;overflow-x:auto;line-height:normal;font-family:Menlo,'DejaVu Sans Mono',consolas,'Courier New',monospace\">\n",
       "</pre>\n"
      ],
      "text/plain": [
       "\n"
      ]
     },
     "metadata": {},
     "output_type": "display_data"
    },
    {
     "data": {
      "application/vnd.jupyter.widget-view+json": {
       "model_id": "cf5a331ea3a44493939b95ed8acf67ae",
       "version_major": 2,
       "version_minor": 0
      },
      "text/plain": [
       "Output()"
      ]
     },
     "metadata": {},
     "output_type": "display_data"
    },
    {
     "name": "stdout",
     "output_type": "stream",
     "text": [
      "BDT Pass: 0/35\n",
      "BDT Pass: 0/13BDT Pass: 0/26\n",
      "\n",
      "BDT Pass: 0/18\n"
     ]
    },
    {
     "data": {
      "text/html": [
       "<pre style=\"white-space:pre;overflow-x:auto;line-height:normal;font-family:Menlo,'DejaVu Sans Mono',consolas,'Courier New',monospace\"></pre>\n"
      ],
      "text/plain": []
     },
     "metadata": {},
     "output_type": "display_data"
    },
    {
     "data": {
      "text/html": [
       "<pre style=\"white-space:pre;overflow-x:auto;line-height:normal;font-family:Menlo,'DejaVu Sans Mono',consolas,'Courier New',monospace\">\n",
       "</pre>\n"
      ],
      "text/plain": [
       "\n"
      ]
     },
     "metadata": {},
     "output_type": "display_data"
    },
    {
     "name": "stdout",
     "output_type": "stream",
     "text": [
      "Runtime: 0.33 minutes\n",
      "bkg_2018_WJets\n"
     ]
    },
    {
     "data": {
      "application/vnd.jupyter.widget-view+json": {
       "model_id": "2ab63d3f8d254475b890233ed6a4c42b",
       "version_major": 2,
       "version_minor": 0
      },
      "text/plain": [
       "Output()"
      ]
     },
     "metadata": {},
     "output_type": "display_data"
    },
    {
     "data": {
      "text/html": [
       "<pre style=\"white-space:pre;overflow-x:auto;line-height:normal;font-family:Menlo,'DejaVu Sans Mono',consolas,'Courier New',monospace\"></pre>\n"
      ],
      "text/plain": []
     },
     "metadata": {},
     "output_type": "display_data"
    },
    {
     "data": {
      "text/html": [
       "<pre style=\"white-space:pre;overflow-x:auto;line-height:normal;font-family:Menlo,'DejaVu Sans Mono',consolas,'Courier New',monospace\">\n",
       "</pre>\n"
      ],
      "text/plain": [
       "\n"
      ]
     },
     "metadata": {},
     "output_type": "display_data"
    },
    {
     "data": {
      "application/vnd.jupyter.widget-view+json": {
       "model_id": "4f0b008085814703a427971d18a433a0",
       "version_major": 2,
       "version_minor": 0
      },
      "text/plain": [
       "Output()"
      ]
     },
     "metadata": {},
     "output_type": "display_data"
    },
    {
     "name": "stdout",
     "output_type": "stream",
     "text": [
      "BDT Pass: 0/28\n",
      "BDT Pass: 0/487\n",
      "BDT Pass: 0/151\n",
      "BDT Pass: 2/583\n",
      "BDT Pass: 1/255\n",
      "BDT Pass: 1/270\n",
      "BDT Pass: 0/130\n",
      "BDT Pass: 0/273\n",
      "BDT Pass: 1/280\n",
      "BDT Pass: 1/271\n",
      "BDT Pass: 0/100\n",
      "BDT Pass: 0/262\n",
      "BDT Pass: 1/137\n",
      "BDT Pass: 0/141\n",
      "BDT Pass: 2/526\n",
      "BDT Pass: 3/1086\n",
      "BDT Pass: 0/389\n",
      "BDT Pass: 1/1160\n",
      "BDT Pass: 0/319\n",
      "BDT Pass: 0/365\n",
      "BDT Pass: 0/367\n",
      "BDT Pass: 2/321\n",
      "BDT Pass: 1/346\n",
      "BDT Pass: 6/1369\n",
      "BDT Pass: 13/2248\n",
      "BDT Pass: 1/860\n",
      "BDT Pass: 6/2786\n",
      "BDT Pass: 2/333\n",
      "BDT Pass: 4/2752\n",
      "BDT Pass: 3/355\n",
      "BDT Pass: 0/348\n",
      "BDT Pass: 0/359\n",
      "BDT Pass: 2/1480\n",
      "BDT Pass: 0/236\n",
      "BDT Pass: 0/190\n",
      "BDT Pass: 8/2781\n",
      "BDT Pass: 7/2806\n",
      "BDT Pass: 1/223\n",
      "BDT Pass: 2/687\n",
      "BDT Pass: 1/371\n",
      "BDT Pass: 2/333\n",
      "BDT Pass: 0/326\n"
     ]
    },
    {
     "data": {
      "text/html": [
       "<pre style=\"white-space:pre;overflow-x:auto;line-height:normal;font-family:Menlo,'DejaVu Sans Mono',consolas,'Courier New',monospace\"></pre>\n"
      ],
      "text/plain": []
     },
     "metadata": {},
     "output_type": "display_data"
    },
    {
     "data": {
      "text/html": [
       "<pre style=\"white-space:pre;overflow-x:auto;line-height:normal;font-family:Menlo,'DejaVu Sans Mono',consolas,'Courier New',monospace\">\n",
       "</pre>\n"
      ],
      "text/plain": [
       "\n"
      ]
     },
     "metadata": {},
     "output_type": "display_data"
    },
    {
     "name": "stdout",
     "output_type": "stream",
     "text": [
      "Runtime: 3.26 minutes\n",
      "bkg_2018_ZJets\n"
     ]
    },
    {
     "data": {
      "application/vnd.jupyter.widget-view+json": {
       "model_id": "c5c00c2491e04206ad725e60a9e2e5da",
       "version_major": 2,
       "version_minor": 0
      },
      "text/plain": [
       "Output()"
      ]
     },
     "metadata": {},
     "output_type": "display_data"
    },
    {
     "data": {
      "text/html": [
       "<pre style=\"white-space:pre;overflow-x:auto;line-height:normal;font-family:Menlo,'DejaVu Sans Mono',consolas,'Courier New',monospace\"></pre>\n"
      ],
      "text/plain": []
     },
     "metadata": {},
     "output_type": "display_data"
    },
    {
     "data": {
      "text/html": [
       "<pre style=\"white-space:pre;overflow-x:auto;line-height:normal;font-family:Menlo,'DejaVu Sans Mono',consolas,'Courier New',monospace\">\n",
       "</pre>\n"
      ],
      "text/plain": [
       "\n"
      ]
     },
     "metadata": {},
     "output_type": "display_data"
    },
    {
     "data": {
      "application/vnd.jupyter.widget-view+json": {
       "model_id": "efb6144d77b84daea69d464c9041e4ed",
       "version_major": 2,
       "version_minor": 0
      },
      "text/plain": [
       "Output()"
      ]
     },
     "metadata": {},
     "output_type": "display_data"
    },
    {
     "name": "stdout",
     "output_type": "stream",
     "text": [
      "BDT Pass: 0/42\n",
      "BDT Pass: 0/550\n",
      "BDT Pass: 1/522\n",
      "BDT Pass: 0/203\n",
      "BDT Pass: 0/393\n",
      "BDT Pass: 0/391\n",
      "BDT Pass: 0/237\n",
      "BDT Pass: 2/2489\n",
      "BDT Pass: 3/3355\n",
      "BDT Pass: 4/5546\n",
      "BDT Pass: 1/5643\n",
      "BDT Pass: 0/7\n",
      "BDT Pass: 3/4407\n",
      "BDT Pass: 1/2605\n",
      "BDT Pass: 0/528\n",
      "BDT Pass: 3/2630\n",
      "BDT Pass: 2/2308\n",
      "BDT Pass: 0/1006\n",
      "BDT Pass: 1/2250\n",
      "BDT Pass: 3/3428\n",
      "BDT Pass: 4/2920\n",
      "BDT Pass: 3/3020\n"
     ]
    },
    {
     "data": {
      "text/html": [
       "<pre style=\"white-space:pre;overflow-x:auto;line-height:normal;font-family:Menlo,'DejaVu Sans Mono',consolas,'Courier New',monospace\"></pre>\n"
      ],
      "text/plain": []
     },
     "metadata": {},
     "output_type": "display_data"
    },
    {
     "data": {
      "text/html": [
       "<pre style=\"white-space:pre;overflow-x:auto;line-height:normal;font-family:Menlo,'DejaVu Sans Mono',consolas,'Courier New',monospace\">\n",
       "</pre>\n"
      ],
      "text/plain": [
       "\n"
      ]
     },
     "metadata": {},
     "output_type": "display_data"
    },
    {
     "name": "stdout",
     "output_type": "stream",
     "text": [
      "Runtime: 2.86 minutes\n"
     ]
    }
   ],
   "source": [
    "for bkg in bkg_configs:\n",
    "    process = bkg.split('/')[-1].split('.json')[0].split('skimmed_')[-1]\n",
    "    print(process)\n",
    "\n",
    "    if 'TTJetsDiLept' in bkg: # currently not available ntuples\n",
    "        continue\n",
    "    \n",
    "    test = Analyzer(bkg,histos_config,cuts_config) \n",
    "        \n",
    "    t1 = time.time()\n",
    "    out = test.process(execr='futures')\n",
    "    t2 = time.time()\n",
    "        \n",
    "    print(\"Runtime: {:.2f} minutes\".format((t2-t1)/60))\n",
    "    util.save(out,f\"{outdir}/{process}_SR_BDTv3_BestVertex.coffea\")\n",
    "    del out, test"
   ]
  },
  {
   "cell_type": "code",
   "execution_count": null,
   "id": "c6ff0d93-8d3e-4fa4-8297-d8bee6a34429",
   "metadata": {},
   "outputs": [],
   "source": []
  }
 ],
 "metadata": {
  "kernelspec": {
   "display_name": "Python 3 (ipykernel)",
   "language": "python",
   "name": "python3"
  },
  "language_info": {
   "codemirror_mode": {
    "name": "ipython",
    "version": 3
   },
   "file_extension": ".py",
   "mimetype": "text/x-python",
   "name": "python",
   "nbconvert_exporter": "python",
   "pygments_lexer": "ipython3",
   "version": "3.8.17"
  }
 },
 "nbformat": 4,
 "nbformat_minor": 5
}
