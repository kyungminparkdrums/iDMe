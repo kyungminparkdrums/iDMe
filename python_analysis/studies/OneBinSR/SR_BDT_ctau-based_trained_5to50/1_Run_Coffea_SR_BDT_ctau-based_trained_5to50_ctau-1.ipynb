{
 "cells": [
  {
   "cell_type": "code",
   "execution_count": 1,
   "id": "e669ba8e-d8ae-45e9-bdac-9dabb1da3557",
   "metadata": {},
   "outputs": [],
   "source": [
    "%load_ext autoreload\n",
    "%autoreload 2\n",
    "import numpy as np\n",
    "import matplotlib.pyplot as plt\n",
    "import awkward as ak\n",
    "import sys\n",
    "sys.path.append(\"../../../analysisTools/\")\n",
    "from analysisTools import Analyzer\n",
    "from analysisTools import loadSchema\n",
    "import analysisTools as tools\n",
    "import analysisSubroutines as routines\n",
    "import importlib\n",
    "import coffea.util as util\n",
    "import time\n",
    "import json\n",
    "import os\n",
    "import glob"
   ]
  },
  {
   "cell_type": "code",
   "execution_count": 2,
   "id": "c59aff4f-6762-4e07-957a-349d22652fad",
   "metadata": {},
   "outputs": [],
   "source": [
    "outdir = \"./coffea/\"\n",
    "if not os.path.isdir(outdir):\n",
    "    os.mkdir(outdir)"
   ]
  },
  {
   "cell_type": "code",
   "execution_count": 3,
   "id": "73201266-7873-48cb-b6b9-ea70e7703e5b",
   "metadata": {},
   "outputs": [],
   "source": [
    "outdir = \"./coffea/skimmed/\"\n",
    "if not os.path.isdir(outdir):\n",
    "    os.mkdir(outdir)"
   ]
  },
  {
   "cell_type": "code",
   "execution_count": 4,
   "id": "64f93d49-ba1c-44ef-9226-65095728a3f5",
   "metadata": {},
   "outputs": [],
   "source": [
    "ct = 1"
   ]
  },
  {
   "cell_type": "code",
   "execution_count": 5,
   "id": "c72681ac-a0f5-402a-8a80-d5f17505b69c",
   "metadata": {},
   "outputs": [],
   "source": [
    "cuts_config = f\"./cut_configs/BDTv2_ctau-{ct}.py\"\n",
    "histos_config = \"./histo_configs/displacement.py\""
   ]
  },
  {
   "cell_type": "markdown",
   "id": "d248ae59-1cd0-45e3-91a1-3462012c6a27",
   "metadata": {},
   "source": [
    "### Signal"
   ]
  },
  {
   "cell_type": "code",
   "execution_count": 6,
   "id": "e0ecc4e0-151c-408b-b400-381d1e1a973e",
   "metadata": {},
   "outputs": [],
   "source": [
    "sample_config = f\"./sample_configs/skimmed_sig_v2_mA_3m1_2018_aEM_ctau-{ct}.json\""
   ]
  },
  {
   "cell_type": "code",
   "execution_count": 7,
   "id": "02537ff8-2bb2-4752-bed0-a504affad525",
   "metadata": {},
   "outputs": [
    {
     "data": {
      "application/vnd.jupyter.widget-view+json": {
       "model_id": "284e3ea7ba3b4a05b4ec9a0e7ee8c9ef",
       "version_major": 2,
       "version_minor": 0
      },
      "text/plain": [
       "Output()"
      ]
     },
     "metadata": {},
     "output_type": "display_data"
    },
    {
     "data": {
      "text/html": [
       "<pre style=\"white-space:pre;overflow-x:auto;line-height:normal;font-family:Menlo,'DejaVu Sans Mono',consolas,'Courier New',monospace\"></pre>\n"
      ],
      "text/plain": []
     },
     "metadata": {},
     "output_type": "display_data"
    },
    {
     "data": {
      "text/html": [
       "<pre style=\"white-space:pre;overflow-x:auto;line-height:normal;font-family:Menlo,'DejaVu Sans Mono',consolas,'Courier New',monospace\">\n",
       "</pre>\n"
      ],
      "text/plain": [
       "\n"
      ]
     },
     "metadata": {},
     "output_type": "display_data"
    },
    {
     "data": {
      "application/vnd.jupyter.widget-view+json": {
       "model_id": "d47e35bc967a498ab05fe659b8aec163",
       "version_major": 2,
       "version_minor": 0
      },
      "text/plain": [
       "Output()"
      ]
     },
     "metadata": {},
     "output_type": "display_data"
    },
    {
     "name": "stdout",
     "output_type": "stream",
     "text": [
      "Pass: 769/2053\n",
      "Pass: 644/1963\n",
      "Pass: 1297/6023\n",
      "Pass: 2722/7883\n",
      "Pass: 807/2005\n",
      "Pass: 696/1665\n",
      "Pass: 423/1436\n",
      "Pass: 173/432\n",
      "Pass: 71/127\n",
      "Pass: 205/413\n",
      "Pass: 971/2090\n",
      "Pass: 648/1257\n",
      "Pass: 732/1282\n",
      "Pass: 657/1363\n",
      "Pass: 558/1237\n",
      "Pass: 526/989\n",
      "Pass: 478/1023\n",
      "Pass: 391/796\n",
      "Pass: 366/866\n",
      "Pass: 645/3554\n",
      "Pass: 3148/9799\n"
     ]
    },
    {
     "data": {
      "text/html": [
       "<pre style=\"white-space:pre;overflow-x:auto;line-height:normal;font-family:Menlo,'DejaVu Sans Mono',consolas,'Courier New',monospace\"></pre>\n"
      ],
      "text/plain": []
     },
     "metadata": {},
     "output_type": "display_data"
    },
    {
     "data": {
      "text/html": [
       "<pre style=\"white-space:pre;overflow-x:auto;line-height:normal;font-family:Menlo,'DejaVu Sans Mono',consolas,'Courier New',monospace\">\n",
       "</pre>\n"
      ],
      "text/plain": [
       "\n"
      ]
     },
     "metadata": {},
     "output_type": "display_data"
    },
    {
     "name": "stdout",
     "output_type": "stream",
     "text": [
      "Runtime: 2.16 minutes\n"
     ]
    }
   ],
   "source": [
    "test = Analyzer(sample_config,histos_config,cuts_config, max_samples=-1) # run over all samples in the config\n",
    "\n",
    "t1 = time.time()\n",
    "out = test.process(execr='futures')\n",
    "t2 = time.time()\n",
    "\n",
    "print(\"Runtime: {:.2f} minutes\".format((t2-t1)/60))\n",
    "util.save(out,f\"{outdir}/signal_SR_BDT-based_ctau-{ct}_trained_5to50.coffea\")\n",
    "\n",
    "del out, test"
   ]
  },
  {
   "cell_type": "markdown",
   "id": "97b2ff87-c610-4e5a-9d3d-0255d980dbe3",
   "metadata": {},
   "source": [
    "### Background"
   ]
  },
  {
   "cell_type": "code",
   "execution_count": 8,
   "id": "c65bc29b-bfda-48ed-84d4-7ea8f8eded39",
   "metadata": {},
   "outputs": [
    {
     "name": "stdout",
     "output_type": "stream",
     "text": [
      "['../../../configs/sample_configs/skimmed_bkg_2018_DY.json', '../../../configs/sample_configs/skimmed_bkg_2018_Diboson.json', '../../../configs/sample_configs/skimmed_bkg_2018_QCD_TuneCP5_PSWeights.json', '../../../configs/sample_configs/skimmed_bkg_2018_TTJetsDiLept.json', '../../../configs/sample_configs/skimmed_bkg_2018_Top.json', '../../../configs/sample_configs/skimmed_bkg_2018_Triboson.json', '../../../configs/sample_configs/skimmed_bkg_2018_WJets.json', '../../../configs/sample_configs/skimmed_bkg_2018_ZJets.json']\n"
     ]
    }
   ],
   "source": [
    "bkg_configs = glob.glob(\"../../../configs/sample_configs/skimmed_bkg*.json\")\n",
    "\n",
    "print(bkg_configs)"
   ]
  },
  {
   "cell_type": "code",
   "execution_count": 9,
   "id": "f7af452c-6938-4868-8307-bd0f6b2e330d",
   "metadata": {},
   "outputs": [
    {
     "name": "stdout",
     "output_type": "stream",
     "text": [
      "bkg_2018_DY\n"
     ]
    },
    {
     "data": {
      "application/vnd.jupyter.widget-view+json": {
       "model_id": "de5fec896b244696827eb8942af7d18b",
       "version_major": 2,
       "version_minor": 0
      },
      "text/plain": [
       "Output()"
      ]
     },
     "metadata": {},
     "output_type": "display_data"
    },
    {
     "data": {
      "text/html": [
       "<pre style=\"white-space:pre;overflow-x:auto;line-height:normal;font-family:Menlo,'DejaVu Sans Mono',consolas,'Courier New',monospace\"></pre>\n"
      ],
      "text/plain": []
     },
     "metadata": {},
     "output_type": "display_data"
    },
    {
     "data": {
      "text/html": [
       "<pre style=\"white-space:pre;overflow-x:auto;line-height:normal;font-family:Menlo,'DejaVu Sans Mono',consolas,'Courier New',monospace\">\n",
       "</pre>\n"
      ],
      "text/plain": [
       "\n"
      ]
     },
     "metadata": {},
     "output_type": "display_data"
    },
    {
     "data": {
      "application/vnd.jupyter.widget-view+json": {
       "model_id": "b19ea425b2a64930af18b036208b7c3c",
       "version_major": 2,
       "version_minor": 0
      },
      "text/plain": [
       "Output()"
      ]
     },
     "metadata": {},
     "output_type": "display_data"
    },
    {
     "name": "stdout",
     "output_type": "stream",
     "text": [
      "Pass: 0/2\n",
      "Pass: 0/1\n",
      "Pass: 0/1\n",
      "Pass: 0/1\n",
      "Pass: 0/2\n",
      "Pass: 0/2\n"
     ]
    },
    {
     "data": {
      "text/html": [
       "<pre style=\"white-space:pre;overflow-x:auto;line-height:normal;font-family:Menlo,'DejaVu Sans Mono',consolas,'Courier New',monospace\"></pre>\n"
      ],
      "text/plain": []
     },
     "metadata": {},
     "output_type": "display_data"
    },
    {
     "data": {
      "text/html": [
       "<pre style=\"white-space:pre;overflow-x:auto;line-height:normal;font-family:Menlo,'DejaVu Sans Mono',consolas,'Courier New',monospace\">\n",
       "</pre>\n"
      ],
      "text/plain": [
       "\n"
      ]
     },
     "metadata": {},
     "output_type": "display_data"
    },
    {
     "name": "stdout",
     "output_type": "stream",
     "text": [
      "Runtime: 0.90 minutes\n",
      "bkg_2018_Diboson\n"
     ]
    },
    {
     "data": {
      "application/vnd.jupyter.widget-view+json": {
       "model_id": "0c6fa805157a424cb4acc58b72e03690",
       "version_major": 2,
       "version_minor": 0
      },
      "text/plain": [
       "Output()"
      ]
     },
     "metadata": {},
     "output_type": "display_data"
    },
    {
     "data": {
      "text/html": [
       "<pre style=\"white-space:pre;overflow-x:auto;line-height:normal;font-family:Menlo,'DejaVu Sans Mono',consolas,'Courier New',monospace\"></pre>\n"
      ],
      "text/plain": []
     },
     "metadata": {},
     "output_type": "display_data"
    },
    {
     "data": {
      "text/html": [
       "<pre style=\"white-space:pre;overflow-x:auto;line-height:normal;font-family:Menlo,'DejaVu Sans Mono',consolas,'Courier New',monospace\">\n",
       "</pre>\n"
      ],
      "text/plain": [
       "\n"
      ]
     },
     "metadata": {},
     "output_type": "display_data"
    },
    {
     "data": {
      "application/vnd.jupyter.widget-view+json": {
       "model_id": "fc02df79e81d49f7a8e5e7d3daa449bc",
       "version_major": 2,
       "version_minor": 0
      },
      "text/plain": [
       "Output()"
      ]
     },
     "metadata": {},
     "output_type": "display_data"
    },
    {
     "name": "stdout",
     "output_type": "stream",
     "text": [
      "Pass: 0/91Pass: 0/91\n",
      "\n",
      "Pass: 0/90\n",
      "Pass: 1/146\n",
      "Pass: 0/29\n",
      "Pass: 0/100\n",
      "Pass: 1/112\n",
      "Pass: 1/108\n"
     ]
    },
    {
     "data": {
      "text/html": [
       "<pre style=\"white-space:pre;overflow-x:auto;line-height:normal;font-family:Menlo,'DejaVu Sans Mono',consolas,'Courier New',monospace\"></pre>\n"
      ],
      "text/plain": []
     },
     "metadata": {},
     "output_type": "display_data"
    },
    {
     "data": {
      "text/html": [
       "<pre style=\"white-space:pre;overflow-x:auto;line-height:normal;font-family:Menlo,'DejaVu Sans Mono',consolas,'Courier New',monospace\">\n",
       "</pre>\n"
      ],
      "text/plain": [
       "\n"
      ]
     },
     "metadata": {},
     "output_type": "display_data"
    },
    {
     "name": "stdout",
     "output_type": "stream",
     "text": [
      "Runtime: 0.56 minutes\n",
      "bkg_2018_QCD_TuneCP5_PSWeights\n"
     ]
    },
    {
     "data": {
      "application/vnd.jupyter.widget-view+json": {
       "model_id": "0178a97361f84003b1adae0ba09339fb",
       "version_major": 2,
       "version_minor": 0
      },
      "text/plain": [
       "Output()"
      ]
     },
     "metadata": {},
     "output_type": "display_data"
    },
    {
     "data": {
      "text/html": [
       "<pre style=\"white-space:pre;overflow-x:auto;line-height:normal;font-family:Menlo,'DejaVu Sans Mono',consolas,'Courier New',monospace\"></pre>\n"
      ],
      "text/plain": []
     },
     "metadata": {},
     "output_type": "display_data"
    },
    {
     "data": {
      "text/html": [
       "<pre style=\"white-space:pre;overflow-x:auto;line-height:normal;font-family:Menlo,'DejaVu Sans Mono',consolas,'Courier New',monospace\">\n",
       "</pre>\n"
      ],
      "text/plain": [
       "\n"
      ]
     },
     "metadata": {},
     "output_type": "display_data"
    },
    {
     "data": {
      "application/vnd.jupyter.widget-view+json": {
       "model_id": "9ca9a56b77cf4648834f4e3550fc7e32",
       "version_major": 2,
       "version_minor": 0
      },
      "text/plain": [
       "Output()"
      ]
     },
     "metadata": {},
     "output_type": "display_data"
    },
    {
     "name": "stdout",
     "output_type": "stream",
     "text": [
      "Pass: 0/1\n",
      "Pass: 0/1\n",
      "Pass: 0/1\n"
     ]
    },
    {
     "data": {
      "text/html": [
       "<pre style=\"white-space:pre;overflow-x:auto;line-height:normal;font-family:Menlo,'DejaVu Sans Mono',consolas,'Courier New',monospace\"></pre>\n"
      ],
      "text/plain": []
     },
     "metadata": {},
     "output_type": "display_data"
    },
    {
     "data": {
      "text/html": [
       "<pre style=\"white-space:pre;overflow-x:auto;line-height:normal;font-family:Menlo,'DejaVu Sans Mono',consolas,'Courier New',monospace\">\n",
       "</pre>\n"
      ],
      "text/plain": [
       "\n"
      ]
     },
     "metadata": {},
     "output_type": "display_data"
    },
    {
     "name": "stdout",
     "output_type": "stream",
     "text": [
      "Runtime: 3.17 minutes\n",
      "bkg_2018_TTJetsDiLept\n",
      "bkg_2018_Top\n"
     ]
    },
    {
     "data": {
      "application/vnd.jupyter.widget-view+json": {
       "model_id": "9547826f2eb44ecdb3e68365df1a79dc",
       "version_major": 2,
       "version_minor": 0
      },
      "text/plain": [
       "Output()"
      ]
     },
     "metadata": {},
     "output_type": "display_data"
    },
    {
     "data": {
      "text/html": [
       "<pre style=\"white-space:pre;overflow-x:auto;line-height:normal;font-family:Menlo,'DejaVu Sans Mono',consolas,'Courier New',monospace\"></pre>\n"
      ],
      "text/plain": []
     },
     "metadata": {},
     "output_type": "display_data"
    },
    {
     "data": {
      "text/html": [
       "<pre style=\"white-space:pre;overflow-x:auto;line-height:normal;font-family:Menlo,'DejaVu Sans Mono',consolas,'Courier New',monospace\">\n",
       "</pre>\n"
      ],
      "text/plain": [
       "\n"
      ]
     },
     "metadata": {},
     "output_type": "display_data"
    },
    {
     "data": {
      "application/vnd.jupyter.widget-view+json": {
       "model_id": "dda69b05e5e24912abfe758268375444",
       "version_major": 2,
       "version_minor": 0
      },
      "text/plain": [
       "Output()"
      ]
     },
     "metadata": {},
     "output_type": "display_data"
    },
    {
     "name": "stdout",
     "output_type": "stream",
     "text": [
      "Pass: 0/24\n",
      "Pass: 0/22\n",
      "Pass: 0/17\n",
      "Pass: 0/12\n",
      "Pass: 0/9\n",
      "Pass: 0/9\n",
      "Pass: 0/22\n",
      "Pass: 0/15\n",
      "Pass: 0/6\n",
      "Pass: 0/3\n",
      "Pass: 0/6\n",
      "Pass: 0/29\n",
      "Pass: 0/29\n",
      "Pass: 0/26\n",
      "Pass: 0/23\n",
      "Pass: 0/18\n",
      "Pass: 0/6\n",
      "Pass: 0/7\n",
      "Pass: 0/20\n",
      "Pass: 0/28\n",
      "Pass: 0/30\n",
      "Pass: 0/34\n",
      "Pass: 0/28\n",
      "Pass: 0/23\n",
      "Pass: 0/31\n",
      "Pass: 0/25\n",
      "Pass: 0/17\n",
      "Pass: 0/7\n",
      "Pass: 0/10\n",
      "Pass: 0/13\n",
      "Pass: 0/24\n",
      "Pass: 0/13\n",
      "Pass: 0/17\n",
      "Pass: 0/53\n",
      "Pass: 0/52\n",
      "Pass: 0/42\n",
      "Pass: 0/56\n",
      "Pass: 0/14\n",
      "Pass: 0/5\n",
      "Pass: 0/7\n",
      "Pass: 0/20\n",
      "Pass: 0/6\n",
      "Pass: 0/4\n",
      "Pass: 1/40\n",
      "Pass: 0/43\n",
      "Pass: 0/47\n",
      "Pass: 0/10\n",
      "Pass: 0/9\n",
      "Pass: 0/6\n",
      "Pass: 0/7\n",
      "Pass: 0/8\n",
      "Pass: 1/24\n",
      "Pass: 0/51\n",
      "Pass: 0/39Pass: 0/31\n",
      "Pass: 0/23\n",
      "Pass: 0/3\n",
      "Pass: 0/6\n",
      "Pass: 0/9\n",
      "Pass: 0/49\n",
      "Pass: 0/5\n",
      "\n",
      "Pass: 0/8\n",
      "Pass: 0/42\n",
      "Pass: 0/35\n",
      "Pass: 0/8\n",
      "Pass: 0/40\n",
      "Pass: 0/35\n",
      "Pass: 0/8\n",
      "Pass: 0/22\n",
      "Pass: 0/10\n",
      "Pass: 0/8\n",
      "Pass: 0/8\n",
      "Pass: 0/5\n",
      "Pass: 0/26\n",
      "Pass: 0/41\n",
      "Pass: 0/20\n",
      "Pass: 0/37\n",
      "Pass: 0/12\n",
      "Pass: 0/30\n",
      "Pass: 0/10\n",
      "Pass: 0/11Pass: 0/5\n",
      "\n",
      "Pass: 0/10\n",
      "Pass: 0/7\n",
      "Pass: 0/7\n",
      "Pass: 0/40Pass: 0/33\n",
      "Pass: 0/40\n",
      "Pass: 1/50\n",
      "Pass: 0/18\n",
      "Pass: 0/23\n",
      "Pass: 0/12\n",
      "Pass: 0/8\n",
      "Pass: 0/15Pass: 0/7\n"
     ]
    },
    {
     "data": {
      "text/html": [
       "<pre style=\"white-space:pre;overflow-x:auto;line-height:normal;font-family:Menlo,'DejaVu Sans Mono',consolas,'Courier New',monospace\"></pre>\n"
      ],
      "text/plain": []
     },
     "metadata": {},
     "output_type": "display_data"
    },
    {
     "data": {
      "text/html": [
       "<pre style=\"white-space:pre;overflow-x:auto;line-height:normal;font-family:Menlo,'DejaVu Sans Mono',consolas,'Courier New',monospace\">\n",
       "</pre>\n"
      ],
      "text/plain": [
       "\n"
      ]
     },
     "metadata": {},
     "output_type": "display_data"
    },
    {
     "name": "stdout",
     "output_type": "stream",
     "text": [
      "Runtime: 4.09 minutes\n",
      "bkg_2018_Triboson\n"
     ]
    },
    {
     "data": {
      "application/vnd.jupyter.widget-view+json": {
       "model_id": "305c6535338c49a89a907641c0095e24",
       "version_major": 2,
       "version_minor": 0
      },
      "text/plain": [
       "Output()"
      ]
     },
     "metadata": {},
     "output_type": "display_data"
    },
    {
     "data": {
      "text/html": [
       "<pre style=\"white-space:pre;overflow-x:auto;line-height:normal;font-family:Menlo,'DejaVu Sans Mono',consolas,'Courier New',monospace\"></pre>\n"
      ],
      "text/plain": []
     },
     "metadata": {},
     "output_type": "display_data"
    },
    {
     "data": {
      "text/html": [
       "<pre style=\"white-space:pre;overflow-x:auto;line-height:normal;font-family:Menlo,'DejaVu Sans Mono',consolas,'Courier New',monospace\">\n",
       "</pre>\n"
      ],
      "text/plain": [
       "\n"
      ]
     },
     "metadata": {},
     "output_type": "display_data"
    },
    {
     "data": {
      "application/vnd.jupyter.widget-view+json": {
       "model_id": "2ef5cba125034a21ad1504886f9fb247",
       "version_major": 2,
       "version_minor": 0
      },
      "text/plain": [
       "Output()"
      ]
     },
     "metadata": {},
     "output_type": "display_data"
    },
    {
     "name": "stdout",
     "output_type": "stream",
     "text": [
      "Pass: 0/13\n",
      "Pass: 0/18Pass: 0/26\n",
      "\n",
      "Pass: 0/35\n"
     ]
    },
    {
     "data": {
      "text/html": [
       "<pre style=\"white-space:pre;overflow-x:auto;line-height:normal;font-family:Menlo,'DejaVu Sans Mono',consolas,'Courier New',monospace\"></pre>\n"
      ],
      "text/plain": []
     },
     "metadata": {},
     "output_type": "display_data"
    },
    {
     "data": {
      "text/html": [
       "<pre style=\"white-space:pre;overflow-x:auto;line-height:normal;font-family:Menlo,'DejaVu Sans Mono',consolas,'Courier New',monospace\">\n",
       "</pre>\n"
      ],
      "text/plain": [
       "\n"
      ]
     },
     "metadata": {},
     "output_type": "display_data"
    },
    {
     "name": "stdout",
     "output_type": "stream",
     "text": [
      "Runtime: 0.64 minutes\n",
      "bkg_2018_WJets\n"
     ]
    },
    {
     "data": {
      "application/vnd.jupyter.widget-view+json": {
       "model_id": "c1ddd911e8074391a2ae9621ec851bd8",
       "version_major": 2,
       "version_minor": 0
      },
      "text/plain": [
       "Output()"
      ]
     },
     "metadata": {},
     "output_type": "display_data"
    },
    {
     "data": {
      "text/html": [
       "<pre style=\"white-space:pre;overflow-x:auto;line-height:normal;font-family:Menlo,'DejaVu Sans Mono',consolas,'Courier New',monospace\"></pre>\n"
      ],
      "text/plain": []
     },
     "metadata": {},
     "output_type": "display_data"
    },
    {
     "data": {
      "text/html": [
       "<pre style=\"white-space:pre;overflow-x:auto;line-height:normal;font-family:Menlo,'DejaVu Sans Mono',consolas,'Courier New',monospace\">\n",
       "</pre>\n"
      ],
      "text/plain": [
       "\n"
      ]
     },
     "metadata": {},
     "output_type": "display_data"
    },
    {
     "data": {
      "application/vnd.jupyter.widget-view+json": {
       "model_id": "21ab2d69271d4136b3fdf3cd3465677c",
       "version_major": 2,
       "version_minor": 0
      },
      "text/plain": [
       "Output()"
      ]
     },
     "metadata": {},
     "output_type": "display_data"
    },
    {
     "name": "stdout",
     "output_type": "stream",
     "text": [
      "Pass: 1/28\n",
      "Pass: 1/583\n",
      "Pass: 3/151\n",
      "Pass: 7/487\n",
      "Pass: 1/255\n",
      "Pass: 1/130\n",
      "Pass: 0/273\n",
      "Pass: 0/270\n",
      "Pass: 0/280\n",
      "Pass: 0/271\n",
      "Pass: 0/100\n",
      "Pass: 0/262\n",
      "Pass: 0/141\n",
      "Pass: 1/137\n",
      "Pass: 0/526\n",
      "Pass: 6/1086\n",
      "Pass: 3/389\n",
      "Pass: 3/1160\n",
      "Pass: 1/319\n",
      "Pass: 2/365\n",
      "Pass: 1/367\n",
      "Pass: 1/321\n",
      "Pass: 1/346\n",
      "Pass: 4/1369\n",
      "Pass: 5/2248\n",
      "Pass: 4/860\n",
      "Pass: 9/2786\n",
      "Pass: 15/2752\n",
      "Pass: 2/333\n",
      "Pass: 1/348\n",
      "Pass: 0/355\n",
      "Pass: 1/359\n",
      "Pass: 4/1480\n",
      "Pass: 2/190\n",
      "Pass: 1/236\n",
      "Pass: 11/2806Pass: 10/2781\n",
      "\n",
      "Pass: 1/223\n",
      "Pass: 3/687\n",
      "Pass: 1/333\n",
      "Pass: 2/371\n",
      "Pass: 1/326\n"
     ]
    },
    {
     "data": {
      "text/html": [
       "<pre style=\"white-space:pre;overflow-x:auto;line-height:normal;font-family:Menlo,'DejaVu Sans Mono',consolas,'Courier New',monospace\"></pre>\n"
      ],
      "text/plain": []
     },
     "metadata": {},
     "output_type": "display_data"
    },
    {
     "data": {
      "text/html": [
       "<pre style=\"white-space:pre;overflow-x:auto;line-height:normal;font-family:Menlo,'DejaVu Sans Mono',consolas,'Courier New',monospace\">\n",
       "</pre>\n"
      ],
      "text/plain": [
       "\n"
      ]
     },
     "metadata": {},
     "output_type": "display_data"
    },
    {
     "name": "stdout",
     "output_type": "stream",
     "text": [
      "Runtime: 3.03 minutes\n",
      "bkg_2018_ZJets\n"
     ]
    },
    {
     "data": {
      "application/vnd.jupyter.widget-view+json": {
       "model_id": "7ae1f84c80c3427aaddfc18dffc7f2b2",
       "version_major": 2,
       "version_minor": 0
      },
      "text/plain": [
       "Output()"
      ]
     },
     "metadata": {},
     "output_type": "display_data"
    },
    {
     "data": {
      "text/html": [
       "<pre style=\"white-space:pre;overflow-x:auto;line-height:normal;font-family:Menlo,'DejaVu Sans Mono',consolas,'Courier New',monospace\"></pre>\n"
      ],
      "text/plain": []
     },
     "metadata": {},
     "output_type": "display_data"
    },
    {
     "data": {
      "text/html": [
       "<pre style=\"white-space:pre;overflow-x:auto;line-height:normal;font-family:Menlo,'DejaVu Sans Mono',consolas,'Courier New',monospace\">\n",
       "</pre>\n"
      ],
      "text/plain": [
       "\n"
      ]
     },
     "metadata": {},
     "output_type": "display_data"
    },
    {
     "data": {
      "application/vnd.jupyter.widget-view+json": {
       "model_id": "b2485dec1954446ab905ff6e0bc87d0f",
       "version_major": 2,
       "version_minor": 0
      },
      "text/plain": [
       "Output()"
      ]
     },
     "metadata": {},
     "output_type": "display_data"
    },
    {
     "name": "stdout",
     "output_type": "stream",
     "text": [
      "Pass: 1/42\n",
      "Pass: 2/550\n",
      "Pass: 1/522\n",
      "Pass: 0/393\n",
      "Pass: 0/203\n",
      "Pass: 2/391\n",
      "Pass: 0/237\n",
      "Pass: 5/2489\n",
      "Pass: 4/3355\n",
      "Pass: 6/5643\n",
      "Pass: 13/5546\n",
      "Pass: 0/7\n",
      "Pass: 5/4407\n",
      "Pass: 3/2605\n",
      "Pass: 3/2630\n",
      "Pass: 0/528\n",
      "Pass: 4/2308\n",
      "Pass: 2/1006\n",
      "Pass: 4/2250\n",
      "Pass: 7/3428\n",
      "Pass: 7/2920\n",
      "Pass: 6/3020\n"
     ]
    },
    {
     "data": {
      "text/html": [
       "<pre style=\"white-space:pre;overflow-x:auto;line-height:normal;font-family:Menlo,'DejaVu Sans Mono',consolas,'Courier New',monospace\"></pre>\n"
      ],
      "text/plain": []
     },
     "metadata": {},
     "output_type": "display_data"
    },
    {
     "data": {
      "text/html": [
       "<pre style=\"white-space:pre;overflow-x:auto;line-height:normal;font-family:Menlo,'DejaVu Sans Mono',consolas,'Courier New',monospace\">\n",
       "</pre>\n"
      ],
      "text/plain": [
       "\n"
      ]
     },
     "metadata": {},
     "output_type": "display_data"
    },
    {
     "name": "stdout",
     "output_type": "stream",
     "text": [
      "Runtime: 2.99 minutes\n"
     ]
    }
   ],
   "source": [
    "for bkg in bkg_configs:\n",
    "    process = bkg.split('/')[-1].split('.json')[0].split('skimmed_')[-1]\n",
    "    print(process)\n",
    "\n",
    "    if 'TTJetsDiLept' in bkg: # currently not available ntuples\n",
    "        continue\n",
    "    \n",
    "    test = Analyzer(bkg,histos_config,cuts_config) \n",
    "        \n",
    "    t1 = time.time()\n",
    "    out = test.process(execr='futures')\n",
    "    t2 = time.time()\n",
    "        \n",
    "    print(\"Runtime: {:.2f} minutes\".format((t2-t1)/60))\n",
    "    util.save(out,f\"{outdir}/{process}_SR_BDT-based_ctau-{ct}_trained_5to50.coffea\")\n",
    "    del out, test"
   ]
  },
  {
   "cell_type": "code",
   "execution_count": null,
   "id": "125db5a0-cabf-4ba4-9980-0fe99b43ff66",
   "metadata": {},
   "outputs": [],
   "source": []
  }
 ],
 "metadata": {
  "kernelspec": {
   "display_name": "Python 3 (ipykernel)",
   "language": "python",
   "name": "python3"
  },
  "language_info": {
   "codemirror_mode": {
    "name": "ipython",
    "version": 3
   },
   "file_extension": ".py",
   "mimetype": "text/x-python",
   "name": "python",
   "nbconvert_exporter": "python",
   "pygments_lexer": "ipython3",
   "version": "3.8.17"
  }
 },
 "nbformat": 4,
 "nbformat_minor": 5
}
