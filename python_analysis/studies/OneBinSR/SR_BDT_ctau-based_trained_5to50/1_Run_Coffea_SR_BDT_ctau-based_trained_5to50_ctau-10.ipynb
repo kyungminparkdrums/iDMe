{
 "cells": [
  {
   "cell_type": "code",
   "execution_count": 1,
   "id": "e669ba8e-d8ae-45e9-bdac-9dabb1da3557",
   "metadata": {},
   "outputs": [],
   "source": [
    "%load_ext autoreload\n",
    "%autoreload 2\n",
    "import numpy as np\n",
    "import matplotlib.pyplot as plt\n",
    "import awkward as ak\n",
    "import sys\n",
    "sys.path.append(\"../../../analysisTools/\")\n",
    "from analysisTools import Analyzer\n",
    "from analysisTools import loadSchema\n",
    "import analysisTools as tools\n",
    "import analysisSubroutines as routines\n",
    "import importlib\n",
    "import coffea.util as util\n",
    "import time\n",
    "import json\n",
    "import os\n",
    "import glob"
   ]
  },
  {
   "cell_type": "code",
   "execution_count": 2,
   "id": "c59aff4f-6762-4e07-957a-349d22652fad",
   "metadata": {},
   "outputs": [],
   "source": [
    "outdir = \"./coffea/\"\n",
    "if not os.path.isdir(outdir):\n",
    "    os.mkdir(outdir)"
   ]
  },
  {
   "cell_type": "code",
   "execution_count": 3,
   "id": "73201266-7873-48cb-b6b9-ea70e7703e5b",
   "metadata": {},
   "outputs": [],
   "source": [
    "outdir = \"./coffea/skimmed/\"\n",
    "if not os.path.isdir(outdir):\n",
    "    os.mkdir(outdir)"
   ]
  },
  {
   "cell_type": "code",
   "execution_count": 4,
   "id": "64f93d49-ba1c-44ef-9226-65095728a3f5",
   "metadata": {},
   "outputs": [],
   "source": [
    "ct = 10"
   ]
  },
  {
   "cell_type": "code",
   "execution_count": 5,
   "id": "c72681ac-a0f5-402a-8a80-d5f17505b69c",
   "metadata": {},
   "outputs": [],
   "source": [
    "cuts_config = f\"./cut_configs/BDTv2_ctau-{ct}.py\"\n",
    "histos_config = \"./histo_configs/displacement.py\""
   ]
  },
  {
   "cell_type": "markdown",
   "id": "d248ae59-1cd0-45e3-91a1-3462012c6a27",
   "metadata": {},
   "source": [
    "### Signal"
   ]
  },
  {
   "cell_type": "code",
   "execution_count": 6,
   "id": "e0ecc4e0-151c-408b-b400-381d1e1a973e",
   "metadata": {},
   "outputs": [],
   "source": [
    "sample_config = f\"./sample_configs/skimmed_sig_v2_mA_3m1_2018_aEM_ctau-{ct}.json\""
   ]
  },
  {
   "cell_type": "code",
   "execution_count": 7,
   "id": "02537ff8-2bb2-4752-bed0-a504affad525",
   "metadata": {},
   "outputs": [
    {
     "data": {
      "application/vnd.jupyter.widget-view+json": {
       "model_id": "6f6ca3e64b4843dd819e4905a3cff987",
       "version_major": 2,
       "version_minor": 0
      },
      "text/plain": [
       "Output()"
      ]
     },
     "metadata": {},
     "output_type": "display_data"
    },
    {
     "data": {
      "text/html": [
       "<pre style=\"white-space:pre;overflow-x:auto;line-height:normal;font-family:Menlo,'DejaVu Sans Mono',consolas,'Courier New',monospace\"></pre>\n"
      ],
      "text/plain": []
     },
     "metadata": {},
     "output_type": "display_data"
    },
    {
     "data": {
      "text/html": [
       "<pre style=\"white-space:pre;overflow-x:auto;line-height:normal;font-family:Menlo,'DejaVu Sans Mono',consolas,'Courier New',monospace\">\n",
       "</pre>\n"
      ],
      "text/plain": [
       "\n"
      ]
     },
     "metadata": {},
     "output_type": "display_data"
    },
    {
     "data": {
      "application/vnd.jupyter.widget-view+json": {
       "model_id": "e6f083d19376409e850e40347358aa13",
       "version_major": 2,
       "version_minor": 0
      },
      "text/plain": [
       "Output()"
      ]
     },
     "metadata": {},
     "output_type": "display_data"
    },
    {
     "name": "stdout",
     "output_type": "stream",
     "text": [
      "Pass: 450/1132\n",
      "Pass: 460/1300\n",
      "Pass: 1601/4904\n",
      "Pass: 1537/4163\n",
      "Pass: 576/1494\n",
      "Pass: 552/1370\n",
      "Pass: 414/1014\n",
      "Pass: 499/1364\n",
      "Pass: 79/254\n",
      "Pass: 89/361\n",
      "Pass: 249/494\n",
      "Pass: 639/1542\n",
      "Pass: 529/1111\n",
      "Pass: 480/1149\n",
      "Pass: 416/834\n",
      "\n",
      "Pass: 372/810\n",
      "Pass: 228/660\n",
      "Pass: 217/585\n",
      "Pass: 224/698\n",
      "Pass: 876/2858\n",
      "Pass: 2305/6669\n"
     ]
    },
    {
     "data": {
      "text/html": [
       "<pre style=\"white-space:pre;overflow-x:auto;line-height:normal;font-family:Menlo,'DejaVu Sans Mono',consolas,'Courier New',monospace\"></pre>\n"
      ],
      "text/plain": []
     },
     "metadata": {},
     "output_type": "display_data"
    },
    {
     "data": {
      "text/html": [
       "<pre style=\"white-space:pre;overflow-x:auto;line-height:normal;font-family:Menlo,'DejaVu Sans Mono',consolas,'Courier New',monospace\">\n",
       "</pre>\n"
      ],
      "text/plain": [
       "\n"
      ]
     },
     "metadata": {},
     "output_type": "display_data"
    },
    {
     "name": "stdout",
     "output_type": "stream",
     "text": [
      "Runtime: 2.17 minutes\n"
     ]
    }
   ],
   "source": [
    "test = Analyzer(sample_config,histos_config,cuts_config, max_samples=-1) # run over all samples in the config\n",
    "\n",
    "t1 = time.time()\n",
    "out = test.process(execr='futures')\n",
    "t2 = time.time()\n",
    "\n",
    "print(\"Runtime: {:.2f} minutes\".format((t2-t1)/60))\n",
    "util.save(out,f\"{outdir}/signal_SR_BDT-based_ctau-{ct}_trained_5to50.coffea\")\n",
    "\n",
    "del out, test"
   ]
  },
  {
   "cell_type": "markdown",
   "id": "97b2ff87-c610-4e5a-9d3d-0255d980dbe3",
   "metadata": {},
   "source": [
    "### Background"
   ]
  },
  {
   "cell_type": "code",
   "execution_count": 8,
   "id": "c65bc29b-bfda-48ed-84d4-7ea8f8eded39",
   "metadata": {},
   "outputs": [
    {
     "name": "stdout",
     "output_type": "stream",
     "text": [
      "['../../../configs/sample_configs/skimmed_bkg_2018_DY.json', '../../../configs/sample_configs/skimmed_bkg_2018_Diboson.json', '../../../configs/sample_configs/skimmed_bkg_2018_QCD_TuneCP5_PSWeights.json', '../../../configs/sample_configs/skimmed_bkg_2018_TTJetsDiLept.json', '../../../configs/sample_configs/skimmed_bkg_2018_Top.json', '../../../configs/sample_configs/skimmed_bkg_2018_Triboson.json', '../../../configs/sample_configs/skimmed_bkg_2018_WJets.json', '../../../configs/sample_configs/skimmed_bkg_2018_ZJets.json']\n"
     ]
    }
   ],
   "source": [
    "bkg_configs = glob.glob(\"../../../configs/sample_configs/skimmed_bkg*.json\")\n",
    "\n",
    "print(bkg_configs)"
   ]
  },
  {
   "cell_type": "code",
   "execution_count": null,
   "id": "f7af452c-6938-4868-8307-bd0f6b2e330d",
   "metadata": {},
   "outputs": [
    {
     "name": "stdout",
     "output_type": "stream",
     "text": [
      "bkg_2018_DY\n"
     ]
    },
    {
     "data": {
      "application/vnd.jupyter.widget-view+json": {
       "model_id": "3d40365dc7354becb4ae6b41365e59e5",
       "version_major": 2,
       "version_minor": 0
      },
      "text/plain": [
       "Output()"
      ]
     },
     "metadata": {},
     "output_type": "display_data"
    },
    {
     "data": {
      "text/html": [
       "<pre style=\"white-space:pre;overflow-x:auto;line-height:normal;font-family:Menlo,'DejaVu Sans Mono',consolas,'Courier New',monospace\"></pre>\n"
      ],
      "text/plain": []
     },
     "metadata": {},
     "output_type": "display_data"
    },
    {
     "data": {
      "text/html": [
       "<pre style=\"white-space:pre;overflow-x:auto;line-height:normal;font-family:Menlo,'DejaVu Sans Mono',consolas,'Courier New',monospace\">\n",
       "</pre>\n"
      ],
      "text/plain": [
       "\n"
      ]
     },
     "metadata": {},
     "output_type": "display_data"
    },
    {
     "data": {
      "application/vnd.jupyter.widget-view+json": {
       "model_id": "296dd617dad3496094890ccf127f2b3a",
       "version_major": 2,
       "version_minor": 0
      },
      "text/plain": [
       "Output()"
      ]
     },
     "metadata": {},
     "output_type": "display_data"
    },
    {
     "name": "stdout",
     "output_type": "stream",
     "text": [
      "Pass: 0/2\n",
      "Pass: 0/1\n",
      "Pass: 0/1\n",
      "Pass: 0/1\n",
      "Pass: 0/2\n",
      "Pass: 0/2\n"
     ]
    },
    {
     "data": {
      "text/html": [
       "<pre style=\"white-space:pre;overflow-x:auto;line-height:normal;font-family:Menlo,'DejaVu Sans Mono',consolas,'Courier New',monospace\"></pre>\n"
      ],
      "text/plain": []
     },
     "metadata": {},
     "output_type": "display_data"
    },
    {
     "data": {
      "text/html": [
       "<pre style=\"white-space:pre;overflow-x:auto;line-height:normal;font-family:Menlo,'DejaVu Sans Mono',consolas,'Courier New',monospace\">\n",
       "</pre>\n"
      ],
      "text/plain": [
       "\n"
      ]
     },
     "metadata": {},
     "output_type": "display_data"
    },
    {
     "name": "stdout",
     "output_type": "stream",
     "text": [
      "Runtime: 0.94 minutes\n",
      "bkg_2018_Diboson\n"
     ]
    },
    {
     "data": {
      "application/vnd.jupyter.widget-view+json": {
       "model_id": "934a4e356ecf41bd8a5963d041832da3",
       "version_major": 2,
       "version_minor": 0
      },
      "text/plain": [
       "Output()"
      ]
     },
     "metadata": {},
     "output_type": "display_data"
    },
    {
     "data": {
      "text/html": [
       "<pre style=\"white-space:pre;overflow-x:auto;line-height:normal;font-family:Menlo,'DejaVu Sans Mono',consolas,'Courier New',monospace\"></pre>\n"
      ],
      "text/plain": []
     },
     "metadata": {},
     "output_type": "display_data"
    },
    {
     "data": {
      "text/html": [
       "<pre style=\"white-space:pre;overflow-x:auto;line-height:normal;font-family:Menlo,'DejaVu Sans Mono',consolas,'Courier New',monospace\">\n",
       "</pre>\n"
      ],
      "text/plain": [
       "\n"
      ]
     },
     "metadata": {},
     "output_type": "display_data"
    },
    {
     "data": {
      "application/vnd.jupyter.widget-view+json": {
       "model_id": "dd1a1fa3d8224e2b8252401be8ab9a7a",
       "version_major": 2,
       "version_minor": 0
      },
      "text/plain": [
       "Output()"
      ]
     },
     "metadata": {},
     "output_type": "display_data"
    },
    {
     "name": "stdout",
     "output_type": "stream",
     "text": [
      "Pass: 0/91\n",
      "Pass: 0/91Pass: 0/90\n",
      "\n",
      "Pass: 0/146\n",
      "Pass: 0/29\n",
      "Pass: 0/100\n",
      "Pass: 1/108\n",
      "Pass: 1/112\n"
     ]
    },
    {
     "data": {
      "text/html": [
       "<pre style=\"white-space:pre;overflow-x:auto;line-height:normal;font-family:Menlo,'DejaVu Sans Mono',consolas,'Courier New',monospace\"></pre>\n"
      ],
      "text/plain": []
     },
     "metadata": {},
     "output_type": "display_data"
    },
    {
     "data": {
      "text/html": [
       "<pre style=\"white-space:pre;overflow-x:auto;line-height:normal;font-family:Menlo,'DejaVu Sans Mono',consolas,'Courier New',monospace\">\n",
       "</pre>\n"
      ],
      "text/plain": [
       "\n"
      ]
     },
     "metadata": {},
     "output_type": "display_data"
    },
    {
     "name": "stdout",
     "output_type": "stream",
     "text": [
      "Runtime: 0.61 minutes\n",
      "bkg_2018_QCD_TuneCP5_PSWeights\n"
     ]
    },
    {
     "data": {
      "application/vnd.jupyter.widget-view+json": {
       "model_id": "af41f408a3494e6ab1e6bdf36a9ce5d2",
       "version_major": 2,
       "version_minor": 0
      },
      "text/plain": [
       "Output()"
      ]
     },
     "metadata": {},
     "output_type": "display_data"
    },
    {
     "data": {
      "text/html": [
       "<pre style=\"white-space:pre;overflow-x:auto;line-height:normal;font-family:Menlo,'DejaVu Sans Mono',consolas,'Courier New',monospace\"></pre>\n"
      ],
      "text/plain": []
     },
     "metadata": {},
     "output_type": "display_data"
    },
    {
     "data": {
      "text/html": [
       "<pre style=\"white-space:pre;overflow-x:auto;line-height:normal;font-family:Menlo,'DejaVu Sans Mono',consolas,'Courier New',monospace\">\n",
       "</pre>\n"
      ],
      "text/plain": [
       "\n"
      ]
     },
     "metadata": {},
     "output_type": "display_data"
    },
    {
     "data": {
      "application/vnd.jupyter.widget-view+json": {
       "model_id": "9955cd4d904e430dae09da2988b3992a",
       "version_major": 2,
       "version_minor": 0
      },
      "text/plain": [
       "Output()"
      ]
     },
     "metadata": {},
     "output_type": "display_data"
    },
    {
     "name": "stdout",
     "output_type": "stream",
     "text": [
      "Pass: 0/1\n",
      "Pass: 0/1\n",
      "Pass: 0/1\n"
     ]
    },
    {
     "data": {
      "text/html": [
       "<pre style=\"white-space:pre;overflow-x:auto;line-height:normal;font-family:Menlo,'DejaVu Sans Mono',consolas,'Courier New',monospace\"></pre>\n"
      ],
      "text/plain": []
     },
     "metadata": {},
     "output_type": "display_data"
    },
    {
     "data": {
      "text/html": [
       "<pre style=\"white-space:pre;overflow-x:auto;line-height:normal;font-family:Menlo,'DejaVu Sans Mono',consolas,'Courier New',monospace\">\n",
       "</pre>\n"
      ],
      "text/plain": [
       "\n"
      ]
     },
     "metadata": {},
     "output_type": "display_data"
    },
    {
     "name": "stdout",
     "output_type": "stream",
     "text": [
      "Runtime: 2.68 minutes\n",
      "bkg_2018_TTJetsDiLept\n",
      "bkg_2018_Top\n"
     ]
    },
    {
     "data": {
      "application/vnd.jupyter.widget-view+json": {
       "model_id": "94c2d94a649f4c86bd910cd06ebcb191",
       "version_major": 2,
       "version_minor": 0
      },
      "text/plain": [
       "Output()"
      ]
     },
     "metadata": {},
     "output_type": "display_data"
    },
    {
     "data": {
      "text/html": [
       "<pre style=\"white-space:pre;overflow-x:auto;line-height:normal;font-family:Menlo,'DejaVu Sans Mono',consolas,'Courier New',monospace\"></pre>\n"
      ],
      "text/plain": []
     },
     "metadata": {},
     "output_type": "display_data"
    },
    {
     "data": {
      "text/html": [
       "<pre style=\"white-space:pre;overflow-x:auto;line-height:normal;font-family:Menlo,'DejaVu Sans Mono',consolas,'Courier New',monospace\">\n",
       "</pre>\n"
      ],
      "text/plain": [
       "\n"
      ]
     },
     "metadata": {},
     "output_type": "display_data"
    },
    {
     "data": {
      "application/vnd.jupyter.widget-view+json": {
       "model_id": "bb14e8349678479a8391ed3a5e57d1bf",
       "version_major": 2,
       "version_minor": 0
      },
      "text/plain": [
       "Output()"
      ]
     },
     "metadata": {},
     "output_type": "display_data"
    },
    {
     "name": "stdout",
     "output_type": "stream",
     "text": [
      "Pass: 0/12\n",
      "Pass: 0/24\n",
      "Pass: 0/22\n",
      "Pass: 0/17\n",
      "Pass: 0/15\n",
      "Pass: 0/22\n",
      "Pass: 0/9\n",
      "Pass: 0/9\n",
      "Pass: 0/6\n",
      "Pass: 0/3\n",
      "Pass: 0/6\n",
      "Pass: 0/29\n",
      "Pass: 0/26\n",
      "Pass: 0/29\n",
      "Pass: 0/23\n",
      "Pass: 0/18\n",
      "Pass: 0/7\n",
      "Pass: 0/20\n",
      "Pass: 0/6\n",
      "Pass: 0/28\n",
      "Pass: 0/28\n",
      "Pass: 0/34\n",
      "Pass: 0/30\n",
      "Pass: 0/23\n",
      "Pass: 0/31\n",
      "Pass: 0/7\n",
      "Pass: 0/25\n",
      "Pass: 0/17\n",
      "Pass: 0/24\n",
      "Pass: 0/10\n",
      "Pass: 0/13\n",
      "Pass: 0/13\n",
      "Pass: 0/17\n",
      "Pass: 0/53\n",
      "Pass: 0/42\n",
      "Pass: 0/52\n",
      "Pass: 0/56\n",
      "Pass: 0/5\n",
      "Pass: 0/7\n",
      "Pass: 0/14Pass: 0/20\n",
      "Pass: 0/6\n",
      "Pass: 0/4\n",
      "Pass: 1/40\n",
      "Pass: 0/43\n",
      "Pass: 0/32\n",
      "Pass: 0/47\n",
      "Pass: 0/10\n",
      "Pass: 0/9\n",
      "Pass: 0/7\n",
      "Pass: 0/8\n",
      "Pass: 0/6\n",
      "Pass: 0/24\n",
      "Pass: 0/51\n",
      "Pass: 0/31\n",
      "Pass: 0/39\n",
      "Pass: 0/3Pass: 0/6\n",
      "\n",
      "Pass: 0/49\n",
      "Pass: 0/23\n",
      "Pass: 0/5Pass: 0/9\n",
      "\n",
      "Pass: 0/11\n",
      "Pass: 0/8\n",
      "Pass: 0/8\n",
      "Pass: 0/42\n",
      "Pass: 0/40\n",
      "Pass: 0/35\n",
      "Pass: 0/35\n",
      "Pass: 0/8\n",
      "Pass: 0/10\n",
      "Pass: 0/22\n",
      "Pass: 0/8\n",
      "Pass: 0/8\n",
      "Pass: 0/5\n",
      "Pass: 0/26\n",
      "Pass: 0/41\n",
      "Pass: 0/37\n",
      "Pass: 0/20\n",
      "Pass: 0/30\n",
      "Pass: 0/12\n",
      "Pass: 0/10\n",
      "Pass: 0/5\n",
      "Pass: 0/11\n",
      "Pass: 0/10\n",
      "Pass: 0/7\n",
      "Pass: 0/40\n",
      "Pass: 0/7\n",
      "Pass: 0/33\n",
      "Pass: 0/40\n",
      "Pass: 1/50\n",
      "Pass: 0/18\n",
      "Pass: 0/23\n",
      "Pass: 0/12\n",
      "Pass: 0/8\n",
      "Pass: 0/7\n",
      "Pass: 0/15\n"
     ]
    },
    {
     "data": {
      "text/html": [
       "<pre style=\"white-space:pre;overflow-x:auto;line-height:normal;font-family:Menlo,'DejaVu Sans Mono',consolas,'Courier New',monospace\"></pre>\n"
      ],
      "text/plain": []
     },
     "metadata": {},
     "output_type": "display_data"
    },
    {
     "data": {
      "text/html": [
       "<pre style=\"white-space:pre;overflow-x:auto;line-height:normal;font-family:Menlo,'DejaVu Sans Mono',consolas,'Courier New',monospace\">\n",
       "</pre>\n"
      ],
      "text/plain": [
       "\n"
      ]
     },
     "metadata": {},
     "output_type": "display_data"
    },
    {
     "name": "stdout",
     "output_type": "stream",
     "text": [
      "Runtime: 4.38 minutes\n",
      "bkg_2018_Triboson\n"
     ]
    },
    {
     "data": {
      "application/vnd.jupyter.widget-view+json": {
       "model_id": "1092b49d1a6b42d08fcee7b23712cf7b",
       "version_major": 2,
       "version_minor": 0
      },
      "text/plain": [
       "Output()"
      ]
     },
     "metadata": {},
     "output_type": "display_data"
    },
    {
     "data": {
      "text/html": [
       "<pre style=\"white-space:pre;overflow-x:auto;line-height:normal;font-family:Menlo,'DejaVu Sans Mono',consolas,'Courier New',monospace\"></pre>\n"
      ],
      "text/plain": []
     },
     "metadata": {},
     "output_type": "display_data"
    },
    {
     "data": {
      "text/html": [
       "<pre style=\"white-space:pre;overflow-x:auto;line-height:normal;font-family:Menlo,'DejaVu Sans Mono',consolas,'Courier New',monospace\">\n",
       "</pre>\n"
      ],
      "text/plain": [
       "\n"
      ]
     },
     "metadata": {},
     "output_type": "display_data"
    },
    {
     "data": {
      "application/vnd.jupyter.widget-view+json": {
       "model_id": "27938e3fad4d4fa4aa54722ae393dece",
       "version_major": 2,
       "version_minor": 0
      },
      "text/plain": [
       "Output()"
      ]
     },
     "metadata": {},
     "output_type": "display_data"
    },
    {
     "name": "stdout",
     "output_type": "stream",
     "text": [
      "Pass: 0/18\n",
      "Pass: 0/35\n",
      "Pass: 0/26Pass: 0/13\n",
      "\n"
     ]
    },
    {
     "data": {
      "text/html": [
       "<pre style=\"white-space:pre;overflow-x:auto;line-height:normal;font-family:Menlo,'DejaVu Sans Mono',consolas,'Courier New',monospace\"></pre>\n"
      ],
      "text/plain": []
     },
     "metadata": {},
     "output_type": "display_data"
    },
    {
     "data": {
      "text/html": [
       "<pre style=\"white-space:pre;overflow-x:auto;line-height:normal;font-family:Menlo,'DejaVu Sans Mono',consolas,'Courier New',monospace\">\n",
       "</pre>\n"
      ],
      "text/plain": [
       "\n"
      ]
     },
     "metadata": {},
     "output_type": "display_data"
    },
    {
     "name": "stdout",
     "output_type": "stream",
     "text": [
      "Runtime: 0.53 minutes\n",
      "bkg_2018_WJets\n"
     ]
    },
    {
     "data": {
      "application/vnd.jupyter.widget-view+json": {
       "model_id": "ed0005e035db406fa07231a0a4b13455",
       "version_major": 2,
       "version_minor": 0
      },
      "text/plain": [
       "Output()"
      ]
     },
     "metadata": {},
     "output_type": "display_data"
    },
    {
     "data": {
      "text/html": [
       "<pre style=\"white-space:pre;overflow-x:auto;line-height:normal;font-family:Menlo,'DejaVu Sans Mono',consolas,'Courier New',monospace\"></pre>\n"
      ],
      "text/plain": []
     },
     "metadata": {},
     "output_type": "display_data"
    },
    {
     "data": {
      "text/html": [
       "<pre style=\"white-space:pre;overflow-x:auto;line-height:normal;font-family:Menlo,'DejaVu Sans Mono',consolas,'Courier New',monospace\">\n",
       "</pre>\n"
      ],
      "text/plain": [
       "\n"
      ]
     },
     "metadata": {},
     "output_type": "display_data"
    },
    {
     "data": {
      "application/vnd.jupyter.widget-view+json": {
       "model_id": "8e1e4b009b594c04b8284df946e44bb8",
       "version_major": 2,
       "version_minor": 0
      },
      "text/plain": [
       "Output()"
      ]
     },
     "metadata": {},
     "output_type": "display_data"
    },
    {
     "name": "stdout",
     "output_type": "stream",
     "text": [
      "Pass: 1/28\n",
      "Pass: 2/151\n",
      "Pass: 3/487\n",
      "Pass: 0/583\n",
      "Pass: 0/255\n",
      "Pass: 0/130\n",
      "Pass: 0/270\n",
      "Pass: 0/273\n",
      "Pass: 0/271\n",
      "Pass: 0/280\n",
      "Pass: 0/262\n",
      "Pass: 0/141\n",
      "Pass: 0/137\n",
      "Pass: 0/100\n",
      "Pass: 0/526\n",
      "Pass: 1/1086\n",
      "Pass: 1/389Pass: 1/1160\n",
      "Pass: 0/319\n",
      "Pass: 1/367\n",
      "Pass: 1/365\n",
      "Pass: 0/321\n",
      "Pass: 0/1369\n",
      "Pass: 0/346\n",
      "Pass: 1/860\n",
      "Pass: 2/2248\n",
      "Pass: 3/2786\n",
      "Pass: 0/333Pass: 6/2752\n",
      "\n",
      "Pass: 1/348\n",
      "Pass: 0/355\n",
      "Pass: 0/359\n",
      "Pass: 3/1480\n",
      "Pass: 1/236\n",
      "Pass: 2/190\n",
      "Pass: 1/2781\n",
      "Pass: 5/2806\n",
      "Pass: 0/223\n",
      "Pass: 1/687\n",
      "Pass: 0/371\n",
      "Pass: 1/333\n",
      "Pass: 0/326\n"
     ]
    },
    {
     "data": {
      "text/html": [
       "<pre style=\"white-space:pre;overflow-x:auto;line-height:normal;font-family:Menlo,'DejaVu Sans Mono',consolas,'Courier New',monospace\"></pre>\n"
      ],
      "text/plain": []
     },
     "metadata": {},
     "output_type": "display_data"
    },
    {
     "data": {
      "text/html": [
       "<pre style=\"white-space:pre;overflow-x:auto;line-height:normal;font-family:Menlo,'DejaVu Sans Mono',consolas,'Courier New',monospace\">\n",
       "</pre>\n"
      ],
      "text/plain": [
       "\n"
      ]
     },
     "metadata": {},
     "output_type": "display_data"
    },
    {
     "name": "stdout",
     "output_type": "stream",
     "text": [
      "Runtime: 3.21 minutes\n",
      "bkg_2018_ZJets\n"
     ]
    },
    {
     "data": {
      "application/vnd.jupyter.widget-view+json": {
       "model_id": "62445042ff574bb49341db6947d56aae",
       "version_major": 2,
       "version_minor": 0
      },
      "text/plain": [
       "Output()"
      ]
     },
     "metadata": {},
     "output_type": "display_data"
    },
    {
     "data": {
      "text/html": [
       "<pre style=\"white-space:pre;overflow-x:auto;line-height:normal;font-family:Menlo,'DejaVu Sans Mono',consolas,'Courier New',monospace\"></pre>\n"
      ],
      "text/plain": []
     },
     "metadata": {},
     "output_type": "display_data"
    },
    {
     "data": {
      "text/html": [
       "<pre style=\"white-space:pre;overflow-x:auto;line-height:normal;font-family:Menlo,'DejaVu Sans Mono',consolas,'Courier New',monospace\">\n",
       "</pre>\n"
      ],
      "text/plain": [
       "\n"
      ]
     },
     "metadata": {},
     "output_type": "display_data"
    },
    {
     "data": {
      "application/vnd.jupyter.widget-view+json": {
       "model_id": "6d6b7fa7e0e54cc480bbd60bd8f27f9a",
       "version_major": 2,
       "version_minor": 0
      },
      "text/plain": [
       "Output()"
      ]
     },
     "metadata": {},
     "output_type": "display_data"
    },
    {
     "name": "stdout",
     "output_type": "stream",
     "text": [
      "Pass: 0/42\n",
      "Pass: 0/550\n",
      "Pass: 0/522\n",
      "Pass: 0/393\n",
      "Pass: 0/203\n",
      "Pass: 0/391\n",
      "Pass: 0/237\n",
      "Pass: 3/2489\n",
      "Pass: 3/3355\n",
      "Pass: 5/5546\n",
      "Pass: 0/5643\n"
     ]
    }
   ],
   "source": [
    "for bkg in bkg_configs:\n",
    "    process = bkg.split('/')[-1].split('.json')[0].split('skimmed_')[-1]\n",
    "    print(process)\n",
    "\n",
    "    if 'TTJetsDiLept' in bkg: # currently not available ntuples\n",
    "        continue\n",
    "    \n",
    "    test = Analyzer(bkg,histos_config,cuts_config) \n",
    "        \n",
    "    t1 = time.time()\n",
    "    out = test.process(execr='futures')\n",
    "    t2 = time.time()\n",
    "        \n",
    "    print(\"Runtime: {:.2f} minutes\".format((t2-t1)/60))\n",
    "    util.save(out,f\"{outdir}/{process}_SR_BDT-based_ctau-{ct}_trained_5to50.coffea\")\n",
    "    del out, test"
   ]
  },
  {
   "cell_type": "code",
   "execution_count": null,
   "id": "125db5a0-cabf-4ba4-9980-0fe99b43ff66",
   "metadata": {},
   "outputs": [],
   "source": []
  }
 ],
 "metadata": {
  "kernelspec": {
   "display_name": "Python 3 (ipykernel)",
   "language": "python",
   "name": "python3"
  },
  "language_info": {
   "codemirror_mode": {
    "name": "ipython",
    "version": 3
   },
   "file_extension": ".py",
   "mimetype": "text/x-python",
   "name": "python",
   "nbconvert_exporter": "python",
   "pygments_lexer": "ipython3",
   "version": "3.8.17"
  }
 },
 "nbformat": 4,
 "nbformat_minor": 5
}
