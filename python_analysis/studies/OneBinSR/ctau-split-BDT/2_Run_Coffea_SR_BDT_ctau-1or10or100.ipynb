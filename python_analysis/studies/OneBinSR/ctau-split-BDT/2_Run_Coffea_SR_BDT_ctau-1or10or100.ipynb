{
 "cells": [
  {
   "cell_type": "code",
   "execution_count": 1,
   "id": "e669ba8e-d8ae-45e9-bdac-9dabb1da3557",
   "metadata": {},
   "outputs": [],
   "source": [
    "%load_ext autoreload\n",
    "%autoreload 2\n",
    "import numpy as np\n",
    "import matplotlib.pyplot as plt\n",
    "import awkward as ak\n",
    "import sys\n",
    "sys.path.append(\"../../../analysisTools/\")\n",
    "from analysisTools import Analyzer\n",
    "from analysisTools import loadSchema\n",
    "import analysisTools as tools\n",
    "import analysisSubroutines as routines\n",
    "import importlib\n",
    "import coffea.util as util\n",
    "import time\n",
    "import json\n",
    "import os\n",
    "import glob"
   ]
  },
  {
   "cell_type": "code",
   "execution_count": 2,
   "id": "c59aff4f-6762-4e07-957a-349d22652fad",
   "metadata": {},
   "outputs": [],
   "source": [
    "outdir = \"./coffea/\"\n",
    "if not os.path.isdir(outdir):\n",
    "    os.mkdir(outdir)"
   ]
  },
  {
   "cell_type": "code",
   "execution_count": 3,
   "id": "73201266-7873-48cb-b6b9-ea70e7703e5b",
   "metadata": {},
   "outputs": [],
   "source": [
    "outdir = \"./coffea/skimmed/\"\n",
    "if not os.path.isdir(outdir):\n",
    "    os.mkdir(outdir)"
   ]
  },
  {
   "cell_type": "code",
   "execution_count": 4,
   "id": "c72681ac-a0f5-402a-8a80-d5f17505b69c",
   "metadata": {},
   "outputs": [],
   "source": [
    "cuts_config = \"./cut_configs/BDT_ctau-1or10or100.py\"\n",
    "histos_config = \"./histo_configs/displacement.py\""
   ]
  },
  {
   "cell_type": "markdown",
   "id": "d248ae59-1cd0-45e3-91a1-3462012c6a27",
   "metadata": {},
   "source": [
    "### Signal"
   ]
  },
  {
   "cell_type": "code",
   "execution_count": 5,
   "id": "e0ecc4e0-151c-408b-b400-381d1e1a973e",
   "metadata": {},
   "outputs": [],
   "source": [
    "sample_config = f\"./sample_configs/skimmed_sig_v2_mA_3m1_2018_aEM.json\""
   ]
  },
  {
   "cell_type": "code",
   "execution_count": 6,
   "id": "02537ff8-2bb2-4752-bed0-a504affad525",
   "metadata": {},
   "outputs": [
    {
     "data": {
      "application/vnd.jupyter.widget-view+json": {
       "model_id": "55d3ec8b05a9414a83901fa194736713",
       "version_major": 2,
       "version_minor": 0
      },
      "text/plain": [
       "Output()"
      ]
     },
     "metadata": {},
     "output_type": "display_data"
    },
    {
     "data": {
      "text/html": [
       "<pre style=\"white-space:pre;overflow-x:auto;line-height:normal;font-family:Menlo,'DejaVu Sans Mono',consolas,'Courier New',monospace\"></pre>\n"
      ],
      "text/plain": []
     },
     "metadata": {},
     "output_type": "display_data"
    },
    {
     "data": {
      "text/html": [
       "<pre style=\"white-space:pre;overflow-x:auto;line-height:normal;font-family:Menlo,'DejaVu Sans Mono',consolas,'Courier New',monospace\">\n",
       "</pre>\n"
      ],
      "text/plain": [
       "\n"
      ]
     },
     "metadata": {},
     "output_type": "display_data"
    },
    {
     "data": {
      "application/vnd.jupyter.widget-view+json": {
       "model_id": "c48f8b6a667a41e2b2d8a256063a0641",
       "version_major": 2,
       "version_minor": 0
      },
      "text/plain": [
       "Output()"
      ]
     },
     "metadata": {},
     "output_type": "display_data"
    },
    {
     "name": "stdout",
     "output_type": "stream",
     "text": [
      "BDT Pass: 901/2173\n",
      "BDT Pass: 778/2261\n",
      "BDT Pass: 2924/4904\n",
      "BDT Pass: 3676/6023\n",
      "BDT Pass: 2127/4163\n",
      "BDT Pass: 402/972\n",
      "BDT Pass: 706/1132\n",
      "BDT Pass: 4152/7883\n",
      "BDT Pass: 625/1300\n",
      "BDT Pass: 270/782\n",
      "BDT Pass: 1050/2053\n",
      "BDT Pass: 248/666\n",
      "BDT Pass: 857/1494\n",
      "BDT Pass: 1225/1963\n",
      "BDT Pass: 226/757\n",
      "BDT Pass: 673/1370\n",
      "BDT Pass: 1020/2005BDT Pass: 181/600\n",
      "\n",
      "BDT Pass: 607/1364\n",
      "BDT Pass: 842/1665\n",
      "BDT Pass: 185/457\n",
      "BDT Pass: 619/1014\n",
      "BDT Pass: 947/1436\n",
      "BDT Pass: 18/147\n",
      "BDT Pass: 91/254\n",
      "BDT Pass: 202/413\n",
      "BDT Pass: 67/666\n",
      "BDT Pass: 174/432\n",
      "BDT Pass: 108/361\n",
      "BDT Pass: 196/590\n",
      "\n",
      "BDT Pass: 83/127\n",
      "BDT Pass: 345/1244\n",
      "BDT Pass: 1033/2090\n",
      "BDT Pass: 702/1542\n",
      "BDT Pass: 257/821\n",
      "BDT Pass: 590/1111\n",
      "BDT Pass: 529/1149\n",
      "BDT Pass: 724/1257\n",
      "BDT Pass: 322/1222\n",
      "BDT Pass: 689/1363\n",
      "BDT Pass: 108/394\n",
      "BDT Pass: 761/1282\n",
      "BDT Pass: 447/834\n",
      "BDT Pass: 498/1175\n",
      "BDT Pass: 223/1027\n",
      "BDT Pass: 117/436\n",
      "BDT Pass: 579/1237\n",
      "BDT Pass: 408/810\n",
      "BDT Pass: 541/989\n",
      "BDT Pass: 239/660\n",
      "BDT Pass: 106/576\n",
      "BDT Pass: 63/342\n",
      "BDT Pass: 478/1023\n",
      "BDT Pass: 241/585\n",
      "BDT Pass: 398/796\n",
      "BDT Pass: 560/1230\n",
      "BDT Pass: 1705/2858\n",
      "BDT Pass: 2125/3554\n",
      "BDT Pass: 121/776\n",
      "BDT Pass: 260/698\n",
      "BDT Pass: 383/866\n",
      "BDT Pass: 1196/3281\n",
      "BDT Pass: 3445/6669BDT Pass: 5258/9799\n"
     ]
    },
    {
     "data": {
      "text/html": [
       "<pre style=\"white-space:pre;overflow-x:auto;line-height:normal;font-family:Menlo,'DejaVu Sans Mono',consolas,'Courier New',monospace\"></pre>\n"
      ],
      "text/plain": []
     },
     "metadata": {},
     "output_type": "display_data"
    },
    {
     "data": {
      "text/html": [
       "<pre style=\"white-space:pre;overflow-x:auto;line-height:normal;font-family:Menlo,'DejaVu Sans Mono',consolas,'Courier New',monospace\">\n",
       "</pre>\n"
      ],
      "text/plain": [
       "\n"
      ]
     },
     "metadata": {},
     "output_type": "display_data"
    },
    {
     "name": "stdout",
     "output_type": "stream",
     "text": [
      "Runtime: 19.16 minutes\n"
     ]
    }
   ],
   "source": [
    "test = Analyzer(sample_config,histos_config,cuts_config, max_samples=-1) # run over all samples in the config\n",
    "\n",
    "t1 = time.time()\n",
    "out = test.process(execr='futures')\n",
    "t2 = time.time()\n",
    "\n",
    "print(\"Runtime: {:.2f} minutes\".format((t2-t1)/60))\n",
    "util.save(out,f\"{outdir}/signal_SR_BDT_ctau-1or10or100.coffea\")\n",
    "\n",
    "del out, test"
   ]
  },
  {
   "cell_type": "markdown",
   "id": "97b2ff87-c610-4e5a-9d3d-0255d980dbe3",
   "metadata": {},
   "source": [
    "### Background"
   ]
  },
  {
   "cell_type": "code",
   "execution_count": 7,
   "id": "c65bc29b-bfda-48ed-84d4-7ea8f8eded39",
   "metadata": {},
   "outputs": [
    {
     "name": "stdout",
     "output_type": "stream",
     "text": [
      "['../../../configs/sample_configs/skimmed_bkg_2018_DY.json', '../../../configs/sample_configs/skimmed_bkg_2018_Diboson.json', '../../../configs/sample_configs/skimmed_bkg_2018_QCD_TuneCP5_PSWeights.json', '../../../configs/sample_configs/skimmed_bkg_2018_TTJetsDiLept.json', '../../../configs/sample_configs/skimmed_bkg_2018_Top.json', '../../../configs/sample_configs/skimmed_bkg_2018_Triboson.json', '../../../configs/sample_configs/skimmed_bkg_2018_WJets.json', '../../../configs/sample_configs/skimmed_bkg_2018_ZJets.json']\n"
     ]
    }
   ],
   "source": [
    "bkg_configs = glob.glob(\"../../../configs/sample_configs/skimmed_bkg*.json\")\n",
    "\n",
    "print(bkg_configs)"
   ]
  },
  {
   "cell_type": "code",
   "execution_count": 8,
   "id": "f7af452c-6938-4868-8307-bd0f6b2e330d",
   "metadata": {},
   "outputs": [
    {
     "name": "stdout",
     "output_type": "stream",
     "text": [
      "bkg_2018_DY\n"
     ]
    },
    {
     "data": {
      "application/vnd.jupyter.widget-view+json": {
       "model_id": "9e02d8274b304e63989817d884eebe6b",
       "version_major": 2,
       "version_minor": 0
      },
      "text/plain": [
       "Output()"
      ]
     },
     "metadata": {},
     "output_type": "display_data"
    },
    {
     "data": {
      "text/html": [
       "<pre style=\"white-space:pre;overflow-x:auto;line-height:normal;font-family:Menlo,'DejaVu Sans Mono',consolas,'Courier New',monospace\"></pre>\n"
      ],
      "text/plain": []
     },
     "metadata": {},
     "output_type": "display_data"
    },
    {
     "data": {
      "text/html": [
       "<pre style=\"white-space:pre;overflow-x:auto;line-height:normal;font-family:Menlo,'DejaVu Sans Mono',consolas,'Courier New',monospace\">\n",
       "</pre>\n"
      ],
      "text/plain": [
       "\n"
      ]
     },
     "metadata": {},
     "output_type": "display_data"
    },
    {
     "data": {
      "application/vnd.jupyter.widget-view+json": {
       "model_id": "bcaede101678433d886b70d6633964b0",
       "version_major": 2,
       "version_minor": 0
      },
      "text/plain": [
       "Output()"
      ]
     },
     "metadata": {},
     "output_type": "display_data"
    },
    {
     "name": "stdout",
     "output_type": "stream",
     "text": [
      "BDT Pass: 1/2\n",
      "BDT Pass: 0/1\n",
      "BDT Pass: 0/1\n",
      "BDT Pass: 0/1\n",
      "BDT Pass: 0/2\n",
      "BDT Pass: 0/2\n"
     ]
    },
    {
     "data": {
      "text/html": [
       "<pre style=\"white-space:pre;overflow-x:auto;line-height:normal;font-family:Menlo,'DejaVu Sans Mono',consolas,'Courier New',monospace\"></pre>\n"
      ],
      "text/plain": []
     },
     "metadata": {},
     "output_type": "display_data"
    },
    {
     "data": {
      "text/html": [
       "<pre style=\"white-space:pre;overflow-x:auto;line-height:normal;font-family:Menlo,'DejaVu Sans Mono',consolas,'Courier New',monospace\">\n",
       "</pre>\n"
      ],
      "text/plain": [
       "\n"
      ]
     },
     "metadata": {},
     "output_type": "display_data"
    },
    {
     "name": "stdout",
     "output_type": "stream",
     "text": [
      "Runtime: 1.07 minutes\n",
      "bkg_2018_Diboson\n"
     ]
    },
    {
     "data": {
      "application/vnd.jupyter.widget-view+json": {
       "model_id": "1b47364120d2466e8684b2bd830aa7b3",
       "version_major": 2,
       "version_minor": 0
      },
      "text/plain": [
       "Output()"
      ]
     },
     "metadata": {},
     "output_type": "display_data"
    },
    {
     "data": {
      "text/html": [
       "<pre style=\"white-space:pre;overflow-x:auto;line-height:normal;font-family:Menlo,'DejaVu Sans Mono',consolas,'Courier New',monospace\"></pre>\n"
      ],
      "text/plain": []
     },
     "metadata": {},
     "output_type": "display_data"
    },
    {
     "data": {
      "text/html": [
       "<pre style=\"white-space:pre;overflow-x:auto;line-height:normal;font-family:Menlo,'DejaVu Sans Mono',consolas,'Courier New',monospace\">\n",
       "</pre>\n"
      ],
      "text/plain": [
       "\n"
      ]
     },
     "metadata": {},
     "output_type": "display_data"
    },
    {
     "data": {
      "application/vnd.jupyter.widget-view+json": {
       "model_id": "93f97de5e2614d31b8d31538aac09a86",
       "version_major": 2,
       "version_minor": 0
      },
      "text/plain": [
       "Output()"
      ]
     },
     "metadata": {},
     "output_type": "display_data"
    },
    {
     "name": "stdout",
     "output_type": "stream",
     "text": [
      "BDT Pass: 1/90\n",
      "BDT Pass: 3/146\n",
      "BDT Pass: 3/91\n",
      "BDT Pass: 0/91\n",
      "BDT Pass: 3/29\n",
      "BDT Pass: 5/112\n",
      "BDT Pass: 2/100\n",
      "BDT Pass: 1/108\n"
     ]
    },
    {
     "data": {
      "text/html": [
       "<pre style=\"white-space:pre;overflow-x:auto;line-height:normal;font-family:Menlo,'DejaVu Sans Mono',consolas,'Courier New',monospace\"></pre>\n"
      ],
      "text/plain": []
     },
     "metadata": {},
     "output_type": "display_data"
    },
    {
     "data": {
      "text/html": [
       "<pre style=\"white-space:pre;overflow-x:auto;line-height:normal;font-family:Menlo,'DejaVu Sans Mono',consolas,'Courier New',monospace\">\n",
       "</pre>\n"
      ],
      "text/plain": [
       "\n"
      ]
     },
     "metadata": {},
     "output_type": "display_data"
    },
    {
     "name": "stdout",
     "output_type": "stream",
     "text": [
      "Runtime: 0.65 minutes\n",
      "bkg_2018_QCD_TuneCP5_PSWeights\n"
     ]
    },
    {
     "data": {
      "application/vnd.jupyter.widget-view+json": {
       "model_id": "2bdbddfcad90483ca615071af86a7914",
       "version_major": 2,
       "version_minor": 0
      },
      "text/plain": [
       "Output()"
      ]
     },
     "metadata": {},
     "output_type": "display_data"
    },
    {
     "data": {
      "text/html": [
       "<pre style=\"white-space:pre;overflow-x:auto;line-height:normal;font-family:Menlo,'DejaVu Sans Mono',consolas,'Courier New',monospace\"></pre>\n"
      ],
      "text/plain": []
     },
     "metadata": {},
     "output_type": "display_data"
    },
    {
     "data": {
      "text/html": [
       "<pre style=\"white-space:pre;overflow-x:auto;line-height:normal;font-family:Menlo,'DejaVu Sans Mono',consolas,'Courier New',monospace\">\n",
       "</pre>\n"
      ],
      "text/plain": [
       "\n"
      ]
     },
     "metadata": {},
     "output_type": "display_data"
    },
    {
     "data": {
      "application/vnd.jupyter.widget-view+json": {
       "model_id": "de179417a8d54be0a4f16cd6589284fe",
       "version_major": 2,
       "version_minor": 0
      },
      "text/plain": [
       "Output()"
      ]
     },
     "metadata": {},
     "output_type": "display_data"
    },
    {
     "name": "stdout",
     "output_type": "stream",
     "text": [
      "BDT Pass: 0/1\n",
      "BDT Pass: 0/1\n",
      "BDT Pass: 0/1\n"
     ]
    },
    {
     "data": {
      "text/html": [
       "<pre style=\"white-space:pre;overflow-x:auto;line-height:normal;font-family:Menlo,'DejaVu Sans Mono',consolas,'Courier New',monospace\"></pre>\n"
      ],
      "text/plain": []
     },
     "metadata": {},
     "output_type": "display_data"
    },
    {
     "data": {
      "text/html": [
       "<pre style=\"white-space:pre;overflow-x:auto;line-height:normal;font-family:Menlo,'DejaVu Sans Mono',consolas,'Courier New',monospace\">\n",
       "</pre>\n"
      ],
      "text/plain": [
       "\n"
      ]
     },
     "metadata": {},
     "output_type": "display_data"
    },
    {
     "name": "stdout",
     "output_type": "stream",
     "text": [
      "Runtime: 2.72 minutes\n",
      "bkg_2018_TTJetsDiLept\n",
      "bkg_2018_Top\n"
     ]
    },
    {
     "data": {
      "application/vnd.jupyter.widget-view+json": {
       "model_id": "21dc7cc68ad24791a8515a47218694c2",
       "version_major": 2,
       "version_minor": 0
      },
      "text/plain": [
       "Output()"
      ]
     },
     "metadata": {},
     "output_type": "display_data"
    },
    {
     "data": {
      "text/html": [
       "<pre style=\"white-space:pre;overflow-x:auto;line-height:normal;font-family:Menlo,'DejaVu Sans Mono',consolas,'Courier New',monospace\"></pre>\n"
      ],
      "text/plain": []
     },
     "metadata": {},
     "output_type": "display_data"
    },
    {
     "data": {
      "text/html": [
       "<pre style=\"white-space:pre;overflow-x:auto;line-height:normal;font-family:Menlo,'DejaVu Sans Mono',consolas,'Courier New',monospace\">\n",
       "</pre>\n"
      ],
      "text/plain": [
       "\n"
      ]
     },
     "metadata": {},
     "output_type": "display_data"
    },
    {
     "data": {
      "application/vnd.jupyter.widget-view+json": {
       "model_id": "98f5c6ebf9d14a438e029f9c3a04877c",
       "version_major": 2,
       "version_minor": 0
      },
      "text/plain": [
       "Output()"
      ]
     },
     "metadata": {},
     "output_type": "display_data"
    },
    {
     "name": "stdout",
     "output_type": "stream",
     "text": [
      "BDT Pass: 0/24\n",
      "BDT Pass: 1/22\n",
      "BDT Pass: 0/12\n",
      "BDT Pass: 0/17\n",
      "BDT Pass: 0/15\n",
      "BDT Pass: 1/9\n",
      "BDT Pass: 0/9\n",
      "BDT Pass: 0/22\n",
      "BDT Pass: 0/6\n",
      "BDT Pass: 1/3\n",
      "BDT Pass: 0/6\n",
      "BDT Pass: 0/29\n",
      "BDT Pass: 1/23\n",
      "\n",
      "BDT Pass: 0/18\n",
      "BDT Pass: 1/26\n",
      "BDT Pass: 0/6\n",
      "BDT Pass: 0/7\n",
      "BDT Pass: 0/20\n",
      "BDT Pass: 0/28\n",
      "BDT Pass: 0/34\n",
      "BDT Pass: 0/30\n",
      "BDT Pass: 0/28\n",
      "BDT Pass: 0/23\n",
      "BDT Pass: 2/17\n",
      "BDT Pass: 0/25\n",
      "BDT Pass: 1/31\n",
      "BDT Pass: 0/7\n",
      "BDT Pass: 0/10\n",
      "BDT Pass: 0/13\n",
      "BDT Pass: 1/24\n",
      "BDT Pass: 0/13\n",
      "BDT Pass: 0/17\n",
      "BDT Pass: 2/52\n",
      "BDT Pass: 1/53\n",
      "BDT Pass: 2/42\n",
      "BDT Pass: 0/56\n",
      "BDT Pass: 0/5\n",
      "BDT Pass: 0/14\n",
      "BDT Pass: 0/7\n",
      "BDT Pass: 0/20\n",
      "BDT Pass: 0/6\n",
      "BDT Pass: 0/4\n",
      "BDT Pass: 2/40\n",
      "BDT Pass: 1/43\n",
      "BDT Pass: 0/10\n",
      "BDT Pass: 2/47\n",
      "BDT Pass: 1/32\n",
      "BDT Pass: 0/9\n",
      "BDT Pass: 0/6\n",
      "BDT Pass: 0/7\n",
      "BDT Pass: 1/8\n",
      "BDT Pass: 1/24\n",
      "BDT Pass: 3/51\n",
      "BDT Pass: 1/39\n",
      "BDT Pass: 1/31\n",
      "BDT Pass: 0/23\n",
      "BDT Pass: 0/3\n",
      "BDT Pass: 0/49\n",
      "BDT Pass: 1/6\n",
      "BDT Pass: 0/9\n",
      "BDT Pass: 0/11\n",
      "BDT Pass: 0/5\n",
      "BDT Pass: 0/8\n",
      "BDT Pass: 0/8\n",
      "BDT Pass: 1/42\n",
      "BDT Pass: 2/35\n",
      "BDT Pass: 0/40\n",
      "BDT Pass: 0/35\n",
      "BDT Pass: 0/8\n",
      "BDT Pass: 0/22\n",
      "BDT Pass: 1/10\n",
      "BDT Pass: 0/8\n",
      "BDT Pass: 0/8\n",
      "BDT Pass: 0/5\n",
      "BDT Pass: 1/26\n",
      "BDT Pass: 2/41\n",
      "BDT Pass: 0/30\n",
      "BDT Pass: 0/20\n",
      "BDT Pass: 0/37\n",
      "BDT Pass: 1/10\n",
      "BDT Pass: 0/12\n",
      "BDT Pass: 0/5\n",
      "BDT Pass: 0/11\n",
      "BDT Pass: 0/10\n",
      "BDT Pass: 0/7\n",
      "BDT Pass: 0/7\n",
      "BDT Pass: 1/40\n",
      "BDT Pass: 3/33\n",
      "BDT Pass: 1/40\n",
      "BDT Pass: 2/50\n",
      "BDT Pass: 0/18\n",
      "BDT Pass: 0/23BDT Pass: 0/12\n",
      "\n",
      "BDT Pass: 0/15\n",
      "BDT Pass: 0/8\n",
      "BDT Pass: 0/7\n"
     ]
    },
    {
     "data": {
      "text/html": [
       "<pre style=\"white-space:pre;overflow-x:auto;line-height:normal;font-family:Menlo,'DejaVu Sans Mono',consolas,'Courier New',monospace\"></pre>\n"
      ],
      "text/plain": []
     },
     "metadata": {},
     "output_type": "display_data"
    },
    {
     "data": {
      "text/html": [
       "<pre style=\"white-space:pre;overflow-x:auto;line-height:normal;font-family:Menlo,'DejaVu Sans Mono',consolas,'Courier New',monospace\">\n",
       "</pre>\n"
      ],
      "text/plain": [
       "\n"
      ]
     },
     "metadata": {},
     "output_type": "display_data"
    },
    {
     "name": "stdout",
     "output_type": "stream",
     "text": [
      "Runtime: 5.24 minutes\n",
      "bkg_2018_Triboson\n"
     ]
    },
    {
     "data": {
      "application/vnd.jupyter.widget-view+json": {
       "model_id": "4716559a368e4cb695ebe79aa1ef8195",
       "version_major": 2,
       "version_minor": 0
      },
      "text/plain": [
       "Output()"
      ]
     },
     "metadata": {},
     "output_type": "display_data"
    },
    {
     "data": {
      "text/html": [
       "<pre style=\"white-space:pre;overflow-x:auto;line-height:normal;font-family:Menlo,'DejaVu Sans Mono',consolas,'Courier New',monospace\"></pre>\n"
      ],
      "text/plain": []
     },
     "metadata": {},
     "output_type": "display_data"
    },
    {
     "data": {
      "text/html": [
       "<pre style=\"white-space:pre;overflow-x:auto;line-height:normal;font-family:Menlo,'DejaVu Sans Mono',consolas,'Courier New',monospace\">\n",
       "</pre>\n"
      ],
      "text/plain": [
       "\n"
      ]
     },
     "metadata": {},
     "output_type": "display_data"
    },
    {
     "data": {
      "application/vnd.jupyter.widget-view+json": {
       "model_id": "2bc406e35ace4a818480ff411eeb95c3",
       "version_major": 2,
       "version_minor": 0
      },
      "text/plain": [
       "Output()"
      ]
     },
     "metadata": {},
     "output_type": "display_data"
    },
    {
     "name": "stdout",
     "output_type": "stream",
     "text": [
      "BDT Pass: 0/35BDT Pass: 1/26\n",
      "\n",
      "BDT Pass: 0/18\n"
     ]
    },
    {
     "data": {
      "text/html": [
       "<pre style=\"white-space:pre;overflow-x:auto;line-height:normal;font-family:Menlo,'DejaVu Sans Mono',consolas,'Courier New',monospace\"></pre>\n"
      ],
      "text/plain": []
     },
     "metadata": {},
     "output_type": "display_data"
    },
    {
     "data": {
      "text/html": [
       "<pre style=\"white-space:pre;overflow-x:auto;line-height:normal;font-family:Menlo,'DejaVu Sans Mono',consolas,'Courier New',monospace\">\n",
       "</pre>\n"
      ],
      "text/plain": [
       "\n"
      ]
     },
     "metadata": {},
     "output_type": "display_data"
    },
    {
     "name": "stdout",
     "output_type": "stream",
     "text": [
      "Runtime: 0.37 minutes\n",
      "bkg_2018_WJets\n"
     ]
    },
    {
     "data": {
      "application/vnd.jupyter.widget-view+json": {
       "model_id": "5f1abf969ce84a6a8ac35145198e3064",
       "version_major": 2,
       "version_minor": 0
      },
      "text/plain": [
       "Output()"
      ]
     },
     "metadata": {},
     "output_type": "display_data"
    },
    {
     "data": {
      "text/html": [
       "<pre style=\"white-space:pre;overflow-x:auto;line-height:normal;font-family:Menlo,'DejaVu Sans Mono',consolas,'Courier New',monospace\"></pre>\n"
      ],
      "text/plain": []
     },
     "metadata": {},
     "output_type": "display_data"
    },
    {
     "data": {
      "text/html": [
       "<pre style=\"white-space:pre;overflow-x:auto;line-height:normal;font-family:Menlo,'DejaVu Sans Mono',consolas,'Courier New',monospace\">\n",
       "</pre>\n"
      ],
      "text/plain": [
       "\n"
      ]
     },
     "metadata": {},
     "output_type": "display_data"
    },
    {
     "data": {
      "application/vnd.jupyter.widget-view+json": {
       "model_id": "0bffa8ad9201421b8d338abac967fc8e",
       "version_major": 2,
       "version_minor": 0
      },
      "text/plain": [
       "Output()"
      ]
     },
     "metadata": {},
     "output_type": "display_data"
    },
    {
     "name": "stdout",
     "output_type": "stream",
     "text": [
      "BDT Pass: 2/28\n",
      "BDT Pass: 4/151\n",
      "BDT Pass: 7/583\n",
      "BDT Pass: 17/487\n",
      "BDT Pass: 3/255\n",
      "BDT Pass: 2/130\n",
      "BDT Pass: 1/273\n",
      "BDT Pass: 5/270\n",
      "BDT Pass: 2/280\n",
      "BDT Pass: 2/271\n",
      "BDT Pass: 0/100\n",
      "BDT Pass: 3/262\n",
      "BDT Pass: 3/137\n",
      "BDT Pass: 0/141\n",
      "BDT Pass: 5/526\n",
      "BDT Pass: 16/1086\n",
      "BDT Pass: 17/1160\n",
      "BDT Pass: 6/389\n",
      "BDT Pass: 5/319\n",
      "BDT Pass: 4/365\n",
      "BDT Pass: 2/321\n",
      "BDT Pass: 6/367\n",
      "BDT Pass: 20/1369\n",
      "BDT Pass: 9/346\n",
      "BDT Pass: 36/2248\n",
      "BDT Pass: 13/860\n",
      "BDT Pass: 33/2786\n",
      "BDT Pass: 40/2752\n",
      "BDT Pass: 7/333\n",
      "BDT Pass: 2/348\n",
      "BDT Pass: 6/355\n",
      "BDT Pass: 4/359\n",
      "BDT Pass: 21/1480\n",
      "BDT Pass: 7/236\n",
      "BDT Pass: 8/190\n",
      "BDT Pass: 47/2781\n",
      "BDT Pass: 33/2806\n",
      "BDT Pass: 6/223\n",
      "BDT Pass: 17/687\n",
      "BDT Pass: 7/333\n",
      "BDT Pass: 7/371\n",
      "BDT Pass: 7/326\n"
     ]
    },
    {
     "data": {
      "text/html": [
       "<pre style=\"white-space:pre;overflow-x:auto;line-height:normal;font-family:Menlo,'DejaVu Sans Mono',consolas,'Courier New',monospace\"></pre>\n"
      ],
      "text/plain": []
     },
     "metadata": {},
     "output_type": "display_data"
    },
    {
     "data": {
      "text/html": [
       "<pre style=\"white-space:pre;overflow-x:auto;line-height:normal;font-family:Menlo,'DejaVu Sans Mono',consolas,'Courier New',monospace\">\n",
       "</pre>\n"
      ],
      "text/plain": [
       "\n"
      ]
     },
     "metadata": {},
     "output_type": "display_data"
    },
    {
     "name": "stdout",
     "output_type": "stream",
     "text": [
      "Runtime: 3.58 minutes\n",
      "bkg_2018_ZJets\n"
     ]
    },
    {
     "data": {
      "application/vnd.jupyter.widget-view+json": {
       "model_id": "9c018ef92a5e48139084f0db1b724c9d",
       "version_major": 2,
       "version_minor": 0
      },
      "text/plain": [
       "Output()"
      ]
     },
     "metadata": {},
     "output_type": "display_data"
    },
    {
     "data": {
      "text/html": [
       "<pre style=\"white-space:pre;overflow-x:auto;line-height:normal;font-family:Menlo,'DejaVu Sans Mono',consolas,'Courier New',monospace\"></pre>\n"
      ],
      "text/plain": []
     },
     "metadata": {},
     "output_type": "display_data"
    },
    {
     "data": {
      "text/html": [
       "<pre style=\"white-space:pre;overflow-x:auto;line-height:normal;font-family:Menlo,'DejaVu Sans Mono',consolas,'Courier New',monospace\">\n",
       "</pre>\n"
      ],
      "text/plain": [
       "\n"
      ]
     },
     "metadata": {},
     "output_type": "display_data"
    },
    {
     "data": {
      "application/vnd.jupyter.widget-view+json": {
       "model_id": "1476e665a4814419a24a907681ebcd04",
       "version_major": 2,
       "version_minor": 0
      },
      "text/plain": [
       "Output()"
      ]
     },
     "metadata": {},
     "output_type": "display_data"
    },
    {
     "name": "stdout",
     "output_type": "stream",
     "text": [
      "BDT Pass: 0/42\n",
      "BDT Pass: 3/522\n",
      "BDT Pass: 3/550\n",
      "BDT Pass: 0/393\n",
      "BDT Pass: 1/203\n",
      "BDT Pass: 2/391\n",
      "BDT Pass: 1/237\n",
      "BDT Pass: 15/2489\n",
      "BDT Pass: 16/3355\n",
      "BDT Pass: 21/5643\n",
      "BDT Pass: 31/5546\n",
      "BDT Pass: 21/4407\n",
      "BDT Pass: 0/7\n",
      "BDT Pass: 18/2605\n",
      "BDT Pass: 9/2630\n",
      "BDT Pass: 3/528\n",
      "BDT Pass: 11/2308\n",
      "BDT Pass: 14/2250\n",
      "BDT Pass: 6/1006\n",
      "BDT Pass: 21/3428\n",
      "BDT Pass: 18/2920\n",
      "BDT Pass: 14/3020\n"
     ]
    },
    {
     "data": {
      "text/html": [
       "<pre style=\"white-space:pre;overflow-x:auto;line-height:normal;font-family:Menlo,'DejaVu Sans Mono',consolas,'Courier New',monospace\"></pre>\n"
      ],
      "text/plain": []
     },
     "metadata": {},
     "output_type": "display_data"
    },
    {
     "data": {
      "text/html": [
       "<pre style=\"white-space:pre;overflow-x:auto;line-height:normal;font-family:Menlo,'DejaVu Sans Mono',consolas,'Courier New',monospace\">\n",
       "</pre>\n"
      ],
      "text/plain": [
       "\n"
      ]
     },
     "metadata": {},
     "output_type": "display_data"
    },
    {
     "name": "stdout",
     "output_type": "stream",
     "text": [
      "Runtime: 3.35 minutes\n"
     ]
    }
   ],
   "source": [
    "for bkg in bkg_configs:\n",
    "    process = bkg.split('/')[-1].split('.json')[0].split('skimmed_')[-1]\n",
    "    print(process)\n",
    "\n",
    "    if 'TTJetsDiLept' in bkg: # currently not available ntuples\n",
    "        continue\n",
    "    \n",
    "    test = Analyzer(bkg,histos_config,cuts_config) \n",
    "        \n",
    "    t1 = time.time()\n",
    "    out = test.process(execr='futures')\n",
    "    t2 = time.time()\n",
    "        \n",
    "    print(\"Runtime: {:.2f} minutes\".format((t2-t1)/60))\n",
    "    util.save(out,f\"{outdir}/{process}_SR_BDT_ctau-1or10or100.coffea\")\n",
    "    del out, test"
   ]
  },
  {
   "cell_type": "code",
   "execution_count": null,
   "id": "d70830a6-2cf8-49fb-8938-03d5ad12c8bf",
   "metadata": {},
   "outputs": [],
   "source": []
  },
  {
   "cell_type": "code",
   "execution_count": null,
   "id": "4c003b22-dcc7-4167-a67d-4b7f5de267d6",
   "metadata": {},
   "outputs": [],
   "source": []
  }
 ],
 "metadata": {
  "kernelspec": {
   "display_name": "Python 3 (ipykernel)",
   "language": "python",
   "name": "python3"
  },
  "language_info": {
   "codemirror_mode": {
    "name": "ipython",
    "version": 3
   },
   "file_extension": ".py",
   "mimetype": "text/x-python",
   "name": "python",
   "nbconvert_exporter": "python",
   "pygments_lexer": "ipython3",
   "version": "3.8.17"
  }
 },
 "nbformat": 4,
 "nbformat_minor": 5
}
