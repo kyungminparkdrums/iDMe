{
 "cells": [
  {
   "cell_type": "code",
   "execution_count": 1,
   "id": "d4d61483-80c6-4f62-bb66-25974ee99bea",
   "metadata": {},
   "outputs": [],
   "source": [
    "import json\n",
    "import uproot\n",
    "from XRootD import client\n",
    "import xgboost as xgb\n",
    "import os\n",
    "import sys\n",
    "sys.path.append(\"../../../analysisTools/\")\n",
    "from skimmerTools import Skimmer\n",
    "import coffea\n",
    "import coffea.util as util\n",
    "import numpy as np\n",
    "import awkward as ak\n",
    "import time\n",
    "import h5py"
   ]
  },
  {
   "cell_type": "markdown",
   "id": "2ebb8a1b-2f74-4d31-bed8-b54f0a96eff3",
   "metadata": {},
   "source": [
    "### Run Skimmers on skimmed ntuples with preselections, produce h5 files for BDT input"
   ]
  },
  {
   "cell_type": "code",
   "execution_count": 2,
   "id": "07767f63-0c71-45f1-a5dc-b970bc177b95",
   "metadata": {},
   "outputs": [
    {
     "data": {
      "text/plain": [
       "0"
      ]
     },
     "execution_count": 2,
     "metadata": {},
     "output_type": "execute_result"
    }
   ],
   "source": [
    "outdir = \"./h5/\"\n",
    "os.system(f\"mkdir -p {outdir}\")"
   ]
  },
  {
   "cell_type": "code",
   "execution_count": 3,
   "id": "ff83377c-7ec4-4d0c-9c9e-d1a1c410e93c",
   "metadata": {},
   "outputs": [],
   "source": [
    "def write_h5(data,fname):\n",
    "    with h5py.File(fname,'w') as f:\n",
    "        for k in data.keys():\n",
    "            arr = data[k].value\n",
    "            if type(arr) == np.ma.core.MaskedArray:\n",
    "                arr = arr.data\n",
    "            f.create_dataset(k,data=arr)"
   ]
  },
  {
   "cell_type": "code",
   "execution_count": 4,
   "id": "32a94ba3-48ac-47bb-8b11-e894cc0e30d5",
   "metadata": {},
   "outputs": [],
   "source": [
    "suffix = \"_TrueVertexForSignal\""
   ]
  },
  {
   "cell_type": "code",
   "execution_count": 5,
   "id": "ffd68739-5609-436f-9da9-c1816e0e3476",
   "metadata": {},
   "outputs": [],
   "source": [
    "cut_config = \"./cut_configs/BDTskimmer_preselections.py\""
   ]
  },
  {
   "cell_type": "code",
   "execution_count": 6,
   "id": "b9c766a6-35dc-4512-b63f-ab608ff03815",
   "metadata": {},
   "outputs": [],
   "source": [
    "ct = 1"
   ]
  },
  {
   "cell_type": "code",
   "execution_count": 7,
   "id": "36eaa6c8-1b21-4222-bdb5-3b54bc730263",
   "metadata": {},
   "outputs": [
    {
     "name": "stdout",
     "output_type": "stream",
     "text": [
      "['skimmed_sig_v2_mA_3m1_2018_aEM_ctau-1']\n",
      "['skimmed_bkg_2018_DY', 'skimmed_bkg_2018_Diboson', 'skimmed_bkg_2018_QCD_TuneCP5_PSWeights', 'skimmed_bkg_2018_TTJetsDiLept', 'skimmed_bkg_2018_Top', 'skimmed_bkg_2018_Triboson', 'skimmed_bkg_2018_WJets', 'skimmed_bkg_2018_ZJets']\n"
     ]
    }
   ],
   "source": [
    "sig_sample_json_dir = './sample_configs/'\n",
    "jsons = [f for f in os.listdir(sig_sample_json_dir) if \".json\" in f]\n",
    "\n",
    "signal_list = [ samp.split('.')[0] for samp in jsons if f\"skimmed_sig_v2_mA_3m1_2018_aEM_ctau-{ct}.\" in samp ]\n",
    "print(signal_list)\n",
    "\n",
    "bkg_sample_json_dir = '../../../configs/sample_configs/'\n",
    "jsons = [f for f in os.listdir(bkg_sample_json_dir) if \".json\" in f]\n",
    "\n",
    "bkg_list = [ samp.split('.')[0] for samp in jsons if \"skimmed_bkg\" in samp ]\n",
    "print(bkg_list)"
   ]
  },
  {
   "cell_type": "code",
   "execution_count": 8,
   "id": "0f996a24-e7be-4677-abb6-f5b1a5a6aaa3",
   "metadata": {},
   "outputs": [
    {
     "name": "stdout",
     "output_type": "stream",
     "text": [
      "Start analyzing: skimmed_sig_v2_mA_3m1_2018_aEM_ctau-1\n"
     ]
    },
    {
     "data": {
      "application/vnd.jupyter.widget-view+json": {
       "model_id": "662dca9587c04f92b527026a76e8549f",
       "version_major": 2,
       "version_minor": 0
      },
      "text/plain": [
       "Output()"
      ]
     },
     "metadata": {},
     "output_type": "display_data"
    },
    {
     "data": {
      "text/html": [
       "<pre style=\"white-space:pre;overflow-x:auto;line-height:normal;font-family:Menlo,'DejaVu Sans Mono',consolas,'Courier New',monospace\"></pre>\n"
      ],
      "text/plain": []
     },
     "metadata": {},
     "output_type": "display_data"
    },
    {
     "data": {
      "text/html": [
       "<pre style=\"white-space:pre;overflow-x:auto;line-height:normal;font-family:Menlo,'DejaVu Sans Mono',consolas,'Courier New',monospace\">\n",
       "</pre>\n"
      ],
      "text/plain": [
       "\n"
      ]
     },
     "metadata": {},
     "output_type": "display_data"
    },
    {
     "data": {
      "application/vnd.jupyter.widget-view+json": {
       "model_id": "fdec3b124172463786cc96585d0ff9e3",
       "version_major": 2,
       "version_minor": 0
      },
      "text/plain": [
       "Output()"
      ]
     },
     "metadata": {},
     "output_type": "display_data"
    },
    {
     "data": {
      "text/html": [
       "<pre style=\"white-space:pre;overflow-x:auto;line-height:normal;font-family:Menlo,'DejaVu Sans Mono',consolas,'Courier New',monospace\"></pre>\n"
      ],
      "text/plain": []
     },
     "metadata": {},
     "output_type": "display_data"
    },
    {
     "data": {
      "text/html": [
       "<pre style=\"white-space:pre;overflow-x:auto;line-height:normal;font-family:Menlo,'DejaVu Sans Mono',consolas,'Courier New',monospace\">\n",
       "</pre>\n"
      ],
      "text/plain": [
       "\n"
      ]
     },
     "metadata": {},
     "output_type": "display_data"
    },
    {
     "name": "stdout",
     "output_type": "stream",
     "text": [
      "Completed in 1.59 min\n",
      "\n"
     ]
    }
   ],
   "source": [
    "for samp in signal_list:\n",
    "    print(f'Start analyzing: {samp}')\n",
    "    \n",
    "    test = Skimmer(f\"{sig_sample_json_dir}/{samp}.json\", cut_config)\n",
    "    \n",
    "    t1 = time.time()\n",
    "    out = test.process(execr='futures')\n",
    "    t2 = time.time()\n",
    "\n",
    "    write_h5(out[0],f\"{outdir}/{samp}{suffix}.h5\")\n",
    "    \n",
    "    print('Completed in {:.2f} min\\n'.format((t2-t1)/60))\n",
    "    del out, test"
   ]
  },
  {
   "cell_type": "code",
   "execution_count": null,
   "id": "56d73cb9-ef28-41aa-8920-f44b30ffc7f1",
   "metadata": {},
   "outputs": [],
   "source": []
  },
  {
   "cell_type": "code",
   "execution_count": 8,
   "id": "687fdb63-2b1c-4ca4-bbc2-9d0fce66e302",
   "metadata": {},
   "outputs": [
    {
     "name": "stdout",
     "output_type": "stream",
     "text": [
      "Start analyzing: skimmed_bkg_2018_DY\n"
     ]
    },
    {
     "data": {
      "application/vnd.jupyter.widget-view+json": {
       "model_id": "70d9875a47034e19bb56def30cc77bfc",
       "version_major": 2,
       "version_minor": 0
      },
      "text/plain": [
       "Output()"
      ]
     },
     "metadata": {},
     "output_type": "display_data"
    },
    {
     "data": {
      "text/html": [
       "<pre style=\"white-space:pre;overflow-x:auto;line-height:normal;font-family:Menlo,'DejaVu Sans Mono',consolas,'Courier New',monospace\"></pre>\n"
      ],
      "text/plain": []
     },
     "metadata": {},
     "output_type": "display_data"
    },
    {
     "data": {
      "text/html": [
       "<pre style=\"white-space:pre;overflow-x:auto;line-height:normal;font-family:Menlo,'DejaVu Sans Mono',consolas,'Courier New',monospace\">\n",
       "</pre>\n"
      ],
      "text/plain": [
       "\n"
      ]
     },
     "metadata": {},
     "output_type": "display_data"
    },
    {
     "data": {
      "application/vnd.jupyter.widget-view+json": {
       "model_id": "86cf65671fc84413962dce0e5bd54d99",
       "version_major": 2,
       "version_minor": 0
      },
      "text/plain": [
       "Output()"
      ]
     },
     "metadata": {},
     "output_type": "display_data"
    },
    {
     "data": {
      "text/html": [
       "<pre style=\"white-space:pre;overflow-x:auto;line-height:normal;font-family:Menlo,'DejaVu Sans Mono',consolas,'Courier New',monospace\"></pre>\n"
      ],
      "text/plain": []
     },
     "metadata": {},
     "output_type": "display_data"
    },
    {
     "data": {
      "text/html": [
       "<pre style=\"white-space:pre;overflow-x:auto;line-height:normal;font-family:Menlo,'DejaVu Sans Mono',consolas,'Courier New',monospace\">\n",
       "</pre>\n"
      ],
      "text/plain": [
       "\n"
      ]
     },
     "metadata": {},
     "output_type": "display_data"
    },
    {
     "name": "stdout",
     "output_type": "stream",
     "text": [
      "Completed in 0.81 min\n",
      "\n",
      "Start analyzing: skimmed_bkg_2018_Diboson\n"
     ]
    },
    {
     "data": {
      "application/vnd.jupyter.widget-view+json": {
       "model_id": "038b302ff585480c8f654dbd61945719",
       "version_major": 2,
       "version_minor": 0
      },
      "text/plain": [
       "Output()"
      ]
     },
     "metadata": {},
     "output_type": "display_data"
    },
    {
     "data": {
      "text/html": [
       "<pre style=\"white-space:pre;overflow-x:auto;line-height:normal;font-family:Menlo,'DejaVu Sans Mono',consolas,'Courier New',monospace\"></pre>\n"
      ],
      "text/plain": []
     },
     "metadata": {},
     "output_type": "display_data"
    },
    {
     "data": {
      "text/html": [
       "<pre style=\"white-space:pre;overflow-x:auto;line-height:normal;font-family:Menlo,'DejaVu Sans Mono',consolas,'Courier New',monospace\">\n",
       "</pre>\n"
      ],
      "text/plain": [
       "\n"
      ]
     },
     "metadata": {},
     "output_type": "display_data"
    },
    {
     "data": {
      "application/vnd.jupyter.widget-view+json": {
       "model_id": "792541adfe664b8ab3b878a9b20051a7",
       "version_major": 2,
       "version_minor": 0
      },
      "text/plain": [
       "Output()"
      ]
     },
     "metadata": {},
     "output_type": "display_data"
    },
    {
     "data": {
      "text/html": [
       "<pre style=\"white-space:pre;overflow-x:auto;line-height:normal;font-family:Menlo,'DejaVu Sans Mono',consolas,'Courier New',monospace\"></pre>\n"
      ],
      "text/plain": []
     },
     "metadata": {},
     "output_type": "display_data"
    },
    {
     "data": {
      "text/html": [
       "<pre style=\"white-space:pre;overflow-x:auto;line-height:normal;font-family:Menlo,'DejaVu Sans Mono',consolas,'Courier New',monospace\">\n",
       "</pre>\n"
      ],
      "text/plain": [
       "\n"
      ]
     },
     "metadata": {},
     "output_type": "display_data"
    },
    {
     "name": "stdout",
     "output_type": "stream",
     "text": [
      "Completed in 0.54 min\n",
      "\n",
      "Start analyzing: skimmed_bkg_2018_QCD_TuneCP5_PSWeights\n"
     ]
    },
    {
     "data": {
      "application/vnd.jupyter.widget-view+json": {
       "model_id": "f9f7886b0b0843819fa0a860c40a0a45",
       "version_major": 2,
       "version_minor": 0
      },
      "text/plain": [
       "Output()"
      ]
     },
     "metadata": {},
     "output_type": "display_data"
    },
    {
     "data": {
      "text/html": [
       "<pre style=\"white-space:pre;overflow-x:auto;line-height:normal;font-family:Menlo,'DejaVu Sans Mono',consolas,'Courier New',monospace\"></pre>\n"
      ],
      "text/plain": []
     },
     "metadata": {},
     "output_type": "display_data"
    },
    {
     "data": {
      "text/html": [
       "<pre style=\"white-space:pre;overflow-x:auto;line-height:normal;font-family:Menlo,'DejaVu Sans Mono',consolas,'Courier New',monospace\">\n",
       "</pre>\n"
      ],
      "text/plain": [
       "\n"
      ]
     },
     "metadata": {},
     "output_type": "display_data"
    },
    {
     "data": {
      "application/vnd.jupyter.widget-view+json": {
       "model_id": "0aad6a2b22154550a51d58443dde59f3",
       "version_major": 2,
       "version_minor": 0
      },
      "text/plain": [
       "Output()"
      ]
     },
     "metadata": {},
     "output_type": "display_data"
    },
    {
     "data": {
      "text/html": [
       "<pre style=\"white-space:pre;overflow-x:auto;line-height:normal;font-family:Menlo,'DejaVu Sans Mono',consolas,'Courier New',monospace\"></pre>\n"
      ],
      "text/plain": []
     },
     "metadata": {},
     "output_type": "display_data"
    },
    {
     "data": {
      "text/html": [
       "<pre style=\"white-space:pre;overflow-x:auto;line-height:normal;font-family:Menlo,'DejaVu Sans Mono',consolas,'Courier New',monospace\">\n",
       "</pre>\n"
      ],
      "text/plain": [
       "\n"
      ]
     },
     "metadata": {},
     "output_type": "display_data"
    },
    {
     "name": "stdout",
     "output_type": "stream",
     "text": [
      "Completed in 2.33 min\n",
      "\n",
      "Start analyzing: skimmed_bkg_2018_Top\n"
     ]
    },
    {
     "data": {
      "application/vnd.jupyter.widget-view+json": {
       "model_id": "c36794a8707246e19c53fbcb2deb7ae5",
       "version_major": 2,
       "version_minor": 0
      },
      "text/plain": [
       "Output()"
      ]
     },
     "metadata": {},
     "output_type": "display_data"
    },
    {
     "data": {
      "text/html": [
       "<pre style=\"white-space:pre;overflow-x:auto;line-height:normal;font-family:Menlo,'DejaVu Sans Mono',consolas,'Courier New',monospace\"></pre>\n"
      ],
      "text/plain": []
     },
     "metadata": {},
     "output_type": "display_data"
    },
    {
     "data": {
      "text/html": [
       "<pre style=\"white-space:pre;overflow-x:auto;line-height:normal;font-family:Menlo,'DejaVu Sans Mono',consolas,'Courier New',monospace\">\n",
       "</pre>\n"
      ],
      "text/plain": [
       "\n"
      ]
     },
     "metadata": {},
     "output_type": "display_data"
    },
    {
     "data": {
      "application/vnd.jupyter.widget-view+json": {
       "model_id": "95220288ef2e4cb68fd88a14880c2982",
       "version_major": 2,
       "version_minor": 0
      },
      "text/plain": [
       "Output()"
      ]
     },
     "metadata": {},
     "output_type": "display_data"
    },
    {
     "data": {
      "text/html": [
       "<pre style=\"white-space:pre;overflow-x:auto;line-height:normal;font-family:Menlo,'DejaVu Sans Mono',consolas,'Courier New',monospace\"></pre>\n"
      ],
      "text/plain": []
     },
     "metadata": {},
     "output_type": "display_data"
    },
    {
     "data": {
      "text/html": [
       "<pre style=\"white-space:pre;overflow-x:auto;line-height:normal;font-family:Menlo,'DejaVu Sans Mono',consolas,'Courier New',monospace\">\n",
       "</pre>\n"
      ],
      "text/plain": [
       "\n"
      ]
     },
     "metadata": {},
     "output_type": "display_data"
    },
    {
     "name": "stdout",
     "output_type": "stream",
     "text": [
      "Completed in 3.47 min\n",
      "\n",
      "Start analyzing: skimmed_bkg_2018_Triboson\n"
     ]
    },
    {
     "data": {
      "application/vnd.jupyter.widget-view+json": {
       "model_id": "00a1c94e88054a5c96bd62374c170ef5",
       "version_major": 2,
       "version_minor": 0
      },
      "text/plain": [
       "Output()"
      ]
     },
     "metadata": {},
     "output_type": "display_data"
    },
    {
     "data": {
      "text/html": [
       "<pre style=\"white-space:pre;overflow-x:auto;line-height:normal;font-family:Menlo,'DejaVu Sans Mono',consolas,'Courier New',monospace\"></pre>\n"
      ],
      "text/plain": []
     },
     "metadata": {},
     "output_type": "display_data"
    },
    {
     "data": {
      "text/html": [
       "<pre style=\"white-space:pre;overflow-x:auto;line-height:normal;font-family:Menlo,'DejaVu Sans Mono',consolas,'Courier New',monospace\">\n",
       "</pre>\n"
      ],
      "text/plain": [
       "\n"
      ]
     },
     "metadata": {},
     "output_type": "display_data"
    },
    {
     "data": {
      "application/vnd.jupyter.widget-view+json": {
       "model_id": "cec2ad4e70294a9f88e0a2bcb07eb821",
       "version_major": 2,
       "version_minor": 0
      },
      "text/plain": [
       "Output()"
      ]
     },
     "metadata": {},
     "output_type": "display_data"
    },
    {
     "data": {
      "text/html": [
       "<pre style=\"white-space:pre;overflow-x:auto;line-height:normal;font-family:Menlo,'DejaVu Sans Mono',consolas,'Courier New',monospace\"></pre>\n"
      ],
      "text/plain": []
     },
     "metadata": {},
     "output_type": "display_data"
    },
    {
     "data": {
      "text/html": [
       "<pre style=\"white-space:pre;overflow-x:auto;line-height:normal;font-family:Menlo,'DejaVu Sans Mono',consolas,'Courier New',monospace\">\n",
       "</pre>\n"
      ],
      "text/plain": [
       "\n"
      ]
     },
     "metadata": {},
     "output_type": "display_data"
    },
    {
     "name": "stdout",
     "output_type": "stream",
     "text": [
      "Completed in 0.25 min\n",
      "\n",
      "Start analyzing: skimmed_bkg_2018_WJets\n"
     ]
    },
    {
     "data": {
      "application/vnd.jupyter.widget-view+json": {
       "model_id": "7beec44f8ecb463dbde96f32252bd4a2",
       "version_major": 2,
       "version_minor": 0
      },
      "text/plain": [
       "Output()"
      ]
     },
     "metadata": {},
     "output_type": "display_data"
    },
    {
     "data": {
      "text/html": [
       "<pre style=\"white-space:pre;overflow-x:auto;line-height:normal;font-family:Menlo,'DejaVu Sans Mono',consolas,'Courier New',monospace\"></pre>\n"
      ],
      "text/plain": []
     },
     "metadata": {},
     "output_type": "display_data"
    },
    {
     "data": {
      "text/html": [
       "<pre style=\"white-space:pre;overflow-x:auto;line-height:normal;font-family:Menlo,'DejaVu Sans Mono',consolas,'Courier New',monospace\">\n",
       "</pre>\n"
      ],
      "text/plain": [
       "\n"
      ]
     },
     "metadata": {},
     "output_type": "display_data"
    },
    {
     "data": {
      "application/vnd.jupyter.widget-view+json": {
       "model_id": "64c6ae6a35e247bc9f53919e8ae9d8af",
       "version_major": 2,
       "version_minor": 0
      },
      "text/plain": [
       "Output()"
      ]
     },
     "metadata": {},
     "output_type": "display_data"
    },
    {
     "data": {
      "text/html": [
       "<pre style=\"white-space:pre;overflow-x:auto;line-height:normal;font-family:Menlo,'DejaVu Sans Mono',consolas,'Courier New',monospace\"></pre>\n"
      ],
      "text/plain": []
     },
     "metadata": {},
     "output_type": "display_data"
    },
    {
     "data": {
      "text/html": [
       "<pre style=\"white-space:pre;overflow-x:auto;line-height:normal;font-family:Menlo,'DejaVu Sans Mono',consolas,'Courier New',monospace\">\n",
       "</pre>\n"
      ],
      "text/plain": [
       "\n"
      ]
     },
     "metadata": {},
     "output_type": "display_data"
    },
    {
     "name": "stdout",
     "output_type": "stream",
     "text": [
      "Completed in 2.52 min\n",
      "\n",
      "Start analyzing: skimmed_bkg_2018_ZJets\n"
     ]
    },
    {
     "data": {
      "application/vnd.jupyter.widget-view+json": {
       "model_id": "b475741c7c414e11965cc6106d03ca17",
       "version_major": 2,
       "version_minor": 0
      },
      "text/plain": [
       "Output()"
      ]
     },
     "metadata": {},
     "output_type": "display_data"
    },
    {
     "data": {
      "text/html": [
       "<pre style=\"white-space:pre;overflow-x:auto;line-height:normal;font-family:Menlo,'DejaVu Sans Mono',consolas,'Courier New',monospace\"></pre>\n"
      ],
      "text/plain": []
     },
     "metadata": {},
     "output_type": "display_data"
    },
    {
     "data": {
      "text/html": [
       "<pre style=\"white-space:pre;overflow-x:auto;line-height:normal;font-family:Menlo,'DejaVu Sans Mono',consolas,'Courier New',monospace\">\n",
       "</pre>\n"
      ],
      "text/plain": [
       "\n"
      ]
     },
     "metadata": {},
     "output_type": "display_data"
    },
    {
     "data": {
      "application/vnd.jupyter.widget-view+json": {
       "model_id": "08f9c088af31410d8f5db2b58d30fb38",
       "version_major": 2,
       "version_minor": 0
      },
      "text/plain": [
       "Output()"
      ]
     },
     "metadata": {},
     "output_type": "display_data"
    },
    {
     "data": {
      "text/html": [
       "<pre style=\"white-space:pre;overflow-x:auto;line-height:normal;font-family:Menlo,'DejaVu Sans Mono',consolas,'Courier New',monospace\"></pre>\n"
      ],
      "text/plain": []
     },
     "metadata": {},
     "output_type": "display_data"
    },
    {
     "data": {
      "text/html": [
       "<pre style=\"white-space:pre;overflow-x:auto;line-height:normal;font-family:Menlo,'DejaVu Sans Mono',consolas,'Courier New',monospace\">\n",
       "</pre>\n"
      ],
      "text/plain": [
       "\n"
      ]
     },
     "metadata": {},
     "output_type": "display_data"
    },
    {
     "name": "stdout",
     "output_type": "stream",
     "text": [
      "Completed in 2.42 min\n",
      "\n"
     ]
    }
   ],
   "source": [
    "for samp in bkg_list:\n",
    "    if 'TTJetsDiLept' in samp: # currently not available ntuples\n",
    "        continue\n",
    "    \n",
    "    print(f'Start analyzing: {samp}')\n",
    "    \n",
    "    test = Skimmer(f\"{bkg_sample_json_dir}/{samp}.json\", cut_config)\n",
    "    \n",
    "    t1 = time.time()\n",
    "    out = test.process(execr='futures')\n",
    "    t2 = time.time()\n",
    "\n",
    "    write_h5(out[0],f\"{outdir}/{samp}{suffix}.h5\")\n",
    "    \n",
    "    print('Completed in {:.2f} min\\n'.format((t2-t1)/60))\n",
    "    del out, test"
   ]
  },
  {
   "cell_type": "markdown",
   "id": "ae2b7aff-56dd-43c6-933b-1eb739dc8af1",
   "metadata": {},
   "source": [
    "## BDT"
   ]
  },
  {
   "cell_type": "code",
   "execution_count": 9,
   "id": "40a38c7e-1ab6-4989-aa87-65f89d7c9143",
   "metadata": {},
   "outputs": [],
   "source": [
    "import numpy as np\n",
    "import h5py\n",
    "import matplotlib.pyplot as plt\n",
    "import xgboost as xgb\n",
    "import os\n",
    "from sklearn.model_selection import train_test_split\n",
    "from sklearn.metrics import roc_curve, roc_auc_score"
   ]
  },
  {
   "cell_type": "code",
   "execution_count": 10,
   "id": "13ad9bd8-f536-42e5-90b2-3ff614bb356a",
   "metadata": {},
   "outputs": [
    {
     "name": "stdout",
     "output_type": "stream",
     "text": [
      "Signal events 29310 -> 29310 after gen matching (raw counts)\n",
      "\n",
      "DY: 9\n",
      "Diboson: 767\n",
      "QCD: 3\n",
      "Top: 2006\n",
      "Triboson: 92\n",
      "WJets: 29090\n",
      "ZJets: 44480\n",
      "\n",
      "Number of total background events (raw counts): 76447\n"
     ]
    }
   ],
   "source": [
    "h5_dir = \"./h5/\"\n",
    "sig_suffix = f\"ctau-{ct}_TrueVertexForSignal\"\n",
    "bkg_suffix = \"_TrueVertexForSignal\"\n",
    "\n",
    "sig_files = [f for f in os.listdir(h5_dir) if sig_suffix in f and 'sig' in f]\n",
    "bkg_files = [f for f in os.listdir(h5_dir) if bkg_suffix in f and 'bkg' in f]\n",
    "\n",
    "# vtx variables\n",
    "variables = ['sel_vtx_chi2','sel_vtx_METdPhi','sel_vtx_m','sel_vtx_dR','sel_vtx_minDxy','vxy_signif']\n",
    "\n",
    "sig_data = []\n",
    "\n",
    "sig_xsec_norm = []\n",
    "sig_point = {'m1':[], 'delta':[], 'ctau':[]}\n",
    "\n",
    "for sf in sig_files:\n",
    "    with h5py.File(f'{h5_dir}/{sf}',\"r\") as fin:\n",
    "        entries = len(fin['wgt'])\n",
    "        \n",
    "        match = fin[\"sel_vtx_match\"][()]\n",
    "        mask = match==2\n",
    "\n",
    "        entries_genMatched = sum(mask)\n",
    "        print(f'Signal events {entries} -> {entries_genMatched} after gen matching (raw counts)\\n')\n",
    "        \n",
    "        sig_data.append(np.concatenate([fin[v][()][mask].reshape(-1,1) for v in variables],axis=1))\n",
    "        sig_xsec_norm.append(fin['wgt_norm'][()][mask])\n",
    "        \n",
    "        sig_point['m1'].append(fin['m1'][()][mask])\n",
    "        sig_point['delta'].append(fin['delta'][()][mask])\n",
    "        sig_point['ctau'].append(fin['ctau'][()][mask])\n",
    "\n",
    "sig_data = np.concatenate(sig_data,axis=0)\n",
    "sig_xsec_norm = np.concatenate(sig_xsec_norm,axis=0)\n",
    "sig_point['m1'] = np.concatenate(sig_point['m1'], axis=0)\n",
    "sig_point['delta'] = np.concatenate(sig_point['delta'], axis=0)\n",
    "sig_point['ctau'] = np.concatenate(sig_point['ctau'], axis=0)\n",
    "\n",
    "nBkg = 0\n",
    "bkg_data = []\n",
    "\n",
    "bkg_xsec_norm = []\n",
    "\n",
    "for bf in bkg_files:\n",
    "    with h5py.File(f'{h5_dir}/{bf}',\"r\") as fin:\n",
    "        process = bf.split('_')[3]\n",
    "        entries = len(fin['wgt'])\n",
    "        print(f'{process}: {entries}')\n",
    "        nBkg += len(fin['wgt'])\n",
    "        \n",
    "        bkg_data.append(np.concatenate([fin[v][()].reshape(-1,1) for v in variables],axis=1))\n",
    "        bkg_xsec_norm.append(fin['wgt_norm'][()])\n",
    "\n",
    "bkg_xsec_norm = np.concatenate(bkg_xsec_norm,axis=0)\n",
    "\n",
    "\n",
    "print(f'\\nNumber of total background events (raw counts): {nBkg}')\n",
    "\n",
    "bkg_data = np.concatenate(bkg_data,axis=0)"
   ]
  },
  {
   "cell_type": "code",
   "execution_count": 12,
   "id": "58f060b0-6c6b-4e19-8d97-0c3b7dd4f367",
   "metadata": {
    "scrolled": true
   },
   "outputs": [
    {
     "name": "stdout",
     "output_type": "stream",
     "text": [
      "Signal input statistics (unweighted)\n",
      "m1_5.0_delta_0.1_ctau_1: 193\n",
      "m1_10.0_delta_0.1_ctau_1: 391\n",
      "m1_20.0_delta_0.1_ctau_1: 501\n",
      "m1_30.0_delta_0.1_ctau_1: 597\n",
      "m1_40.0_delta_0.1_ctau_1: 717\n",
      "m1_50.0_delta_0.1_ctau_1: 1140\n",
      "m1_60.0_delta_0.1_ctau_1: 912\n",
      "m1_70.0_delta_0.1_ctau_1: 1141\n",
      "m1_80.0_delta_0.1_ctau_1: 1199\n",
      "m1_90.0_delta_0.1_ctau_1: 4698\n",
      "m1_100.0_delta_0.1_ctau_1: 6013\n",
      "m1_5.0_delta_0.2_ctau_1: 220\n",
      "m1_10.0_delta_0.2_ctau_1: 405\n",
      "m1_20.0_delta_0.2_ctau_1: 556\n",
      "m1_30.0_delta_0.2_ctau_1: 769\n",
      "m1_40.0_delta_0.2_ctau_1: 752\n",
      "m1_50.0_delta_0.2_ctau_1: 81\n",
      "m1_60.0_delta_0.2_ctau_1: 0\n",
      "m1_70.0_delta_0.2_ctau_1: 1327\n",
      "m1_80.0_delta_0.2_ctau_1: 0\n",
      "m1_90.0_delta_0.2_ctau_1: 4190\n",
      "m1_100.0_delta_0.2_ctau_1: 2475\n",
      "m1_60.0_delta_0.2_ctau_1 has zero counts\n",
      "m1_80.0_delta_0.2_ctau_1 has zero counts\n",
      "Number of signal subprocesses with non-zero count: 20\n"
     ]
    }
   ],
   "source": [
    "print('Signal input statistics (unweighted)')\n",
    "\n",
    "sig_subprocess = {}\n",
    "\n",
    "ctau = ct\n",
    "for delta in [0.1, 0.2]:\n",
    "    for m1 in [5.,10.,20.,30.,40.,50.,60.,70.,80.,90.,100.]:\n",
    "        idx = ((sig_point['m1'] == m1) & (sig_point['delta'] == delta))&(sig_point['ctau'] == ctau)\n",
    "        point = f'm1_{m1}_delta_{delta}_ctau_{ctau}'\n",
    "        sig_subprocess[point] = idx\n",
    "        print(f'{point}: {np.sum(idx)}')\n",
    "\n",
    "nSamp = 0\n",
    "for samp, count in sig_subprocess.items():\n",
    "    if np.sum(count) != 0:\n",
    "        nSamp += 1\n",
    "    else:\n",
    "        print(f'{samp} has zero counts')\n",
    "\n",
    "print(f'Number of signal subprocesses with non-zero count: {nSamp}')"
   ]
  },
  {
   "cell_type": "markdown",
   "id": "31b7cbde-ed51-4ec4-9475-254e7e8299a2",
   "metadata": {},
   "source": [
    "## Reweight Backgrounds"
   ]
  },
  {
   "cell_type": "markdown",
   "id": "345b0173-a0f8-4e3e-8ba5-643212abd61e",
   "metadata": {},
   "source": [
    "### Background raw counts"
   ]
  },
  {
   "cell_type": "code",
   "execution_count": 14,
   "id": "c8be1352-1d2d-447e-815b-2109c941c535",
   "metadata": {},
   "outputs": [
    {
     "name": "stdout",
     "output_type": "stream",
     "text": [
      "DY: 9\n",
      "Diboson: 767\n",
      "QCD: 3\n",
      "Top: 2006\n",
      "Triboson: 92\n",
      "WJets: 29090\n",
      "ZJets: 44480\n"
     ]
    }
   ],
   "source": [
    "bkg_raw = {}\n",
    "nBkg = 0\n",
    "\n",
    "for bf in bkg_files:\n",
    "    with h5py.File(f'{h5_dir}/{bf}',\"r\") as fin:\n",
    "        process = bf.split('_')[3]\n",
    "        entries = len(fin['wgt'])\n",
    "        print(f'{process}: {entries}')\n",
    "        nBkg += len(fin['wgt'])\n",
    "\n",
    "        bkg_raw[process] = entries"
   ]
  },
  {
   "cell_type": "markdown",
   "id": "9c958dc8-bd7b-48f7-8306-832a55097e6c",
   "metadata": {},
   "source": [
    "### Cutflow counts (xsec weighted)"
   ]
  },
  {
   "cell_type": "code",
   "execution_count": 15,
   "id": "52d9ccd0-4b97-4e85-b89b-3d6a6e54e6e2",
   "metadata": {},
   "outputs": [
    {
     "name": "stdout",
     "output_type": "stream",
     "text": [
      "DY: 455.6547508239746\n",
      "Diboson: 189.35027223825455\n",
      "QCD: 632.250424861908\n",
      "Top: 294.0013522002846\n",
      "Triboson: 2.0868917726911604\n",
      "WJets: 11204.390249389457\n",
      "ZJets: 6256.761405692319\n",
      "Total background counts (xsec weighted): 19034.49534697889\n"
     ]
    }
   ],
   "source": [
    "bkg_cts = {}\n",
    "total_bkg_cts = 0\n",
    "\n",
    "for bf in bkg_files:\n",
    "    with h5py.File(f'{h5_dir}/{bf}',\"r\") as fin:\n",
    "        process = bf.split('_')[3]\n",
    "        entries = sum(fin['wgt_norm'][()])\n",
    "        print(f'{process}: {entries}')\n",
    "\n",
    "        total_bkg_cts += entries\n",
    "        \n",
    "        bkg_cts[process] = entries\n",
    "\n",
    "print(f'Total background counts (xsec weighted): {total_bkg_cts}')"
   ]
  },
  {
   "cell_type": "markdown",
   "id": "8fe9be7f-f587-446f-b0e8-90f604acc5c0",
   "metadata": {},
   "source": [
    "### Reweighing factor = `wgt_norm` / `total_bkg_cts` * `nBkg`"
   ]
  },
  {
   "cell_type": "markdown",
   "id": "3be95b69-d941-4853-a304-b930a79e6fa1",
   "metadata": {},
   "source": [
    "Reweigh the background samples, such that after reweighting the total number of backgrounds (BDT sample size) are unchanged but the relative contributions of each sub-process within the BDT sample are physically correct."
   ]
  },
  {
   "cell_type": "code",
   "execution_count": 16,
   "id": "2c82f6e7-e59d-43c6-958e-c290287ee6b8",
   "metadata": {},
   "outputs": [],
   "source": [
    "sf = {}\n",
    "xsec_norm = {}\n",
    "\n",
    "for bf in bkg_files:\n",
    "    with h5py.File(f'{h5_dir}/{bf}',\"r\") as fin:\n",
    "        process = bf.split('_')[3]\n",
    "        entries = fin['wgt_norm'][()] / total_bkg_cts * nBkg\n",
    "        #print(f'{process}: {entries}')\n",
    "\n",
    "        sf[process] = entries\n",
    "        xsec_norm[process] = fin['wgt_norm'][()]"
   ]
  },
  {
   "cell_type": "code",
   "execution_count": null,
   "id": "c9e43690-d002-4d50-abf3-cb2b77ca091b",
   "metadata": {},
   "outputs": [],
   "source": []
  },
  {
   "cell_type": "code",
   "execution_count": null,
   "id": "1a6e646d-9cb4-41d2-aeb2-c86e276708ef",
   "metadata": {},
   "outputs": [],
   "source": []
  },
  {
   "cell_type": "markdown",
   "id": "4c62b29c-fabd-4233-94a1-44563ba2f4dc",
   "metadata": {},
   "source": [
    "**With the weight applied, the total bkg events are the same as raw counts, but the contribution of the relative xsec is considered now.**"
   ]
  },
  {
   "cell_type": "code",
   "execution_count": 17,
   "id": "38b25b6e-1ef3-4f55-9e70-dbcc6a5c6195",
   "metadata": {},
   "outputs": [
    {
     "name": "stdout",
     "output_type": "stream",
     "text": [
      "DY: 1830.0163174034096\n",
      "Diboson: 760.4751062962587\n",
      "QCD: 2539.266046933393\n",
      "Top: 1180.7783581768153\n",
      "Triboson: 8.381446863224525\n",
      "WJets: 44999.45869872774\n",
      "ZJets: 25128.620790256326\n",
      "76446.99676465717\n"
     ]
    }
   ],
   "source": [
    "total_weighted = 0\n",
    "\n",
    "for process in sf.keys():\n",
    "    print(f'{process}: {sum(sf[process])}')\n",
    "    total_weighted += sum(sf[process])\n",
    "\n",
    "print(total_weighted)"
   ]
  },
  {
   "cell_type": "code",
   "execution_count": 18,
   "id": "c2c34c55-5587-4574-bd3c-f0a476f01ada",
   "metadata": {},
   "outputs": [
    {
     "data": {
      "text/plain": [
       "76447"
      ]
     },
     "execution_count": 18,
     "metadata": {},
     "output_type": "execute_result"
    }
   ],
   "source": [
    "nBkg"
   ]
  },
  {
   "cell_type": "code",
   "execution_count": null,
   "id": "9d9e2f81-f292-4d05-9233-337c8260afef",
   "metadata": {},
   "outputs": [],
   "source": []
  },
  {
   "cell_type": "code",
   "execution_count": 19,
   "id": "59ee26d8-a4a3-4dd8-af6c-0feb7dafc521",
   "metadata": {},
   "outputs": [],
   "source": [
    "# SF\n",
    "bkg_sf = []\n",
    "bkg_xsec_norm = []\n",
    "\n",
    "for process in sf.keys():\n",
    "    bkg_sf += list(sf[process])\n",
    "    bkg_xsec_norm += list(xsec_norm[process])\n",
    "\n",
    "#print(len(bkg_sf))"
   ]
  },
  {
   "cell_type": "code",
   "execution_count": 20,
   "id": "d534d47e-b04b-4d88-a0bc-74d029983192",
   "metadata": {
    "scrolled": true
   },
   "outputs": [
    {
     "data": {
      "text/plain": [
       "{-0.05953975,\n",
       " -0.045444746,\n",
       " -0.016287146,\n",
       " -0.012563892,\n",
       " -0.0042385785,\n",
       " 0.00075470324,\n",
       " 0.0012511426,\n",
       " 0.0042385785,\n",
       " 0.004238579,\n",
       " 0.01063748,\n",
       " 0.012563892,\n",
       " 0.016287146,\n",
       " 0.024323996,\n",
       " 0.028713468,\n",
       " 0.030013198,\n",
       " 0.037092578,\n",
       " 0.038779505,\n",
       " 0.039841752,\n",
       " 0.043379143,\n",
       " 0.045444746,\n",
       " 0.05953975,\n",
       " 0.08565486,\n",
       " 0.18472649,\n",
       " 0.19808361,\n",
       " 0.2163429,\n",
       " 0.2441929,\n",
       " 0.2524531,\n",
       " 0.29107392,\n",
       " 0.34455764,\n",
       " 0.3913622,\n",
       " 0.55844516,\n",
       " 1.1887455,\n",
       " 2.7895231,\n",
       " 7.842954,\n",
       " 24.090977,\n",
       " 143.50896,\n",
       " 312.20374}"
      ]
     },
     "execution_count": 20,
     "metadata": {},
     "output_type": "execute_result"
    }
   ],
   "source": [
    "set(bkg_xsec_norm)"
   ]
  },
  {
   "cell_type": "code",
   "execution_count": 21,
   "id": "722d1837-7054-432b-af84-9d8c5eccc4e9",
   "metadata": {},
   "outputs": [
    {
     "data": {
      "text/plain": [
       "76447"
      ]
     },
     "execution_count": 21,
     "metadata": {},
     "output_type": "execute_result"
    }
   ],
   "source": [
    "len(bkg_sf)"
   ]
  },
  {
   "cell_type": "markdown",
   "id": "2b2730e7-ccd2-478c-86e9-1d3dd5c5056e",
   "metadata": {},
   "source": [
    "## Reweight Signal"
   ]
  },
  {
   "cell_type": "markdown",
   "id": "0d73d386-252e-4453-8f3e-8505bcb058ae",
   "metadata": {},
   "source": [
    "For signal, we also apply the reweighting factors.\n",
    "1) First, since our signal samples are smaller than background samples, get the overall scale factor for signal samples to match the total number of background samples. Reweigh against background.\n",
    "2) Then, reweigh across signal samples. We will make all signal subprocesses \"equally shown\" to the BDT. Currently the inputs are biased, i.e. to have more 10% splitting, 1mm ctau, etc. We will flatten these out."
   ]
  },
  {
   "cell_type": "code",
   "execution_count": 22,
   "id": "8b26f0b3-b80c-4608-8ebd-a68b89800e02",
   "metadata": {},
   "outputs": [
    {
     "name": "stdout",
     "output_type": "stream",
     "text": [
      "Signal sample size (all subprocesses summed): 29310\n",
      "Background sample size (all subprocesses summed): 76447\n",
      "2.6082224496758784 more background than signal samples\n"
     ]
    }
   ],
   "source": [
    "bkg_to_sig = len(bkg_xsec_norm)/len(sig_xsec_norm)\n",
    "\n",
    "print(f'Signal sample size (all subprocesses summed): {len(sig_xsec_norm)}')\n",
    "print(f'Background sample size (all subprocesses summed): {len(bkg_xsec_norm)}')\n",
    "print(f'{bkg_to_sig} more background than signal samples')"
   ]
  },
  {
   "cell_type": "code",
   "execution_count": 23,
   "id": "ae85a386-539e-41b9-b054-bfd1e4b01859",
   "metadata": {},
   "outputs": [
    {
     "name": "stdout",
     "output_type": "stream",
     "text": [
      "There are 20 subprocesses in signal, i.e. per m1/delta/ctau points.\n",
      "\n",
      "Ideally, sig and bkg sample size for BDT input should be the same.\n",
      "\n",
      "For background, we care about each background process contribution to the total, i.e. QCD having higher xsec than Diboson.\n",
      "This should be taken into account, so we got the SF for background input that will correct for this relative xsec contribution.\n",
      "\n",
      "For signal, we want BDT to equally \"see\" each subprocess. For example, delta=0.2 splitting has lower xsec than delta=0.1.\n",
      "But we want the BDT to \"equally\" see them. Therefore, we reweigh signal such that each subprocess relative contribution is the same.\n",
      "For signal, we also get the overall SF against bkg, because right now we have 10 times less signal input than background.\n"
     ]
    }
   ],
   "source": [
    "print(f'There are {nSamp} subprocesses in signal, i.e. per m1/delta/ctau points.')\n",
    "print(f'\\nIdeally, sig and bkg sample size for BDT input should be the same.')\n",
    "print(f'\\nFor background, we care about each background process contribution to the total, i.e. QCD having higher xsec than Diboson.')\n",
    "print(f'This should be taken into account, so we got the SF for background input that will correct for this relative xsec contribution.')\n",
    "print(f'\\nFor signal, we want BDT to equally \"see\" each subprocess. For example, delta=0.2 splitting has lower xsec than delta=0.1.')\n",
    "print(f'But we want the BDT to \"equally\" see them. Therefore, we reweigh signal such that each subprocess relative contribution is the same.')\n",
    "print(f'For signal, we also get the overall SF against bkg, because right now we have 10 times less signal input than background.')"
   ]
  },
  {
   "cell_type": "code",
   "execution_count": 24,
   "id": "3bd8e196-bf91-4766-9914-a5f058a16b00",
   "metadata": {},
   "outputs": [
    {
     "name": "stdout",
     "output_type": "stream",
     "text": [
      "This means, for each one of 20 signal subprocesses, there should be [n(background sample size)/n(number of signal subprocess)] = 3822.35\n"
     ]
    }
   ],
   "source": [
    "print(f'This means, for each one of {nSamp} signal subprocesses, there should be [n(background sample size)/n(number of signal subprocess)] = {len(bkg_xsec_norm)/nSamp}')"
   ]
  },
  {
   "cell_type": "code",
   "execution_count": 25,
   "id": "9c1fb0fb-e5b6-429e-9470-b7bf91588b53",
   "metadata": {},
   "outputs": [
    {
     "name": "stdout",
     "output_type": "stream",
     "text": [
      "We will get the SF for each signal subprocess such that their weighted count corresponds to 3822.35\n"
     ]
    }
   ],
   "source": [
    "print(f'We will get the SF for each signal subprocess such that their weighted count corresponds to {len(bkg_xsec_norm)/nSamp}')"
   ]
  },
  {
   "cell_type": "code",
   "execution_count": 31,
   "id": "d78ce6d2-d61d-48b6-b54d-4558f59851c2",
   "metadata": {},
   "outputs": [
    {
     "name": "stdout",
     "output_type": "stream",
     "text": [
      "m1_5.0_delta_0.1_ctau_1: 19.804922279792745\n",
      "m1_10.0_delta_0.1_ctau_1: 9.775831202046035\n",
      "m1_20.0_delta_0.1_ctau_1: 7.629441117764471\n",
      "m1_30.0_delta_0.1_ctau_1: 6.402596314907872\n",
      "m1_40.0_delta_0.1_ctau_1: 5.331032078103208\n",
      "m1_50.0_delta_0.1_ctau_1: 3.352938596491228\n",
      "m1_60.0_delta_0.1_ctau_1: 4.191173245614035\n",
      "m1_70.0_delta_0.1_ctau_1: 3.35\n",
      "m1_80.0_delta_0.1_ctau_1: 3.1879482902418683\n",
      "m1_90.0_delta_0.1_ctau_1: 0.8136121753937846\n",
      "m1_100.0_delta_0.1_ctau_1: 0.6356810244470315\n",
      "m1_5.0_delta_0.2_ctau_1: 17.374318181818182\n",
      "m1_10.0_delta_0.2_ctau_1: 9.437901234567901\n",
      "m1_20.0_delta_0.2_ctau_1: 6.874730215827338\n",
      "m1_30.0_delta_0.2_ctau_1: 4.970546163849154\n",
      "m1_40.0_delta_0.2_ctau_1: 5.082912234042553\n",
      "m1_50.0_delta_0.2_ctau_1: 47.18950617283951\n",
      "m1_70.0_delta_0.2_ctau_1: 2.880444611906556\n",
      "m1_90.0_delta_0.2_ctau_1: 0.912255369928401\n",
      "m1_100.0_delta_0.2_ctau_1: 1.5443838383838384\n",
      "[2.88044461 2.88044461 2.88044461 ... 0.63568102 0.63568102 0.63568102]\n"
     ]
    }
   ],
   "source": [
    "sig_sf = np.zeros(len(sig_xsec_norm)) # initialize\n",
    "\n",
    "nSubprocessWeighted = len(bkg_xsec_norm)/nSamp\n",
    "#nSubprocessWeighted = nSamp\n",
    "\n",
    "for samp, idx in sig_subprocess.items():\n",
    "    samp_idx = np.nonzero(idx)[0]\n",
    "    nSubprocess = np.sum(idx) # unweighted\n",
    "    \n",
    "    if nSubprocess == 0:\n",
    "        continue\n",
    "    sf = nSubprocessWeighted/nSubprocess\n",
    "\n",
    "    print(f'{samp}: {sf}')\n",
    "\n",
    "    sig_sf[samp_idx] = sf\n",
    "\n",
    "print(sig_sf)"
   ]
  },
  {
   "cell_type": "code",
   "execution_count": 27,
   "id": "81c5de3b-bec0-41fd-8ded-35b4883f9790",
   "metadata": {},
   "outputs": [
    {
     "data": {
      "text/plain": [
       "numpy.ndarray"
      ]
     },
     "execution_count": 27,
     "metadata": {},
     "output_type": "execute_result"
    }
   ],
   "source": [
    "type(sig_sf)"
   ]
  },
  {
   "cell_type": "markdown",
   "id": "eedf972e-5154-46fe-ba74-11b25b7e5f26",
   "metadata": {},
   "source": [
    "### Train"
   ]
  },
  {
   "cell_type": "code",
   "execution_count": 32,
   "id": "fb470c17-3d1f-4712-9b63-ef000aa26eb6",
   "metadata": {},
   "outputs": [],
   "source": [
    "bkg_sf_arr = np.array(bkg_sf)\n",
    "sig_sf_arr = sig_sf"
   ]
  },
  {
   "cell_type": "code",
   "execution_count": 33,
   "id": "3e71bdfa-7a1d-4bf7-a712-8630831f889b",
   "metadata": {},
   "outputs": [],
   "source": [
    "rng = np.random.default_rng(seed=438290)\n",
    "random_state = rng.integers(0,100000,1)[0]\n",
    "\n",
    "# 8-2 split of train/test set; shuffle the array of SFs accordingly\n",
    "sig_train, sig_test = train_test_split(sig_data,train_size=0.8,random_state=random_state)\n",
    "sig_train_sf, sig_test_sf = train_test_split(sig_sf_arr, train_size=0.8, random_state=random_state)\n",
    "sig_train_xsec_norm, sig_test_xsec_norm = train_test_split(sig_xsec_norm, train_size=0.8, random_state=random_state)\n",
    "sig_train_m1, sig_test_m1 = train_test_split(sig_point['m1'], train_size=0.8, random_state=random_state)\n",
    "sig_train_delta, sig_test_delta = train_test_split(sig_point['delta'], train_size=0.8, random_state=random_state)\n",
    "sig_train_ctau, sig_test_ctau = train_test_split(sig_point['ctau'], train_size=0.8, random_state=random_state)\n",
    "\n",
    "bkg_train, bkg_test = train_test_split(bkg_data,train_size=0.8,random_state=random_state)\n",
    "bkg_train_sf, bkg_test_sf = train_test_split(bkg_sf_arr, train_size=0.8, random_state=random_state)\n",
    "bkg_train_xsec_norm, bkg_test_xsec_norm = train_test_split(bkg_xsec_norm, train_size=0.8, random_state=random_state)\n",
    "\n",
    "bkg_train_m1, bkg_test_m1 = train_test_split(np.zeros(bkg_sf_arr.shape[0]), train_size=0.8, random_state=random_state)\n",
    "bkg_train_delta, bkg_test_delta = train_test_split(np.zeros(bkg_sf_arr.shape[0]), train_size=0.8, random_state=random_state)\n",
    "bkg_train_ctau, bkg_test_ctau = train_test_split(np.zeros(bkg_sf_arr.shape[0]), train_size=0.8, random_state=random_state)\n",
    "\n",
    "train = np.concatenate((sig_train,bkg_train),axis=0)\n",
    "train_sf = np.concatenate((sig_train_sf,bkg_train_sf),axis=0)\n",
    "train_sf = abs(train_sf)  # training sf cannot have negative values, genWgts have negative values, take abs for now, which is not correct :( \n",
    "\n",
    "y_train = np.concatenate((np.ones(len(sig_train)),np.zeros(len(bkg_train))),axis=0)\n",
    "\n",
    "perm = rng.permutation(len(train))\n",
    "train = train[perm]\n",
    "y_train = y_train[perm]\n",
    "dtrain = xgb.DMatrix(train,label=y_train,feature_names=variables)\n",
    "\n",
    "test = np.concatenate((sig_test,bkg_test),axis=0)\n",
    "test_sf = np.concatenate((sig_test_sf,bkg_test_sf),axis=0) # not used\n",
    "\n",
    "test_xsec_norm = np.concatenate((sig_test_xsec_norm, bkg_test_xsec_norm), axis=0)\n",
    "\n",
    "test_m1 = np.concatenate((sig_test_m1,bkg_test_m1),axis=0)\n",
    "test_delta = np.concatenate((sig_test_delta,bkg_test_delta),axis=0)\n",
    "test_ctau = np.concatenate((sig_test_ctau,bkg_test_ctau),axis=0)\n",
    "\n",
    "y_test = np.concatenate((np.ones(len(sig_test)),np.zeros(len(bkg_test))),axis=0)\n",
    "\n",
    "perm = rng.permutation(len(test))\n",
    "test = test[perm]\n",
    "y_test = y_test[perm]\n",
    "test_xsec_norm = test_xsec_norm[perm]\n",
    "test_m1 = test_m1[perm]\n",
    "test_delta = test_delta[perm]\n",
    "test_ctau = test_ctau[perm]\n",
    "\n",
    "dtest = xgb.DMatrix(test,label=y_test,feature_names=variables)"
   ]
  },
  {
   "cell_type": "code",
   "execution_count": null,
   "id": "3fedb5dc-045d-45fe-8f6e-c8541d099f69",
   "metadata": {},
   "outputs": [],
   "source": []
  },
  {
   "cell_type": "code",
   "execution_count": 35,
   "id": "c764f1fb-042a-470c-8abc-a2d27d94955c",
   "metadata": {},
   "outputs": [
    {
     "data": {
      "text/plain": [
       "array([1., 1., 1., ..., 1., 1., 1.])"
      ]
     },
     "execution_count": 35,
     "metadata": {},
     "output_type": "execute_result"
    }
   ],
   "source": [
    "test_ctau[np.where(y_test == ct)] # signal"
   ]
  },
  {
   "cell_type": "code",
   "execution_count": 36,
   "id": "2dcbc8c1-35c2-4e22-ad55-7f80bda1f04e",
   "metadata": {},
   "outputs": [
    {
     "data": {
      "text/plain": [
       "array([0., 0., 0., ..., 0., 0., 0.])"
      ]
     },
     "execution_count": 36,
     "metadata": {},
     "output_type": "execute_result"
    }
   ],
   "source": [
    "test_ctau[np.where(y_test == 0)] # bkg; should all be zeros by construction, printing out to check if this is the case (not messed up by random_state)"
   ]
  },
  {
   "cell_type": "code",
   "execution_count": 37,
   "id": "31683e2a-13a9-4e41-9c58-38e278985774",
   "metadata": {},
   "outputs": [
    {
     "data": {
      "text/html": [
       "<style>#sk-container-id-1 {color: black;background-color: white;}#sk-container-id-1 pre{padding: 0;}#sk-container-id-1 div.sk-toggleable {background-color: white;}#sk-container-id-1 label.sk-toggleable__label {cursor: pointer;display: block;width: 100%;margin-bottom: 0;padding: 0.3em;box-sizing: border-box;text-align: center;}#sk-container-id-1 label.sk-toggleable__label-arrow:before {content: \"▸\";float: left;margin-right: 0.25em;color: #696969;}#sk-container-id-1 label.sk-toggleable__label-arrow:hover:before {color: black;}#sk-container-id-1 div.sk-estimator:hover label.sk-toggleable__label-arrow:before {color: black;}#sk-container-id-1 div.sk-toggleable__content {max-height: 0;max-width: 0;overflow: hidden;text-align: left;background-color: #f0f8ff;}#sk-container-id-1 div.sk-toggleable__content pre {margin: 0.2em;color: black;border-radius: 0.25em;background-color: #f0f8ff;}#sk-container-id-1 input.sk-toggleable__control:checked~div.sk-toggleable__content {max-height: 200px;max-width: 100%;overflow: auto;}#sk-container-id-1 input.sk-toggleable__control:checked~label.sk-toggleable__label-arrow:before {content: \"▾\";}#sk-container-id-1 div.sk-estimator input.sk-toggleable__control:checked~label.sk-toggleable__label {background-color: #d4ebff;}#sk-container-id-1 div.sk-label input.sk-toggleable__control:checked~label.sk-toggleable__label {background-color: #d4ebff;}#sk-container-id-1 input.sk-hidden--visually {border: 0;clip: rect(1px 1px 1px 1px);clip: rect(1px, 1px, 1px, 1px);height: 1px;margin: -1px;overflow: hidden;padding: 0;position: absolute;width: 1px;}#sk-container-id-1 div.sk-estimator {font-family: monospace;background-color: #f0f8ff;border: 1px dotted black;border-radius: 0.25em;box-sizing: border-box;margin-bottom: 0.5em;}#sk-container-id-1 div.sk-estimator:hover {background-color: #d4ebff;}#sk-container-id-1 div.sk-parallel-item::after {content: \"\";width: 100%;border-bottom: 1px solid gray;flex-grow: 1;}#sk-container-id-1 div.sk-label:hover label.sk-toggleable__label {background-color: #d4ebff;}#sk-container-id-1 div.sk-serial::before {content: \"\";position: absolute;border-left: 1px solid gray;box-sizing: border-box;top: 0;bottom: 0;left: 50%;z-index: 0;}#sk-container-id-1 div.sk-serial {display: flex;flex-direction: column;align-items: center;background-color: white;padding-right: 0.2em;padding-left: 0.2em;position: relative;}#sk-container-id-1 div.sk-item {position: relative;z-index: 1;}#sk-container-id-1 div.sk-parallel {display: flex;align-items: stretch;justify-content: center;background-color: white;position: relative;}#sk-container-id-1 div.sk-item::before, #sk-container-id-1 div.sk-parallel-item::before {content: \"\";position: absolute;border-left: 1px solid gray;box-sizing: border-box;top: 0;bottom: 0;left: 50%;z-index: -1;}#sk-container-id-1 div.sk-parallel-item {display: flex;flex-direction: column;z-index: 1;position: relative;background-color: white;}#sk-container-id-1 div.sk-parallel-item:first-child::after {align-self: flex-end;width: 50%;}#sk-container-id-1 div.sk-parallel-item:last-child::after {align-self: flex-start;width: 50%;}#sk-container-id-1 div.sk-parallel-item:only-child::after {width: 0;}#sk-container-id-1 div.sk-dashed-wrapped {border: 1px dashed gray;margin: 0 0.4em 0.5em 0.4em;box-sizing: border-box;padding-bottom: 0.4em;background-color: white;}#sk-container-id-1 div.sk-label label {font-family: monospace;font-weight: bold;display: inline-block;line-height: 1.2em;}#sk-container-id-1 div.sk-label-container {text-align: center;}#sk-container-id-1 div.sk-container {/* jupyter's `normalize.less` sets `[hidden] { display: none; }` but bootstrap.min.css set `[hidden] { display: none !important; }` so we also need the `!important` here to be able to override the default hidden behavior on the sphinx rendered scikit-learn.org. See: https://github.com/scikit-learn/scikit-learn/issues/21755 */display: inline-block !important;position: relative;}#sk-container-id-1 div.sk-text-repr-fallback {display: none;}</style><div id=\"sk-container-id-1\" class=\"sk-top-container\"><div class=\"sk-text-repr-fallback\"><pre>XGBRegressor(base_score=None, booster=None, callbacks=None,\n",
       "             colsample_bylevel=None, colsample_bynode=None,\n",
       "             colsample_bytree=None, early_stopping_rounds=None,\n",
       "             enable_categorical=False, eval_metric=None, feature_types=None,\n",
       "             gamma=None, gpu_id=None, grow_policy=None, importance_type=None,\n",
       "             interaction_constraints=None, learning_rate=0.05, max_bin=None,\n",
       "             max_cat_threshold=None, max_cat_to_onehot=None,\n",
       "             max_delta_step=None, max_depth=10, max_leaves=None,\n",
       "             min_child_weight=None, missing=nan, monotone_constraints=None,\n",
       "             n_estimators=100, n_jobs=None, num_parallel_tree=None,\n",
       "             objective=&#x27;binary:logistic&#x27;, predictor=None, ...)</pre><b>In a Jupyter environment, please rerun this cell to show the HTML representation or trust the notebook. <br />On GitHub, the HTML representation is unable to render, please try loading this page with nbviewer.org.</b></div><div class=\"sk-container\" hidden><div class=\"sk-item\"><div class=\"sk-estimator sk-toggleable\"><input class=\"sk-toggleable__control sk-hidden--visually\" id=\"sk-estimator-id-1\" type=\"checkbox\" checked><label for=\"sk-estimator-id-1\" class=\"sk-toggleable__label sk-toggleable__label-arrow\">XGBRegressor</label><div class=\"sk-toggleable__content\"><pre>XGBRegressor(base_score=None, booster=None, callbacks=None,\n",
       "             colsample_bylevel=None, colsample_bynode=None,\n",
       "             colsample_bytree=None, early_stopping_rounds=None,\n",
       "             enable_categorical=False, eval_metric=None, feature_types=None,\n",
       "             gamma=None, gpu_id=None, grow_policy=None, importance_type=None,\n",
       "             interaction_constraints=None, learning_rate=0.05, max_bin=None,\n",
       "             max_cat_threshold=None, max_cat_to_onehot=None,\n",
       "             max_delta_step=None, max_depth=10, max_leaves=None,\n",
       "             min_child_weight=None, missing=nan, monotone_constraints=None,\n",
       "             n_estimators=100, n_jobs=None, num_parallel_tree=None,\n",
       "             objective=&#x27;binary:logistic&#x27;, predictor=None, ...)</pre></div></div></div></div></div>"
      ],
      "text/plain": [
       "XGBRegressor(base_score=None, booster=None, callbacks=None,\n",
       "             colsample_bylevel=None, colsample_bynode=None,\n",
       "             colsample_bytree=None, early_stopping_rounds=None,\n",
       "             enable_categorical=False, eval_metric=None, feature_types=None,\n",
       "             gamma=None, gpu_id=None, grow_policy=None, importance_type=None,\n",
       "             interaction_constraints=None, learning_rate=0.05, max_bin=None,\n",
       "             max_cat_threshold=None, max_cat_to_onehot=None,\n",
       "             max_delta_step=None, max_depth=10, max_leaves=None,\n",
       "             min_child_weight=None, missing=nan, monotone_constraints=None,\n",
       "             n_estimators=100, n_jobs=None, num_parallel_tree=None,\n",
       "             objective='binary:logistic', predictor=None, ...)"
      ]
     },
     "execution_count": 37,
     "metadata": {},
     "output_type": "execute_result"
    }
   ],
   "source": [
    "bst = xgb.XGBRegressor(n_estimators=100, max_depth=10, learning_rate=0.05, objective='binary:logistic')\n",
    "\n",
    "# fit model\n",
    "bst.fit(train, y_train, sample_weight=train_sf)\n",
    "#bst.fit(train, y_train)"
   ]
  },
  {
   "cell_type": "code",
   "execution_count": 38,
   "id": "ec8b8894-dff0-449f-8db3-13d89ab69ab5",
   "metadata": {},
   "outputs": [],
   "source": [
    "# make predictions\n",
    "preds = bst.predict(test)"
   ]
  },
  {
   "cell_type": "code",
   "execution_count": 39,
   "id": "68d2aac2-8651-4930-b31a-2f411833a1db",
   "metadata": {},
   "outputs": [
    {
     "data": {
      "text/plain": [
       "0"
      ]
     },
     "execution_count": 39,
     "metadata": {},
     "output_type": "execute_result"
    }
   ],
   "source": [
    "os.system('mkdir -p plots')"
   ]
  },
  {
   "cell_type": "code",
   "execution_count": 40,
   "id": "e14d4a8e-a9a4-44b7-881f-7639f050ba65",
   "metadata": {},
   "outputs": [
    {
     "data": {
      "image/png": "[encoded data removed]",
      "text/plain": [
       "<Figure size 640x480 with 1 Axes>"
      ]
     },
     "metadata": {},
     "output_type": "display_data"
    }
   ],
   "source": [
    "bins = 50\n",
    "\n",
    "h,bins,_ = plt.hist(preds[y_test==0],bins=bins,density=True,histtype='step', label='Background')\n",
    "h,bins,_ = plt.hist(preds[y_test==1],bins=bins,density=True,histtype='step', label='Signal')\n",
    "\n",
    "plt.legend()\n",
    "plt.title('BDT Prediction for the Test Dataset')\n",
    "\n",
    "plt.ylabel('A.U.')\n",
    "plt.savefig(f'plots/BDT_ctau-{ct}_score.png')\n",
    "plt.yscale('log')"
   ]
  },
  {
   "cell_type": "code",
   "execution_count": 41,
   "id": "697a6006-c365-4d3b-9b8c-a652e7ea5e7a",
   "metadata": {},
   "outputs": [
    {
     "data": {
      "image/png": "[encoded data removed]",
      "text/plain": [
       "<Figure size 640x480 with 1 Axes>"
      ]
     },
     "metadata": {},
     "output_type": "display_data"
    },
    {
     "data": {
      "image/png": "[encoded data removed]",
      "text/plain": [
       "<Figure size 640x480 with 1 Axes>"
      ]
     },
     "metadata": {},
     "output_type": "display_data"
    }
   ],
   "source": [
    "# Label the feature importance plot: replace, i.e. f1 with the variable name lead_jet_pt\n",
    "label_dict = {}\n",
    "\n",
    "for idx, var in enumerate(variables):\n",
    "    label_dict['f{}'.format(idx)] = var\n",
    "#print(label_dict)\n",
    "\n",
    "# Plot importance\n",
    "\n",
    "xgb.plot_importance(bst)\n",
    "\n",
    "ticks = [ item.get_text() for item in plt.gca().get_yticklabels() ]\n",
    "#print(ticks)\n",
    "relabel = [ label_dict[tick] for tick in ticks ]\n",
    "#print(relabel)\n",
    "\n",
    "# Plot importance with axis with variable names\n",
    "xgb.plot_importance(bst).set_yticklabels(relabel)\n",
    "plt.savefig(f'plots/BDT_ctau-{ct}_importance_bst.png', bbox_inches = \"tight\")"
   ]
  },
  {
   "cell_type": "code",
   "execution_count": null,
   "id": "c08f9a0f-d9ba-401a-93c6-28ee5fd86abf",
   "metadata": {},
   "outputs": [],
   "source": []
  },
  {
   "cell_type": "code",
   "execution_count": 42,
   "id": "031d943b-28d8-4110-b888-78cdbe48126e",
   "metadata": {},
   "outputs": [
    {
     "data": {
      "image/png": "[encoded data removed]",
      "text/plain": [
       "<Figure size 640x480 with 1 Axes>"
      ]
     },
     "metadata": {},
     "output_type": "display_data"
    }
   ],
   "source": [
    "# ROC\n",
    "from sklearn.metrics import roc_auc_score, classification_report, accuracy_score, roc_curve, confusion_matrix, average_precision_score, precision_recall_curve\n",
    "\n",
    "# make predictions\n",
    "\n",
    "fpr, tpr, thresholds = roc_curve(y_test, preds)\n",
    "auc = roc_auc_score(y_test, preds)\n",
    "precision, recall, thresholds2 = precision_recall_curve(y_test, preds)\n",
    "\n",
    "plt.plot(fpr, tpr, color = \"red\", label = F\"AUC = {auc:.4f}\")\n",
    "\n",
    "plt.plot([0,1], [0,1] , color = \"black\", ls = \"--\")\n",
    "plt.xlim([-0.01, 1.01])\n",
    "plt.ylim([-0.01, 1.01])\n",
    "plt.xlabel('FPR' , fontsize=12)\n",
    "plt.ylabel('TPR' , fontsize=12)\n",
    "plt.tick_params(axis='both', which='major', labelsize=12)\n",
    "plt.legend( prop={'size':12} , loc = 4)\n",
    "plt.savefig(f'plots/BDT_ctau-{ct}_roc_curve.png')"
   ]
  },
  {
   "cell_type": "markdown",
   "id": "7b6ef9da-590b-4595-a6b7-3df8b073b325",
   "metadata": {},
   "source": [
    "### Save and load"
   ]
  },
  {
   "cell_type": "code",
   "execution_count": 45,
   "id": "e53ce45c-0683-4ebb-8b6c-6d1b79e78f26",
   "metadata": {},
   "outputs": [
    {
     "data": {
      "text/plain": [
       "0"
      ]
     },
     "execution_count": 45,
     "metadata": {},
     "output_type": "execute_result"
    }
   ],
   "source": [
    "os.system(f'mkdir -p models')"
   ]
  },
  {
   "cell_type": "code",
   "execution_count": 46,
   "id": "1da817e6-098f-4bcc-984c-d64a04f15235",
   "metadata": {},
   "outputs": [],
   "source": [
    "bst.save_model(f'models/BDT_ctau-{ct}_mass_5to100.json')"
   ]
  },
  {
   "cell_type": "code",
   "execution_count": 47,
   "id": "e6fcc07a-b2f2-48d2-9e5e-5e285006d298",
   "metadata": {},
   "outputs": [],
   "source": [
    "trained_model = xgb.XGBRegressor()\n",
    "trained_model.load_model(f'models/BDT_ctau-{ct}_mass_5to100.json')"
   ]
  },
  {
   "cell_type": "code",
   "execution_count": 48,
   "id": "e52b8158-fb69-4e52-bd7b-ac5153ed02d3",
   "metadata": {},
   "outputs": [],
   "source": [
    "prediction = trained_model.predict(test)"
   ]
  },
  {
   "cell_type": "code",
   "execution_count": 49,
   "id": "e9b54f49-b13e-47d7-bb0a-db4fd04618cc",
   "metadata": {},
   "outputs": [
    {
     "data": {
      "image/png": "[encoded data removed]",
      "text/plain": [
       "<Figure size 640x480 with 1 Axes>"
      ]
     },
     "metadata": {},
     "output_type": "display_data"
    }
   ],
   "source": [
    "bins = 50\n",
    "\n",
    "h_bkg,bins,_ = plt.hist(prediction[y_test==0],bins=bins,density=True,histtype='step', label='Background')\n",
    "h_sig,bins,_ = plt.hist(prediction[y_test==1],bins=bins,density=True,histtype='step', label='Signal')\n",
    "\n",
    "plt.legend()\n",
    "plt.title('BDT Prediction for the Test Dataset (model loaded)')\n",
    "\n",
    "plt.ylabel('A.U.')\n",
    "plt.yscale('log')"
   ]
  },
  {
   "cell_type": "code",
   "execution_count": 50,
   "id": "f247ad7f-9d47-4ded-8638-bb5af3964e6b",
   "metadata": {
    "scrolled": true
   },
   "outputs": [
    {
     "data": {
      "text/plain": [
       "array([20.60712905,  6.33205721,  3.25897471,  2.2676516 ,  1.69763569,\n",
       "        1.2143708 ,  1.05327762,  0.86740772,  0.81784156,  0.68153258,\n",
       "        0.58240232,  0.55761925,  0.39652804,  0.42131232,  0.43370255,\n",
       "        0.4460954 ,  0.32218001,  0.29739603,  0.23543924,  0.37174616,\n",
       "        0.21065552,  0.16109   ,  0.30978753,  0.23543924,  0.23543924,\n",
       "        0.22304736,  0.29739648,  0.21065584,  0.26022232,  0.1858728 ,\n",
       "        0.19826432,  0.29739648,  0.24783078,  0.17348128,  0.16108976,\n",
       "        0.16108976,  0.14869847,  0.33457104,  0.29739648,  0.23543906,\n",
       "        0.1858728 ,  0.26022212,  0.40892016,  0.32217977,  0.39652879,\n",
       "        0.40892032,  0.32217964,  0.38413727,  0.27261355,  0.26022202])"
      ]
     },
     "execution_count": 50,
     "metadata": {},
     "output_type": "execute_result"
    }
   ],
   "source": [
    "h_sig = h_sig[::-1]\n",
    "h_sig"
   ]
  },
  {
   "cell_type": "code",
   "execution_count": 51,
   "id": "a5f1e13c-b2ca-4815-a98e-879ec94cb4ca",
   "metadata": {},
   "outputs": [
    {
     "data": {
      "text/plain": [
       "array([5.96495775e-02, 8.61602406e-02, 4.97079812e-02, 7.29050392e-02,\n",
       "       7.29048190e-02, 5.63357121e-02, 6.62771082e-02, 4.97079812e-02,\n",
       "       2.98247887e-02, 7.29048190e-02, 6.29634429e-02, 2.98247887e-02,\n",
       "       3.97662649e-02, 3.31386542e-02, 4.30801203e-02, 2.31970579e-02,\n",
       "       6.62773083e-02, 4.97078311e-02, 5.96495775e-02, 5.63357121e-02,\n",
       "       4.97078311e-02, 7.62189046e-02, 3.64524095e-02, 4.97079812e-02,\n",
       "       5.63357121e-02, 6.29633478e-02, 6.95910687e-02, 5.30217666e-02,\n",
       "       8.28466354e-02, 8.61603707e-02, 6.62772082e-02, 1.06043533e-01,\n",
       "       9.94159625e-02, 7.95326499e-02, 1.62379160e-01, 1.09357394e-01,\n",
       "       1.52437809e-01, 1.72320741e-01, 1.98831625e-01, 2.15401089e-01,\n",
       "       2.58481112e-01, 3.14816977e-01, 3.67838506e-01, 4.97079437e-01,\n",
       "       5.73298068e-01, 6.89283226e-01, 9.31195127e-01, 1.34542784e+00,\n",
       "       2.10761602e+00, 4.05185866e+01])"
      ]
     },
     "execution_count": 51,
     "metadata": {},
     "output_type": "execute_result"
    }
   ],
   "source": [
    "h_bkg = h_bkg[::-1]\n",
    "h_bkg"
   ]
  },
  {
   "cell_type": "code",
   "execution_count": 52,
   "id": "450dc2b6-7942-4377-b92e-000cb6b5346b",
   "metadata": {},
   "outputs": [
    {
     "name": "stderr",
     "output_type": "stream",
     "text": [
      "/tmp/ipykernel_25721/326739833.py:17: RuntimeWarning: invalid value encountered in divide\n",
      "  np.array(h_sig_sum)/np.array(h_bkg_sum)\n"
     ]
    },
    {
     "data": {
      "text/plain": [
       "array([         nan, 345.46982419, 184.75563999, 154.45223437,\n",
       "       120.95026173, 100.08989167,  88.96423904,  78.52536787,\n",
       "        72.61484728,  70.13472351,  62.94493694,  57.96831241,\n",
       "        56.31669216,  53.85588788,  52.11256925,  49.91744077,\n",
       "        49.07834875,  45.87419559,  43.81794569,  41.49536568,\n",
       "        39.67560214,  38.11676049,  35.84182758,  35.03975542,\n",
       "        33.87424217,  32.63390804,  31.33640415,  30.06499231,\n",
       "        29.16332571,  27.83021388,  26.53158389,  25.64993087,\n",
       "        24.35831543,  23.25770437,  22.44184225,  20.87078245,\n",
       "        19.95892389,  18.79149092,  17.69624581,  16.56597697,\n",
       "        15.47868813,  14.33088377,  13.16247838,  12.05607828,\n",
       "        10.79692408,   9.65579469,   8.57245655,   7.42864732,\n",
       "         6.23371017,   4.96620281])"
      ]
     },
     "execution_count": 52,
     "metadata": {},
     "output_type": "execute_result"
    }
   ],
   "source": [
    "# S/B scan on the score (xsec unweighted)\n",
    "h_sig_sum = []\n",
    "h_bkg_sum = []\n",
    "\n",
    "for idx, entry in enumerate(h_sig):\n",
    "    integral = 0\n",
    "    for j in range(idx):\n",
    "        integral += h_sig[j]\n",
    "    h_sig_sum.append(integral)\n",
    "\n",
    "for idx, entry in enumerate(h_bkg):\n",
    "    integral = 0\n",
    "    for j in range(idx):\n",
    "        integral += h_bkg[j]\n",
    "    h_bkg_sum.append(integral)\n",
    "\n",
    "np.array(h_sig_sum)/np.array(h_bkg_sum)"
   ]
  },
  {
   "cell_type": "code",
   "execution_count": null,
   "id": "8b802b04-5aa0-4280-bbfe-5acd857df3ac",
   "metadata": {},
   "outputs": [],
   "source": []
  },
  {
   "cell_type": "code",
   "execution_count": 53,
   "id": "432b0c48-5e4f-4884-863f-58b5edca768a",
   "metadata": {},
   "outputs": [
    {
     "data": {
      "text/plain": [
       "[Text(0, 0, 'sel_vtx_METdPhi'),\n",
       " Text(0, 1, 'sel_vtx_chi2'),\n",
       " Text(0, 2, 'vxy_signif'),\n",
       " Text(0, 3, 'sel_vtx_minDxy'),\n",
       " Text(0, 4, 'sel_vtx_m'),\n",
       " Text(0, 5, 'sel_vtx_dR')]"
      ]
     },
     "execution_count": 53,
     "metadata": {},
     "output_type": "execute_result"
    },
    {
     "data": {
      "image/png": "[encoded data removed]",
      "text/plain": [
       "<Figure size 640x480 with 1 Axes>"
      ]
     },
     "metadata": {},
     "output_type": "display_data"
    },
    {
     "data": {
      "image/png": "[encoded data removed]",
      "text/plain": [
       "<Figure size 640x480 with 1 Axes>"
      ]
     },
     "metadata": {},
     "output_type": "display_data"
    }
   ],
   "source": [
    "# Label the feature importance plot: replace, i.e. f1 with the variable name lead_jet_pt\n",
    "label_dict = {}\n",
    "\n",
    "for idx, var in enumerate(variables):\n",
    "    label_dict['f{}'.format(idx)] = var\n",
    "#print(label_dict)\n",
    "\n",
    "# Plot importance\n",
    "\n",
    "xgb.plot_importance(trained_model)\n",
    "\n",
    "ticks = [ item.get_text() for item in plt.gca().get_yticklabels() ]\n",
    "#print(ticks)\n",
    "relabel = [ label_dict[tick] for tick in ticks ]\n",
    "#print(relabel)\n",
    "\n",
    "# Plot importance with axis with variable names\n",
    "xgb.plot_importance(trained_model).set_yticklabels(relabel)\n",
    "#plt.savefig('plots/importance_bst_weighted.png', bbox_inches = \"tight\")"
   ]
  },
  {
   "cell_type": "code",
   "execution_count": 54,
   "id": "05764870-0322-4193-8961-69c1a60526b7",
   "metadata": {},
   "outputs": [
    {
     "data": {
      "text/plain": [
       "<matplotlib.legend.Legend at 0x7f87a5740610>"
      ]
     },
     "execution_count": 54,
     "metadata": {},
     "output_type": "execute_result"
    },
    {
     "data": {
      "image/png": "[encoded data removed]",
      "text/plain": [
       "<Figure size 640x480 with 1 Axes>"
      ]
     },
     "metadata": {},
     "output_type": "display_data"
    }
   ],
   "source": [
    "# ROC\n",
    "from sklearn.metrics import roc_auc_score, classification_report, accuracy_score, roc_curve, confusion_matrix, average_precision_score, precision_recall_curve\n",
    "\n",
    "# make predictions\n",
    "\n",
    "fpr, tpr, thresholds = roc_curve(y_test, prediction)\n",
    "auc = roc_auc_score(y_test, prediction)\n",
    "precision, recall, thresholds2 = precision_recall_curve(y_test, prediction)\n",
    "\n",
    "plt.plot(fpr, tpr, color = \"red\", label = F\"AUC = {auc:.4f}\")\n",
    "\n",
    "plt.plot([0,1], [0,1] , color = \"black\", ls = \"--\")\n",
    "plt.xlim([-0.01, 1.01])\n",
    "plt.ylim([-0.01, 1.01])\n",
    "plt.xlabel('FPR' , fontsize=12)\n",
    "plt.ylabel('TPR' , fontsize=12)\n",
    "plt.tick_params(axis='both', which='major', labelsize=12)\n",
    "plt.legend( prop={'size':12} , loc = 4)\n",
    "#plt.savefig('plots/roc_curve_weighted_training.png')"
   ]
  },
  {
   "cell_type": "code",
   "execution_count": null,
   "id": "36ea7c12-6a58-46f9-9081-082d21a266e1",
   "metadata": {},
   "outputs": [],
   "source": []
  },
  {
   "cell_type": "markdown",
   "id": "9c4de31a-2d67-4f3d-bea6-0cb84a18ea0c",
   "metadata": {},
   "source": [
    "### WP"
   ]
  },
  {
   "cell_type": "code",
   "execution_count": 55,
   "id": "777ff2c4-17c4-4922-9d7a-ff0417ed85eb",
   "metadata": {},
   "outputs": [],
   "source": [
    "idx_valid = thresholds < 1\n",
    "\n",
    "tpr = tpr[idx_valid]\n",
    "thresholds = thresholds[idx_valid]"
   ]
  },
  {
   "cell_type": "code",
   "execution_count": 56,
   "id": "3222ca72-fff9-4985-998f-0b888b1e0c38",
   "metadata": {},
   "outputs": [],
   "source": [
    "tpr_WP = {'tight': 0.7, 'medium': 0.85, 'loose': 0.9}\n",
    "thres_WP = {'tight': 0, 'medium': 0, 'loose': 0}"
   ]
  },
  {
   "cell_type": "code",
   "execution_count": 57,
   "id": "bedfa9cd-7891-4558-8d61-7c52da2444df",
   "metadata": {},
   "outputs": [
    {
     "name": "stdout",
     "output_type": "stream",
     "text": [
      "tight threshold: 0.9394623041152954\n",
      "medium threshold: 0.756066620349884\n",
      "loose threshold: 0.54964280128479\n"
     ]
    }
   ],
   "source": [
    "epsilon = 0.005\n",
    "\n",
    "for wp in tpr_WP.keys():    \n",
    "    idx = np.where((tpr > tpr_WP[wp] - epsilon) & (tpr < tpr_WP[wp] + epsilon))\n",
    "    \n",
    "    thres_WP[wp] = thresholds[idx].mean()\n",
    "\n",
    "    print(f'{wp} threshold: {thres_WP[wp]}')"
   ]
  }
 ],
 "metadata": {
  "kernelspec": {
   "display_name": "Python 3 (ipykernel)",
   "language": "python",
   "name": "python3"
  },
  "language_info": {
   "codemirror_mode": {
    "name": "ipython",
    "version": 3
   },
   "file_extension": ".py",
   "mimetype": "text/x-python",
   "name": "python",
   "nbconvert_exporter": "python",
   "pygments_lexer": "ipython3",
   "version": "3.8.17"
  }
 },
 "nbformat": 4,
 "nbformat_minor": 5
}
