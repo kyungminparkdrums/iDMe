{
 "cells": [
  {
   "cell_type": "code",
   "execution_count": 1,
   "id": "e669ba8e-d8ae-45e9-bdac-9dabb1da3557",
   "metadata": {},
   "outputs": [],
   "source": [
    "%load_ext autoreload\n",
    "%autoreload 2\n",
    "import numpy as np\n",
    "import matplotlib.pyplot as plt\n",
    "import awkward as ak\n",
    "import sys\n",
    "sys.path.append(\"../../../analysisTools/\")\n",
    "from analysisTools import Analyzer\n",
    "from analysisTools import loadSchema\n",
    "import analysisTools as tools\n",
    "import analysisSubroutines as routines\n",
    "import importlib\n",
    "import coffea.util as util\n",
    "import time\n",
    "import json\n",
    "import os\n",
    "import glob"
   ]
  },
  {
   "cell_type": "code",
   "execution_count": 2,
   "id": "c59aff4f-6762-4e07-957a-349d22652fad",
   "metadata": {},
   "outputs": [],
   "source": [
    "outdir = \"./coffea/\"\n",
    "if not os.path.isdir(outdir):\n",
    "    os.mkdir(outdir)"
   ]
  },
  {
   "cell_type": "code",
   "execution_count": 3,
   "id": "73201266-7873-48cb-b6b9-ea70e7703e5b",
   "metadata": {},
   "outputs": [],
   "source": [
    "outdir = \"./coffea/skimmed/\"\n",
    "if not os.path.isdir(outdir):\n",
    "    os.mkdir(outdir)"
   ]
  },
  {
   "cell_type": "code",
   "execution_count": 4,
   "id": "513c6410-31ab-43fd-af86-07b2091965ab",
   "metadata": {},
   "outputs": [],
   "source": [
    "ct = 100"
   ]
  },
  {
   "cell_type": "code",
   "execution_count": 5,
   "id": "c72681ac-a0f5-402a-8a80-d5f17505b69c",
   "metadata": {},
   "outputs": [],
   "source": [
    "cuts_config = f\"./cut_configs/BDT_ctau-{ct}.py\"\n",
    "histos_config = \"./histo_configs/displacement.py\""
   ]
  },
  {
   "cell_type": "markdown",
   "id": "d248ae59-1cd0-45e3-91a1-3462012c6a27",
   "metadata": {},
   "source": [
    "### Signal"
   ]
  },
  {
   "cell_type": "code",
   "execution_count": 6,
   "id": "e0ecc4e0-151c-408b-b400-381d1e1a973e",
   "metadata": {},
   "outputs": [],
   "source": [
    "sample_config = f\"./sample_configs/skimmed_sig_v2_mA_3m1_2018_aEM_ctau-{ct}.json\""
   ]
  },
  {
   "cell_type": "code",
   "execution_count": 7,
   "id": "02537ff8-2bb2-4752-bed0-a504affad525",
   "metadata": {},
   "outputs": [
    {
     "data": {
      "application/vnd.jupyter.widget-view+json": {
       "model_id": "cdea88c90ff543e5bd0b9aa750b5d32f",
       "version_major": 2,
       "version_minor": 0
      },
      "text/plain": [
       "Output()"
      ]
     },
     "metadata": {},
     "output_type": "display_data"
    },
    {
     "data": {
      "text/html": [
       "<pre style=\"white-space:pre;overflow-x:auto;line-height:normal;font-family:Menlo,'DejaVu Sans Mono',consolas,'Courier New',monospace\"></pre>\n"
      ],
      "text/plain": []
     },
     "metadata": {},
     "output_type": "display_data"
    },
    {
     "data": {
      "text/html": [
       "<pre style=\"white-space:pre;overflow-x:auto;line-height:normal;font-family:Menlo,'DejaVu Sans Mono',consolas,'Courier New',monospace\">\n",
       "</pre>\n"
      ],
      "text/plain": [
       "\n"
      ]
     },
     "metadata": {},
     "output_type": "display_data"
    },
    {
     "data": {
      "application/vnd.jupyter.widget-view+json": {
       "model_id": "7e996929556d428d9a0b58cd0bbf03b7",
       "version_major": 2,
       "version_minor": 0
      },
      "text/plain": [
       "Output()"
      ]
     },
     "metadata": {},
     "output_type": "display_data"
    },
    {
     "name": "stdout",
     "output_type": "stream",
     "text": [
      "BDT Pass: 236/782\n",
      "BDT Pass: 368/972\n",
      "BDT Pass: 823/2173\n",
      "BDT Pass: 714/2261\n",
      "BDT Pass: 224/666\n",
      "BDT Pass: 202/757\n",
      "BDT Pass: 157/600\n",
      "BDT Pass: 15/147\n",
      "\n",
      "BDT Pass: 35/666\n",
      "BDT Pass: 181/590\n",
      "BDT Pass: 222/821\n",
      "BDT Pass: 299/1244\n",
      "BDT Pass: 97/394\n",
      "BDT Pass: 290/1222\n",
      "BDT Pass: 81/576\n",
      "BDT Pass: 94/436\n",
      "BDT Pass: 184/1027\n",
      "BDT Pass: 55/342\n",
      "BDT Pass: 89/776\n",
      "BDT Pass: 501/1230\n",
      "BDT Pass: 1091/3281\n"
     ]
    },
    {
     "data": {
      "text/html": [
       "<pre style=\"white-space:pre;overflow-x:auto;line-height:normal;font-family:Menlo,'DejaVu Sans Mono',consolas,'Courier New',monospace\"></pre>\n"
      ],
      "text/plain": []
     },
     "metadata": {},
     "output_type": "display_data"
    },
    {
     "data": {
      "text/html": [
       "<pre style=\"white-space:pre;overflow-x:auto;line-height:normal;font-family:Menlo,'DejaVu Sans Mono',consolas,'Courier New',monospace\">\n",
       "</pre>\n"
      ],
      "text/plain": [
       "\n"
      ]
     },
     "metadata": {},
     "output_type": "display_data"
    },
    {
     "name": "stdout",
     "output_type": "stream",
     "text": [
      "Runtime: 2.51 minutes\n"
     ]
    }
   ],
   "source": [
    "test = Analyzer(sample_config,histos_config,cuts_config, max_samples=-1) # run over all samples in the config\n",
    "\n",
    "t1 = time.time()\n",
    "out = test.process(execr='futures')\n",
    "t2 = time.time()\n",
    "\n",
    "print(\"Runtime: {:.2f} minutes\".format((t2-t1)/60))\n",
    "util.save(out,f\"{outdir}/signal_SR_BDT_ctau-{ct}.coffea\")\n",
    "\n",
    "del out, test"
   ]
  },
  {
   "cell_type": "markdown",
   "id": "97b2ff87-c610-4e5a-9d3d-0255d980dbe3",
   "metadata": {},
   "source": [
    "### Background"
   ]
  },
  {
   "cell_type": "code",
   "execution_count": 8,
   "id": "c65bc29b-bfda-48ed-84d4-7ea8f8eded39",
   "metadata": {},
   "outputs": [
    {
     "name": "stdout",
     "output_type": "stream",
     "text": [
      "['../../../configs/sample_configs/skimmed_bkg_2018_DY.json', '../../../configs/sample_configs/skimmed_bkg_2018_Diboson.json', '../../../configs/sample_configs/skimmed_bkg_2018_QCD_TuneCP5_PSWeights.json', '../../../configs/sample_configs/skimmed_bkg_2018_TTJetsDiLept.json', '../../../configs/sample_configs/skimmed_bkg_2018_Top.json', '../../../configs/sample_configs/skimmed_bkg_2018_Triboson.json', '../../../configs/sample_configs/skimmed_bkg_2018_WJets.json', '../../../configs/sample_configs/skimmed_bkg_2018_ZJets.json']\n"
     ]
    }
   ],
   "source": [
    "bkg_configs = glob.glob(\"../../../configs/sample_configs/skimmed_bkg*.json\")\n",
    "\n",
    "print(bkg_configs)"
   ]
  },
  {
   "cell_type": "code",
   "execution_count": 9,
   "id": "f7af452c-6938-4868-8307-bd0f6b2e330d",
   "metadata": {},
   "outputs": [
    {
     "name": "stdout",
     "output_type": "stream",
     "text": [
      "bkg_2018_DY\n"
     ]
    },
    {
     "data": {
      "application/vnd.jupyter.widget-view+json": {
       "model_id": "28919fedd72f4f1d92b14668a8468c69",
       "version_major": 2,
       "version_minor": 0
      },
      "text/plain": [
       "Output()"
      ]
     },
     "metadata": {},
     "output_type": "display_data"
    },
    {
     "data": {
      "text/html": [
       "<pre style=\"white-space:pre;overflow-x:auto;line-height:normal;font-family:Menlo,'DejaVu Sans Mono',consolas,'Courier New',monospace\"></pre>\n"
      ],
      "text/plain": []
     },
     "metadata": {},
     "output_type": "display_data"
    },
    {
     "data": {
      "text/html": [
       "<pre style=\"white-space:pre;overflow-x:auto;line-height:normal;font-family:Menlo,'DejaVu Sans Mono',consolas,'Courier New',monospace\">\n",
       "</pre>\n"
      ],
      "text/plain": [
       "\n"
      ]
     },
     "metadata": {},
     "output_type": "display_data"
    },
    {
     "data": {
      "application/vnd.jupyter.widget-view+json": {
       "model_id": "57817c1d058a43b7bb25c3c2a1c2552e",
       "version_major": 2,
       "version_minor": 0
      },
      "text/plain": [
       "Output()"
      ]
     },
     "metadata": {},
     "output_type": "display_data"
    },
    {
     "name": "stdout",
     "output_type": "stream",
     "text": [
      "BDT Pass: 0/2\n",
      "BDT Pass: 0/1\n",
      "BDT Pass: 0/1\n",
      "BDT Pass: 0/1\n",
      "BDT Pass: 0/2\n",
      "\n"
     ]
    },
    {
     "data": {
      "text/html": [
       "<pre style=\"white-space:pre;overflow-x:auto;line-height:normal;font-family:Menlo,'DejaVu Sans Mono',consolas,'Courier New',monospace\"></pre>\n"
      ],
      "text/plain": []
     },
     "metadata": {},
     "output_type": "display_data"
    },
    {
     "data": {
      "text/html": [
       "<pre style=\"white-space:pre;overflow-x:auto;line-height:normal;font-family:Menlo,'DejaVu Sans Mono',consolas,'Courier New',monospace\">\n",
       "</pre>\n"
      ],
      "text/plain": [
       "\n"
      ]
     },
     "metadata": {},
     "output_type": "display_data"
    },
    {
     "name": "stdout",
     "output_type": "stream",
     "text": [
      "Runtime: 0.95 minutes\n",
      "bkg_2018_Diboson\n"
     ]
    },
    {
     "data": {
      "application/vnd.jupyter.widget-view+json": {
       "model_id": "532275305e6647398c93fc9aa1b3bff3",
       "version_major": 2,
       "version_minor": 0
      },
      "text/plain": [
       "Output()"
      ]
     },
     "metadata": {},
     "output_type": "display_data"
    },
    {
     "data": {
      "text/html": [
       "<pre style=\"white-space:pre;overflow-x:auto;line-height:normal;font-family:Menlo,'DejaVu Sans Mono',consolas,'Courier New',monospace\"></pre>\n"
      ],
      "text/plain": []
     },
     "metadata": {},
     "output_type": "display_data"
    },
    {
     "data": {
      "text/html": [
       "<pre style=\"white-space:pre;overflow-x:auto;line-height:normal;font-family:Menlo,'DejaVu Sans Mono',consolas,'Courier New',monospace\">\n",
       "</pre>\n"
      ],
      "text/plain": [
       "\n"
      ]
     },
     "metadata": {},
     "output_type": "display_data"
    },
    {
     "data": {
      "application/vnd.jupyter.widget-view+json": {
       "model_id": "7519f262e1654d0484202ef5526c736b",
       "version_major": 2,
       "version_minor": 0
      },
      "text/plain": [
       "Output()"
      ]
     },
     "metadata": {},
     "output_type": "display_data"
    },
    {
     "name": "stdout",
     "output_type": "stream",
     "text": [
      "BDT Pass: 0/90\n",
      "BDT Pass: 0/91\n",
      "BDT Pass: 0/146\n",
      "BDT Pass: 0/91\n",
      "BDT Pass: 0/100\n",
      "BDT Pass: 0/112\n",
      "BDT Pass: 0/29\n",
      "BDT Pass: 0/108\n"
     ]
    },
    {
     "data": {
      "text/html": [
       "<pre style=\"white-space:pre;overflow-x:auto;line-height:normal;font-family:Menlo,'DejaVu Sans Mono',consolas,'Courier New',monospace\"></pre>\n"
      ],
      "text/plain": []
     },
     "metadata": {},
     "output_type": "display_data"
    },
    {
     "data": {
      "text/html": [
       "<pre style=\"white-space:pre;overflow-x:auto;line-height:normal;font-family:Menlo,'DejaVu Sans Mono',consolas,'Courier New',monospace\">\n",
       "</pre>\n"
      ],
      "text/plain": [
       "\n"
      ]
     },
     "metadata": {},
     "output_type": "display_data"
    },
    {
     "name": "stdout",
     "output_type": "stream",
     "text": [
      "Runtime: 0.65 minutes\n",
      "bkg_2018_QCD_TuneCP5_PSWeights\n"
     ]
    },
    {
     "data": {
      "application/vnd.jupyter.widget-view+json": {
       "model_id": "cd8f4f3b4e734c1c94015545a9c8d403",
       "version_major": 2,
       "version_minor": 0
      },
      "text/plain": [
       "Output()"
      ]
     },
     "metadata": {},
     "output_type": "display_data"
    },
    {
     "data": {
      "text/html": [
       "<pre style=\"white-space:pre;overflow-x:auto;line-height:normal;font-family:Menlo,'DejaVu Sans Mono',consolas,'Courier New',monospace\"></pre>\n"
      ],
      "text/plain": []
     },
     "metadata": {},
     "output_type": "display_data"
    },
    {
     "data": {
      "text/html": [
       "<pre style=\"white-space:pre;overflow-x:auto;line-height:normal;font-family:Menlo,'DejaVu Sans Mono',consolas,'Courier New',monospace\">\n",
       "</pre>\n"
      ],
      "text/plain": [
       "\n"
      ]
     },
     "metadata": {},
     "output_type": "display_data"
    },
    {
     "data": {
      "application/vnd.jupyter.widget-view+json": {
       "model_id": "685db7612b944b8482a2c778905e1c42",
       "version_major": 2,
       "version_minor": 0
      },
      "text/plain": [
       "Output()"
      ]
     },
     "metadata": {},
     "output_type": "display_data"
    },
    {
     "name": "stdout",
     "output_type": "stream",
     "text": [
      "BDT Pass: 0/1\n",
      "BDT Pass: 0/1\n",
      "BDT Pass: 0/1\n"
     ]
    },
    {
     "data": {
      "text/html": [
       "<pre style=\"white-space:pre;overflow-x:auto;line-height:normal;font-family:Menlo,'DejaVu Sans Mono',consolas,'Courier New',monospace\"></pre>\n"
      ],
      "text/plain": []
     },
     "metadata": {},
     "output_type": "display_data"
    },
    {
     "data": {
      "text/html": [
       "<pre style=\"white-space:pre;overflow-x:auto;line-height:normal;font-family:Menlo,'DejaVu Sans Mono',consolas,'Courier New',monospace\">\n",
       "</pre>\n"
      ],
      "text/plain": [
       "\n"
      ]
     },
     "metadata": {},
     "output_type": "display_data"
    },
    {
     "name": "stdout",
     "output_type": "stream",
     "text": [
      "Runtime: 2.84 minutes\n",
      "bkg_2018_TTJetsDiLept\n",
      "bkg_2018_Top\n"
     ]
    },
    {
     "data": {
      "application/vnd.jupyter.widget-view+json": {
       "model_id": "3a09e1673fa6473aa82b9e280553aa92",
       "version_major": 2,
       "version_minor": 0
      },
      "text/plain": [
       "Output()"
      ]
     },
     "metadata": {},
     "output_type": "display_data"
    },
    {
     "data": {
      "text/html": [
       "<pre style=\"white-space:pre;overflow-x:auto;line-height:normal;font-family:Menlo,'DejaVu Sans Mono',consolas,'Courier New',monospace\"></pre>\n"
      ],
      "text/plain": []
     },
     "metadata": {},
     "output_type": "display_data"
    },
    {
     "data": {
      "text/html": [
       "<pre style=\"white-space:pre;overflow-x:auto;line-height:normal;font-family:Menlo,'DejaVu Sans Mono',consolas,'Courier New',monospace\">\n",
       "</pre>\n"
      ],
      "text/plain": [
       "\n"
      ]
     },
     "metadata": {},
     "output_type": "display_data"
    },
    {
     "data": {
      "application/vnd.jupyter.widget-view+json": {
       "model_id": "5086829fcd5149c396fa56ceb306cb8b",
       "version_major": 2,
       "version_minor": 0
      },
      "text/plain": [
       "Output()"
      ]
     },
     "metadata": {},
     "output_type": "display_data"
    },
    {
     "name": "stdout",
     "output_type": "stream",
     "text": [
      "BDT Pass: 0/12\n",
      "BDT Pass: 0/22\n",
      "BDT Pass: 0/17\n",
      "BDT Pass: 0/24\n",
      "BDT Pass: 0/9\n",
      "BDT Pass: 0/15\n",
      "BDT Pass: 0/22\n",
      "BDT Pass: 0/6\n",
      "BDT Pass: 0/6\n",
      "BDT Pass: 0/9\n",
      "BDT Pass: 0/3\n",
      "BDT Pass: 0/23BDT Pass: 0/29\n",
      "\n",
      "BDT Pass: 0/29\n",
      "BDT Pass: 0/26\n",
      "BDT Pass: 0/6\n",
      "BDT Pass: 0/18\n",
      "BDT Pass: 0/7\n",
      "BDT Pass: 0/20\n",
      "BDT Pass: 0/30\n",
      "BDT Pass: 0/28\n",
      "BDT Pass: 0/34\n",
      "BDT Pass: 0/28\n",
      "BDT Pass: 0/31\n",
      "BDT Pass: 0/17\n",
      "BDT Pass: 0/23\n",
      "BDT Pass: 0/25\n",
      "BDT Pass: 0/7\n",
      "BDT Pass: 0/24\n",
      "BDT Pass: 0/10\n",
      "BDT Pass: 0/13\n",
      "BDT Pass: 0/13\n",
      "BDT Pass: 0/17\n",
      "BDT Pass: 0/53\n",
      "BDT Pass: 0/52\n",
      "BDT Pass: 0/42\n",
      "BDT Pass: 0/56\n",
      "BDT Pass: 0/14\n",
      "BDT Pass: 0/5\n",
      "BDT Pass: 0/7\n",
      "BDT Pass: 0/20\n",
      "BDT Pass: 0/6\n",
      "BDT Pass: 0/4\n",
      "BDT Pass: 0/40\n",
      "BDT Pass: 0/43\n",
      "BDT Pass: 0/47\n",
      "BDT Pass: 0/10\n",
      "BDT Pass: 0/32\n",
      "BDT Pass: 0/9\n",
      "BDT Pass: 0/6\n",
      "BDT Pass: 0/7\n",
      "BDT Pass: 0/8\n",
      "BDT Pass: 0/24\n",
      "BDT Pass: 0/51\n",
      "BDT Pass: 0/39\n",
      "BDT Pass: 1/31\n",
      "BDT Pass: 0/49\n",
      "BDT Pass: 0/3BDT Pass: 0/6BDT Pass: 0/23\n",
      "\n",
      "\n",
      "BDT Pass: 0/9\n",
      "BDT Pass: 0/11\n",
      "BDT Pass: 0/5\n",
      "BDT Pass: 0/8\n",
      "BDT Pass: 0/8\n",
      "BDT Pass: 0/35\n",
      "BDT Pass: 0/40\n",
      "BDT Pass: 0/42\n",
      "BDT Pass: 0/35\n",
      "BDT Pass: 0/10\n",
      "BDT Pass: 0/22\n",
      "BDT Pass: 0/8\n",
      "BDT Pass: 0/8\n",
      "BDT Pass: 0/8\n",
      "BDT Pass: 0/26\n",
      "BDT Pass: 0/5\n",
      "BDT Pass: 0/41\n",
      "BDT Pass: 0/30\n",
      "BDT Pass: 0/20\n",
      "BDT Pass: 0/37\n",
      "BDT Pass: 0/12\n",
      "BDT Pass: 0/5\n",
      "BDT Pass: 0/10\n",
      "BDT Pass: 0/11BDT Pass: 0/7\n",
      "BDT Pass: 0/10\n",
      "BDT Pass: 0/7\n",
      "BDT Pass: 0/40\n",
      "BDT Pass: 1/33\n",
      "BDT Pass: 0/40\n",
      "BDT Pass: 0/18\n",
      "BDT Pass: 0/50\n",
      "BDT Pass: 0/12\n",
      "BDT Pass: 0/23\n",
      "BDT Pass: 0/15\n",
      "BDT Pass: 0/8\n",
      "BDT Pass: 0/7\n"
     ]
    },
    {
     "data": {
      "text/html": [
       "<pre style=\"white-space:pre;overflow-x:auto;line-height:normal;font-family:Menlo,'DejaVu Sans Mono',consolas,'Courier New',monospace\"></pre>\n"
      ],
      "text/plain": []
     },
     "metadata": {},
     "output_type": "display_data"
    },
    {
     "data": {
      "text/html": [
       "<pre style=\"white-space:pre;overflow-x:auto;line-height:normal;font-family:Menlo,'DejaVu Sans Mono',consolas,'Courier New',monospace\">\n",
       "</pre>\n"
      ],
      "text/plain": [
       "\n"
      ]
     },
     "metadata": {},
     "output_type": "display_data"
    },
    {
     "name": "stdout",
     "output_type": "stream",
     "text": [
      "Runtime: 5.28 minutes\n",
      "bkg_2018_Triboson\n"
     ]
    },
    {
     "data": {
      "application/vnd.jupyter.widget-view+json": {
       "model_id": "6e47f09e050c4336ae3191c0136b6e22",
       "version_major": 2,
       "version_minor": 0
      },
      "text/plain": [
       "Output()"
      ]
     },
     "metadata": {},
     "output_type": "display_data"
    },
    {
     "data": {
      "text/html": [
       "<pre style=\"white-space:pre;overflow-x:auto;line-height:normal;font-family:Menlo,'DejaVu Sans Mono',consolas,'Courier New',monospace\"></pre>\n"
      ],
      "text/plain": []
     },
     "metadata": {},
     "output_type": "display_data"
    },
    {
     "data": {
      "text/html": [
       "<pre style=\"white-space:pre;overflow-x:auto;line-height:normal;font-family:Menlo,'DejaVu Sans Mono',consolas,'Courier New',monospace\">\n",
       "</pre>\n"
      ],
      "text/plain": [
       "\n"
      ]
     },
     "metadata": {},
     "output_type": "display_data"
    },
    {
     "data": {
      "application/vnd.jupyter.widget-view+json": {
       "model_id": "b56c59fc4ccd4f3e952d53c0387a173f",
       "version_major": 2,
       "version_minor": 0
      },
      "text/plain": [
       "Output()"
      ]
     },
     "metadata": {},
     "output_type": "display_data"
    },
    {
     "name": "stdout",
     "output_type": "stream",
     "text": [
      "BDT Pass: 0/13\n",
      "BDT Pass: 0/35\n",
      "BDT Pass: 0/26\n",
      "BDT Pass: 0/18\n"
     ]
    },
    {
     "data": {
      "text/html": [
       "<pre style=\"white-space:pre;overflow-x:auto;line-height:normal;font-family:Menlo,'DejaVu Sans Mono',consolas,'Courier New',monospace\"></pre>\n"
      ],
      "text/plain": []
     },
     "metadata": {},
     "output_type": "display_data"
    },
    {
     "data": {
      "text/html": [
       "<pre style=\"white-space:pre;overflow-x:auto;line-height:normal;font-family:Menlo,'DejaVu Sans Mono',consolas,'Courier New',monospace\">\n",
       "</pre>\n"
      ],
      "text/plain": [
       "\n"
      ]
     },
     "metadata": {},
     "output_type": "display_data"
    },
    {
     "name": "stdout",
     "output_type": "stream",
     "text": [
      "Runtime: 0.32 minutes\n",
      "bkg_2018_WJets\n"
     ]
    },
    {
     "data": {
      "application/vnd.jupyter.widget-view+json": {
       "model_id": "e9451510f00340d98e7da7b486642de5",
       "version_major": 2,
       "version_minor": 0
      },
      "text/plain": [
       "Output()"
      ]
     },
     "metadata": {},
     "output_type": "display_data"
    },
    {
     "data": {
      "text/html": [
       "<pre style=\"white-space:pre;overflow-x:auto;line-height:normal;font-family:Menlo,'DejaVu Sans Mono',consolas,'Courier New',monospace\"></pre>\n"
      ],
      "text/plain": []
     },
     "metadata": {},
     "output_type": "display_data"
    },
    {
     "data": {
      "text/html": [
       "<pre style=\"white-space:pre;overflow-x:auto;line-height:normal;font-family:Menlo,'DejaVu Sans Mono',consolas,'Courier New',monospace\">\n",
       "</pre>\n"
      ],
      "text/plain": [
       "\n"
      ]
     },
     "metadata": {},
     "output_type": "display_data"
    },
    {
     "data": {
      "application/vnd.jupyter.widget-view+json": {
       "model_id": "1ac0cc66cd3d43b8b13d903b9c7d1aad",
       "version_major": 2,
       "version_minor": 0
      },
      "text/plain": [
       "Output()"
      ]
     },
     "metadata": {},
     "output_type": "display_data"
    },
    {
     "name": "stdout",
     "output_type": "stream",
     "text": [
      "BDT Pass: 0/28\n",
      "BDT Pass: 1/583\n",
      "BDT Pass: 0/151\n",
      "BDT Pass: 3/487\n",
      "BDT Pass: 1/255\n",
      "BDT Pass: 0/273\n",
      "BDT Pass: 0/130\n",
      "BDT Pass: 0/270\n",
      "BDT Pass: 0/262\n",
      "BDT Pass: 0/280\n",
      "BDT Pass: 0/271\n",
      "BDT Pass: 0/100\n",
      "BDT Pass: 0/137\n",
      "BDT Pass: 0/141\n",
      "BDT Pass: 1/526\n",
      "BDT Pass: 1/389\n",
      "BDT Pass: 2/1086\n",
      "BDT Pass: 1/1160\n",
      "BDT Pass: 0/319\n",
      "BDT Pass: 0/365\n",
      "BDT Pass: 1/367\n",
      "BDT Pass: 0/321\n",
      "BDT Pass: 0/346\n",
      "BDT Pass: 1/1369\n",
      "BDT Pass: 1/2248\n",
      "BDT Pass: 1/860\n",
      "BDT Pass: 2/2786\n",
      "BDT Pass: 3/333\n",
      "BDT Pass: 6/2752\n",
      "BDT Pass: 0/348\n",
      "BDT Pass: 0/355\n",
      "BDT Pass: 1/359\n",
      "BDT Pass: 1/1480\n",
      "BDT Pass: 0/236\n",
      "BDT Pass: 1/190\n",
      "BDT Pass: 1/2806\n",
      "BDT Pass: 3/2781\n",
      "BDT Pass: 1/223\n",
      "BDT Pass: 0/371\n",
      "BDT Pass: 1/333\n",
      "BDT Pass: 1/687\n",
      "BDT Pass: 0/326"
     ]
    },
    {
     "data": {
      "text/html": [
       "<pre style=\"white-space:pre;overflow-x:auto;line-height:normal;font-family:Menlo,'DejaVu Sans Mono',consolas,'Courier New',monospace\"></pre>\n"
      ],
      "text/plain": []
     },
     "metadata": {},
     "output_type": "display_data"
    },
    {
     "data": {
      "text/html": [
       "<pre style=\"white-space:pre;overflow-x:auto;line-height:normal;font-family:Menlo,'DejaVu Sans Mono',consolas,'Courier New',monospace\">\n",
       "</pre>\n"
      ],
      "text/plain": [
       "\n"
      ]
     },
     "metadata": {},
     "output_type": "display_data"
    },
    {
     "name": "stdout",
     "output_type": "stream",
     "text": [
      "Runtime: 3.30 minutes\n",
      "bkg_2018_ZJets\n"
     ]
    },
    {
     "data": {
      "application/vnd.jupyter.widget-view+json": {
       "model_id": "39ae411b492045449107b85c6190db6a",
       "version_major": 2,
       "version_minor": 0
      },
      "text/plain": [
       "Output()"
      ]
     },
     "metadata": {},
     "output_type": "display_data"
    },
    {
     "data": {
      "text/html": [
       "<pre style=\"white-space:pre;overflow-x:auto;line-height:normal;font-family:Menlo,'DejaVu Sans Mono',consolas,'Courier New',monospace\"></pre>\n"
      ],
      "text/plain": []
     },
     "metadata": {},
     "output_type": "display_data"
    },
    {
     "data": {
      "text/html": [
       "<pre style=\"white-space:pre;overflow-x:auto;line-height:normal;font-family:Menlo,'DejaVu Sans Mono',consolas,'Courier New',monospace\">\n",
       "</pre>\n"
      ],
      "text/plain": [
       "\n"
      ]
     },
     "metadata": {},
     "output_type": "display_data"
    },
    {
     "data": {
      "application/vnd.jupyter.widget-view+json": {
       "model_id": "a0081572c30d49b89f95ad8543b34007",
       "version_major": 2,
       "version_minor": 0
      },
      "text/plain": [
       "Output()"
      ]
     },
     "metadata": {},
     "output_type": "display_data"
    },
    {
     "name": "stdout",
     "output_type": "stream",
     "text": [
      "BDT Pass: 0/42\n",
      "BDT Pass: 1/522\n",
      "BDT Pass: 1/550\n",
      "BDT Pass: 0/393\n",
      "BDT Pass: 0/203\n",
      "BDT Pass: 1/391\n",
      "BDT Pass: 0/237\n",
      "BDT Pass: 1/2489\n",
      "BDT Pass: 1/3355\n",
      "BDT Pass: 2/5643\n",
      "BDT Pass: 6/5546\n",
      "BDT Pass: 3/4407\n",
      "BDT Pass: 0/7\n",
      "BDT Pass: 1/2605\n",
      "BDT Pass: 1/2630\n",
      "BDT Pass: 1/528\n",
      "BDT Pass: 2/2308\n",
      "BDT Pass: 0/2250\n",
      "BDT Pass: 0/1006\n",
      "BDT Pass: 3/3428\n",
      "BDT Pass: 3/2920\n",
      "BDT Pass: 1/3020\n"
     ]
    },
    {
     "data": {
      "text/html": [
       "<pre style=\"white-space:pre;overflow-x:auto;line-height:normal;font-family:Menlo,'DejaVu Sans Mono',consolas,'Courier New',monospace\"></pre>\n"
      ],
      "text/plain": []
     },
     "metadata": {},
     "output_type": "display_data"
    },
    {
     "data": {
      "text/html": [
       "<pre style=\"white-space:pre;overflow-x:auto;line-height:normal;font-family:Menlo,'DejaVu Sans Mono',consolas,'Courier New',monospace\">\n",
       "</pre>\n"
      ],
      "text/plain": [
       "\n"
      ]
     },
     "metadata": {},
     "output_type": "display_data"
    },
    {
     "name": "stdout",
     "output_type": "stream",
     "text": [
      "Runtime: 3.23 minutes\n"
     ]
    }
   ],
   "source": [
    "for bkg in bkg_configs:\n",
    "    process = bkg.split('/')[-1].split('.json')[0].split('skimmed_')[-1]\n",
    "    print(process)\n",
    "\n",
    "    if 'TTJetsDiLept' in bkg: # currently not available ntuples\n",
    "        continue\n",
    "    \n",
    "    test = Analyzer(bkg,histos_config,cuts_config) \n",
    "        \n",
    "    t1 = time.time()\n",
    "    out = test.process(execr='futures')\n",
    "    t2 = time.time()\n",
    "        \n",
    "    print(\"Runtime: {:.2f} minutes\".format((t2-t1)/60))\n",
    "    util.save(out,f\"{outdir}/{process}_SR_BDT_ctau-{ct}.coffea\")\n",
    "    del out, test"
   ]
  },
  {
   "cell_type": "code",
   "execution_count": null,
   "id": "fac8d8c8-dc33-4fff-a0e9-0d2b7fb6cd7b",
   "metadata": {},
   "outputs": [],
   "source": []
  }
 ],
 "metadata": {
  "kernelspec": {
   "display_name": "Python 3 (ipykernel)",
   "language": "python",
   "name": "python3"
  },
  "language_info": {
   "codemirror_mode": {
    "name": "ipython",
    "version": 3
   },
   "file_extension": ".py",
   "mimetype": "text/x-python",
   "name": "python",
   "nbconvert_exporter": "python",
   "pygments_lexer": "ipython3",
   "version": "3.8.17"
  }
 },
 "nbformat": 4,
 "nbformat_minor": 5
}
