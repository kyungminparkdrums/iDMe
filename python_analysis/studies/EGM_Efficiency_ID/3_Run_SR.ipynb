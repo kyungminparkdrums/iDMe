{
 "cells": [
  {
   "cell_type": "code",
   "execution_count": 1,
   "id": "e669ba8e-d8ae-45e9-bdac-9dabb1da3557",
   "metadata": {},
   "outputs": [],
   "source": [
    "%load_ext autoreload\n",
    "%autoreload 2\n",
    "import numpy as np\n",
    "import matplotlib.pyplot as plt\n",
    "import awkward as ak\n",
    "import sys\n",
    "sys.path.append(\"../../analysisTools/\")\n",
    "from analysisTools import Analyzer\n",
    "from analysisTools import loadSchema\n",
    "import analysisTools as tools\n",
    "import analysisSubroutines as routines\n",
    "import importlib\n",
    "import coffea.util as util\n",
    "import time\n",
    "import json\n",
    "import os\n",
    "import glob"
   ]
  },
  {
   "cell_type": "code",
   "execution_count": null,
   "id": "6a68e4a5-fbb9-45fb-91f1-638ad84c22d1",
   "metadata": {},
   "outputs": [],
   "source": []
  },
  {
   "cell_type": "code",
   "execution_count": 2,
   "id": "c59aff4f-6762-4e07-957a-349d22652fad",
   "metadata": {},
   "outputs": [],
   "source": [
    "outdir = \"./coffea/\"\n",
    "if not os.path.isdir(outdir):\n",
    "    os.mkdir(outdir)"
   ]
  },
  {
   "cell_type": "code",
   "execution_count": 3,
   "id": "73201266-7873-48cb-b6b9-ea70e7703e5b",
   "metadata": {},
   "outputs": [],
   "source": [
    "outdir = \"./coffea/skimmed/\"\n",
    "if not os.path.isdir(outdir):\n",
    "    os.mkdir(outdir)"
   ]
  },
  {
   "cell_type": "code",
   "execution_count": 4,
   "id": "c72681ac-a0f5-402a-8a80-d5f17505b69c",
   "metadata": {},
   "outputs": [],
   "source": [
    "#cuts_config = \"./cut_configs/NoCut.py\"\n",
    "\n",
    "cuts_config = \"./cut_configs/BDT_ABCD_SR.py\"\n",
    "#histos_config = \"./histo_configs/histos_gen.py\"\n",
    "histos_config = \"./histo_configs/histo_efficiency.py\""
   ]
  },
  {
   "cell_type": "code",
   "execution_count": null,
   "id": "332c38ba-db6d-4cde-9e46-65c272ab7fee",
   "metadata": {},
   "outputs": [],
   "source": []
  },
  {
   "cell_type": "markdown",
   "id": "d248ae59-1cd0-45e3-91a1-3462012c6a27",
   "metadata": {},
   "source": [
    "### Signal"
   ]
  },
  {
   "cell_type": "code",
   "execution_count": 8,
   "id": "e0ecc4e0-151c-408b-b400-381d1e1a973e",
   "metadata": {},
   "outputs": [],
   "source": [
    "sample_config = \"./sample_configs/skimmed_signal_2018_official_MET200.json\""
   ]
  },
  {
   "cell_type": "code",
   "execution_count": 5,
   "id": "428a1241-611c-4d36-bb91-3aaee2fd0ca7",
   "metadata": {},
   "outputs": [],
   "source": [
    "outname = '2018_SR_v27_xclean_nominal'"
   ]
  },
  {
   "cell_type": "code",
   "execution_count": 9,
   "id": "ffb250b7-12f8-43b3-bafc-51560ecb67b7",
   "metadata": {
    "scrolled": true
   },
   "outputs": [
    {
     "name": "stdout",
     "output_type": "stream",
     "text": [
      "None\n"
     ]
    },
    {
     "data": {
      "application/vnd.jupyter.widget-view+json": {
       "model_id": "9a3cb48f81d64bd9b083086da365df34",
       "version_major": 2,
       "version_minor": 0
      },
      "text/plain": [
       "Output()"
      ]
     },
     "metadata": {},
     "output_type": "display_data"
    },
    {
     "data": {
      "text/html": [
       "<pre style=\"white-space:pre;overflow-x:auto;line-height:normal;font-family:Menlo,'DejaVu Sans Mono',consolas,'Courier New',monospace\"></pre>\n"
      ],
      "text/plain": []
     },
     "metadata": {},
     "output_type": "display_data"
    },
    {
     "data": {
      "text/html": [
       "<pre style=\"white-space:pre;overflow-x:auto;line-height:normal;font-family:Menlo,'DejaVu Sans Mono',consolas,'Courier New',monospace\">\n",
       "</pre>\n"
      ],
      "text/plain": [
       "\n"
      ]
     },
     "metadata": {},
     "output_type": "display_data"
    },
    {
     "data": {
      "application/vnd.jupyter.widget-view+json": {
       "model_id": "965fda3275b34138ab803fd7b722bb92",
       "version_major": 2,
       "version_minor": 0
      },
      "text/plain": [
       "Output()"
      ]
     },
     "metadata": {},
     "output_type": "display_data"
    },
    {
     "name": "stdout",
     "output_type": "stream",
     "text": [
      "BDT Pass: 281/520\n",
      "BDT Pass: 140/771\n",
      "BDT Pass: 336/482\n",
      "BDT Pass: 310/498\n",
      "BDT Pass: 296/539\n",
      "BDT Pass: 106/675\n",
      "BDT Pass: 310/550\n",
      "BDT Pass: 152/798\n",
      "BDT Pass: 289/541\n",
      "BDT Pass: 328/488\n",
      "BDT Pass: 114/659\n",
      "BDT Pass: 339/482\n",
      "BDT Pass: 288/492\n",
      "BDT Pass: 134/675\n",
      "BDT Pass: 273/500\n",
      "BDT Pass: 356/501\n",
      "BDT Pass: 126/669\n",
      "BDT Pass: 334/476\n",
      "BDT Pass: 128/680\n",
      "BDT Pass: 316/550\n",
      "BDT Pass: 262/456\n",
      "BDT Pass: 115/592\n",
      "BDT Pass: 317/460\n"
     ]
    },
    {
     "name": "stderr",
     "output_type": "stream",
     "text": [
      "/uscms/home/kyungmip/nobackup/miniconda3/envs/debug/lib/python3.8/site-packages/awkward/_connect/_numpy.py:195: RuntimeWarning: invalid value encountered in arccos\n",
      "  result = getattr(ufunc, method)(\n"
     ]
    },
    {
     "name": "stdout",
     "output_type": "stream",
     "text": [
      "BDT Pass: 93/202\n",
      "BDT Pass: 129/666\n",
      "BDT Pass: 22/117\n",
      "BDT Pass: 222/537\n",
      "BDT Pass: 220/799\n"
     ]
    },
    {
     "name": "stderr",
     "output_type": "stream",
     "text": [
      "/uscms/home/kyungmip/nobackup/miniconda3/envs/debug/lib/python3.8/site-packages/awkward/_connect/_numpy.py:195: RuntimeWarning: invalid value encountered in arccos\n",
      "  result = getattr(ufunc, method)(\n"
     ]
    },
    {
     "name": "stdout",
     "output_type": "stream",
     "text": [
      "BDT Pass: 277/531\n",
      "BDT Pass: 96/822\n",
      "BDT Pass: 377/528\n",
      "BDT Pass: 119/581\n",
      "BDT Pass: 134/624\n",
      "BDT Pass: 302/533\n",
      "BDT Pass: 366/514\n"
     ]
    },
    {
     "name": "stderr",
     "output_type": "stream",
     "text": [
      "/uscms/home/kyungmip/nobackup/miniconda3/envs/debug/lib/python3.8/site-packages/awkward/_connect/_numpy.py:195: RuntimeWarning: invalid value encountered in arccos\n",
      "  result = getattr(ufunc, method)(\n"
     ]
    },
    {
     "name": "stdout",
     "output_type": "stream",
     "text": [
      "BDT Pass: 334/474\n",
      "BDT Pass: 335/565\n",
      "BDT Pass: 130/592\n",
      "BDT Pass: 290/489\n",
      "BDT Pass: 381/542\n",
      "BDT Pass: 363/509\n",
      "BDT Pass: 351/551\n",
      "BDT Pass: 120/577\n",
      "BDT Pass: 137/603\n",
      "BDT Pass: 405/576\n",
      "BDT Pass: 316/580\n"
     ]
    },
    {
     "name": "stderr",
     "output_type": "stream",
     "text": [
      "/uscms/home/kyungmip/nobackup/miniconda3/envs/debug/lib/python3.8/site-packages/awkward/_connect/_numpy.py:195: RuntimeWarning: invalid value encountered in arccos\n",
      "  result = getattr(ufunc, method)(\n"
     ]
    },
    {
     "name": "stdout",
     "output_type": "stream",
     "text": [
      "BDT Pass: 124/671\n"
     ]
    },
    {
     "name": "stderr",
     "output_type": "stream",
     "text": [
      "/uscms/home/kyungmip/nobackup/miniconda3/envs/debug/lib/python3.8/site-packages/awkward/_connect/_numpy.py:195: RuntimeWarning: invalid value encountered in arccos\n",
      "  result = getattr(ufunc, method)(\n"
     ]
    },
    {
     "name": "stdout",
     "output_type": "stream",
     "text": [
      "BDT Pass: 364/516\n",
      "BDT Pass: 321/560\n"
     ]
    },
    {
     "name": "stderr",
     "output_type": "stream",
     "text": [
      "/uscms/home/kyungmip/nobackup/miniconda3/envs/debug/lib/python3.8/site-packages/awkward/_connect/_numpy.py:195: RuntimeWarning: invalid value encountered in arccos\n",
      "  result = getattr(ufunc, method)(\n"
     ]
    },
    {
     "name": "stdout",
     "output_type": "stream",
     "text": [
      "BDT Pass: 134/568\n"
     ]
    },
    {
     "name": "stderr",
     "output_type": "stream",
     "text": [
      "/uscms/home/kyungmip/nobackup/miniconda3/envs/debug/lib/python3.8/site-packages/awkward/_connect/_numpy.py:195: RuntimeWarning: invalid value encountered in arccos\n",
      "  result = getattr(ufunc, method)(\n"
     ]
    },
    {
     "name": "stdout",
     "output_type": "stream",
     "text": [
      "BDT Pass: 305/481\n",
      "BDT Pass: 307/546\n"
     ]
    },
    {
     "name": "stderr",
     "output_type": "stream",
     "text": [
      "/uscms/home/kyungmip/nobackup/miniconda3/envs/debug/lib/python3.8/site-packages/awkward/_connect/_numpy.py:195: RuntimeWarning: invalid value encountered in arccos\n",
      "  result = getattr(ufunc, method)(\n"
     ]
    },
    {
     "name": "stdout",
     "output_type": "stream",
     "text": [
      "BDT Pass: 126/657\n"
     ]
    },
    {
     "name": "stderr",
     "output_type": "stream",
     "text": [
      "/uscms/home/kyungmip/nobackup/miniconda3/envs/debug/lib/python3.8/site-packages/awkward/_connect/_numpy.py:195: RuntimeWarning: invalid value encountered in arccos\n",
      "  result = getattr(ufunc, method)(\n"
     ]
    },
    {
     "name": "stdout",
     "output_type": "stream",
     "text": [
      "BDT Pass: 326/610\n",
      "BDT Pass: 249/406\n",
      "BDT Pass: 263/441\n",
      "BDT Pass: 138/679\n",
      "BDT Pass: 232/479\n",
      "BDT Pass: 129/877\n"
     ]
    },
    {
     "name": "stderr",
     "output_type": "stream",
     "text": [
      "/uscms/home/kyungmip/nobackup/miniconda3/envs/debug/lib/python3.8/site-packages/awkward/_connect/_numpy.py:195: RuntimeWarning: invalid value encountered in arccos\n",
      "  result = getattr(ufunc, method)(\n"
     ]
    },
    {
     "name": "stdout",
     "output_type": "stream",
     "text": [
      "BDT Pass: 261/568\n"
     ]
    },
    {
     "name": "stderr",
     "output_type": "stream",
     "text": [
      "/uscms/home/kyungmip/nobackup/miniconda3/envs/debug/lib/python3.8/site-packages/awkward/_connect/_numpy.py:195: RuntimeWarning: invalid value encountered in arccos\n",
      "  result = getattr(ufunc, method)(\n"
     ]
    },
    {
     "name": "stdout",
     "output_type": "stream",
     "text": [
      "BDT Pass: 111/658\n"
     ]
    },
    {
     "name": "stderr",
     "output_type": "stream",
     "text": [
      "/uscms/home/kyungmip/nobackup/miniconda3/envs/debug/lib/python3.8/site-packages/awkward/_connect/_numpy.py:195: RuntimeWarning: invalid value encountered in arccos\n",
      "  result = getattr(ufunc, method)(\n"
     ]
    },
    {
     "name": "stdout",
     "output_type": "stream",
     "text": [
      "BDT Pass: 152/296\n",
      "BDT Pass: 337/504\n",
      "BDT Pass: 256/490\n",
      "BDT Pass: 101/689\n"
     ]
    },
    {
     "data": {
      "text/html": [
       "<pre style=\"white-space:pre;overflow-x:auto;line-height:normal;font-family:Menlo,'DejaVu Sans Mono',consolas,'Courier New',monospace\"></pre>\n"
      ],
      "text/plain": []
     },
     "metadata": {},
     "output_type": "display_data"
    },
    {
     "data": {
      "text/html": [
       "<pre style=\"white-space:pre;overflow-x:auto;line-height:normal;font-family:Menlo,'DejaVu Sans Mono',consolas,'Courier New',monospace\">\n",
       "</pre>\n"
      ],
      "text/plain": [
       "\n"
      ]
     },
     "metadata": {},
     "output_type": "display_data"
    },
    {
     "name": "stdout",
     "output_type": "stream",
     "text": [
      "Runtime: 1.99 minutes\n"
     ]
    }
   ],
   "source": [
    "# SR / VR2\n",
    "test = Analyzer(sample_config,histos_config,cuts_config,model_json='./models/BDT_NJetG0_allSigns_goodvtx_v11_max_depth_7_n_estimators_800_lr_0.005.json',\\\n",
    "               nJet_isNominal=None, good_vtx='v27') # run over all samples in the config\n",
    "\n",
    "t1 = time.time()\n",
    "out = test.process(execr='futures')\n",
    "\n",
    "t2 = time.time()\n",
    "\n",
    "print(\"Runtime: {:.2f} minutes\".format((t2-t1)/60))\n",
    "\n",
    "util.save(out,f\"{outdir}/signal_{outname}_official.coffea\")\n",
    "\n",
    "del out, test"
   ]
  },
  {
   "cell_type": "code",
   "execution_count": null,
   "id": "1061dbbd-84ed-4ec2-bead-0c960e6ecfe4",
   "metadata": {},
   "outputs": [],
   "source": []
  },
  {
   "cell_type": "code",
   "execution_count": null,
   "id": "cf8bdc58-1cda-4ccf-b110-2793abbdb75c",
   "metadata": {},
   "outputs": [],
   "source": []
  },
  {
   "cell_type": "markdown",
   "id": "97b2ff87-c610-4e5a-9d3d-0255d980dbe3",
   "metadata": {},
   "source": [
    "### Background"
   ]
  },
  {
   "cell_type": "code",
   "execution_count": 10,
   "id": "c65bc29b-bfda-48ed-84d4-7ea8f8eded39",
   "metadata": {},
   "outputs": [],
   "source": [
    "sample_config = \"./sample_configs/skimmed_bkg_2018_10X_systematics.json\""
   ]
  },
  {
   "cell_type": "code",
   "execution_count": 11,
   "id": "f7af452c-6938-4868-8307-bd0f6b2e330d",
   "metadata": {
    "scrolled": true
   },
   "outputs": [
    {
     "name": "stdout",
     "output_type": "stream",
     "text": [
      "None\n"
     ]
    },
    {
     "data": {
      "application/vnd.jupyter.widget-view+json": {
       "model_id": "ef509d7904db4ecd8deb507209f16ab0",
       "version_major": 2,
       "version_minor": 0
      },
      "text/plain": [
       "Output()"
      ]
     },
     "metadata": {},
     "output_type": "display_data"
    },
    {
     "data": {
      "text/html": [
       "<pre style=\"white-space:pre;overflow-x:auto;line-height:normal;font-family:Menlo,'DejaVu Sans Mono',consolas,'Courier New',monospace\"></pre>\n"
      ],
      "text/plain": []
     },
     "metadata": {},
     "output_type": "display_data"
    },
    {
     "data": {
      "text/html": [
       "<pre style=\"white-space:pre;overflow-x:auto;line-height:normal;font-family:Menlo,'DejaVu Sans Mono',consolas,'Courier New',monospace\">\n",
       "</pre>\n"
      ],
      "text/plain": [
       "\n"
      ]
     },
     "metadata": {},
     "output_type": "display_data"
    },
    {
     "data": {
      "application/vnd.jupyter.widget-view+json": {
       "model_id": "ce7c1d7862574310a43854ca566e37dc",
       "version_major": 2,
       "version_minor": 0
      },
      "text/plain": [
       "Output()"
      ]
     },
     "metadata": {},
     "output_type": "display_data"
    },
    {
     "name": "stderr",
     "output_type": "stream",
     "text": [
      "/uscms/home/kyungmip/nobackup/miniconda3/envs/debug/lib/python3.8/site-packages/awkward/_connect/_numpy.py:195: RuntimeWarning: invalid value encountered in arccos\n",
      "  result = getattr(ufunc, method)(\n"
     ]
    },
    {
     "name": "stdout",
     "output_type": "stream",
     "text": [
      "BDT Pass: 0/55\n",
      "BDT Pass: 0/49\n",
      "BDT Pass: 2/136\n",
      "BDT Pass: 0/27\n",
      "BDT Pass: 0/3\n",
      "BDT Pass: 1/114\n",
      "BDT Pass: 1/105\n",
      "BDT Pass: 0/113\n",
      "BDT Pass: 0/10\n"
     ]
    },
    {
     "name": "stderr",
     "output_type": "stream",
     "text": [
      "/uscms/home/kyungmip/nobackup/miniconda3/envs/debug/lib/python3.8/site-packages/awkward/_connect/_numpy.py:195: RuntimeWarning: invalid value encountered in arccos\n",
      "  result = getattr(ufunc, method)(\n"
     ]
    },
    {
     "name": "stdout",
     "output_type": "stream",
     "text": [
      "BDT Pass: 0/24\n",
      "BDT Pass: 0/5\n",
      "BDT Pass: 0/28\n",
      "BDT Pass: 0/1\n",
      "BDT Pass: 1/159\n",
      "BDT Pass: 0/6\n",
      "BDT Pass: 5/191\n",
      "BDT Pass: 0/169\n",
      "BDT Pass: 0/171\n",
      "BDT Pass: 0/154\n",
      "BDT Pass: 1/310\n",
      "BDT Pass: 1/296\n",
      "BDT Pass: 2/621\n",
      "BDT Pass: 0/32\n",
      "BDT Pass: 0/23\n"
     ]
    },
    {
     "name": "stderr",
     "output_type": "stream",
     "text": [
      "/uscms/home/kyungmip/nobackup/miniconda3/envs/debug/lib/python3.8/site-packages/awkward/_connect/_numpy.py:195: RuntimeWarning: invalid value encountered in arccos\n",
      "  result = getattr(ufunc, method)(\n"
     ]
    },
    {
     "name": "stdout",
     "output_type": "stream",
     "text": [
      "BDT Pass: 5/728\n",
      "BDT Pass: 1/699\n",
      "BDT Pass: 2/706\n",
      "BDT Pass: 0/87\n",
      "BDT Pass: 0/77\n",
      "BDT Pass: 0/55\n",
      "BDT Pass: 0/106\n",
      "BDT Pass: 0/94\n",
      "BDT Pass: 1/70\n",
      "BDT Pass: 0/56\n",
      "BDT Pass: 1/69\n",
      "BDT Pass: 0/30\n",
      "BDT Pass: 0/146\n",
      "BDT Pass: 0/60\n",
      "BDT Pass: 1/66\n",
      "BDT Pass: 1/111\n",
      "BDT Pass: 1/36\n",
      "BDT Pass: 0/22\n",
      "BDT Pass: 0/13\n",
      "BDT Pass: 0/21\n",
      "BDT Pass: 0/38\n",
      "BDT Pass: 0/35\n",
      "BDT Pass: 0/22\n",
      "BDT Pass: 0/16\n",
      "BDT Pass: 0/20\n",
      "BDT Pass: 0/120\n"
     ]
    },
    {
     "data": {
      "text/html": [
       "<pre style=\"white-space:pre;overflow-x:auto;line-height:normal;font-family:Menlo,'DejaVu Sans Mono',consolas,'Courier New',monospace\"></pre>\n"
      ],
      "text/plain": []
     },
     "metadata": {},
     "output_type": "display_data"
    },
    {
     "data": {
      "text/html": [
       "<pre style=\"white-space:pre;overflow-x:auto;line-height:normal;font-family:Menlo,'DejaVu Sans Mono',consolas,'Courier New',monospace\">\n",
       "</pre>\n"
      ],
      "text/plain": [
       "\n"
      ]
     },
     "metadata": {},
     "output_type": "display_data"
    },
    {
     "name": "stdout",
     "output_type": "stream",
     "text": [
      "Runtime: 6.84 minutes\n"
     ]
    }
   ],
   "source": [
    "test = Analyzer(sample_config,histos_config,cuts_config,model_json='./models/BDT_NJetG0_allSigns_goodvtx_v11_max_depth_7_n_estimators_800_lr_0.005.json',\\\n",
    "               nJet_isNominal=None, good_vtx='v27') # run over all samples in the config\n",
    "\n",
    "t1 = time.time()\n",
    "out = test.process(execr='futures')\n",
    "t2 = time.time()\n",
    "\n",
    "print(\"Runtime: {:.2f} minutes\".format((t2-t1)/60))\n",
    "\n",
    "util.save(out,f\"{outdir}/bkg_{outname}.coffea\")\n",
    "\n",
    "del out, test"
   ]
  },
  {
   "cell_type": "code",
   "execution_count": null,
   "id": "3bc2fd8a-cb7b-41cb-b776-94a443c8632a",
   "metadata": {},
   "outputs": [],
   "source": []
  },
  {
   "cell_type": "code",
   "execution_count": null,
   "id": "a3a24618-7482-42f9-8363-e7b41058ce57",
   "metadata": {},
   "outputs": [],
   "source": []
  },
  {
   "cell_type": "code",
   "execution_count": null,
   "id": "95ed24ef-da24-49e1-9f81-ed3c629954f5",
   "metadata": {},
   "outputs": [],
   "source": []
  },
  {
   "cell_type": "markdown",
   "id": "8a7d589c-3e16-4531-a18e-fa41cf2560e8",
   "metadata": {},
   "source": [
    "### Signal"
   ]
  },
  {
   "cell_type": "code",
   "execution_count": 5,
   "id": "5c7f3c23-e520-418f-97bb-2fcd94d915ca",
   "metadata": {},
   "outputs": [],
   "source": [
    "sample_config = \"./sample_configs/skimmed_signal_2018_official_xclean_MVA90cut.json\"\n",
    "\n",
    "outname = '2018_SR_v27_xclean_MVA90'"
   ]
  },
  {
   "cell_type": "code",
   "execution_count": null,
   "id": "bbee7a53-3bdc-48e8-8a9b-66f5e815d86a",
   "metadata": {
    "scrolled": true
   },
   "outputs": [
    {
     "name": "stdout",
     "output_type": "stream",
     "text": [
      "None\n"
     ]
    },
    {
     "data": {
      "application/vnd.jupyter.widget-view+json": {
       "model_id": "06678a4945bb4079bbad6abd89e2c8fe",
       "version_major": 2,
       "version_minor": 0
      },
      "text/plain": [
       "Output()"
      ]
     },
     "metadata": {},
     "output_type": "display_data"
    },
    {
     "data": {
      "text/html": [
       "<pre style=\"white-space:pre;overflow-x:auto;line-height:normal;font-family:Menlo,'DejaVu Sans Mono',consolas,'Courier New',monospace\"></pre>\n"
      ],
      "text/plain": []
     },
     "metadata": {},
     "output_type": "display_data"
    },
    {
     "data": {
      "text/html": [
       "<pre style=\"white-space:pre;overflow-x:auto;line-height:normal;font-family:Menlo,'DejaVu Sans Mono',consolas,'Courier New',monospace\">\n",
       "</pre>\n"
      ],
      "text/plain": [
       "\n"
      ]
     },
     "metadata": {},
     "output_type": "display_data"
    },
    {
     "data": {
      "application/vnd.jupyter.widget-view+json": {
       "model_id": "3fa6f01b585248f6b56f47ea373deb96",
       "version_major": 2,
       "version_minor": 0
      },
      "text/plain": [
       "Output()"
      ]
     },
     "metadata": {},
     "output_type": "display_data"
    },
    {
     "name": "stdout",
     "output_type": "stream",
     "text": [
      "BDT Pass: 25/122\n",
      "BDT Pass: 67/341\n",
      "BDT Pass: 187/338\n",
      "BDT Pass: 227/357\n",
      "BDT Pass: 158/216\n",
      "BDT Pass: 70/97\n",
      "BDT Pass: 167/293\n",
      "BDT Pass: 45/317\n",
      "BDT Pass: 85/110\n",
      "BDT Pass: 146/198\n",
      "BDT Pass: 216/362\n",
      "BDT Pass: 97/484\n",
      "BDT Pass: 165/285\n",
      "BDT Pass: 132/173\n",
      "BDT Pass: 30/148\n",
      "BDT Pass: 87/124\n",
      "BDT Pass: 31/169\n",
      "BDT Pass: 63/363BDT Pass: 248/352\n",
      "\n",
      "BDT Pass: 195/308\n",
      "BDT Pass: 61/77\n",
      "BDT Pass: 157/262\n",
      "BDT Pass: 175/243\n",
      "BDT Pass: 62/293\n",
      "BDT Pass: 257/346\n",
      "BDT Pass: 161/265\n",
      "BDT Pass: 54/82\n",
      "BDT Pass: 33/49\n",
      "BDT Pass: 59/88\n",
      "BDT Pass: 117/154\n",
      "BDT Pass: 76/365\n",
      "BDT Pass: 63/101\n",
      "BDT Pass: 84/139\n",
      "BDT Pass: 12/37\n",
      "BDT Pass: 53/287\n"
     ]
    },
    {
     "name": "stderr",
     "output_type": "stream",
     "text": [
      "/uscms/home/kyungmip/nobackup/miniconda3/envs/debug/lib/python3.8/site-packages/awkward/_connect/_numpy.py:195: RuntimeWarning: invalid value encountered in arccos\n",
      "  result = getattr(ufunc, method)(\n"
     ]
    },
    {
     "name": "stdout",
     "output_type": "stream",
     "text": [
      "BDT Pass: 55/111\n",
      "BDT Pass: 2/9\n",
      "BDT Pass: 35/90\n",
      "BDT Pass: 51/132\n",
      "BDT Pass: 81/181\n",
      "BDT Pass: 25/149\n",
      "BDT Pass: 39/170\n",
      "BDT Pass: 12/63\n",
      "BDT Pass: 7/42\n",
      "BDT Pass: 4/34\n",
      "BDT Pass: 3/12\n",
      "BDT Pass: 7/28\n",
      "BDT Pass: 34/129\n",
      "BDT Pass: 5/26\n",
      "BDT Pass: 130/406\n"
     ]
    },
    {
     "name": "stderr",
     "output_type": "stream",
     "text": [
      "/uscms/home/kyungmip/nobackup/miniconda3/envs/debug/lib/python3.8/site-packages/awkward/_connect/_numpy.py:195: RuntimeWarning: invalid value encountered in arccos\n",
      "  result = getattr(ufunc, method)(\n"
     ]
    },
    {
     "name": "stdout",
     "output_type": "stream",
     "text": [
      "BDT Pass: 31/243\n",
      "BDT Pass: 47/69\n"
     ]
    },
    {
     "name": "stderr",
     "output_type": "stream",
     "text": [
      "/uscms/home/kyungmip/nobackup/miniconda3/envs/debug/lib/python3.8/site-packages/awkward/_connect/_numpy.py:195: RuntimeWarning: invalid value encountered in arccos\n",
      "  result = getattr(ufunc, method)(\n"
     ]
    },
    {
     "name": "stdout",
     "output_type": "stream",
     "text": [
      "BDT Pass: 24/194\n",
      "BDT Pass: 178/325\n",
      "BDT Pass: 217/288\n",
      "BDT Pass: 75/313\n"
     ]
    },
    {
     "name": "stderr",
     "output_type": "stream",
     "text": [
      "/uscms/home/kyungmip/nobackup/miniconda3/envs/debug/lib/python3.8/site-packages/awkward/_connect/_numpy.py:195: RuntimeWarning: invalid value encountered in arccos\n",
      "  result = getattr(ufunc, method)(\n"
     ]
    },
    {
     "name": "stdout",
     "output_type": "stream",
     "text": [
      "BDT Pass: 97/126\n",
      "BDT Pass: 45/61\n",
      "BDT Pass: 70/107\n",
      "BDT Pass: 155/265\n",
      "BDT Pass: 68/271\n",
      "BDT Pass: 57/78\n",
      "BDT Pass: 58/79\n",
      "BDT Pass: 63/92\n",
      "BDT Pass: 145/198\n",
      "BDT Pass: 151/240\n",
      "BDT Pass: 57/67\n",
      "BDT Pass: 201/279\n",
      "BDT Pass: 71/329\n",
      "BDT Pass: 118/189\n",
      "BDT Pass: 40/62\n"
     ]
    },
    {
     "name": "stderr",
     "output_type": "stream",
     "text": [
      "/uscms/home/kyungmip/nobackup/miniconda3/envs/debug/lib/python3.8/site-packages/awkward/_connect/_numpy.py:195: RuntimeWarning: invalid value encountered in arccos\n",
      "  result = getattr(ufunc, method)(\n"
     ]
    },
    {
     "name": "stdout",
     "output_type": "stream",
     "text": [
      "BDT Pass: 60/258\n",
      "BDT Pass: 46/58\n",
      "BDT Pass: 124/173\n",
      "BDT Pass: 88/127\n",
      "BDT Pass: 48/71\n",
      "BDT Pass: 174/262\n",
      "BDT Pass: 43/209\n",
      "BDT Pass: 32/113\n",
      "BDT Pass: 42/55\n",
      "BDT Pass: 193/251\n",
      "BDT Pass: 39/56\n",
      "BDT Pass: 94/157\n"
     ]
    },
    {
     "name": "stderr",
     "output_type": "stream",
     "text": [
      "/uscms/home/kyungmip/nobackup/miniconda3/envs/debug/lib/python3.8/site-packages/awkward/_connect/_numpy.py:195: RuntimeWarning: invalid value encountered in arccos\n",
      "  result = getattr(ufunc, method)(\n"
     ]
    },
    {
     "name": "stdout",
     "output_type": "stream",
     "text": [
      "BDT Pass: 18/92\n",
      "BDT Pass: 31/182\n",
      "BDT Pass: 70/116\n",
      "BDT Pass: 114/170\n",
      "BDT Pass: 49/63\n"
     ]
    },
    {
     "name": "stderr",
     "output_type": "stream",
     "text": [
      "/uscms/home/kyungmip/nobackup/miniconda3/envs/debug/lib/python3.8/site-packages/awkward/_connect/_numpy.py:195: RuntimeWarning: invalid value encountered in arccos\n",
      "  result = getattr(ufunc, method)(\n"
     ]
    },
    {
     "name": "stdout",
     "output_type": "stream",
     "text": [
      "BDT Pass: 107/136\n",
      "BDT Pass: 94/151\n",
      "BDT Pass: 99/181\n"
     ]
    },
    {
     "name": "stderr",
     "output_type": "stream",
     "text": [
      "/uscms/home/kyungmip/nobackup/miniconda3/envs/debug/lib/python3.8/site-packages/awkward/_connect/_numpy.py:195: RuntimeWarning: invalid value encountered in arccos\n",
      "  result = getattr(ufunc, method)(\n"
     ]
    },
    {
     "name": "stdout",
     "output_type": "stream",
     "text": [
      "BDT Pass: 37/143\n",
      "BDT Pass: 33/141\n",
      "BDT Pass: 29/45\n",
      "BDT Pass: 106/152\n",
      "BDT Pass: 80/129\n",
      "BDT Pass: 12/70\n",
      "BDT Pass: 96/165\n"
     ]
    },
    {
     "name": "stderr",
     "output_type": "stream",
     "text": [
      "/uscms/home/kyungmip/nobackup/miniconda3/envs/debug/lib/python3.8/site-packages/awkward/_connect/_numpy.py:195: RuntimeWarning: invalid value encountered in arccos\n",
      "  result = getattr(ufunc, method)(\n"
     ]
    },
    {
     "name": "stdout",
     "output_type": "stream",
     "text": [
      "BDT Pass: 75/105\n",
      "BDT Pass: 37/209\n",
      "BDT Pass: 17/27\n",
      "BDT Pass: 46/75\n",
      "BDT Pass: 75/128\n"
     ]
    },
    {
     "name": "stderr",
     "output_type": "stream",
     "text": [
      "/uscms/home/kyungmip/nobackup/miniconda3/envs/debug/lib/python3.8/site-packages/awkward/_connect/_numpy.py:195: RuntimeWarning: invalid value encountered in arccos\n",
      "  result = getattr(ufunc, method)(\n"
     ]
    },
    {
     "name": "stdout",
     "output_type": "stream",
     "text": [
      "BDT Pass: 141/252\n",
      "BDT Pass: 27/48\n",
      "BDT Pass: 78/151\n",
      "BDT Pass: 30/153\n",
      "BDT Pass: 72/109\n",
      "BDT Pass: 140/213\n",
      "BDT Pass: 35/186BDT Pass: 160/324\n",
      "\n",
      "BDT Pass: 8/13\n",
      "BDT Pass: 86/523\n",
      "BDT Pass: 58/116\n"
     ]
    },
    {
     "name": "stderr",
     "output_type": "stream",
     "text": [
      "/uscms/home/kyungmip/nobackup/miniconda3/envs/debug/lib/python3.8/site-packages/awkward/_connect/_numpy.py:195: RuntimeWarning: invalid value encountered in arccos\n",
      "  result = getattr(ufunc, method)(\n"
     ]
    },
    {
     "name": "stdout",
     "output_type": "stream",
     "text": [
      "BDT Pass: 37/71\n",
      "BDT Pass: 96/194\n",
      "BDT Pass: 70/153\n"
     ]
    },
    {
     "name": "stderr",
     "output_type": "stream",
     "text": [
      "/uscms/home/kyungmip/nobackup/miniconda3/envs/debug/lib/python3.8/site-packages/awkward/_connect/_numpy.py:195: RuntimeWarning: invalid value encountered in arccos\n",
      "  result = getattr(ufunc, method)(\n"
     ]
    }
   ],
   "source": [
    "# SR / VR2\n",
    "test = Analyzer(sample_config,histos_config,cuts_config,model_json='./models/BDT_NJetG0_allSigns_goodvtx_v11_max_depth_7_n_estimators_800_lr_0.005.json',\\\n",
    "               nJet_isNominal=None, good_vtx='v27') # run over all samples in the config\n",
    "\n",
    "t1 = time.time()\n",
    "out = test.process(execr='futures')\n",
    "\n",
    "t2 = time.time()\n",
    "\n",
    "print(\"Runtime: {:.2f} minutes\".format((t2-t1)/60))\n",
    "\n",
    "util.save(out,f\"{outdir}/signal_{outname}_official.coffea\")\n",
    "\n",
    "del out, test"
   ]
  },
  {
   "cell_type": "code",
   "execution_count": null,
   "id": "50e46f33-e247-4473-8d52-af084073da99",
   "metadata": {},
   "outputs": [],
   "source": []
  },
  {
   "cell_type": "markdown",
   "id": "7d97b61c-16b9-4faf-9548-1dbab2afb5c2",
   "metadata": {},
   "source": [
    "### Background"
   ]
  },
  {
   "cell_type": "code",
   "execution_count": 10,
   "id": "2b12beae-4f13-47db-be0d-df4aacdc60b9",
   "metadata": {},
   "outputs": [],
   "source": [
    "sample_config = \"./sample_configs/skimmed_bkg_2018_xclean_MVA90cut.json\"\n",
    "outname = '2018_SR_v27_xclean_MVA90'"
   ]
  },
  {
   "cell_type": "code",
   "execution_count": 11,
   "id": "864e44c5-6105-45ed-914c-98ccdd58c31c",
   "metadata": {
    "scrolled": true
   },
   "outputs": [
    {
     "name": "stdout",
     "output_type": "stream",
     "text": [
      "None\n"
     ]
    },
    {
     "data": {
      "application/vnd.jupyter.widget-view+json": {
       "model_id": "d257945669ee44f181be37437b336b53",
       "version_major": 2,
       "version_minor": 0
      },
      "text/plain": [
       "Output()"
      ]
     },
     "metadata": {},
     "output_type": "display_data"
    },
    {
     "name": "stdout",
     "output_type": "stream",
     "text": [
      "BDT Pass: 1/91\n",
      "BDT Pass: 0/24\n",
      "BDT Pass: 0/36\n",
      "BDT Pass: 0/50\n",
      "BDT Pass: 0/1\n",
      "BDT Pass: 0/98\n",
      "BDT Pass: 0/93\n",
      "BDT Pass: 0/87\n",
      "BDT Pass: 0/18\n",
      "BDT Pass: 0/5\n",
      "BDT Pass: 2/157\n"
     ]
    },
    {
     "name": "stderr",
     "output_type": "stream",
     "text": [
      "/uscms/home/kyungmip/nobackup/miniconda3/envs/debug/lib/python3.8/site-packages/awkward/_connect/_numpy.py:195: RuntimeWarning: invalid value encountered in arccos\n",
      "  result = getattr(ufunc, method)(\n"
     ]
    },
    {
     "name": "stdout",
     "output_type": "stream",
     "text": [
      "BDT Pass: 0/25\n",
      "BDT Pass: 0/1\n",
      "BDT Pass: 0/33\n",
      "BDT Pass: 0/3\n",
      "BDT Pass: 3/153\n",
      "BDT Pass: 0/173\n",
      "BDT Pass: 0/145\n",
      "BDT Pass: 0/158\n",
      "BDT Pass: 1/279\n"
     ]
    },
    {
     "name": "stderr",
     "output_type": "stream",
     "text": [
      "/uscms/home/kyungmip/nobackup/miniconda3/envs/debug/lib/python3.8/site-packages/awkward/_connect/_numpy.py:195: RuntimeWarning: invalid value encountered in arccos\n",
      "  result = getattr(ufunc, method)(\n"
     ]
    },
    {
     "name": "stdout",
     "output_type": "stream",
     "text": [
      "BDT Pass: 1/291\n",
      "BDT Pass: 2/563\n",
      "BDT Pass: 0/22\n",
      "BDT Pass: 0/22\n",
      "BDT Pass: 3/663\n",
      "BDT Pass: 0/634\n",
      "BDT Pass: 4/627\n",
      "BDT Pass: 0/83\n",
      "BDT Pass: 0/56\n",
      "BDT Pass: 0/93\n",
      "BDT Pass: 0/76\n",
      "BDT Pass: 1/63\n",
      "BDT Pass: 0/94\n",
      "BDT Pass: 0/55\n",
      "BDT Pass: 1/64\n",
      "BDT Pass: 0/108\n",
      "BDT Pass: 0/63\n",
      "BDT Pass: 1/83\n",
      "BDT Pass: 1/112\n",
      "BDT Pass: 0/24\n",
      "BDT Pass: 0/1\n",
      "BDT Pass: 0/18\n",
      "BDT Pass: 0/34\n",
      "BDT Pass: 0/24\n",
      "BDT Pass: 0/31\n",
      "BDT Pass: 0/49\n",
      "BDT Pass: 0/24\n",
      "BDT Pass: 0/22\n",
      "BDT Pass: 0/1\n",
      "BDT Pass: 0/11\n",
      "BDT Pass: 0/114\n"
     ]
    },
    {
     "data": {
      "text/html": [
       "<pre style=\"white-space:pre;overflow-x:auto;line-height:normal;font-family:Menlo,'DejaVu Sans Mono',consolas,'Courier New',monospace\"></pre>\n"
      ],
      "text/plain": []
     },
     "metadata": {},
     "output_type": "display_data"
    },
    {
     "data": {
      "text/html": [
       "<pre style=\"white-space:pre;overflow-x:auto;line-height:normal;font-family:Menlo,'DejaVu Sans Mono',consolas,'Courier New',monospace\">\n",
       "</pre>\n"
      ],
      "text/plain": [
       "\n"
      ]
     },
     "metadata": {},
     "output_type": "display_data"
    },
    {
     "name": "stdout",
     "output_type": "stream",
     "text": [
      "Runtime: 6.85 minutes\n"
     ]
    }
   ],
   "source": [
    "test = Analyzer(sample_config,histos_config,cuts_config,model_json='./models/BDT_NJetG0_allSigns_goodvtx_v11_max_depth_7_n_estimators_800_lr_0.005.json',\\\n",
    "               nJet_isNominal=None, good_vtx='v27') # run over all samples in the config\n",
    "\n",
    "t1 = time.time()\n",
    "out = test.process(execr='futures')\n",
    "t2 = time.time()\n",
    "\n",
    "print(\"Runtime: {:.2f} minutes\".format((t2-t1)/60))\n",
    "\n",
    "util.save(out,f\"{outdir}/bkg_{outname}.coffea\")\n",
    "\n",
    "del out, test"
   ]
  },
  {
   "cell_type": "code",
   "execution_count": null,
   "id": "7aa7f40f-a94f-4939-9297-41b51378c748",
   "metadata": {},
   "outputs": [],
   "source": []
  },
  {
   "cell_type": "code",
   "execution_count": null,
   "id": "bdb243cd-e50e-4947-af16-29974021563d",
   "metadata": {},
   "outputs": [],
   "source": []
  },
  {
   "cell_type": "code",
   "execution_count": null,
   "id": "0c86e8a6-0c16-4997-8518-c98c15802d96",
   "metadata": {},
   "outputs": [],
   "source": []
  },
  {
   "cell_type": "markdown",
   "id": "a7630747-6ec8-4f74-ab81-e4d204a8d559",
   "metadata": {},
   "source": [
    "### Signal"
   ]
  },
  {
   "cell_type": "code",
   "execution_count": null,
   "id": "93b04d1f-7ea6-47cf-a177-ea525098b6b5",
   "metadata": {},
   "outputs": [],
   "source": [
    "sample_config = \"./sample_configs/skimmed_signal_2018_official_MVALoose_xclean.json\"\n",
    "\n",
    "outname = '2018_SR_v27_xclean_MVALoose'"
   ]
  },
  {
   "cell_type": "code",
   "execution_count": null,
   "id": "446948b5-4d98-4fb7-aa30-40c15f91a38d",
   "metadata": {
    "scrolled": true
   },
   "outputs": [],
   "source": [
    "# SR / VR2\n",
    "test = Analyzer(sample_config,histos_config,cuts_config,model_json='./models/BDT_NJetG0_allSigns_goodvtx_v11_max_depth_7_n_estimators_800_lr_0.005.json',\\\n",
    "               nJet_isNominal=None, good_vtx='v27') # run over all samples in the config\n",
    "\n",
    "t1 = time.time()\n",
    "out = test.process(execr='futures')\n",
    "\n",
    "t2 = time.time()\n",
    "\n",
    "print(\"Runtime: {:.2f} minutes\".format((t2-t1)/60))\n",
    "\n",
    "util.save(out,f\"{outdir}/signal_{outname}_official.coffea\")\n",
    "\n",
    "del out, test"
   ]
  },
  {
   "cell_type": "code",
   "execution_count": null,
   "id": "72c334ad-0c51-4045-af53-b26bc0c0db0e",
   "metadata": {},
   "outputs": [],
   "source": []
  },
  {
   "cell_type": "markdown",
   "id": "ce8918e1-4b66-4171-8328-637ecead246b",
   "metadata": {},
   "source": [
    "### Background"
   ]
  },
  {
   "cell_type": "code",
   "execution_count": 12,
   "id": "1dc941f9-8d28-439b-8e2c-8ef0861d39d1",
   "metadata": {},
   "outputs": [],
   "source": [
    "sample_config = \"./sample_configs/skimmed_bkg_2018_xclean_MVALooseWPcut.json\""
   ]
  },
  {
   "cell_type": "code",
   "execution_count": 13,
   "id": "d4c2d8db-76ac-49b0-8348-2986176ee48a",
   "metadata": {},
   "outputs": [],
   "source": [
    "outname = '2018_SR_v27_xclean_MVALoose'"
   ]
  },
  {
   "cell_type": "code",
   "execution_count": 14,
   "id": "9008c456-2ed3-4109-ba92-f255a1e014e4",
   "metadata": {
    "scrolled": true
   },
   "outputs": [
    {
     "name": "stdout",
     "output_type": "stream",
     "text": [
      "None\n"
     ]
    },
    {
     "data": {
      "application/vnd.jupyter.widget-view+json": {
       "model_id": "393f27f4baf74967aaf28a9868b806dc",
       "version_major": 2,
       "version_minor": 0
      },
      "text/plain": [
       "Output()"
      ]
     },
     "metadata": {},
     "output_type": "display_data"
    },
    {
     "name": "stdout",
     "output_type": "stream",
     "text": [
      "BDT Pass: 0/118\n",
      "BDT Pass: 0/27\n",
      "BDT Pass: 0/60\n",
      "BDT Pass: 0/42\n",
      "BDT Pass: 0/3\n",
      "BDT Pass: 0/113\n",
      "BDT Pass: 2/130\n",
      "BDT Pass: 1/109\n",
      "BDT Pass: 0/22\n",
      "BDT Pass: 1/159\n"
     ]
    },
    {
     "name": "stderr",
     "output_type": "stream",
     "text": [
      "/uscms/home/kyungmip/nobackup/miniconda3/envs/debug/lib/python3.8/site-packages/awkward/_connect/_numpy.py:195: RuntimeWarning: invalid value encountered in arccos\n",
      "  result = getattr(ufunc, method)(\n"
     ]
    },
    {
     "name": "stdout",
     "output_type": "stream",
     "text": [
      "BDT Pass: 0/23\n",
      "BDT Pass: 0/1\n",
      "BDT Pass: 0/34\n",
      "BDT Pass: 0/5\n",
      "BDT Pass: 0/7\n",
      "BDT Pass: 5/189\n",
      "BDT Pass: 1/141\n"
     ]
    },
    {
     "name": "stderr",
     "output_type": "stream",
     "text": [
      "/uscms/home/kyungmip/nobackup/miniconda3/envs/debug/lib/python3.8/site-packages/awkward/_connect/_numpy.py:195: RuntimeWarning: invalid value encountered in arccos\n",
      "  result = getattr(ufunc, method)(\n"
     ]
    },
    {
     "name": "stdout",
     "output_type": "stream",
     "text": [
      "BDT Pass: 0/169\n",
      "BDT Pass: 0/170\n"
     ]
    },
    {
     "name": "stderr",
     "output_type": "stream",
     "text": [
      "/uscms/home/kyungmip/nobackup/miniconda3/envs/debug/lib/python3.8/site-packages/awkward/_connect/_numpy.py:195: RuntimeWarning: invalid value encountered in arccos\n",
      "  result = getattr(ufunc, method)(\n"
     ]
    },
    {
     "name": "stdout",
     "output_type": "stream",
     "text": [
      "BDT Pass: 1/294\n",
      "BDT Pass: 1/305\n",
      "BDT Pass: 2/611\n",
      "BDT Pass: 0/33\n",
      "BDT Pass: 2/696\n",
      "BDT Pass: 0/20\n",
      "BDT Pass: 2/696\n",
      "BDT Pass: 4/726\n",
      "BDT Pass: 0/88\n",
      "BDT Pass: 0/97\n",
      "BDT Pass: 0/62\n",
      "BDT Pass: 0/79\n",
      "BDT Pass: 0/100\n",
      "BDT Pass: 1/70\n",
      "BDT Pass: 0/57\n",
      "BDT Pass: 1/69\n",
      "BDT Pass: 1/97\n",
      "BDT Pass: 0/116\n",
      "BDT Pass: 0/73\n",
      "BDT Pass: 1/125\n",
      "BDT Pass: 1/37\n",
      "BDT Pass: 0/24\n",
      "BDT Pass: 0/19\n",
      "BDT Pass: 0/1\n",
      "BDT Pass: 0/27\n",
      "BDT Pass: 0/33\n",
      "BDT Pass: 0/23\n",
      "BDT Pass: 0/50\n",
      "BDT Pass: 0/14\n",
      "BDT Pass: 0/20\n",
      "BDT Pass: 0/117\n"
     ]
    },
    {
     "data": {
      "text/html": [
       "<pre style=\"white-space:pre;overflow-x:auto;line-height:normal;font-family:Menlo,'DejaVu Sans Mono',consolas,'Courier New',monospace\"></pre>\n"
      ],
      "text/plain": []
     },
     "metadata": {},
     "output_type": "display_data"
    },
    {
     "data": {
      "text/html": [
       "<pre style=\"white-space:pre;overflow-x:auto;line-height:normal;font-family:Menlo,'DejaVu Sans Mono',consolas,'Courier New',monospace\">\n",
       "</pre>\n"
      ],
      "text/plain": [
       "\n"
      ]
     },
     "metadata": {},
     "output_type": "display_data"
    },
    {
     "name": "stdout",
     "output_type": "stream",
     "text": [
      "Runtime: 6.39 minutes\n"
     ]
    }
   ],
   "source": [
    "test = Analyzer(sample_config,histos_config,cuts_config,model_json='./models/BDT_NJetG0_allSigns_goodvtx_v11_max_depth_7_n_estimators_800_lr_0.005.json',\\\n",
    "               nJet_isNominal=None, good_vtx='v27') # run over all samples in the config\n",
    "\n",
    "t1 = time.time()\n",
    "out = test.process(execr='futures')\n",
    "t2 = time.time()\n",
    "\n",
    "print(\"Runtime: {:.2f} minutes\".format((t2-t1)/60))\n",
    "\n",
    "util.save(out,f\"{outdir}/bkg_{outname}.coffea\")\n",
    "\n",
    "del out, test"
   ]
  },
  {
   "cell_type": "code",
   "execution_count": null,
   "id": "2e11cf72-e91b-4f00-a6cb-2ce040e5afae",
   "metadata": {},
   "outputs": [],
   "source": []
  },
  {
   "cell_type": "code",
   "execution_count": null,
   "id": "e14c7328-b9d6-41f7-88c5-ac38d9217388",
   "metadata": {},
   "outputs": [],
   "source": []
  },
  {
   "cell_type": "code",
   "execution_count": null,
   "id": "241a0d02-6262-4a50-a74f-57b25a9dc750",
   "metadata": {},
   "outputs": [],
   "source": []
  },
  {
   "cell_type": "code",
   "execution_count": null,
   "id": "8d82b831-31e5-41ae-b01a-7d6716bf1d2b",
   "metadata": {},
   "outputs": [],
   "source": []
  },
  {
   "cell_type": "code",
   "execution_count": null,
   "id": "c5cafa0e-a319-4d07-9d55-a20763c5cbba",
   "metadata": {},
   "outputs": [],
   "source": []
  },
  {
   "cell_type": "code",
   "execution_count": 47,
   "id": "5216e2f1-012b-420f-89e3-af1e0639f2e8",
   "metadata": {},
   "outputs": [],
   "source": [
    "#sample_config = \"./sample_configs/skimmed_data_2018_MET_ANv3_2018.json\" # WITH refitted mass & HEM veto NOT applied\n",
    "sample_config = \"./sample_configs/skimmed_data_2018_MET_v7.json\""
   ]
  },
  {
   "cell_type": "code",
   "execution_count": 48,
   "id": "82ed07d8-8112-40c3-926d-334a3f517030",
   "metadata": {
    "scrolled": true
   },
   "outputs": [
    {
     "data": {
      "application/vnd.jupyter.widget-view+json": {
       "model_id": "24fddfa78b544cccb331184a0c0d9338",
       "version_major": 2,
       "version_minor": 0
      },
      "text/plain": [
       "Output()"
      ]
     },
     "metadata": {},
     "output_type": "display_data"
    },
    {
     "name": "stdout",
     "output_type": "stream",
     "text": [
      "Njet nominal\n",
      "BDT Pass: 10/47\n",
      "Njet nominal\n",
      "BDT Pass: 6/62\n",
      "Njet nominal\n",
      "Njet nominal\n",
      "BDT Pass: 11/57\n",
      "BDT Pass: 10/63\n",
      "Njet nominal\n",
      "BDT Pass: 1/9\n",
      "Njet nominal\n",
      "BDT Pass: 6/45\n",
      "Njet nominal\n",
      "BDT Pass: 11/55\n",
      "Njet nominal\n",
      "BDT Pass: 9/53\n",
      "Njet nominal\n",
      "BDT Pass: 5/39\n",
      "Njet nominal\n",
      "Njet nominal\n",
      "BDT Pass: 0/21\n",
      "BDT Pass: 3/15\n",
      "Njet nominal\n",
      "Njet nominal\n",
      "BDT Pass: 7/31\n",
      "BDT Pass: 13/60\n",
      "Njet nominal\n",
      "BDT Pass: 1/12\n",
      "Njet nominal\n",
      "BDT Pass: 5/22\n",
      "Njet nominal\n",
      "BDT Pass: 13/53\n",
      "Njet nominal\n",
      "BDT Pass: 9/64\n"
     ]
    },
    {
     "data": {
      "text/html": [
       "<pre style=\"white-space:pre;overflow-x:auto;line-height:normal;font-family:Menlo,'DejaVu Sans Mono',consolas,'Courier New',monospace\"></pre>\n"
      ],
      "text/plain": []
     },
     "metadata": {},
     "output_type": "display_data"
    },
    {
     "data": {
      "text/html": [
       "<pre style=\"white-space:pre;overflow-x:auto;line-height:normal;font-family:Menlo,'DejaVu Sans Mono',consolas,'Courier New',monospace\">\n",
       "</pre>\n"
      ],
      "text/plain": [
       "\n"
      ]
     },
     "metadata": {},
     "output_type": "display_data"
    },
    {
     "name": "stdout",
     "output_type": "stream",
     "text": [
      "Runtime: 1.58 minutes\n"
     ]
    }
   ],
   "source": [
    "# VR1\n",
    "analyzer = Analyzer(sample_config,histos_config,cuts_config,model_json='./models/BDT_NJetG0_allSigns_goodvtx_v11_max_depth_7_n_estimators_800_lr_0.005.json',\\\n",
    "               nJet_isNominal=True, good_vtx='v23') # run over all samples in the config\n",
    "\n",
    "# VR2\n",
    "#analyzer = Analyzer(sample_config,histos_config,cuts_config,model_json='./models/BDT_NJetG0_allSigns_goodvtx_v11_max_depth_7_n_estimators_800_lr_0.005.json',\\\n",
    "#               nJet_isNominal=None, good_vtx='v11') # run over all samples in the config\n",
    "\n",
    "\n",
    "t1 = time.time()\n",
    "out = analyzer.process(execr='futures')\n",
    "t2 = time.time()\n",
    "\n",
    "print(\"Runtime: {:.2f} minutes\".format((t2-t1)/60))\n",
    "\n",
    "util.save(out,f\"{outdir}/data_{outname}.coffea\")\n",
    "\n",
    "del out, analyzer"
   ]
  },
  {
   "cell_type": "code",
   "execution_count": null,
   "id": "d6a64d34-38ad-47fb-90de-7d636551587e",
   "metadata": {},
   "outputs": [],
   "source": []
  }
 ],
 "metadata": {
  "kernelspec": {
   "display_name": "Python 3 (ipykernel)",
   "language": "python",
   "name": "python3"
  },
  "language_info": {
   "codemirror_mode": {
    "name": "ipython",
    "version": 3
   },
   "file_extension": ".py",
   "mimetype": "text/x-python",
   "name": "python",
   "nbconvert_exporter": "python",
   "pygments_lexer": "ipython3",
   "version": "3.8.17"
  }
 },
 "nbformat": 4,
 "nbformat_minor": 5
}
