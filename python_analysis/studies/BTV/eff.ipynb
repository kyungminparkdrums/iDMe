{
 "cells": [
  {
   "cell_type": "code",
   "execution_count": 1,
   "id": "869e60fa-3c55-4ecc-9b8b-881302d1d5c6",
   "metadata": {},
   "outputs": [],
   "source": [
    "%load_ext autoreload\n",
    "%autoreload 2\n",
    "import uproot\n",
    "import numpy as np\n",
    "import matplotlib.pyplot as plt\n",
    "import awkward as ak\n",
    "import sys\n",
    "import importlib\n",
    "import coffea.util as util\n",
    "import time\n",
    "import json\n",
    "import os\n",
    "import numba as nb\n",
    "import awkward.numba\n",
    "\n",
    "sys.path.append(\"../../analysisTools/\")\n",
    "from analysisTools import Analyzer\n",
    "from analysisTools import loadSchema\n",
    "import analysisTools as tools\n",
    "import analysisSubroutines as routines\n",
    "\n",
    "sample_cfg_dir = \"../AllYears/sample_configs/\""
   ]
  },
  {
   "cell_type": "markdown",
   "id": "881ca704-d343-4da9-aca7-7971b0c8cb99",
   "metadata": {
    "jp-MarkdownHeadingCollapsed": true
   },
   "source": [
    "## Import"
   ]
  },
  {
   "cell_type": "markdown",
   "id": "71c46a45-23a0-465b-a92e-167df22bc7eb",
   "metadata": {},
   "source": [
    "### Background"
   ]
  },
  {
   "cell_type": "code",
   "execution_count": 1,
   "id": "ccfd19ff-90f2-43df-9185-20faa32a953b",
   "metadata": {},
   "outputs": [
    {
     "ename": "NameError",
     "evalue": "name 'sample_cfg_dir' is not defined",
     "output_type": "error",
     "traceback": [
      "\u001b[0;31m---------------------------------------------------------------------------\u001b[0m",
      "\u001b[0;31mNameError\u001b[0m                                 Traceback (most recent call last)",
      "Cell \u001b[0;32mIn[1], line 1\u001b[0m\n\u001b[0;32m----> 1\u001b[0m \u001b[38;5;28;01mwith\u001b[39;00m \u001b[38;5;28mopen\u001b[39m(\u001b[43msample_cfg_dir\u001b[49m\u001b[38;5;241m+\u001b[39m\u001b[38;5;124m\"\u001b[39m\u001b[38;5;124mskimmed_bkg_2018_10X_systematics.json\u001b[39m\u001b[38;5;124m\"\u001b[39m,\u001b[38;5;124m\"\u001b[39m\u001b[38;5;124mr\u001b[39m\u001b[38;5;124m\"\u001b[39m) \u001b[38;5;28;01mas\u001b[39;00m fin:\n\u001b[1;32m      2\u001b[0m     bkg_cfg \u001b[38;5;241m=\u001b[39m json\u001b[38;5;241m.\u001b[39mload(fin)\n",
      "\u001b[0;31mNameError\u001b[0m: name 'sample_cfg_dir' is not defined"
     ]
    }
   ],
   "source": [
    "with open(sample_cfg_dir+\"skimmed_bkg_2018_10X_systematics.json\",\"r\") as fin:\n",
    "    bkg_cfg = json.load(fin)"
   ]
  },
  {
   "cell_type": "code",
   "execution_count": 3,
   "id": "457a3b0b-4de9-4c49-9844-f23d11db1f65",
   "metadata": {},
   "outputs": [
    {
     "data": {
      "text/plain": [
       "[{'name': 'DY_DYJetsToLL_M10to50',\n",
       "  'location': '/store/group/lpcmetx/iDMe/skimmed_ntuples/bkg/bkg_2018_10X_systematics_rdfSkim_MET200_nJetsG0//output_DYLowMass_DYJetsToLL_M10to50/',\n",
       "  'type': 'bkg',\n",
       "  'year': 2018,\n",
       "  'nFiles': 1,\n",
       "  'sum_wgt': 99288125.0,\n",
       "  'xsec': 15910.0,\n",
       "  'blacklist': []},\n",
       " {'name': 'DY_DYJetsToLL',\n",
       "  'location': '/store/group/lpcmetx/iDMe/skimmed_ntuples/bkg/bkg_2018_10X_systematics_rdfSkim_MET200_nJetsG0//output_DY_DYJetsToLL/',\n",
       "  'type': 'bkg',\n",
       "  'year': 2018,\n",
       "  'nFiles': 2,\n",
       "  'sum_wgt': 96154645.0,\n",
       "  'xsec': 5379000.0,\n",
       "  'blacklist': []},\n",
       " {'name': 'Multiboson_WW',\n",
       "  'location': '/store/group/lpcmetx/iDMe/skimmed_ntuples/bkg/bkg_2018_10X_systematics_rdfSkim_MET200_nJetsG0//output_Multiboson_WW/',\n",
       "  'type': 'bkg',\n",
       "  'year': 2018,\n",
       "  'nFiles': 1,\n",
       "  'sum_wgt': 15041116.329101562,\n",
       "  'xsec': 76250.0,\n",
       "  'blacklist': []},\n",
       " {'name': 'Multiboson_WWW',\n",
       "  'location': '/store/group/lpcmetx/iDMe/skimmed_ntuples/bkg/bkg_2018_10X_systematics_rdfSkim_MET200_nJetsG0//output_Multiboson_WWW/',\n",
       "  'type': 'bkg',\n",
       "  'year': 2018,\n",
       "  'nFiles': 1,\n",
       "  'sum_wgt': 51638.26171875,\n",
       "  'xsec': 215.8,\n",
       "  'blacklist': []},\n",
       " {'name': 'Multiboson_WWZ',\n",
       "  'location': '/store/group/lpcmetx/iDMe/skimmed_ntuples/bkg/bkg_2018_10X_systematics_rdfSkim_MET200_nJetsG0//output_Multiboson_WWZ/',\n",
       "  'type': 'bkg',\n",
       "  'year': 2018,\n",
       "  'nFiles': 1,\n",
       "  'sum_wgt': 42310.51953125,\n",
       "  'xsec': 170.7,\n",
       "  'blacklist': []},\n",
       " {'name': 'Multiboson_WZ',\n",
       "  'location': '/store/group/lpcmetx/iDMe/skimmed_ntuples/bkg/bkg_2018_10X_systematics_rdfSkim_MET200_nJetsG0//output_Multiboson_WZ/',\n",
       "  'type': 'bkg',\n",
       "  'year': 2018,\n",
       "  'nFiles': 1,\n",
       "  'sum_wgt': 6479000.0,\n",
       "  'xsec': 27550.0,\n",
       "  'blacklist': []},\n",
       " {'name': 'Multiboson_WZZ',\n",
       "  'location': '/store/group/lpcmetx/iDMe/skimmed_ntuples/bkg/bkg_2018_10X_systematics_rdfSkim_MET200_nJetsG0//output_Multiboson_WZZ/',\n",
       "  'type': 'bkg',\n",
       "  'year': 2018,\n",
       "  'nFiles': 1,\n",
       "  'sum_wgt': 14727.13525390625,\n",
       "  'xsec': 57.09,\n",
       "  'blacklist': []},\n",
       " {'name': 'Multiboson_ZZ',\n",
       "  'location': '/store/group/lpcmetx/iDMe/skimmed_ntuples/bkg/bkg_2018_10X_systematics_rdfSkim_MET200_nJetsG0//output_Multiboson_ZZ/',\n",
       "  'type': 'bkg',\n",
       "  'year': 2018,\n",
       "  'nFiles': 1,\n",
       "  'sum_wgt': 2884000.0,\n",
       "  'xsec': 12230.0,\n",
       "  'blacklist': []},\n",
       " {'name': 'Multiboson_ZZZ',\n",
       "  'location': '/store/group/lpcmetx/iDMe/skimmed_ntuples/bkg/bkg_2018_10X_systematics_rdfSkim_MET200_nJetsG0//output_Multiboson_ZZZ/',\n",
       "  'type': 'bkg',\n",
       "  'year': 2018,\n",
       "  'nFiles': 1,\n",
       "  'sum_wgt': 3690.7836685180664,\n",
       "  'xsec': 14.76,\n",
       "  'blacklist': []},\n",
       " {'name': 'QCD_QCD_HT1000to1500',\n",
       "  'location': '/store/group/lpcmetx/iDMe/skimmed_ntuples/bkg/bkg_2018_10X_systematics_rdfSkim_MET200_nJetsG0//output_QCD_QCD_HT1000to1500/',\n",
       "  'type': 'bkg',\n",
       "  'year': 2018,\n",
       "  'nFiles': 1,\n",
       "  'sum_wgt': 14898533.0,\n",
       "  'xsec': 1122000.0,\n",
       "  'blacklist': []},\n",
       " {'name': 'QCD_QCD_HT100to200',\n",
       "  'location': [],\n",
       "  'type': 'bkg',\n",
       "  'year': 2018,\n",
       "  'nFiles': 0,\n",
       "  'sum_wgt': 70726991.0,\n",
       "  'xsec': 23500000000.0,\n",
       "  'blacklist': []},\n",
       " {'name': 'QCD_QCD_HT1500to2000',\n",
       "  'location': '/store/group/lpcmetx/iDMe/skimmed_ntuples/bkg/bkg_2018_10X_systematics_rdfSkim_MET200_nJetsG0//output_QCD_QCD_HT1500to2000/',\n",
       "  'type': 'bkg',\n",
       "  'year': 2018,\n",
       "  'nFiles': 1,\n",
       "  'sum_wgt': 10223920.0,\n",
       "  'xsec': 109400.0,\n",
       "  'blacklist': []},\n",
       " {'name': 'QCD_QCD_HT2000toInf',\n",
       "  'location': '/store/group/lpcmetx/iDMe/skimmed_ntuples/bkg/bkg_2018_10X_systematics_rdfSkim_MET200_nJetsG0//output_QCD_QCD_HT2000toInf/',\n",
       "  'type': 'bkg',\n",
       "  'year': 2018,\n",
       "  'nFiles': 1,\n",
       "  'sum_wgt': 5395984.0,\n",
       "  'xsec': 21740.0,\n",
       "  'blacklist': []},\n",
       " {'name': 'QCD_QCD_HT200to300',\n",
       "  'location': [],\n",
       "  'type': 'bkg',\n",
       "  'year': 2018,\n",
       "  'nFiles': 0,\n",
       "  'sum_wgt': 58837414.0,\n",
       "  'xsec': 1552000000.0,\n",
       "  'blacklist': []},\n",
       " {'name': 'QCD_QCD_HT300to500',\n",
       "  'location': '/store/group/lpcmetx/iDMe/skimmed_ntuples/bkg/bkg_2018_10X_systematics_rdfSkim_MET200_nJetsG0//output_QCD_QCD_HT300to500/',\n",
       "  'type': 'bkg',\n",
       "  'year': 2018,\n",
       "  'nFiles': 1,\n",
       "  'sum_wgt': 57213303.0,\n",
       "  'xsec': 321100000.0,\n",
       "  'blacklist': []},\n",
       " {'name': 'QCD_QCD_HT500to700',\n",
       "  'location': '/store/group/lpcmetx/iDMe/skimmed_ntuples/bkg/bkg_2018_10X_systematics_rdfSkim_MET200_nJetsG0//output_QCD_QCD_HT500to700/',\n",
       "  'type': 'bkg',\n",
       "  'year': 2018,\n",
       "  'nFiles': 2,\n",
       "  'sum_wgt': 54865700.0,\n",
       "  'xsec': 30250000.0,\n",
       "  'blacklist': []},\n",
       " {'name': 'QCD_QCD_HT50to100',\n",
       "  'location': [],\n",
       "  'type': 'bkg',\n",
       "  'year': 2018,\n",
       "  'nFiles': 0,\n",
       "  'sum_wgt': 37903711.0,\n",
       "  'xsec': 187700000000.0,\n",
       "  'blacklist': []},\n",
       " {'name': 'QCD_QCD_HT700to1000',\n",
       "  'location': '/store/group/lpcmetx/iDMe/skimmed_ntuples/bkg/bkg_2018_10X_systematics_rdfSkim_MET200_nJetsG0//output_QCD_QCD_HT700to1000/',\n",
       "  'type': 'bkg',\n",
       "  'year': 2018,\n",
       "  'nFiles': 2,\n",
       "  'sum_wgt': 47247625.0,\n",
       "  'xsec': 6398000.0,\n",
       "  'blacklist': []},\n",
       " {'name': 'Top_ST_s-channel',\n",
       "  'location': '/store/group/lpcmetx/iDMe/skimmed_ntuples/bkg/bkg_2018_10X_systematics_rdfSkim_MET200_nJetsG0//output_Top_ST_s-channel/',\n",
       "  'type': 'bkg',\n",
       "  'year': 2018,\n",
       "  'nFiles': 1,\n",
       "  'sum_wgt': 68767083.6796875,\n",
       "  'xsec': 3549.0,\n",
       "  'blacklist': []},\n",
       " {'name': 'Top_ST_t-channel_antitop',\n",
       "  'location': '/store/group/lpcmetx/iDMe/skimmed_ntuples/bkg/bkg_2018_10X_systematics_rdfSkim_MET200_nJetsG0//output_Top_ST_t-channel_antitop/',\n",
       "  'type': 'bkg',\n",
       "  'year': 2018,\n",
       "  'nFiles': 2,\n",
       "  'sum_wgt': 7042567388.0,\n",
       "  'xsec': 71750.0,\n",
       "  'blacklist': []},\n",
       " {'name': 'Top_ST_t-channel_top',\n",
       "  'location': '/store/group/lpcmetx/iDMe/skimmed_ntuples/bkg/bkg_2018_10X_systematics_rdfSkim_MET200_nJetsG0//output_Top_ST_t-channel_top/',\n",
       "  'type': 'bkg',\n",
       "  'year': 2018,\n",
       "  'nFiles': 3,\n",
       "  'sum_wgt': 23700157795.5,\n",
       "  'xsec': 119700.0,\n",
       "  'blacklist': []},\n",
       " {'name': 'Top_ST_tW_antitop',\n",
       "  'location': '/store/group/lpcmetx/iDMe/skimmed_ntuples/bkg/bkg_2018_10X_systematics_rdfSkim_MET200_nJetsG0//output_Top_ST_tW_antitop/',\n",
       "  'type': 'bkg',\n",
       "  'year': 2018,\n",
       "  'nFiles': 1,\n",
       "  'sum_wgt': 251902071.8203125,\n",
       "  'xsec': 32510.0,\n",
       "  'blacklist': []},\n",
       " {'name': 'Top_ST_tW_top',\n",
       "  'location': '/store/group/lpcmetx/iDMe/skimmed_ntuples/bkg/bkg_2018_10X_systematics_rdfSkim_MET200_nJetsG0//output_Top_ST_tW_top/',\n",
       "  'type': 'bkg',\n",
       "  'year': 2018,\n",
       "  'nFiles': 1,\n",
       "  'sum_wgt': 258137593.453125,\n",
       "  'xsec': 32450.0,\n",
       "  'blacklist': []},\n",
       " {'name': 'Top_TTJets',\n",
       "  'location': '/store/group/lpcmetx/iDMe/skimmed_ntuples/bkg/bkg_2018_10X_systematics_rdfSkim_MET200_nJetsG0//output_Top_TTJets/',\n",
       "  'type': 'bkg',\n",
       "  'year': 2018,\n",
       "  'nFiles': 1,\n",
       "  'sum_wgt': 9752554.0,\n",
       "  'xsec': 471700.0,\n",
       "  'blacklist': []},\n",
       " {'name': 'WJets_WJetsLNu_HT100to200',\n",
       "  'location': '/store/group/lpcmetx/iDMe/skimmed_ntuples/bkg/bkg_2018_10X_systematics_rdfSkim_MET200_nJetsG0//output_WJets_WJetsLNu_HT100to200/',\n",
       "  'type': 'bkg',\n",
       "  'year': 2018,\n",
       "  'nFiles': 1,\n",
       "  'sum_wgt': 45004325.0,\n",
       "  'xsec': 1244000.0,\n",
       "  'blacklist': []},\n",
       " {'name': 'WJets_WJetsLNu_HT1200to2500',\n",
       "  'location': '/store/group/lpcmetx/iDMe/skimmed_ntuples/bkg/bkg_2018_10X_systematics_rdfSkim_MET200_nJetsG0//output_WJets_WJetsLNu_HT1200to2500/',\n",
       "  'type': 'bkg',\n",
       "  'year': 2018,\n",
       "  'nFiles': 1,\n",
       "  'sum_wgt': 6278423.0,\n",
       "  'xsec': 1152.0,\n",
       "  'blacklist': []},\n",
       " {'name': 'WJets_WJetsLNu_HT200to400',\n",
       "  'location': '/store/group/lpcmetx/iDMe/skimmed_ntuples/bkg/bkg_2018_10X_systematics_rdfSkim_MET200_nJetsG0//output_WJets_WJetsLNu_HT200to400/',\n",
       "  'type': 'bkg',\n",
       "  'year': 2018,\n",
       "  'nFiles': 1,\n",
       "  'sum_wgt': 58331446.0,\n",
       "  'xsec': 337800.0,\n",
       "  'blacklist': []},\n",
       " {'name': 'WJets_WJetsLNu_HT2500toInf',\n",
       "  'location': '/store/group/lpcmetx/iDMe/skimmed_ntuples/bkg/bkg_2018_10X_systematics_rdfSkim_MET200_nJetsG0//output_WJets_WJetsLNu_HT2500toInf/',\n",
       "  'type': 'bkg',\n",
       "  'year': 2018,\n",
       "  'nFiles': 1,\n",
       "  'sum_wgt': 2097648.0,\n",
       "  'xsec': 26.46,\n",
       "  'blacklist': []},\n",
       " {'name': 'WJets_WJetsLNu_HT400to600',\n",
       "  'location': '/store/group/lpcmetx/iDMe/skimmed_ntuples/bkg/bkg_2018_10X_systematics_rdfSkim_MET200_nJetsG0//output_WJets_WJetsLNu_HT400to600/',\n",
       "  'type': 'bkg',\n",
       "  'year': 2018,\n",
       "  'nFiles': 1,\n",
       "  'sum_wgt': 7444030.0,\n",
       "  'xsec': 44930.0,\n",
       "  'blacklist': []},\n",
       " {'name': 'WJets_WJetsLNu_HT600to800',\n",
       "  'location': '/store/group/lpcmetx/iDMe/skimmed_ntuples/bkg/bkg_2018_10X_systematics_rdfSkim_MET200_nJetsG0//output_WJets_WJetsLNu_HT600to800/',\n",
       "  'type': 'bkg',\n",
       "  'year': 2018,\n",
       "  'nFiles': 1,\n",
       "  'sum_wgt': 7718765.0,\n",
       "  'xsec': 11190.0,\n",
       "  'blacklist': []},\n",
       " {'name': 'WJets_WJetsLNu_HT70to100',\n",
       "  'location': '/store/group/lpcmetx/iDMe/skimmed_ntuples/bkg/bkg_2018_10X_systematics_rdfSkim_MET200_nJetsG0//output_WJets_WJetsLNu_HT70to100/',\n",
       "  'type': 'bkg',\n",
       "  'year': 2018,\n",
       "  'nFiles': 2,\n",
       "  'sum_wgt': 44314452.0,\n",
       "  'xsec': 1283000.0,\n",
       "  'blacklist': []},\n",
       " {'name': 'WJets_WJetsLNu_HT800to1200',\n",
       "  'location': '/store/group/lpcmetx/iDMe/skimmed_ntuples/bkg/bkg_2018_10X_systematics_rdfSkim_MET200_nJetsG0//output_WJets_WJetsLNu_HT800to1200/',\n",
       "  'type': 'bkg',\n",
       "  'year': 2018,\n",
       "  'nFiles': 1,\n",
       "  'sum_wgt': 7306187.0,\n",
       "  'xsec': 4926.0,\n",
       "  'blacklist': []},\n",
       " {'name': 'ZGamma_ZG2JTo2L2JG',\n",
       "  'location': '/store/group/lpcmetx/iDMe/skimmed_ntuples/bkg/bkg_2018_10X_systematics_rdfSkim_MET200_nJetsG0//output_ZGamma_ZG2JTo2L2JG/',\n",
       "  'type': 'bkg',\n",
       "  'year': 2018,\n",
       "  'nFiles': 1,\n",
       "  'sum_wgt': 495930.0,\n",
       "  'xsec': 114.5,\n",
       "  'blacklist': []},\n",
       " {'name': 'ZGamma_ZGToJJG',\n",
       "  'location': '/store/group/lpcmetx/iDMe/skimmed_ntuples/bkg/bkg_2018_10X_systematics_rdfSkim_MET200_nJetsG0//output_ZGamma_ZGToJJG/',\n",
       "  'type': 'bkg',\n",
       "  'year': 2018,\n",
       "  'nFiles': 1,\n",
       "  'sum_wgt': 83731933.125,\n",
       "  'xsec': 4144.0,\n",
       "  'blacklist': []},\n",
       " {'name': 'ZGamma_ZGToLLG',\n",
       "  'location': '/store/group/lpcmetx/iDMe/skimmed_ntuples/bkg/bkg_2018_10X_systematics_rdfSkim_MET200_nJetsG0//output_ZGamma_ZGToLLG/',\n",
       "  'type': 'bkg',\n",
       "  'year': 2018,\n",
       "  'nFiles': 1,\n",
       "  'sum_wgt': 2654387062.625,\n",
       "  'xsec': 51530.0,\n",
       "  'blacklist': []},\n",
       " {'name': 'ZGamma_ZGToNuNuG',\n",
       "  'location': '/store/group/lpcmetx/iDMe/skimmed_ntuples/bkg/bkg_2018_10X_systematics_rdfSkim_MET200_nJetsG0//output_ZGamma_ZGToNuNuG/',\n",
       "  'type': 'bkg',\n",
       "  'year': 2018,\n",
       "  'nFiles': 1,\n",
       "  'sum_wgt': 200709530.0,\n",
       "  'xsec': 29930.0,\n",
       "  'blacklist': []},\n",
       " {'name': 'ZJets_ZJetsNuNu_HT100to200',\n",
       "  'location': '/store/group/lpcmetx/iDMe/skimmed_ntuples/bkg/bkg_2018_10X_systematics_rdfSkim_MET200_nJetsG0//output_ZJets_ZJetsNuNu_HT100to200/',\n",
       "  'type': 'bkg',\n",
       "  'year': 2018,\n",
       "  'nFiles': 1,\n",
       "  'sum_wgt': 17836533.0,\n",
       "  'xsec': 271300.0,\n",
       "  'blacklist': []},\n",
       " {'name': 'ZJets_ZJetsNuNu_HT1200to2500',\n",
       "  'location': '/store/group/lpcmetx/iDMe/skimmed_ntuples/bkg/bkg_2018_10X_systematics_rdfSkim_MET200_nJetsG0//output_ZJets_ZJetsNuNu_HT1200to2500/',\n",
       "  'type': 'bkg',\n",
       "  'year': 2018,\n",
       "  'nFiles': 1,\n",
       "  'sum_wgt': 381695.0,\n",
       "  'xsec': 247.4,\n",
       "  'blacklist': []},\n",
       " {'name': 'ZJets_ZJetsNuNu_HT200to400',\n",
       "  'location': '/store/group/lpcmetx/iDMe/skimmed_ntuples/bkg/bkg_2018_10X_systematics_rdfSkim_MET200_nJetsG0//output_ZJets_ZJetsNuNu_HT200to400/',\n",
       "  'type': 'bkg',\n",
       "  'year': 2018,\n",
       "  'nFiles': 1,\n",
       "  'sum_wgt': 22284092.0,\n",
       "  'xsec': 72690.0,\n",
       "  'blacklist': []},\n",
       " {'name': 'ZJets_ZJetsNuNu_HT2500toInf',\n",
       "  'location': '/store/group/lpcmetx/iDMe/skimmed_ntuples/bkg/bkg_2018_10X_systematics_rdfSkim_MET200_nJetsG0//output_ZJets_ZJetsNuNu_HT2500toInf/',\n",
       "  'type': 'bkg',\n",
       "  'year': 2018,\n",
       "  'nFiles': 1,\n",
       "  'sum_wgt': 268224.0,\n",
       "  'xsec': 5.609,\n",
       "  'blacklist': []},\n",
       " {'name': 'ZJets_ZJetsNuNu_HT400to600',\n",
       "  'location': '/store/group/lpcmetx/iDMe/skimmed_ntuples/bkg/bkg_2018_10X_systematics_rdfSkim_MET200_nJetsG0//output_ZJets_ZJetsNuNu_HT400to600/',\n",
       "  'type': 'bkg',\n",
       "  'year': 2018,\n",
       "  'nFiles': 1,\n",
       "  'sum_wgt': 19810491.0,\n",
       "  'xsec': 9961.0,\n",
       "  'blacklist': []},\n",
       " {'name': 'ZJets_ZJetsNuNu_HT600to800',\n",
       "  'location': '/store/group/lpcmetx/iDMe/skimmed_ntuples/bkg/bkg_2018_10X_systematics_rdfSkim_MET200_nJetsG0//output_ZJets_ZJetsNuNu_HT600to800/',\n",
       "  'type': 'bkg',\n",
       "  'year': 2018,\n",
       "  'nFiles': 1,\n",
       "  'sum_wgt': 5968910.0,\n",
       "  'xsec': 2425.0,\n",
       "  'blacklist': []},\n",
       " {'name': 'ZJets_ZJetsNuNu_HT800to1200',\n",
       "  'location': '/store/group/lpcmetx/iDMe/skimmed_ntuples/bkg/bkg_2018_10X_systematics_rdfSkim_MET200_nJetsG0//output_ZJets_ZJetsNuNu_HT800to1200/',\n",
       "  'type': 'bkg',\n",
       "  'year': 2018,\n",
       "  'nFiles': 1,\n",
       "  'sum_wgt': 2129122.0,\n",
       "  'xsec': 1076.0,\n",
       "  'blacklist': []}]"
      ]
     },
     "execution_count": 3,
     "metadata": {},
     "output_type": "execute_result"
    }
   ],
   "source": [
    "bkg_cfg"
   ]
  },
  {
   "cell_type": "code",
   "execution_count": 4,
   "id": "3b3b2b2f-b244-475b-91c4-a71cde19b87c",
   "metadata": {
    "scrolled": true
   },
   "outputs": [
    {
     "name": "stdout",
     "output_type": "stream",
     "text": [
      "/store/group/lpcmetx/iDMe/skimmed_ntuples/bkg/bkg_2018_10X_systematics_rdfSkim_MET200_nJetsG0//output_DYLowMass_DYJetsToLL_M10to50/\n",
      "/store/group/lpcmetx/iDMe/skimmed_ntuples/bkg/bkg_2018_10X_systematics_rdfSkim_MET200_nJetsG0//output_DY_DYJetsToLL/\n",
      "/store/group/lpcmetx/iDMe/skimmed_ntuples/bkg/bkg_2018_10X_systematics_rdfSkim_MET200_nJetsG0//output_Multiboson_WW/\n",
      "/store/group/lpcmetx/iDMe/skimmed_ntuples/bkg/bkg_2018_10X_systematics_rdfSkim_MET200_nJetsG0//output_Multiboson_WWW/\n",
      "/store/group/lpcmetx/iDMe/skimmed_ntuples/bkg/bkg_2018_10X_systematics_rdfSkim_MET200_nJetsG0//output_Multiboson_WWZ/\n",
      "/store/group/lpcmetx/iDMe/skimmed_ntuples/bkg/bkg_2018_10X_systematics_rdfSkim_MET200_nJetsG0//output_Multiboson_WZ/\n",
      "/store/group/lpcmetx/iDMe/skimmed_ntuples/bkg/bkg_2018_10X_systematics_rdfSkim_MET200_nJetsG0//output_Multiboson_WZZ/\n",
      "/store/group/lpcmetx/iDMe/skimmed_ntuples/bkg/bkg_2018_10X_systematics_rdfSkim_MET200_nJetsG0//output_Multiboson_ZZ/\n",
      "/store/group/lpcmetx/iDMe/skimmed_ntuples/bkg/bkg_2018_10X_systematics_rdfSkim_MET200_nJetsG0//output_Multiboson_ZZZ/\n",
      "/store/group/lpcmetx/iDMe/skimmed_ntuples/bkg/bkg_2018_10X_systematics_rdfSkim_MET200_nJetsG0//output_QCD_QCD_HT1000to1500/\n",
      "[]\n",
      "/store/group/lpcmetx/iDMe/skimmed_ntuples/bkg/bkg_2018_10X_systematics_rdfSkim_MET200_nJetsG0//output_QCD_QCD_HT1500to2000/\n",
      "/store/group/lpcmetx/iDMe/skimmed_ntuples/bkg/bkg_2018_10X_systematics_rdfSkim_MET200_nJetsG0//output_QCD_QCD_HT2000toInf/\n",
      "[]\n",
      "/store/group/lpcmetx/iDMe/skimmed_ntuples/bkg/bkg_2018_10X_systematics_rdfSkim_MET200_nJetsG0//output_QCD_QCD_HT300to500/\n",
      "/store/group/lpcmetx/iDMe/skimmed_ntuples/bkg/bkg_2018_10X_systematics_rdfSkim_MET200_nJetsG0//output_QCD_QCD_HT500to700/\n",
      "[]\n",
      "/store/group/lpcmetx/iDMe/skimmed_ntuples/bkg/bkg_2018_10X_systematics_rdfSkim_MET200_nJetsG0//output_QCD_QCD_HT700to1000/\n",
      "/store/group/lpcmetx/iDMe/skimmed_ntuples/bkg/bkg_2018_10X_systematics_rdfSkim_MET200_nJetsG0//output_Top_ST_s-channel/\n",
      "/store/group/lpcmetx/iDMe/skimmed_ntuples/bkg/bkg_2018_10X_systematics_rdfSkim_MET200_nJetsG0//output_Top_ST_t-channel_antitop/\n",
      "/store/group/lpcmetx/iDMe/skimmed_ntuples/bkg/bkg_2018_10X_systematics_rdfSkim_MET200_nJetsG0//output_Top_ST_t-channel_top/\n",
      "/store/group/lpcmetx/iDMe/skimmed_ntuples/bkg/bkg_2018_10X_systematics_rdfSkim_MET200_nJetsG0//output_Top_ST_tW_antitop/\n",
      "/store/group/lpcmetx/iDMe/skimmed_ntuples/bkg/bkg_2018_10X_systematics_rdfSkim_MET200_nJetsG0//output_Top_ST_tW_top/\n",
      "/store/group/lpcmetx/iDMe/skimmed_ntuples/bkg/bkg_2018_10X_systematics_rdfSkim_MET200_nJetsG0//output_Top_TTJets/\n",
      "/store/group/lpcmetx/iDMe/skimmed_ntuples/bkg/bkg_2018_10X_systematics_rdfSkim_MET200_nJetsG0//output_WJets_WJetsLNu_HT100to200/\n",
      "/store/group/lpcmetx/iDMe/skimmed_ntuples/bkg/bkg_2018_10X_systematics_rdfSkim_MET200_nJetsG0//output_WJets_WJetsLNu_HT1200to2500/\n",
      "/store/group/lpcmetx/iDMe/skimmed_ntuples/bkg/bkg_2018_10X_systematics_rdfSkim_MET200_nJetsG0//output_WJets_WJetsLNu_HT200to400/\n",
      "/store/group/lpcmetx/iDMe/skimmed_ntuples/bkg/bkg_2018_10X_systematics_rdfSkim_MET200_nJetsG0//output_WJets_WJetsLNu_HT2500toInf/\n",
      "/store/group/lpcmetx/iDMe/skimmed_ntuples/bkg/bkg_2018_10X_systematics_rdfSkim_MET200_nJetsG0//output_WJets_WJetsLNu_HT400to600/\n",
      "/store/group/lpcmetx/iDMe/skimmed_ntuples/bkg/bkg_2018_10X_systematics_rdfSkim_MET200_nJetsG0//output_WJets_WJetsLNu_HT600to800/\n",
      "/store/group/lpcmetx/iDMe/skimmed_ntuples/bkg/bkg_2018_10X_systematics_rdfSkim_MET200_nJetsG0//output_WJets_WJetsLNu_HT70to100/\n",
      "/store/group/lpcmetx/iDMe/skimmed_ntuples/bkg/bkg_2018_10X_systematics_rdfSkim_MET200_nJetsG0//output_WJets_WJetsLNu_HT800to1200/\n",
      "/store/group/lpcmetx/iDMe/skimmed_ntuples/bkg/bkg_2018_10X_systematics_rdfSkim_MET200_nJetsG0//output_ZGamma_ZG2JTo2L2JG/\n",
      "/store/group/lpcmetx/iDMe/skimmed_ntuples/bkg/bkg_2018_10X_systematics_rdfSkim_MET200_nJetsG0//output_ZGamma_ZGToJJG/\n",
      "/store/group/lpcmetx/iDMe/skimmed_ntuples/bkg/bkg_2018_10X_systematics_rdfSkim_MET200_nJetsG0//output_ZGamma_ZGToLLG/\n",
      "/store/group/lpcmetx/iDMe/skimmed_ntuples/bkg/bkg_2018_10X_systematics_rdfSkim_MET200_nJetsG0//output_ZGamma_ZGToNuNuG/\n",
      "/store/group/lpcmetx/iDMe/skimmed_ntuples/bkg/bkg_2018_10X_systematics_rdfSkim_MET200_nJetsG0//output_ZJets_ZJetsNuNu_HT100to200/\n",
      "/store/group/lpcmetx/iDMe/skimmed_ntuples/bkg/bkg_2018_10X_systematics_rdfSkim_MET200_nJetsG0//output_ZJets_ZJetsNuNu_HT1200to2500/\n",
      "/store/group/lpcmetx/iDMe/skimmed_ntuples/bkg/bkg_2018_10X_systematics_rdfSkim_MET200_nJetsG0//output_ZJets_ZJetsNuNu_HT200to400/\n",
      "/store/group/lpcmetx/iDMe/skimmed_ntuples/bkg/bkg_2018_10X_systematics_rdfSkim_MET200_nJetsG0//output_ZJets_ZJetsNuNu_HT2500toInf/\n",
      "/store/group/lpcmetx/iDMe/skimmed_ntuples/bkg/bkg_2018_10X_systematics_rdfSkim_MET200_nJetsG0//output_ZJets_ZJetsNuNu_HT400to600/\n",
      "/store/group/lpcmetx/iDMe/skimmed_ntuples/bkg/bkg_2018_10X_systematics_rdfSkim_MET200_nJetsG0//output_ZJets_ZJetsNuNu_HT600to800/\n",
      "/store/group/lpcmetx/iDMe/skimmed_ntuples/bkg/bkg_2018_10X_systematics_rdfSkim_MET200_nJetsG0//output_ZJets_ZJetsNuNu_HT800to1200/\n"
     ]
    }
   ],
   "source": [
    "from XRootD import client\n",
    "\n",
    "ntuples_bkg = {}\n",
    "\n",
    "for idx, cfg in enumerate(bkg_cfg):\n",
    "    loc = cfg['location']\n",
    "    print(loc)\n",
    "    if loc == []:\n",
    "        continue\n",
    "    blacklist = cfg['blacklist']\n",
    "    xrdClient = client.FileSystem(\"root://cmseos.fnal.gov\")\n",
    "    status, flist = xrdClient.dirlist(loc) # get list of files in directory\n",
    "    # select only non-blacklisted root files, prepend the root://cmsxrootd.fnal.gov/ to the file paths\n",
    "    fullList = [\"root://cmseos.fnal.gov/\"+loc+\"/\"+item.name for item in flist if (('.root' in item.name) and (item.name not in blacklist))]\n",
    "    \n",
    "    #ntuples_bkg[cfg['name']] = fullList[10]"
   ]
  },
  {
   "cell_type": "code",
   "execution_count": 5,
   "id": "ca49f539-b2d7-4761-b54e-938efa9c40ad",
   "metadata": {},
   "outputs": [
    {
     "data": {
      "text/plain": [
       "['root://cmseos.fnal.gov//store/group/lpcmetx/iDMe/skimmed_ntuples/bkg/bkg_2018_10X_systematics_rdfSkim_MET200_nJetsG0//output_ZJets_ZJetsNuNu_HT800to1200//ntuples_ZJets_ZJetsNuNu_HT800to1200_0.root']"
      ]
     },
     "execution_count": 5,
     "metadata": {},
     "output_type": "execute_result"
    }
   ],
   "source": [
    "fullList"
   ]
  },
  {
   "cell_type": "code",
   "execution_count": 6,
   "id": "7c0223a0-d5cc-4bb0-888e-f62ab5011818",
   "metadata": {},
   "outputs": [
    {
     "data": {
      "text/plain": [
       "{}"
      ]
     },
     "execution_count": 6,
     "metadata": {},
     "output_type": "execute_result"
    }
   ],
   "source": [
    "ntuples_bkg"
   ]
  },
  {
   "cell_type": "code",
   "execution_count": null,
   "id": "141da449-0664-4c5f-a436-a87136412c1f",
   "metadata": {},
   "outputs": [],
   "source": []
  },
  {
   "cell_type": "markdown",
   "id": "238926fb-7c46-4879-8460-bd5347c81990",
   "metadata": {},
   "source": [
    "## Read branch"
   ]
  },
  {
   "cell_type": "code",
   "execution_count": 2,
   "id": "2bbe7d07-d647-4a95-a27f-2e0c4f55fa6c",
   "metadata": {},
   "outputs": [],
   "source": [
    "# open the first file in the list\n",
    "t = {}\n",
    "\n",
    "#t['bkg'] = uproot.open(ntuples_bkg['Top_TTJets'])['ntuples/outT']"
   ]
  },
  {
   "cell_type": "code",
   "execution_count": 3,
   "id": "d9284899-cd58-4203-bef2-913d3902325c",
   "metadata": {},
   "outputs": [],
   "source": [
    "#year = '2018'\n",
    "#year = '2017'\n",
    "#year = '2016_preVFP'\n",
    "#year = '2016_postVFP'\n",
    "\n",
    "for year in ['2018', '2017', '2016_preVFP', '2016_postVFP']:\n",
    "    t[f'TotalBkg_{year}'] = uproot.open(f'/eos/uscms//store/group/lpcmetx/iDMe/skimmed_ntuples/bkg/bkg_{year}_10X_systematics_rdfSkim_MET200_nJetsG0/haddBkg.root')['ntuples/outT']\n",
    "\n",
    "#t[f'TotalBkg_{year}'] = uproot.open(f'/eos/uscms//store/group/lpcmetx/iDMe/skimmed_ntuples/bkg/bkg_{year}_10X_systematics_rdfSkim_MET200_nJetsG0/haddBkg.root')['ntuples/outT']\n",
    "#t[f'WJets_{year}'] = uproot.open(f'/eos/uscms//store/group/lpcmetx/iDMe/skimmed_ntuples/bkg/bkg_{year}_10X_systematics_rdfSkim_MET200_nJetsG0/haddBkg_WJets.root')['ntuples/outT']\n",
    "#t[f'ZJets_{year}'] = uproot.open(f'/eos/uscms//store/group/lpcmetx/iDMe/skimmed_ntuples/bkg/bkg_{year}_10X_systematics_rdfSkim_MET200_nJetsG0/haddBkg_ZJets.root')['ntuples/outT']\n",
    "#t[f'Top_{year}'] = uproot.open(f'/eos/uscms//store/group/lpcmetx/iDMe/skimmed_ntuples/bkg/bkg_{year}_10X_systematics_rdfSkim_MET200_nJetsG0/haddBkg_Top.root')['ntuples/outT']"
   ]
  },
  {
   "cell_type": "code",
   "execution_count": 4,
   "id": "23525c31-bf23-49b7-be40-db1892ce354e",
   "metadata": {},
   "outputs": [],
   "source": [
    "import hist\n",
    "import mplhep as hep"
   ]
  },
  {
   "cell_type": "code",
   "execution_count": 18,
   "id": "584412da-14fb-4ac9-87a3-e7c791213179",
   "metadata": {},
   "outputs": [],
   "source": [
    "btagWP = {'2018': 0.2783, \\\n",
    "          '2017': 0.3040, \\\n",
    "          '2016_postVFP': 0.2489, \\\n",
    "          '2016_preVFP': 0.2598\n",
    "         }"
   ]
  },
  {
   "cell_type": "code",
   "execution_count": 24,
   "id": "deafb967-971c-47f5-b0e2-700c48b81af5",
   "metadata": {},
   "outputs": [],
   "source": [
    "year = '2016_preVFP'"
   ]
  },
  {
   "cell_type": "code",
   "execution_count": null,
   "id": "9f9ba8d6-dc18-4eaf-a1a7-6e802b9143fb",
   "metadata": {},
   "outputs": [],
   "source": []
  },
  {
   "cell_type": "code",
   "execution_count": 25,
   "id": "3f3dd678-7825-4f47-85d5-ea2f1ffd6610",
   "metadata": {},
   "outputs": [
    {
     "data": {
      "text/plain": [
       "<Array [[True, True, True], ... [True, True]] type='649267 * var * bool'>"
      ]
     },
     "execution_count": 25,
     "metadata": {},
     "output_type": "execute_result"
    }
   ],
   "source": [
    "mask_light = t[f'TotalBkg_{year}']['PFJet_truth'].array() == 0\n",
    "mask_light"
   ]
  },
  {
   "cell_type": "code",
   "execution_count": 26,
   "id": "0b91c0f7-93c7-4dfc-802b-93d60d85909c",
   "metadata": {},
   "outputs": [
    {
     "data": {
      "text/plain": [
       "<Array [[False, False, False, ... False, True]] type='649267 * var * bool'>"
      ]
     },
     "execution_count": 26,
     "metadata": {},
     "output_type": "execute_result"
    }
   ],
   "source": [
    "mask_isTagged = t[f'TotalBkg_{year}']['PFJet_bTag'].array() > btagWP[year]\n",
    "mask_isTagged"
   ]
  },
  {
   "cell_type": "code",
   "execution_count": 27,
   "id": "9cdc96bb-14a3-4d20-94bc-f63715e3b7f3",
   "metadata": {},
   "outputs": [
    {
     "data": {
      "text/plain": [
       "0.03767851210492497"
      ]
     },
     "execution_count": 27,
     "metadata": {},
     "output_type": "execute_result"
    }
   ],
   "source": [
    "light_mistag_eff = np.count_nonzero(mask_isTagged & mask_light)/np.count_nonzero(mask_light)\n",
    "light_mistag_eff"
   ]
  },
  {
   "cell_type": "code",
   "execution_count": null,
   "id": "d1ce640c-7368-4ca1-9a89-15ab19df8fc6",
   "metadata": {},
   "outputs": [],
   "source": [
    "# eff light\n",
    "# 0.03 for 2018 0.027\n",
    "# 0.03 for 2017 0.025\n",
    "# 0.03 for 2016 0.033\n",
    "# 0.04 for 2016 APV"
   ]
  },
  {
   "cell_type": "code",
   "execution_count": null,
   "id": "82e2a614-1398-41f7-aa5d-653a653353a0",
   "metadata": {},
   "outputs": [],
   "source": []
  },
  {
   "cell_type": "code",
   "execution_count": null,
   "id": "78800b04-ae9e-45e9-a0fa-ecbbcb6b19ef",
   "metadata": {},
   "outputs": [],
   "source": []
  },
  {
   "cell_type": "code",
   "execution_count": null,
   "id": "cc9e6ea8-e3fc-4c6a-8764-aec325b4c127",
   "metadata": {},
   "outputs": [],
   "source": []
  },
  {
   "cell_type": "code",
   "execution_count": null,
   "id": "163ee100-e154-45e8-b6e5-ab899c3aed3e",
   "metadata": {},
   "outputs": [],
   "source": []
  },
  {
   "cell_type": "code",
   "execution_count": null,
   "id": "3dd70d76-ac98-4ef7-b985-58dc2199bebb",
   "metadata": {},
   "outputs": [],
   "source": []
  },
  {
   "cell_type": "code",
   "execution_count": null,
   "id": "bf42d983-1654-4d26-b62a-19e815984333",
   "metadata": {},
   "outputs": [],
   "source": []
  },
  {
   "cell_type": "code",
   "execution_count": null,
   "id": "140b20d2-54ab-4617-be52-443aed5d37c9",
   "metadata": {},
   "outputs": [],
   "source": [
    "eff_num = {}\n",
    "eff_denom = {}\n",
    "eff = {}\n",
    "\n",
    "for key in t.keys():\n",
    "    eff_num = ak.flatten(t[key]['PFJet_bTagEffNumPt'].array())\n",
    "    eff_denom = ak.flatten(t[key]['PFJet_bTagEffDenomPt'].array())\n",
    "\n",
    "    h_num = hist.Hist(\n",
    "        hist.axis.Regular(\n",
    "            20, 0, 300, name=\"pt\", label=\"pt [GeV]\", underflow=True, overflow=True\n",
    "        )\n",
    "    )\n",
    "    \n",
    "    h_denom = hist.Hist(\n",
    "        hist.axis.Regular(\n",
    "            20, 0, 300, name=\"pt\", label=\"pt [GeV]\", underflow=True, overflow=True\n",
    "        )\n",
    "    )\n",
    "\n",
    "    h_num.fill(eff_num)\n",
    "    h_denom.fill(eff_denom)\n",
    "\n",
    "    eff[key] = h_num / h_denom"
   ]
  },
  {
   "cell_type": "code",
   "execution_count": null,
   "id": "dba17ca4-fb0f-4b9a-b5d6-b698989c7898",
   "metadata": {},
   "outputs": [],
   "source": []
  },
  {
   "cell_type": "code",
   "execution_count": null,
   "id": "84b79021-10b8-45f9-b576-eeede205c716",
   "metadata": {},
   "outputs": [],
   "source": []
  },
  {
   "cell_type": "code",
   "execution_count": null,
   "id": "51837d24-e821-4a5b-ac37-fbe5ee3b070e",
   "metadata": {},
   "outputs": [],
   "source": [
    "eff_num = {}\n",
    "eff_denom = {}\n",
    "eff = {}\n",
    "\n",
    "for key in t.keys():\n",
    "    eff_num = ak.flatten(t[key]['PFJet_bTagEffNumPt'].array())\n",
    "    eff_denom = ak.flatten(t[key]['PFJet_bTagEffDenomPt'].array())\n",
    "\n",
    "    h_num = hist.Hist(\n",
    "        hist.axis.Regular(\n",
    "            20, 0, 300, name=\"pt\", label=\"pt [GeV]\", underflow=True, overflow=True\n",
    "        )\n",
    "    )\n",
    "    \n",
    "    h_denom = hist.Hist(\n",
    "        hist.axis.Regular(\n",
    "            20, 0, 300, name=\"pt\", label=\"pt [GeV]\", underflow=True, overflow=True\n",
    "        )\n",
    "    )\n",
    "\n",
    "    h_num.fill(eff_num)\n",
    "    h_denom.fill(eff_denom)\n",
    "\n",
    "    eff[key] = h_num / h_denom"
   ]
  },
  {
   "cell_type": "code",
   "execution_count": null,
   "id": "885d8064-09cf-429c-a4c9-92a17e81e659",
   "metadata": {},
   "outputs": [],
   "source": []
  },
  {
   "cell_type": "code",
   "execution_count": null,
   "id": "e36477b6-076a-4bbb-8103-5d41d0ed23b3",
   "metadata": {},
   "outputs": [],
   "source": [
    "hep.style.use(\"CMS\")\n",
    "\n",
    "for key in t.keys():\n",
    "    eff[key].plot(label=key.split('otalBkg_')[1], linewidth=3)\n",
    "\n",
    "plt.ylabel('DeepJet Medium eff')\n",
    "plt.xlabel('Jet pT')\n",
    "plt.ylim([0,1])\n",
    "plt.xlim([30,300])\n",
    "\n",
    "plt.title(f'Btagging Efficiency in Background MC ({year})')\n",
    "\n",
    "plt.legend()\n",
    "\n",
    "plt.savefig(f'btag_eff_total.png',bbox_inches='tight')"
   ]
  },
  {
   "cell_type": "code",
   "execution_count": null,
   "id": "480d9fcc-d022-4529-ae0d-94af534e0cb7",
   "metadata": {},
   "outputs": [],
   "source": []
  },
  {
   "cell_type": "code",
   "execution_count": null,
   "id": "bee2654c-7633-485a-8ef8-3789d16e8d95",
   "metadata": {},
   "outputs": [],
   "source": []
  },
  {
   "cell_type": "code",
   "execution_count": null,
   "id": "341cacb1-9a86-44a7-a403-d3b26ef5a96f",
   "metadata": {},
   "outputs": [],
   "source": []
  },
  {
   "cell_type": "code",
   "execution_count": null,
   "id": "45743b4a-daac-4aee-ae66-0225b460f375",
   "metadata": {},
   "outputs": [],
   "source": []
  },
  {
   "cell_type": "code",
   "execution_count": 107,
   "id": "5d7ee6a5-2b0a-41f7-9a06-b3d07eb0d00d",
   "metadata": {
    "scrolled": true
   },
   "outputs": [],
   "source": [
    "#t['bkg'] = uproot.open('/eos/uscms//store/group/lpcmetx/iDMe/skimmed_ntuples/bkg/bkg_2018_10X_systematics_rdfSkim_MET200_nJetsG0/haddBkg.root')['ntuples/outT']\n",
    "#t['bkg'] = uproot.open('/eos/uscms//store/group/lpcmetx/iDMe/skimmed_ntuples/bkg/bkg_2018_10X_systematics_rdfSkim_MET200_nJetsG0/haddBkg_WJets.root')['ntuples/outT']\n",
    "#t['bkg'] = uproot.open('/eos/uscms//store/group/lpcmetx/iDMe/skimmed_ntuples/bkg/bkg_2018_10X_systematics_rdfSkim_MET200_nJetsG0/haddBkg_ZJets.root')['ntuples/outT']\n",
    "t['bkg'] = uproot.open('/eos/uscms//store/group/lpcmetx/iDMe/skimmed_ntuples/bkg/bkg_2018_10X_systematics_rdfSkim_MET200_nJetsG0/haddBkg_Top.root')['ntuples/outT']\n",
    "#t['bkg'] = uproot.open('/eos/uscms/store/group/lpcmetx/iDMe/skimmed_ntuples/signal/signal_2018_10X_systematics_aEM_rdfSkim_MET200_nJetsG0/haddSig_m40_delta0p1_ct1.root')['ntuples/outT']"
   ]
  },
  {
   "cell_type": "code",
   "execution_count": null,
   "id": "f51d459c-9488-4b8c-afc2-640e484c9a52",
   "metadata": {},
   "outputs": [],
   "source": []
  },
  {
   "cell_type": "code",
   "execution_count": null,
   "id": "78655457-fb9f-4111-9854-1b65e61e983e",
   "metadata": {},
   "outputs": [],
   "source": []
  },
  {
   "cell_type": "code",
   "execution_count": 108,
   "id": "c9ddfdbd-2341-4bd1-9c13-2dfb6f4ad99f",
   "metadata": {},
   "outputs": [],
   "source": [
    "eff_num = t['bkg']['PFJet_bTagEffNumPt'].array()"
   ]
  },
  {
   "cell_type": "code",
   "execution_count": 109,
   "id": "a8913be4-a832-492b-bbae-cf0f2e8afc2d",
   "metadata": {},
   "outputs": [],
   "source": [
    "eff_denom = t['bkg']['PFJet_bTagEffDenomPt'].array()"
   ]
  },
  {
   "cell_type": "code",
   "execution_count": 110,
   "id": "05ac75fa-82e8-4c45-8f16-0a31b9a24cd3",
   "metadata": {},
   "outputs": [],
   "source": [
    "eff_num = ak.flatten(eff_num)"
   ]
  },
  {
   "cell_type": "code",
   "execution_count": 111,
   "id": "3b6ab390-e3cd-4e86-92fd-24b4373b8a3f",
   "metadata": {
    "scrolled": true
   },
   "outputs": [],
   "source": [
    "eff_denom = ak.flatten(eff_denom)"
   ]
  },
  {
   "cell_type": "code",
   "execution_count": 112,
   "id": "b1ce2f72-c11c-421b-893c-afd238b99202",
   "metadata": {},
   "outputs": [
    {
     "data": {
      "text/plain": [
       "<Array [-999, -999, 204, ... 34.7, 207, 221] type='56 * float32'>"
      ]
     },
     "execution_count": 112,
     "metadata": {},
     "output_type": "execute_result"
    }
   ],
   "source": [
    "eff_num"
   ]
  },
  {
   "cell_type": "code",
   "execution_count": 113,
   "id": "c1195881-35af-444c-af55-925dacc12178",
   "metadata": {},
   "outputs": [
    {
     "data": {
      "text/plain": [
       "<Array [276, 265, 204, 35, ... 34.7, 207, 221] type='56 * float32'>"
      ]
     },
     "execution_count": 113,
     "metadata": {},
     "output_type": "execute_result"
    }
   ],
   "source": [
    "eff_denom"
   ]
  },
  {
   "cell_type": "code",
   "execution_count": 114,
   "id": "4f26f523-2c60-4693-a1e7-6bb3b4d327fb",
   "metadata": {},
   "outputs": [],
   "source": [
    "#eff_num = [152, 120, 0, 91.4, 101, 43.7]"
   ]
  },
  {
   "cell_type": "code",
   "execution_count": 115,
   "id": "4abf2543-2501-495f-8666-67795b8ffa84",
   "metadata": {},
   "outputs": [],
   "source": [
    "#eff_denom = [152, 120, 85.1, 91.4, 101, 43.7]"
   ]
  },
  {
   "cell_type": "code",
   "execution_count": 116,
   "id": "d4027ddf-6fa8-41c4-ab2f-35a9d34e30a4",
   "metadata": {},
   "outputs": [],
   "source": [
    "import hist"
   ]
  },
  {
   "cell_type": "code",
   "execution_count": 117,
   "id": "eb1971c9-1101-489b-a46a-02e76742cf2f",
   "metadata": {},
   "outputs": [],
   "source": [
    "h_num = hist.Hist(\n",
    "    hist.axis.Regular(\n",
    "        20, 0, 300, name=\"pt\", label=\"pt [GeV]\", underflow=True, overflow=True\n",
    "    )\n",
    ")\n",
    "\n",
    "h_denom = hist.Hist(\n",
    "    hist.axis.Regular(\n",
    "        20, 0, 300, name=\"pt\", label=\"pt [GeV]\", underflow=True, overflow=True\n",
    "    )\n",
    ")"
   ]
  },
  {
   "cell_type": "code",
   "execution_count": 118,
   "id": "7726c695-02b7-45e6-93fa-80dffdbd3419",
   "metadata": {},
   "outputs": [
    {
     "data": {
      "text/html": [
       "<html>\n",
       "<div style=\"display:flex; align-items:center;\">\n",
       "<div style=\"width:290px;\">\n",
       "<svg xmlns=\"http://www.w3.org/2000/svg\" viewBox=\"-10 -105 270 120\">\n",
       "<line x1=\"-5\" y1=\"0\" x2=\"255\" y2=\"0\" style=\"fill:none;stroke-width:2;stroke:currentColor\"/>\n",
       "<text text-anchor=\"middle\" x=\"0\" y=\"15\" style=\"fill:currentColor;\">\n",
       "0\n",
       "</text>\n",
       "<text text-anchor=\"middle\" x=\"250\" y=\"15\" style=\"fill:currentColor;\">\n",
       "300\n",
       "</text>\n",
       "<text text-anchor=\"middle\" x=\"125.0\" y=\"15\" style=\"fill:currentColor;\">\n",
       "pt [GeV]\n",
       "</text>\n",
       "<polyline points=\"  0,0   0,-0 12.5,-0 12.5,-0  25,-0  25,-90 37.5,-90 37.5,-0  50,-0  50,-0 62.5,-0 62.5,-0  75,-0  75,-0 87.5,-0 87.5,-0 100,-0 100,-0 112.5,-0 112.5,-20 125,-20 125,-10 137.5,-10 137.5,-10 150,-10 150,-10 162.5,-10 162.5,-90 175,-90 175,-100 187.5,-100 187.5,-60 200,-60 200,-10 212.5,-10 212.5,-30 225,-30 225,-10 237.5,-10 237.5,-20 250,-20 250,0\" style=\"fill:none; stroke:currentColor;\"/>\n",
       "</svg>\n",
       "</div>\n",
       "<div style=\"flex=grow:1;\">\n",
       "Regular(20, 0, 300, name='pt', label='pt [GeV]')<br/>\n",
       "<hr style=\"margin-top:.2em; margin-bottom:.2em;\"/>\n",
       "Double() Σ=46.0 <em>(56.0 with flow)</em>\n",
       "\n",
       "</div>\n",
       "</div>\n",
       "</html>"
      ],
      "text/plain": [
       "Hist(Regular(20, 0, 300, name='pt', label='pt [GeV]'), storage=Double()) # Sum: 46.0 (56.0 with flow)"
      ]
     },
     "execution_count": 118,
     "metadata": {},
     "output_type": "execute_result"
    }
   ],
   "source": [
    "h_num.fill(eff_num)\n",
    "h_denom.fill(eff_denom)"
   ]
  },
  {
   "cell_type": "code",
   "execution_count": 119,
   "id": "89d07743-c69f-44e9-b2a4-616cf9e1a269",
   "metadata": {},
   "outputs": [
    {
     "data": {
      "text/html": [
       "<html>\n",
       "<div style=\"display:flex; align-items:center;\">\n",
       "<div style=\"width:290px;\">\n",
       "<svg xmlns=\"http://www.w3.org/2000/svg\" viewBox=\"-10 -105 270 120\">\n",
       "<line x1=\"-5\" y1=\"0\" x2=\"255\" y2=\"0\" style=\"fill:none;stroke-width:2;stroke:currentColor\"/>\n",
       "<text text-anchor=\"middle\" x=\"0\" y=\"15\" style=\"fill:currentColor;\">\n",
       "0\n",
       "</text>\n",
       "<text text-anchor=\"middle\" x=\"250\" y=\"15\" style=\"fill:currentColor;\">\n",
       "300\n",
       "</text>\n",
       "<text text-anchor=\"middle\" x=\"125.0\" y=\"15\" style=\"fill:currentColor;\">\n",
       "pt [GeV]\n",
       "</text>\n",
       "<polyline points=\"  0,0   0,-0 12.5,-0 12.5,-0  25,-0  25,-75 37.5,-75 37.5,-0  50,-0  50,-0 62.5,-0 62.5,-0  75,-0  75,-0 87.5,-0 87.5,-0 100,-0 100,-0 112.5,-0 112.5,-25 125,-25 125,-12.5 137.5,-12.5 137.5,-0 150,-0 150,-12.5 162.5,-12.5 162.5,-62.5 175,-62.5 175,-100 187.5,-100 187.5,-75 200,-75 200,-0 212.5,-0 212.5,-12.5 225,-12.5 225,-0 237.5,-0 237.5,-25 250,-25 250,0\" style=\"fill:none; stroke:currentColor;\"/>\n",
       "</svg>\n",
       "</div>\n",
       "<div style=\"flex=grow:1;\">\n",
       "Regular(20, 0, 300, name='pt', label='pt [GeV]')<br/>\n",
       "<hr style=\"margin-top:.2em; margin-bottom:.2em;\"/>\n",
       "Double() Σ=32.0 <em>(56.0 with flow)</em>\n",
       "\n",
       "</div>\n",
       "</div>\n",
       "</html>"
      ],
      "text/plain": [
       "Hist(Regular(20, 0, 300, name='pt', label='pt [GeV]'), storage=Double()) # Sum: 32.0 (56.0 with flow)"
      ]
     },
     "execution_count": 119,
     "metadata": {},
     "output_type": "execute_result"
    }
   ],
   "source": [
    "h_num"
   ]
  },
  {
   "cell_type": "code",
   "execution_count": null,
   "id": "3062c540-52c1-49fa-a266-22c73399db2a",
   "metadata": {},
   "outputs": [],
   "source": []
  },
  {
   "cell_type": "code",
   "execution_count": 120,
   "id": "8bb4d0bf-2197-46db-b626-e93f2e8cfbae",
   "metadata": {},
   "outputs": [
    {
     "data": {
      "text/html": [
       "<html>\n",
       "<div style=\"display:flex; align-items:center;\">\n",
       "<div style=\"width:290px;\">\n",
       "<svg xmlns=\"http://www.w3.org/2000/svg\" viewBox=\"-10 -105 270 120\">\n",
       "<line x1=\"-5\" y1=\"0\" x2=\"255\" y2=\"0\" style=\"fill:none;stroke-width:2;stroke:currentColor\"/>\n",
       "<text text-anchor=\"middle\" x=\"0\" y=\"15\" style=\"fill:currentColor;\">\n",
       "0\n",
       "</text>\n",
       "<text text-anchor=\"middle\" x=\"250\" y=\"15\" style=\"fill:currentColor;\">\n",
       "300\n",
       "</text>\n",
       "<text text-anchor=\"middle\" x=\"125.0\" y=\"15\" style=\"fill:currentColor;\">\n",
       "pt [GeV]\n",
       "</text>\n",
       "<polyline points=\"  0,0   0,nan 12.5,nan 12.5,nan  25,nan  25,nan 37.5,nan 37.5,nan  50,nan  50,nan 62.5,nan 62.5,nan  75,nan  75,nan 87.5,nan 87.5,nan 100,nan 100,nan 112.5,nan 112.5,nan 125,nan 125,nan 137.5,nan 137.5,nan 150,nan 150,nan 162.5,nan 162.5,nan 175,nan 175,nan 187.5,nan 187.5,nan 200,nan 200,nan 212.5,nan 212.5,nan 225,nan 225,nan 237.5,nan 237.5,nan 250,nan 250,0\" style=\"fill:none; stroke:currentColor;\"/>\n",
       "</svg>\n",
       "</div>\n",
       "<div style=\"flex=grow:1;\">\n",
       "Regular(20, 0, 300, name='pt', label='pt [GeV]')<br/>\n",
       "<hr style=\"margin-top:.2em; margin-bottom:.2em;\"/>\n",
       "Double() Σ=nan <em>(nan with flow)</em>\n",
       "\n",
       "</div>\n",
       "</div>\n",
       "</html>"
      ],
      "text/plain": [
       "Hist(Regular(20, 0, 300, name='pt', label='pt [GeV]'), storage=Double()) # Sum: nan (nan with flow)"
      ]
     },
     "execution_count": 120,
     "metadata": {},
     "output_type": "execute_result"
    }
   ],
   "source": [
    "h_num / h_denom"
   ]
  },
  {
   "cell_type": "code",
   "execution_count": 121,
   "id": "ebf44e58-f924-4da4-97ec-e10b336fa1b8",
   "metadata": {},
   "outputs": [
    {
     "data": {
      "text/html": [
       "<html>\n",
       "<div style=\"display:flex; align-items:center;\">\n",
       "<div style=\"width:290px;\">\n",
       "<svg xmlns=\"http://www.w3.org/2000/svg\" viewBox=\"-10 -105 270 120\">\n",
       "<line x1=\"-5\" y1=\"0\" x2=\"255\" y2=\"0\" style=\"fill:none;stroke-width:2;stroke:currentColor\"/>\n",
       "<text text-anchor=\"middle\" x=\"0\" y=\"15\" style=\"fill:currentColor;\">\n",
       "0\n",
       "</text>\n",
       "<text text-anchor=\"middle\" x=\"250\" y=\"15\" style=\"fill:currentColor;\">\n",
       "300\n",
       "</text>\n",
       "<text text-anchor=\"middle\" x=\"125.0\" y=\"15\" style=\"fill:currentColor;\">\n",
       "pt [GeV]\n",
       "</text>\n",
       "<polyline points=\"  0,0   0,nan 12.5,nan 12.5,nan  25,nan  25,nan 37.5,nan 37.5,nan  50,nan  50,nan 62.5,nan 62.5,nan  75,nan  75,nan 87.5,nan 87.5,nan 100,nan 100,nan 112.5,nan 112.5,nan 125,nan 125,nan 137.5,nan 137.5,nan 150,nan 150,nan 162.5,nan 162.5,nan 175,nan 175,nan 187.5,nan 187.5,nan 200,nan 200,nan 212.5,nan 212.5,nan 225,nan 225,nan 237.5,nan 237.5,nan 250,nan 250,0\" style=\"fill:none; stroke:currentColor;\"/>\n",
       "</svg>\n",
       "</div>\n",
       "<div style=\"flex=grow:1;\">\n",
       "Regular(20, 0, 300, name='pt', label='pt [GeV]')<br/>\n",
       "<hr style=\"margin-top:.2em; margin-bottom:.2em;\"/>\n",
       "Double() Σ=nan <em>(nan with flow)</em>\n",
       "\n",
       "</div>\n",
       "</div>\n",
       "</html>"
      ],
      "text/plain": [
       "Hist(Regular(20, 0, 300, name='pt', label='pt [GeV]'), storage=Double()) # Sum: nan (nan with flow)"
      ]
     },
     "execution_count": 121,
     "metadata": {},
     "output_type": "execute_result"
    }
   ],
   "source": [
    "h_num / h_num"
   ]
  },
  {
   "cell_type": "code",
   "execution_count": 122,
   "id": "ae2b2285-d614-4bc0-9d96-f3a38e654a09",
   "metadata": {},
   "outputs": [],
   "source": [
    "eff_2018 = h_num / h_denom"
   ]
  },
  {
   "cell_type": "code",
   "execution_count": null,
   "id": "a45b5568-56ef-483c-b44c-60879f9fa492",
   "metadata": {},
   "outputs": [],
   "source": []
  },
  {
   "cell_type": "code",
   "execution_count": 123,
   "id": "0c358f90-6ad1-4085-b23c-29dd4aba9e99",
   "metadata": {},
   "outputs": [
    {
     "data": {
      "text/html": [
       "<html>\n",
       "<div style=\"display:flex; align-items:center;\">\n",
       "<div style=\"width:290px;\">\n",
       "<svg xmlns=\"http://www.w3.org/2000/svg\" viewBox=\"-10 -105 270 120\">\n",
       "<line x1=\"-5\" y1=\"0\" x2=\"255\" y2=\"0\" style=\"fill:none;stroke-width:2;stroke:currentColor\"/>\n",
       "<text text-anchor=\"middle\" x=\"0\" y=\"15\" style=\"fill:currentColor;\">\n",
       "0\n",
       "</text>\n",
       "<text text-anchor=\"middle\" x=\"250\" y=\"15\" style=\"fill:currentColor;\">\n",
       "300\n",
       "</text>\n",
       "<text text-anchor=\"middle\" x=\"125.0\" y=\"15\" style=\"fill:currentColor;\">\n",
       "pt [GeV]\n",
       "</text>\n",
       "<polyline points=\"  0,0   0,-0 12.5,-0 12.5,-0  25,-0  25,-100 37.5,-100 37.5,-16.7  50,-16.7  50,-0 62.5,-0 62.5,-0  75,-0  75,-0 87.5,-0 87.5,-0 100,-0 100,-0 112.5,-0 112.5,-33.3 125,-33.3 125,-33.3 137.5,-33.3 137.5,-16.7 150,-16.7 150,-33.3 162.5,-33.3 162.5,-33.3 175,-33.3 175,-100 187.5,-100 187.5,-83.3 200,-83.3 200,-66.7 212.5,-66.7 212.5,-100 225,-100 225,-16.7 237.5,-16.7 237.5,-83.3 250,-83.3 250,0\" style=\"fill:none; stroke:currentColor;\"/>\n",
       "</svg>\n",
       "</div>\n",
       "<div style=\"flex=grow:1;\">\n",
       "Regular(20, 0, 300, name='pt', label='pt [GeV]')<br/>\n",
       "<hr style=\"margin-top:.2em; margin-bottom:.2em;\"/>\n",
       "Double() Σ=43.0 <em>(51.0 with flow)</em>\n",
       "\n",
       "</div>\n",
       "</div>\n",
       "</html>"
      ],
      "text/plain": [
       "Hist(Regular(20, 0, 300, name='pt', label='pt [GeV]'), storage=Double()) # Sum: 43.0 (51.0 with flow)"
      ]
     },
     "execution_count": 123,
     "metadata": {},
     "output_type": "execute_result"
    }
   ],
   "source": [
    "#t['bkg'] = uproot.open('/eos/uscms//store/group/lpcmetx/iDMe/skimmed_ntuples/bkg/bkg_2017_10X_systematics_rdfSkim_MET200_nJetsG0/haddBkg_Top.root')['ntuples/outT']\n",
    "t['bkg'] = uproot.open('/eos/uscms/store/group/lpcmetx/iDMe/skimmed_ntuples/signal/signal_2018_10X_systematics_aEM_rdfSkim_MET200_nJetsG0/haddSig_m40_delta0p1_ct10.root')['ntuples/outT']\n",
    "eff_num = ak.flatten(t['bkg']['PFJet_bTagEffNumPt'].array())\n",
    "eff_denom = ak.flatten(t['bkg']['PFJet_bTagEffDenomPt'].array())\n",
    "\n",
    "h_num = hist.Hist(\n",
    "    hist.axis.Regular(\n",
    "        20, 0, 300, name=\"pt\", label=\"pt [GeV]\", underflow=True, overflow=True\n",
    "    )\n",
    ")\n",
    "\n",
    "h_denom = hist.Hist(\n",
    "    hist.axis.Regular(\n",
    "        20, 0, 300, name=\"pt\", label=\"pt [GeV]\", underflow=True, overflow=True\n",
    "    )\n",
    ")\n",
    "\n",
    "h_num.fill(eff_num)\n",
    "h_denom.fill(eff_denom)"
   ]
  },
  {
   "cell_type": "code",
   "execution_count": 124,
   "id": "6e1565c8-8982-4f07-83ff-995f230e03de",
   "metadata": {},
   "outputs": [],
   "source": [
    "eff_2017 = h_num / h_denom"
   ]
  },
  {
   "cell_type": "code",
   "execution_count": null,
   "id": "ad31ef07-748f-485d-bcb9-fc7b935a6bcd",
   "metadata": {},
   "outputs": [],
   "source": []
  },
  {
   "cell_type": "code",
   "execution_count": 125,
   "id": "21e9c88f-4944-46fa-88fd-248ad3af0d5d",
   "metadata": {},
   "outputs": [
    {
     "data": {
      "text/html": [
       "<html>\n",
       "<div style=\"display:flex; align-items:center;\">\n",
       "<div style=\"width:290px;\">\n",
       "<svg xmlns=\"http://www.w3.org/2000/svg\" viewBox=\"-10 -105 270 120\">\n",
       "<line x1=\"-5\" y1=\"0\" x2=\"255\" y2=\"0\" style=\"fill:none;stroke-width:2;stroke:currentColor\"/>\n",
       "<text text-anchor=\"middle\" x=\"0\" y=\"15\" style=\"fill:currentColor;\">\n",
       "0\n",
       "</text>\n",
       "<text text-anchor=\"middle\" x=\"250\" y=\"15\" style=\"fill:currentColor;\">\n",
       "300\n",
       "</text>\n",
       "<text text-anchor=\"middle\" x=\"125.0\" y=\"15\" style=\"fill:currentColor;\">\n",
       "pt [GeV]\n",
       "</text>\n",
       "<polyline points=\"  0,0   0,-0 12.5,-0 12.5,-0  25,-0  25,-100 37.5,-100 37.5,-11.1  50,-11.1  50,-0 62.5,-0 62.5,-0  75,-0  75,-0 87.5,-0 87.5,-0 100,-0 100,-0 112.5,-0 112.5,-11.1 125,-11.1 125,-22.2 137.5,-22.2 137.5,-44.4 150,-44.4 150,-33.3 162.5,-33.3 162.5,-44.4 175,-44.4 175,-33.3 187.5,-33.3 187.5,-33.3 200,-33.3 200,-33.3 212.5,-33.3 212.5,-44.4 225,-44.4 225,-33.3 237.5,-33.3 237.5,-66.7 250,-66.7 250,0\" style=\"fill:none; stroke:currentColor;\"/>\n",
       "</svg>\n",
       "</div>\n",
       "<div style=\"flex=grow:1;\">\n",
       "Regular(20, 0, 300, name='pt', label='pt [GeV]')<br/>\n",
       "<hr style=\"margin-top:.2em; margin-bottom:.2em;\"/>\n",
       "Double() Σ=46.0 <em>(52.0 with flow)</em>\n",
       "\n",
       "</div>\n",
       "</div>\n",
       "</html>"
      ],
      "text/plain": [
       "Hist(Regular(20, 0, 300, name='pt', label='pt [GeV]'), storage=Double()) # Sum: 46.0 (52.0 with flow)"
      ]
     },
     "execution_count": 125,
     "metadata": {},
     "output_type": "execute_result"
    }
   ],
   "source": [
    "#t['bkg'] = uproot.open('/eos/uscms//store/group/lpcmetx/iDMe/skimmed_ntuples/bkg/bkg_2016_postVFP_10X_systematics_rdfSkim_MET200_nJetsG0/haddBkg_Top.root')['ntuples/outT']\n",
    "t['bkg'] = uproot.open('/eos/uscms/store/group/lpcmetx/iDMe/skimmed_ntuples/signal/signal_2018_10X_systematics_aEM_rdfSkim_MET200_nJetsG0/haddSig_m40_delta0p1_ct100.root')['ntuples/outT']\n",
    "eff_num = ak.flatten(t['bkg']['PFJet_bTagEffNumPt'].array())\n",
    "eff_denom = ak.flatten(t['bkg']['PFJet_bTagEffDenomPt'].array())\n",
    "\n",
    "h_num = hist.Hist(\n",
    "    hist.axis.Regular(\n",
    "        20, 0, 300, name=\"pt\", label=\"pt [GeV]\", underflow=True, overflow=True\n",
    "    )\n",
    ")\n",
    "\n",
    "h_denom = hist.Hist(\n",
    "    hist.axis.Regular(\n",
    "        20, 0, 300, name=\"pt\", label=\"pt [GeV]\", underflow=True, overflow=True\n",
    "    )\n",
    ")\n",
    "\n",
    "h_num.fill(eff_num)\n",
    "h_denom.fill(eff_denom)"
   ]
  },
  {
   "cell_type": "code",
   "execution_count": 126,
   "id": "40f3b092-c84b-4c5a-9ceb-8cc917001979",
   "metadata": {},
   "outputs": [],
   "source": [
    "eff_2016_postVFP = h_num / h_denom"
   ]
  },
  {
   "cell_type": "code",
   "execution_count": null,
   "id": "2b1b0e9f-8f93-4504-a96a-197d4d87d3c7",
   "metadata": {},
   "outputs": [],
   "source": []
  },
  {
   "cell_type": "code",
   "execution_count": 103,
   "id": "7f6bc795-78a5-46a6-a745-3430d7ac721c",
   "metadata": {},
   "outputs": [
    {
     "data": {
      "text/html": [
       "<html>\n",
       "<div style=\"display:flex; align-items:center;\">\n",
       "<div style=\"width:290px;\">\n",
       "<svg xmlns=\"http://www.w3.org/2000/svg\" viewBox=\"-10 -105 270 120\">\n",
       "<line x1=\"-5\" y1=\"0\" x2=\"255\" y2=\"0\" style=\"fill:none;stroke-width:2;stroke:currentColor\"/>\n",
       "<text text-anchor=\"middle\" x=\"0\" y=\"15\" style=\"fill:currentColor;\">\n",
       "0\n",
       "</text>\n",
       "<text text-anchor=\"middle\" x=\"250\" y=\"15\" style=\"fill:currentColor;\">\n",
       "300\n",
       "</text>\n",
       "<text text-anchor=\"middle\" x=\"125.0\" y=\"15\" style=\"fill:currentColor;\">\n",
       "pt [GeV]\n",
       "</text>\n",
       "<polyline points=\"  0,0   0,-0 12.5,-0 12.5,-0  25,-0  25,-100 37.5,-100 37.5,-76.6  50,-76.6  50,-60.6 62.5,-60.6 62.5,-49.4  75,-49.4  75,-40.2 87.5,-40.2 87.5,-34.6 100,-34.6 100,-29.1 112.5,-29.1 112.5,-25.8 125,-25.8 125,-22.6 137.5,-22.6 137.5,-19.4 150,-19.4 150,-18.7 162.5,-18.7 162.5,-16.2 175,-16.2 175,-14.8 187.5,-14.8 187.5,-13.9 200,-13.9 200,-12.3 212.5,-12.3 212.5,-11.3 225,-11.3 225,-9.6 237.5,-9.6 237.5,-8.85 250,-8.85 250,0\" style=\"fill:none; stroke:currentColor;\"/>\n",
       "</svg>\n",
       "</div>\n",
       "<div style=\"flex=grow:1;\">\n",
       "Regular(20, 0, 300, name='pt', label='pt [GeV]')<br/>\n",
       "<hr style=\"margin-top:.2em; margin-bottom:.2em;\"/>\n",
       "Double() Σ=77709.0 <em>(89892.0 with flow)</em>\n",
       "\n",
       "</div>\n",
       "</div>\n",
       "</html>"
      ],
      "text/plain": [
       "Hist(Regular(20, 0, 300, name='pt', label='pt [GeV]'), storage=Double()) # Sum: 77709.0 (89892.0 with flow)"
      ]
     },
     "execution_count": 103,
     "metadata": {},
     "output_type": "execute_result"
    }
   ],
   "source": [
    "t['bkg'] = uproot.open('/eos/uscms//store/group/lpcmetx/iDMe/skimmed_ntuples/bkg/bkg_2016_preVFP_10X_systematics_rdfSkim_MET200_nJetsG0/haddBkg_Top.root')['ntuples/outT']\n",
    "eff_num = ak.flatten(t['bkg']['PFJet_bTagEffNumPt'].array())\n",
    "eff_denom = ak.flatten(t['bkg']['PFJet_bTagEffDenomPt'].array())\n",
    "\n",
    "h_num = hist.Hist(\n",
    "    hist.axis.Regular(\n",
    "        20, 0, 300, name=\"pt\", label=\"pt [GeV]\", underflow=True, overflow=True\n",
    "    )\n",
    ")\n",
    "\n",
    "h_denom = hist.Hist(\n",
    "    hist.axis.Regular(\n",
    "        20, 0, 300, name=\"pt\", label=\"pt [GeV]\", underflow=True, overflow=True\n",
    "    )\n",
    ")\n",
    "\n",
    "h_num.fill(eff_num)\n",
    "h_denom.fill(eff_denom)"
   ]
  },
  {
   "cell_type": "code",
   "execution_count": 104,
   "id": "30f71ff5-7f28-4b39-8cf0-e1c2f35c28fc",
   "metadata": {},
   "outputs": [],
   "source": [
    "eff_2016_preVFP = h_num / h_denom"
   ]
  },
  {
   "cell_type": "code",
   "execution_count": null,
   "id": "d2269250-3d3e-4c6b-b4b5-8fe082c1eb61",
   "metadata": {},
   "outputs": [],
   "source": []
  },
  {
   "cell_type": "code",
   "execution_count": null,
   "id": "6b0099ee-067b-4c01-91b1-69f223105d32",
   "metadata": {},
   "outputs": [],
   "source": []
  },
  {
   "cell_type": "code",
   "execution_count": null,
   "id": "bc416ea5-6b4e-4f52-9cef-25783212eb83",
   "metadata": {},
   "outputs": [],
   "source": []
  },
  {
   "cell_type": "code",
   "execution_count": null,
   "id": "3a75f22b-f588-44e7-bfe0-b1b5ae485217",
   "metadata": {},
   "outputs": [],
   "source": []
  },
  {
   "cell_type": "code",
   "execution_count": null,
   "id": "8bdc45b5-54ae-484a-866d-3ef6f1f6ea78",
   "metadata": {},
   "outputs": [],
   "source": []
  },
  {
   "cell_type": "code",
   "execution_count": 105,
   "id": "fb9025a4-409c-4ae3-b494-b5274af47331",
   "metadata": {},
   "outputs": [
    {
     "data": {
      "image/png": "[encoded data removed]",
      "text/plain": [
       "<Figure size 1000x1000 with 1 Axes>"
      ]
     },
     "metadata": {},
     "output_type": "display_data"
    }
   ],
   "source": [
    "import mplhep as hep\n",
    "\n",
    "hep.style.use(\"CMS\")\n",
    "\n",
    "\n",
    "eff_2018.plot(label='2018',linewidth=3)\n",
    "eff_2017.plot(label='2017',linewidth=3)\n",
    "eff_2016_postVFP.plot(label='2016 postVFP',linewidth=3)\n",
    "eff_2016_preVFP.plot(label='2016 preVFP',linewidth=3)\n",
    "\n",
    "plt.ylabel('DeepJet Medium eff')\n",
    "plt.xlabel('Jet pT')\n",
    "plt.ylim([0,1])\n",
    "plt.xlim([30,300])\n",
    "\n",
    "plt.title('Btagging Efficiency in Top MC')\n",
    "\n",
    "plt.legend()\n",
    "\n",
    "plt.savefig('btag_eff_Top.png',bbox_inches='tight')"
   ]
  },
  {
   "cell_type": "code",
   "execution_count": null,
   "id": "1db52673-39c5-4427-a957-30d24102bd97",
   "metadata": {},
   "outputs": [],
   "source": []
  },
  {
   "cell_type": "code",
   "execution_count": 82,
   "id": "bec0e8d6-54ef-4caa-8d9e-fa1dbc5f84d6",
   "metadata": {},
   "outputs": [
    {
     "data": {
      "image/png": "[encoded data removed]",
      "text/plain": [
       "<Figure size 1000x1000 with 1 Axes>"
      ]
     },
     "metadata": {},
     "output_type": "display_data"
    }
   ],
   "source": [
    "import mplhep as hep\n",
    "\n",
    "hep.style.use(\"CMS\")\n",
    "\n",
    "\n",
    "eff_2018.plot(label='2018',linewidth=3)\n",
    "eff_2017.plot(label='2017',linewidth=3)\n",
    "eff_2016_postVFP.plot(label='2016 postVFP',linewidth=3)\n",
    "eff_2016_preVFP.plot(label='2016 preVFP',linewidth=3)\n",
    "\n",
    "plt.ylabel('DeepJet Medium eff')\n",
    "plt.xlabel('Jet pT')\n",
    "plt.ylim([0,1])\n",
    "plt.xlim([30,300])\n",
    "\n",
    "plt.title('Btagging Efficiency in ZJets MC')\n",
    "\n",
    "plt.legend()\n",
    "\n",
    "plt.savefig('btag_eff_ZJets.png',bbox_inches='tight')"
   ]
  },
  {
   "cell_type": "code",
   "execution_count": null,
   "id": "10ded73a-81c7-4ca6-bc8e-7531fcdc394b",
   "metadata": {},
   "outputs": [],
   "source": []
  },
  {
   "cell_type": "code",
   "execution_count": 59,
   "id": "1850e01d-cc4d-4907-b313-603daa85f4d6",
   "metadata": {},
   "outputs": [
    {
     "data": {
      "image/png": "[encoded data removed]",
      "text/plain": [
       "<Figure size 1000x1000 with 1 Axes>"
      ]
     },
     "metadata": {},
     "output_type": "display_data"
    }
   ],
   "source": [
    "import mplhep as hep\n",
    "\n",
    "hep.style.use(\"CMS\")\n",
    "\n",
    "\n",
    "eff_2018.plot(label='2018',linewidth=3)\n",
    "eff_2017.plot(label='2017',linewidth=3)\n",
    "eff_2016_postVFP.plot(label='2016 postVFP',linewidth=3)\n",
    "eff_2016_preVFP.plot(label='2016 preVFP',linewidth=3)\n",
    "\n",
    "plt.ylabel('DeepJet Medium eff')\n",
    "plt.xlabel('Jet pT')\n",
    "plt.ylim([0,1])\n",
    "plt.xlim([30,300])\n",
    "\n",
    "plt.title('Btagging Efficiency in WJets MC')\n",
    "\n",
    "plt.legend()\n",
    "\n",
    "plt.savefig('btag_eff_WJets.png',bbox_inches='tight')"
   ]
  },
  {
   "cell_type": "code",
   "execution_count": null,
   "id": "c1024394-e0df-4c40-8f51-ae20a11d6dd1",
   "metadata": {},
   "outputs": [],
   "source": []
  },
  {
   "cell_type": "code",
   "execution_count": null,
   "id": "4b11de9d-a34a-4e24-b63c-2eaea4b340f6",
   "metadata": {},
   "outputs": [],
   "source": []
  },
  {
   "cell_type": "code",
   "execution_count": null,
   "id": "cd01f1ce-da69-4d15-bf37-244af3668756",
   "metadata": {},
   "outputs": [],
   "source": []
  },
  {
   "cell_type": "code",
   "execution_count": 36,
   "id": "f35932f3-89c8-4f7e-8108-e822c2fb4954",
   "metadata": {},
   "outputs": [
    {
     "data": {
      "image/png": "[encoded data removed]",
      "text/plain": [
       "<Figure size 1000x1000 with 1 Axes>"
      ]
     },
     "metadata": {},
     "output_type": "display_data"
    }
   ],
   "source": [
    "import mplhep as hep\n",
    "\n",
    "hep.style.use(\"CMS\")\n",
    "\n",
    "\n",
    "eff_2018.plot(label='2018',linewidth=3)\n",
    "eff_2017.plot(label='2017',linewidth=3)\n",
    "eff_2016_postVFP.plot(label='2016 postVFP',linewidth=3)\n",
    "eff_2016_preVFP.plot(label='2016 preVFP',linewidth=3)\n",
    "\n",
    "plt.ylabel('DeepJet Medium eff')\n",
    "plt.xlabel('Jet pT')\n",
    "plt.ylim([0,1])\n",
    "plt.xlim([30,300])\n",
    "\n",
    "plt.title('Btagging Efficiency in MC')\n",
    "\n",
    "plt.legend()\n",
    "\n",
    "plt.savefig('btag_eff.png',bbox_inches='tight')"
   ]
  },
  {
   "cell_type": "code",
   "execution_count": null,
   "id": "e7dd0f99-de02-4ea3-bdf2-336a515d9c96",
   "metadata": {},
   "outputs": [],
   "source": []
  },
  {
   "cell_type": "code",
   "execution_count": null,
   "id": "0c4a6407-62f3-4325-8db7-ffd2056af8f1",
   "metadata": {},
   "outputs": [],
   "source": []
  },
  {
   "cell_type": "code",
   "execution_count": null,
   "id": "87f5e9f8-0388-4a19-9004-ae27349e6aff",
   "metadata": {},
   "outputs": [],
   "source": []
  },
  {
   "cell_type": "code",
   "execution_count": null,
   "id": "18a377f6-50e3-4747-a430-d80e0e770ee0",
   "metadata": {},
   "outputs": [],
   "source": []
  },
  {
   "cell_type": "code",
   "execution_count": null,
   "id": "a2a239d3-8d91-4765-a3db-daf2549a17a8",
   "metadata": {},
   "outputs": [],
   "source": []
  },
  {
   "cell_type": "code",
   "execution_count": null,
   "id": "d9ca60c2-a5ba-4a9e-8600-f21004e45387",
   "metadata": {},
   "outputs": [],
   "source": []
  },
  {
   "cell_type": "code",
   "execution_count": 121,
   "id": "75d51798-7646-4cd2-8590-822e4cb81cb7",
   "metadata": {},
   "outputs": [],
   "source": [
    "# do something like MET resolution scripts (efficiency)\n",
    "nbins = 20\n",
    "binnings = np.linspace(0, 400, num=nbins+1)\n",
    "\n",
    "# Using the binning information, put the response_pT into the binned list\n",
    "from scipy.stats import binned_statistic\n",
    "\n",
    "truth_means, bin_edges, binnumber = binned_statistic(eff_denom, eff_denom, statistic='mean', bins=binnings, range=(0, 400))\n",
    "\n",
    "tagged_means, _, _ = binned_statistic(eff_denom, eff_num, statistic='mean', bins=binnings, range=(0, 400))\n",
    "\n",
    "eff = tagged_means / truth_means\n"
   ]
  },
  {
   "cell_type": "code",
   "execution_count": 125,
   "id": "93e5431c-3e31-445c-be7b-b39a958dfdf4",
   "metadata": {},
   "outputs": [],
   "source": [
    "denom, _, _ = binned_statistic(eff_denom, eff_denom, statistic='mean', bins=binnings, range=(0, 400))"
   ]
  },
  {
   "cell_type": "code",
   "execution_count": 126,
   "id": "9a6d8f83-71ee-4895-a4da-8b7ebdefdf3c",
   "metadata": {},
   "outputs": [],
   "source": [
    "num, _, _ = binned_statistic(eff_denom, eff_num, statistic='mean', bins=binnings, range=(0, 400))"
   ]
  },
  {
   "cell_type": "code",
   "execution_count": 127,
   "id": "b53e3ba5-a0d0-4852-9573-86cb59badbc6",
   "metadata": {},
   "outputs": [
    {
     "data": {
      "text/plain": [
       "array([        nan,         nan,  1.        ,         nan, -5.14217908,\n",
       "        1.        ,  1.        ,  1.        ,         nan,         nan,\n",
       "               nan,         nan,         nan,         nan,         nan,\n",
       "               nan,         nan,         nan,         nan,         nan])"
      ]
     },
     "execution_count": 127,
     "metadata": {},
     "output_type": "execute_result"
    }
   ],
   "source": [
    "num / denom"
   ]
  },
  {
   "cell_type": "code",
   "execution_count": null,
   "id": "b21a49a7-1ddc-4a8f-81d8-6f307d26b927",
   "metadata": {},
   "outputs": [],
   "source": []
  },
  {
   "cell_type": "code",
   "execution_count": null,
   "id": "402b8d3f-5b08-4d24-9999-223d4da2e328",
   "metadata": {},
   "outputs": [],
   "source": []
  },
  {
   "cell_type": "code",
   "execution_count": null,
   "id": "30ef7820-d0ff-4549-b783-e49e1a77595d",
   "metadata": {},
   "outputs": [],
   "source": []
  },
  {
   "cell_type": "code",
   "execution_count": null,
   "id": "895304e4-dc99-49a1-ba85-b2bb0eb27a28",
   "metadata": {},
   "outputs": [],
   "source": []
  },
  {
   "cell_type": "code",
   "execution_count": null,
   "id": "d749a50c-89bf-453b-b867-bd62c52b5d0f",
   "metadata": {},
   "outputs": [],
   "source": []
  },
  {
   "cell_type": "code",
   "execution_count": null,
   "id": "907c6a0a-d2cb-48d4-9072-60fbcca3a095",
   "metadata": {},
   "outputs": [],
   "source": []
  },
  {
   "cell_type": "code",
   "execution_count": null,
   "id": "7fd8d728-d6d0-4d82-9430-7f95cb093a42",
   "metadata": {},
   "outputs": [],
   "source": []
  },
  {
   "cell_type": "code",
   "execution_count": null,
   "id": "1f6edc14-0ec4-403b-af72-cf6e96dfedc1",
   "metadata": {},
   "outputs": [],
   "source": []
  }
 ],
 "metadata": {
  "kernelspec": {
   "display_name": "Python 3 (ipykernel)",
   "language": "python",
   "name": "python3"
  },
  "language_info": {
   "codemirror_mode": {
    "name": "ipython",
    "version": 3
   },
   "file_extension": ".py",
   "mimetype": "text/x-python",
   "name": "python",
   "nbconvert_exporter": "python",
   "pygments_lexer": "ipython3",
   "version": "3.8.17"
  }
 },
 "nbformat": 4,
 "nbformat_minor": 5
}
