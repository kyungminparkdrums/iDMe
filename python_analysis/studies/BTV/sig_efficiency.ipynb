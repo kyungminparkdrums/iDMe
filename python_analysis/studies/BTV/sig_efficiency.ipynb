{
 "cells": [
  {
   "cell_type": "code",
   "execution_count": 1,
   "id": "869e60fa-3c55-4ecc-9b8b-881302d1d5c6",
   "metadata": {},
   "outputs": [],
   "source": [
    "%load_ext autoreload\n",
    "%autoreload 2\n",
    "import uproot\n",
    "import numpy as np\n",
    "import matplotlib.pyplot as plt\n",
    "import awkward as ak\n",
    "import sys\n",
    "import importlib\n",
    "import coffea.util as util\n",
    "import time\n",
    "import json\n",
    "import os\n",
    "import numba as nb\n",
    "import awkward.numba\n",
    "\n",
    "sys.path.append(\"../../analysisTools/\")\n",
    "from analysisTools import Analyzer\n",
    "from analysisTools import loadSchema\n",
    "import analysisTools as tools\n",
    "import analysisSubroutines as routines\n",
    "\n",
    "sample_cfg_dir = \"../AllYears/sample_configs/\""
   ]
  },
  {
   "cell_type": "markdown",
   "id": "881ca704-d343-4da9-aca7-7971b0c8cb99",
   "metadata": {},
   "source": [
    "## Import"
   ]
  },
  {
   "cell_type": "markdown",
   "id": "238926fb-7c46-4879-8460-bd5347c81990",
   "metadata": {},
   "source": [
    "## Read branch"
   ]
  },
  {
   "cell_type": "code",
   "execution_count": 21,
   "id": "2bbe7d07-d647-4a95-a27f-2e0c4f55fa6c",
   "metadata": {},
   "outputs": [],
   "source": [
    "# open the first file in the list\n",
    "t = {}\n",
    "\n",
    "#t['bkg'] = uproot.open(ntuples_bkg['Top_TTJets'])['ntuples/outT']"
   ]
  },
  {
   "cell_type": "code",
   "execution_count": 22,
   "id": "5d7ee6a5-2b0a-41f7-9a06-b3d07eb0d00d",
   "metadata": {
    "scrolled": true
   },
   "outputs": [],
   "source": [
    "t['2018'] = uproot.open('/uscms_data/d3/kyungmip/iDMe_Dec2024/CMSSW_10_6_26/src/iDMe/AODSkimmer/test_signal2018.root')['ntuples/outT']\n",
    "t['2017'] = uproot.open('/uscms_data/d3/kyungmip/iDMe_Dec2024/CMSSW_10_6_26/src/iDMe/AODSkimmer/test_signal2017.root')['ntuples/outT']\n",
    "t['2016post'] = uproot.open('/uscms_data/d3/kyungmip/iDMe_Dec2024/CMSSW_10_6_26/src/iDMe/AODSkimmer/test_signal2016.root')['ntuples/outT']\n",
    "t['2016pre'] = uproot.open('/uscms_data/d3/kyungmip/iDMe_Dec2024/CMSSW_10_6_26/src/iDMe/AODSkimmer/test_signal2016APV.root')['ntuples/outT']\n"
   ]
  },
  {
   "cell_type": "code",
   "execution_count": 23,
   "id": "e24488ef-177e-48de-a1ca-ddae1b55bfc7",
   "metadata": {},
   "outputs": [
    {
     "data": {
      "text/plain": [
       "0.10374"
      ]
     },
     "execution_count": 23,
     "metadata": {},
     "output_type": "execute_result"
    }
   ],
   "source": [
    "ak.count_nonzero(t['2018']['signalReconstructed'].array())/len(t['2018']['signalReconstructed'].array())"
   ]
  },
  {
   "cell_type": "code",
   "execution_count": 24,
   "id": "9d47a387-3e8f-471d-be09-f38ea0342c5b",
   "metadata": {},
   "outputs": [],
   "source": [
    "effNum = {}\n",
    "effDenom = {}\n",
    "eff = {}"
   ]
  },
  {
   "cell_type": "code",
   "execution_count": 25,
   "id": "6081b04e-6363-4dec-ba2a-b8064531232f",
   "metadata": {},
   "outputs": [],
   "source": [
    "for year in t.keys():\n",
    "    effNum[year] = ak.count_nonzero(t[year]['signalReconstructed'].array())\n",
    "    effDenom[year] = len(t[year]['signalReconstructed'].array())\n",
    "    eff[year] = effNum[year] / effDenom[year]"
   ]
  },
  {
   "cell_type": "code",
   "execution_count": 26,
   "id": "ced73457-e687-41a2-a44a-76ecec1925e4",
   "metadata": {},
   "outputs": [
    {
     "data": {
      "text/plain": [
       "{'2018': 5187, '2017': 5167, '2016post': 3494, '2016pre': 2493}"
      ]
     },
     "execution_count": 26,
     "metadata": {},
     "output_type": "execute_result"
    }
   ],
   "source": [
    "effNum"
   ]
  },
  {
   "cell_type": "code",
   "execution_count": 27,
   "id": "d086156a-e56e-4875-90a7-7dd4703168fc",
   "metadata": {},
   "outputs": [
    {
     "data": {
      "text/plain": [
       "{'2018': 50000, '2017': 50000, '2016post': 31374, '2016pre': 31611}"
      ]
     },
     "execution_count": 27,
     "metadata": {},
     "output_type": "execute_result"
    }
   ],
   "source": [
    "effDenom"
   ]
  },
  {
   "cell_type": "code",
   "execution_count": 28,
   "id": "5d23e82f-5e17-4a3f-8379-1e1f83644e39",
   "metadata": {},
   "outputs": [
    {
     "data": {
      "text/plain": [
       "{'2018': 0.10374,\n",
       " '2017': 0.10334,\n",
       " '2016post': 0.11136609931790654,\n",
       " '2016pre': 0.07886495207364524}"
      ]
     },
     "execution_count": 28,
     "metadata": {},
     "output_type": "execute_result"
    }
   ],
   "source": [
    "eff"
   ]
  },
  {
   "cell_type": "code",
   "execution_count": 29,
   "id": "7197630a-16cc-469f-8412-ba84a112561c",
   "metadata": {},
   "outputs": [],
   "source": [
    "eff['2016'] = (effNum['2016post']+effNum['2016pre'])/(effDenom['2016post']+effDenom['2016pre'])"
   ]
  },
  {
   "cell_type": "code",
   "execution_count": 30,
   "id": "c78fcf1f-edf3-44ec-bf82-728c65482f34",
   "metadata": {},
   "outputs": [
    {
     "data": {
      "text/plain": [
       "{'2018': 0.10374,\n",
       " '2017': 0.10334,\n",
       " '2016post': 0.11136609931790654,\n",
       " '2016pre': 0.07886495207364524,\n",
       " '2016': 0.09505437802651424}"
      ]
     },
     "execution_count": 30,
     "metadata": {},
     "output_type": "execute_result"
    }
   ],
   "source": [
    "eff"
   ]
  },
  {
   "cell_type": "code",
   "execution_count": 31,
   "id": "14ebe8cb-eac9-491b-a911-437f411f51a9",
   "metadata": {},
   "outputs": [],
   "source": [
    "efflist = [eff['2016'], eff['2017'], eff['2018']]\n",
    "xlist = ['2016','2017','2018']"
   ]
  },
  {
   "cell_type": "code",
   "execution_count": null,
   "id": "4ebc31e1-9c6a-451e-8ae0-5e3f86bbe0ec",
   "metadata": {},
   "outputs": [
    {
     "data": {
      "text/plain": [
       "Text(0.5, 1.0, '$(m_{1},\\\\Delta,c\\\\tau)$=(80 GeV,0.2,100 mm)')"
      ]
     },
     "execution_count": 38,
     "metadata": {},
     "output_type": "execute_result"
    }
   ],
   "source": [
    "import mplhep as hep\n",
    "hep.style.use(\"CMS\")\n",
    "\n",
    "\n",
    "plt.plot(xlist, efflist, '-o')\n",
    "\n",
    "plt.ylim([0,0.5])\n",
    "plt.grid()\n",
    "plt.title(r\"$(m_{1},\\Delta,c\\tau)$=(80 GeV,0.2,100 mm)\")"
   ]
  },
  {
   "cell_type": "code",
   "execution_count": null,
   "id": "16ce69ed-b7ac-4e83-ae39-0326ab98e43b",
   "metadata": {},
   "outputs": [],
   "source": []
  },
  {
   "cell_type": "code",
   "execution_count": null,
   "id": "75637b15-5547-4aa4-b7b1-be998cb3d601",
   "metadata": {},
   "outputs": [],
   "source": []
  },
  {
   "cell_type": "code",
   "execution_count": null,
   "id": "3046d26a-512e-4cad-a896-677bdc1f0c2c",
   "metadata": {},
   "outputs": [],
   "source": []
  },
  {
   "cell_type": "code",
   "execution_count": 35,
   "id": "d4027ddf-6fa8-41c4-ab2f-35a9d34e30a4",
   "metadata": {},
   "outputs": [],
   "source": [
    "import hist"
   ]
  },
  {
   "cell_type": "code",
   "execution_count": 36,
   "id": "eb1971c9-1101-489b-a46a-02e76742cf2f",
   "metadata": {},
   "outputs": [],
   "source": [
    "h_num = hist.Hist(\n",
    "    hist.axis.Regular(\n",
    "        20, 0, 300, name=\"pt\", label=\"pt [GeV]\", underflow=True, overflow=True\n",
    "    )\n",
    ")\n",
    "\n",
    "h_denom = hist.Hist(\n",
    "    hist.axis.Regular(\n",
    "        20, 0, 300, name=\"pt\", label=\"pt [GeV]\", underflow=True, overflow=True\n",
    "    )\n",
    ")"
   ]
  },
  {
   "cell_type": "code",
   "execution_count": 37,
   "id": "7726c695-02b7-45e6-93fa-80dffdbd3419",
   "metadata": {},
   "outputs": [
    {
     "data": {
      "text/html": [
       "<html>\n",
       "<div style=\"display:flex; align-items:center;\">\n",
       "<div style=\"width:290px;\">\n",
       "<svg xmlns=\"http://www.w3.org/2000/svg\" viewBox=\"-10 -105 270 120\">\n",
       "<line x1=\"-5\" y1=\"0\" x2=\"255\" y2=\"0\" style=\"fill:none;stroke-width:2;stroke:currentColor\"/>\n",
       "<text text-anchor=\"middle\" x=\"0\" y=\"15\" style=\"fill:currentColor;\">\n",
       "0\n",
       "</text>\n",
       "<text text-anchor=\"middle\" x=\"250\" y=\"15\" style=\"fill:currentColor;\">\n",
       "300\n",
       "</text>\n",
       "<text text-anchor=\"middle\" x=\"125.0\" y=\"15\" style=\"fill:currentColor;\">\n",
       "pt [GeV]\n",
       "</text>\n",
       "<polyline points=\"  0,0   0,-0 12.5,-0 12.5,-0  25,-0  25,-100 37.5,-100 37.5,-73.5  50,-73.5  50,-56.9 62.5,-56.9 62.5,-45.4  75,-45.4  75,-37.7 87.5,-37.7 87.5,-31.9 100,-31.9 100,-27.5 112.5,-27.5 112.5,-24.6 125,-24.6 125,-22.1 137.5,-22.1 137.5,-20.1 150,-20.1 150,-18.5 162.5,-18.5 162.5,-17.4 175,-17.4 175,-16.2 187.5,-16.2 187.5,-14.7 200,-14.7 200,-13.6 212.5,-13.6 212.5,-12.8 225,-12.8 225,-12 237.5,-12 237.5,-10.7 250,-10.7 250,0\" style=\"fill:none; stroke:currentColor;\"/>\n",
       "</svg>\n",
       "</div>\n",
       "<div style=\"flex=grow:1;\">\n",
       "Regular(20, 0, 300, name='pt', label='pt [GeV]')<br/>\n",
       "<hr style=\"margin-top:.2em; margin-bottom:.2em;\"/>\n",
       "Double() Σ=565791.0 <em>(736484.0 with flow)</em>\n",
       "\n",
       "</div>\n",
       "</div>\n",
       "</html>"
      ],
      "text/plain": [
       "Hist(Regular(20, 0, 300, name='pt', label='pt [GeV]'), storage=Double()) # Sum: 565791.0 (736484.0 with flow)"
      ]
     },
     "execution_count": 37,
     "metadata": {},
     "output_type": "execute_result"
    }
   ],
   "source": [
    "h_num.fill(eff_num)\n",
    "h_denom.fill(eff_denom)"
   ]
  },
  {
   "cell_type": "code",
   "execution_count": 38,
   "id": "89d07743-c69f-44e9-b2a4-616cf9e1a269",
   "metadata": {},
   "outputs": [
    {
     "data": {
      "text/html": [
       "<html>\n",
       "<div style=\"display:flex; align-items:center;\">\n",
       "<div style=\"width:290px;\">\n",
       "<svg xmlns=\"http://www.w3.org/2000/svg\" viewBox=\"-10 -105 270 120\">\n",
       "<line x1=\"-5\" y1=\"0\" x2=\"255\" y2=\"0\" style=\"fill:none;stroke-width:2;stroke:currentColor\"/>\n",
       "<text text-anchor=\"middle\" x=\"0\" y=\"15\" style=\"fill:currentColor;\">\n",
       "0\n",
       "</text>\n",
       "<text text-anchor=\"middle\" x=\"250\" y=\"15\" style=\"fill:currentColor;\">\n",
       "300\n",
       "</text>\n",
       "<text text-anchor=\"middle\" x=\"125.0\" y=\"15\" style=\"fill:currentColor;\">\n",
       "pt [GeV]\n",
       "</text>\n",
       "<polyline points=\"  0,0   0,-0 12.5,-0 12.5,-0  25,-0  25,-100 37.5,-100 37.5,-77  50,-77  50,-61.2 62.5,-61.2 62.5,-49.1  75,-49.1  75,-40.9 87.5,-40.9 87.5,-34.8 100,-34.8 100,-30.2 112.5,-30.2 112.5,-26.9 125,-26.9 125,-24.4 137.5,-24.4 137.5,-22.3 150,-22.3 150,-20.5 162.5,-20.5 162.5,-19.3 175,-19.3 175,-17.8 187.5,-17.8 187.5,-16.1 200,-16.1 200,-15.1 212.5,-15.1 212.5,-14.4 225,-14.4 225,-13.4 237.5,-13.4 237.5,-11.8 250,-11.8 250,0\" style=\"fill:none; stroke:currentColor;\"/>\n",
       "</svg>\n",
       "</div>\n",
       "<div style=\"flex=grow:1;\">\n",
       "Regular(20, 0, 300, name='pt', label='pt [GeV]')<br/>\n",
       "<hr style=\"margin-top:.2em; margin-bottom:.2em;\"/>\n",
       "Double() Σ=443838.0 <em>(736484.0 with flow)</em>\n",
       "\n",
       "</div>\n",
       "</div>\n",
       "</html>"
      ],
      "text/plain": [
       "Hist(Regular(20, 0, 300, name='pt', label='pt [GeV]'), storage=Double()) # Sum: 443838.0 (736484.0 with flow)"
      ]
     },
     "execution_count": 38,
     "metadata": {},
     "output_type": "execute_result"
    }
   ],
   "source": [
    "h_num"
   ]
  },
  {
   "cell_type": "code",
   "execution_count": null,
   "id": "3062c540-52c1-49fa-a266-22c73399db2a",
   "metadata": {},
   "outputs": [],
   "source": []
  },
  {
   "cell_type": "code",
   "execution_count": 39,
   "id": "8bb4d0bf-2197-46db-b626-e93f2e8cfbae",
   "metadata": {},
   "outputs": [
    {
     "data": {
      "text/html": [
       "<html>\n",
       "<div style=\"display:flex; align-items:center;\">\n",
       "<div style=\"width:290px;\">\n",
       "<svg xmlns=\"http://www.w3.org/2000/svg\" viewBox=\"-10 -105 270 120\">\n",
       "<line x1=\"-5\" y1=\"0\" x2=\"255\" y2=\"0\" style=\"fill:none;stroke-width:2;stroke:currentColor\"/>\n",
       "<text text-anchor=\"middle\" x=\"0\" y=\"15\" style=\"fill:currentColor;\">\n",
       "0\n",
       "</text>\n",
       "<text text-anchor=\"middle\" x=\"250\" y=\"15\" style=\"fill:currentColor;\">\n",
       "300\n",
       "</text>\n",
       "<text text-anchor=\"middle\" x=\"125.0\" y=\"15\" style=\"fill:currentColor;\">\n",
       "pt [GeV]\n",
       "</text>\n",
       "<polyline points=\"  0,0   0,nan 12.5,nan 12.5,nan  25,nan  25,nan 37.5,nan 37.5,nan  50,nan  50,nan 62.5,nan 62.5,nan  75,nan  75,nan 87.5,nan 87.5,nan 100,nan 100,nan 112.5,nan 112.5,nan 125,nan 125,nan 137.5,nan 137.5,nan 150,nan 150,nan 162.5,nan 162.5,nan 175,nan 175,nan 187.5,nan 187.5,nan 200,nan 200,nan 212.5,nan 212.5,nan 225,nan 225,nan 237.5,nan 237.5,nan 250,nan 250,0\" style=\"fill:none; stroke:currentColor;\"/>\n",
       "</svg>\n",
       "</div>\n",
       "<div style=\"flex=grow:1;\">\n",
       "Regular(20, 0, 300, name='pt', label='pt [GeV]')<br/>\n",
       "<hr style=\"margin-top:.2em; margin-bottom:.2em;\"/>\n",
       "Double() Σ=nan <em>(nan with flow)</em>\n",
       "\n",
       "</div>\n",
       "</div>\n",
       "</html>"
      ],
      "text/plain": [
       "Hist(Regular(20, 0, 300, name='pt', label='pt [GeV]'), storage=Double()) # Sum: nan (nan with flow)"
      ]
     },
     "execution_count": 39,
     "metadata": {},
     "output_type": "execute_result"
    }
   ],
   "source": [
    "h_num / h_denom"
   ]
  },
  {
   "cell_type": "code",
   "execution_count": 40,
   "id": "ebf44e58-f924-4da4-97ec-e10b336fa1b8",
   "metadata": {},
   "outputs": [
    {
     "data": {
      "text/html": [
       "<html>\n",
       "<div style=\"display:flex; align-items:center;\">\n",
       "<div style=\"width:290px;\">\n",
       "<svg xmlns=\"http://www.w3.org/2000/svg\" viewBox=\"-10 -105 270 120\">\n",
       "<line x1=\"-5\" y1=\"0\" x2=\"255\" y2=\"0\" style=\"fill:none;stroke-width:2;stroke:currentColor\"/>\n",
       "<text text-anchor=\"middle\" x=\"0\" y=\"15\" style=\"fill:currentColor;\">\n",
       "0\n",
       "</text>\n",
       "<text text-anchor=\"middle\" x=\"250\" y=\"15\" style=\"fill:currentColor;\">\n",
       "300\n",
       "</text>\n",
       "<text text-anchor=\"middle\" x=\"125.0\" y=\"15\" style=\"fill:currentColor;\">\n",
       "pt [GeV]\n",
       "</text>\n",
       "<polyline points=\"  0,0   0,nan 12.5,nan 12.5,nan  25,nan  25,nan 37.5,nan 37.5,nan  50,nan  50,nan 62.5,nan 62.5,nan  75,nan  75,nan 87.5,nan 87.5,nan 100,nan 100,nan 112.5,nan 112.5,nan 125,nan 125,nan 137.5,nan 137.5,nan 150,nan 150,nan 162.5,nan 162.5,nan 175,nan 175,nan 187.5,nan 187.5,nan 200,nan 200,nan 212.5,nan 212.5,nan 225,nan 225,nan 237.5,nan 237.5,nan 250,nan 250,0\" style=\"fill:none; stroke:currentColor;\"/>\n",
       "</svg>\n",
       "</div>\n",
       "<div style=\"flex=grow:1;\">\n",
       "Regular(20, 0, 300, name='pt', label='pt [GeV]')<br/>\n",
       "<hr style=\"margin-top:.2em; margin-bottom:.2em;\"/>\n",
       "Double() Σ=nan <em>(nan with flow)</em>\n",
       "\n",
       "</div>\n",
       "</div>\n",
       "</html>"
      ],
      "text/plain": [
       "Hist(Regular(20, 0, 300, name='pt', label='pt [GeV]'), storage=Double()) # Sum: nan (nan with flow)"
      ]
     },
     "execution_count": 40,
     "metadata": {},
     "output_type": "execute_result"
    }
   ],
   "source": [
    "h_num / h_num"
   ]
  },
  {
   "cell_type": "code",
   "execution_count": 43,
   "id": "ae2b2285-d614-4bc0-9d96-f3a38e654a09",
   "metadata": {},
   "outputs": [],
   "source": [
    "eff_2018 = h_num / h_denom"
   ]
  },
  {
   "cell_type": "code",
   "execution_count": null,
   "id": "a45b5568-56ef-483c-b44c-60879f9fa492",
   "metadata": {},
   "outputs": [],
   "source": []
  },
  {
   "cell_type": "code",
   "execution_count": 45,
   "id": "0c358f90-6ad1-4085-b23c-29dd4aba9e99",
   "metadata": {},
   "outputs": [
    {
     "data": {
      "text/html": [
       "<html>\n",
       "<div style=\"display:flex; align-items:center;\">\n",
       "<div style=\"width:290px;\">\n",
       "<svg xmlns=\"http://www.w3.org/2000/svg\" viewBox=\"-10 -105 270 120\">\n",
       "<line x1=\"-5\" y1=\"0\" x2=\"255\" y2=\"0\" style=\"fill:none;stroke-width:2;stroke:currentColor\"/>\n",
       "<text text-anchor=\"middle\" x=\"0\" y=\"15\" style=\"fill:currentColor;\">\n",
       "0\n",
       "</text>\n",
       "<text text-anchor=\"middle\" x=\"250\" y=\"15\" style=\"fill:currentColor;\">\n",
       "300\n",
       "</text>\n",
       "<text text-anchor=\"middle\" x=\"125.0\" y=\"15\" style=\"fill:currentColor;\">\n",
       "pt [GeV]\n",
       "</text>\n",
       "<polyline points=\"  0,0   0,-0 12.5,-0 12.5,-0  25,-0  25,-100 37.5,-100 37.5,-72.6  50,-72.6  50,-56.4 62.5,-56.4 62.5,-45.2  75,-45.2  75,-37.3 87.5,-37.3 87.5,-31.8 100,-31.8 100,-27.6 112.5,-27.6 112.5,-24.6 125,-24.6 125,-22.1 137.5,-22.1 137.5,-20.3 150,-20.3 150,-18.6 162.5,-18.6 162.5,-17.3 175,-17.3 175,-16 187.5,-16 187.5,-14.5 200,-14.5 200,-13.5 212.5,-13.5 212.5,-12.5 225,-12.5 225,-11.8 237.5,-11.8 237.5,-10.8 250,-10.8 250,0\" style=\"fill:none; stroke:currentColor;\"/>\n",
       "</svg>\n",
       "</div>\n",
       "<div style=\"flex=grow:1;\">\n",
       "Regular(20, 0, 300, name='pt', label='pt [GeV]')<br/>\n",
       "<hr style=\"margin-top:.2em; margin-bottom:.2em;\"/>\n",
       "Double() Σ=391765.0 <em>(509406.0 with flow)</em>\n",
       "\n",
       "</div>\n",
       "</div>\n",
       "</html>"
      ],
      "text/plain": [
       "Hist(Regular(20, 0, 300, name='pt', label='pt [GeV]'), storage=Double()) # Sum: 391765.0 (509406.0 with flow)"
      ]
     },
     "execution_count": 45,
     "metadata": {},
     "output_type": "execute_result"
    }
   ],
   "source": [
    "t['bkg'] = uproot.open('/eos/uscms//store/group/lpcmetx/iDMe/skimmed_ntuples/bkg/bkg_2017_10X_systematics_rdfSkim_MET200_nJetsG0/haddBkg.root')['ntuples/outT']\n",
    "eff_num = ak.flatten(t['bkg']['PFJet_bTagEffNumPt'].array())\n",
    "eff_denom = ak.flatten(t['bkg']['PFJet_bTagEffDenomPt'].array())\n",
    "\n",
    "h_num = hist.Hist(\n",
    "    hist.axis.Regular(\n",
    "        20, 0, 300, name=\"pt\", label=\"pt [GeV]\", underflow=True, overflow=True\n",
    "    )\n",
    ")\n",
    "\n",
    "h_denom = hist.Hist(\n",
    "    hist.axis.Regular(\n",
    "        20, 0, 300, name=\"pt\", label=\"pt [GeV]\", underflow=True, overflow=True\n",
    "    )\n",
    ")\n",
    "\n",
    "h_num.fill(eff_num)\n",
    "h_denom.fill(eff_denom)"
   ]
  },
  {
   "cell_type": "code",
   "execution_count": 46,
   "id": "6e1565c8-8982-4f07-83ff-995f230e03de",
   "metadata": {},
   "outputs": [],
   "source": [
    "eff_2017 = h_num / h_denom"
   ]
  },
  {
   "cell_type": "code",
   "execution_count": null,
   "id": "ad31ef07-748f-485d-bcb9-fc7b935a6bcd",
   "metadata": {},
   "outputs": [],
   "source": []
  },
  {
   "cell_type": "code",
   "execution_count": 47,
   "id": "21e9c88f-4944-46fa-88fd-248ad3af0d5d",
   "metadata": {},
   "outputs": [
    {
     "data": {
      "text/html": [
       "<html>\n",
       "<div style=\"display:flex; align-items:center;\">\n",
       "<div style=\"width:290px;\">\n",
       "<svg xmlns=\"http://www.w3.org/2000/svg\" viewBox=\"-10 -105 270 120\">\n",
       "<line x1=\"-5\" y1=\"0\" x2=\"255\" y2=\"0\" style=\"fill:none;stroke-width:2;stroke:currentColor\"/>\n",
       "<text text-anchor=\"middle\" x=\"0\" y=\"15\" style=\"fill:currentColor;\">\n",
       "0\n",
       "</text>\n",
       "<text text-anchor=\"middle\" x=\"250\" y=\"15\" style=\"fill:currentColor;\">\n",
       "300\n",
       "</text>\n",
       "<text text-anchor=\"middle\" x=\"125.0\" y=\"15\" style=\"fill:currentColor;\">\n",
       "pt [GeV]\n",
       "</text>\n",
       "<polyline points=\"  0,0   0,-0 12.5,-0 12.5,-0  25,-0  25,-100 37.5,-100 37.5,-73.4  50,-73.4  50,-57.4 62.5,-57.4 62.5,-46.2  75,-46.2  75,-38.6 87.5,-38.6 87.5,-33.1 100,-33.1 100,-28.5 112.5,-28.5 112.5,-25.3 125,-25.3 125,-22.7 137.5,-22.7 137.5,-20.8 150,-20.8 150,-19.1 162.5,-19.1 162.5,-18.3 175,-18.3 175,-16.4 187.5,-16.4 187.5,-15.2 200,-15.2 200,-14 212.5,-14 212.5,-13.5 225,-13.5 225,-12.4 237.5,-12.4 237.5,-11.5 250,-11.5 250,0\" style=\"fill:none; stroke:currentColor;\"/>\n",
       "</svg>\n",
       "</div>\n",
       "<div style=\"flex=grow:1;\">\n",
       "Regular(20, 0, 300, name='pt', label='pt [GeV]')<br/>\n",
       "<hr style=\"margin-top:.2em; margin-bottom:.2em;\"/>\n",
       "Double() Σ=173824.0 <em>(230804.0 with flow)</em>\n",
       "\n",
       "</div>\n",
       "</div>\n",
       "</html>"
      ],
      "text/plain": [
       "Hist(Regular(20, 0, 300, name='pt', label='pt [GeV]'), storage=Double()) # Sum: 173824.0 (230804.0 with flow)"
      ]
     },
     "execution_count": 47,
     "metadata": {},
     "output_type": "execute_result"
    }
   ],
   "source": [
    "t['bkg'] = uproot.open('/eos/uscms//store/group/lpcmetx/iDMe/skimmed_ntuples/bkg/bkg_2016_postVFP_10X_systematics_rdfSkim_MET200_nJetsG0/haddBkg.root')['ntuples/outT']\n",
    "eff_num = ak.flatten(t['bkg']['PFJet_bTagEffNumPt'].array())\n",
    "eff_denom = ak.flatten(t['bkg']['PFJet_bTagEffDenomPt'].array())\n",
    "\n",
    "h_num = hist.Hist(\n",
    "    hist.axis.Regular(\n",
    "        20, 0, 300, name=\"pt\", label=\"pt [GeV]\", underflow=True, overflow=True\n",
    "    )\n",
    ")\n",
    "\n",
    "h_denom = hist.Hist(\n",
    "    hist.axis.Regular(\n",
    "        20, 0, 300, name=\"pt\", label=\"pt [GeV]\", underflow=True, overflow=True\n",
    "    )\n",
    ")\n",
    "\n",
    "h_num.fill(eff_num)\n",
    "h_denom.fill(eff_denom)"
   ]
  },
  {
   "cell_type": "code",
   "execution_count": 48,
   "id": "40f3b092-c84b-4c5a-9ceb-8cc917001979",
   "metadata": {},
   "outputs": [],
   "source": [
    "eff_2016_postVFP = h_num / h_denom"
   ]
  },
  {
   "cell_type": "code",
   "execution_count": null,
   "id": "2b1b0e9f-8f93-4504-a96a-197d4d87d3c7",
   "metadata": {},
   "outputs": [],
   "source": []
  },
  {
   "cell_type": "code",
   "execution_count": 49,
   "id": "7f6bc795-78a5-46a6-a745-3430d7ac721c",
   "metadata": {},
   "outputs": [
    {
     "data": {
      "text/html": [
       "<html>\n",
       "<div style=\"display:flex; align-items:center;\">\n",
       "<div style=\"width:290px;\">\n",
       "<svg xmlns=\"http://www.w3.org/2000/svg\" viewBox=\"-10 -105 270 120\">\n",
       "<line x1=\"-5\" y1=\"0\" x2=\"255\" y2=\"0\" style=\"fill:none;stroke-width:2;stroke:currentColor\"/>\n",
       "<text text-anchor=\"middle\" x=\"0\" y=\"15\" style=\"fill:currentColor;\">\n",
       "0\n",
       "</text>\n",
       "<text text-anchor=\"middle\" x=\"250\" y=\"15\" style=\"fill:currentColor;\">\n",
       "300\n",
       "</text>\n",
       "<text text-anchor=\"middle\" x=\"125.0\" y=\"15\" style=\"fill:currentColor;\">\n",
       "pt [GeV]\n",
       "</text>\n",
       "<polyline points=\"  0,0   0,-0 12.5,-0 12.5,-0  25,-0  25,-100 37.5,-100 37.5,-72.9  50,-72.9  50,-56.6 62.5,-56.6 62.5,-46.1  75,-46.1  75,-38.1 87.5,-38.1 87.5,-32.6 100,-32.6 100,-28.2 112.5,-28.2 112.5,-25.3 125,-25.3 125,-23.2 137.5,-23.2 137.5,-20.7 150,-20.7 150,-20.2 162.5,-20.2 162.5,-18.1 175,-18.1 175,-16.8 187.5,-16.8 187.5,-15.6 200,-15.6 200,-14.3 212.5,-14.3 212.5,-13.2 225,-13.2 225,-11.8 237.5,-11.8 237.5,-11.3 250,-11.3 250,0\" style=\"fill:none; stroke:currentColor;\"/>\n",
       "</svg>\n",
       "</div>\n",
       "<div style=\"flex=grow:1;\">\n",
       "Regular(20, 0, 300, name='pt', label='pt [GeV]')<br/>\n",
       "<hr style=\"margin-top:.2em; margin-bottom:.2em;\"/>\n",
       "Double() Σ=139634.0 <em>(186681.0 with flow)</em>\n",
       "\n",
       "</div>\n",
       "</div>\n",
       "</html>"
      ],
      "text/plain": [
       "Hist(Regular(20, 0, 300, name='pt', label='pt [GeV]'), storage=Double()) # Sum: 139634.0 (186681.0 with flow)"
      ]
     },
     "execution_count": 49,
     "metadata": {},
     "output_type": "execute_result"
    }
   ],
   "source": [
    "t['bkg'] = uproot.open('/eos/uscms//store/group/lpcmetx/iDMe/skimmed_ntuples/bkg/bkg_2016_preVFP_10X_systematics_rdfSkim_MET200_nJetsG0/haddBkg.root')['ntuples/outT']\n",
    "eff_num = ak.flatten(t['bkg']['PFJet_bTagEffNumPt'].array())\n",
    "eff_denom = ak.flatten(t['bkg']['PFJet_bTagEffDenomPt'].array())\n",
    "\n",
    "h_num = hist.Hist(\n",
    "    hist.axis.Regular(\n",
    "        20, 0, 300, name=\"pt\", label=\"pt [GeV]\", underflow=True, overflow=True\n",
    "    )\n",
    ")\n",
    "\n",
    "h_denom = hist.Hist(\n",
    "    hist.axis.Regular(\n",
    "        20, 0, 300, name=\"pt\", label=\"pt [GeV]\", underflow=True, overflow=True\n",
    "    )\n",
    ")\n",
    "\n",
    "h_num.fill(eff_num)\n",
    "h_denom.fill(eff_denom)"
   ]
  },
  {
   "cell_type": "code",
   "execution_count": 50,
   "id": "30f71ff5-7f28-4b39-8cf0-e1c2f35c28fc",
   "metadata": {},
   "outputs": [],
   "source": [
    "eff_2016_preVFP = h_num / h_denom"
   ]
  },
  {
   "cell_type": "code",
   "execution_count": null,
   "id": "7922e00e-ee44-40c4-9d13-b90fa104049c",
   "metadata": {},
   "outputs": [],
   "source": []
  },
  {
   "cell_type": "code",
   "execution_count": null,
   "id": "1850e01d-cc4d-4907-b313-603daa85f4d6",
   "metadata": {},
   "outputs": [],
   "source": []
  },
  {
   "cell_type": "code",
   "execution_count": null,
   "id": "c1024394-e0df-4c40-8f51-ae20a11d6dd1",
   "metadata": {},
   "outputs": [],
   "source": []
  },
  {
   "cell_type": "code",
   "execution_count": null,
   "id": "4b11de9d-a34a-4e24-b63c-2eaea4b340f6",
   "metadata": {},
   "outputs": [],
   "source": []
  },
  {
   "cell_type": "code",
   "execution_count": null,
   "id": "cd01f1ce-da69-4d15-bf37-244af3668756",
   "metadata": {},
   "outputs": [],
   "source": []
  },
  {
   "cell_type": "code",
   "execution_count": 57,
   "id": "f35932f3-89c8-4f7e-8108-e822c2fb4954",
   "metadata": {},
   "outputs": [
    {
     "data": {
      "image/png": "[encoded data removed]",
      "text/plain": [
       "<Figure size 1000x1000 with 1 Axes>"
      ]
     },
     "metadata": {},
     "output_type": "display_data"
    }
   ],
   "source": [
    "import mplhep as hep\n",
    "\n",
    "hep.style.use(\"CMS\")\n",
    "\n",
    "\n",
    "eff_2018.plot(label='2018',linewidth=3)\n",
    "eff_2017.plot(label='2017',linewidth=3)\n",
    "eff_2016_postVFP.plot(label='2016 postVFP',linewidth=3)\n",
    "eff_2016_preVFP.plot(label='2016 preVFP',linewidth=3)\n",
    "\n",
    "plt.ylabel('DeepJet Medium eff')\n",
    "plt.xlabel('Jet pT')\n",
    "plt.ylim([0,1])\n",
    "plt.xlim([30,300])\n",
    "\n",
    "plt.title('Btagging Efficiency in MC')\n",
    "\n",
    "plt.legend()\n",
    "\n",
    "plt.savefig('btag_eff.png',bbox_inches='tight')"
   ]
  },
  {
   "cell_type": "code",
   "execution_count": null,
   "id": "e7dd0f99-de02-4ea3-bdf2-336a515d9c96",
   "metadata": {},
   "outputs": [],
   "source": []
  },
  {
   "cell_type": "code",
   "execution_count": null,
   "id": "0c4a6407-62f3-4325-8db7-ffd2056af8f1",
   "metadata": {},
   "outputs": [],
   "source": []
  },
  {
   "cell_type": "code",
   "execution_count": null,
   "id": "87f5e9f8-0388-4a19-9004-ae27349e6aff",
   "metadata": {},
   "outputs": [],
   "source": []
  },
  {
   "cell_type": "code",
   "execution_count": null,
   "id": "18a377f6-50e3-4747-a430-d80e0e770ee0",
   "metadata": {},
   "outputs": [],
   "source": []
  },
  {
   "cell_type": "code",
   "execution_count": null,
   "id": "a2a239d3-8d91-4765-a3db-daf2549a17a8",
   "metadata": {},
   "outputs": [],
   "source": []
  },
  {
   "cell_type": "code",
   "execution_count": null,
   "id": "d9ca60c2-a5ba-4a9e-8600-f21004e45387",
   "metadata": {},
   "outputs": [],
   "source": []
  },
  {
   "cell_type": "code",
   "execution_count": 121,
   "id": "75d51798-7646-4cd2-8590-822e4cb81cb7",
   "metadata": {},
   "outputs": [],
   "source": [
    "# do something like MET resolution scripts (efficiency)\n",
    "nbins = 20\n",
    "binnings = np.linspace(0, 400, num=nbins+1)\n",
    "\n",
    "# Using the binning information, put the response_pT into the binned list\n",
    "from scipy.stats import binned_statistic\n",
    "\n",
    "truth_means, bin_edges, binnumber = binned_statistic(eff_denom, eff_denom, statistic='mean', bins=binnings, range=(0, 400))\n",
    "\n",
    "tagged_means, _, _ = binned_statistic(eff_denom, eff_num, statistic='mean', bins=binnings, range=(0, 400))\n",
    "\n",
    "eff = tagged_means / truth_means\n"
   ]
  },
  {
   "cell_type": "code",
   "execution_count": 125,
   "id": "93e5431c-3e31-445c-be7b-b39a958dfdf4",
   "metadata": {},
   "outputs": [],
   "source": [
    "denom, _, _ = binned_statistic(eff_denom, eff_denom, statistic='mean', bins=binnings, range=(0, 400))"
   ]
  },
  {
   "cell_type": "code",
   "execution_count": 126,
   "id": "9a6d8f83-71ee-4895-a4da-8b7ebdefdf3c",
   "metadata": {},
   "outputs": [],
   "source": [
    "num, _, _ = binned_statistic(eff_denom, eff_num, statistic='mean', bins=binnings, range=(0, 400))"
   ]
  },
  {
   "cell_type": "code",
   "execution_count": 127,
   "id": "b53e3ba5-a0d0-4852-9573-86cb59badbc6",
   "metadata": {},
   "outputs": [
    {
     "data": {
      "text/plain": [
       "array([        nan,         nan,  1.        ,         nan, -5.14217908,\n",
       "        1.        ,  1.        ,  1.        ,         nan,         nan,\n",
       "               nan,         nan,         nan,         nan,         nan,\n",
       "               nan,         nan,         nan,         nan,         nan])"
      ]
     },
     "execution_count": 127,
     "metadata": {},
     "output_type": "execute_result"
    }
   ],
   "source": [
    "num / denom"
   ]
  },
  {
   "cell_type": "code",
   "execution_count": null,
   "id": "b21a49a7-1ddc-4a8f-81d8-6f307d26b927",
   "metadata": {},
   "outputs": [],
   "source": []
  },
  {
   "cell_type": "code",
   "execution_count": null,
   "id": "402b8d3f-5b08-4d24-9999-223d4da2e328",
   "metadata": {},
   "outputs": [],
   "source": []
  },
  {
   "cell_type": "code",
   "execution_count": null,
   "id": "30ef7820-d0ff-4549-b783-e49e1a77595d",
   "metadata": {},
   "outputs": [],
   "source": []
  },
  {
   "cell_type": "code",
   "execution_count": null,
   "id": "895304e4-dc99-49a1-ba85-b2bb0eb27a28",
   "metadata": {},
   "outputs": [],
   "source": []
  },
  {
   "cell_type": "code",
   "execution_count": null,
   "id": "d749a50c-89bf-453b-b867-bd62c52b5d0f",
   "metadata": {},
   "outputs": [],
   "source": []
  },
  {
   "cell_type": "code",
   "execution_count": null,
   "id": "907c6a0a-d2cb-48d4-9072-60fbcca3a095",
   "metadata": {},
   "outputs": [],
   "source": []
  },
  {
   "cell_type": "code",
   "execution_count": null,
   "id": "7fd8d728-d6d0-4d82-9430-7f95cb093a42",
   "metadata": {},
   "outputs": [],
   "source": []
  },
  {
   "cell_type": "code",
   "execution_count": null,
   "id": "1f6edc14-0ec4-403b-af72-cf6e96dfedc1",
   "metadata": {},
   "outputs": [],
   "source": []
  }
 ],
 "metadata": {
  "kernelspec": {
   "display_name": "Python 3 (ipykernel)",
   "language": "python",
   "name": "python3"
  },
  "language_info": {
   "codemirror_mode": {
    "name": "ipython",
    "version": 3
   },
   "file_extension": ".py",
   "mimetype": "text/x-python",
   "name": "python",
   "nbconvert_exporter": "python",
   "pygments_lexer": "ipython3",
   "version": "3.8.17"
  }
 },
 "nbformat": 4,
 "nbformat_minor": 5
}
