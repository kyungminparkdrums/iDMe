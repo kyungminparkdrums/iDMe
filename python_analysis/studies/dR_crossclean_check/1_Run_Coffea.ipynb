{
 "cells": [
  {
   "cell_type": "code",
   "execution_count": 1,
   "id": "e669ba8e-d8ae-45e9-bdac-9dabb1da3557",
   "metadata": {},
   "outputs": [],
   "source": [
    "%load_ext autoreload\n",
    "%autoreload 2\n",
    "import numpy as np\n",
    "import matplotlib.pyplot as plt\n",
    "import awkward as ak\n",
    "import sys\n",
    "sys.path.append(\"../../analysisTools/\")\n",
    "from analysisTools import Analyzer\n",
    "from analysisTools import loadSchema\n",
    "import analysisTools as tools\n",
    "import analysisSubroutines as routines\n",
    "import importlib\n",
    "import coffea.util as util\n",
    "import time\n",
    "\n",
    "import json\n",
    "import os\n",
    "import glob"
   ]
  },
  {
   "cell_type": "code",
   "execution_count": 2,
   "id": "c59aff4f-6762-4e07-957a-349d22652fad",
   "metadata": {},
   "outputs": [],
   "source": [
    "outdir = \"./coffea/\"\n",
    "if not os.path.isdir(outdir):\n",
    "    os.mkdir(outdir)"
   ]
  },
  {
   "cell_type": "code",
   "execution_count": 3,
   "id": "73201266-7873-48cb-b6b9-ea70e7703e5b",
   "metadata": {},
   "outputs": [],
   "source": [
    "outdir = \"./coffea/skimmed/\"\n",
    "if not os.path.isdir(outdir):\n",
    "    os.mkdir(outdir)"
   ]
  },
  {
   "cell_type": "code",
   "execution_count": 4,
   "id": "c72681ac-a0f5-402a-8a80-d5f17505b69c",
   "metadata": {},
   "outputs": [],
   "source": [
    "#cuts_config = \"cut_configs/BDT_Lxy.py\"\n",
    "cuts_config = \"cut_configs/SR_ISRcuts_dRzoom_0p1.py\"\n",
    "histos_config = \"histo_configs/displacement.py\""
   ]
  },
  {
   "cell_type": "markdown",
   "id": "d248ae59-1cd0-45e3-91a1-3462012c6a27",
   "metadata": {},
   "source": [
    "### Signal"
   ]
  },
  {
   "cell_type": "code",
   "execution_count": 5,
   "id": "e0ecc4e0-151c-408b-b400-381d1e1a973e",
   "metadata": {},
   "outputs": [],
   "source": [
    "#sample_config = \"./skimmed_sig_v2_mA_3m1_2018_aEM_m1_5to50.json\"\n",
    "#sample_config = \"sample_configs/skimmed_sig_v2_mA_3m1_2018_aEM.json\"\n",
    "sample_config = \"sample_configs/skimmed_sig_v2_mA_3m1_2018_aEM_fewMasses.json\""
   ]
  },
  {
   "cell_type": "code",
   "execution_count": 7,
   "id": "02537ff8-2bb2-4752-bed0-a504affad525",
   "metadata": {
    "scrolled": true
   },
   "outputs": [
    {
     "data": {
      "application/vnd.jupyter.widget-view+json": {
       "model_id": "3f52c683ccd0425e860d88db260fed89",
       "version_major": 2,
       "version_minor": 0
      },
      "text/plain": [
       "Output()"
      ]
     },
     "metadata": {},
     "output_type": "display_data"
    },
    {
     "data": {
      "text/html": [
       "<pre style=\"white-space:pre;overflow-x:auto;line-height:normal;font-family:Menlo,'DejaVu Sans Mono',consolas,'Courier New',monospace\"></pre>\n"
      ],
      "text/plain": []
     },
     "metadata": {},
     "output_type": "display_data"
    },
    {
     "data": {
      "text/html": [
       "<pre style=\"white-space:pre;overflow-x:auto;line-height:normal;font-family:Menlo,'DejaVu Sans Mono',consolas,'Courier New',monospace\">\n",
       "</pre>\n"
      ],
      "text/plain": [
       "\n"
      ]
     },
     "metadata": {},
     "output_type": "display_data"
    },
    {
     "data": {
      "application/vnd.jupyter.widget-view+json": {
       "model_id": "6dd4ef1c87f8453390b9125ba1c1608b",
       "version_major": 2,
       "version_minor": 0
      },
      "text/plain": [
       "Output()"
      ]
     },
     "metadata": {},
     "output_type": "display_data"
    },
    {
     "name": "stdout",
     "output_type": "stream",
     "text": [
      "cut10\n",
      "vxy =  [1.84, 58.6, 8.09, 0.253, 3.61, 1.02, 6.16, ... 6.69, 1.5, 81.5, 0.278, 2.8, 3.54]\n",
      "vxySignif =  [111, 1.18e+03, 241, 10.8, 88, 10.6, 0.568, ... 785, 3.89, 29.8, 6.75, 43, 2.62]\n",
      "|dxy1| =  [0.00795, 0.577, 0.0315, 0.00533, 0.00107, ... 0.0475, 0.00737, 0.0853, 0.0291]\n",
      "|dxy2| =  [0.000446, 0.581, 0.146, 0.00313, 0.0986, ... 0.019, 0.0936, 0.0212, 0.0517, 0.0471]\n",
      "cut10\n",
      "vxy =  [0.187, 0.27, 2.55, 0.273, 0.389, 0.758, ... 2.83, 1.03, 0.847, 0.652, 0.158, 1.77]\n",
      "vxySignif =  [8.91, 10.1, 95.2, 1.66, 4.02, 25.4, 11.6, ... 146, 15.5, 56.6, 2.51, 1.29, 8.58]\n",
      "|dxy1| =  [0.0416, 0.0333, 0.279, 0.0136, 0.0142, ... 0.0211, 0.00609, 0.0189, 0.0104, 0.073]\n",
      "|dxy2| =  [0.00285, 0.0138, 0.0816, 0.0253, 0.00804, ... 0.00702, 0.0302, 0.00894, 0.0481]\n",
      "cut10\n",
      "vxy =  [4.97, 0.413, 3.24, 1.41, 4.39, 6.98, 4.44, ... 0.509, 0.505, 3.8, 2.11, 4.64, 2.07]\n",
      "vxySignif =  [95.6, 1.29, 115, 73.5, 10.3, 202, 65.9, ... 91.9, 17.1, 5.38, 85.5, 97.6, 190, 15]\n",
      "|dxy1| =  [0.055, 0.0256, 0.0925, 0.316, 0.156, ... 0.0212, 0.0155, 0.00269, 0.252, 0.179]\n",
      "|dxy2| =  [0.422, 0.00958, 0.334, 0.0749, 0.121, 0.127, ... 0.0152, 0.3, 0.102, 0.0982, 0.128]\n",
      "cut10\n",
      "vxy =  [0.0432, 0.197, 0.412, 0.107, 51, 37.1, ... 4.69, 5.33, 15.7, 0.19, 5.76, 0.0304]\n",
      " [0.426, 3.84, 2.12, 1.04, 82.6, 14.1, 1.03, ... 41.5, 292, 56.7, 0.06, 132, 1.39]\n",
      "|dxy1| =  [0.00699, 0.00377, 0.01, 0.00426, 0.099, ... 0.025, 0.132, 0.126, 0.000736, 0.0057]\n",
      "|dxy2| =  [0.00937, 0.00274, 0.00275, 0.0114, 1.52, ... 0.19, 0.201, 0.16, 0.00218, 0.00784]\n",
      "cut10\n",
      "vxy =  [5.6, 3.84, 11.8, 3.7, 3.37, 2.37, 5.55, ... 0.301, 7.2, 1.25, 4.24, 1.6, 1.55, 0.5]\n",
      "vxySignif =  [345, 491, 225, 62.9, 7.39, 105, 1.83, ... 1.22, 14.3, 9.1, 377, 4.52, 86.7, 5.68]\n",
      "|dxy1| =  [1.43, 1.51, 0.00663, 0.000392, 0.027, 1.16, ... 0.288, 1.32, 0.541, 0.485, 0.191]\n",
      "cut10\n",
      "|dxy2| = vxy =  [0.592, 0.0771, 0.0253, 0.0262, 0.0293, 1.42, ... 0.278, 0.498, 0.0848, 0.276, 0.169]\n",
      " [1.17, 25.3, 0.582, 0.693, 1.02, 1.96, ... 0.967, 0.622, 4.7, 0.189, 0.732, 1.25]\n",
      "vxySignif =  [206, 87.1, 59.3, 40.3, 8.52, 405, 5.83, ... 75.2, 70.3, 102, 5.27, 24.1, 7.75, 181]\n",
      "|dxy1| =  [0.373, 0.0161, 0.0451, 0.131, 0.477, 0.155, ... 0.0569, 0.435, 0.0121, 0.142, 0.416]\n",
      "|dxy2| =  [0.5, 0.286, 0.0556, 0.0473, 0.232, 0.179, ... 0.254, 2.14, 0.0358, 0.0618, 0.00897]\n",
      "cut10\n",
      "vxy =  [0.26, 0.612, 0.592, 74.3, 0.137, 2.72, ... 0.985, 1.06, 0.626, 0.345, 6.29, 0.146]\n",
      "vxySignif =  [3.31, 4.02, 11.2, 56.1, 0.936, 77.4, 4.18, ... 13.8, 19.4, 7.83, 4.33, 270, 0.962]\n",
      "|dxy1| =  [0.00826, 0.0408, 0.0579, 0.00352, 0.00665, ... 0.00976, 0.000779, 0.456, 0.0106]\n",
      "|dxy2| =  [0.0094, 0.0312, 0.00497, 0.0339, 0.00333, ... 0.0144, 0.000414, 0.281, 0.0263]\n",
      "cut10\n",
      "vxy =  [0.61, 3.68, 2.06, 2.85, 3.29, 5.71, 20.2, ... 4.38, 2.3, 28.1, 0.674, 8.37, 2.4]\n",
      "vxySignif =  [11.9, 21, 72.4, 60.1, 77.2, 0.567, 74.7, ... 41.6, 88.9, 10.5, 13.6, 69.8, 17.9]\n",
      "|dxy1| =  [0.0603, 0.0539, 0.000917, 0.0758, 0.0471, ... 0.0463, 2.76, 0.0973, 0.065, 0.0485]\n",
      "|dxy2| =  [0.0279, 0.00344, 0.0033, 0.0255, 0.118, ... 0.0675, 0.0448, 0.0302, 0.0359, 0.0353]\n",
      "cut10\n",
      "vxy =  [0.0505, 0.0495, 0.144, 0.0869, 13.1, ... 0.123, 0.184, 0.0552, 0.189, 0.0586]\n",
      "vxySignif =  [7.93, 18.6, 5.26, 6.59, 72.7, 7.87, 179, ... 19, 6.63, 10.1, 19, 4.86, 38.5, 0.0733]\n",
      "|dxy1| =  [0.00371, 0.000206, 0.0756, 0.0292, 0.0106, ... 0.0058, 0.0123, 0.00504, 0.00791]\n",
      "|dxy2| =  [0.00624, 0.0123, 0.0861, 0.0275, 0.0428, ... 0.0629, 0.0165, 0.0951, 0.00271]\n",
      "cut10\n",
      "vxy =  [0.0238, 1.33, 0.675, 0.0952, 0.6, 0.167, ... 0.384, 0.0812, 0.604, 0.362, 0.0943]\n",
      "vxySignif =  [1.22, 184, 84.8, 0.0586, 16.8, 8.58, 7.92, ... 4.06, 13.6, 12, 5.21, 83.2, 10, 6.27]\n",
      "|dxy1| =  [0.000169, 0.00452, 0.345, 0.0422, 0.16, ... 0.0302, 0.0312, 0.0541, 0.14, 0.0373]\n",
      "|dxy2| =  [0.0171, 0.0962, 0.117, 0.00949, 0.142, ... 0.0284, 0.00334, 0.106, 0.108, 0.0529]\n",
      "cut10\n",
      "vxy =  [1.96, 3.39, 21.5, 19.6, 13, 3.16, 6.45, ... 4.88, 8.62, 1.54, 13.8, 3.98, 0.497]\n",
      "vxySignif =  [63.2, 257, 6.41, 18.4, 18.7, 325, 12.1, ... 230, 22.7, 96.1, 5.65, 6.27, 0.415]\n",
      "|dxy1| =  [0.597, 0.814, 6.59, 3.23, 1.83, 0.226, ... 0.724, 2.62, 0.513, 0.39, 0.00016, 0.365]\n",
      "|dxy2| =  [0.108, 0.886, 6.02, 2.03, 0.322, 0.338, ... 0.413, 0.775, 0.363, 0.0595, 0.296]\n",
      "cut10\n",
      "vxy =  [0.945, 1.52, 2.22, 1.09, 3.66, 3.27, ... 0.195, 0.145, 2.86, 1.01, 0.446, 3.08]\n",
      "vxySignif =  [17.9, 178, 56.2, 39.1, 81.4, 7.53, 98.1, ... 91.9, 16.3, 13.8, 2.29, 101, 18.2, 103]\n",
      "|dxy1| =  [0.185, 0.291, 0.365, 0.872, 1.02, 0.0324, ... 0.0179, 0.0336, 0.0577, 0.0877, 0.379]\n",
      "|dxy2| =  [0.0747, 0.162, 0.661, 0.954, 0.152, 0.017, ... 0.005, 0.0316, 0.256, 0.129, 0.371]\n",
      "cut10\n",
      "vxy =  [3.36, 43.7, 0.361, 0.146, 5.36, 5.54, 18.4, ... 18, 50.6, 1.96, 1.18, 3.17, 46.5]\n",
      "vxySignif =  [18.6, 4.1, 2.89, 0.696, 388, 911, 4.33, ... 5.79, 6.09, 111, 103, 36.9, 8.17, 186]\n",
      "|dxy1| =  [0.0175, 0.812, 0.0152, 0.0835, 0.0178, ... 1.51, 0.0919, 0.0282, 0.0365, 6.42]\n",
      "|dxy2| =  [0.0388, 0.696, 0.0142, 0.113, 0.77, 0.419, ... 1.35, 0.139, 0.00605, 0.0396, 8.72]\n",
      "cut10\n",
      "vxy =  [2.28, 14.6, 0.965, 0.335, 0.597, 0.399, ... 8.61, 3.51, 0.86, 2.28, 4.06, 2.84]\n",
      "vxySignif =  [65.6, 36, 58.4, 16.6, 5.57, 25.1, 429, ... 66.8, 27.1, 147, 95.8, 221, 151, 252]\n",
      "|dxy1| =  [0.202, 0.0905, 0.151, 0.156, 0.0232, ... 0.207, 0.0847, 0.0445, 0.374, 0.135]\n",
      "|dxy2| =  [0.287, 0.501, 0.0281, 0.00874, 0.0446, ... 0.1, 0.0869, 0.0562, 0.728, 0.145]\n",
      "cut10\n",
      "vxy =  [6.17, 1.93, 0.121, 0.743, 0.956, 0.656, ... 0.458, 0.58, 0.653, 0.498, 0.928, 2.82]\n",
      "vxySignif =  [6.94, 8.04, 1.08, 6.58, 46.1, 8.68, 105, ... 14.3, 28.2, 19.6, 11.6, 41.7, 42.6]\n",
      "|dxy1| =  [0.217, 0.037, 0.00547, 0.00923, 0.13, ... 0.0867, 0.0465, 0.00662, 0.129, 0.0806]\n",
      "|dxy2| =  [0.354, 0.0613, 0.000504, 0.0204, 0.017, ... 0.0268, 0.00664, 0.0432, 0.0743, 0.0297]\n",
      "cut10\n",
      "vxy =  vxySignif =  [15.4, 4.82, 2.75, 56.2, 2.5, 2.21, 9.25, ... 89.5, 9.12, 45.2, 8.24, 8.01, 97.6]\n",
      "|dxy1| =  [1.28, 4.54, 0.0456, 0.501, 0.0572, 0.315, ... 0.265, 0.00627, 0.553, 0.0621, 0.178]\n",
      "|dxy2| =  [0.00844, 4.47, 0.0117, 0.0775, 0.0718, ... 0.313, 0.00568, 0.815, 0.117, 0.0852]\n",
      "cut10\n",
      "vxy =  [0.0448, 0.0686, 0.881, 0.823, 0.214, 0.0603, ... 0.077, 1.12, 0.302, 0.562, 0.363]\n",
      "vxySignif =  [0.278, 4.19, 125, 0.0949, 17.3, 3.81, 33.9, ... 2.82, 9.7, 108, 45.3, 72.9, 1.77]\n",
      "|dxy1| =  [0.00055, 0.00392, 0.415, 0.52, 0.125, ... 0.0133, 0.258, 0.036, 0.413, 0.351]\n",
      "|dxy2| =  [0.0235, 0.0116, 0.632, 0.566, 0.16, 0.00785, ... 0.00245, 0.112, 0.0253, 0.489, 0.1]\n",
      "cut10\n",
      "vxy =  [8.24, 6.05, 0.545, 2.07, 4.95, 0.464, 6.01, ... 0.73, 1.76, 6.59, 1.01, 4.47, 4.52]\n",
      "vxySignif =  [140, 270, 6.28, 71.3, 3.25, 2.71, 123, ... 65, 13.3, 176, 94.4, 6.46, 128, 15.7]\n",
      "|dxy1| =  [0.195, 0.519, 0.0628, 0.387, 0.336, ... 0.218, 0.258, 0.0115, 0.271, 0.00473]\n",
      "|dxy2| =  [0.535, 0.996, 0.0391, 0.314, 0.0393, ... 0.0298, 0.255, 0.000647, 0.00425, 0.0408]\n",
      "cut10\n",
      "vxy =  [0.0543, 0.0374, 0.0288, 0.216, 0.0397, ... 0.0737, 8.54, 0.0485, 0.125, 0.0596]\n",
      "vxySignif =  [2.47, 3.91, 4.32, 10.8, 6.36, 17.8, 0.304, ... 10.5, 7.62, 17.1, 10.6, 13.8, 14.1]\n",
      "|dxy1| =  [0.00536, 0.0066, 0.00155, 0.00176, 0.00148, ... 0.0492, 0.000966, 0.00582, 0.00995]\n",
      "|dxy2| =  [0.000617, 0.00302, 0.00403, 0.0397, 0.00486, ... 0.021, 0.00343, 0.0189, 0.00828]\n",
      "cut10\n",
      "vxy =  [10.7, 0.0691, 0.0441, 3.22, 3.73, 2.49, 5.3, ... 1.15, 3.7, 6.79, 52.1, 1.6, 4.92]\n",
      "vxySignif =  [119, 2.46, 2.95, 2.57, 56, 3.77, 24.1, ... 3.85, 110, 107, 26.6, 167, 19.2, 91.9]\n",
      "|dxy1| =  [0.127, 0.0118, 0.000354, 0.00938, 1.03, ... 0.261, 0.225, 7.41, 0.0154, 0.00697]\n",
      "|dxy2| =  [0.346, 0.0181, 0.00556, 0.0192, 0.132, 0.06, ... 0.544, 0.33, 3.57, 0.039, 0.108]\n",
      "cut10\n",
      "vxy =  [0.0393, 0.141, 0.0462, 2.74, 0.488, 0.0505, ... 0.062, 3.4, 4.23, 0.73, 2.53, 0.661]\n",
      "vxySignif =  [1.18, 1.67, 2.36, 238, 0.868, 0.562, 28.7, ... 1.13, 64.6, 41.8, 12.3, 9.52, 11.1]\n",
      "|dxy1| =  [0.00477, 0.0109, 0.0097, 0.0418, 0.234, ... 0.103, 0.158, 0.0417, 0.111, 0.0012]\n",
      "|dxy2| =  [0.0027, 0.0116, 0.0114, 0.194, 0.0167, ... 0.0859, 0.00883, 0.000241, 0.0873]\n",
      "cut10\n",
      "vxy =  [17.9, 0.334, 0.441, 36.5, 2.34, 7.8, 3.13, ... 1.39, 1.13, 1.71, 2.97, 2.44, 3.08]\n",
      "vxySignif =  [245, 24.4, 58.2, 23.3, 2.08, 0.661, 4.11, ... 289, 26.1, 67.6, 17.3, 3.11, 8.13]\n",
      "|dxy1| =  [0.127, 0.164, 0.00972, 4.48, 1.53, 0.513, ... 0.0932, 0.628, 0.718, 0.00831, 0.0404]\n",
      "|dxy2| =  [0.0073, 0.165, 0.00636, 2.19, 1.17, 0.0748, ... 0.158, 0.237, 1.61, 0.0174, 0.0271]\n",
      "cut10\n",
      "vxy =  [1.85, 2.4, 0.25, 0.0461, 2.78, 3.02, ... 0.253, 0.0494, 0.566, 0.974, 2.08, 0.684]\n",
      "vxySignif =  [396, 301, 44, 4.76, 5.32, 104, 48.5, ... 24.8, 13.8, 7.09, 52.9, 131, 2.47, 64.4]\n",
      "|dxy1| =  [0.628, 0.46, 0.00346, 0.00462, 0.0137, ... 0.000728, 0.0325, 0.497, 0.136, 0.324]\n",
      "|dxy2| =  [0.0974, 0.937, 0.024, 0.00696, 0.0227, ... 0.00531, 0.244, 0.155, 0.0229, 0.172]\n",
      "cut10\n",
      "vxy =  [0.127, 0.145, 0.274, 0.327, 0.576, 0.0283, ... 0.195, 2.61, 0.0599, 0.0387, 0.448]\n",
      "vxySignif =  [6.53, 12.9, 33, 16.8, 35.5, 1.82, 5.19, ... 30.7, 40.1, 2.23, 3.14, 1.47, 88.2]\n",
      "|dxy1| =  [0.0073, 0.153, 0.0166, 0.00331, 0.00271, ... 0.00325, 1.94, 0.0146, 0.00176, 0.119]\n",
      "|dxy2| =  [0.00738, 0.16, 0.0795, 0.0043, 0.0163, ... 0.0231, 0.00408, 0.00669, 0.0837]\n"
     ]
    },
    {
     "data": {
      "text/html": [
       "<pre style=\"white-space:pre;overflow-x:auto;line-height:normal;font-family:Menlo,'DejaVu Sans Mono',consolas,'Courier New',monospace\"></pre>\n"
      ],
      "text/plain": []
     },
     "metadata": {},
     "output_type": "display_data"
    },
    {
     "data": {
      "text/html": [
       "<pre style=\"white-space:pre;overflow-x:auto;line-height:normal;font-family:Menlo,'DejaVu Sans Mono',consolas,'Courier New',monospace\">\n",
       "</pre>\n"
      ],
      "text/plain": [
       "\n"
      ]
     },
     "metadata": {},
     "output_type": "display_data"
    },
    {
     "name": "stdout",
     "output_type": "stream",
     "text": [
      "Runtime: 4.25 minutes\n"
     ]
    }
   ],
   "source": [
    "test = Analyzer(sample_config,histos_config,cuts_config, max_samples=-1) # run over all samples in the config\n",
    "\n",
    "t1 = time.time()\n",
    "out = test.process(execr='futures')\n",
    "t2 = time.time()\n",
    "\n",
    "print(\"Runtime: {:.2f} minutes\".format((t2-t1)/60))\n",
    "\n",
    "util.save(out,f\"{outdir}/SR_ISRcuts_dRzoom_0p5_fewMass.coffea\")\n",
    "\n",
    "del out, test"
   ]
  },
  {
   "cell_type": "markdown",
   "id": "97b2ff87-c610-4e5a-9d3d-0255d980dbe3",
   "metadata": {},
   "source": [
    "### Background"
   ]
  },
  {
   "cell_type": "code",
   "execution_count": 6,
   "id": "c65bc29b-bfda-48ed-84d4-7ea8f8eded39",
   "metadata": {},
   "outputs": [
    {
     "name": "stdout",
     "output_type": "stream",
     "text": [
      "['../../configs/sample_configs/skimmed_bkg_2018_DY.json', '../../configs/sample_configs/skimmed_bkg_2018_Diboson.json', '../../configs/sample_configs/skimmed_bkg_2018_QCD_TuneCP5_PSWeights.json', '../../configs/sample_configs/skimmed_bkg_2018_TTJetsDiLept.json', '../../configs/sample_configs/skimmed_bkg_2018_Top.json', '../../configs/sample_configs/skimmed_bkg_2018_Triboson.json', '../../configs/sample_configs/skimmed_bkg_2018_WJets.json', '../../configs/sample_configs/skimmed_bkg_2018_ZJets.json']\n"
     ]
    }
   ],
   "source": [
    "bkg_configs = glob.glob(\"../../configs/sample_configs/skimmed_bkg*.json\")\n",
    "\n",
    "print(bkg_configs)"
   ]
  },
  {
   "cell_type": "code",
   "execution_count": 7,
   "id": "f7af452c-6938-4868-8307-bd0f6b2e330d",
   "metadata": {},
   "outputs": [
    {
     "name": "stdout",
     "output_type": "stream",
     "text": [
      "bkg_2018_DY\n"
     ]
    },
    {
     "data": {
      "application/vnd.jupyter.widget-view+json": {
       "model_id": "1ccdaece0ebb433ba7297674bc568d5c",
       "version_major": 2,
       "version_minor": 0
      },
      "text/plain": [
       "Output()"
      ]
     },
     "metadata": {},
     "output_type": "display_data"
    },
    {
     "data": {
      "text/html": [
       "<pre style=\"white-space:pre;overflow-x:auto;line-height:normal;font-family:Menlo,'DejaVu Sans Mono',consolas,'Courier New',monospace\"></pre>\n"
      ],
      "text/plain": []
     },
     "metadata": {},
     "output_type": "display_data"
    },
    {
     "data": {
      "text/html": [
       "<pre style=\"white-space:pre;overflow-x:auto;line-height:normal;font-family:Menlo,'DejaVu Sans Mono',consolas,'Courier New',monospace\">\n",
       "</pre>\n"
      ],
      "text/plain": [
       "\n"
      ]
     },
     "metadata": {},
     "output_type": "display_data"
    },
    {
     "data": {
      "application/vnd.jupyter.widget-view+json": {
       "model_id": "a157ce9eed8d4cedaf1c299523404914",
       "version_major": 2,
       "version_minor": 0
      },
      "text/plain": [
       "Output()"
      ]
     },
     "metadata": {},
     "output_type": "display_data"
    },
    {
     "data": {
      "text/html": [
       "<pre style=\"white-space:pre;overflow-x:auto;line-height:normal;font-family:Menlo,'DejaVu Sans Mono',consolas,'Courier New',monospace\"></pre>\n"
      ],
      "text/plain": []
     },
     "metadata": {},
     "output_type": "display_data"
    },
    {
     "data": {
      "text/html": [
       "<pre style=\"white-space:pre;overflow-x:auto;line-height:normal;font-family:Menlo,'DejaVu Sans Mono',consolas,'Courier New',monospace\">\n",
       "</pre>\n"
      ],
      "text/plain": [
       "\n"
      ]
     },
     "metadata": {},
     "output_type": "display_data"
    },
    {
     "name": "stdout",
     "output_type": "stream",
     "text": [
      "Runtime: 1.16 minutes\n",
      "bkg_2018_Diboson\n"
     ]
    },
    {
     "data": {
      "application/vnd.jupyter.widget-view+json": {
       "model_id": "ceb6a646e5f74434b67e9d39ed15fe17",
       "version_major": 2,
       "version_minor": 0
      },
      "text/plain": [
       "Output()"
      ]
     },
     "metadata": {},
     "output_type": "display_data"
    },
    {
     "data": {
      "text/html": [
       "<pre style=\"white-space:pre;overflow-x:auto;line-height:normal;font-family:Menlo,'DejaVu Sans Mono',consolas,'Courier New',monospace\"></pre>\n"
      ],
      "text/plain": []
     },
     "metadata": {},
     "output_type": "display_data"
    },
    {
     "data": {
      "text/html": [
       "<pre style=\"white-space:pre;overflow-x:auto;line-height:normal;font-family:Menlo,'DejaVu Sans Mono',consolas,'Courier New',monospace\">\n",
       "</pre>\n"
      ],
      "text/plain": [
       "\n"
      ]
     },
     "metadata": {},
     "output_type": "display_data"
    },
    {
     "data": {
      "application/vnd.jupyter.widget-view+json": {
       "model_id": "c692a1efcc1e4d11bfefa50869cf6309",
       "version_major": 2,
       "version_minor": 0
      },
      "text/plain": [
       "Output()"
      ]
     },
     "metadata": {},
     "output_type": "display_data"
    },
    {
     "data": {
      "text/html": [
       "<pre style=\"white-space:pre;overflow-x:auto;line-height:normal;font-family:Menlo,'DejaVu Sans Mono',consolas,'Courier New',monospace\"></pre>\n"
      ],
      "text/plain": []
     },
     "metadata": {},
     "output_type": "display_data"
    },
    {
     "data": {
      "text/html": [
       "<pre style=\"white-space:pre;overflow-x:auto;line-height:normal;font-family:Menlo,'DejaVu Sans Mono',consolas,'Courier New',monospace\">\n",
       "</pre>\n"
      ],
      "text/plain": [
       "\n"
      ]
     },
     "metadata": {},
     "output_type": "display_data"
    },
    {
     "name": "stdout",
     "output_type": "stream",
     "text": [
      "Runtime: 1.13 minutes\n",
      "bkg_2018_QCD_TuneCP5_PSWeights\n"
     ]
    },
    {
     "data": {
      "application/vnd.jupyter.widget-view+json": {
       "model_id": "0d0d93a504b948a4b42eddabf99310dd",
       "version_major": 2,
       "version_minor": 0
      },
      "text/plain": [
       "Output()"
      ]
     },
     "metadata": {},
     "output_type": "display_data"
    },
    {
     "data": {
      "text/html": [
       "<pre style=\"white-space:pre;overflow-x:auto;line-height:normal;font-family:Menlo,'DejaVu Sans Mono',consolas,'Courier New',monospace\"></pre>\n"
      ],
      "text/plain": []
     },
     "metadata": {},
     "output_type": "display_data"
    },
    {
     "data": {
      "text/html": [
       "<pre style=\"white-space:pre;overflow-x:auto;line-height:normal;font-family:Menlo,'DejaVu Sans Mono',consolas,'Courier New',monospace\">\n",
       "</pre>\n"
      ],
      "text/plain": [
       "\n"
      ]
     },
     "metadata": {},
     "output_type": "display_data"
    },
    {
     "data": {
      "application/vnd.jupyter.widget-view+json": {
       "model_id": "8c52f2897f384379a9f8885466578629",
       "version_major": 2,
       "version_minor": 0
      },
      "text/plain": [
       "Output()"
      ]
     },
     "metadata": {},
     "output_type": "display_data"
    },
    {
     "data": {
      "text/html": [
       "<pre style=\"white-space:pre;overflow-x:auto;line-height:normal;font-family:Menlo,'DejaVu Sans Mono',consolas,'Courier New',monospace\"></pre>\n"
      ],
      "text/plain": []
     },
     "metadata": {},
     "output_type": "display_data"
    },
    {
     "data": {
      "text/html": [
       "<pre style=\"white-space:pre;overflow-x:auto;line-height:normal;font-family:Menlo,'DejaVu Sans Mono',consolas,'Courier New',monospace\">\n",
       "</pre>\n"
      ],
      "text/plain": [
       "\n"
      ]
     },
     "metadata": {},
     "output_type": "display_data"
    },
    {
     "name": "stdout",
     "output_type": "stream",
     "text": [
      "Runtime: 4.69 minutes\n",
      "bkg_2018_TTJetsDiLept\n",
      "bkg_2018_Top\n"
     ]
    },
    {
     "data": {
      "application/vnd.jupyter.widget-view+json": {
       "model_id": "3731e0c8fab34169a918a64d962d4637",
       "version_major": 2,
       "version_minor": 0
      },
      "text/plain": [
       "Output()"
      ]
     },
     "metadata": {},
     "output_type": "display_data"
    },
    {
     "data": {
      "text/html": [
       "<pre style=\"white-space:pre;overflow-x:auto;line-height:normal;font-family:Menlo,'DejaVu Sans Mono',consolas,'Courier New',monospace\"></pre>\n"
      ],
      "text/plain": []
     },
     "metadata": {},
     "output_type": "display_data"
    },
    {
     "data": {
      "text/html": [
       "<pre style=\"white-space:pre;overflow-x:auto;line-height:normal;font-family:Menlo,'DejaVu Sans Mono',consolas,'Courier New',monospace\">\n",
       "</pre>\n"
      ],
      "text/plain": [
       "\n"
      ]
     },
     "metadata": {},
     "output_type": "display_data"
    },
    {
     "data": {
      "application/vnd.jupyter.widget-view+json": {
       "model_id": "3f432a943d0643e2b2241d1c3b74c77a",
       "version_major": 2,
       "version_minor": 0
      },
      "text/plain": [
       "Output()"
      ]
     },
     "metadata": {},
     "output_type": "display_data"
    },
    {
     "data": {
      "text/html": [
       "<pre style=\"white-space:pre;overflow-x:auto;line-height:normal;font-family:Menlo,'DejaVu Sans Mono',consolas,'Courier New',monospace\"></pre>\n"
      ],
      "text/plain": []
     },
     "metadata": {},
     "output_type": "display_data"
    },
    {
     "data": {
      "text/html": [
       "<pre style=\"white-space:pre;overflow-x:auto;line-height:normal;font-family:Menlo,'DejaVu Sans Mono',consolas,'Courier New',monospace\">\n",
       "</pre>\n"
      ],
      "text/plain": [
       "\n"
      ]
     },
     "metadata": {},
     "output_type": "display_data"
    },
    {
     "name": "stdout",
     "output_type": "stream",
     "text": [
      "Runtime: 10.99 minutes\n",
      "bkg_2018_Triboson\n"
     ]
    },
    {
     "data": {
      "application/vnd.jupyter.widget-view+json": {
       "model_id": "74392cb2a7a2490a8824996afd728ba9",
       "version_major": 2,
       "version_minor": 0
      },
      "text/plain": [
       "Output()"
      ]
     },
     "metadata": {},
     "output_type": "display_data"
    },
    {
     "data": {
      "text/html": [
       "<pre style=\"white-space:pre;overflow-x:auto;line-height:normal;font-family:Menlo,'DejaVu Sans Mono',consolas,'Courier New',monospace\"></pre>\n"
      ],
      "text/plain": []
     },
     "metadata": {},
     "output_type": "display_data"
    },
    {
     "data": {
      "text/html": [
       "<pre style=\"white-space:pre;overflow-x:auto;line-height:normal;font-family:Menlo,'DejaVu Sans Mono',consolas,'Courier New',monospace\">\n",
       "</pre>\n"
      ],
      "text/plain": [
       "\n"
      ]
     },
     "metadata": {},
     "output_type": "display_data"
    },
    {
     "data": {
      "application/vnd.jupyter.widget-view+json": {
       "model_id": "4dff2eff5f63425ebc8d95a8fb382dd3",
       "version_major": 2,
       "version_minor": 0
      },
      "text/plain": [
       "Output()"
      ]
     },
     "metadata": {},
     "output_type": "display_data"
    },
    {
     "data": {
      "text/html": [
       "<pre style=\"white-space:pre;overflow-x:auto;line-height:normal;font-family:Menlo,'DejaVu Sans Mono',consolas,'Courier New',monospace\"></pre>\n"
      ],
      "text/plain": []
     },
     "metadata": {},
     "output_type": "display_data"
    },
    {
     "data": {
      "text/html": [
       "<pre style=\"white-space:pre;overflow-x:auto;line-height:normal;font-family:Menlo,'DejaVu Sans Mono',consolas,'Courier New',monospace\">\n",
       "</pre>\n"
      ],
      "text/plain": [
       "\n"
      ]
     },
     "metadata": {},
     "output_type": "display_data"
    },
    {
     "name": "stdout",
     "output_type": "stream",
     "text": [
      "Runtime: 0.70 minutes\n",
      "bkg_2018_WJets\n"
     ]
    },
    {
     "data": {
      "application/vnd.jupyter.widget-view+json": {
       "model_id": "f50adc79ce3c4366b633f1ce31564ad1",
       "version_major": 2,
       "version_minor": 0
      },
      "text/plain": [
       "Output()"
      ]
     },
     "metadata": {},
     "output_type": "display_data"
    },
    {
     "data": {
      "text/html": [
       "<pre style=\"white-space:pre;overflow-x:auto;line-height:normal;font-family:Menlo,'DejaVu Sans Mono',consolas,'Courier New',monospace\"></pre>\n"
      ],
      "text/plain": []
     },
     "metadata": {},
     "output_type": "display_data"
    },
    {
     "data": {
      "text/html": [
       "<pre style=\"white-space:pre;overflow-x:auto;line-height:normal;font-family:Menlo,'DejaVu Sans Mono',consolas,'Courier New',monospace\">\n",
       "</pre>\n"
      ],
      "text/plain": [
       "\n"
      ]
     },
     "metadata": {},
     "output_type": "display_data"
    },
    {
     "data": {
      "application/vnd.jupyter.widget-view+json": {
       "model_id": "ef6672959c804f11b9fcf32182f330c7",
       "version_major": 2,
       "version_minor": 0
      },
      "text/plain": [
       "Output()"
      ]
     },
     "metadata": {},
     "output_type": "display_data"
    },
    {
     "data": {
      "text/html": [
       "<pre style=\"white-space:pre;overflow-x:auto;line-height:normal;font-family:Menlo,'DejaVu Sans Mono',consolas,'Courier New',monospace\"></pre>\n"
      ],
      "text/plain": []
     },
     "metadata": {},
     "output_type": "display_data"
    },
    {
     "data": {
      "text/html": [
       "<pre style=\"white-space:pre;overflow-x:auto;line-height:normal;font-family:Menlo,'DejaVu Sans Mono',consolas,'Courier New',monospace\">\n",
       "</pre>\n"
      ],
      "text/plain": [
       "\n"
      ]
     },
     "metadata": {},
     "output_type": "display_data"
    },
    {
     "name": "stdout",
     "output_type": "stream",
     "text": [
      "Runtime: 6.96 minutes\n",
      "bkg_2018_ZJets\n"
     ]
    },
    {
     "data": {
      "application/vnd.jupyter.widget-view+json": {
       "model_id": "053748fc43394fd48f15dbbfd4bbbe13",
       "version_major": 2,
       "version_minor": 0
      },
      "text/plain": [
       "Output()"
      ]
     },
     "metadata": {},
     "output_type": "display_data"
    },
    {
     "data": {
      "text/html": [
       "<pre style=\"white-space:pre;overflow-x:auto;line-height:normal;font-family:Menlo,'DejaVu Sans Mono',consolas,'Courier New',monospace\"></pre>\n"
      ],
      "text/plain": []
     },
     "metadata": {},
     "output_type": "display_data"
    },
    {
     "data": {
      "text/html": [
       "<pre style=\"white-space:pre;overflow-x:auto;line-height:normal;font-family:Menlo,'DejaVu Sans Mono',consolas,'Courier New',monospace\">\n",
       "</pre>\n"
      ],
      "text/plain": [
       "\n"
      ]
     },
     "metadata": {},
     "output_type": "display_data"
    },
    {
     "data": {
      "application/vnd.jupyter.widget-view+json": {
       "model_id": "2e4939335e6f4afd85a1ca2392e781bb",
       "version_major": 2,
       "version_minor": 0
      },
      "text/plain": [
       "Output()"
      ]
     },
     "metadata": {},
     "output_type": "display_data"
    },
    {
     "data": {
      "text/html": [
       "<pre style=\"white-space:pre;overflow-x:auto;line-height:normal;font-family:Menlo,'DejaVu Sans Mono',consolas,'Courier New',monospace\"></pre>\n"
      ],
      "text/plain": []
     },
     "metadata": {},
     "output_type": "display_data"
    },
    {
     "data": {
      "text/html": [
       "<pre style=\"white-space:pre;overflow-x:auto;line-height:normal;font-family:Menlo,'DejaVu Sans Mono',consolas,'Courier New',monospace\">\n",
       "</pre>\n"
      ],
      "text/plain": [
       "\n"
      ]
     },
     "metadata": {},
     "output_type": "display_data"
    },
    {
     "name": "stdout",
     "output_type": "stream",
     "text": [
      "Runtime: 4.73 minutes\n"
     ]
    }
   ],
   "source": [
    "runAnalyzer = True\n",
    "\n",
    "for bkg in bkg_configs:\n",
    "    process = bkg.split('/')[-1].split('.json')[0].split('skimmed_')[-1]\n",
    "    print(process)\n",
    "\n",
    "    if 'TTJetsDiLept' in bkg: # currently not available ntuples\n",
    "        continue\n",
    "\n",
    "    #if 'Top' in bkg:\n",
    "    #    runAnalyzer = True\n",
    "        \n",
    "    if runAnalyzer:\n",
    "    #if 'DY' in bkg:\n",
    "        test = Analyzer(bkg,histos_config,cuts_config) \n",
    "        \n",
    "        t1 = time.time()\n",
    "        out = test.process(execr='futures')\n",
    "        t2 = time.time()\n",
    "            \n",
    "        print(\"Runtime: {:.2f} minutes\".format((t2-t1)/60))\n",
    "        #util.save(out,f\"{outdir}/{process}_SR_Lxy_BestVertex.coffea\")\n",
    "        util.save(out,f\"{outdir}/{process}_SR_ISRcuts_dRzoom_0p1.coffea\")\n",
    "        del out, test"
   ]
  },
  {
   "cell_type": "code",
   "execution_count": null,
   "id": "3e662705-17ed-40a2-ba63-779c1bb84ae0",
   "metadata": {},
   "outputs": [],
   "source": []
  }
 ],
 "metadata": {
  "kernelspec": {
   "display_name": "Python 3 (ipykernel)",
   "language": "python",
   "name": "python3"
  },
  "language_info": {
   "codemirror_mode": {
    "name": "ipython",
    "version": 3
   },
   "file_extension": ".py",
   "mimetype": "text/x-python",
   "name": "python",
   "nbconvert_exporter": "python",
   "pygments_lexer": "ipython3",
   "version": "3.8.17"
  }
 },
 "nbformat": 4,
 "nbformat_minor": 5
}
