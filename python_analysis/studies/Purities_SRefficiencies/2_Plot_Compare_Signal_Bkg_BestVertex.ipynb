{
 "cells": [
  {
   "cell_type": "code",
   "execution_count": 42,
   "id": "1ae1ddc1-3746-4884-a4ce-3b88864020ab",
   "metadata": {},
   "outputs": [
    {
     "name": "stdout",
     "output_type": "stream",
     "text": [
      "The autoreload extension is already loaded. To reload it, use:\n",
      "  %reload_ext autoreload\n"
     ]
    }
   ],
   "source": [
    "%load_ext autoreload\n",
    "%autoreload 2\n",
    "import numpy as np\n",
    "import matplotlib.pyplot as plt\n",
    "from coffea import util\n",
    "from coffea.processor import accumulate\n",
    "import os, sys\n",
    "import re\n",
    "import pandas as pd\n",
    "import hist\n",
    "import matplotlib as mpl\n",
    "import mplhep\n",
    "import utils\n",
    "from pathlib import Path\n",
    "import mplhep\n",
    "\n",
    "sys.path.append(\"../../../analysisTools/\")\n",
    "import plotTools as ptools"
   ]
  },
  {
   "cell_type": "code",
   "execution_count": 43,
   "id": "59c65538-9a68-472f-a6fa-e1751c76bdd6",
   "metadata": {},
   "outputs": [],
   "source": [
    "def add_signal_info_to_df(df):\n",
    "    m1_list = []\n",
    "    delta_list = []\n",
    "    ctau_list = []\n",
    "    \n",
    "    for point in df.index.values:\n",
    "        sig_dict = ptools.signalPoint(point)\n",
    "        m1_list.append(sig_dict['m1'])\n",
    "        delta_list.append(sig_dict['delta'])\n",
    "        ctau_list.append(sig_dict['ctau'])\n",
    "    \n",
    "    df['m1'] = m1_list\n",
    "    df['delta'] = delta_list\n",
    "    df['ctau'] = ctau_list\n",
    "    \n",
    "    df = df.sort_values(by=['m1']) # sort by m1\n",
    "\n",
    "    return df"
   ]
  },
  {
   "cell_type": "code",
   "execution_count": 44,
   "id": "af98fe50-dff1-4af3-8e3f-5a69f5ed7063",
   "metadata": {},
   "outputs": [],
   "source": [
    "def save_df_to_csv(df, outdir, outname, isSignal = False):\n",
    "    Path(outdir).mkdir(parents=True, exist_ok=True)\n",
    "\n",
    "    if isSignal:\n",
    "        df = add_signal_info_to_df(df)\n",
    "    \n",
    "    df.to_csv(f'{outdir}/{outname}.csv')\n",
    "\n",
    "    print(f'Saved: {outdir}/{outname}.csv')"
   ]
  },
  {
   "cell_type": "code",
   "execution_count": null,
   "id": "bc37bcab-72ce-4d5d-88d0-a050597ebf8a",
   "metadata": {},
   "outputs": [],
   "source": []
  },
  {
   "cell_type": "markdown",
   "id": "61ff1817-2e3c-4f0b-870e-d9fb38fcadc3",
   "metadata": {},
   "source": [
    "# Plot 1D: True Best vertex vs. False Best vertex in gen-ee reconstructed events"
   ]
  },
  {
   "cell_type": "code",
   "execution_count": 45,
   "id": "8e92e25d-b74b-43a5-9b84-da7effb968ca",
   "metadata": {},
   "outputs": [],
   "source": [
    "prefix = './coffea/skimmed/'"
   ]
  },
  {
   "cell_type": "code",
   "execution_count": 46,
   "id": "948a8642-5dd7-46be-a5f5-e713fbe0325c",
   "metadata": {},
   "outputs": [],
   "source": [
    "# Signal\n",
    "sig_histo_best = util.load(f'{prefix}/SR_ISRcuts_BestVertex_fewMass.coffea')[0]\n",
    "sig_histo_true = util.load(f'{prefix}/SR_ISRcuts_TrueVertex_fewMass.coffea')[0]\n",
    "#sig_histo_false = util.load(f'{prefix}/SR_ISRcuts_FalseAndMinChi2Vertex_genEEreconstructed.coffea')[0]"
   ]
  },
  {
   "cell_type": "code",
   "execution_count": 47,
   "id": "622574e2-8aa9-4647-87dd-901036d926c0",
   "metadata": {},
   "outputs": [],
   "source": [
    "prefix = './coffea/skimmed/'\n",
    "suffix = '_SR_BDTLxy_BestVertex'"
   ]
  },
  {
   "cell_type": "code",
   "execution_count": 48,
   "id": "1d23fcdc-aa27-413d-a04e-e93d81c03e1a",
   "metadata": {},
   "outputs": [],
   "source": [
    "# Background\n",
    "bkg_files = {\n",
    "    \"QCD\": \"bkg_2018_QCD_TuneCP5_PSWeights\", # No entry for QCD\n",
    "    \"Top\": \"bkg_2018_Top\",\n",
    "    \"DY\": \"bkg_2018_DY\",\n",
    "    \"Diboson\": \"bkg_2018_Diboson\",\n",
    "    \"Triboson\": \"bkg_2018_Triboson\",\n",
    "    \"W+jets\": \"bkg_2018_WJets\",\n",
    "    \"Z+jets\": \"bkg_2018_ZJets\",\n",
    "}\n",
    "\n",
    "bkg_histos = {}\n",
    "\n",
    "for b in bkg_files.keys():\n",
    "    bkg_histos[b] = util.load(f'{prefix}/{bkg_files[b]}{suffix}.coffea')[0]"
   ]
  },
  {
   "cell_type": "code",
   "execution_count": 49,
   "id": "50fbbfec-ae57-4842-93fd-c51d5872503f",
   "metadata": {},
   "outputs": [],
   "source": [
    "# example dictionaries for plotting\n",
    "\n",
    "plot_dict = {\n",
    "    'variable': 'sel_vtx_dR',\n",
    "    'cut': 'cut9',\n",
    "}\n",
    "\n",
    "style_dict = {\n",
    "    'rebin': 2j,\n",
    "    'xlim': None,     # if None, the default will show up; otherwise give as a list, i.e. [0, 10]\n",
    "    'doLogx': False,\n",
    "    'doLogy': False,\n",
    "    'doDensity': True,\n",
    "    'doYerr': False, \n",
    "    'xlabel': None,   # if None, the default will show up; otherwise give as a string, i.e. 'Electron dxy'\n",
    "    'ylabel': None,   # if None, the default will show up; otherwise give as a string, i.e. 'Efficiency'\n",
    "    'label': None,    # if None, the default will show up; otherwise give as a string, i.e. 'Highest ctau signal samples'\n",
    "    'flow': None,     # overflow\n",
    "}"
   ]
  },
  {
   "cell_type": "code",
   "execution_count": null,
   "id": "ec48f3a9-b28d-4f17-92bb-5f6cb17adab2",
   "metadata": {},
   "outputs": [],
   "source": []
  },
  {
   "cell_type": "markdown",
   "id": "0b17424f-16ae-4d03-9e5e-f97128477b2b",
   "metadata": {},
   "source": [
    "### ctau"
   ]
  },
  {
   "cell_type": "code",
   "execution_count": 50,
   "id": "85d8dcd0-cf66-41aa-93b5-e843fab798e0",
   "metadata": {},
   "outputs": [
    {
     "data": {
      "image/png": "[encoded data removed]",
      "text/plain": [
       "<Figure size 640x480 with 1 Axes>"
      ]
     },
     "metadata": {},
     "output_type": "display_data"
    }
   ],
   "source": [
    "fig, ax = plt.subplots()\n",
    "\n",
    "# Plot settings\n",
    "plot_dict = {\n",
    "    'variable': 'ctau',\n",
    "    'cut': 'cut9',\n",
    "}\n",
    "\n",
    "style_dict = {\n",
    "    'rebin': 100j,\n",
    "    'xlim': [0,1000],     # if None, the default will show up; otherwise give as a list, i.e. [0, 10]\n",
    "    'doLogy': True, \n",
    "    'doLogx': False,\n",
    "    'doDensity': True,\n",
    "    'doYerr': False, \n",
    "    'xlabel': None,   # if None, the default will show up; otherwise give as a string, i.e. 'Electron dxy'\n",
    "    'ylabel': None,   # if None, the default will show up; otherwise give as a string, i.e. 'Efficiency'\n",
    "    'label': None,    # if None, the default will show up; otherwise give as a string, i.e. 'Highest ctau signal samples'\n",
    "    'flow': None,     # overflow\n",
    "}\n",
    "\n",
    "# signal points\n",
    "m1s = [5, 100]\n",
    "deltas = [0.2]\n",
    "ctaus = [100]\n",
    "\n",
    "# Plot for variables signal points\n",
    "for m1 in m1s:\n",
    "    for delta in deltas:\n",
    "        for ctau in ctaus:\n",
    "            utils.plot_signal_1D(ax, sig_histo_best, m1, delta, ctau, plot_dict, style_dict)\n",
    "\n",
    "plt.title('Best chi2 vertex')\n",
    "plt.legend()\n",
    "plt.show()"
   ]
  },
  {
   "cell_type": "code",
   "execution_count": 51,
   "id": "87128306-1792-44ef-9bd3-523791f7f714",
   "metadata": {},
   "outputs": [
    {
     "data": {
      "image/png": "[encoded data removed]",
      "text/plain": [
       "<Figure size 640x480 with 1 Axes>"
      ]
     },
     "metadata": {},
     "output_type": "display_data"
    }
   ],
   "source": [
    "fig, ax = plt.subplots()\n",
    "\n",
    "# Plot settings\n",
    "plot_dict = {\n",
    "    'variable': 'ctau',\n",
    "    'cut': 'cut9',\n",
    "}\n",
    "\n",
    "style_dict = {\n",
    "    'rebin': 1j,\n",
    "    'xlim': [0,10],     # if None, the default will show up; otherwise give as a list, i.e. [0, 10]\n",
    "    'doLogy': True, \n",
    "    'doLogx': False,\n",
    "    'doDensity': True,\n",
    "    'doYerr': False, \n",
    "    'xlabel': None,   # if None, the default will show up; otherwise give as a string, i.e. 'Electron dxy'\n",
    "    'ylabel': None,   # if None, the default will show up; otherwise give as a string, i.e. 'Efficiency'\n",
    "    'label': None,    # if None, the default will show up; otherwise give as a string, i.e. 'Highest ctau signal samples'\n",
    "    'flow': None,     # overflow\n",
    "}\n",
    "\n",
    "# signal points\n",
    "m1s = [5, 100]\n",
    "deltas = [0.2]\n",
    "ctaus = [1]\n",
    "\n",
    "# Plot for variables signal points\n",
    "for m1 in m1s:\n",
    "    for delta in deltas:\n",
    "        for ctau in ctaus:\n",
    "            utils.plot_signal_1D(ax, sig_histo_best, m1, delta, ctau, plot_dict, style_dict)\n",
    "\n",
    "plt.title('Best chi2 vertex')\n",
    "plt.legend()\n",
    "plt.show()"
   ]
  },
  {
   "cell_type": "code",
   "execution_count": 52,
   "id": "b2065520-89ec-474c-933a-d187def985ea",
   "metadata": {},
   "outputs": [
    {
     "data": {
      "image/png": "[encoded data removed]",
      "text/plain": [
       "<Figure size 640x480 with 1 Axes>"
      ]
     },
     "metadata": {},
     "output_type": "display_data"
    }
   ],
   "source": [
    "fig, ax = plt.subplots()\n",
    "\n",
    "# Plot settings\n",
    "plot_dict = {\n",
    "    'variable': 'ctau',\n",
    "    'cut': 'cut9',\n",
    "}\n",
    "\n",
    "style_dict = {\n",
    "    'rebin': 10j,\n",
    "    'xlim': [0,100],     # if None, the default will show up; otherwise give as a list, i.e. [0, 10]\n",
    "    'doLogy': True, \n",
    "    'doLogx': False,\n",
    "    'doDensity': True,\n",
    "    'doYerr': False, \n",
    "    'xlabel': None,   # if None, the default will show up; otherwise give as a string, i.e. 'Electron dxy'\n",
    "    'ylabel': None,   # if None, the default will show up; otherwise give as a string, i.e. 'Efficiency'\n",
    "    'label': None,    # if None, the default will show up; otherwise give as a string, i.e. 'Highest ctau signal samples'\n",
    "    'flow': None,     # overflow\n",
    "\n",
    "}\n",
    "\n",
    "# signal points\n",
    "m1s = [5, 100]\n",
    "deltas = [0.2]\n",
    "ctaus = [10]\n",
    "\n",
    "# Plot for variables signal points\n",
    "for m1 in m1s:\n",
    "    for delta in deltas:\n",
    "        for ctau in ctaus:\n",
    "            utils.plot_signal_1D(ax, sig_histo_best, m1, delta, ctau, plot_dict, style_dict)\n",
    "\n",
    "plt.title('Best chi2 vertex')\n",
    "plt.legend()\n",
    "plt.show()"
   ]
  },
  {
   "cell_type": "code",
   "execution_count": 53,
   "id": "5bf0dd24-0be0-4486-8a00-cf172261feb6",
   "metadata": {},
   "outputs": [
    {
     "data": {
      "image/png": "[encoded data removed]",
      "text/plain": [
       "<Figure size 640x480 with 1 Axes>"
      ]
     },
     "metadata": {},
     "output_type": "display_data"
    }
   ],
   "source": [
    "fig, ax = plt.subplots()\n",
    "\n",
    "# Plot settings\n",
    "plot_dict = {\n",
    "    'variable': 'ctau',\n",
    "    'cut': 'cut9',\n",
    "}\n",
    "\n",
    "style_dict = {\n",
    "    'rebin': 15j,\n",
    "    'xlim': [0,200],     # if None, the default will show up; otherwise give as a list, i.e. [0, 10]\n",
    "    'doLogy': True, \n",
    "    'doLogx': False,\n",
    "    'doDensity': True,\n",
    "    'doYerr': False, \n",
    "    'xlabel': None,   # if None, the default will show up; otherwise give as a string, i.e. 'Electron dxy'\n",
    "    'ylabel': None,   # if None, the default will show up; otherwise give as a string, i.e. 'Efficiency'\n",
    "    'label': None,    # if None, the default will show up; otherwise give as a string, i.e. 'Highest ctau signal samples'\n",
    "    'flow': None,     # overflow\n",
    "\n",
    "}\n",
    "\n",
    "# signal points\n",
    "m1s = [100]\n",
    "deltas = [0.2]\n",
    "ctaus = [1,10,100]\n",
    "\n",
    "# Plot for variables signal points\n",
    "for m1 in m1s:\n",
    "    for delta in deltas:\n",
    "        for ctau in ctaus:\n",
    "            utils.plot_signal_1D(ax, sig_histo_best, m1, delta, ctau, plot_dict, style_dict)\n",
    "\n",
    "plt.title('Best chi2 vertex')\n",
    "plt.legend()\n",
    "plt.show()"
   ]
  },
  {
   "cell_type": "code",
   "execution_count": null,
   "id": "b82ff691-23f1-4954-8d10-27b9ad39d07c",
   "metadata": {},
   "outputs": [],
   "source": []
  },
  {
   "cell_type": "code",
   "execution_count": null,
   "id": "94771ec9-6b13-4472-ae17-e9a7fa264be5",
   "metadata": {},
   "outputs": [],
   "source": []
  },
  {
   "cell_type": "markdown",
   "id": "602ce0b2-d803-4fb9-b913-6c94dc88ccff",
   "metadata": {},
   "source": [
    "### cos_collinear"
   ]
  },
  {
   "cell_type": "code",
   "execution_count": 54,
   "id": "59a92c7a-5e5d-4cef-a241-d8d6788e4392",
   "metadata": {},
   "outputs": [
    {
     "data": {
      "image/png": "[encoded data removed]",
      "text/plain": [
       "<Figure size 640x480 with 1 Axes>"
      ]
     },
     "metadata": {},
     "output_type": "display_data"
    }
   ],
   "source": [
    "fig, ax = plt.subplots()\n",
    "\n",
    "# Plot settings\n",
    "plot_dict = {\n",
    "    'variable': 'cos_collinear',\n",
    "    'cut': 'cut9',\n",
    "}\n",
    "\n",
    "style_dict = {\n",
    "    'rebin': 3j,\n",
    "    'xlim': None,     # if None, the default will show up; otherwise give as a list, i.e. [0, 10]\n",
    "    'doLogy': True, \n",
    "    'doLogx': False,\n",
    "    'doDensity': True,\n",
    "    'doYerr': False, \n",
    "    'xlabel': None,   # if None, the default will show up; otherwise give as a string, i.e. 'Electron dxy'\n",
    "    'ylabel': None,   # if None, the default will show up; otherwise give as a string, i.e. 'Efficiency'\n",
    "    'label': None,    # if None, the default will show up; otherwise give as a string, i.e. 'Highest ctau signal samples'\n",
    "    'flow': None,     # overflow\n",
    "\n",
    "}\n",
    "\n",
    "# signal points\n",
    "m1s = [5, 100]\n",
    "deltas = [0.2]\n",
    "ctaus = [1, 100]\n",
    "\n",
    "# Plot for variables signal points\n",
    "for m1 in m1s:\n",
    "    for delta in deltas:\n",
    "        for ctau in ctaus:\n",
    "            utils.plot_signal_1D(ax, sig_histo_best, m1, delta, ctau, plot_dict, style_dict)\n",
    "\n",
    "plt.title('Best chi2 vertex')\n",
    "plt.legend()\n",
    "plt.show()"
   ]
  },
  {
   "cell_type": "code",
   "execution_count": 55,
   "id": "d046b6fe-be5a-432e-b770-8fc75fe57b04",
   "metadata": {},
   "outputs": [
    {
     "data": {
      "image/png": "[encoded data removed]",
      "text/plain": [
       "<Figure size 640x480 with 1 Axes>"
      ]
     },
     "metadata": {},
     "output_type": "display_data"
    }
   ],
   "source": [
    "fig, ax = plt.subplots()\n",
    "\n",
    "# Plot settings\n",
    "plot_dict = {\n",
    "    'variable': 'cos_collinear',\n",
    "    'cut': 'cut9',\n",
    "}\n",
    "\n",
    "style_dict = {\n",
    "    'rebin': 3j,\n",
    "    'xlim': None,     # if None, the default will show up; otherwise give as a list, i.e. [0, 10]\n",
    "    'doLogy': True, \n",
    "    'doLogx': False,\n",
    "    'doDensity': True,\n",
    "    'doYerr': False, \n",
    "    'xlabel': None,   # if None, the default will show up; otherwise give as a string, i.e. 'Electron dxy'\n",
    "    'ylabel': None,   # if None, the default will show up; otherwise give as a string, i.e. 'Efficiency'\n",
    "    'label': None,    # if None, the default will show up; otherwise give as a string, i.e. 'Highest ctau signal samples'\n",
    "    'flow': None,     # overflow\n",
    "}\n",
    "\n",
    "# signal points\n",
    "m1s = [5, 100]\n",
    "deltas = [0.2]\n",
    "ctaus = [1, 100]\n",
    "\n",
    "# Plot for variables signal points\n",
    "for m1 in m1s:\n",
    "    for delta in deltas:\n",
    "        for ctau in ctaus:\n",
    "            utils.plot_signal_1D(ax, sig_histo_true, m1, delta, ctau, plot_dict, style_dict)\n",
    "\n",
    "plt.title('True Vertex')\n",
    "plt.legend()\n",
    "plt.show()"
   ]
  },
  {
   "cell_type": "code",
   "execution_count": 56,
   "id": "0277176f-9587-4080-9cf5-d68c100ddc96",
   "metadata": {},
   "outputs": [
    {
     "data": {
      "image/png": "[encoded data removed]",
      "text/plain": [
       "<Figure size 640x480 with 1 Axes>"
      ]
     },
     "metadata": {},
     "output_type": "display_data"
    }
   ],
   "source": [
    "fig, ax = plt.subplots()\n",
    "\n",
    "# Plot settings\n",
    "plot_dict = {\n",
    "    'variable': 'cos_collinear',\n",
    "    'cut': 'cut9',\n",
    "}\n",
    "\n",
    "style_dict = {\n",
    "    'rebin': 3j,\n",
    "    'xlim': None,     # if None, the default will show up; otherwise give as a list, i.e. [0, 10]\n",
    "    'doLogy': True, \n",
    "    'doLogx': False,\n",
    "    'doDensity': True,\n",
    "    'doYerr': False, \n",
    "    'xlabel': None,   # if None, the default will show up; otherwise give as a string, i.e. 'Electron dxy'\n",
    "    'ylabel': None,   # if None, the default will show up; otherwise give as a string, i.e. 'Efficiency'\n",
    "    'label': None,    # if None, the default will show up; otherwise give as a string, i.e. 'Highest ctau signal samples'\n",
    "    'flow': None,     # overflow\n",
    "}\n",
    "\n",
    "# bkg\n",
    "utils.plot_bkg_1d(ax, bkg_histos, plot_dict, style_dict)"
   ]
  },
  {
   "cell_type": "code",
   "execution_count": null,
   "id": "3ae47111-ff3a-41d3-b5c6-6e1d1f076c59",
   "metadata": {},
   "outputs": [],
   "source": []
  },
  {
   "cell_type": "markdown",
   "id": "122b279b-4c7f-4562-b15e-5e2dea4d778b",
   "metadata": {},
   "source": [
    "### abs_cos_collinear"
   ]
  },
  {
   "cell_type": "code",
   "execution_count": 57,
   "id": "a97738ca-b87e-405e-aa16-22e2224c1c29",
   "metadata": {},
   "outputs": [
    {
     "data": {
      "image/png": "[encoded data removed]",
      "text/plain": [
       "<Figure size 640x480 with 1 Axes>"
      ]
     },
     "metadata": {},
     "output_type": "display_data"
    }
   ],
   "source": [
    "fig, ax = plt.subplots()\n",
    "\n",
    "# Plot settings\n",
    "plot_dict = {\n",
    "    'variable': 'abs_cos_collinear',\n",
    "    'cut': 'cut9',\n",
    "}\n",
    "\n",
    "style_dict = {\n",
    "    'rebin': 1j,\n",
    "    'xlim': [0,1],     # if None, the default will show up; otherwise give as a list, i.e. [0, 10]\n",
    "    'doLogy': True, \n",
    "    'doLogx': False,\n",
    "    'doDensity': True,\n",
    "    'doYerr': False, \n",
    "    'xlabel': None,   # if None, the default will show up; otherwise give as a string, i.e. 'Electron dxy'\n",
    "    'ylabel': None,   # if None, the default will show up; otherwise give as a string, i.e. 'Efficiency'\n",
    "    'label': None,    # if None, the default will show up; otherwise give as a string, i.e. 'Highest ctau signal samples'\n",
    "    'flow': None,     # overflow\n",
    "}\n",
    "\n",
    "# signal points\n",
    "m1s = [5, 100]\n",
    "deltas = [0.2]\n",
    "ctaus = [1, 100]\n",
    "\n",
    "# Plot for variables signal points\n",
    "for m1 in m1s:\n",
    "    for delta in deltas:\n",
    "        for ctau in ctaus:\n",
    "            utils.plot_signal_1D(ax, sig_histo_best, m1, delta, ctau, plot_dict, style_dict)\n",
    "\n",
    "plt.title('Best-chi2 Vertex')\n",
    "plt.legend()\n",
    "plt.show()"
   ]
  },
  {
   "cell_type": "code",
   "execution_count": 58,
   "id": "ebd5e497-5e80-4f3c-8f7b-862cf79a40cb",
   "metadata": {},
   "outputs": [
    {
     "data": {
      "image/png": "[encoded data removed]",
      "text/plain": [
       "<Figure size 640x480 with 1 Axes>"
      ]
     },
     "metadata": {},
     "output_type": "display_data"
    }
   ],
   "source": [
    "fig, ax = plt.subplots()\n",
    "\n",
    "# Plot settings\n",
    "plot_dict = {\n",
    "    'variable': 'abs_cos_collinear',\n",
    "    'cut': 'cut9',\n",
    "}\n",
    "\n",
    "style_dict = {\n",
    "    'rebin': 1j,\n",
    "    'xlim': [0,1],     # if None, the default will show up; otherwise give as a list, i.e. [0, 10]\n",
    "    'doLogy': True, \n",
    "    'doLogx': False,\n",
    "    'doDensity': True,\n",
    "    'doYerr': False, \n",
    "    'xlabel': None,   # if None, the default will show up; otherwise give as a string, i.e. 'Electron dxy'\n",
    "    'ylabel': None,   # if None, the default will show up; otherwise give as a string, i.e. 'Efficiency'\n",
    "    'label': None,    # if None, the default will show up; otherwise give as a string, i.e. 'Highest ctau signal samples'\n",
    "    'flow': None,     # overflow\n",
    "}\n",
    "\n",
    "# signal points\n",
    "m1s = [5, 100]\n",
    "deltas = [0.2]\n",
    "ctaus = [1, 100]\n",
    "\n",
    "# Plot for variables signal points\n",
    "for m1 in m1s:\n",
    "    for delta in deltas:\n",
    "        for ctau in ctaus:\n",
    "            utils.plot_signal_1D(ax, sig_histo_true, m1, delta, ctau, plot_dict, style_dict)\n",
    "\n",
    "plt.title('True Best Vertex')\n",
    "plt.legend()\n",
    "plt.show()"
   ]
  },
  {
   "cell_type": "code",
   "execution_count": 59,
   "id": "a9d5421b-728d-4094-991a-39add12aee63",
   "metadata": {},
   "outputs": [
    {
     "data": {
      "image/png": "[encoded data removed]",
      "text/plain": [
       "<Figure size 640x480 with 1 Axes>"
      ]
     },
     "metadata": {},
     "output_type": "display_data"
    }
   ],
   "source": [
    "fig, ax = plt.subplots()\n",
    "\n",
    "# bkg\n",
    "utils.plot_bkg_1d(ax, bkg_histos, plot_dict, style_dict)"
   ]
  },
  {
   "cell_type": "code",
   "execution_count": null,
   "id": "fa9beb4d-3703-499f-b4e6-6017959d3afb",
   "metadata": {},
   "outputs": [],
   "source": []
  },
  {
   "cell_type": "code",
   "execution_count": null,
   "id": "cfc40f96-216f-4afd-8010-3b60a55b091d",
   "metadata": {},
   "outputs": [],
   "source": []
  },
  {
   "cell_type": "markdown",
   "id": "608a3b70-55e9-4cc8-8841-521e657e6db7",
   "metadata": {},
   "source": [
    "### sel_vtx_prod_eta"
   ]
  },
  {
   "cell_type": "code",
   "execution_count": 60,
   "id": "88984786-7d4c-44c2-a11d-605bee2a9547",
   "metadata": {},
   "outputs": [
    {
     "data": {
      "image/png": "[encoded data removed]",
      "text/plain": [
       "<Figure size 640x480 with 1 Axes>"
      ]
     },
     "metadata": {},
     "output_type": "display_data"
    }
   ],
   "source": [
    "fig, ax = plt.subplots()\n",
    "\n",
    "# Plot settings\n",
    "plot_dict = {\n",
    "    'variable': 'sel_vtx_prod_eta',\n",
    "    'cut': 'cut9',\n",
    "}\n",
    "\n",
    "style_dict = {\n",
    "    'rebin': 2j,\n",
    "    'xlim': None,     # if None, the default will show up; otherwise give as a list, i.e. [0, 10]\n",
    "    'doLogy': True, \n",
    "    'doLogx': False,\n",
    "    'doDensity': True,\n",
    "    'doYerr': False, \n",
    "    'xlabel': None,   # if None, the default will show up; otherwise give as a string, i.e. 'Electron dxy'\n",
    "    'ylabel': None,   # if None, the default will show up; otherwise give as a string, i.e. 'Efficiency'\n",
    "    'label': None,    # if None, the default will show up; otherwise give as a string, i.e. 'Highest ctau signal samples'\n",
    "    'flow': None,     # overflow\n",
    "}\n",
    "\n",
    "# signal points\n",
    "m1s = [5, 100]\n",
    "deltas = [0.2]\n",
    "ctaus = [1, 100]\n",
    "\n",
    "# Plot for variables signal points\n",
    "for m1 in m1s:\n",
    "    for delta in deltas:\n",
    "        for ctau in ctaus:\n",
    "            utils.plot_signal_1D(ax, sig_histo_best, m1, delta, ctau, plot_dict, style_dict)\n",
    "\n",
    "plt.title('Best-chi2 Vertex')\n",
    "plt.legend()\n",
    "plt.show()"
   ]
  },
  {
   "cell_type": "code",
   "execution_count": 61,
   "id": "bfaf0f30-bfa7-4fb7-b442-836aec442217",
   "metadata": {},
   "outputs": [
    {
     "data": {
      "image/png": "[encoded data removed]",
      "text/plain": [
       "<Figure size 640x480 with 1 Axes>"
      ]
     },
     "metadata": {},
     "output_type": "display_data"
    }
   ],
   "source": [
    "fig, ax = plt.subplots()\n",
    "\n",
    "# Plot settings\n",
    "plot_dict = {\n",
    "    'variable': 'sel_vtx_prod_eta',\n",
    "    'cut': 'cut9',\n",
    "}\n",
    "\n",
    "style_dict = {\n",
    "    'rebin': 2j,\n",
    "    'xlim': None,     # if None, the default will show up; otherwise give as a list, i.e. [0, 10]\n",
    "    'doLogy': True, \n",
    "    'doLogx': False,\n",
    "    'doDensity': True,\n",
    "    'doYerr': False, \n",
    "    'xlabel': None,   # if None, the default will show up; otherwise give as a string, i.e. 'Electron dxy'\n",
    "    'ylabel': None,   # if None, the default will show up; otherwise give as a string, i.e. 'Efficiency'\n",
    "    'label': None,    # if None, the default will show up; otherwise give as a string, i.e. 'Highest ctau signal samples'\n",
    "    'flow': None,     # overflow\n",
    "}\n",
    "\n",
    "# signal points\n",
    "m1s = [5, 100]\n",
    "deltas = [0.2]\n",
    "ctaus = [1, 100]\n",
    "\n",
    "# Plot for variables signal points\n",
    "for m1 in m1s:\n",
    "    for delta in deltas:\n",
    "        for ctau in ctaus:\n",
    "            utils.plot_signal_1D(ax, sig_histo_true, m1, delta, ctau, plot_dict, style_dict)\n",
    "\n",
    "plt.title('True Best Vertex')\n",
    "plt.legend()\n",
    "plt.show()"
   ]
  },
  {
   "cell_type": "code",
   "execution_count": 62,
   "id": "ecaf3ea7-b19e-4ded-8099-07537b3671d0",
   "metadata": {},
   "outputs": [
    {
     "data": {
      "image/png": "[encoded data removed]",
      "text/plain": [
       "<Figure size 640x480 with 1 Axes>"
      ]
     },
     "metadata": {},
     "output_type": "display_data"
    }
   ],
   "source": [
    "fig, ax = plt.subplots()\n",
    "\n",
    "# bkg\n",
    "utils.plot_bkg_1d(ax, bkg_histos, plot_dict, style_dict)"
   ]
  },
  {
   "cell_type": "code",
   "execution_count": null,
   "id": "165a54b3-88b9-474e-9fb0-8433267a9969",
   "metadata": {},
   "outputs": [],
   "source": []
  },
  {
   "cell_type": "markdown",
   "id": "e976aadc-3d7f-440d-af94-b109054dd4a5",
   "metadata": {},
   "source": [
    "### sel_vtx_vxy"
   ]
  },
  {
   "cell_type": "code",
   "execution_count": 63,
   "id": "0125d8e7-45b8-4e57-a002-96f82883c8e7",
   "metadata": {},
   "outputs": [
    {
     "data": {
      "image/png": "[encoded data removed]",
      "text/plain": [
       "<Figure size 640x480 with 1 Axes>"
      ]
     },
     "metadata": {},
     "output_type": "display_data"
    }
   ],
   "source": [
    "fig, ax = plt.subplots()\n",
    "\n",
    "# Plot settings\n",
    "plot_dict = {\n",
    "    'variable': 'sel_vtx_vxy',\n",
    "    'cut': 'cut9',\n",
    "}\n",
    "\n",
    "style_dict = {\n",
    "    'rebin': 10j,\n",
    "    'xlim': [0,20],     # if None, the default will show up; otherwise give as a list, i.e. [0, 10]\n",
    "    'doLogy': True, \n",
    "    'doLogx': False,\n",
    "    'doDensity': True,\n",
    "    'doYerr': False, \n",
    "    'xlabel': None,   # if None, the default will show up; otherwise give as a string, i.e. 'Electron dxy'\n",
    "    'ylabel': None,   # if None, the default will show up; otherwise give as a string, i.e. 'Efficiency'\n",
    "    'label': None,    # if None, the default will show up; otherwise give as a string, i.e. 'Highest ctau signal samples'\n",
    "    'flow': None,     # overflow\n",
    "}\n",
    "\n",
    "# signal points\n",
    "m1s = [5, 100]\n",
    "deltas = [0.2]\n",
    "ctaus = [1, 100]\n",
    "\n",
    "# Plot for variables signal points\n",
    "for m1 in m1s:\n",
    "    for delta in deltas:\n",
    "        for ctau in ctaus:\n",
    "            utils.plot_signal_1D(ax, sig_histo_best, m1, delta, ctau, plot_dict, style_dict)\n",
    "\n",
    "plt.title('Best-chi2 Vertex')\n",
    "plt.legend()\n",
    "plt.show()"
   ]
  },
  {
   "cell_type": "code",
   "execution_count": 64,
   "id": "1f86fd63-b700-491c-a2ab-7de30615881a",
   "metadata": {},
   "outputs": [
    {
     "data": {
      "image/png": "[encoded data removed]",
      "text/plain": [
       "<Figure size 640x480 with 1 Axes>"
      ]
     },
     "metadata": {},
     "output_type": "display_data"
    }
   ],
   "source": [
    "fig, ax = plt.subplots()\n",
    "\n",
    "# bkg\n",
    "utils.plot_bkg_1d(ax, bkg_histos, plot_dict, style_dict)"
   ]
  },
  {
   "cell_type": "code",
   "execution_count": null,
   "id": "79336b3d-e31e-4268-a599-33d1c5da23b6",
   "metadata": {},
   "outputs": [],
   "source": []
  },
  {
   "cell_type": "code",
   "execution_count": 65,
   "id": "7eceea24-5f63-4287-bd4b-5d421984b0da",
   "metadata": {},
   "outputs": [
    {
     "data": {
      "image/png": "[encoded data removed]",
      "text/plain": [
       "<Figure size 640x480 with 1 Axes>"
      ]
     },
     "metadata": {},
     "output_type": "display_data"
    }
   ],
   "source": [
    "fig, ax = plt.subplots()\n",
    "\n",
    "# Plot settings\n",
    "plot_dict = {\n",
    "    'variable': 'sel_vtx_vxy',\n",
    "    'cut': 'cut10',\n",
    "}\n",
    "\n",
    "style_dict = {\n",
    "    'rebin': 1j,\n",
    "    'xlim': [0,1],     # if None, the default will show up; otherwise give as a list, i.e. [0, 10]\n",
    "    'doLogy': True, \n",
    "    'doLogx': False,\n",
    "    'doDensity': True,\n",
    "    'doYerr': False, \n",
    "    'xlabel': None,   # if None, the default will show up; otherwise give as a string, i.e. 'Electron dxy'\n",
    "    'ylabel': None,   # if None, the default will show up; otherwise give as a string, i.e. 'Efficiency'\n",
    "    'label': None,    # if None, the default will show up; otherwise give as a string, i.e. 'Highest ctau signal samples'\n",
    "    'flow': None,     # overflow\n",
    "}\n",
    "\n",
    "# signal points\n",
    "m1s = [5, 100]\n",
    "deltas = [0.2]\n",
    "ctaus = [1, 100]\n",
    "\n",
    "# Plot for variables signal points\n",
    "for m1 in m1s:\n",
    "    for delta in deltas:\n",
    "        for ctau in ctaus:\n",
    "            utils.plot_signal_1D(ax, sig_histo_best, m1, delta, ctau, plot_dict, style_dict)\n",
    "\n",
    "plt.title('After BDT cut: Best-chi2 Vertex (purity = ~98%)')\n",
    "plt.legend()\n",
    "plt.show()"
   ]
  },
  {
   "cell_type": "code",
   "execution_count": 66,
   "id": "88a935f3-757c-49bf-b39f-6d4d61d64865",
   "metadata": {},
   "outputs": [
    {
     "data": {
      "image/png": "[encoded data removed]",
      "text/plain": [
       "<Figure size 640x480 with 1 Axes>"
      ]
     },
     "metadata": {},
     "output_type": "display_data"
    }
   ],
   "source": [
    "fig, ax = plt.subplots()\n",
    "\n",
    "# Plot settings\n",
    "plot_dict = {\n",
    "    'variable': 'sel_vtx_vxy',\n",
    "    'cut': 'cut10',\n",
    "}\n",
    "\n",
    "style_dict = {\n",
    "    'rebin': 1j,\n",
    "    'xlim': [0,1],     # if None, the default will show up; otherwise give as a list, i.e. [0, 10]\n",
    "    'doLogy': True, \n",
    "    'doLogx': False,\n",
    "    'doDensity': True,\n",
    "    'doYerr': False, \n",
    "    'xlabel': None,   # if None, the default will show up; otherwise give as a string, i.e. 'Electron dxy'\n",
    "    'ylabel': None,   # if None, the default will show up; otherwise give as a string, i.e. 'Efficiency'\n",
    "    'label': None,    # if None, the default will show up; otherwise give as a string, i.e. 'Highest ctau signal samples'\n",
    "    'flow': None,     # overflow\n",
    "}\n",
    "\n",
    "# bkg\n",
    "utils.plot_bkg_1d(ax, bkg_histos, plot_dict, style_dict, processes=['Top', 'W+jets', 'Z+jets', 'DY'])"
   ]
  },
  {
   "cell_type": "code",
   "execution_count": null,
   "id": "909392bb-2037-4f8d-82ff-5fb55aa5263f",
   "metadata": {},
   "outputs": [],
   "source": []
  },
  {
   "cell_type": "code",
   "execution_count": null,
   "id": "925e778f-bdb7-4bc7-9462-b4fd85fb46df",
   "metadata": {},
   "outputs": [],
   "source": []
  },
  {
   "cell_type": "code",
   "execution_count": null,
   "id": "787603c8-7b59-4ff0-8f30-baa79712e7a1",
   "metadata": {},
   "outputs": [],
   "source": []
  },
  {
   "cell_type": "markdown",
   "id": "30cf5f2e-9477-4ad1-93ca-8ae78171c4b2",
   "metadata": {},
   "source": [
    "### dxy1"
   ]
  },
  {
   "cell_type": "code",
   "execution_count": 67,
   "id": "9b83a011-8771-443b-9bb7-1d6f79170b08",
   "metadata": {},
   "outputs": [
    {
     "ename": "KeyError",
     "evalue": "\"'cut5' not in axis\"",
     "output_type": "error",
     "traceback": [
      "\u001b[0;31m---------------------------------------------------------------------------\u001b[0m",
      "\u001b[0;31mKeyError\u001b[0m                                  Traceback (most recent call last)",
      "Cell \u001b[0;32mIn[67], line 31\u001b[0m\n\u001b[1;32m     29\u001b[0m     \u001b[38;5;28;01mfor\u001b[39;00m delta \u001b[38;5;129;01min\u001b[39;00m deltas:\n\u001b[1;32m     30\u001b[0m         \u001b[38;5;28;01mfor\u001b[39;00m ctau \u001b[38;5;129;01min\u001b[39;00m ctaus:\n\u001b[0;32m---> 31\u001b[0m             \u001b[43mutils\u001b[49m\u001b[38;5;241;43m.\u001b[39;49m\u001b[43mplot_signal_1D\u001b[49m\u001b[43m(\u001b[49m\u001b[43max\u001b[49m\u001b[43m,\u001b[49m\u001b[43m \u001b[49m\u001b[43msig_histo_best\u001b[49m\u001b[43m,\u001b[49m\u001b[43m \u001b[49m\u001b[43mm1\u001b[49m\u001b[43m,\u001b[49m\u001b[43m \u001b[49m\u001b[43mdelta\u001b[49m\u001b[43m,\u001b[49m\u001b[43m \u001b[49m\u001b[43mctau\u001b[49m\u001b[43m,\u001b[49m\u001b[43m \u001b[49m\u001b[43mplot_dict\u001b[49m\u001b[43m,\u001b[49m\u001b[43m \u001b[49m\u001b[43mstyle_dict\u001b[49m\u001b[43m)\u001b[49m\n\u001b[1;32m     33\u001b[0m plt\u001b[38;5;241m.\u001b[39mtitle(\u001b[38;5;124m'\u001b[39m\u001b[38;5;124mBest-chi2 Vertex\u001b[39m\u001b[38;5;124m'\u001b[39m)\n\u001b[1;32m     34\u001b[0m plt\u001b[38;5;241m.\u001b[39mlegend()\n",
      "File \u001b[0;32m/uscms_data/d3/kyungmip/CMSSW_10_6_26/src/iDMe/python_analysis/studies/Purities_SRefficiencies/utils.py:217\u001b[0m, in \u001b[0;36mplot_signal_1D\u001b[0;34m(ax, sig_histo, m1, delta, ctau, plot_dict, style_dict)\u001b[0m\n\u001b[1;32m    214\u001b[0m     label \u001b[38;5;241m=\u001b[39m style_dict[\u001b[38;5;124m'\u001b[39m\u001b[38;5;124mlabel\u001b[39m\u001b[38;5;124m'\u001b[39m]\n\u001b[1;32m    216\u001b[0m \u001b[38;5;66;03m# get histogram from coffea output\u001b[39;00m\n\u001b[0;32m--> 217\u001b[0m histo \u001b[38;5;241m=\u001b[39m \u001b[43msig_histo\u001b[49m\u001b[43m[\u001b[49m\u001b[43mplot_dict\u001b[49m\u001b[43m[\u001b[49m\u001b[38;5;124;43m'\u001b[39;49m\u001b[38;5;124;43mvariable\u001b[39;49m\u001b[38;5;124;43m'\u001b[39;49m\u001b[43m]\u001b[49m\u001b[43m]\u001b[49m\u001b[43m[\u001b[49m\u001b[43m{\u001b[49m\u001b[38;5;124;43m\"\u001b[39;49m\u001b[38;5;124;43msamp\u001b[39;49m\u001b[38;5;124;43m\"\u001b[39;49m\u001b[43m:\u001b[49m\u001b[43msamp\u001b[49m\u001b[43m,\u001b[49m\u001b[43m \u001b[49m\u001b[38;5;124;43m\"\u001b[39;49m\u001b[38;5;124;43mcut\u001b[39;49m\u001b[38;5;124;43m\"\u001b[39;49m\u001b[43m:\u001b[49m\u001b[43m \u001b[49m\u001b[43mplot_dict\u001b[49m\u001b[43m[\u001b[49m\u001b[38;5;124;43m'\u001b[39;49m\u001b[38;5;124;43mcut\u001b[39;49m\u001b[38;5;124;43m'\u001b[39;49m\u001b[43m]\u001b[49m\u001b[43m}\u001b[49m\u001b[43m]\u001b[49m\n\u001b[1;32m    219\u001b[0m \u001b[38;5;66;03m# rebinning\u001b[39;00m\n\u001b[1;32m    220\u001b[0m histo \u001b[38;5;241m=\u001b[39m histo[::style_dict[\u001b[38;5;124m'\u001b[39m\u001b[38;5;124mrebin\u001b[39m\u001b[38;5;124m'\u001b[39m]]\n",
      "File \u001b[0;32m~/nobackup/miniconda3/envs/coffea/lib/python3.8/site-packages/hist/basehist.py:324\u001b[0m, in \u001b[0;36mBaseHist.__getitem__\u001b[0;34m(self, index)\u001b[0m\n\u001b[1;32m    317\u001b[0m \u001b[38;5;28;01mdef\u001b[39;00m \u001b[38;5;21m__getitem__\u001b[39m(  \u001b[38;5;66;03m# type: ignore[override]\u001b[39;00m\n\u001b[1;32m    318\u001b[0m     \u001b[38;5;28mself\u001b[39m: T, index: IndexingExpr\n\u001b[1;32m    319\u001b[0m ) \u001b[38;5;241m-\u001b[39m\u001b[38;5;241m>\u001b[39m T \u001b[38;5;241m|\u001b[39m \u001b[38;5;28mfloat\u001b[39m \u001b[38;5;241m|\u001b[39m bh\u001b[38;5;241m.\u001b[39maccumulators\u001b[38;5;241m.\u001b[39mAccumulator:\n\u001b[1;32m    320\u001b[0m \u001b[38;5;250m    \u001b[39m\u001b[38;5;124;03m\"\"\"\u001b[39;00m\n\u001b[1;32m    321\u001b[0m \u001b[38;5;124;03m    Get histogram item.\u001b[39;00m\n\u001b[1;32m    322\u001b[0m \u001b[38;5;124;03m    \"\"\"\u001b[39;00m\n\u001b[0;32m--> 324\u001b[0m     \u001b[38;5;28;01mreturn\u001b[39;00m \u001b[38;5;28;43msuper\u001b[39;49m\u001b[43m(\u001b[49m\u001b[43m)\u001b[49m\u001b[38;5;241;43m.\u001b[39;49m\u001b[38;5;21;43m__getitem__\u001b[39;49m\u001b[43m(\u001b[49m\u001b[38;5;28;43mself\u001b[39;49m\u001b[38;5;241;43m.\u001b[39;49m\u001b[43m_index_transform\u001b[49m\u001b[43m(\u001b[49m\u001b[43mindex\u001b[49m\u001b[43m)\u001b[49m\u001b[43m)\u001b[49m\n",
      "File \u001b[0;32m~/nobackup/miniconda3/envs/coffea/lib/python3.8/site-packages/boost_histogram/_internal/hist.py:842\u001b[0m, in \u001b[0;36mHistogram.__getitem__\u001b[0;34m(self, index)\u001b[0m\n\u001b[1;32m    838\u001b[0m \u001b[38;5;28;01mdef\u001b[39;00m \u001b[38;5;21m__getitem__\u001b[39m(  \u001b[38;5;66;03m# noqa: C901\u001b[39;00m\n\u001b[1;32m    839\u001b[0m     \u001b[38;5;28mself\u001b[39m: H, index: IndexingExpr\n\u001b[1;32m    840\u001b[0m ) \u001b[38;5;241m-\u001b[39m\u001b[38;5;241m>\u001b[39m Union[H, \u001b[38;5;28mfloat\u001b[39m, Accumulator]:\n\u001b[0;32m--> 842\u001b[0m     indexes \u001b[38;5;241m=\u001b[39m \u001b[38;5;28;43mself\u001b[39;49m\u001b[38;5;241;43m.\u001b[39;49m\u001b[43m_compute_commonindex\u001b[49m\u001b[43m(\u001b[49m\u001b[43mindex\u001b[49m\u001b[43m)\u001b[49m\n\u001b[1;32m    844\u001b[0m     \u001b[38;5;66;03m# If this is (now) all integers, return the bin contents\u001b[39;00m\n\u001b[1;32m    845\u001b[0m     \u001b[38;5;66;03m# But don't try *dict!\u001b[39;00m\n\u001b[1;32m    846\u001b[0m     \u001b[38;5;28;01mif\u001b[39;00m \u001b[38;5;129;01mnot\u001b[39;00m \u001b[38;5;28mhasattr\u001b[39m(indexes, \u001b[38;5;124m\"\u001b[39m\u001b[38;5;124mitems\u001b[39m\u001b[38;5;124m\"\u001b[39m) \u001b[38;5;129;01mand\u001b[39;00m \u001b[38;5;28mall\u001b[39m(\n\u001b[1;32m    847\u001b[0m         \u001b[38;5;28misinstance\u001b[39m(a, SupportsIndex) \u001b[38;5;28;01mfor\u001b[39;00m a \u001b[38;5;129;01min\u001b[39;00m indexes\n\u001b[1;32m    848\u001b[0m     ):\n",
      "File \u001b[0;32m~/nobackup/miniconda3/envs/coffea/lib/python3.8/site-packages/boost_histogram/_internal/hist.py:750\u001b[0m, in \u001b[0;36mHistogram._compute_commonindex\u001b[0;34m(self, index)\u001b[0m\n\u001b[1;32m    748\u001b[0m         indexes[i] \u001b[38;5;241m=\u001b[39m [\u001b[38;5;28mself\u001b[39m\u001b[38;5;241m.\u001b[39m_compute_uhi_index(ind, i) \u001b[38;5;28;01mfor\u001b[39;00m ind \u001b[38;5;129;01min\u001b[39;00m indexes[i]]\n\u001b[1;32m    749\u001b[0m     \u001b[38;5;28;01melse\u001b[39;00m:\n\u001b[0;32m--> 750\u001b[0m         indexes[i] \u001b[38;5;241m=\u001b[39m \u001b[38;5;28;43mself\u001b[39;49m\u001b[38;5;241;43m.\u001b[39;49m\u001b[43m_compute_uhi_index\u001b[49m\u001b[43m(\u001b[49m\u001b[43mindexes\u001b[49m\u001b[43m[\u001b[49m\u001b[43mi\u001b[49m\u001b[43m]\u001b[49m\u001b[43m,\u001b[49m\u001b[43m \u001b[49m\u001b[43mi\u001b[49m\u001b[43m)\u001b[49m\n\u001b[1;32m    752\u001b[0m \u001b[38;5;28;01mreturn\u001b[39;00m indexes\n",
      "File \u001b[0;32m~/nobackup/miniconda3/envs/coffea/lib/python3.8/site-packages/boost_histogram/_internal/hist.py:702\u001b[0m, in \u001b[0;36mHistogram._compute_uhi_index\u001b[0;34m(self, index, axis)\u001b[0m\n\u001b[1;32m    698\u001b[0m \u001b[38;5;66;03m# General locators\u001b[39;00m\n\u001b[1;32m    699\u001b[0m \u001b[38;5;66;03m# Note that MyPy doesn't like these very much - the fix\u001b[39;00m\n\u001b[1;32m    700\u001b[0m \u001b[38;5;66;03m# will be to properly set input types\u001b[39;00m\n\u001b[1;32m    701\u001b[0m \u001b[38;5;28;01mif\u001b[39;00m \u001b[38;5;28mcallable\u001b[39m(index):\n\u001b[0;32m--> 702\u001b[0m     \u001b[38;5;28;01mreturn\u001b[39;00m \u001b[43mindex\u001b[49m\u001b[43m(\u001b[49m\u001b[38;5;28;43mself\u001b[39;49m\u001b[38;5;241;43m.\u001b[39;49m\u001b[43maxes\u001b[49m\u001b[43m[\u001b[49m\u001b[43maxis\u001b[49m\u001b[43m]\u001b[49m\u001b[43m)\u001b[49m\n\u001b[1;32m    704\u001b[0m \u001b[38;5;28;01mif\u001b[39;00m \u001b[38;5;28misinstance\u001b[39m(index, \u001b[38;5;28mfloat\u001b[39m):  \u001b[38;5;66;03m# type: ignore[unreachable]\u001b[39;00m\n\u001b[1;32m    705\u001b[0m     \u001b[38;5;28;01mraise\u001b[39;00m \u001b[38;5;167;01mTypeError\u001b[39;00m(\u001b[38;5;124mf\u001b[39m\u001b[38;5;124m\"\u001b[39m\u001b[38;5;124mIndex \u001b[39m\u001b[38;5;132;01m{\u001b[39;00mindex\u001b[38;5;132;01m}\u001b[39;00m\u001b[38;5;124m must be an integer, not float\u001b[39m\u001b[38;5;124m\"\u001b[39m)\n",
      "File \u001b[0;32m~/nobackup/miniconda3/envs/coffea/lib/python3.8/site-packages/boost_histogram/tag.py:73\u001b[0m, in \u001b[0;36mloc.__call__\u001b[0;34m(self, axis)\u001b[0m\n\u001b[1;32m     72\u001b[0m \u001b[38;5;28;01mdef\u001b[39;00m \u001b[38;5;21m__call__\u001b[39m(\u001b[38;5;28mself\u001b[39m, axis: AxisLike) \u001b[38;5;241m-\u001b[39m\u001b[38;5;241m>\u001b[39m \u001b[38;5;28mint\u001b[39m:\n\u001b[0;32m---> 73\u001b[0m     \u001b[38;5;28;01mreturn\u001b[39;00m \u001b[43maxis\u001b[49m\u001b[38;5;241;43m.\u001b[39;49m\u001b[43mindex\u001b[49m\u001b[43m(\u001b[49m\u001b[38;5;28;43mself\u001b[39;49m\u001b[38;5;241;43m.\u001b[39;49m\u001b[43mvalue\u001b[49m\u001b[43m)\u001b[49m \u001b[38;5;241m+\u001b[39m \u001b[38;5;28mself\u001b[39m\u001b[38;5;241m.\u001b[39moffset\n",
      "File \u001b[0;32m~/nobackup/miniconda3/envs/coffea/lib/python3.8/site-packages/boost_histogram/_internal/axis.py:669\u001b[0m, in \u001b[0;36mStrCategory.index\u001b[0;34m(self, value)\u001b[0m\n\u001b[1;32m    664\u001b[0m \u001b[38;5;250m\u001b[39m\u001b[38;5;124;03m\"\"\"\u001b[39;00m\n\u001b[1;32m    665\u001b[0m \u001b[38;5;124;03mReturn the fractional index(es) given a value (or values) on the axis.\u001b[39;00m\n\u001b[1;32m    666\u001b[0m \u001b[38;5;124;03m\"\"\"\u001b[39;00m\n\u001b[1;32m    668\u001b[0m \u001b[38;5;28;01mif\u001b[39;00m _isstr(value):\n\u001b[0;32m--> 669\u001b[0m     \u001b[38;5;28;01mreturn\u001b[39;00m \u001b[38;5;28;43mself\u001b[39;49m\u001b[38;5;241;43m.\u001b[39;49m\u001b[43m_ax\u001b[49m\u001b[38;5;241;43m.\u001b[39;49m\u001b[43mindex\u001b[49m\u001b[43m(\u001b[49m\u001b[43mvalue\u001b[49m\u001b[43m)\u001b[49m  \u001b[38;5;66;03m# type: ignore[no-any-return]\u001b[39;00m\n\u001b[1;32m    671\u001b[0m msg \u001b[38;5;241m=\u001b[39m \u001b[38;5;124mf\u001b[39m\u001b[38;5;124m\"\u001b[39m\u001b[38;5;124mindex(\u001b[39m\u001b[38;5;132;01m{\u001b[39;00mvalue\u001b[38;5;132;01m}\u001b[39;00m\u001b[38;5;124m) must be a string or iterable of strings for a StrCategory axis\u001b[39m\u001b[38;5;124m\"\u001b[39m\n\u001b[1;32m    672\u001b[0m \u001b[38;5;28;01mraise\u001b[39;00m \u001b[38;5;167;01mTypeError\u001b[39;00m(msg)\n",
      "\u001b[0;31mKeyError\u001b[0m: \"'cut5' not in axis\""
     ]
    },
    {
     "data": {
      "image/png": "[encoded data removed]",
      "text/plain": [
       "<Figure size 640x480 with 1 Axes>"
      ]
     },
     "metadata": {},
     "output_type": "display_data"
    }
   ],
   "source": [
    "fig, ax = plt.subplots()\n",
    "\n",
    "# Plot settings\n",
    "plot_dict = {\n",
    "    'variable': 'sel_vtx_dxy1',\n",
    "    'cut': 'cut5',\n",
    "}\n",
    "\n",
    "style_dict = {\n",
    "    'rebin': 5j,\n",
    "    'xlim': [0,0.5],     # if None, the default will show up; otherwise give as a list, i.e. [0, 10]\n",
    "    'doLogy': True, \n",
    "    'doLogx': False,\n",
    "    'doDensity': True,\n",
    "    'doYerr': False, \n",
    "    'xlabel': 'dxy(e1)',   # if None, the default will show up; otherwise give as a string, i.e. 'Electron dxy'\n",
    "    'ylabel': None,   # if None, the default will show up; otherwise give as a string, i.e. 'Efficiency'\n",
    "    'label': None,    # if None, the default will show up; otherwise give as a string, i.e. 'Highest ctau signal samples'\n",
    "    'flow': None,     # overflow\n",
    "}\n",
    "\n",
    "# signal points\n",
    "m1s = [5, 100]\n",
    "deltas = [0.2]\n",
    "ctaus = [1, 100]\n",
    "\n",
    "# Plot for variables signal points\n",
    "for m1 in m1s:\n",
    "    for delta in deltas:\n",
    "        for ctau in ctaus:\n",
    "            utils.plot_signal_1D(ax, sig_histo_best, m1, delta, ctau, plot_dict, style_dict)\n",
    "\n",
    "plt.title('Best-chi2 Vertex')\n",
    "plt.legend()\n",
    "plt.show()"
   ]
  },
  {
   "cell_type": "code",
   "execution_count": null,
   "id": "5b9a641e-81b7-4c38-9107-b4e5ee0c4fe4",
   "metadata": {},
   "outputs": [],
   "source": [
    "fig, ax = plt.subplots()\n",
    "\n",
    "# bkg\n",
    "utils.plot_bkg_1d(ax, bkg_histos, plot_dict, style_dict)"
   ]
  },
  {
   "cell_type": "code",
   "execution_count": null,
   "id": "b1236e67-7a24-48d1-8888-50a7c2eab72f",
   "metadata": {},
   "outputs": [],
   "source": [
    "fig, ax = plt.subplots()\n",
    "\n",
    "# Plot settings\n",
    "plot_dict = {\n",
    "    'variable': 'sel_vtx_dxy2',\n",
    "    'cut': 'cut5',\n",
    "}\n",
    "\n",
    "style_dict = {\n",
    "    'rebin': 5j,\n",
    "    'xlim': [0,0.5],     # if None, the default will show up; otherwise give as a list, i.e. [0, 10]\n",
    "    'doLogy': True, \n",
    "    'doLogx': False,\n",
    "    'doDensity': True,\n",
    "    'doYerr': False, \n",
    "    'xlabel': 'dxy(e2)',   # if None, the default will show up; otherwise give as a string, i.e. 'Electron dxy'\n",
    "    'ylabel': None,   # if None, the default will show up; otherwise give as a string, i.e. 'Efficiency'\n",
    "    'label': None,    # if None, the default will show up; otherwise give as a string, i.e. 'Highest ctau signal samples'\n",
    "    'flow': None,     # overflow\n",
    "}\n",
    "\n",
    "# signal points\n",
    "m1s = [5, 100]\n",
    "deltas = [0.2]\n",
    "ctaus = [1, 100]\n",
    "\n",
    "# Plot for variables signal points\n",
    "for m1 in m1s:\n",
    "    for delta in deltas:\n",
    "        for ctau in ctaus:\n",
    "            utils.plot_signal_1D(ax, sig_histo_best, m1, delta, ctau, plot_dict, style_dict)\n",
    "\n",
    "plt.title('Best-chi2 Vertex')\n",
    "plt.legend()\n",
    "plt.show()"
   ]
  },
  {
   "cell_type": "code",
   "execution_count": null,
   "id": "54e85ad9-a05f-4a33-819e-05a4145f0d13",
   "metadata": {},
   "outputs": [],
   "source": [
    "fig, ax = plt.subplots()\n",
    "\n",
    "# bkg\n",
    "utils.plot_bkg_1d(ax, bkg_histos, plot_dict, style_dict)"
   ]
  },
  {
   "cell_type": "code",
   "execution_count": null,
   "id": "9851b385-0b9b-4ca6-9af1-872ea83e93dc",
   "metadata": {},
   "outputs": [],
   "source": []
  },
  {
   "cell_type": "code",
   "execution_count": null,
   "id": "59760dea-51e2-4b18-b6aa-fd1a181d08f2",
   "metadata": {},
   "outputs": [],
   "source": [
    "# Plot settings\n",
    "plot_dict = {\n",
    "    'variable': 'dxy1_vs_dxy2',\n",
    "    'cut': 'cut5',\n",
    "}\n",
    "\n",
    "style_2d_dict = {\n",
    "    'doLogy': False, \n",
    "    'doLogx': False,\n",
    "    'doLogz': True,\n",
    "    'xlabel': 'dxy(e1)',   # if None, the default will show up; otherwise give as a string, i.e. 'Electron dxy'\n",
    "    'ylabel': 'dxy(e2)',   # if None, the default will show up; otherwise give as a string, i.e. 'Efficiency'\n",
    "    'flow': None,     # overflow\n",
    "}\n",
    "\n",
    "m1s = [5, 100]\n",
    "deltas = [0.1]\n",
    "ctaus = [1, 100]\n",
    "\n",
    "for m1 in m1s:\n",
    "    for delta in deltas:\n",
    "        for ctau in ctaus:\n",
    "            fig, ax = plt.subplots()\n",
    "\n",
    "            utils.plot_signal_2D(ax, sig_histo_best, m1, delta, ctau, plot_dict, style_2d_dict)\n",
    "        \n",
    "            plt.title(f'm1 = {m1}GeV, delta = {delta}, ctau = {ctau}mm')\n",
    "            plt.show()"
   ]
  },
  {
   "cell_type": "code",
   "execution_count": null,
   "id": "8e98a55f-7152-42c7-a86a-14c7ff39f21e",
   "metadata": {},
   "outputs": [],
   "source": []
  },
  {
   "cell_type": "markdown",
   "id": "f6e99999-cd13-494d-9c71-42894e95f538",
   "metadata": {},
   "source": [
    "### sel_vtx_minDxy"
   ]
  },
  {
   "cell_type": "code",
   "execution_count": null,
   "id": "96a7b99f-2a11-4475-9756-da6c0e70f010",
   "metadata": {},
   "outputs": [],
   "source": [
    "fig, ax = plt.subplots()\n",
    "\n",
    "# Plot settings\n",
    "plot_dict = {\n",
    "    'variable': 'sel_vtx_minDxy',\n",
    "    'cut': 'cut9',\n",
    "}\n",
    "\n",
    "style_dict = {\n",
    "    'rebin': 5j,\n",
    "    'xlim': [0,0.5],     # if None, the default will show up; otherwise give as a list, i.e. [0, 10]\n",
    "    'doLogy': True, \n",
    "    'doLogx': False,\n",
    "    'doDensity': True,\n",
    "    'doYerr': False, \n",
    "    'xlabel': None,   # if None, the default will show up; otherwise give as a string, i.e. 'Electron dxy'\n",
    "    'ylabel': None,   # if None, the default will show up; otherwise give as a string, i.e. 'Efficiency'\n",
    "    'label': None,    # if None, the default will show up; otherwise give as a string, i.e. 'Highest ctau signal samples'\n",
    "    'flow': None,     # overflow\n",
    "}\n",
    "\n",
    "# signal points\n",
    "m1s = [5, 100]\n",
    "deltas = [0.2]\n",
    "ctaus = [1, 100]\n",
    "\n",
    "# Plot for variables signal points\n",
    "for m1 in m1s:\n",
    "    for delta in deltas:\n",
    "        for ctau in ctaus:\n",
    "            utils.plot_signal_1D(ax, sig_histo_best, m1, delta, ctau, plot_dict, style_dict)\n",
    "\n",
    "plt.title('Best-chi2 Vertex')\n",
    "plt.legend()\n",
    "plt.show()"
   ]
  },
  {
   "cell_type": "code",
   "execution_count": null,
   "id": "1fa55db0-7d71-479b-9389-eff3429dc192",
   "metadata": {},
   "outputs": [],
   "source": []
  },
  {
   "cell_type": "code",
   "execution_count": null,
   "id": "3f3cf0bc-b764-4a86-9c61-91c6ee810658",
   "metadata": {},
   "outputs": [],
   "source": [
    "fig, ax = plt.subplots()\n",
    "\n",
    "# bkg\n",
    "utils.plot_bkg_1d(ax, bkg_histos, plot_dict, style_dict)"
   ]
  },
  {
   "cell_type": "code",
   "execution_count": null,
   "id": "de439565-505b-47fb-a945-698b7ca99191",
   "metadata": {},
   "outputs": [],
   "source": [
    "fig, ax = plt.subplots()\n",
    "\n",
    "# Plot settings\n",
    "plot_dict = {\n",
    "    'variable': 'sel_vtx_minDxy',\n",
    "    'cut': 'cut10',\n",
    "}\n",
    "\n",
    "style_dict = {\n",
    "    'rebin': 5j,\n",
    "    'xlim': [0,0.5],     # if None, the default will show up; otherwise give as a list, i.e. [0, 10]\n",
    "    'doLogy': True, \n",
    "    'doLogx': False,\n",
    "    'doDensity': True,\n",
    "    'doYerr': False, \n",
    "    'xlabel': None,   # if None, the default will show up; otherwise give as a string, i.e. 'Electron dxy'\n",
    "    'ylabel': None,   # if None, the default will show up; otherwise give as a string, i.e. 'Efficiency'\n",
    "    'label': None,    # if None, the default will show up; otherwise give as a string, i.e. 'Highest ctau signal samples'\n",
    "    'flow': None,     # overflow\n",
    "}\n",
    "\n",
    "# signal points\n",
    "m1s = [5, 100]\n",
    "deltas = [0.2]\n",
    "ctaus = [1, 100]\n",
    "\n",
    "# Plot for variables signal points\n",
    "for m1 in m1s:\n",
    "    for delta in deltas:\n",
    "        for ctau in ctaus:\n",
    "            utils.plot_signal_1D(ax, sig_histo_best, m1, delta, ctau, plot_dict, style_dict)\n",
    "\n",
    "plt.title('After BDT cut: Best-chi2 Vertex (purity = ~98%)')\n",
    "plt.legend()\n",
    "plt.show()"
   ]
  },
  {
   "cell_type": "code",
   "execution_count": null,
   "id": "ee15913d-adde-4a6b-9a99-24aad2ca99fd",
   "metadata": {},
   "outputs": [],
   "source": [
    "fig, ax = plt.subplots()\n",
    "\n",
    "# Plot settings\n",
    "plot_dict = {\n",
    "    'variable': 'sel_vtx_minDxy',\n",
    "    'cut': 'cut10',\n",
    "}\n",
    "\n",
    "style_dict = {\n",
    "    'rebin': 5j,\n",
    "    'xlim': [0,0.5],     # if None, the default will show up; otherwise give as a list, i.e. [0, 10]\n",
    "    'doLogy': True, \n",
    "    'doLogx': False,\n",
    "    'doDensity': True,\n",
    "    'doYerr': False, \n",
    "    'xlabel': None,   # if None, the default will show up; otherwise give as a string, i.e. 'Electron dxy'\n",
    "    'ylabel': None,   # if None, the default will show up; otherwise give as a string, i.e. 'Efficiency'\n",
    "    'label': None,    # if None, the default will show up; otherwise give as a string, i.e. 'Highest ctau signal samples'\n",
    "    'flow': None,     # overflow\n",
    "}\n",
    "\n",
    "# bkg\n",
    "utils.plot_bkg_1d(ax, bkg_histos, plot_dict, style_dict, processes=['Top', 'W+jets', 'Z+jets', 'DY', 'Diboson'])"
   ]
  },
  {
   "cell_type": "code",
   "execution_count": null,
   "id": "4fbf0600-61bb-4960-b0f0-212c269d3dd9",
   "metadata": {},
   "outputs": [],
   "source": []
  },
  {
   "cell_type": "markdown",
   "id": "202bd8e9-0b7c-43c5-8f1c-540719254f23",
   "metadata": {},
   "source": [
    "### sel_vtx_minDz"
   ]
  },
  {
   "cell_type": "code",
   "execution_count": null,
   "id": "f6a23f1c-709c-4e62-9f1f-2adfd95d5ac3",
   "metadata": {},
   "outputs": [],
   "source": [
    "fig, ax = plt.subplots()\n",
    "\n",
    "# Plot settings\n",
    "plot_dict = {\n",
    "    'variable': 'sel_vtx_minDz',\n",
    "    'cut': 'cut9',\n",
    "}\n",
    "\n",
    "style_dict = {\n",
    "    'rebin': 5j,\n",
    "    'xlim': [0,0.5],     # if None, the default will show up; otherwise give as a list, i.e. [0, 10]\n",
    "    'doLogy': False, \n",
    "    'doLogx': False,\n",
    "    'doDensity': True,\n",
    "    'doYerr': False, \n",
    "    'xlabel': None,   # if None, the default will show up; otherwise give as a string, i.e. 'Electron dxy'\n",
    "    'ylabel': None,   # if None, the default will show up; otherwise give as a string, i.e. 'Efficiency'\n",
    "    'label': None,    # if None, the default will show up; otherwise give as a string, i.e. 'Highest ctau signal samples'\n",
    "    'flow': None,     # overflow\n",
    "}\n",
    "\n",
    "# signal points\n",
    "m1s = [5, 100]\n",
    "deltas = [0.2]\n",
    "ctaus = [1, 100]\n",
    "\n",
    "# Plot for variables signal points\n",
    "for m1 in m1s:\n",
    "    for delta in deltas:\n",
    "        for ctau in ctaus:\n",
    "            utils.plot_signal_1D(ax, sig_histo_best, m1, delta, ctau, plot_dict, style_dict)\n",
    "\n",
    "plt.title('Best chi2 Vertex')\n",
    "plt.legend()\n",
    "plt.show()"
   ]
  },
  {
   "cell_type": "code",
   "execution_count": null,
   "id": "6ff365b1-ad5b-4c10-8acf-cd2cd3ce5b7a",
   "metadata": {},
   "outputs": [],
   "source": [
    "fig, ax = plt.subplots()\n",
    "\n",
    "# bkg\n",
    "utils.plot_bkg_1d(ax, bkg_histos, plot_dict, style_dict)"
   ]
  },
  {
   "cell_type": "markdown",
   "id": "82d251e1-1e1b-4d2c-8364-3b7c9f82a730",
   "metadata": {
    "jp-MarkdownHeadingCollapsed": true
   },
   "source": [
    "### sel_vtx_deltaDxy"
   ]
  },
  {
   "cell_type": "code",
   "execution_count": null,
   "id": "15616ae2-a7fb-44dd-8413-f0f6cd143d4d",
   "metadata": {},
   "outputs": [],
   "source": [
    "fig, ax = plt.subplots()\n",
    "\n",
    "# Plot settings\n",
    "plot_dict = {\n",
    "    'variable': 'sel_vtx_deltaDxy',\n",
    "    'cut': 'cut9',\n",
    "}\n",
    "\n",
    "style_dict = {\n",
    "    'rebin': 5j,\n",
    "    'xlim': [0,0.5],     # if None, the default will show up; otherwise give as a list, i.e. [0, 10]\n",
    "    'doLogy': False, \n",
    "    'doLogx': False,\n",
    "    'doDensity': True,\n",
    "    'doYerr': False, \n",
    "    'xlabel': r'$\\Delta |dxy|(e_{1},e_{2})$',   # if None, the default will show up; otherwise give as a string, i.e. 'Electron dxy'\n",
    "    'ylabel': None,   # if None, the default will show up; otherwise give as a string, i.e. 'Efficiency'\n",
    "    'label': None,    # if None, the default will show up; otherwise give as a string, i.e. 'Highest ctau signal samples'\n",
    "    'flow': None,     # overflow\n",
    "}\n",
    "\n",
    "# signal points\n",
    "m1s = [5, 100]\n",
    "deltas = [0.2]\n",
    "ctaus = [1, 100]\n",
    "\n",
    "# Plot for variables signal points\n",
    "for m1 in m1s:\n",
    "    for delta in deltas:\n",
    "        for ctau in ctaus:\n",
    "            utils.plot_signal_1D(ax, sig_histo_best, m1, delta, ctau, plot_dict, style_dict)\n",
    "\n",
    "plt.title('Best chi2 Vertex')\n",
    "plt.legend()\n",
    "plt.show()"
   ]
  },
  {
   "cell_type": "code",
   "execution_count": null,
   "id": "e22e14cf-fa4c-4adb-a04f-7f567959a4d5",
   "metadata": {},
   "outputs": [],
   "source": [
    "fig, ax = plt.subplots()\n",
    "\n",
    "# bkg\n",
    "utils.plot_bkg_1d(ax, bkg_histos, plot_dict, style_dict)"
   ]
  },
  {
   "cell_type": "markdown",
   "id": "bf173ac2-87d7-4224-959d-a4370ed096d5",
   "metadata": {
    "jp-MarkdownHeadingCollapsed": true
   },
   "source": [
    "### sel_vtx_deltaDz"
   ]
  },
  {
   "cell_type": "code",
   "execution_count": null,
   "id": "ee93855d-a045-40ee-a4a0-7d1058887625",
   "metadata": {},
   "outputs": [],
   "source": [
    "fig, ax = plt.subplots()\n",
    "\n",
    "# Plot settings\n",
    "plot_dict = {\n",
    "    'variable': 'sel_vtx_deltaDz',\n",
    "    'cut': 'cut9',\n",
    "}\n",
    "\n",
    "style_dict = {\n",
    "    'rebin': 5j,\n",
    "    'xlim': [0,0.5],     # if None, the default will show up; otherwise give as a list, i.e. [0, 10]\n",
    "    'doLogy': False, \n",
    "    'doLogx': False,\n",
    "    'doDensity': True,\n",
    "    'doYerr': False, \n",
    "    'xlabel': r'$\\Delta |dz|(e_{1},e_{2})$',   # if None, the default will show up; otherwise give as a string, i.e. 'Electron dxy'\n",
    "    'ylabel': None,   # if None, the default will show up; otherwise give as a string, i.e. 'Efficiency'\n",
    "    'label': None,    # if None, the default will show up; otherwise give as a string, i.e. 'Highest ctau signal samples'\n",
    "    'flow': None,     # overflow\n",
    "}\n",
    "\n",
    "# signal points\n",
    "m1s = [5, 100]\n",
    "deltas = [0.2]\n",
    "ctaus = [1, 100]\n",
    "\n",
    "# Plot for variables signal points\n",
    "for m1 in m1s:\n",
    "    for delta in deltas:\n",
    "        for ctau in ctaus:\n",
    "            utils.plot_signal_1D(ax, sig_histo_best, m1, delta, ctau, plot_dict, style_dict)\n",
    "\n",
    "plt.title('Best chi2 Vertex')\n",
    "plt.legend()\n",
    "plt.show()"
   ]
  },
  {
   "cell_type": "code",
   "execution_count": null,
   "id": "3d4234c4-a5f9-4d1d-aefa-5482a85df62e",
   "metadata": {},
   "outputs": [],
   "source": [
    "fig, ax = plt.subplots()\n",
    "\n",
    "# bkg\n",
    "utils.plot_bkg_1d(ax, bkg_histos, plot_dict, style_dict)"
   ]
  },
  {
   "cell_type": "markdown",
   "id": "ac67c4a7-efc4-4a14-aea6-55b934e7e580",
   "metadata": {},
   "source": [
    "### sel_vtx_vxySignif"
   ]
  },
  {
   "cell_type": "code",
   "execution_count": null,
   "id": "1463f7aa-4799-4d2a-b9f4-0b9d11019222",
   "metadata": {},
   "outputs": [],
   "source": [
    "fig, ax = plt.subplots()\n",
    "\n",
    "# Plot settings\n",
    "plot_dict = {\n",
    "    'variable': 'sel_vtx_vxySignif',\n",
    "    'cut': 'cut9',\n",
    "}\n",
    "\n",
    "style_dict = {\n",
    "    'rebin': 2j,\n",
    "    'xlim': None,     # if None, the default will show up; otherwise give as a list, i.e. [0, 10]\n",
    "    'doLogy': False, \n",
    "    'doLogx': False,\n",
    "    'doDensity': True,\n",
    "    'doYerr': False, \n",
    "    'xlabel': None,   # if None, the default will show up; otherwise give as a string, i.e. 'Electron dxy'\n",
    "    'ylabel': None,   # if None, the default will show up; otherwise give as a string, i.e. 'Efficiency'\n",
    "    'label': None,    # if None, the default will show up; otherwise give as a string, i.e. 'Highest ctau signal samples'\n",
    "    'flow': None,     # overflow\n",
    "}\n",
    "\n",
    "# signal points\n",
    "m1s = [5, 100]\n",
    "deltas = [0.2]\n",
    "ctaus = [1, 100]\n",
    "\n",
    "# Plot for variables signal points\n",
    "for m1 in m1s:\n",
    "    for delta in deltas:\n",
    "        for ctau in ctaus:\n",
    "            utils.plot_signal_1D(ax, sig_histo_best, m1, delta, ctau, plot_dict, style_dict)\n",
    "\n",
    "plt.title('Best chi2 Vertex')\n",
    "plt.legend()\n",
    "plt.show()"
   ]
  },
  {
   "cell_type": "code",
   "execution_count": null,
   "id": "97c8da57-779b-4f03-842b-713567ea1166",
   "metadata": {},
   "outputs": [],
   "source": [
    "fig, ax = plt.subplots()\n",
    "\n",
    "# bkg\n",
    "utils.plot_bkg_1d(ax, bkg_histos, plot_dict, style_dict)"
   ]
  },
  {
   "cell_type": "code",
   "execution_count": null,
   "id": "30eabad1-b01b-4180-8e2c-11049970c23e",
   "metadata": {},
   "outputs": [],
   "source": [
    "fig, ax = plt.subplots()\n",
    "\n",
    "# Plot settings\n",
    "plot_dict = {\n",
    "    'variable': 'sel_vtx_vxySignif',\n",
    "    'cut': 'cut10',\n",
    "}\n",
    "\n",
    "style_dict = {\n",
    "    'rebin': 2j,\n",
    "    'xlim': None,     # if None, the default will show up; otherwise give as a list, i.e. [0, 10]\n",
    "    'doLogy': False, \n",
    "    'doLogx': False,\n",
    "    'doDensity': True,\n",
    "    'doYerr': False, \n",
    "    'xlabel': None,   # if None, the default will show up; otherwise give as a string, i.e. 'Electron dxy'\n",
    "    'ylabel': None,   # if None, the default will show up; otherwise give as a string, i.e. 'Efficiency'\n",
    "    'label': None,    # if None, the default will show up; otherwise give as a string, i.e. 'Highest ctau signal samples'\n",
    "    'flow': None,     # overflow\n",
    "}\n",
    "\n",
    "# signal points\n",
    "m1s = [5, 100]\n",
    "deltas = [0.2]\n",
    "ctaus = [1, 100]\n",
    "\n",
    "# Plot for variables signal points\n",
    "for m1 in m1s:\n",
    "    for delta in deltas:\n",
    "        for ctau in ctaus:\n",
    "            utils.plot_signal_1D(ax, sig_histo_best, m1, delta, ctau, plot_dict, style_dict)\n",
    "\n",
    "plt.title('After BDT cut: Best-chi2 Vertex (purity = ~98%)')\n",
    "plt.legend()\n",
    "plt.show()"
   ]
  },
  {
   "cell_type": "code",
   "execution_count": null,
   "id": "2b1c48e2-9b7f-46de-b61c-e34ee59eac0c",
   "metadata": {},
   "outputs": [],
   "source": [
    "fig, ax = plt.subplots()\n",
    "\n",
    "# Plot settings\n",
    "plot_dict = {\n",
    "    'variable': 'sel_vtx_vxySignif',\n",
    "    'cut': 'cut10',\n",
    "}\n",
    "\n",
    "style_dict = {\n",
    "    'rebin': 2j,\n",
    "    'xlim': None,     # if None, the default will show up; otherwise give as a list, i.e. [0, 10]\n",
    "    'doLogy': True, \n",
    "    'doLogx': False,\n",
    "    'doDensity': True,\n",
    "    'doYerr': False, \n",
    "    'xlabel': None,   # if None, the default will show up; otherwise give as a string, i.e. 'Electron dxy'\n",
    "    'ylabel': None,   # if None, the default will show up; otherwise give as a string, i.e. 'Efficiency'\n",
    "    'label': None,    # if None, the default will show up; otherwise give as a string, i.e. 'Highest ctau signal samples'\n",
    "    'flow': None,     # overflow\n",
    "}\n",
    "\n",
    "# bkg\n",
    "utils.plot_bkg_1d(ax, bkg_histos, plot_dict, style_dict, processes=['Top', 'W+jets', 'Z+jets', 'DY'])"
   ]
  },
  {
   "cell_type": "markdown",
   "id": "a50555c6-aef0-49b8-ad67-03006ca03894",
   "metadata": {},
   "source": [
    "### sel_vtx_type"
   ]
  },
  {
   "cell_type": "code",
   "execution_count": null,
   "id": "ebb7014a-5c4b-4993-958e-4dc95ff70ef9",
   "metadata": {},
   "outputs": [],
   "source": [
    "fig, ax = plt.subplots()\n",
    "\n",
    "# Plot settings\n",
    "plot_dict = {\n",
    "    'variable': 'sel_vtx_type',\n",
    "    'cut': 'cut9',\n",
    "}\n",
    "\n",
    "style_dict = {\n",
    "    'rebin': 1j,\n",
    "    'xlim': None,     # if None, the default will show up; otherwise give as a list, i.e. [0, 10]\n",
    "    'doLogy': False, \n",
    "    'doLogx': False,\n",
    "    'doDensity': True,\n",
    "    'doYerr': False, \n",
    "    'xlabel': None,   # if None, the default will show up; otherwise give as a string, i.e. 'Electron dxy'\n",
    "    'ylabel': None,   # if None, the default will show up; otherwise give as a string, i.e. 'Efficiency'\n",
    "    'label': None,    # if None, the default will show up; otherwise give as a string, i.e. 'Highest ctau signal samples'\n",
    "    'flow': None,     # overflow\n",
    "}\n",
    "\n",
    "# signal points\n",
    "m1s = [50]\n",
    "deltas = [0.2]\n",
    "ctaus = [1, 10, 100]\n",
    "\n",
    "# Plot for variables signal points\n",
    "for m1 in m1s:\n",
    "    for delta in deltas:\n",
    "        for ctau in ctaus:\n",
    "            utils.plot_signal_1D(ax, sig_histo_best, m1, delta, ctau, plot_dict, style_dict)\n",
    "\n",
    "plt.title('Best chi2 Vertex')\n",
    "plt.legend()\n",
    "plt.show()"
   ]
  },
  {
   "cell_type": "code",
   "execution_count": null,
   "id": "afbfa5b6-a1f0-4fcd-b994-ed6bd24eaf97",
   "metadata": {},
   "outputs": [],
   "source": [
    "fig, ax = plt.subplots()\n",
    "\n",
    "# bkg\n",
    "utils.plot_bkg_1d(ax, bkg_histos, plot_dict, style_dict)"
   ]
  },
  {
   "cell_type": "markdown",
   "id": "d8f925ba-2996-450d-90c2-803bd9830713",
   "metadata": {},
   "source": [
    "### sel_vtx_chi2"
   ]
  },
  {
   "cell_type": "code",
   "execution_count": null,
   "id": "0db59be5-33fb-4afc-8a09-02097b532e36",
   "metadata": {},
   "outputs": [],
   "source": [
    "fig, ax = plt.subplots()\n",
    "\n",
    "# Plot settings\n",
    "plot_dict = {\n",
    "    'variable': 'sel_vtx_chi2',\n",
    "    'cut': 'cut9',\n",
    "}\n",
    "\n",
    "style_dict = {\n",
    "    'rebin': 1j,\n",
    "    'xlim': [0,10],     # if None, the default will show up; otherwise give as a list, i.e. [0, 10]\n",
    "    'doLogy': False, \n",
    "    'doLogx': False,\n",
    "    'doDensity': True,\n",
    "    'doYerr': False, \n",
    "    'xlabel': None,   # if None, the default will show up; otherwise give as a string, i.e. 'Electron dxy'\n",
    "    'ylabel': None,   # if None, the default will show up; otherwise give as a string, i.e. 'Efficiency'\n",
    "    'label': None,    # if None, the default will show up; otherwise give as a string, i.e. 'Highest ctau signal samples'\n",
    "    'flow': None,     # overflow\n",
    "}\n",
    "\n",
    "# signal points\n",
    "m1s = [5, 100]\n",
    "deltas = [0.2]\n",
    "ctaus = [1, 100]\n",
    "\n",
    "# Plot for variables signal points\n",
    "for m1 in m1s:\n",
    "    for delta in deltas:\n",
    "        for ctau in ctaus:\n",
    "            utils.plot_signal_1D(ax, sig_histo_best, m1, delta, ctau, plot_dict, style_dict)\n",
    "\n",
    "plt.title('Best chi2 Vertex')\n",
    "plt.legend()\n",
    "plt.show()"
   ]
  },
  {
   "cell_type": "code",
   "execution_count": null,
   "id": "561581d9-0d6a-47cd-a4fa-e0df81f57cb3",
   "metadata": {},
   "outputs": [],
   "source": [
    "fig, ax = plt.subplots()\n",
    "\n",
    "# bkg\n",
    "utils.plot_bkg_1d(ax, bkg_histos, plot_dict, style_dict)"
   ]
  },
  {
   "cell_type": "code",
   "execution_count": null,
   "id": "dabcf8d0-c5f9-4915-a714-fbe8cb3b4385",
   "metadata": {},
   "outputs": [],
   "source": [
    "fig, ax = plt.subplots()\n",
    "\n",
    "# Plot settings\n",
    "plot_dict = {\n",
    "    'variable': 'sel_vtx_chi2',\n",
    "    'cut': 'cut10',\n",
    "}\n",
    "\n",
    "style_dict = {\n",
    "    'rebin': 1j,\n",
    "    'xlim': [0,10],     # if None, the default will show up; otherwise give as a list, i.e. [0, 10]\n",
    "    'doLogy': True, \n",
    "    'doLogx': False,\n",
    "    'doDensity': True,\n",
    "    'doYerr': False, \n",
    "    'xlabel': None,   # if None, the default will show up; otherwise give as a string, i.e. 'Electron dxy'\n",
    "    'ylabel': None,   # if None, the default will show up; otherwise give as a string, i.e. 'Efficiency'\n",
    "    'label': None,    # if None, the default will show up; otherwise give as a string, i.e. 'Highest ctau signal samples'\n",
    "    'flow': None,     # overflow\n",
    "}\n",
    "\n",
    "# bkg\n",
    "utils.plot_bkg_1d(ax, bkg_histos, plot_dict, style_dict, processes=['Top', 'W+jets', 'Z+jets', 'DY'])"
   ]
  },
  {
   "cell_type": "markdown",
   "id": "a4ca3f4e-50e0-4eb6-9edb-e452c744bb71",
   "metadata": {},
   "source": [
    "### sel_vtx_dR"
   ]
  },
  {
   "cell_type": "code",
   "execution_count": null,
   "id": "4bb87dba-52da-4b80-b7a5-047b8bc74f6c",
   "metadata": {},
   "outputs": [],
   "source": [
    "fig, ax = plt.subplots()\n",
    "\n",
    "# Plot settings\n",
    "plot_dict = {\n",
    "    'variable': 'sel_vtx_dR',\n",
    "    'cut': 'cut9',\n",
    "}\n",
    "\n",
    "style_dict = {\n",
    "    'rebin': 2j,\n",
    "    'xlim': None,     # if None, the default will show up; otherwise give as a list, i.e. [0, 10]\n",
    "    'doLogy': False, \n",
    "    'doLogx': False,\n",
    "    'doDensity': True,\n",
    "    'doYerr': False, \n",
    "    'xlabel': None,   # if None, the default will show up; otherwise give as a string, i.e. 'Electron dxy'\n",
    "    'ylabel': None,   # if None, the default will show up; otherwise give as a string, i.e. 'Efficiency'\n",
    "    'label': None,    # if None, the default will show up; otherwise give as a string, i.e. 'Highest ctau signal samples'\n",
    "    'flow': None,     # overflow\n",
    "}\n",
    "\n",
    "# signal points\n",
    "m1s = [5, 100]\n",
    "deltas = [0.2]\n",
    "ctaus = [1, 100]\n",
    "\n",
    "# Plot for variables signal points\n",
    "for m1 in m1s:\n",
    "    for delta in deltas:\n",
    "        for ctau in ctaus:\n",
    "            utils.plot_signal_1D(ax, sig_histo_best, m1, delta, ctau, plot_dict, style_dict)\n",
    "\n",
    "plt.title('Best chi2 Vertex')\n",
    "plt.legend()\n",
    "plt.show()"
   ]
  },
  {
   "cell_type": "code",
   "execution_count": null,
   "id": "50870e10-4a99-4eaa-96ec-7e536f730a51",
   "metadata": {},
   "outputs": [],
   "source": [
    "fig, ax = plt.subplots()\n",
    "\n",
    "# bkg\n",
    "utils.plot_bkg_1d(ax, bkg_histos, plot_dict, style_dict)"
   ]
  },
  {
   "cell_type": "code",
   "execution_count": null,
   "id": "f7f3c257-591e-4af5-befe-1507c93c6fce",
   "metadata": {},
   "outputs": [],
   "source": [
    "fig, ax = plt.subplots()\n",
    "\n",
    "# Plot settings\n",
    "plot_dict = {\n",
    "    'variable': 'sel_vtx_dR',\n",
    "    'cut': 'cut10',\n",
    "}\n",
    "\n",
    "style_dict = {\n",
    "    'rebin': 2j,\n",
    "    'xlim': None,     # if None, the default will show up; otherwise give as a list, i.e. [0, 10]\n",
    "    'doLogy': True, \n",
    "    'doLogx': False,\n",
    "    'doDensity': True,\n",
    "    'doYerr': False, \n",
    "    'xlabel': None,   # if None, the default will show up; otherwise give as a string, i.e. 'Electron dxy'\n",
    "    'ylabel': None,   # if None, the default will show up; otherwise give as a string, i.e. 'Efficiency'\n",
    "    'label': None,    # if None, the default will show up; otherwise give as a string, i.e. 'Highest ctau signal samples'\n",
    "    'flow': None,     # overflow\n",
    "}\n",
    "\n",
    "# bkg\n",
    "utils.plot_bkg_1d(ax, bkg_histos, plot_dict, style_dict, processes=['Top', 'W+jets', 'Z+jets', 'DY'])"
   ]
  },
  {
   "cell_type": "code",
   "execution_count": null,
   "id": "286ceeb3-8985-41e9-937b-b6e95a7a4642",
   "metadata": {},
   "outputs": [],
   "source": []
  },
  {
   "cell_type": "markdown",
   "id": "a6fe9420-dae7-4fea-95d2-00a066b3c9f2",
   "metadata": {},
   "source": [
    "### sel_vtx_dEta"
   ]
  },
  {
   "cell_type": "code",
   "execution_count": null,
   "id": "e3fd2564-6557-48b3-ac8b-023e7b172527",
   "metadata": {},
   "outputs": [],
   "source": [
    "fig, ax = plt.subplots()\n",
    "\n",
    "# Plot settings\n",
    "plot_dict = {\n",
    "    'variable': 'sel_vtx_dEta',\n",
    "    'cut': 'cut9',\n",
    "}\n",
    "\n",
    "style_dict = {\n",
    "    'rebin': 1j,\n",
    "    'xlim': None,     # if None, the default will show up; otherwise give as a list, i.e. [0, 10]\n",
    "    'doLogy': False, \n",
    "    'doLogx': False,\n",
    "    'doDensity': True,\n",
    "    'doYerr': False, \n",
    "    'xlabel': None,   # if None, the default will show up; otherwise give as a string, i.e. 'Electron dxy'\n",
    "    'ylabel': None,   # if None, the default will show up; otherwise give as a string, i.e. 'Efficiency'\n",
    "    'label': None,    # if None, the default will show up; otherwise give as a string, i.e. 'Highest ctau signal samples'\n",
    "    'flow': None,     # overflow\n",
    "}\n",
    "\n",
    "# signal points\n",
    "m1s = [5, 100]\n",
    "deltas = [0.2]\n",
    "ctaus = [1, 100]\n",
    "\n",
    "# Plot for variables signal points\n",
    "for m1 in m1s:\n",
    "    for delta in deltas:\n",
    "        for ctau in ctaus:\n",
    "            utils.plot_signal_1D(ax, sig_histo_best, m1, delta, ctau, plot_dict, style_dict)\n",
    "\n",
    "plt.title('Best chi2 Vertex')\n",
    "plt.legend()\n",
    "plt.show()"
   ]
  },
  {
   "cell_type": "code",
   "execution_count": null,
   "id": "666a57f7-ac5d-4562-9533-4e145a761049",
   "metadata": {},
   "outputs": [],
   "source": [
    "fig, ax = plt.subplots()\n",
    "\n",
    "# bkg\n",
    "utils.plot_bkg_1d(ax, bkg_histos, plot_dict, style_dict)"
   ]
  },
  {
   "cell_type": "markdown",
   "id": "fc41ce66-9def-4af9-bd94-c366a4e15cf8",
   "metadata": {},
   "source": [
    "### sel_vtx_dPhi"
   ]
  },
  {
   "cell_type": "code",
   "execution_count": null,
   "id": "d4395421-d632-4fb6-b9da-e1e4fa2c8680",
   "metadata": {},
   "outputs": [],
   "source": [
    "fig, ax = plt.subplots()\n",
    "\n",
    "# Plot settings\n",
    "plot_dict = {\n",
    "    'variable': 'sel_vtx_dPhi',\n",
    "    'cut': 'cut9',\n",
    "}\n",
    "\n",
    "style_dict = {\n",
    "    'rebin': 1j,\n",
    "    'xlim': None,     # if None, the default will show up; otherwise give as a list, i.e. [0, 10]\n",
    "    'doLogy': False, \n",
    "    'doLogx': False,\n",
    "    'doDensity': True,\n",
    "    'doYerr': False, \n",
    "    'xlabel': None,   # if None, the default will show up; otherwise give as a string, i.e. 'Electron dxy'\n",
    "    'ylabel': None,   # if None, the default will show up; otherwise give as a string, i.e. 'Efficiency'\n",
    "    'label': None,    # if None, the default will show up; otherwise give as a string, i.e. 'Highest ctau signal samples'\n",
    "    'flow': None,     # overflow\n",
    "}\n",
    "\n",
    "# signal points\n",
    "m1s = [5, 100]\n",
    "deltas = [0.2]\n",
    "ctaus = [1, 100]\n",
    "\n",
    "# Plot for variables signal points\n",
    "for m1 in m1s:\n",
    "    for delta in deltas:\n",
    "        for ctau in ctaus:\n",
    "            utils.plot_signal_1D(ax, sig_histo_best, m1, delta, ctau, plot_dict, style_dict)\n",
    "\n",
    "plt.title('Best chi2 Vertex')\n",
    "plt.legend()\n",
    "plt.show()"
   ]
  },
  {
   "cell_type": "code",
   "execution_count": null,
   "id": "305380e5-5cd2-4ac0-a00b-c06115caa464",
   "metadata": {},
   "outputs": [],
   "source": [
    "fig, ax = plt.subplots()\n",
    "\n",
    "# bkg\n",
    "utils.plot_bkg_1d(ax, bkg_histos, plot_dict, style_dict)"
   ]
  },
  {
   "cell_type": "markdown",
   "id": "7cc3694c-feed-44a3-84b9-f6538e6f8e46",
   "metadata": {},
   "source": [
    "### sel_vtx_sign_eta"
   ]
  },
  {
   "cell_type": "code",
   "execution_count": null,
   "id": "ce67ceac-9e42-4992-b088-cf984a93ba12",
   "metadata": {},
   "outputs": [],
   "source": [
    "fig, ax = plt.subplots()\n",
    "\n",
    "# Plot settings\n",
    "plot_dict = {\n",
    "    'variable': 'sel_vtx_sign_eta',\n",
    "    'cut': 'cut9',\n",
    "}\n",
    "\n",
    "style_dict = {\n",
    "    'rebin': 1j,\n",
    "    'xlim': None,     # if None, the default will show up; otherwise give as a list, i.e. [0, 10]\n",
    "    'doLogy': False, \n",
    "    'doLogx': False,\n",
    "    'doDensity': True,\n",
    "    'doYerr': False, \n",
    "    'xlabel': None,   # if None, the default will show up; otherwise give as a string, i.e. 'Electron dxy'\n",
    "    'ylabel': None,   # if None, the default will show up; otherwise give as a string, i.e. 'Efficiency'\n",
    "    'label': None,    # if None, the default will show up; otherwise give as a string, i.e. 'Highest ctau signal samples'\n",
    "    'flow': None,     # overflow\n",
    "}\n",
    "\n",
    "# signal points\n",
    "m1s = [5, 100]\n",
    "deltas = [0.2]\n",
    "ctaus = [1, 100]\n",
    "\n",
    "# Plot for variables signal points\n",
    "for m1 in m1s:\n",
    "    for delta in deltas:\n",
    "        for ctau in ctaus:\n",
    "            utils.plot_signal_1D(ax, sig_histo_best, m1, delta, ctau, plot_dict, style_dict)\n",
    "\n",
    "plt.title('Best chi2 Vertex')\n",
    "plt.legend()\n",
    "plt.show()"
   ]
  },
  {
   "cell_type": "code",
   "execution_count": null,
   "id": "9023ed05-513c-460e-a988-771b46d6b0d1",
   "metadata": {},
   "outputs": [],
   "source": [
    "fig, ax = plt.subplots()\n",
    "\n",
    "# bkg\n",
    "utils.plot_bkg_1d(ax, bkg_histos, plot_dict, style_dict)"
   ]
  },
  {
   "cell_type": "markdown",
   "id": "2be7ec02-06b6-4c40-9b54-4a4be5614ec7",
   "metadata": {},
   "source": [
    "### sel_vtx_METdPhi"
   ]
  },
  {
   "cell_type": "code",
   "execution_count": null,
   "id": "bfbedade-4611-4dd4-8ed1-9ddc58437093",
   "metadata": {},
   "outputs": [],
   "source": [
    "fig, ax = plt.subplots()\n",
    "\n",
    "# Plot settings\n",
    "plot_dict = {\n",
    "    'variable': 'sel_vtx_METdPhi',\n",
    "    'cut': 'cut9',\n",
    "}\n",
    "\n",
    "style_dict = {\n",
    "    'rebin': 1j,\n",
    "    'xlim': None,     # if None, the default will show up; otherwise give as a list, i.e. [0, 10]\n",
    "    'doLogy': False, \n",
    "    'doLogx': False,\n",
    "    'doDensity': True,\n",
    "    'doYerr': False, \n",
    "    'xlabel': None,   # if None, the default will show up; otherwise give as a string, i.e. 'Electron dxy'\n",
    "    'ylabel': None,   # if None, the default will show up; otherwise give as a string, i.e. 'Efficiency'\n",
    "    'label': None,    # if None, the default will show up; otherwise give as a string, i.e. 'Highest ctau signal samples'\n",
    "    'flow': None,     # overflow\n",
    "}\n",
    "\n",
    "# signal points\n",
    "m1s = [5, 100]\n",
    "deltas = [0.2]\n",
    "ctaus = [1, 100]\n",
    "\n",
    "# Plot for variables signal points\n",
    "for m1 in m1s:\n",
    "    for delta in deltas:\n",
    "        for ctau in ctaus:\n",
    "            utils.plot_signal_1D(ax, sig_histo_true, m1, delta, ctau, plot_dict, style_dict)\n",
    "\n",
    "plt.title('Best chi2 Vertex')\n",
    "plt.legend()\n",
    "plt.show()"
   ]
  },
  {
   "cell_type": "code",
   "execution_count": null,
   "id": "919ac385-bb6f-4c90-b949-79f38ff7bf50",
   "metadata": {},
   "outputs": [],
   "source": [
    "fig, ax = plt.subplots()\n",
    "\n",
    "# bkg\n",
    "utils.plot_bkg_1d(ax, bkg_histos, plot_dict, style_dict)"
   ]
  },
  {
   "cell_type": "markdown",
   "id": "1c5b2aa1-9c4a-4c40-b68e-ff43c8b72989",
   "metadata": {},
   "source": [
    "### sel_vtx_pt"
   ]
  },
  {
   "cell_type": "code",
   "execution_count": null,
   "id": "d6a9b78e-7fef-467e-b7c4-930eb5b87ceb",
   "metadata": {},
   "outputs": [],
   "source": [
    "fig, ax = plt.subplots()\n",
    "\n",
    "# Plot settings\n",
    "plot_dict = {\n",
    "    'variable': 'sel_vtx_pt',\n",
    "    'cut': 'cut9',\n",
    "}\n",
    "\n",
    "style_dict = {\n",
    "    'rebin': 2j,\n",
    "    'xlim': None,     # if None, the default will show up; otherwise give as a list, i.e. [0, 10]\n",
    "    'doLogy': False, \n",
    "    'doLogx': False,\n",
    "    'doDensity': True,\n",
    "    'doYerr': False, \n",
    "    'xlabel': None,   # if None, the default will show up; otherwise give as a string, i.e. 'Electron dxy'\n",
    "    'ylabel': None,   # if None, the default will show up; otherwise give as a string, i.e. 'Efficiency'\n",
    "    'label': None,    # if None, the default will show up; otherwise give as a string, i.e. 'Highest ctau signal samples'\n",
    "    'flow': None,     # overflow\n",
    "}\n",
    "\n",
    "# signal points\n",
    "m1s = [5, 100]\n",
    "deltas = [0.2]\n",
    "ctaus = [1, 100]\n",
    "\n",
    "# Plot for variables signal points\n",
    "for m1 in m1s:\n",
    "    for delta in deltas:\n",
    "        for ctau in ctaus:\n",
    "            utils.plot_signal_1D(ax, sig_histo_best, m1, delta, ctau, plot_dict, style_dict)\n",
    "\n",
    "plt.title('Best chi2 Vertex')\n",
    "plt.legend()\n",
    "plt.show()"
   ]
  },
  {
   "cell_type": "code",
   "execution_count": null,
   "id": "11a648d9-1a56-4838-bc75-c4482149d5b3",
   "metadata": {},
   "outputs": [],
   "source": [
    "fig, ax = plt.subplots()\n",
    "\n",
    "# bkg\n",
    "utils.plot_bkg_1d(ax, bkg_histos, plot_dict, style_dict)"
   ]
  },
  {
   "cell_type": "markdown",
   "id": "5515d644-ce45-443a-8e62-d219d2c8dfd1",
   "metadata": {},
   "source": [
    "### sel_vtx_eta"
   ]
  },
  {
   "cell_type": "code",
   "execution_count": null,
   "id": "2d186932-3786-4adf-9f6b-b65669dbc505",
   "metadata": {},
   "outputs": [],
   "source": [
    "fig, ax = plt.subplots()\n",
    "\n",
    "# Plot settings\n",
    "plot_dict = {\n",
    "    'variable': 'sel_vtx_eta',\n",
    "    'cut': 'cut9',\n",
    "}\n",
    "\n",
    "style_dict = {\n",
    "    'rebin': 2j,\n",
    "    'xlim': None,     # if None, the default will show up; otherwise give as a list, i.e. [0, 10]\n",
    "    'doLogy': False, \n",
    "    'doLogx': False,\n",
    "    'doDensity': True,\n",
    "    'doYerr': False, \n",
    "    'xlabel': None,   # if None, the default will show up; otherwise give as a string, i.e. 'Electron dxy'\n",
    "    'ylabel': None,   # if None, the default will show up; otherwise give as a string, i.e. 'Efficiency'\n",
    "    'label': None,    # if None, the default will show up; otherwise give as a string, i.e. 'Highest ctau signal samples'\n",
    "    'flow': None,     # overflow\n",
    "}\n",
    "\n",
    "# signal points\n",
    "m1s = [5, 100]\n",
    "deltas = [0.2]\n",
    "ctaus = [1, 100]\n",
    "\n",
    "# Plot for variables signal points\n",
    "for m1 in m1s:\n",
    "    for delta in deltas:\n",
    "        for ctau in ctaus:\n",
    "            utils.plot_signal_1D(ax, sig_histo_best, m1, delta, ctau, plot_dict, style_dict)\n",
    "\n",
    "plt.title('Best chi2 Vertex')\n",
    "plt.legend()\n",
    "plt.show()"
   ]
  },
  {
   "cell_type": "code",
   "execution_count": null,
   "id": "686ce791-2921-4043-aa1f-da81d1624515",
   "metadata": {},
   "outputs": [],
   "source": [
    "fig, ax = plt.subplots()\n",
    "\n",
    "# bkg\n",
    "utils.plot_bkg_1d(ax, bkg_histos, plot_dict, style_dict)"
   ]
  },
  {
   "cell_type": "markdown",
   "id": "c2373483-c93e-4dee-9ab9-2e00346996e9",
   "metadata": {},
   "source": [
    "### sel_vtx_phi"
   ]
  },
  {
   "cell_type": "code",
   "execution_count": null,
   "id": "c96d999a-3fef-4a6d-9fb1-978d26fef65f",
   "metadata": {},
   "outputs": [],
   "source": [
    "fig, ax = plt.subplots()\n",
    "\n",
    "# Plot settings\n",
    "plot_dict = {\n",
    "    'variable': 'sel_vtx_phi',\n",
    "    'cut': 'cut9',\n",
    "}\n",
    "\n",
    "style_dict = {\n",
    "    'rebin': 2j,\n",
    "    'xlim': None,     # if None, the default will show up; otherwise give as a list, i.e. [0, 10]\n",
    "    'doLogy': False, \n",
    "    'doLogx': False,\n",
    "    'doDensity': True,\n",
    "    'doYerr': False, \n",
    "    'xlabel': None,   # if None, the default will show up; otherwise give as a string, i.e. 'Electron dxy'\n",
    "    'ylabel': None,   # if None, the default will show up; otherwise give as a string, i.e. 'Efficiency'\n",
    "    'label': None,    # if None, the default will show up; otherwise give as a string, i.e. 'Highest ctau signal samples'\n",
    "    'flow': None,     # overflow\n",
    "}\n",
    "\n",
    "# signal points\n",
    "m1s = [5, 100]\n",
    "deltas = [0.2]\n",
    "ctaus = [1, 100]\n",
    "\n",
    "# Plot for variables signal points\n",
    "for m1 in m1s:\n",
    "    for delta in deltas:\n",
    "        for ctau in ctaus:\n",
    "            utils.plot_signal_1D(ax, sig_histo_best, m1, delta, ctau, plot_dict, style_dict)\n",
    "\n",
    "plt.title('Best chi2 Vertex')\n",
    "plt.legend()\n",
    "plt.show()"
   ]
  },
  {
   "cell_type": "code",
   "execution_count": null,
   "id": "9362ebe5-8933-4fa8-8b2f-26a3053fadda",
   "metadata": {},
   "outputs": [],
   "source": [
    "fig, ax = plt.subplots()\n",
    "\n",
    "# bkg\n",
    "utils.plot_bkg_1d(ax, bkg_histos, plot_dict, style_dict)"
   ]
  },
  {
   "cell_type": "markdown",
   "id": "2030928f-57ac-4ff3-ad02-ee02ce6bff2d",
   "metadata": {},
   "source": [
    "### sel_vtx_mass"
   ]
  },
  {
   "cell_type": "code",
   "execution_count": null,
   "id": "45926447-3e0b-41e2-9f9d-00e6b0ffebd7",
   "metadata": {},
   "outputs": [],
   "source": [
    "fig, ax = plt.subplots()\n",
    "\n",
    "# Plot settings\n",
    "plot_dict = {\n",
    "    'variable': 'sel_vtx_mass',\n",
    "    'cut': 'cut9',\n",
    "}\n",
    "\n",
    "style_dict = {\n",
    "    'rebin': 2j,\n",
    "    'xlim': None,     # if None, the default will show up; otherwise give as a list, i.e. [0, 10]\n",
    "    'doLogy': False, \n",
    "    'doLogx': False,\n",
    "    'doDensity': True,\n",
    "    'doYerr': False, \n",
    "    'xlabel': None,   # if None, the default will show up; otherwise give as a string, i.e. 'Electron dxy'\n",
    "    'ylabel': None,   # if None, the default will show up; otherwise give as a string, i.e. 'Efficiency'\n",
    "    'label': None,    # if None, the default will show up; otherwise give as a string, i.e. 'Highest ctau signal samples'\n",
    "    'flow': None,     # overflow\n",
    "}\n",
    "\n",
    "# signal points\n",
    "m1s = [5, 100]\n",
    "deltas = [0.2]\n",
    "ctaus = [1, 100]\n",
    "\n",
    "# Plot for variables signal points\n",
    "for m1 in m1s:\n",
    "    for delta in deltas:\n",
    "        for ctau in ctaus:\n",
    "            utils.plot_signal_1D(ax, sig_histo_best, m1, delta, ctau, plot_dict, style_dict)\n",
    "\n",
    "plt.title('Best chi2 Vertex')\n",
    "plt.legend()\n",
    "plt.show()"
   ]
  },
  {
   "cell_type": "code",
   "execution_count": null,
   "id": "5cc21032-3f56-402f-b241-ac87c3bdd8f4",
   "metadata": {},
   "outputs": [],
   "source": [
    "fig, ax = plt.subplots()\n",
    "\n",
    "# Plot settings\n",
    "plot_dict = {\n",
    "    'variable': 'sel_vtx_mass',\n",
    "    'cut': 'cut9',\n",
    "}\n",
    "\n",
    "style_dict = {\n",
    "    'rebin': 1j,\n",
    "    'xlim': [0,20],     # if None, the default will show up; otherwise give as a list, i.e. [0, 10]\n",
    "    'doLogy': False, \n",
    "    'doLogx': False,\n",
    "    'doDensity': True,\n",
    "    'doYerr': False, \n",
    "    'xlabel': None,   # if None, the default will show up; otherwise give as a string, i.e. 'Electron dxy'\n",
    "    'ylabel': None,   # if None, the default will show up; otherwise give as a string, i.e. 'Efficiency'\n",
    "    'label': None,    # if None, the default will show up; otherwise give as a string, i.e. 'Highest ctau signal samples'\n",
    "    'flow': None,     # overflow\n",
    "}\n",
    "\n",
    "# signal points\n",
    "m1s = [5]\n",
    "deltas = [0.2]\n",
    "ctaus = [1, 100]\n",
    "\n",
    "# Plot for variables signal points\n",
    "for m1 in m1s:\n",
    "    for delta in deltas:\n",
    "        for ctau in ctaus:\n",
    "            utils.plot_signal_1D(ax, sig_histo_best, m1, delta, ctau, plot_dict, style_dict)\n",
    "\n",
    "plt.title('Best chi2 Vertex')\n",
    "plt.legend()\n",
    "plt.show()"
   ]
  },
  {
   "cell_type": "code",
   "execution_count": null,
   "id": "cafd13b3-4204-473d-8bfa-404af8c355e2",
   "metadata": {},
   "outputs": [],
   "source": [
    "fig, ax = plt.subplots()\n",
    "\n",
    "# Plot settings\n",
    "plot_dict = {\n",
    "    'variable': 'sel_vtx_mass',\n",
    "    'cut': 'cut9',\n",
    "}\n",
    "\n",
    "style_dict = {\n",
    "    'rebin': 1j,\n",
    "    'xlim': [0,20],     # if None, the default will show up; otherwise give as a list, i.e. [0, 10]\n",
    "    'doLogy': False, \n",
    "    'doLogx': False,\n",
    "    'doDensity': True,\n",
    "    'doYerr': False, \n",
    "    'xlabel': None,   # if None, the default will show up; otherwise give as a string, i.e. 'Electron dxy'\n",
    "    'ylabel': None,   # if None, the default will show up; otherwise give as a string, i.e. 'Efficiency'\n",
    "    'label': None,    # if None, the default will show up; otherwise give as a string, i.e. 'Highest ctau signal samples'\n",
    "    'flow': None,     # overflow\n",
    "}\n",
    "\n",
    "# signal points\n",
    "m1s = [5]\n",
    "deltas = [0.2]\n",
    "ctaus = [1, 100]\n",
    "\n",
    "# Plot for variables signal points\n",
    "for m1 in m1s:\n",
    "    for delta in deltas:\n",
    "        for ctau in ctaus:\n",
    "            utils.plot_signal_1D(ax, sig_histo_true, m1, delta, ctau, plot_dict, style_dict)\n",
    "\n",
    "plt.title('True Best Vertex')\n",
    "plt.legend()\n",
    "plt.show()"
   ]
  },
  {
   "cell_type": "code",
   "execution_count": null,
   "id": "296c7d40-f191-4c95-bc87-11e6eaca3b15",
   "metadata": {},
   "outputs": [],
   "source": [
    "fig, ax = plt.subplots()\n",
    "\n",
    "# bkg\n",
    "utils.plot_bkg_1d(ax, bkg_histos, plot_dict, style_dict)"
   ]
  },
  {
   "cell_type": "code",
   "execution_count": null,
   "id": "f8f72adc-91b7-4cbc-95b4-2efc6b4fe5c7",
   "metadata": {},
   "outputs": [],
   "source": [
    "fig, ax = plt.subplots()\n",
    "\n",
    "# Plot settings\n",
    "plot_dict = {\n",
    "    'variable': 'sel_vtx_mass',\n",
    "    'cut': 'cut10',\n",
    "}\n",
    "\n",
    "style_dict = {\n",
    "    'rebin': 2j,\n",
    "    'xlim': None,     # if None, the default will show up; otherwise give as a list, i.e. [0, 10]\n",
    "    'doLogy': True, \n",
    "    'doLogx': False,\n",
    "    'doDensity': True,\n",
    "    'doYerr': False, \n",
    "    'xlabel': None,   # if None, the default will show up; otherwise give as a string, i.e. 'Electron dxy'\n",
    "    'ylabel': None,   # if None, the default will show up; otherwise give as a string, i.e. 'Efficiency'\n",
    "    'label': None,    # if None, the default will show up; otherwise give as a string, i.e. 'Highest ctau signal samples'\n",
    "    'flow': None,     # overflow\n",
    "}\n",
    "\n",
    "# bkg\n",
    "utils.plot_bkg_1d(ax, bkg_histos, plot_dict, style_dict, processes=['Top', 'W+jets', 'Z+jets', 'DY'])"
   ]
  },
  {
   "cell_type": "code",
   "execution_count": null,
   "id": "7fc90022-9d42-433d-bdca-664e08aeb42b",
   "metadata": {},
   "outputs": [],
   "source": []
  },
  {
   "cell_type": "markdown",
   "id": "76bd8747-644c-41df-ad0c-33b134e4af93",
   "metadata": {},
   "source": [
    "### nLpt_Electron"
   ]
  },
  {
   "cell_type": "code",
   "execution_count": null,
   "id": "f6f02b81-03fe-420c-81af-ef0a366bd7cb",
   "metadata": {},
   "outputs": [],
   "source": [
    "fig, ax = plt.subplots()\n",
    "\n",
    "# Plot settings\n",
    "plot_dict = {\n",
    "    'variable': 'nLpt_Electron',\n",
    "    'cut': 'cut9',\n",
    "}\n",
    "\n",
    "style_dict = {\n",
    "    'rebin': 1j,\n",
    "    'xlim': None,     # if None, the default will show up; otherwise give as a list, i.e. [0, 10]\n",
    "    'doLogy': False, \n",
    "    'doLogx': False,\n",
    "    'doDensity': True,\n",
    "    'doYerr': False, \n",
    "    'xlabel': 'n(low-pt electron)',   # if None, the default will show up; otherwise give as a string, i.e. 'Electron dxy'\n",
    "    'ylabel': None,   # if None, the default will show up; otherwise give as a string, i.e. 'Efficiency'\n",
    "    'label': None,    # if None, the default will show up; otherwise give as a string, i.e. 'Highest ctau signal samples'\n",
    "    'flow': None,     # overflow\n",
    "}\n",
    "\n",
    "# signal points\n",
    "m1s = [5, 100]\n",
    "deltas = [0.2]\n",
    "ctaus = [1, 100]\n",
    "\n",
    "# Plot for variables signal points\n",
    "for m1 in m1s:\n",
    "    for delta in deltas:\n",
    "        for ctau in ctaus:\n",
    "            utils.plot_signal_1D(ax, sig_histo_best, m1, delta, ctau, plot_dict, style_dict)\n",
    "\n",
    "plt.title('Best chi2 Vertex')\n",
    "plt.legend()\n",
    "plt.show()"
   ]
  },
  {
   "cell_type": "code",
   "execution_count": null,
   "id": "8a99f24a-2c13-4d5a-9cc5-d19e329a8359",
   "metadata": {},
   "outputs": [],
   "source": [
    "fig, ax = plt.subplots()\n",
    "\n",
    "# bkg\n",
    "utils.plot_bkg_1d(ax, bkg_histos, plot_dict, style_dict)"
   ]
  },
  {
   "cell_type": "markdown",
   "id": "1e2ffb70-d178-480d-b1c7-326d2a00b878",
   "metadata": {},
   "source": [
    "### nPF_Electron"
   ]
  },
  {
   "cell_type": "code",
   "execution_count": null,
   "id": "705f221a-539f-41f2-ad93-7b1e888f136d",
   "metadata": {},
   "outputs": [],
   "source": [
    "fig, ax = plt.subplots()\n",
    "\n",
    "# Plot settings\n",
    "plot_dict = {\n",
    "    'variable': 'nPF_Electron',\n",
    "    'cut': 'cut9',\n",
    "}\n",
    "\n",
    "style_dict = {\n",
    "    'rebin': 1j,\n",
    "    'xlim': None,     # if None, the default will show up; otherwise give as a list, i.e. [0, 10]\n",
    "    'doLogy': False, \n",
    "    'doLogx': False,\n",
    "    'doDensity': True,\n",
    "    'doYerr': False, \n",
    "    'xlabel': 'n(PF electron)',   # if None, the default will show up; otherwise give as a string, i.e. 'Electron dxy'\n",
    "    'ylabel': None,   # if None, the default will show up; otherwise give as a string, i.e. 'Efficiency'\n",
    "    'label': None,    # if None, the default will show up; otherwise give as a string, i.e. 'Highest ctau signal samples'\n",
    "    'flow': None,     # overflow\n",
    "}\n",
    "\n",
    "# signal points\n",
    "m1s = [5, 100]\n",
    "deltas = [0.2]\n",
    "ctaus = [1, 100]\n",
    "\n",
    "# Plot for variables signal points\n",
    "for m1 in m1s:\n",
    "    for delta in deltas:\n",
    "        for ctau in ctaus:\n",
    "            utils.plot_signal_1D(ax, sig_histo_best, m1, delta, ctau, plot_dict, style_dict)\n",
    "\n",
    "plt.title('Best chi2 Vertex')\n",
    "plt.legend()\n",
    "plt.show()"
   ]
  },
  {
   "cell_type": "code",
   "execution_count": null,
   "id": "192d6c5e-3c88-4de9-ae96-7729159fda0a",
   "metadata": {},
   "outputs": [],
   "source": [
    "fig, ax = plt.subplots()\n",
    "\n",
    "# bkg\n",
    "utils.plot_bkg_1d(ax, bkg_histos, plot_dict, style_dict)"
   ]
  },
  {
   "cell_type": "markdown",
   "id": "9004566b-8ee5-4e83-ae01-0c6235601d73",
   "metadata": {},
   "source": [
    "### nElectron"
   ]
  },
  {
   "cell_type": "code",
   "execution_count": null,
   "id": "0a6c712f-7175-4abc-a38e-18da7e38b781",
   "metadata": {},
   "outputs": [],
   "source": [
    "fig, ax = plt.subplots()\n",
    "\n",
    "# Plot settings\n",
    "plot_dict = {\n",
    "    'variable': 'nElectron',\n",
    "    'cut': 'cut9',\n",
    "}\n",
    "\n",
    "style_dict = {\n",
    "    'rebin': 1j,\n",
    "    'xlim': None,     # if None, the default will show up; otherwise give as a list, i.e. [0, 10]\n",
    "    'doLogy': False, \n",
    "    'doLogx': False,\n",
    "    'doDensity': True,\n",
    "    'doYerr': False, \n",
    "    'xlabel': None,   # if None, the default will show up; otherwise give as a string, i.e. 'Electron dxy'\n",
    "    'ylabel': None,   # if None, the default will show up; otherwise give as a string, i.e. 'Efficiency'\n",
    "    'label': None,    # if None, the default will show up; otherwise give as a string, i.e. 'Highest ctau signal samples'\n",
    "    'flow': None,     # overflow\n",
    "}\n",
    "\n",
    "# signal points\n",
    "m1s = [5, 100]\n",
    "deltas = [0.2]\n",
    "ctaus = [1, 100]\n",
    "\n",
    "# Plot for variables signal points\n",
    "for m1 in m1s:\n",
    "    for delta in deltas:\n",
    "        for ctau in ctaus:\n",
    "            utils.plot_signal_1D(ax, sig_histo_best, m1, delta, ctau, plot_dict, style_dict)\n",
    "\n",
    "plt.title('Best chi2 Vertex')\n",
    "plt.legend()\n",
    "plt.show()"
   ]
  },
  {
   "cell_type": "code",
   "execution_count": null,
   "id": "2e93d81b-f729-49e9-bcbb-70b0b1cec497",
   "metadata": {},
   "outputs": [],
   "source": [
    "fig, ax = plt.subplots()\n",
    "\n",
    "# bkg\n",
    "utils.plot_bkg_1d(ax, bkg_histos, plot_dict, style_dict)"
   ]
  },
  {
   "cell_type": "markdown",
   "id": "f822ec60-4d16-4d8f-a7b5-cd6af6d8d133",
   "metadata": {},
   "source": [
    "### nGoodVtx"
   ]
  },
  {
   "cell_type": "code",
   "execution_count": null,
   "id": "9b26603f-1794-426a-8b41-d860dd71644f",
   "metadata": {},
   "outputs": [],
   "source": [
    "fig, ax = plt.subplots()\n",
    "\n",
    "# Plot settings\n",
    "plot_dict = {\n",
    "    'variable': 'nGoodVtx',\n",
    "    'cut': 'cut9',\n",
    "}\n",
    "\n",
    "style_dict = {\n",
    "    'rebin': 1j,\n",
    "    'xlim': None,     # if None, the default will show up; otherwise give as a list, i.e. [0, 10]\n",
    "    'doLogy': False, \n",
    "    'doLogx': False,\n",
    "    'doDensity': True,\n",
    "    'doYerr': False, \n",
    "    'xlabel': None,   # if None, the default will show up; otherwise give as a string, i.e. 'Electron dxy'\n",
    "    'ylabel': None,   # if None, the default will show up; otherwise give as a string, i.e. 'Efficiency'\n",
    "    'label': None,    # if None, the default will show up; otherwise give as a string, i.e. 'Highest ctau signal samples'\n",
    "    'flow': None,     # overflow\n",
    "}\n",
    "\n",
    "# signal points\n",
    "m1s = [5, 100]\n",
    "deltas = [0.2]\n",
    "ctaus = [1, 100]\n",
    "\n",
    "# Plot for variables signal points\n",
    "for m1 in m1s:\n",
    "    for delta in deltas:\n",
    "        for ctau in ctaus:\n",
    "            utils.plot_signal_1D(ax, sig_histo_best, m1, delta, ctau, plot_dict, style_dict)\n",
    "\n",
    "plt.title('Best chi2 Vertex')\n",
    "plt.legend()\n",
    "plt.show()"
   ]
  },
  {
   "cell_type": "code",
   "execution_count": null,
   "id": "b57fda91-66be-4b6b-911e-1e6e7ab856d3",
   "metadata": {},
   "outputs": [],
   "source": [
    "fig, ax = plt.subplots()\n",
    "\n",
    "# bkg\n",
    "utils.plot_bkg_1d(ax, bkg_histos, plot_dict, style_dict)"
   ]
  },
  {
   "cell_type": "code",
   "execution_count": null,
   "id": "058118cc-3c74-47ca-a33f-eb1c358717cd",
   "metadata": {},
   "outputs": [],
   "source": []
  },
  {
   "cell_type": "markdown",
   "id": "304a9cf6-6ac7-42a1-9b39-25c1eaef4a94",
   "metadata": {},
   "source": [
    "# Plot 2D"
   ]
  },
  {
   "cell_type": "code",
   "execution_count": null,
   "id": "39ad70f3-3a5f-49c6-a140-ec31ca6fdcaf",
   "metadata": {},
   "outputs": [],
   "source": [
    "# Plot settings\n",
    "plot_dict = {\n",
    "    'variable': 'sel_vtx_vxy_vs_sel_vtx_mass',\n",
    "    'cut': 'cut9',\n",
    "}\n",
    "\n",
    "style_2d_dict = {\n",
    "    'xrebin': 2j,\n",
    "    'yrebin': 2j,\n",
    "    'xlim': [0,30],     # if None, the default will show up; otherwise give as a list, i.e. [0, 10]  \n",
    "    'ylim': [0,30],     # if None, the default will show up; otherwise give as a list, i.e. [0, 10]\n",
    "    'doLogy': False, \n",
    "    'doLogx': False,\n",
    "    'doLogz': True,\n",
    "    'xlabel': None,   # if None, the default will show up; otherwise give as a string, i.e. 'Electron dxy'\n",
    "    'ylabel': None,   # if None, the default will show up; otherwise give as a string, i.e. 'Efficiency'\n",
    "    'flow': None,     # overflow\n",
    "}\n",
    "\n",
    "fig, ax = plt.subplots()\n",
    "\n",
    "utils.plot_bkg_2D(ax, bkg_histos, plot_dict, style_2d_dict)\n",
    "\n",
    "plt.title('All Background')\n",
    "#utils.plot_bkg_2D(ax, bkg_histos, plot_dict, style_2d_dict, processes = ['Z+jets', 'W+jets', 'DY'])\n"
   ]
  },
  {
   "cell_type": "code",
   "execution_count": null,
   "id": "705df193-84c7-4de3-8689-8d52e295ce51",
   "metadata": {},
   "outputs": [],
   "source": [
    "\n",
    "m1s = [5, 100]\n",
    "deltas = [0.1]\n",
    "ctaus = [1, 100]\n",
    "\n",
    "for m1 in m1s:\n",
    "    for delta in deltas:\n",
    "        for ctau in ctaus:\n",
    "            fig, ax = plt.subplots()\n",
    "\n",
    "            utils.plot_signal_2D(ax, sig_histo_best, m1, delta, ctau, plot_dict, style_2d_dict)\n",
    "        \n",
    "            plt.title(f'm1 = {m1}GeV, delta = {delta}, ctau = {ctau}mm')\n",
    "            plt.show()"
   ]
  },
  {
   "cell_type": "code",
   "execution_count": null,
   "id": "992fe412-8452-4fec-a73a-9f468194c7f9",
   "metadata": {},
   "outputs": [],
   "source": []
  },
  {
   "cell_type": "code",
   "execution_count": null,
   "id": "77f9ccb9-04d7-41c4-928e-1a014822038b",
   "metadata": {},
   "outputs": [],
   "source": [
    "# Plot settings\n",
    "plot_dict = {\n",
    "    'variable': 'sel_vtx_vxy_vs_sel_vtx_mass',\n",
    "    'cut': 'cut9',\n",
    "}\n",
    "\n",
    "style_dict = {\n",
    "    'xrebin': 2j,\n",
    "    'yrebin': 2j,\n",
    "    'xlim': None,     # if None, the default will show up; otherwise give as a list, i.e. [0, 10]  \n",
    "    'ylim': None,     # if None, the default will show up; otherwise give as a list, i.e. [0, 10]\n",
    "    'doLogy': False, \n",
    "    'doLogx': False,\n",
    "    'doLogz': False,\n",
    "    'xlabel': None,   # if None, the default will show up; otherwise give as a string, i.e. 'Electron dxy'\n",
    "    'ylabel': None,   # if None, the default will show up; otherwise give as a string, i.e. 'Efficiency'\n",
    "    'flow': None,     # overflow\n",
    "}\n"
   ]
  },
  {
   "cell_type": "code",
   "execution_count": null,
   "id": "21f19e84-75bc-4c1d-9d57-b5b4884e0cd6",
   "metadata": {},
   "outputs": [],
   "source": [
    "# Plot settings\n",
    "plot_dict = {\n",
    "    'variable': 'sel_vtx_vxy_vs_sel_vtx_mass',\n",
    "    'cut': 'cut9',\n",
    "}\n",
    "\n",
    "style_2d_dict = {\n",
    "    'xrebin': 3j,\n",
    "    'yrebin': 1j,\n",
    "    'xlim': [0, 5],     # if None, the default will show up; otherwise give as a list, i.e. [0, 10]  \n",
    "    'ylim': [0, 20],     # if None, the default will show up; otherwise give as a list, i.e. [0, 10]\n",
    "    'doLogy': False, \n",
    "    'doLogx': False,\n",
    "    'doLogz': True,\n",
    "    'xlabel': None,   # if None, the default will show up; otherwise give as a string, i.e. 'Electron dxy'\n",
    "    'ylabel': None,   # if None, the default will show up; otherwise give as a string, i.e. 'Efficiency'\n",
    "    'flow': None,     # overflow\n",
    "}\n",
    "\n",
    "\n",
    "m1s = [5, 100]\n",
    "deltas = [0.1]\n",
    "ctaus = [1, 100]\n",
    "\n",
    "for m1 in m1s:\n",
    "    for delta in deltas:\n",
    "        for ctau in ctaus:\n",
    "            fig, ax = plt.subplots()\n",
    "\n",
    "            utils.plot_signal_2D(ax, sig_histo_best, m1, delta, ctau, plot_dict, style_2d_dict)\n",
    "        \n",
    "            plt.title(f'm1 = {m1}GeV, delta = {delta}, ctau = {ctau}mm')\n",
    "            plt.show()"
   ]
  },
  {
   "cell_type": "code",
   "execution_count": null,
   "id": "440e37de-f4c2-4de7-a5b0-67ea1ae50d70",
   "metadata": {},
   "outputs": [],
   "source": []
  },
  {
   "cell_type": "markdown",
   "id": "bd51ce16-6336-4e36-80c9-4e1d8ba07d3f",
   "metadata": {},
   "source": [
    "### dxy1_vs_dxy2"
   ]
  },
  {
   "cell_type": "code",
   "execution_count": null,
   "id": "c84d446a-7ac0-4cc7-9942-a71bfa1e4fe6",
   "metadata": {},
   "outputs": [],
   "source": [
    "# Plot settings\n",
    "plot_dict = {\n",
    "    'variable': 'dxy1_vs_dxy2',\n",
    "    'cut': 'cut9',\n",
    "}\n",
    "\n",
    "style_2d_dict = {\n",
    "    'xrebin': 1j,\n",
    "    'yrebin': 1j,\n",
    "    'xlim': [0, 0.5],     # if None, the default will show up; otherwise give as a list, i.e. [0, 10]  \n",
    "    'ylim': [0, 0.5],     # if None, the default will show up; otherwise give as a list, i.e. [0, 10]\n",
    "    'doLogy': False, \n",
    "    'doLogx': False,\n",
    "    'doLogz': False,\n",
    "    'xlabel': None,   # if None, the default will show up; otherwise give as a string, i.e. 'Electron dxy'\n",
    "    'ylabel': None,   # if None, the default will show up; otherwise give as a string, i.e. 'Efficiency'\n",
    "    'flow': None,     # overflow\n",
    "}\n",
    "\n",
    "\n",
    "m1s = [5, 100]\n",
    "deltas = [0.1]\n",
    "ctaus = [1, 100]\n",
    "\n",
    "for m1 in m1s:\n",
    "    for delta in deltas:\n",
    "        for ctau in ctaus:\n",
    "            fig, ax = plt.subplots()\n",
    "\n",
    "            utils.plot_signal_2D(ax, sig_histo_best, m1, delta, ctau, plot_dict, style_2d_dict)\n",
    "        \n",
    "            plt.title(f'm1 = {m1}GeV, delta = {delta}, ctau = {ctau}mm')\n",
    "            plt.show()"
   ]
  },
  {
   "cell_type": "markdown",
   "id": "62ca60f6-5e69-45a0-98ff-2a8d6561b56e",
   "metadata": {},
   "source": [
    "### sel_vtx_vxy_vs_mindxy"
   ]
  },
  {
   "cell_type": "code",
   "execution_count": null,
   "id": "7733121c-31d7-4928-84ff-4f7f534c80ff",
   "metadata": {
    "scrolled": true
   },
   "outputs": [],
   "source": [
    "# Plot settings\n",
    "plot_dict = {\n",
    "    'variable': 'sel_vtx_vxy_vs_mindxy',\n",
    "    'cut': 'cut9',\n",
    "}\n",
    "\n",
    "style_2d_dict = {\n",
    "    'xrebin': 10j,\n",
    "    'yrebin': 1j,\n",
    "    'xlim': [0, 20],     # if None, the default will show up; otherwise give as a list, i.e. [0, 10]  \n",
    "    'ylim': [0, 0.5],     # if None, the default will show up; otherwise give as a list, i.e. [0, 10]\n",
    "    'doLogy': False, \n",
    "    'doLogx': False,\n",
    "    'doLogz': False,\n",
    "    'xlabel': None,   # if None, the default will show up; otherwise give as a string, i.e. 'Electron dxy'\n",
    "    'ylabel': None,   # if None, the default will show up; otherwise give as a string, i.e. 'Efficiency'\n",
    "    'flow': None,     # overflow\n",
    "}\n",
    "\n",
    "m1s = [5, 100]\n",
    "deltas = [0.1]\n",
    "ctaus = [1, 100]\n",
    "\n",
    "for m1 in m1s:\n",
    "    for delta in deltas:\n",
    "        for ctau in ctaus:\n",
    "            fig, ax = plt.subplots()\n",
    "\n",
    "            utils.plot_signal_2D(ax, sig_histo_true, m1, delta, ctau, plot_dict, style_2d_dict)\n",
    "        \n",
    "            plt.title(f'm1 = {m1}GeV, delta = {delta}, ctau = {ctau}mm')\n",
    "            plt.show()"
   ]
  },
  {
   "cell_type": "code",
   "execution_count": null,
   "id": "2e08f99c-8adf-41d7-99c5-c7d27286d3dd",
   "metadata": {},
   "outputs": [],
   "source": []
  },
  {
   "cell_type": "markdown",
   "id": "78d47c1f-7133-4e61-a66e-284f0197aaab",
   "metadata": {},
   "source": [
    "### sel_vtx_vxy_vs_sel_vtx_chi2"
   ]
  },
  {
   "cell_type": "code",
   "execution_count": null,
   "id": "ae0a6cdb-33db-44cc-89e4-824c8e9334dc",
   "metadata": {},
   "outputs": [],
   "source": [
    "# Plot settings\n",
    "plot_dict = {\n",
    "    'variable': 'sel_vtx_vxy_vs_sel_vtx_chi2',\n",
    "    'cut': 'cut9',\n",
    "}\n",
    "\n",
    "style_2d_dict = {\n",
    "    'xrebin': 10j,\n",
    "    'yrebin': 2j,\n",
    "    'xlim': [0, 20],     # if None, the default will show up; otherwise give as a list, i.e. [0, 10]  \n",
    "    'ylim': [0, 10],     # if None, the default will show up; otherwise give as a list, i.e. [0, 10]\n",
    "    'doLogy': False, \n",
    "    'doLogx': False,\n",
    "    'doLogz': False,\n",
    "    'xlabel': None,   # if None, the default will show up; otherwise give as a string, i.e. 'Electron dxy'\n",
    "    'ylabel': None,   # if None, the default will show up; otherwise give as a string, i.e. 'Efficiency'\n",
    "    'flow': None,     # overflow\n",
    "}\n",
    "\n",
    "m1s = [5, 100]\n",
    "deltas = [0.1]\n",
    "ctaus = [1, 100]\n",
    "\n",
    "for m1 in m1s:\n",
    "    for delta in deltas:\n",
    "        for ctau in ctaus:\n",
    "            fig, ax = plt.subplots()\n",
    "\n",
    "            utils.plot_signal_2D(ax, sig_histo_true, m1, delta, ctau, plot_dict, style_2d_dict)\n",
    "        \n",
    "            plt.title(f'm1 = {m1}GeV, delta = {delta}, ctau = {ctau}mm')\n",
    "            plt.show()"
   ]
  },
  {
   "cell_type": "markdown",
   "id": "84128f5b-a6a6-4d7f-b5dd-0cbfe94fe096",
   "metadata": {},
   "source": [
    "### sel_vtx_vxy_vs_sel_vtx_dR"
   ]
  },
  {
   "cell_type": "code",
   "execution_count": null,
   "id": "2afc2d0d-737b-4caa-b955-4f62271797eb",
   "metadata": {
    "scrolled": true
   },
   "outputs": [],
   "source": [
    "# Plot settings\n",
    "plot_dict = {\n",
    "    'variable': 'sel_vtx_vxy_vs_sel_vtx_dR',\n",
    "    'cut': 'cut9',\n",
    "}\n",
    "\n",
    "style_2d_dict = {\n",
    "    'xrebin': 10j,\n",
    "    'yrebin': 1j,\n",
    "    'xlim': [0, 20],     # if None, the default will show up; otherwise give as a list, i.e. [0, 10]  \n",
    "    'ylim': [0, 5],     # if None, the default will show up; otherwise give as a list, i.e. [0, 10]\n",
    "    'doLogy': False, \n",
    "    'doLogx': False,\n",
    "    'doLogz': False,\n",
    "    'xlabel': None,   # if None, the default will show up; otherwise give as a string, i.e. 'Electron dxy'\n",
    "    'ylabel': None,   # if None, the default will show up; otherwise give as a string, i.e. 'Efficiency'\n",
    "    'flow': None,     # overflow\n",
    "}\n",
    "\n",
    "m1s = [5, 100]\n",
    "deltas = [0.1]\n",
    "ctaus = [1, 100]\n",
    "\n",
    "for m1 in m1s:\n",
    "    for delta in deltas:\n",
    "        for ctau in ctaus:\n",
    "            fig, ax = plt.subplots()\n",
    "\n",
    "            utils.plot_signal_2D(ax, sig_histo_true, m1, delta, ctau, plot_dict, style_2d_dict)\n",
    "        \n",
    "            plt.title(f'm1 = {m1}GeV, delta = {delta}, ctau = {ctau}mm')\n",
    "            plt.show()"
   ]
  },
  {
   "cell_type": "markdown",
   "id": "b2ed743e-3d62-4e52-ba2b-fa17bcc3fa60",
   "metadata": {},
   "source": [
    "### sel_vtx_vxy_vs_sel_vtx_mass"
   ]
  },
  {
   "cell_type": "code",
   "execution_count": null,
   "id": "929f77e9-78e1-4257-805a-462dd2a4dacb",
   "metadata": {
    "scrolled": true
   },
   "outputs": [],
   "source": [
    "# Plot settings\n",
    "plot_dict = {\n",
    "    'variable': 'sel_vtx_vxy_vs_sel_vtx_mass',\n",
    "    'cut': 'cut9',\n",
    "}\n",
    "\n",
    "style_2d_dict = {\n",
    "    'xrebin': 10j,\n",
    "    'yrebin': 1j,\n",
    "    'xlim': [0, 20],     # if None, the default will show up; otherwise give as a list, i.e. [0, 10]  \n",
    "    'ylim': [0, 30],     # if None, the default will show up; otherwise give as a list, i.e. [0, 10]\n",
    "    'doLogy': False, \n",
    "    'doLogx': False,\n",
    "    'doLogz': False,\n",
    "    'xlabel': None,   # if None, the default will show up; otherwise give as a string, i.e. 'Electron dxy'\n",
    "    'ylabel': None,   # if None, the default will show up; otherwise give as a string, i.e. 'Efficiency'\n",
    "    'flow': None,     # overflow\n",
    "}\n",
    "\n",
    "m1s = [5, 100]\n",
    "deltas = [0.1]\n",
    "ctaus = [1, 100]\n",
    "\n",
    "for m1 in m1s:\n",
    "    for delta in deltas:\n",
    "        for ctau in ctaus:\n",
    "            fig, ax = plt.subplots()\n",
    "\n",
    "            utils.plot_signal_2D(ax, sig_histo_true, m1, delta, ctau, plot_dict, style_2d_dict)\n",
    "        \n",
    "            plt.title(f'm1 = {m1}GeV, delta = {delta}, ctau = {ctau}mm')\n",
    "            plt.show()"
   ]
  },
  {
   "cell_type": "markdown",
   "id": "898a57cb-c23b-43cf-8df8-71e5ab5465be",
   "metadata": {},
   "source": [
    "### sel_vtx_vxy_vs_sel_vtx_METdPhi"
   ]
  },
  {
   "cell_type": "code",
   "execution_count": null,
   "id": "8ba25ba5-01c7-4070-81bf-bbf8fd3b727c",
   "metadata": {
    "scrolled": true
   },
   "outputs": [],
   "source": [
    "# Plot settings\n",
    "plot_dict = {\n",
    "    'variable': 'sel_vtx_vxy_vs_sel_vtx_METdPhi',\n",
    "    'cut': 'cut9',\n",
    "}\n",
    "\n",
    "style_2d_dict = {\n",
    "    'xrebin': 10j,\n",
    "    'yrebin': 1j,\n",
    "    'xlim': [0, 20],     # if None, the default will show up; otherwise give as a list, i.e. [0, 10]  \n",
    "    'ylim': None,     # if None, the default will show up; otherwise give as a list, i.e. [0, 10]\n",
    "    'doLogy': False, \n",
    "    'doLogx': False,\n",
    "    'doLogz': False,\n",
    "    'xlabel': None,   # if None, the default will show up; otherwise give as a string, i.e. 'Electron dxy'\n",
    "    'ylabel': None,   # if None, the default will show up; otherwise give as a string, i.e. 'Efficiency'\n",
    "    'flow': None,     # overflow\n",
    "}\n",
    "\n",
    "m1s = [5, 100]\n",
    "deltas = [0.1]\n",
    "ctaus = [1, 100]\n",
    "\n",
    "for m1 in m1s:\n",
    "    for delta in deltas:\n",
    "        for ctau in ctaus:\n",
    "            fig, ax = plt.subplots()\n",
    "\n",
    "            utils.plot_signal_2D(ax, sig_histo_true, m1, delta, ctau, plot_dict, style_2d_dict)\n",
    "        \n",
    "            plt.title(f'm1 = {m1}GeV, delta = {delta}, ctau = {ctau}mm')\n",
    "            plt.show()"
   ]
  },
  {
   "cell_type": "markdown",
   "id": "d9fbf611-0397-4e74-bcab-b317a5c8c845",
   "metadata": {},
   "source": [
    "### sel_vtx_vxy_vs_sel_vtx_vxySignif"
   ]
  },
  {
   "cell_type": "code",
   "execution_count": null,
   "id": "473e1c3e-19a8-4106-9ee5-3da05638afcf",
   "metadata": {
    "scrolled": true
   },
   "outputs": [],
   "source": [
    "# Plot settings\n",
    "plot_dict = {\n",
    "    'variable': 'sel_vtx_vxy_vs_sel_vtx_vxySignif',\n",
    "    'cut': 'cut9',\n",
    "}\n",
    "\n",
    "style_2d_dict = {\n",
    "    'xrebin': 10j,\n",
    "    'yrebin': 1j,\n",
    "    'xlim': [0, 20],     # if None, the default will show up; otherwise give as a list, i.e. [0, 10]  \n",
    "    'ylim': None,     # if None, the default will show up; otherwise give as a list, i.e. [0, 10]\n",
    "    'doLogy': False, \n",
    "    'doLogx': False,\n",
    "    'doLogz': False,\n",
    "    'xlabel': None,   # if None, the default will show up; otherwise give as a string, i.e. 'Electron dxy'\n",
    "    'ylabel': None,   # if None, the default will show up; otherwise give as a string, i.e. 'Efficiency'\n",
    "    'flow': None,     # overflow\n",
    "}\n",
    "\n",
    "m1s = [5, 100]\n",
    "deltas = [0.1]\n",
    "ctaus = [1, 100]\n",
    "\n",
    "for m1 in m1s:\n",
    "    for delta in deltas:\n",
    "        for ctau in ctaus:\n",
    "            fig, ax = plt.subplots()\n",
    "\n",
    "            utils.plot_signal_2D(ax, sig_histo_true, m1, delta, ctau, plot_dict, style_2d_dict)\n",
    "        \n",
    "            plt.title(f'm1 = {m1}GeV, delta = {delta}, ctau = {ctau}mm')\n",
    "            plt.show()"
   ]
  },
  {
   "cell_type": "markdown",
   "id": "33c28ddf-6a48-40be-bcc5-d133bbe2a800",
   "metadata": {},
   "source": [
    "### sel_vtx_vxy_vs_sel_vtx_pt"
   ]
  },
  {
   "cell_type": "code",
   "execution_count": null,
   "id": "9c3a2fcb-a122-4035-afee-4f52986fbab7",
   "metadata": {
    "scrolled": true
   },
   "outputs": [],
   "source": [
    "# Plot settings\n",
    "plot_dict = {\n",
    "    'variable': 'sel_vtx_vxy_vs_sel_vtx_pt',\n",
    "    'cut': 'cut9',\n",
    "}\n",
    "\n",
    "style_2d_dict = {\n",
    "    'xrebin': 10j,\n",
    "    'yrebin': 1j,\n",
    "    'xlim': [0, 20],     # if None, the default will show up; otherwise give as a list, i.e. [0, 10]  \n",
    "    'ylim': None,     # if None, the default will show up; otherwise give as a list, i.e. [0, 10]\n",
    "    'doLogy': False, \n",
    "    'doLogx': False,\n",
    "    'doLogz': False,\n",
    "    'xlabel': None,   # if None, the default will show up; otherwise give as a string, i.e. 'Electron dxy'\n",
    "    'ylabel': None,   # if None, the default will show up; otherwise give as a string, i.e. 'Efficiency'\n",
    "    'flow': None,     # overflow\n",
    "}\n",
    "\n",
    "m1s = [5, 100]\n",
    "deltas = [0.1]\n",
    "ctaus = [1, 100]\n",
    "\n",
    "for m1 in m1s:\n",
    "    for delta in deltas:\n",
    "        for ctau in ctaus:\n",
    "            fig, ax = plt.subplots()\n",
    "\n",
    "            utils.plot_signal_2D(ax, sig_histo_true, m1, delta, ctau, plot_dict, style_2d_dict)\n",
    "        \n",
    "            plt.title(f'm1 = {m1}GeV, delta = {delta}, ctau = {ctau}mm')\n",
    "            plt.show()"
   ]
  },
  {
   "cell_type": "markdown",
   "id": "1194ce98-7eb5-485e-8bf2-ab136ba9a358",
   "metadata": {},
   "source": [
    "### sel_vtx_vxy_vs_sel_vtx_sign_eta"
   ]
  },
  {
   "cell_type": "code",
   "execution_count": null,
   "id": "077b44d2-7ad2-41c3-ba1f-5d38ee63bcaf",
   "metadata": {},
   "outputs": [],
   "source": [
    "# Plot settings\n",
    "plot_dict = {\n",
    "    'variable': 'sel_vtx_vxy_vs_sel_vtx_sign_eta',\n",
    "    'cut': 'cut9',\n",
    "}\n",
    "\n",
    "style_2d_dict = {\n",
    "    'xrebin': 10j,\n",
    "    'yrebin': 1j,\n",
    "    'xlim': [0, 20],     # if None, the default will show up; otherwise give as a list, i.e. [0, 10]  \n",
    "    'ylim': None,     # if None, the default will show up; otherwise give as a list, i.e. [0, 10]\n",
    "    'doLogy': False, \n",
    "    'doLogx': False,\n",
    "    'doLogz': False,\n",
    "    'xlabel': None,   # if None, the default will show up; otherwise give as a string, i.e. 'Electron dxy'\n",
    "    'ylabel': None,   # if None, the default will show up; otherwise give as a string, i.e. 'Efficiency'\n",
    "    'flow': None,     # overflow\n",
    "}\n",
    "\n",
    "m1s = [5, 100]\n",
    "deltas = [0.1]\n",
    "ctaus = [1, 100]\n",
    "\n",
    "for m1 in m1s:\n",
    "    for delta in deltas:\n",
    "        for ctau in ctaus:\n",
    "            fig, ax = plt.subplots()\n",
    "\n",
    "            utils.plot_signal_2D(ax, sig_histo_true, m1, delta, ctau, plot_dict, style_2d_dict)\n",
    "        \n",
    "            plt.title(f'm1 = {m1}GeV, delta = {delta}, ctau = {ctau}mm')\n",
    "            plt.show()"
   ]
  },
  {
   "cell_type": "code",
   "execution_count": null,
   "id": "b0829df2-4b42-4bc2-8035-125fde3b10de",
   "metadata": {},
   "outputs": [],
   "source": []
  },
  {
   "cell_type": "markdown",
   "id": "0b359937-3950-4a82-965b-47b5430b0a63",
   "metadata": {},
   "source": [
    "### sel_vtx_vxy_vs_matchType"
   ]
  },
  {
   "cell_type": "code",
   "execution_count": null,
   "id": "77e3b7de-f68b-4321-92a9-b1f6d97414a3",
   "metadata": {
    "scrolled": true
   },
   "outputs": [],
   "source": [
    "# Plot settings\n",
    "plot_dict = {\n",
    "    'variable': 'sel_vtx_vxy_vs_matchType',\n",
    "    'cut': 'cut9',\n",
    "}\n",
    "\n",
    "style_2d_dict = {\n",
    "    'xrebin': 10j,\n",
    "    'yrebin': 1j,\n",
    "    'xlim': [0, 20],     # if None, the default will show up; otherwise give as a list, i.e. [0, 10]  \n",
    "    'ylim': None,     # if None, the default will show up; otherwise give as a list, i.e. [0, 10]\n",
    "    'doLogy': False, \n",
    "    'doLogx': False,\n",
    "    'doLogz': False,\n",
    "    'xlabel': None,   # if None, the default will show up; otherwise give as a string, i.e. 'Electron dxy'\n",
    "    'ylabel': None,   # if None, the default will show up; otherwise give as a string, i.e. 'Efficiency'\n",
    "    'flow': None,     # overflow\n",
    "}\n",
    "\n",
    "m1s = [5, 100]\n",
    "deltas = [0.1]\n",
    "ctaus = [1, 100]\n",
    "\n",
    "for m1 in m1s:\n",
    "    for delta in deltas:\n",
    "        for ctau in ctaus:\n",
    "            fig, ax = plt.subplots()\n",
    "\n",
    "            utils.plot_signal_2D(ax, sig_histo_best, m1, delta, ctau, plot_dict, style_2d_dict)\n",
    "        \n",
    "            plt.title(f'm1 = {m1}GeV, delta = {delta}, ctau = {ctau}mm')\n",
    "            plt.show()"
   ]
  },
  {
   "cell_type": "markdown",
   "id": "7dccac88-8d56-477e-8242-c2521d028c51",
   "metadata": {},
   "source": [
    "### sel_vtx_minDxy_vs_matchType"
   ]
  },
  {
   "cell_type": "code",
   "execution_count": null,
   "id": "001fb404-1274-4b83-9020-d8bfb022e151",
   "metadata": {
    "scrolled": true
   },
   "outputs": [],
   "source": [
    "# Plot settings\n",
    "plot_dict = {\n",
    "    'variable': 'sel_vtx_minDxy_vs_matchType',\n",
    "    'cut': 'cut9',\n",
    "}\n",
    "\n",
    "style_2d_dict = {\n",
    "    'xrebin': 10j,\n",
    "    'yrebin': 1j,\n",
    "    'xlim': [0,1],     # if None, the default will show up; otherwise give as a list, i.e. [0, 10]  \n",
    "    'ylim': None,     # if None, the default will show up; otherwise give as a list, i.e. [0, 10]\n",
    "    'doLogy': False, \n",
    "    'doLogx': False,\n",
    "    'doLogz': False,\n",
    "    'xlabel': None,   # if None, the default will show up; otherwise give as a string, i.e. 'Electron dxy'\n",
    "    'ylabel': None,   # if None, the default will show up; otherwise give as a string, i.e. 'Efficiency'\n",
    "    'flow': None,     # overflow\n",
    "}\n",
    "\n",
    "m1s = [5, 100]\n",
    "deltas = [0.1]\n",
    "ctaus = [1, 100]\n",
    "\n",
    "for m1 in m1s:\n",
    "    for delta in deltas:\n",
    "        for ctau in ctaus:\n",
    "            fig, ax = plt.subplots()\n",
    "\n",
    "            utils.plot_signal_2D(ax, sig_histo_best, m1, delta, ctau, plot_dict, style_2d_dict)\n",
    "        \n",
    "            plt.title(f'm1 = {m1}GeV, delta = {delta}, ctau = {ctau}mm')\n",
    "            plt.show()"
   ]
  },
  {
   "cell_type": "markdown",
   "id": "508653f3-1544-493f-bb2d-233ed5b1c6d8",
   "metadata": {},
   "source": [
    "### sel_vtx_minDz_vs_matchType"
   ]
  },
  {
   "cell_type": "code",
   "execution_count": null,
   "id": "b5445e23-7c58-4436-bba1-d1b11a3bb2f6",
   "metadata": {
    "scrolled": true
   },
   "outputs": [],
   "source": [
    "# Plot settings\n",
    "plot_dict = {\n",
    "    'variable': 'sel_vtx_minDz_vs_matchType',\n",
    "    'cut': 'cut9',\n",
    "}\n",
    "\n",
    "style_2d_dict = {\n",
    "    'xrebin': 10j,\n",
    "    'yrebin': 1j,\n",
    "    'xlim': None,     # if None, the default will show up; otherwise give as a list, i.e. [0, 10]  \n",
    "    'ylim': None,     # if None, the default will show up; otherwise give as a list, i.e. [0, 10]\n",
    "    'doLogy': False, \n",
    "    'doLogx': False,\n",
    "    'doLogz': False,\n",
    "    'xlabel': None,   # if None, the default will show up; otherwise give as a string, i.e. 'Electron dxy'\n",
    "    'ylabel': None,   # if None, the default will show up; otherwise give as a string, i.e. 'Efficiency'\n",
    "    'flow': None,     # overflow\n",
    "}\n",
    "\n",
    "m1s = [5, 100]\n",
    "deltas = [0.1]\n",
    "ctaus = [1, 100]\n",
    "\n",
    "for m1 in m1s:\n",
    "    for delta in deltas:\n",
    "        for ctau in ctaus:\n",
    "            fig, ax = plt.subplots()\n",
    "\n",
    "            utils.plot_signal_2D(ax, sig_histo_best, m1, delta, ctau, plot_dict, style_2d_dict)\n",
    "        \n",
    "            plt.title(f'm1 = {m1}GeV, delta = {delta}, ctau = {ctau}mm')\n",
    "            plt.show()"
   ]
  },
  {
   "cell_type": "markdown",
   "id": "0a0f6b20-a7ce-4537-abba-a1af9b366e46",
   "metadata": {},
   "source": [
    "### sel_vtx_deltaDxy_vs_matchType"
   ]
  },
  {
   "cell_type": "code",
   "execution_count": null,
   "id": "ffe1dcaf-e672-4439-adf8-1a613ff44fc4",
   "metadata": {
    "scrolled": true
   },
   "outputs": [],
   "source": [
    "# Plot settings\n",
    "plot_dict = {\n",
    "    'variable': 'sel_vtx_deltaDxy_vs_matchType',\n",
    "    'cut': 'cut9',\n",
    "}\n",
    "\n",
    "style_2d_dict = {\n",
    "    'xrebin': 10j,\n",
    "    'yrebin': 1j,\n",
    "    'xlim': None,     # if None, the default will show up; otherwise give as a list, i.e. [0, 10]  \n",
    "    'ylim': None,     # if None, the default will show up; otherwise give as a list, i.e. [0, 10]\n",
    "    'doLogy': False, \n",
    "    'doLogx': False,\n",
    "    'doLogz': False,\n",
    "    'xlabel': None,   # if None, the default will show up; otherwise give as a string, i.e. 'Electron dxy'\n",
    "    'ylabel': None,   # if None, the default will show up; otherwise give as a string, i.e. 'Efficiency'\n",
    "    'flow': None,     # overflow\n",
    "}\n",
    "\n",
    "m1s = [5, 100]\n",
    "deltas = [0.1]\n",
    "ctaus = [1, 100]\n",
    "\n",
    "for m1 in m1s:\n",
    "    for delta in deltas:\n",
    "        for ctau in ctaus:\n",
    "            fig, ax = plt.subplots()\n",
    "\n",
    "            utils.plot_signal_2D(ax, sig_histo_best, m1, delta, ctau, plot_dict, style_2d_dict)\n",
    "        \n",
    "            plt.title(f'm1 = {m1}GeV, delta = {delta}, ctau = {ctau}mm')\n",
    "            plt.show()"
   ]
  },
  {
   "cell_type": "markdown",
   "id": "df277a4c-06f4-4d38-a489-841e146e84d2",
   "metadata": {},
   "source": [
    "### sel_vtx_deltaDz_vs_matchType"
   ]
  },
  {
   "cell_type": "code",
   "execution_count": null,
   "id": "8155f075-c768-4cac-89c2-efa90679472f",
   "metadata": {
    "scrolled": true
   },
   "outputs": [],
   "source": [
    "# Plot settings\n",
    "plot_dict = {\n",
    "    'variable': 'sel_vtx_deltaDz_vs_matchType',\n",
    "    'cut': 'cut9',\n",
    "}\n",
    "\n",
    "style_2d_dict = {\n",
    "    'xrebin': 10j,\n",
    "    'yrebin': 1j,\n",
    "    'xlim': None,     # if None, the default will show up; otherwise give as a list, i.e. [0, 10]  \n",
    "    'ylim': None,     # if None, the default will show up; otherwise give as a list, i.e. [0, 10]\n",
    "    'doLogy': False, \n",
    "    'doLogx': False,\n",
    "    'doLogz': False,\n",
    "    'xlabel': None,   # if None, the default will show up; otherwise give as a string, i.e. 'Electron dxy'\n",
    "    'ylabel': None,   # if None, the default will show up; otherwise give as a string, i.e. 'Efficiency'\n",
    "    'flow': None,     # overflow\n",
    "}\n",
    "\n",
    "m1s = [5, 100]\n",
    "deltas = [0.1]\n",
    "ctaus = [1, 100]\n",
    "\n",
    "for m1 in m1s:\n",
    "    for delta in deltas:\n",
    "        for ctau in ctaus:\n",
    "            fig, ax = plt.subplots()\n",
    "\n",
    "            utils.plot_signal_2D(ax, sig_histo_best, m1, delta, ctau, plot_dict, style_2d_dict)\n",
    "        \n",
    "            plt.title(f'm1 = {m1}GeV, delta = {delta}, ctau = {ctau}mm')\n",
    "            plt.show()"
   ]
  },
  {
   "cell_type": "markdown",
   "id": "3db76aa6-a31b-4e73-8c50-adbd1f805af0",
   "metadata": {},
   "source": [
    "### sel_vtx_vxySignif_vs_matchType"
   ]
  },
  {
   "cell_type": "code",
   "execution_count": null,
   "id": "7b4bc31c-30b9-4d89-bc92-736aa13726d3",
   "metadata": {
    "scrolled": true
   },
   "outputs": [],
   "source": [
    "# Plot settings\n",
    "plot_dict = {\n",
    "    'variable': 'sel_vtx_vxySignif_vs_matchType',\n",
    "    'cut': 'cut9',\n",
    "}\n",
    "\n",
    "style_2d_dict = {\n",
    "    'xrebin': 1j,\n",
    "    'yrebin': 1j,\n",
    "    'xlim': None,     # if None, the default will show up; otherwise give as a list, i.e. [0, 10]  \n",
    "    'ylim': None,     # if None, the default will show up; otherwise give as a list, i.e. [0, 10]\n",
    "    'doLogy': False, \n",
    "    'doLogx': False,\n",
    "    'doLogz': False,\n",
    "    'xlabel': None,   # if None, the default will show up; otherwise give as a string, i.e. 'Electron dxy'\n",
    "    'ylabel': None,   # if None, the default will show up; otherwise give as a string, i.e. 'Efficiency'\n",
    "    'flow': None,     # overflow\n",
    "}\n",
    "\n",
    "m1s = [5, 100]\n",
    "deltas = [0.1]\n",
    "ctaus = [1, 100]\n",
    "\n",
    "for m1 in m1s:\n",
    "    for delta in deltas:\n",
    "        for ctau in ctaus:\n",
    "            fig, ax = plt.subplots()\n",
    "\n",
    "            utils.plot_signal_2D(ax, sig_histo_best, m1, delta, ctau, plot_dict, style_2d_dict)\n",
    "        \n",
    "            plt.title(f'm1 = {m1}GeV, delta = {delta}, ctau = {ctau}mm')\n",
    "            plt.show()"
   ]
  },
  {
   "cell_type": "markdown",
   "id": "b9bc5e17-b928-458b-9860-88a7411d199d",
   "metadata": {},
   "source": [
    "### sel_vtx_chi2_vs_matchType"
   ]
  },
  {
   "cell_type": "code",
   "execution_count": null,
   "id": "07f201a9-3554-4a44-a773-618475278203",
   "metadata": {
    "scrolled": true
   },
   "outputs": [],
   "source": [
    "# Plot settings\n",
    "plot_dict = {\n",
    "    'variable': 'sel_vtx_chi2_vs_matchType',\n",
    "    'cut': 'cut9',\n",
    "}\n",
    "\n",
    "style_2d_dict = {\n",
    "    'xrebin': 1j,\n",
    "    'yrebin': 1j,\n",
    "    'xlim': [0,10],     # if None, the default will show up; otherwise give as a list, i.e. [0, 10]  \n",
    "    'ylim': None,     # if None, the default will show up; otherwise give as a list, i.e. [0, 10]\n",
    "    'doLogy': False, \n",
    "    'doLogx': False,\n",
    "    'doLogz': False,\n",
    "    'xlabel': None,   # if None, the default will show up; otherwise give as a string, i.e. 'Electron dxy'\n",
    "    'ylabel': None,   # if None, the default will show up; otherwise give as a string, i.e. 'Efficiency'\n",
    "    'flow': None,     # overflow\n",
    "}\n",
    "\n",
    "m1s = [5, 100]\n",
    "deltas = [0.1]\n",
    "ctaus = [1, 100]\n",
    "\n",
    "for m1 in m1s:\n",
    "    for delta in deltas:\n",
    "        for ctau in ctaus:\n",
    "            fig, ax = plt.subplots()\n",
    "\n",
    "            utils.plot_signal_2D(ax, sig_histo_best, m1, delta, ctau, plot_dict, style_2d_dict)\n",
    "        \n",
    "            plt.title(f'm1 = {m1}GeV, delta = {delta}, ctau = {ctau}mm')\n",
    "            plt.show()"
   ]
  },
  {
   "cell_type": "markdown",
   "id": "07038cf8-3b0c-4c7f-9007-8343990fa2a5",
   "metadata": {},
   "source": [
    "### sel_vtx_dR_vs_matchType"
   ]
  },
  {
   "cell_type": "code",
   "execution_count": null,
   "id": "67019b81-a1e9-4e4f-8992-efa229b3a339",
   "metadata": {
    "scrolled": true
   },
   "outputs": [],
   "source": [
    "# Plot settings\n",
    "plot_dict = {\n",
    "    'variable': 'sel_vtx_dR_vs_matchType',\n",
    "    'cut': 'cut9',\n",
    "}\n",
    "\n",
    "style_2d_dict = {\n",
    "    'xrebin': 1j,\n",
    "    'yrebin': 1j,\n",
    "    'xlim': [0, 5],     # if None, the default will show up; otherwise give as a list, i.e. [0, 10]  \n",
    "    'ylim': None,     # if None, the default will show up; otherwise give as a list, i.e. [0, 10]\n",
    "    'doLogy': False, \n",
    "    'doLogx': False,\n",
    "    'doLogz': False,\n",
    "    'xlabel': None,   # if None, the default will show up; otherwise give as a string, i.e. 'Electron dxy'\n",
    "    'ylabel': None,   # if None, the default will show up; otherwise give as a string, i.e. 'Efficiency'\n",
    "    'flow': None,     # overflow\n",
    "}\n",
    "\n",
    "m1s = [5, 100]\n",
    "deltas = [0.1]\n",
    "ctaus = [1, 100]\n",
    "\n",
    "for m1 in m1s:\n",
    "    for delta in deltas:\n",
    "        for ctau in ctaus:\n",
    "            fig, ax = plt.subplots()\n",
    "\n",
    "            utils.plot_signal_2D(ax, sig_histo_best, m1, delta, ctau, plot_dict, style_2d_dict)\n",
    "        \n",
    "            plt.title(f'm1 = {m1}GeV, delta = {delta}, ctau = {ctau}mm')\n",
    "            plt.show()"
   ]
  },
  {
   "cell_type": "markdown",
   "id": "0bf7fdd3-fc2d-4389-ae45-1aff8db14db9",
   "metadata": {},
   "source": [
    "### sel_vtx_dEta_vs_matchType"
   ]
  },
  {
   "cell_type": "code",
   "execution_count": null,
   "id": "e8ed8596-187e-43b4-96a2-4df36e0b491f",
   "metadata": {
    "scrolled": true
   },
   "outputs": [],
   "source": [
    "# Plot settings\n",
    "plot_dict = {\n",
    "    'variable': 'sel_vtx_dEta_vs_matchType',\n",
    "    'cut': 'cut9',\n",
    "}\n",
    "\n",
    "style_2d_dict = {\n",
    "    'xrebin': 1j,\n",
    "    'yrebin': 1j,\n",
    "    'xlim': [0, 5],     # if None, the default will show up; otherwise give as a list, i.e. [0, 10]  \n",
    "    'ylim': None,     # if None, the default will show up; otherwise give as a list, i.e. [0, 10]\n",
    "    'doLogy': False, \n",
    "    'doLogx': False,\n",
    "    'doLogz': False,\n",
    "    'xlabel': None,   # if None, the default will show up; otherwise give as a string, i.e. 'Electron dxy'\n",
    "    'ylabel': None,   # if None, the default will show up; otherwise give as a string, i.e. 'Efficiency'\n",
    "    'flow': None,     # overflow\n",
    "}\n",
    "\n",
    "m1s = [5, 100]\n",
    "deltas = [0.1]\n",
    "ctaus = [1, 100]\n",
    "\n",
    "for m1 in m1s:\n",
    "    for delta in deltas:\n",
    "        for ctau in ctaus:\n",
    "            fig, ax = plt.subplots()\n",
    "\n",
    "            utils.plot_signal_2D(ax, sig_histo_best, m1, delta, ctau, plot_dict, style_2d_dict)\n",
    "        \n",
    "            plt.title(f'm1 = {m1}GeV, delta = {delta}, ctau = {ctau}mm')\n",
    "            plt.show()"
   ]
  },
  {
   "cell_type": "markdown",
   "id": "6a903ab3-c159-4eca-93eb-93a08798185a",
   "metadata": {},
   "source": [
    "### sel_vtx_dPhi_vs_matchType"
   ]
  },
  {
   "cell_type": "code",
   "execution_count": null,
   "id": "efcd5a2c-ac54-43a3-b1cc-fbbc8aaf8625",
   "metadata": {
    "scrolled": true
   },
   "outputs": [],
   "source": [
    "# Plot settings\n",
    "plot_dict = {\n",
    "    'variable': 'sel_vtx_dPhi_vs_matchType',\n",
    "    'cut': 'cut9',\n",
    "}\n",
    "\n",
    "style_2d_dict = {\n",
    "    'xrebin': 1j,\n",
    "    'yrebin': 1j,\n",
    "    'xlim': [0, 5],     # if None, the default will show up; otherwise give as a list, i.e. [0, 10]  \n",
    "    'ylim': None,     # if None, the default will show up; otherwise give as a list, i.e. [0, 10]\n",
    "    'doLogy': False, \n",
    "    'doLogx': False,\n",
    "    'doLogz': False,\n",
    "    'xlabel': None,   # if None, the default will show up; otherwise give as a string, i.e. 'Electron dxy'\n",
    "    'ylabel': None,   # if None, the default will show up; otherwise give as a string, i.e. 'Efficiency'\n",
    "    'flow': None,     # overflow\n",
    "}\n",
    "\n",
    "m1s = [5, 100]\n",
    "deltas = [0.1]\n",
    "ctaus = [1, 100]\n",
    "\n",
    "for m1 in m1s:\n",
    "    for delta in deltas:\n",
    "        for ctau in ctaus:\n",
    "            fig, ax = plt.subplots()\n",
    "\n",
    "            utils.plot_signal_2D(ax, sig_histo_best, m1, delta, ctau, plot_dict, style_2d_dict)\n",
    "        \n",
    "            plt.title(f'm1 = {m1}GeV, delta = {delta}, ctau = {ctau}mm')\n",
    "            plt.show()"
   ]
  },
  {
   "cell_type": "markdown",
   "id": "8f4af01a-ffdb-4e3f-a736-ac7f99027c1e",
   "metadata": {},
   "source": [
    "### sel_vtx_sign_eta_vs_matchType"
   ]
  },
  {
   "cell_type": "code",
   "execution_count": null,
   "id": "ca2396f5-b2a8-4546-bc28-5b187023532c",
   "metadata": {
    "scrolled": true
   },
   "outputs": [],
   "source": [
    "# Plot settings\n",
    "plot_dict = {\n",
    "    'variable': 'sel_vtx_sign_eta_vs_matchType',\n",
    "    'cut': 'cut9',\n",
    "}\n",
    "\n",
    "style_2d_dict = {\n",
    "    'xrebin': 1j,\n",
    "    'yrebin': 1j,\n",
    "    'xlim': None,     # if None, the default will show up; otherwise give as a list, i.e. [0, 10]  \n",
    "    'ylim': None,     # if None, the default will show up; otherwise give as a list, i.e. [0, 10]\n",
    "    'doLogy': False, \n",
    "    'doLogx': False,\n",
    "    'doLogz': False,\n",
    "    'xlabel': None,   # if None, the default will show up; otherwise give as a string, i.e. 'Electron dxy'\n",
    "    'ylabel': None,   # if None, the default will show up; otherwise give as a string, i.e. 'Efficiency'\n",
    "    'flow': None,     # overflow\n",
    "}\n",
    "\n",
    "m1s = [5, 100]\n",
    "deltas = [0.1]\n",
    "ctaus = [1, 100]\n",
    "\n",
    "for m1 in m1s:\n",
    "    for delta in deltas:\n",
    "        for ctau in ctaus:\n",
    "            fig, ax = plt.subplots()\n",
    "\n",
    "            utils.plot_signal_2D(ax, sig_histo_best, m1, delta, ctau, plot_dict, style_2d_dict)\n",
    "        \n",
    "            plt.title(f'm1 = {m1}GeV, delta = {delta}, ctau = {ctau}mm')\n",
    "            plt.show()"
   ]
  },
  {
   "cell_type": "markdown",
   "id": "14ce069f-0429-4902-a79d-5524a393bcf3",
   "metadata": {},
   "source": [
    "### sel_vtx_pt_vs_matchType"
   ]
  },
  {
   "cell_type": "code",
   "execution_count": null,
   "id": "f041e133-0abe-4ff2-8ba2-fdaeb4b20e47",
   "metadata": {
    "scrolled": true
   },
   "outputs": [],
   "source": [
    "# Plot settings\n",
    "plot_dict = {\n",
    "    'variable': 'sel_vtx_pt_vs_matchType',\n",
    "    'cut': 'cut9',\n",
    "}\n",
    "\n",
    "style_2d_dict = {\n",
    "    'xrebin': 2j,\n",
    "    'yrebin': 1j,\n",
    "    'xlim': None,     # if None, the default will show up; otherwise give as a list, i.e. [0, 10]  \n",
    "    'ylim': None,     # if None, the default will show up; otherwise give as a list, i.e. [0, 10]\n",
    "    'doLogy': False, \n",
    "    'doLogx': False,\n",
    "    'doLogz': False,\n",
    "    'xlabel': None,   # if None, the default will show up; otherwise give as a string, i.e. 'Electron dxy'\n",
    "    'ylabel': None,   # if None, the default will show up; otherwise give as a string, i.e. 'Efficiency'\n",
    "    'flow': None,     # overflow\n",
    "}\n",
    "\n",
    "m1s = [5, 100]\n",
    "deltas = [0.1]\n",
    "ctaus = [1, 100]\n",
    "\n",
    "for m1 in m1s:\n",
    "    for delta in deltas:\n",
    "        for ctau in ctaus:\n",
    "            fig, ax = plt.subplots()\n",
    "\n",
    "            utils.plot_signal_2D(ax, sig_histo_best, m1, delta, ctau, plot_dict, style_2d_dict)\n",
    "        \n",
    "            plt.title(f'm1 = {m1}GeV, delta = {delta}, ctau = {ctau}mm')\n",
    "            plt.show()"
   ]
  },
  {
   "cell_type": "markdown",
   "id": "20834b86-cab9-44d3-b9a6-781646734755",
   "metadata": {},
   "source": [
    "### sel_vtx_eta_vs_matchType"
   ]
  },
  {
   "cell_type": "code",
   "execution_count": null,
   "id": "3c8cf8e8-f986-4fe2-9866-c0f8a99b8222",
   "metadata": {
    "scrolled": true
   },
   "outputs": [],
   "source": [
    "# Plot settings\n",
    "plot_dict = {\n",
    "    'variable': 'sel_vtx_eta_vs_matchType',\n",
    "    'cut': 'cut9',\n",
    "}\n",
    "\n",
    "style_2d_dict = {\n",
    "    'xrebin': 1j,\n",
    "    'yrebin': 1j,\n",
    "    'xlim': None,     # if None, the default will show up; otherwise give as a list, i.e. [0, 10]  \n",
    "    'ylim': None,     # if None, the default will show up; otherwise give as a list, i.e. [0, 10]\n",
    "    'doLogy': False, \n",
    "    'doLogx': False,\n",
    "    'doLogz': False,\n",
    "    'xlabel': None,   # if None, the default will show up; otherwise give as a string, i.e. 'Electron dxy'\n",
    "    'ylabel': None,   # if None, the default will show up; otherwise give as a string, i.e. 'Efficiency'\n",
    "    'flow': None,     # overflow\n",
    "}\n",
    "\n",
    "m1s = [5, 100]\n",
    "deltas = [0.1]\n",
    "ctaus = [1, 100]\n",
    "\n",
    "for m1 in m1s:\n",
    "    for delta in deltas:\n",
    "        for ctau in ctaus:\n",
    "            fig, ax = plt.subplots()\n",
    "\n",
    "            utils.plot_signal_2D(ax, sig_histo_best, m1, delta, ctau, plot_dict, style_2d_dict)\n",
    "        \n",
    "            plt.title(f'm1 = {m1}GeV, delta = {delta}, ctau = {ctau}mm')\n",
    "            plt.show()"
   ]
  },
  {
   "cell_type": "markdown",
   "id": "02d519a6-a071-4908-83ad-7dd35bbc58c4",
   "metadata": {},
   "source": [
    "### sel_vtx_phi_vs_matchType"
   ]
  },
  {
   "cell_type": "code",
   "execution_count": null,
   "id": "0e1ca3c7-8ff3-4f72-af86-e50de596a36c",
   "metadata": {
    "scrolled": true
   },
   "outputs": [],
   "source": [
    "# Plot settings\n",
    "plot_dict = {\n",
    "    'variable': 'sel_vtx_phi_vs_matchType',\n",
    "    'cut': 'cut9',\n",
    "}\n",
    "\n",
    "style_2d_dict = {\n",
    "    'xrebin': 1j,\n",
    "    'yrebin': 1j,\n",
    "    'xlim': None,     # if None, the default will show up; otherwise give as a list, i.e. [0, 10]  \n",
    "    'ylim': None,     # if None, the default will show up; otherwise give as a list, i.e. [0, 10]\n",
    "    'doLogy': False, \n",
    "    'doLogx': False,\n",
    "    'doLogz': False,\n",
    "    'xlabel': None,   # if None, the default will show up; otherwise give as a string, i.e. 'Electron dxy'\n",
    "    'ylabel': None,   # if None, the default will show up; otherwise give as a string, i.e. 'Efficiency'\n",
    "    'flow': None,     # overflow\n",
    "}\n",
    "\n",
    "m1s = [5, 100]\n",
    "deltas = [0.1]\n",
    "ctaus = [1, 100]\n",
    "\n",
    "for m1 in m1s:\n",
    "    for delta in deltas:\n",
    "        for ctau in ctaus:\n",
    "            fig, ax = plt.subplots()\n",
    "\n",
    "            utils.plot_signal_2D(ax, sig_histo_best, m1, delta, ctau, plot_dict, style_2d_dict)\n",
    "        \n",
    "            plt.title(f'm1 = {m1}GeV, delta = {delta}, ctau = {ctau}mm')\n",
    "            plt.show()"
   ]
  },
  {
   "cell_type": "markdown",
   "id": "c71782ce-bf58-4b1c-b359-87d5bc475f49",
   "metadata": {},
   "source": [
    "### sel_vtx_mass_vs_matchType"
   ]
  },
  {
   "cell_type": "code",
   "execution_count": null,
   "id": "9a4d2542-9ddb-4f70-b743-86a1e707cfae",
   "metadata": {
    "scrolled": true
   },
   "outputs": [],
   "source": [
    "# Plot settings\n",
    "plot_dict = {\n",
    "    'variable': 'sel_vtx_mass_vs_matchType',\n",
    "    'cut': 'cut9',\n",
    "}\n",
    "\n",
    "style_2d_dict = {\n",
    "    'xrebin': 2j,\n",
    "    'yrebin': 1j,\n",
    "    'xlim': None,     # if None, the default will show up; otherwise give as a list, i.e. [0, 10]  \n",
    "    'ylim': None,     # if None, the default will show up; otherwise give as a list, i.e. [0, 10]\n",
    "    'doLogy': False, \n",
    "    'doLogx': False,\n",
    "    'doLogz': False,\n",
    "    'xlabel': None,   # if None, the default will show up; otherwise give as a string, i.e. 'Electron dxy'\n",
    "    'ylabel': None,   # if None, the default will show up; otherwise give as a string, i.e. 'Efficiency'\n",
    "    'flow': None,     # overflow\n",
    "}\n",
    "\n",
    "m1s = [5, 100]\n",
    "deltas = [0.1]\n",
    "ctaus = [1, 100]\n",
    "\n",
    "for m1 in m1s:\n",
    "    for delta in deltas:\n",
    "        for ctau in ctaus:\n",
    "            fig, ax = plt.subplots()\n",
    "\n",
    "            utils.plot_signal_2D(ax, sig_histo_best, m1, delta, ctau, plot_dict, style_2d_dict)\n",
    "        \n",
    "            plt.title(f'm1 = {m1}GeV, delta = {delta}, ctau = {ctau}mm')\n",
    "            plt.show()"
   ]
  },
  {
   "cell_type": "markdown",
   "id": "420f0f7a-736d-49e3-993a-1903cf12dfc5",
   "metadata": {},
   "source": [
    "### sel_vtx_type_vs_matchType"
   ]
  },
  {
   "cell_type": "code",
   "execution_count": null,
   "id": "5429ae85-a0fd-47d0-b331-ebd9369211b8",
   "metadata": {},
   "outputs": [],
   "source": [
    "# Plot settings\n",
    "plot_dict = {\n",
    "    'variable': 'sel_vtx_type_vs_matchType',\n",
    "    'cut': 'cut9',\n",
    "}\n",
    "style_2d_dict = {\n",
    "    'xrebin': 1j,\n",
    "    'yrebin': 1j,\n",
    "    'xlim': None,     # if None, the default will show up; otherwise give as a list, i.e. [0, 10]  \n",
    "    'ylim': None,     # if None, the default will show up; otherwise give as a list, i.e. [0, 10]\n",
    "    'doLogy': False, \n",
    "    'doLogx': False,\n",
    "    'doLogz': False,\n",
    "    'xlabel': None,   # if None, the default will show up; otherwise give as a string, i.e. 'Electron dxy'\n",
    "    'ylabel': None,   # if None, the default will show up; otherwise give as a string, i.e. 'Efficiency'\n",
    "    'flow': None,     # overflow\n",
    "}\n",
    "\n",
    "m1s = [50]\n",
    "deltas = [0.2]\n",
    "ctaus = [1, 100]\n",
    "\n",
    "for m1 in m1s:\n",
    "    for delta in deltas:\n",
    "        for ctau in ctaus:\n",
    "            fig, ax = plt.subplots()\n",
    "\n",
    "            utils.plot_signal_2D(ax, sig_histo_best, m1, delta, ctau, plot_dict, style_2d_dict)\n",
    "        \n",
    "            plt.title(f'm1 = {m1}GeV, delta = {delta}, ctau = {ctau}mm')\n",
    "            plt.show()"
   ]
  },
  {
   "cell_type": "code",
   "execution_count": null,
   "id": "099de144-d2c5-4210-ba9d-33df11264f63",
   "metadata": {},
   "outputs": [],
   "source": []
  },
  {
   "cell_type": "code",
   "execution_count": null,
   "id": "36fca6a5-5812-4ef2-9e83-74243f33cf23",
   "metadata": {},
   "outputs": [],
   "source": []
  }
 ],
 "metadata": {
  "kernelspec": {
   "display_name": "Python 3 (ipykernel)",
   "language": "python",
   "name": "python3"
  },
  "language_info": {
   "codemirror_mode": {
    "name": "ipython",
    "version": 3
   },
   "file_extension": ".py",
   "mimetype": "text/x-python",
   "name": "python",
   "nbconvert_exporter": "python",
   "pygments_lexer": "ipython3",
   "version": "3.8.17"
  }
 },
 "nbformat": 4,
 "nbformat_minor": 5
}
