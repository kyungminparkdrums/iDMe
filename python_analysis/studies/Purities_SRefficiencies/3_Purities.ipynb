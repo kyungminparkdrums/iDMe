{
 "cells": [
  {
   "cell_type": "code",
   "execution_count": 1,
   "id": "1ae1ddc1-3746-4884-a4ce-3b88864020ab",
   "metadata": {},
   "outputs": [],
   "source": [
    "%load_ext autoreload\n",
    "%autoreload 2\n",
    "import numpy as np\n",
    "import matplotlib.pyplot as plt\n",
    "from coffea import util\n",
    "from coffea.processor import accumulate\n",
    "import os, sys\n",
    "import re\n",
    "import pandas as pd\n",
    "import hist\n",
    "import matplotlib as mpl\n",
    "import mplhep\n",
    "import utils\n",
    "from pathlib import Path\n",
    "import mplhep\n",
    "import matplotlib as mpl\n",
    "\n",
    "sys.path.append(\"../../../analysisTools/\")\n",
    "import plotTools as ptools"
   ]
  },
  {
   "cell_type": "markdown",
   "id": "9b0bcd97-1cb2-40c0-998e-5588c1aadf7f",
   "metadata": {
    "jp-MarkdownHeadingCollapsed": true
   },
   "source": [
    "## df saving functions"
   ]
  },
  {
   "cell_type": "code",
   "execution_count": 2,
   "id": "59c65538-9a68-472f-a6fa-e1751c76bdd6",
   "metadata": {},
   "outputs": [],
   "source": [
    "def add_signal_info_to_df(df):\n",
    "    m1_list = []\n",
    "    delta_list = []\n",
    "    ctau_list = []\n",
    "    \n",
    "    for point in df.index.values:\n",
    "        sig_dict = ptools.signalPoint(point)\n",
    "        m1_list.append(sig_dict['m1'])\n",
    "        delta_list.append(sig_dict['delta'])\n",
    "        ctau_list.append(sig_dict['ctau'])\n",
    "    \n",
    "    df['m1'] = m1_list\n",
    "    df['delta'] = delta_list\n",
    "    df['ctau'] = ctau_list\n",
    "    \n",
    "    df = df.sort_values(by=['m1']) # sort by m1\n",
    "\n",
    "    return df"
   ]
  },
  {
   "cell_type": "code",
   "execution_count": 3,
   "id": "af98fe50-dff1-4af3-8e3f-5a69f5ed7063",
   "metadata": {},
   "outputs": [],
   "source": [
    "def save_df_to_csv(df, outdir, outname, isSignal = False):\n",
    "    Path(outdir).mkdir(parents=True, exist_ok=True)\n",
    "\n",
    "    if isSignal:\n",
    "        df = add_signal_info_to_df(df)\n",
    "    \n",
    "    df.to_csv(f'{outdir}/{outname}.csv')\n",
    "\n",
    "    print(f'Saved: {outdir}/{outname}.csv')"
   ]
  },
  {
   "cell_type": "code",
   "execution_count": null,
   "id": "bc37bcab-72ce-4d5d-88d0-a050597ebf8a",
   "metadata": {},
   "outputs": [],
   "source": []
  },
  {
   "cell_type": "markdown",
   "id": "bdcd039a-8942-4b3a-ba81-3ca08d8d8a41",
   "metadata": {},
   "source": [
    "## Signal"
   ]
  },
  {
   "cell_type": "code",
   "execution_count": 4,
   "id": "5b9457ac-670a-40a4-91ba-a509b630c413",
   "metadata": {},
   "outputs": [],
   "source": [
    "prefix = './coffea/skimmed/'\n",
    "suffix = 'SR_BDTLxy_BestVertex_allMass'"
   ]
  },
  {
   "cell_type": "code",
   "execution_count": 5,
   "id": "bbe7d082-eae2-44b7-afd0-3bfc9b087eb7",
   "metadata": {},
   "outputs": [],
   "source": [
    "# Signal\n",
    "sig_histo = util.load(f'{prefix}/{suffix}.coffea')[0]"
   ]
  },
  {
   "cell_type": "code",
   "execution_count": 6,
   "id": "0bbf352e-1349-4f7a-a3a3-9496fc1f64dd",
   "metadata": {
    "scrolled": true
   },
   "outputs": [
    {
     "data": {
      "text/html": [
       "<div>\n",
       "<style scoped>\n",
       "    .dataframe tbody tr th:only-of-type {\n",
       "        vertical-align: middle;\n",
       "    }\n",
       "\n",
       "    .dataframe tbody tr th {\n",
       "        vertical-align: top;\n",
       "    }\n",
       "\n",
       "    .dataframe thead th {\n",
       "        text-align: right;\n",
       "    }\n",
       "</style>\n",
       "<table border=\"1\" class=\"dataframe\">\n",
       "  <thead>\n",
       "    <tr style=\"text-align: right;\">\n",
       "      <th></th>\n",
       "      <th>mchi</th>\n",
       "      <th>dmchi</th>\n",
       "      <th>ctau</th>\n",
       "      <th>m1</th>\n",
       "      <th>m2</th>\n",
       "      <th>delta</th>\n",
       "      <th>name</th>\n",
       "    </tr>\n",
       "  </thead>\n",
       "  <tbody>\n",
       "    <tr>\n",
       "      <th>sig_2018_Mchi-99p0_dMchi-18p0_ctau-100</th>\n",
       "      <td>99.0</td>\n",
       "      <td>18.0</td>\n",
       "      <td>100.0</td>\n",
       "      <td>90.0</td>\n",
       "      <td>108.0</td>\n",
       "      <td>0.2</td>\n",
       "      <td>sig_2018_Mchi-99p0_dMchi-18p0_ctau-100</td>\n",
       "    </tr>\n",
       "    <tr>\n",
       "      <th>sig_2018_Mchi-94p5_dMchi-9p0_ctau-100</th>\n",
       "      <td>94.5</td>\n",
       "      <td>9.0</td>\n",
       "      <td>100.0</td>\n",
       "      <td>90.0</td>\n",
       "      <td>99.0</td>\n",
       "      <td>0.1</td>\n",
       "      <td>sig_2018_Mchi-94p5_dMchi-9p0_ctau-100</td>\n",
       "    </tr>\n",
       "    <tr>\n",
       "      <th>sig_2018_Mchi-99p0_dMchi-18p0_ctau-1</th>\n",
       "      <td>99.0</td>\n",
       "      <td>18.0</td>\n",
       "      <td>1.0</td>\n",
       "      <td>90.0</td>\n",
       "      <td>108.0</td>\n",
       "      <td>0.2</td>\n",
       "      <td>sig_2018_Mchi-99p0_dMchi-18p0_ctau-1</td>\n",
       "    </tr>\n",
       "    <tr>\n",
       "      <th>sig_2018_Mchi-99p0_dMchi-18p0_ctau-10</th>\n",
       "      <td>99.0</td>\n",
       "      <td>18.0</td>\n",
       "      <td>10.0</td>\n",
       "      <td>90.0</td>\n",
       "      <td>108.0</td>\n",
       "      <td>0.2</td>\n",
       "      <td>sig_2018_Mchi-99p0_dMchi-18p0_ctau-10</td>\n",
       "    </tr>\n",
       "    <tr>\n",
       "      <th>sig_2018_Mchi-88p0_dMchi-16p0_ctau-100</th>\n",
       "      <td>88.0</td>\n",
       "      <td>16.0</td>\n",
       "      <td>100.0</td>\n",
       "      <td>80.0</td>\n",
       "      <td>96.0</td>\n",
       "      <td>0.2</td>\n",
       "      <td>sig_2018_Mchi-88p0_dMchi-16p0_ctau-100</td>\n",
       "    </tr>\n",
       "    <tr>\n",
       "      <th>...</th>\n",
       "      <td>...</td>\n",
       "      <td>...</td>\n",
       "      <td>...</td>\n",
       "      <td>...</td>\n",
       "      <td>...</td>\n",
       "      <td>...</td>\n",
       "      <td>...</td>\n",
       "    </tr>\n",
       "    <tr>\n",
       "      <th>sig_2018_Mchi-31p5_dMchi-3p0_ctau-10</th>\n",
       "      <td>31.5</td>\n",
       "      <td>3.0</td>\n",
       "      <td>10.0</td>\n",
       "      <td>30.0</td>\n",
       "      <td>33.0</td>\n",
       "      <td>0.1</td>\n",
       "      <td>sig_2018_Mchi-31p5_dMchi-3p0_ctau-10</td>\n",
       "    </tr>\n",
       "    <tr>\n",
       "      <th>sig_2018_Mchi-10p5_dMchi-1p0_ctau-10</th>\n",
       "      <td>10.5</td>\n",
       "      <td>1.0</td>\n",
       "      <td>10.0</td>\n",
       "      <td>10.0</td>\n",
       "      <td>11.0</td>\n",
       "      <td>0.1</td>\n",
       "      <td>sig_2018_Mchi-10p5_dMchi-1p0_ctau-10</td>\n",
       "    </tr>\n",
       "    <tr>\n",
       "      <th>sig_2018_Mchi-105p0_dMchi-10p0_ctau-1</th>\n",
       "      <td>105.0</td>\n",
       "      <td>10.0</td>\n",
       "      <td>1.0</td>\n",
       "      <td>100.0</td>\n",
       "      <td>110.0</td>\n",
       "      <td>0.1</td>\n",
       "      <td>sig_2018_Mchi-105p0_dMchi-10p0_ctau-1</td>\n",
       "    </tr>\n",
       "    <tr>\n",
       "      <th>sig_2018_Mchi-105p0_dMchi-10p0_ctau-100</th>\n",
       "      <td>105.0</td>\n",
       "      <td>10.0</td>\n",
       "      <td>100.0</td>\n",
       "      <td>100.0</td>\n",
       "      <td>110.0</td>\n",
       "      <td>0.1</td>\n",
       "      <td>sig_2018_Mchi-105p0_dMchi-10p0_ctau-100</td>\n",
       "    </tr>\n",
       "    <tr>\n",
       "      <th>sig_2018_Mchi-105p0_dMchi-10p0_ctau-10</th>\n",
       "      <td>105.0</td>\n",
       "      <td>10.0</td>\n",
       "      <td>10.0</td>\n",
       "      <td>100.0</td>\n",
       "      <td>110.0</td>\n",
       "      <td>0.1</td>\n",
       "      <td>sig_2018_Mchi-105p0_dMchi-10p0_ctau-10</td>\n",
       "    </tr>\n",
       "  </tbody>\n",
       "</table>\n",
       "<p>65 rows × 7 columns</p>\n",
       "</div>"
      ],
      "text/plain": [
       "                                         mchi  dmchi  ctau    m1    m2  delta  \\\n",
       "sig_2018_Mchi-99p0_dMchi-18p0_ctau-100   99.0   18.0 100.0  90.0 108.0    0.2   \n",
       "sig_2018_Mchi-94p5_dMchi-9p0_ctau-100    94.5    9.0 100.0  90.0  99.0    0.1   \n",
       "sig_2018_Mchi-99p0_dMchi-18p0_ctau-1     99.0   18.0   1.0  90.0 108.0    0.2   \n",
       "sig_2018_Mchi-99p0_dMchi-18p0_ctau-10    99.0   18.0  10.0  90.0 108.0    0.2   \n",
       "sig_2018_Mchi-88p0_dMchi-16p0_ctau-100   88.0   16.0 100.0  80.0  96.0    0.2   \n",
       "...                                       ...    ...   ...   ...   ...    ...   \n",
       "sig_2018_Mchi-31p5_dMchi-3p0_ctau-10     31.5    3.0  10.0  30.0  33.0    0.1   \n",
       "sig_2018_Mchi-10p5_dMchi-1p0_ctau-10     10.5    1.0  10.0  10.0  11.0    0.1   \n",
       "sig_2018_Mchi-105p0_dMchi-10p0_ctau-1   105.0   10.0   1.0 100.0 110.0    0.1   \n",
       "sig_2018_Mchi-105p0_dMchi-10p0_ctau-100 105.0   10.0 100.0 100.0 110.0    0.1   \n",
       "sig_2018_Mchi-105p0_dMchi-10p0_ctau-10  105.0   10.0  10.0 100.0 110.0    0.1   \n",
       "\n",
       "                                                                            name  \n",
       "sig_2018_Mchi-99p0_dMchi-18p0_ctau-100    sig_2018_Mchi-99p0_dMchi-18p0_ctau-100  \n",
       "sig_2018_Mchi-94p5_dMchi-9p0_ctau-100      sig_2018_Mchi-94p5_dMchi-9p0_ctau-100  \n",
       "sig_2018_Mchi-99p0_dMchi-18p0_ctau-1        sig_2018_Mchi-99p0_dMchi-18p0_ctau-1  \n",
       "sig_2018_Mchi-99p0_dMchi-18p0_ctau-10      sig_2018_Mchi-99p0_dMchi-18p0_ctau-10  \n",
       "sig_2018_Mchi-88p0_dMchi-16p0_ctau-100    sig_2018_Mchi-88p0_dMchi-16p0_ctau-100  \n",
       "...                                                                          ...  \n",
       "sig_2018_Mchi-31p5_dMchi-3p0_ctau-10        sig_2018_Mchi-31p5_dMchi-3p0_ctau-10  \n",
       "sig_2018_Mchi-10p5_dMchi-1p0_ctau-10        sig_2018_Mchi-10p5_dMchi-1p0_ctau-10  \n",
       "sig_2018_Mchi-105p0_dMchi-10p0_ctau-1      sig_2018_Mchi-105p0_dMchi-10p0_ctau-1  \n",
       "sig_2018_Mchi-105p0_dMchi-10p0_ctau-100  sig_2018_Mchi-105p0_dMchi-10p0_ctau-100  \n",
       "sig_2018_Mchi-105p0_dMchi-10p0_ctau-10    sig_2018_Mchi-105p0_dMchi-10p0_ctau-10  \n",
       "\n",
       "[65 rows x 7 columns]"
      ]
     },
     "execution_count": 6,
     "metadata": {},
     "output_type": "execute_result"
    }
   ],
   "source": [
    "si = utils.get_signal_point_dict(sig_histo)\n",
    "\n",
    "pd.options.display.float_format = '{:,.1f}'.format\n",
    "si"
   ]
  },
  {
   "cell_type": "code",
   "execution_count": 7,
   "id": "82e5f0d1-ad69-4d93-bf67-9201ec46bf52",
   "metadata": {},
   "outputs": [
    {
     "data": {
      "text/plain": [
       "['Preselections',\n",
       " '0 < n(jet) < 3 & n(good vertex) > 0',\n",
       " 'No b-tagged jets',\n",
       " 'Leading jet |eta| < 2.4',\n",
       " 'Leading jet pT > 80 GeV',\n",
       " 'dPhi(MET,leading jet) > 1.5',\n",
       " 'dPhi(MET,all jets) > 0.75']"
      ]
     },
     "execution_count": 7,
     "metadata": {},
     "output_type": "execute_result"
    }
   ],
   "source": [
    "cutnames = utils.get_signal_list_of_cuts(sig_histo)\n",
    "\n",
    "cutnames"
   ]
  },
  {
   "cell_type": "code",
   "execution_count": 8,
   "id": "a76a47d6-19dd-4264-956e-f07efeb786ed",
   "metadata": {},
   "outputs": [],
   "source": [
    "pd.options.display.float_format = '{:,.2f}'.format"
   ]
  },
  {
   "cell_type": "code",
   "execution_count": 9,
   "id": "9532aa20-1357-4e19-943a-df7265d8ef53",
   "metadata": {},
   "outputs": [],
   "source": [
    "purity = {'ct-1': [], 'ct-10': [], 'ct-100': []}"
   ]
  },
  {
   "cell_type": "code",
   "execution_count": 10,
   "id": "54cd6fe0-2d3e-40c4-ab37-119b8c8717d5",
   "metadata": {},
   "outputs": [],
   "source": [
    "m1 = 100\n",
    "delta = 0.2"
   ]
  },
  {
   "cell_type": "markdown",
   "id": "0ab4c5bf-e2da-401b-8596-ebeb45f8dc2b",
   "metadata": {},
   "source": [
    "## Purity denominator: n(Events)"
   ]
  },
  {
   "cell_type": "code",
   "execution_count": 11,
   "id": "644c6af3-6032-4d92-9c6a-12cc304d1926",
   "metadata": {},
   "outputs": [],
   "source": [
    "eff_cutflow = utils.get_signal_cutflow_dict(sig_histo, 'cutflow_vtx_matched')"
   ]
  },
  {
   "cell_type": "code",
   "execution_count": 12,
   "id": "bb158f67-9c69-47b0-912b-0b5a623b1e78",
   "metadata": {},
   "outputs": [],
   "source": [
    "table = pd.DataFrame.from_dict(eff_cutflow, orient='index')\n",
    "table.columns = cutnames"
   ]
  },
  {
   "cell_type": "code",
   "execution_count": 13,
   "id": "bb9fd01b-f64f-48ad-919a-5213b20e86dd",
   "metadata": {
    "scrolled": true
   },
   "outputs": [],
   "source": [
    "for ct in [1, 10, 100]:\n",
    "    points = (si[\"ctau\"] == ct) & (si[\"m1\"] == m1) & (si[\"delta\"] == delta)\n",
    "    \n",
    "    df = table.loc[list(si[points].name)]\n",
    "    df = df.drop(columns='Preselections')  # dummy value stored at this cut step\n",
    "\n",
    "    purity[f'ct-{ct}'].append(df.iloc[:,-1][0])"
   ]
  },
  {
   "cell_type": "code",
   "execution_count": 14,
   "id": "9b54547b-fe36-4cd0-a793-315ce0e0cf2a",
   "metadata": {},
   "outputs": [
    {
     "data": {
      "text/html": [
       "<div>\n",
       "<style scoped>\n",
       "    .dataframe tbody tr th:only-of-type {\n",
       "        vertical-align: middle;\n",
       "    }\n",
       "\n",
       "    .dataframe tbody tr th {\n",
       "        vertical-align: top;\n",
       "    }\n",
       "\n",
       "    .dataframe thead th {\n",
       "        text-align: right;\n",
       "    }\n",
       "</style>\n",
       "<table border=\"1\" class=\"dataframe\">\n",
       "  <thead>\n",
       "    <tr style=\"text-align: right;\">\n",
       "      <th></th>\n",
       "      <th>0 &lt; n(jet) &lt; 3 &amp; n(good vertex) &gt; 0</th>\n",
       "      <th>No b-tagged jets</th>\n",
       "      <th>Leading jet |eta| &lt; 2.4</th>\n",
       "      <th>Leading jet pT &gt; 80 GeV</th>\n",
       "      <th>dPhi(MET,leading jet) &gt; 1.5</th>\n",
       "      <th>dPhi(MET,all jets) &gt; 0.75</th>\n",
       "    </tr>\n",
       "  </thead>\n",
       "  <tbody>\n",
       "    <tr>\n",
       "      <th>sig_2018_Mchi-110p0_dMchi-20p0_ctau-100</th>\n",
       "      <td>0.40</td>\n",
       "      <td>0.43</td>\n",
       "      <td>0.42</td>\n",
       "      <td>0.42</td>\n",
       "      <td>0.42</td>\n",
       "      <td>0.44</td>\n",
       "    </tr>\n",
       "  </tbody>\n",
       "</table>\n",
       "</div>"
      ],
      "text/plain": [
       "                                         0 < n(jet) < 3 & n(good vertex) > 0  \\\n",
       "sig_2018_Mchi-110p0_dMchi-20p0_ctau-100                                 0.40   \n",
       "\n",
       "                                         No b-tagged jets  \\\n",
       "sig_2018_Mchi-110p0_dMchi-20p0_ctau-100              0.43   \n",
       "\n",
       "                                         Leading jet |eta| < 2.4  \\\n",
       "sig_2018_Mchi-110p0_dMchi-20p0_ctau-100                     0.42   \n",
       "\n",
       "                                         Leading jet pT > 80 GeV  \\\n",
       "sig_2018_Mchi-110p0_dMchi-20p0_ctau-100                     0.42   \n",
       "\n",
       "                                         dPhi(MET,leading jet) > 1.5  \\\n",
       "sig_2018_Mchi-110p0_dMchi-20p0_ctau-100                         0.42   \n",
       "\n",
       "                                         dPhi(MET,all jets) > 0.75  \n",
       "sig_2018_Mchi-110p0_dMchi-20p0_ctau-100                       0.44  "
      ]
     },
     "execution_count": 14,
     "metadata": {},
     "output_type": "execute_result"
    }
   ],
   "source": [
    "df"
   ]
  },
  {
   "cell_type": "code",
   "execution_count": 15,
   "id": "2b47c5cc-8a2a-49ea-8b5c-2f94a06288c2",
   "metadata": {},
   "outputs": [
    {
     "data": {
      "text/plain": [
       "{'ct-1': [0.6795307397842407],\n",
       " 'ct-10': [0.6137236952781677],\n",
       " 'ct-100': [0.44065287709236145]}"
      ]
     },
     "execution_count": 15,
     "metadata": {},
     "output_type": "execute_result"
    }
   ],
   "source": [
    "purity"
   ]
  },
  {
   "cell_type": "markdown",
   "id": "68c0a1d0-d904-4f64-b9ca-3a3f002feba7",
   "metadata": {},
   "source": [
    "## Purity denominator: n(Events where gen e+/e- are reconstructed with dR(reco, gen) < 0.1)"
   ]
  },
  {
   "cell_type": "code",
   "execution_count": 16,
   "id": "4dde0a0c-d944-4b52-8319-973d4128c759",
   "metadata": {},
   "outputs": [],
   "source": [
    "eff_cutflow = utils.get_signal_cutflow_dict(sig_histo, 'cutflow_vtx_matched_genEEreconstructed')"
   ]
  },
  {
   "cell_type": "code",
   "execution_count": 17,
   "id": "7b1feeb4-0a3f-4f14-91aa-d6a01f0d015b",
   "metadata": {},
   "outputs": [],
   "source": [
    "table = pd.DataFrame.from_dict(eff_cutflow, orient='index')\n",
    "table.columns = cutnames"
   ]
  },
  {
   "cell_type": "code",
   "execution_count": 18,
   "id": "658027a5-dfa8-4146-a0c5-aa3ad796f843",
   "metadata": {
    "scrolled": true
   },
   "outputs": [],
   "source": [
    "for ct in [1, 10, 100]:\n",
    "    points = (si[\"ctau\"] == ct) & (si[\"m1\"] == m1) & (si[\"delta\"] == delta)\n",
    "    \n",
    "    df = table.loc[list(si[points].name)]\n",
    "    df = df.drop(columns='Preselections')  # dummy value stored at this cut step\n",
    "\n",
    "    purity[f'ct-{ct}'].append(df.iloc[:,-1][0])"
   ]
  },
  {
   "cell_type": "code",
   "execution_count": 19,
   "id": "b96cc77a-60ca-4e0a-b670-152098b269af",
   "metadata": {},
   "outputs": [
    {
     "data": {
      "text/html": [
       "<div>\n",
       "<style scoped>\n",
       "    .dataframe tbody tr th:only-of-type {\n",
       "        vertical-align: middle;\n",
       "    }\n",
       "\n",
       "    .dataframe tbody tr th {\n",
       "        vertical-align: top;\n",
       "    }\n",
       "\n",
       "    .dataframe thead th {\n",
       "        text-align: right;\n",
       "    }\n",
       "</style>\n",
       "<table border=\"1\" class=\"dataframe\">\n",
       "  <thead>\n",
       "    <tr style=\"text-align: right;\">\n",
       "      <th></th>\n",
       "      <th>0 &lt; n(jet) &lt; 3 &amp; n(good vertex) &gt; 0</th>\n",
       "      <th>No b-tagged jets</th>\n",
       "      <th>Leading jet |eta| &lt; 2.4</th>\n",
       "      <th>Leading jet pT &gt; 80 GeV</th>\n",
       "      <th>dPhi(MET,leading jet) &gt; 1.5</th>\n",
       "      <th>dPhi(MET,all jets) &gt; 0.75</th>\n",
       "    </tr>\n",
       "  </thead>\n",
       "  <tbody>\n",
       "    <tr>\n",
       "      <th>sig_2018_Mchi-110p0_dMchi-20p0_ctau-100</th>\n",
       "      <td>0.73</td>\n",
       "      <td>0.75</td>\n",
       "      <td>0.74</td>\n",
       "      <td>0.74</td>\n",
       "      <td>0.74</td>\n",
       "      <td>0.76</td>\n",
       "    </tr>\n",
       "  </tbody>\n",
       "</table>\n",
       "</div>"
      ],
      "text/plain": [
       "                                         0 < n(jet) < 3 & n(good vertex) > 0  \\\n",
       "sig_2018_Mchi-110p0_dMchi-20p0_ctau-100                                 0.73   \n",
       "\n",
       "                                         No b-tagged jets  \\\n",
       "sig_2018_Mchi-110p0_dMchi-20p0_ctau-100              0.75   \n",
       "\n",
       "                                         Leading jet |eta| < 2.4  \\\n",
       "sig_2018_Mchi-110p0_dMchi-20p0_ctau-100                     0.74   \n",
       "\n",
       "                                         Leading jet pT > 80 GeV  \\\n",
       "sig_2018_Mchi-110p0_dMchi-20p0_ctau-100                     0.74   \n",
       "\n",
       "                                         dPhi(MET,leading jet) > 1.5  \\\n",
       "sig_2018_Mchi-110p0_dMchi-20p0_ctau-100                         0.74   \n",
       "\n",
       "                                         dPhi(MET,all jets) > 0.75  \n",
       "sig_2018_Mchi-110p0_dMchi-20p0_ctau-100                       0.76  "
      ]
     },
     "execution_count": 19,
     "metadata": {},
     "output_type": "execute_result"
    }
   ],
   "source": [
    "df"
   ]
  },
  {
   "cell_type": "markdown",
   "id": "86eef13f-b341-48b1-bddf-b90ae39cfc38",
   "metadata": {},
   "source": [
    "## Purity denominator: n(Events where gen e+/e- are reconstructed with dR(reco, gen) < 0.1 AND form a `vtx`)"
   ]
  },
  {
   "cell_type": "code",
   "execution_count": 20,
   "id": "2f9e5816-09ad-47e7-bcc3-e3041bad3754",
   "metadata": {},
   "outputs": [],
   "source": [
    "eff_cutflow = utils.get_signal_cutflow_dict(sig_histo, 'cutflow_vtx_matched_genEEreconstructedVtx')"
   ]
  },
  {
   "cell_type": "code",
   "execution_count": 21,
   "id": "6ffc5602-dabd-403d-8002-485fc63259f8",
   "metadata": {},
   "outputs": [],
   "source": [
    "table = pd.DataFrame.from_dict(eff_cutflow, orient='index')\n",
    "table.columns = cutnames"
   ]
  },
  {
   "cell_type": "code",
   "execution_count": 22,
   "id": "350c31d0-da8d-482f-9d2c-ce05c5e03914",
   "metadata": {
    "scrolled": true
   },
   "outputs": [],
   "source": [
    "for ct in [1, 10, 100]:\n",
    "    points = (si[\"ctau\"] == ct) & (si[\"m1\"] == m1) & (si[\"delta\"] == delta)\n",
    "    \n",
    "    df = table.loc[list(si[points].name)]\n",
    "    df = df.drop(columns='Preselections')  # dummy value stored at this cut step\n",
    "\n",
    "    purity[f'ct-{ct}'].append(df.iloc[:,-1][0])"
   ]
  },
  {
   "cell_type": "code",
   "execution_count": 23,
   "id": "8e7100da-a282-474e-89a9-36d1d68d6255",
   "metadata": {},
   "outputs": [
    {
     "data": {
      "text/html": [
       "<div>\n",
       "<style scoped>\n",
       "    .dataframe tbody tr th:only-of-type {\n",
       "        vertical-align: middle;\n",
       "    }\n",
       "\n",
       "    .dataframe tbody tr th {\n",
       "        vertical-align: top;\n",
       "    }\n",
       "\n",
       "    .dataframe thead th {\n",
       "        text-align: right;\n",
       "    }\n",
       "</style>\n",
       "<table border=\"1\" class=\"dataframe\">\n",
       "  <thead>\n",
       "    <tr style=\"text-align: right;\">\n",
       "      <th></th>\n",
       "      <th>0 &lt; n(jet) &lt; 3 &amp; n(good vertex) &gt; 0</th>\n",
       "      <th>No b-tagged jets</th>\n",
       "      <th>Leading jet |eta| &lt; 2.4</th>\n",
       "      <th>Leading jet pT &gt; 80 GeV</th>\n",
       "      <th>dPhi(MET,leading jet) &gt; 1.5</th>\n",
       "      <th>dPhi(MET,all jets) &gt; 0.75</th>\n",
       "    </tr>\n",
       "  </thead>\n",
       "  <tbody>\n",
       "    <tr>\n",
       "      <th>sig_2018_Mchi-110p0_dMchi-20p0_ctau-100</th>\n",
       "      <td>0.73</td>\n",
       "      <td>0.75</td>\n",
       "      <td>0.74</td>\n",
       "      <td>0.74</td>\n",
       "      <td>0.74</td>\n",
       "      <td>0.76</td>\n",
       "    </tr>\n",
       "  </tbody>\n",
       "</table>\n",
       "</div>"
      ],
      "text/plain": [
       "                                         0 < n(jet) < 3 & n(good vertex) > 0  \\\n",
       "sig_2018_Mchi-110p0_dMchi-20p0_ctau-100                                 0.73   \n",
       "\n",
       "                                         No b-tagged jets  \\\n",
       "sig_2018_Mchi-110p0_dMchi-20p0_ctau-100              0.75   \n",
       "\n",
       "                                         Leading jet |eta| < 2.4  \\\n",
       "sig_2018_Mchi-110p0_dMchi-20p0_ctau-100                     0.74   \n",
       "\n",
       "                                         Leading jet pT > 80 GeV  \\\n",
       "sig_2018_Mchi-110p0_dMchi-20p0_ctau-100                     0.74   \n",
       "\n",
       "                                         dPhi(MET,leading jet) > 1.5  \\\n",
       "sig_2018_Mchi-110p0_dMchi-20p0_ctau-100                         0.74   \n",
       "\n",
       "                                         dPhi(MET,all jets) > 0.75  \n",
       "sig_2018_Mchi-110p0_dMchi-20p0_ctau-100                       0.76  "
      ]
     },
     "execution_count": 23,
     "metadata": {},
     "output_type": "execute_result"
    }
   ],
   "source": [
    "df"
   ]
  },
  {
   "cell_type": "markdown",
   "id": "bd45d310-095c-4993-a103-b9e543a4711b",
   "metadata": {},
   "source": [
    "## Purity denominator: n(Events where gen e+/e- are reconstructed with dR(reco, gen) < 0.1 AND form a `vtx` AND pass electron pT, eta)"
   ]
  },
  {
   "cell_type": "code",
   "execution_count": 24,
   "id": "827f5944-2031-40ea-a0c6-74bbafa801fa",
   "metadata": {},
   "outputs": [],
   "source": [
    "eff_cutflow = utils.get_signal_cutflow_dict(sig_histo, 'cutflow_vtx_matched_genEEreconstructedVtx_pteta')"
   ]
  },
  {
   "cell_type": "code",
   "execution_count": 25,
   "id": "09d05fdd-2c56-4168-8c12-66b6046582e8",
   "metadata": {},
   "outputs": [],
   "source": [
    "table = pd.DataFrame.from_dict(eff_cutflow, orient='index')\n",
    "table.columns = cutnames"
   ]
  },
  {
   "cell_type": "code",
   "execution_count": 26,
   "id": "74cb6b23-ad34-45ba-b74c-06e9788bfc69",
   "metadata": {},
   "outputs": [],
   "source": [
    "for ct in [1, 10, 100]:\n",
    "    points = (si[\"ctau\"] == ct) & (si[\"m1\"] == m1) & (si[\"delta\"] == delta)\n",
    "    \n",
    "    df = table.loc[list(si[points].name)]\n",
    "    df = df.drop(columns='Preselections')  # dummy value stored at this cut step\n",
    "\n",
    "    purity[f'ct-{ct}'].append(df.iloc[:,-1][0])"
   ]
  },
  {
   "cell_type": "code",
   "execution_count": 27,
   "id": "ea1f3090-3cb7-4b2a-83ac-39e596f34016",
   "metadata": {},
   "outputs": [
    {
     "data": {
      "text/html": [
       "<div>\n",
       "<style scoped>\n",
       "    .dataframe tbody tr th:only-of-type {\n",
       "        vertical-align: middle;\n",
       "    }\n",
       "\n",
       "    .dataframe tbody tr th {\n",
       "        vertical-align: top;\n",
       "    }\n",
       "\n",
       "    .dataframe thead th {\n",
       "        text-align: right;\n",
       "    }\n",
       "</style>\n",
       "<table border=\"1\" class=\"dataframe\">\n",
       "  <thead>\n",
       "    <tr style=\"text-align: right;\">\n",
       "      <th></th>\n",
       "      <th>0 &lt; n(jet) &lt; 3 &amp; n(good vertex) &gt; 0</th>\n",
       "      <th>No b-tagged jets</th>\n",
       "      <th>Leading jet |eta| &lt; 2.4</th>\n",
       "      <th>Leading jet pT &gt; 80 GeV</th>\n",
       "      <th>dPhi(MET,leading jet) &gt; 1.5</th>\n",
       "      <th>dPhi(MET,all jets) &gt; 0.75</th>\n",
       "    </tr>\n",
       "  </thead>\n",
       "  <tbody>\n",
       "    <tr>\n",
       "      <th>sig_2018_Mchi-110p0_dMchi-20p0_ctau-100</th>\n",
       "      <td>0.74</td>\n",
       "      <td>0.75</td>\n",
       "      <td>0.74</td>\n",
       "      <td>0.74</td>\n",
       "      <td>0.74</td>\n",
       "      <td>0.76</td>\n",
       "    </tr>\n",
       "  </tbody>\n",
       "</table>\n",
       "</div>"
      ],
      "text/plain": [
       "                                         0 < n(jet) < 3 & n(good vertex) > 0  \\\n",
       "sig_2018_Mchi-110p0_dMchi-20p0_ctau-100                                 0.74   \n",
       "\n",
       "                                         No b-tagged jets  \\\n",
       "sig_2018_Mchi-110p0_dMchi-20p0_ctau-100              0.75   \n",
       "\n",
       "                                         Leading jet |eta| < 2.4  \\\n",
       "sig_2018_Mchi-110p0_dMchi-20p0_ctau-100                     0.74   \n",
       "\n",
       "                                         Leading jet pT > 80 GeV  \\\n",
       "sig_2018_Mchi-110p0_dMchi-20p0_ctau-100                     0.74   \n",
       "\n",
       "                                         dPhi(MET,leading jet) > 1.5  \\\n",
       "sig_2018_Mchi-110p0_dMchi-20p0_ctau-100                         0.74   \n",
       "\n",
       "                                         dPhi(MET,all jets) > 0.75  \n",
       "sig_2018_Mchi-110p0_dMchi-20p0_ctau-100                       0.76  "
      ]
     },
     "execution_count": 27,
     "metadata": {},
     "output_type": "execute_result"
    }
   ],
   "source": [
    "df"
   ]
  },
  {
   "cell_type": "markdown",
   "id": "0ca07bff-2192-4b3c-a674-249de647955d",
   "metadata": {},
   "source": [
    "## Purity denominator: n(Events where gen e+/e- are reconstructed with dR(reco, gen) < 0.1 AND form a `vtx` AND pass electron pT, eta AND jet overlap removal)"
   ]
  },
  {
   "cell_type": "code",
   "execution_count": 28,
   "id": "94e55db5-e68d-449e-bfe1-9aefdd2f03df",
   "metadata": {},
   "outputs": [],
   "source": [
    "eff_cutflow = utils.get_signal_cutflow_dict(sig_histo, 'cutflow_vtx_matched_genEEreconstructedVtx_ptetaoverlap')"
   ]
  },
  {
   "cell_type": "code",
   "execution_count": 29,
   "id": "842b6893-3028-458f-8fc6-217d13de5976",
   "metadata": {},
   "outputs": [],
   "source": [
    "table = pd.DataFrame.from_dict(eff_cutflow, orient='index')\n",
    "table.columns = cutnames"
   ]
  },
  {
   "cell_type": "code",
   "execution_count": 30,
   "id": "99609a12-c649-44e3-9cba-13888cf234c3",
   "metadata": {},
   "outputs": [],
   "source": [
    "for ct in [1, 10, 100]:\n",
    "    points = (si[\"ctau\"] == ct) & (si[\"m1\"] == m1) & (si[\"delta\"] == delta)\n",
    "    \n",
    "    df = table.loc[list(si[points].name)]\n",
    "    df = df.drop(columns='Preselections')  # dummy value stored at this cut step\n",
    "\n",
    "    purity[f'ct-{ct}'].append(df.iloc[:,-1][0])"
   ]
  },
  {
   "cell_type": "code",
   "execution_count": 31,
   "id": "73873045-0f62-4774-9e73-d7b3731c3935",
   "metadata": {},
   "outputs": [
    {
     "data": {
      "text/html": [
       "<div>\n",
       "<style scoped>\n",
       "    .dataframe tbody tr th:only-of-type {\n",
       "        vertical-align: middle;\n",
       "    }\n",
       "\n",
       "    .dataframe tbody tr th {\n",
       "        vertical-align: top;\n",
       "    }\n",
       "\n",
       "    .dataframe thead th {\n",
       "        text-align: right;\n",
       "    }\n",
       "</style>\n",
       "<table border=\"1\" class=\"dataframe\">\n",
       "  <thead>\n",
       "    <tr style=\"text-align: right;\">\n",
       "      <th></th>\n",
       "      <th>0 &lt; n(jet) &lt; 3 &amp; n(good vertex) &gt; 0</th>\n",
       "      <th>No b-tagged jets</th>\n",
       "      <th>Leading jet |eta| &lt; 2.4</th>\n",
       "      <th>Leading jet pT &gt; 80 GeV</th>\n",
       "      <th>dPhi(MET,leading jet) &gt; 1.5</th>\n",
       "      <th>dPhi(MET,all jets) &gt; 0.75</th>\n",
       "    </tr>\n",
       "  </thead>\n",
       "  <tbody>\n",
       "    <tr>\n",
       "      <th>sig_2018_Mchi-110p0_dMchi-20p0_ctau-100</th>\n",
       "      <td>0.78</td>\n",
       "      <td>0.78</td>\n",
       "      <td>0.78</td>\n",
       "      <td>0.78</td>\n",
       "      <td>0.78</td>\n",
       "      <td>0.78</td>\n",
       "    </tr>\n",
       "  </tbody>\n",
       "</table>\n",
       "</div>"
      ],
      "text/plain": [
       "                                         0 < n(jet) < 3 & n(good vertex) > 0  \\\n",
       "sig_2018_Mchi-110p0_dMchi-20p0_ctau-100                                 0.78   \n",
       "\n",
       "                                         No b-tagged jets  \\\n",
       "sig_2018_Mchi-110p0_dMchi-20p0_ctau-100              0.78   \n",
       "\n",
       "                                         Leading jet |eta| < 2.4  \\\n",
       "sig_2018_Mchi-110p0_dMchi-20p0_ctau-100                     0.78   \n",
       "\n",
       "                                         Leading jet pT > 80 GeV  \\\n",
       "sig_2018_Mchi-110p0_dMchi-20p0_ctau-100                     0.78   \n",
       "\n",
       "                                         dPhi(MET,leading jet) > 1.5  \\\n",
       "sig_2018_Mchi-110p0_dMchi-20p0_ctau-100                         0.78   \n",
       "\n",
       "                                         dPhi(MET,all jets) > 0.75  \n",
       "sig_2018_Mchi-110p0_dMchi-20p0_ctau-100                       0.78  "
      ]
     },
     "execution_count": 31,
     "metadata": {},
     "output_type": "execute_result"
    }
   ],
   "source": [
    "df"
   ]
  },
  {
   "cell_type": "markdown",
   "id": "43e0946c-3750-4e1f-b857-ecd302227ff1",
   "metadata": {},
   "source": [
    "## Purity denominator: n(Events where gen e+/e- are reconstructed with dR(reco, gen) < 0.1 AND form a `vtx` AND pass electron pT, eta AND jet overlap removal AND electron ID)"
   ]
  },
  {
   "cell_type": "code",
   "execution_count": 32,
   "id": "a2623af6-4a1c-452b-9b38-c9f7135b5ea0",
   "metadata": {},
   "outputs": [],
   "source": [
    "eff_cutflow = utils.get_signal_cutflow_dict(sig_histo, 'cutflow_vtx_matched_genEEreconstructedVtx_ecuts')"
   ]
  },
  {
   "cell_type": "code",
   "execution_count": 33,
   "id": "e148e799-3698-439a-a96d-1bed511ea5a3",
   "metadata": {},
   "outputs": [],
   "source": [
    "table = pd.DataFrame.from_dict(eff_cutflow, orient='index')\n",
    "table.columns = cutnames"
   ]
  },
  {
   "cell_type": "code",
   "execution_count": 34,
   "id": "216a3229-9454-4032-9aa1-b3127956c82e",
   "metadata": {},
   "outputs": [],
   "source": [
    "for ct in [1, 10, 100]:\n",
    "    points = (si[\"ctau\"] == ct) & (si[\"m1\"] == m1) & (si[\"delta\"] == delta)\n",
    "    \n",
    "    df = table.loc[list(si[points].name)]\n",
    "    df = df.drop(columns='Preselections')  # dummy value stored at this cut step\n",
    "\n",
    "    purity[f'ct-{ct}'].append(df.iloc[:,-1][0])"
   ]
  },
  {
   "cell_type": "code",
   "execution_count": 35,
   "id": "20406abc-fcf6-4b79-bc9e-8ba9835b2014",
   "metadata": {},
   "outputs": [
    {
     "data": {
      "text/html": [
       "<div>\n",
       "<style scoped>\n",
       "    .dataframe tbody tr th:only-of-type {\n",
       "        vertical-align: middle;\n",
       "    }\n",
       "\n",
       "    .dataframe tbody tr th {\n",
       "        vertical-align: top;\n",
       "    }\n",
       "\n",
       "    .dataframe thead th {\n",
       "        text-align: right;\n",
       "    }\n",
       "</style>\n",
       "<table border=\"1\" class=\"dataframe\">\n",
       "  <thead>\n",
       "    <tr style=\"text-align: right;\">\n",
       "      <th></th>\n",
       "      <th>0 &lt; n(jet) &lt; 3 &amp; n(good vertex) &gt; 0</th>\n",
       "      <th>No b-tagged jets</th>\n",
       "      <th>Leading jet |eta| &lt; 2.4</th>\n",
       "      <th>Leading jet pT &gt; 80 GeV</th>\n",
       "      <th>dPhi(MET,leading jet) &gt; 1.5</th>\n",
       "      <th>dPhi(MET,all jets) &gt; 0.75</th>\n",
       "    </tr>\n",
       "  </thead>\n",
       "  <tbody>\n",
       "    <tr>\n",
       "      <th>sig_2018_Mchi-110p0_dMchi-20p0_ctau-100</th>\n",
       "      <td>0.98</td>\n",
       "      <td>0.98</td>\n",
       "      <td>0.98</td>\n",
       "      <td>0.98</td>\n",
       "      <td>0.98</td>\n",
       "      <td>0.98</td>\n",
       "    </tr>\n",
       "  </tbody>\n",
       "</table>\n",
       "</div>"
      ],
      "text/plain": [
       "                                         0 < n(jet) < 3 & n(good vertex) > 0  \\\n",
       "sig_2018_Mchi-110p0_dMchi-20p0_ctau-100                                 0.98   \n",
       "\n",
       "                                         No b-tagged jets  \\\n",
       "sig_2018_Mchi-110p0_dMchi-20p0_ctau-100              0.98   \n",
       "\n",
       "                                         Leading jet |eta| < 2.4  \\\n",
       "sig_2018_Mchi-110p0_dMchi-20p0_ctau-100                     0.98   \n",
       "\n",
       "                                         Leading jet pT > 80 GeV  \\\n",
       "sig_2018_Mchi-110p0_dMchi-20p0_ctau-100                     0.98   \n",
       "\n",
       "                                         dPhi(MET,leading jet) > 1.5  \\\n",
       "sig_2018_Mchi-110p0_dMchi-20p0_ctau-100                         0.98   \n",
       "\n",
       "                                         dPhi(MET,all jets) > 0.75  \n",
       "sig_2018_Mchi-110p0_dMchi-20p0_ctau-100                       0.98  "
      ]
     },
     "execution_count": 35,
     "metadata": {},
     "output_type": "execute_result"
    }
   ],
   "source": [
    "df"
   ]
  },
  {
   "cell_type": "markdown",
   "id": "6912a1b7-5528-478c-b4ab-5e6dffb5bccd",
   "metadata": {},
   "source": [
    "## Purity denominator: n(Events where gen e+/e- are reconstructed with dR(reco, gen) < 0.1 AND form a `GoodVtx` -- pass electron pT, eta, jet overlap removal, ID for both electrons and OSSF)"
   ]
  },
  {
   "cell_type": "code",
   "execution_count": 36,
   "id": "75080db1-0918-4f6f-a890-59b2e0fa187c",
   "metadata": {},
   "outputs": [],
   "source": [
    "eff_cutflow = utils.get_signal_cutflow_dict(sig_histo, 'cutflow_vtx_matched_genEEreconstructedGoodVtx')"
   ]
  },
  {
   "cell_type": "code",
   "execution_count": 37,
   "id": "7c15e7f4-a39d-4446-8279-993d3b4137a6",
   "metadata": {},
   "outputs": [],
   "source": [
    "table = pd.DataFrame.from_dict(eff_cutflow, orient='index')\n",
    "table.columns = cutnames"
   ]
  },
  {
   "cell_type": "code",
   "execution_count": 38,
   "id": "95881261-b46e-4fbb-88c8-b03603b8bfaf",
   "metadata": {
    "scrolled": true
   },
   "outputs": [],
   "source": [
    "for ct in [1, 10, 100]:\n",
    "    points = (si[\"ctau\"] == ct) & (si[\"m1\"] == m1) & (si[\"delta\"] == delta)\n",
    "    \n",
    "    df = table.loc[list(si[points].name)]\n",
    "    df = df.drop(columns='Preselections')  # dummy value stored at this cut step\n",
    "\n",
    "    purity[f'ct-{ct}'].append(df.iloc[:,-1][0])"
   ]
  },
  {
   "cell_type": "code",
   "execution_count": 39,
   "id": "e5281269-214e-4a32-867f-9ce461661801",
   "metadata": {},
   "outputs": [
    {
     "data": {
      "text/html": [
       "<div>\n",
       "<style scoped>\n",
       "    .dataframe tbody tr th:only-of-type {\n",
       "        vertical-align: middle;\n",
       "    }\n",
       "\n",
       "    .dataframe tbody tr th {\n",
       "        vertical-align: top;\n",
       "    }\n",
       "\n",
       "    .dataframe thead th {\n",
       "        text-align: right;\n",
       "    }\n",
       "</style>\n",
       "<table border=\"1\" class=\"dataframe\">\n",
       "  <thead>\n",
       "    <tr style=\"text-align: right;\">\n",
       "      <th></th>\n",
       "      <th>0 &lt; n(jet) &lt; 3 &amp; n(good vertex) &gt; 0</th>\n",
       "      <th>No b-tagged jets</th>\n",
       "      <th>Leading jet |eta| &lt; 2.4</th>\n",
       "      <th>Leading jet pT &gt; 80 GeV</th>\n",
       "      <th>dPhi(MET,leading jet) &gt; 1.5</th>\n",
       "      <th>dPhi(MET,all jets) &gt; 0.75</th>\n",
       "    </tr>\n",
       "  </thead>\n",
       "  <tbody>\n",
       "    <tr>\n",
       "      <th>sig_2018_Mchi-110p0_dMchi-20p0_ctau-100</th>\n",
       "      <td>0.99</td>\n",
       "      <td>0.99</td>\n",
       "      <td>0.99</td>\n",
       "      <td>0.99</td>\n",
       "      <td>0.99</td>\n",
       "      <td>0.99</td>\n",
       "    </tr>\n",
       "  </tbody>\n",
       "</table>\n",
       "</div>"
      ],
      "text/plain": [
       "                                         0 < n(jet) < 3 & n(good vertex) > 0  \\\n",
       "sig_2018_Mchi-110p0_dMchi-20p0_ctau-100                                 0.99   \n",
       "\n",
       "                                         No b-tagged jets  \\\n",
       "sig_2018_Mchi-110p0_dMchi-20p0_ctau-100              0.99   \n",
       "\n",
       "                                         Leading jet |eta| < 2.4  \\\n",
       "sig_2018_Mchi-110p0_dMchi-20p0_ctau-100                     0.99   \n",
       "\n",
       "                                         Leading jet pT > 80 GeV  \\\n",
       "sig_2018_Mchi-110p0_dMchi-20p0_ctau-100                     0.99   \n",
       "\n",
       "                                         dPhi(MET,leading jet) > 1.5  \\\n",
       "sig_2018_Mchi-110p0_dMchi-20p0_ctau-100                         0.99   \n",
       "\n",
       "                                         dPhi(MET,all jets) > 0.75  \n",
       "sig_2018_Mchi-110p0_dMchi-20p0_ctau-100                       0.99  "
      ]
     },
     "execution_count": 39,
     "metadata": {},
     "output_type": "execute_result"
    }
   ],
   "source": [
    "df"
   ]
  },
  {
   "cell_type": "code",
   "execution_count": null,
   "id": "5401fbd4-a64f-40e4-a44d-43b95046de9e",
   "metadata": {},
   "outputs": [],
   "source": []
  },
  {
   "cell_type": "code",
   "execution_count": 40,
   "id": "622574e2-8aa9-4647-87dd-901036d926c0",
   "metadata": {},
   "outputs": [],
   "source": [
    "prefix = './coffea/skimmed/'\n",
    "suffix = '_SR_BDTLxy_BestVertex'"
   ]
  },
  {
   "cell_type": "code",
   "execution_count": 41,
   "id": "1d23fcdc-aa27-413d-a04e-e93d81c03e1a",
   "metadata": {},
   "outputs": [],
   "source": [
    "# Background\n",
    "bkg_files = {\n",
    "    \"QCD\": \"bkg_2018_QCD_TuneCP5_PSWeights\", # No entry for QCD\n",
    "    \"Top\": \"bkg_2018_Top\",\n",
    "    \"DY\": \"bkg_2018_DY\",\n",
    "    \"Diboson\": \"bkg_2018_Diboson\",\n",
    "    \"Triboson\": \"bkg_2018_Triboson\",\n",
    "    \"W+jets\": \"bkg_2018_WJets\",\n",
    "    \"Z+jets\": \"bkg_2018_ZJets\",\n",
    "}\n",
    "\n",
    "bkg_histos = {}\n",
    "\n",
    "for b in bkg_files.keys():\n",
    "    bkg_histos[b] = util.load(f'{prefix}/{bkg_files[b]}{suffix}.coffea')[0]"
   ]
  },
  {
   "cell_type": "code",
   "execution_count": 42,
   "id": "d9e765ae-8c92-4ae8-9a04-b5f984a5f8af",
   "metadata": {},
   "outputs": [
    {
     "data": {
      "text/html": [
       "<div>\n",
       "<style scoped>\n",
       "    .dataframe tbody tr th:only-of-type {\n",
       "        vertical-align: middle;\n",
       "    }\n",
       "\n",
       "    .dataframe tbody tr th {\n",
       "        vertical-align: top;\n",
       "    }\n",
       "\n",
       "    .dataframe thead th {\n",
       "        text-align: right;\n",
       "    }\n",
       "</style>\n",
       "<table border=\"1\" class=\"dataframe\">\n",
       "  <thead>\n",
       "    <tr style=\"text-align: right;\">\n",
       "      <th></th>\n",
       "      <th>Preselections</th>\n",
       "      <th>0 &lt; n(jet) &lt; 3 &amp; n(good vertex) &gt; 0</th>\n",
       "      <th>No b-tagged jets</th>\n",
       "      <th>Leading jet |eta| &lt; 2.4</th>\n",
       "      <th>Leading jet pT &gt; 80 GeV</th>\n",
       "      <th>dPhi(MET,leading jet) &gt; 1.5</th>\n",
       "      <th>dPhi(MET,all jets) &gt; 0.75</th>\n",
       "    </tr>\n",
       "  </thead>\n",
       "  <tbody>\n",
       "    <tr>\n",
       "      <th>QCD</th>\n",
       "      <td>0.000002</td>\n",
       "      <td>0.000000</td>\n",
       "      <td>0.000000</td>\n",
       "      <td>0.000000</td>\n",
       "      <td>0.000000</td>\n",
       "      <td>0.000000</td>\n",
       "      <td>0.000000</td>\n",
       "    </tr>\n",
       "    <tr>\n",
       "      <th>Top</th>\n",
       "      <td>0.000129</td>\n",
       "      <td>0.000013</td>\n",
       "      <td>0.000008</td>\n",
       "      <td>0.000007</td>\n",
       "      <td>0.000007</td>\n",
       "      <td>0.000007</td>\n",
       "      <td>0.000007</td>\n",
       "    </tr>\n",
       "    <tr>\n",
       "      <th>DY</th>\n",
       "      <td>0.000011</td>\n",
       "      <td>0.000001</td>\n",
       "      <td>0.000000</td>\n",
       "      <td>0.000000</td>\n",
       "      <td>0.000000</td>\n",
       "      <td>0.000000</td>\n",
       "      <td>0.000000</td>\n",
       "    </tr>\n",
       "    <tr>\n",
       "      <th>Diboson</th>\n",
       "      <td>0.000637</td>\n",
       "      <td>0.000044</td>\n",
       "      <td>0.000033</td>\n",
       "      <td>0.000031</td>\n",
       "      <td>0.000030</td>\n",
       "      <td>0.000030</td>\n",
       "      <td>0.000027</td>\n",
       "    </tr>\n",
       "    <tr>\n",
       "      <th>Triboson</th>\n",
       "      <td>0.001933</td>\n",
       "      <td>0.000158</td>\n",
       "      <td>0.000104</td>\n",
       "      <td>0.000092</td>\n",
       "      <td>0.000091</td>\n",
       "      <td>0.000091</td>\n",
       "      <td>0.000076</td>\n",
       "    </tr>\n",
       "    <tr>\n",
       "      <th>W+jets</th>\n",
       "      <td>0.002310</td>\n",
       "      <td>0.000173</td>\n",
       "      <td>0.000139</td>\n",
       "      <td>0.000132</td>\n",
       "      <td>0.000131</td>\n",
       "      <td>0.000131</td>\n",
       "      <td>0.000114</td>\n",
       "    </tr>\n",
       "    <tr>\n",
       "      <th>Z+jets</th>\n",
       "      <td>0.006645</td>\n",
       "      <td>0.000398</td>\n",
       "      <td>0.000325</td>\n",
       "      <td>0.000310</td>\n",
       "      <td>0.000309</td>\n",
       "      <td>0.000309</td>\n",
       "      <td>0.000292</td>\n",
       "    </tr>\n",
       "    <tr>\n",
       "      <th>Total</th>\n",
       "      <td>0.000019</td>\n",
       "      <td>0.000001</td>\n",
       "      <td>0.000000</td>\n",
       "      <td>0.000000</td>\n",
       "      <td>0.000000</td>\n",
       "      <td>0.000000</td>\n",
       "      <td>0.000000</td>\n",
       "    </tr>\n",
       "  </tbody>\n",
       "</table>\n",
       "</div>"
      ],
      "text/plain": [
       "          Preselections  0 < n(jet) < 3 & n(good vertex) > 0  \\\n",
       "QCD            0.000002                             0.000000   \n",
       "Top            0.000129                             0.000013   \n",
       "DY             0.000011                             0.000001   \n",
       "Diboson        0.000637                             0.000044   \n",
       "Triboson       0.001933                             0.000158   \n",
       "W+jets         0.002310                             0.000173   \n",
       "Z+jets         0.006645                             0.000398   \n",
       "Total          0.000019                             0.000001   \n",
       "\n",
       "          No b-tagged jets  Leading jet |eta| < 2.4  Leading jet pT > 80 GeV  \\\n",
       "QCD               0.000000                 0.000000                 0.000000   \n",
       "Top               0.000008                 0.000007                 0.000007   \n",
       "DY                0.000000                 0.000000                 0.000000   \n",
       "Diboson           0.000033                 0.000031                 0.000030   \n",
       "Triboson          0.000104                 0.000092                 0.000091   \n",
       "W+jets            0.000139                 0.000132                 0.000131   \n",
       "Z+jets            0.000325                 0.000310                 0.000309   \n",
       "Total             0.000000                 0.000000                 0.000000   \n",
       "\n",
       "          dPhi(MET,leading jet) > 1.5  dPhi(MET,all jets) > 0.75  \n",
       "QCD                          0.000000                   0.000000  \n",
       "Top                          0.000007                   0.000007  \n",
       "DY                           0.000000                   0.000000  \n",
       "Diboson                      0.000030                   0.000027  \n",
       "Triboson                     0.000091                   0.000076  \n",
       "W+jets                       0.000131                   0.000114  \n",
       "Z+jets                       0.000309                   0.000292  \n",
       "Total                        0.000000                   0.000000  "
      ]
     },
     "execution_count": 42,
     "metadata": {},
     "output_type": "execute_result"
    }
   ],
   "source": [
    "# efficiency\n",
    "pd.options.display.float_format = '{:,.6f}'.format\n",
    "bkg_eff_df = utils.get_bkg_cutflow_df(bkg_histos, 'cutflow')\n",
    "\n",
    "bkg_eff_df"
   ]
  },
  {
   "cell_type": "code",
   "execution_count": 43,
   "id": "a95fce2a-d283-40ba-a4b9-29cd2076a19b",
   "metadata": {},
   "outputs": [
    {
     "data": {
      "text/html": [
       "<div>\n",
       "<style scoped>\n",
       "    .dataframe tbody tr th:only-of-type {\n",
       "        vertical-align: middle;\n",
       "    }\n",
       "\n",
       "    .dataframe tbody tr th {\n",
       "        vertical-align: top;\n",
       "    }\n",
       "\n",
       "    .dataframe thead th {\n",
       "        text-align: right;\n",
       "    }\n",
       "</style>\n",
       "<table border=\"1\" class=\"dataframe\">\n",
       "  <thead>\n",
       "    <tr style=\"text-align: right;\">\n",
       "      <th></th>\n",
       "      <th>Preselections</th>\n",
       "      <th>0 &lt; n(jet) &lt; 3 &amp; n(good vertex) &gt; 0</th>\n",
       "      <th>No b-tagged jets</th>\n",
       "      <th>Leading jet |eta| &lt; 2.4</th>\n",
       "      <th>Leading jet pT &gt; 80 GeV</th>\n",
       "      <th>dPhi(MET,leading jet) &gt; 1.5</th>\n",
       "      <th>dPhi(MET,all jets) &gt; 0.75</th>\n",
       "    </tr>\n",
       "  </thead>\n",
       "  <tbody>\n",
       "    <tr>\n",
       "      <th>QCD</th>\n",
       "      <td>38,039.83</td>\n",
       "      <td>1,882.67</td>\n",
       "      <td>1,326.86</td>\n",
       "      <td>1,319.01</td>\n",
       "      <td>1,319.01</td>\n",
       "      <td>1,318.41</td>\n",
       "      <td>632.25</td>\n",
       "    </tr>\n",
       "    <tr>\n",
       "      <th>Top</th>\n",
       "      <td>5,667.49</td>\n",
       "      <td>559.22</td>\n",
       "      <td>349.76</td>\n",
       "      <td>314.03</td>\n",
       "      <td>312.99</td>\n",
       "      <td>312.95</td>\n",
       "      <td>294.00</td>\n",
       "    </tr>\n",
       "    <tr>\n",
       "      <th>DY</th>\n",
       "      <td>14,495.72</td>\n",
       "      <td>671.44</td>\n",
       "      <td>623.25</td>\n",
       "      <td>623.25</td>\n",
       "      <td>623.25</td>\n",
       "      <td>623.25</td>\n",
       "      <td>455.65</td>\n",
       "    </tr>\n",
       "    <tr>\n",
       "      <th>Diboson</th>\n",
       "      <td>4,424.20</td>\n",
       "      <td>307.91</td>\n",
       "      <td>227.24</td>\n",
       "      <td>213.36</td>\n",
       "      <td>211.27</td>\n",
       "      <td>210.33</td>\n",
       "      <td>189.35</td>\n",
       "    </tr>\n",
       "    <tr>\n",
       "      <th>Triboson</th>\n",
       "      <td>53.00</td>\n",
       "      <td>4.32</td>\n",
       "      <td>2.85</td>\n",
       "      <td>2.51</td>\n",
       "      <td>2.51</td>\n",
       "      <td>2.50</td>\n",
       "      <td>2.09</td>\n",
       "    </tr>\n",
       "    <tr>\n",
       "      <th>W+jets</th>\n",
       "      <td>227,212.60</td>\n",
       "      <td>17,009.81</td>\n",
       "      <td>13,645.63</td>\n",
       "      <td>12,937.21</td>\n",
       "      <td>12,911.49</td>\n",
       "      <td>12,907.15</td>\n",
       "      <td>11,204.39</td>\n",
       "    </tr>\n",
       "    <tr>\n",
       "      <th>Z+jets</th>\n",
       "      <td>142,220.15</td>\n",
       "      <td>8,524.55</td>\n",
       "      <td>6,957.67</td>\n",
       "      <td>6,625.48</td>\n",
       "      <td>6,613.11</td>\n",
       "      <td>6,612.30</td>\n",
       "      <td>6,256.76</td>\n",
       "    </tr>\n",
       "    <tr>\n",
       "      <th>Total</th>\n",
       "      <td>432,113.00</td>\n",
       "      <td>28,959.92</td>\n",
       "      <td>23,133.27</td>\n",
       "      <td>22,034.86</td>\n",
       "      <td>21,993.63</td>\n",
       "      <td>21,986.91</td>\n",
       "      <td>19,034.50</td>\n",
       "    </tr>\n",
       "  </tbody>\n",
       "</table>\n",
       "</div>"
      ],
      "text/plain": [
       "          Preselections  0 < n(jet) < 3 & n(good vertex) > 0  \\\n",
       "QCD           38,039.83                             1,882.67   \n",
       "Top            5,667.49                               559.22   \n",
       "DY            14,495.72                               671.44   \n",
       "Diboson        4,424.20                               307.91   \n",
       "Triboson          53.00                                 4.32   \n",
       "W+jets       227,212.60                            17,009.81   \n",
       "Z+jets       142,220.15                             8,524.55   \n",
       "Total        432,113.00                            28,959.92   \n",
       "\n",
       "          No b-tagged jets  Leading jet |eta| < 2.4  Leading jet pT > 80 GeV  \\\n",
       "QCD               1,326.86                 1,319.01                 1,319.01   \n",
       "Top                 349.76                   314.03                   312.99   \n",
       "DY                  623.25                   623.25                   623.25   \n",
       "Diboson             227.24                   213.36                   211.27   \n",
       "Triboson              2.85                     2.51                     2.51   \n",
       "W+jets           13,645.63                12,937.21                12,911.49   \n",
       "Z+jets            6,957.67                 6,625.48                 6,613.11   \n",
       "Total            23,133.27                22,034.86                21,993.63   \n",
       "\n",
       "          dPhi(MET,leading jet) > 1.5  dPhi(MET,all jets) > 0.75  \n",
       "QCD                          1,318.41                     632.25  \n",
       "Top                            312.95                     294.00  \n",
       "DY                             623.25                     455.65  \n",
       "Diboson                        210.33                     189.35  \n",
       "Triboson                         2.50                       2.09  \n",
       "W+jets                      12,907.15                  11,204.39  \n",
       "Z+jets                       6,612.30                   6,256.76  \n",
       "Total                       21,986.91                  19,034.50  "
      ]
     },
     "execution_count": 43,
     "metadata": {},
     "output_type": "execute_result"
    }
   ],
   "source": [
    "# weighted event count\n",
    "pd.options.display.float_format = '{:,.2f}'.format\n",
    "bkg_cts_df = utils.get_bkg_cutflow_df(bkg_histos, 'cutflow_cts')\n",
    "\n",
    "bkg_cts_df"
   ]
  },
  {
   "cell_type": "code",
   "execution_count": 44,
   "id": "27a2224d-c8c1-48e8-ac84-a4fb5f21dec8",
   "metadata": {},
   "outputs": [
    {
     "data": {
      "text/html": [
       "<div>\n",
       "<style scoped>\n",
       "    .dataframe tbody tr th:only-of-type {\n",
       "        vertical-align: middle;\n",
       "    }\n",
       "\n",
       "    .dataframe tbody tr th {\n",
       "        vertical-align: top;\n",
       "    }\n",
       "\n",
       "    .dataframe thead th {\n",
       "        text-align: right;\n",
       "    }\n",
       "</style>\n",
       "<table border=\"1\" class=\"dataframe\">\n",
       "  <thead>\n",
       "    <tr style=\"text-align: right;\">\n",
       "      <th></th>\n",
       "      <th>Preselections</th>\n",
       "      <th>0 &lt; n(jet) &lt; 3 &amp; n(good vertex) &gt; 0</th>\n",
       "      <th>No b-tagged jets</th>\n",
       "      <th>Leading jet |eta| &lt; 2.4</th>\n",
       "      <th>Leading jet pT &gt; 80 GeV</th>\n",
       "      <th>dPhi(MET,leading jet) &gt; 1.5</th>\n",
       "      <th>dPhi(MET,all jets) &gt; 0.75</th>\n",
       "    </tr>\n",
       "  </thead>\n",
       "  <tbody>\n",
       "    <tr>\n",
       "      <th>QCD</th>\n",
       "      <td>12311</td>\n",
       "      <td>381</td>\n",
       "      <td>160</td>\n",
       "      <td>159</td>\n",
       "      <td>159</td>\n",
       "      <td>158</td>\n",
       "      <td>3</td>\n",
       "    </tr>\n",
       "    <tr>\n",
       "      <th>Top</th>\n",
       "      <td>49818</td>\n",
       "      <td>4688</td>\n",
       "      <td>3058</td>\n",
       "      <td>2348</td>\n",
       "      <td>2337</td>\n",
       "      <td>2336</td>\n",
       "      <td>2006</td>\n",
       "    </tr>\n",
       "    <tr>\n",
       "      <th>DY</th>\n",
       "      <td>205</td>\n",
       "      <td>13</td>\n",
       "      <td>11</td>\n",
       "      <td>11</td>\n",
       "      <td>11</td>\n",
       "      <td>11</td>\n",
       "      <td>9</td>\n",
       "    </tr>\n",
       "    <tr>\n",
       "      <th>Diboson</th>\n",
       "      <td>18067</td>\n",
       "      <td>1234</td>\n",
       "      <td>915</td>\n",
       "      <td>860</td>\n",
       "      <td>852</td>\n",
       "      <td>848</td>\n",
       "      <td>767</td>\n",
       "    </tr>\n",
       "    <tr>\n",
       "      <th>Triboson</th>\n",
       "      <td>2257</td>\n",
       "      <td>170</td>\n",
       "      <td>116</td>\n",
       "      <td>106</td>\n",
       "      <td>105</td>\n",
       "      <td>104</td>\n",
       "      <td>92</td>\n",
       "    </tr>\n",
       "    <tr>\n",
       "      <th>W+jets</th>\n",
       "      <td>697657</td>\n",
       "      <td>48425</td>\n",
       "      <td>37015</td>\n",
       "      <td>35472</td>\n",
       "      <td>35415</td>\n",
       "      <td>35377</td>\n",
       "      <td>29090</td>\n",
       "    </tr>\n",
       "    <tr>\n",
       "      <th>Z+jets</th>\n",
       "      <td>1281459</td>\n",
       "      <td>67427</td>\n",
       "      <td>52627</td>\n",
       "      <td>50986</td>\n",
       "      <td>50934</td>\n",
       "      <td>50903</td>\n",
       "      <td>44480</td>\n",
       "    </tr>\n",
       "    <tr>\n",
       "      <th>Total</th>\n",
       "      <td>2061774</td>\n",
       "      <td>122338</td>\n",
       "      <td>93902</td>\n",
       "      <td>89942</td>\n",
       "      <td>89813</td>\n",
       "      <td>89737</td>\n",
       "      <td>76447</td>\n",
       "    </tr>\n",
       "  </tbody>\n",
       "</table>\n",
       "</div>"
      ],
      "text/plain": [
       "          Preselections  0 < n(jet) < 3 & n(good vertex) > 0  \\\n",
       "QCD               12311                                  381   \n",
       "Top               49818                                 4688   \n",
       "DY                  205                                   13   \n",
       "Diboson           18067                                 1234   \n",
       "Triboson           2257                                  170   \n",
       "W+jets           697657                                48425   \n",
       "Z+jets          1281459                                67427   \n",
       "Total           2061774                               122338   \n",
       "\n",
       "          No b-tagged jets  Leading jet |eta| < 2.4  Leading jet pT > 80 GeV  \\\n",
       "QCD                    160                      159                      159   \n",
       "Top                   3058                     2348                     2337   \n",
       "DY                      11                       11                       11   \n",
       "Diboson                915                      860                      852   \n",
       "Triboson               116                      106                      105   \n",
       "W+jets               37015                    35472                    35415   \n",
       "Z+jets               52627                    50986                    50934   \n",
       "Total                93902                    89942                    89813   \n",
       "\n",
       "          dPhi(MET,leading jet) > 1.5  dPhi(MET,all jets) > 0.75  \n",
       "QCD                               158                          3  \n",
       "Top                              2336                       2006  \n",
       "DY                                 11                          9  \n",
       "Diboson                           848                        767  \n",
       "Triboson                          104                         92  \n",
       "W+jets                          35377                      29090  \n",
       "Z+jets                          50903                      44480  \n",
       "Total                           89737                      76447  "
      ]
     },
     "execution_count": 44,
     "metadata": {},
     "output_type": "execute_result"
    }
   ],
   "source": [
    "# raw event count\n",
    "pd.options.display.float_format = '{:,.0f}'.format\n",
    "bkg_cts_raw_df = utils.get_bkg_cutflow_df(bkg_histos, 'cutflow_nevts')\n",
    "\n",
    "bkg_cts_raw_df"
   ]
  },
  {
   "cell_type": "code",
   "execution_count": null,
   "id": "bb500a7c-a231-4b7f-9cc0-b95ff703c5d6",
   "metadata": {},
   "outputs": [],
   "source": []
  },
  {
   "cell_type": "markdown",
   "id": "61ff1817-2e3c-4f0b-870e-d9fb38fcadc3",
   "metadata": {},
   "source": [
    "# Plot"
   ]
  },
  {
   "cell_type": "code",
   "execution_count": 45,
   "id": "099de144-d2c5-4210-ba9d-33df11264f63",
   "metadata": {
    "scrolled": true
   },
   "outputs": [
    {
     "data": {
      "text/plain": [
       "{'ct-1': [0.6795307397842407,\n",
       "  0.7920866012573242,\n",
       "  0.7923464179039001,\n",
       "  0.7996903657913208,\n",
       "  0.8026123642921448,\n",
       "  0.9745708703994751,\n",
       "  0.9757552742958069],\n",
       " 'ct-10': [0.6137236952781677,\n",
       "  0.7848010063171387,\n",
       "  0.7848010063171387,\n",
       "  0.7911801934242249,\n",
       "  0.7969322800636292,\n",
       "  0.9777054786682129,\n",
       "  0.9777054786682129],\n",
       " 'ct-100': [0.44065287709236145,\n",
       "  0.7602105140686035,\n",
       "  0.7602105140686035,\n",
       "  0.7634311318397522,\n",
       "  0.7765649557113647,\n",
       "  0.9783344864845276,\n",
       "  0.9854388236999512]}"
      ]
     },
     "execution_count": 45,
     "metadata": {},
     "output_type": "execute_result"
    }
   ],
   "source": [
    "purity"
   ]
  },
  {
   "cell_type": "code",
   "execution_count": null,
   "id": "3ed6f917-e1d0-4845-8b92-f61e604967ee",
   "metadata": {},
   "outputs": [],
   "source": []
  },
  {
   "cell_type": "code",
   "execution_count": 46,
   "id": "bb1f5b70-4dbe-4e3d-ab61-071abf885c8d",
   "metadata": {},
   "outputs": [],
   "source": [
    "pd.options.display.float_format = '{:,.3f}'.format\n",
    "df_purity =  pd.DataFrame.from_dict(purity)\n",
    "\n",
    "df_purity = df_purity.rename(index = {0: 'Events (with nGoodVtx > 0 and pass up to ISR cuts)',\\\n",
    "                          1: 'Events where the gen ee are reconstructed; dR(reco, gen) < 0.1',\\\n",
    "                          2: 'Events where the true reco ee form a valid vertex vtx',\\\n",
    "                          3: 'Events where the vtx electrons have pT > 1 GeV, eta < 2.4',\\\n",
    "                          4: 'Events where the vtx electrons pass pT&eta AND jet overlap removal with dR > 0.4',\\\n",
    "                          5: 'Events where the vtx electrons pass pT&eta&overlap removal AND electron ID',\\\n",
    "                          6: 'Events where the vtx electrons pass all electrons cuts AND OSSF'})"
   ]
  },
  {
   "cell_type": "code",
   "execution_count": 47,
   "id": "78f086e4-c84c-495a-ba6e-f3aa61f390f3",
   "metadata": {},
   "outputs": [
    {
     "name": "stdout",
     "output_type": "stream",
     "text": [
      "m1 = 100, delta = 0.2\n"
     ]
    },
    {
     "data": {
      "text/html": [
       "<div>\n",
       "<style scoped>\n",
       "    .dataframe tbody tr th:only-of-type {\n",
       "        vertical-align: middle;\n",
       "    }\n",
       "\n",
       "    .dataframe tbody tr th {\n",
       "        vertical-align: top;\n",
       "    }\n",
       "\n",
       "    .dataframe thead th {\n",
       "        text-align: right;\n",
       "    }\n",
       "</style>\n",
       "<table border=\"1\" class=\"dataframe\">\n",
       "  <thead>\n",
       "    <tr style=\"text-align: right;\">\n",
       "      <th></th>\n",
       "      <th>ct-1</th>\n",
       "      <th>ct-10</th>\n",
       "      <th>ct-100</th>\n",
       "    </tr>\n",
       "  </thead>\n",
       "  <tbody>\n",
       "    <tr>\n",
       "      <th>Events (with nGoodVtx &gt; 0 and pass up to ISR cuts)</th>\n",
       "      <td>0.680</td>\n",
       "      <td>0.614</td>\n",
       "      <td>0.441</td>\n",
       "    </tr>\n",
       "    <tr>\n",
       "      <th>Events where the gen ee are reconstructed; dR(reco, gen) &lt; 0.1</th>\n",
       "      <td>0.792</td>\n",
       "      <td>0.785</td>\n",
       "      <td>0.760</td>\n",
       "    </tr>\n",
       "    <tr>\n",
       "      <th>Events where the true reco ee form a valid vertex vtx</th>\n",
       "      <td>0.792</td>\n",
       "      <td>0.785</td>\n",
       "      <td>0.760</td>\n",
       "    </tr>\n",
       "    <tr>\n",
       "      <th>Events where the vtx electrons have pT &gt; 1 GeV, eta &lt; 2.4</th>\n",
       "      <td>0.800</td>\n",
       "      <td>0.791</td>\n",
       "      <td>0.763</td>\n",
       "    </tr>\n",
       "    <tr>\n",
       "      <th>Events where the vtx electrons pass pT&amp;eta AND jet overlap removal with dR &gt; 0.4</th>\n",
       "      <td>0.803</td>\n",
       "      <td>0.797</td>\n",
       "      <td>0.777</td>\n",
       "    </tr>\n",
       "    <tr>\n",
       "      <th>Events where the vtx electrons pass pT&amp;eta&amp;overlap removal AND electron ID</th>\n",
       "      <td>0.975</td>\n",
       "      <td>0.978</td>\n",
       "      <td>0.978</td>\n",
       "    </tr>\n",
       "    <tr>\n",
       "      <th>Events where the vtx electrons pass all electrons cuts AND OSSF</th>\n",
       "      <td>0.976</td>\n",
       "      <td>0.978</td>\n",
       "      <td>0.985</td>\n",
       "    </tr>\n",
       "  </tbody>\n",
       "</table>\n",
       "</div>"
      ],
      "text/plain": [
       "                                                    ct-1  ct-10  ct-100\n",
       "Events (with nGoodVtx > 0 and pass up to ISR cuts) 0.680  0.614   0.441\n",
       "Events where the gen ee are reconstructed; dR(r... 0.792  0.785   0.760\n",
       "Events where the true reco ee form a valid vert... 0.792  0.785   0.760\n",
       "Events where the vtx electrons have pT > 1 GeV,... 0.800  0.791   0.763\n",
       "Events where the vtx electrons pass pT&eta AND ... 0.803  0.797   0.777\n",
       "Events where the vtx electrons pass pT&eta&over... 0.975  0.978   0.978\n",
       "Events where the vtx electrons pass all electro... 0.976  0.978   0.985"
      ]
     },
     "execution_count": 47,
     "metadata": {},
     "output_type": "execute_result"
    }
   ],
   "source": [
    "print(f'm1 = {m1}, delta = {delta}')\n",
    "\n",
    "df_purity"
   ]
  },
  {
   "cell_type": "code",
   "execution_count": 48,
   "id": "a135a2ae-2100-43fd-9de6-56d2f3e96459",
   "metadata": {},
   "outputs": [
    {
     "name": "stdout",
     "output_type": "stream",
     "text": [
      "m1 = 100, delta = 0.2\n"
     ]
    },
    {
     "data": {
      "text/html": [
       "<div>\n",
       "<style scoped>\n",
       "    .dataframe tbody tr th:only-of-type {\n",
       "        vertical-align: middle;\n",
       "    }\n",
       "\n",
       "    .dataframe tbody tr th {\n",
       "        vertical-align: top;\n",
       "    }\n",
       "\n",
       "    .dataframe thead th {\n",
       "        text-align: right;\n",
       "    }\n",
       "</style>\n",
       "<table border=\"1\" class=\"dataframe\">\n",
       "  <thead>\n",
       "    <tr style=\"text-align: right;\">\n",
       "      <th></th>\n",
       "      <th>ct-1</th>\n",
       "      <th>ct-10</th>\n",
       "      <th>ct-100</th>\n",
       "    </tr>\n",
       "  </thead>\n",
       "  <tbody>\n",
       "    <tr>\n",
       "      <th>Events (with nGoodVtx &gt; 0 and pass up to ISR cuts)</th>\n",
       "      <td>0.680</td>\n",
       "      <td>0.614</td>\n",
       "      <td>0.441</td>\n",
       "    </tr>\n",
       "    <tr>\n",
       "      <th>Events where the gen ee are reconstructed; dR(reco, gen) &lt; 0.1</th>\n",
       "      <td>0.792</td>\n",
       "      <td>0.785</td>\n",
       "      <td>0.760</td>\n",
       "    </tr>\n",
       "    <tr>\n",
       "      <th>Events where the true reco ee form a valid vertex vtx</th>\n",
       "      <td>0.792</td>\n",
       "      <td>0.785</td>\n",
       "      <td>0.760</td>\n",
       "    </tr>\n",
       "    <tr>\n",
       "      <th>Events where the true reco ee vtx pass GoodVtx criteria</th>\n",
       "      <td>0.976</td>\n",
       "      <td>0.978</td>\n",
       "      <td>0.985</td>\n",
       "    </tr>\n",
       "  </tbody>\n",
       "</table>\n",
       "</div>"
      ],
      "text/plain": [
       "                                                    ct-1  ct-10  ct-100\n",
       "Events (with nGoodVtx > 0 and pass up to ISR cuts) 0.680  0.614   0.441\n",
       "Events where the gen ee are reconstructed; dR(r... 0.792  0.785   0.760\n",
       "Events where the true reco ee form a valid vert... 0.792  0.785   0.760\n",
       "Events where the true reco ee vtx pass GoodVtx ... 0.976  0.978   0.985"
      ]
     },
     "execution_count": 48,
     "metadata": {},
     "output_type": "execute_result"
    }
   ],
   "source": [
    "print(f'm1 = {m1}, delta = {delta}')\n",
    "\n",
    "df = df_purity.iloc[[0,1,2,-1]].rename(index = {'Events where the vtx electrons pass all electrons cuts AND OSSF': \\\n",
    "                                           'Events where the true reco ee vtx pass GoodVtx criteria'})\n",
    "df"
   ]
  },
  {
   "cell_type": "code",
   "execution_count": null,
   "id": "2d5f664b-d47c-4d67-ae9d-f5b0c6491be0",
   "metadata": {},
   "outputs": [],
   "source": []
  },
  {
   "cell_type": "code",
   "execution_count": null,
   "id": "ea3cc7ff-b05a-4cff-97c9-efb43bfd2fab",
   "metadata": {},
   "outputs": [],
   "source": []
  },
  {
   "cell_type": "code",
   "execution_count": null,
   "id": "cb362048-9524-47f6-8ed8-94b1ef0b5f0e",
   "metadata": {},
   "outputs": [],
   "source": []
  },
  {
   "cell_type": "code",
   "execution_count": 49,
   "id": "36fca6a5-5812-4ef2-9e83-74243f33cf23",
   "metadata": {},
   "outputs": [
    {
     "data": {
      "image/png": "[encoded data removed]",
      "text/plain": [
       "<Figure size 640x480 with 1 Axes>"
      ]
     },
     "metadata": {},
     "output_type": "display_data"
    }
   ],
   "source": [
    "for ct in [1,10,100]:\n",
    "    plt.plot(range(len(purity[f'ct-{ct}'])), purity[f'ct-{ct}'], '-o', label=f'ctau = {ct}mm')\n",
    "\n",
    "plt.grid()\n",
    "\n",
    "plt.ylim([0,1])\n",
    "plt.xticks(range(len(purity[f'ct-{ct}'])), ['All', \\\n",
    "                                'Events where dR(reco e+/-, gen e+/-) < 0.1', \\\n",
    "                                'Events where true reco e+/e- form a vertex', \\\n",
    "                                'true reco e+/e- pT > 1 GeV, eta < 2.4', \\\n",
    "                                'true reco e+/e- dR(e, jet) > 0.4', \\\n",
    "                                'true reco e+/e- pass ID', \\\n",
    "                                'true reco e+/e- vertex OSSF'\n",
    "                               ], rotation=45, ha='right')\n",
    "\n",
    "plt.xlabel('Purity denominator')\n",
    "plt.ylabel('Purity')\n",
    "\n",
    "plt.title(f'm1={m1}GeV, delta={delta}')\n",
    "\n",
    "plt.legend()\n",
    "plt.show()"
   ]
  },
  {
   "cell_type": "code",
   "execution_count": null,
   "id": "1dbef428-6207-459a-8320-311bb253a36d",
   "metadata": {},
   "outputs": [],
   "source": []
  },
  {
   "cell_type": "code",
   "execution_count": null,
   "id": "9bb2c59b-2e3e-4033-bab1-dadd3ef1c44b",
   "metadata": {},
   "outputs": [],
   "source": []
  },
  {
   "cell_type": "code",
   "execution_count": null,
   "id": "6402a683-eea1-4c78-bc1c-106b516aed70",
   "metadata": {},
   "outputs": [],
   "source": []
  },
  {
   "cell_type": "code",
   "execution_count": null,
   "id": "159b0efd-52a1-4c16-9056-8301f485d128",
   "metadata": {},
   "outputs": [],
   "source": []
  },
  {
   "cell_type": "code",
   "execution_count": null,
   "id": "97a5fc1c-0a0b-4440-bac4-b982b1429087",
   "metadata": {},
   "outputs": [],
   "source": []
  },
  {
   "cell_type": "code",
   "execution_count": null,
   "id": "d7146800-a470-46b7-9d1c-a35370606f72",
   "metadata": {},
   "outputs": [],
   "source": []
  }
 ],
 "metadata": {
  "kernelspec": {
   "display_name": "Python 3 (ipykernel)",
   "language": "python",
   "name": "python3"
  },
  "language_info": {
   "codemirror_mode": {
    "name": "ipython",
    "version": 3
   },
   "file_extension": ".py",
   "mimetype": "text/x-python",
   "name": "python",
   "nbconvert_exporter": "python",
   "pygments_lexer": "ipython3",
   "version": "3.8.17"
  }
 },
 "nbformat": 4,
 "nbformat_minor": 5
}
