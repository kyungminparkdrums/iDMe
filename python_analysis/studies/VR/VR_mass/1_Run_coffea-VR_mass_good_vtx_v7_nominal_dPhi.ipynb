{
 "cells": [
  {
   "cell_type": "code",
   "execution_count": 1,
   "id": "e94963cd-6dd7-44cd-9e04-b15d8ada688c",
   "metadata": {},
   "outputs": [],
   "source": [
    "%load_ext autoreload\n",
    "%autoreload 2\n",
    "import uproot\n",
    "import numpy as np\n",
    "import matplotlib.pyplot as plt\n",
    "import awkward as ak\n",
    "import sys\n",
    "sys.path.append(\"../../../analysisTools/\")\n",
    "from analysisTools import Analyzer\n",
    "from analysisTools import loadSchema\n",
    "import analysisTools as tools\n",
    "import analysisSubroutines as routines\n",
    "import plotTools as ptools\n",
    "import utils\n",
    "import importlib\n",
    "import coffea.util as util\n",
    "import time\n",
    "import json\n",
    "import os\n",
    "import glob\n",
    "import pandas as pd"
   ]
  },
  {
   "cell_type": "code",
   "execution_count": 2,
   "id": "80730354-47ca-4b54-8913-832f3a6fcbe7",
   "metadata": {},
   "outputs": [
    {
     "data": {
      "text/plain": [
       "0"
      ]
     },
     "execution_count": 2,
     "metadata": {},
     "output_type": "execute_result"
    }
   ],
   "source": [
    "outdir = \"./coffea/\"\n",
    "os.system(f'mkdir -p {outdir}')"
   ]
  },
  {
   "cell_type": "markdown",
   "id": "7239900a-5708-42ba-801b-38a0edd23518",
   "metadata": {},
   "source": [
    "## VR"
   ]
  },
  {
   "cell_type": "code",
   "execution_count": 3,
   "id": "de587b56-297f-46fd-ae68-1bc951f3b855",
   "metadata": {},
   "outputs": [],
   "source": [
    "#cuts_config = \"./cut_configs/VR_mass.py\"\n",
    "cuts_config = \"./cut_configs/VR_refit_mass.py\""
   ]
  },
  {
   "cell_type": "code",
   "execution_count": 4,
   "id": "e32fad6a-c32e-4492-88e1-abb4c29831fc",
   "metadata": {},
   "outputs": [],
   "source": [
    "#histos_config = \"./histo_configs/histos.py\" # new histogramming framework\n",
    "histos_config = \"./histo_configs/histo_VR.py\" # old histogramming framework"
   ]
  },
  {
   "cell_type": "markdown",
   "id": "765fb997-fdee-4b80-968c-69f7658fc0f7",
   "metadata": {},
   "source": [
    "### Data"
   ]
  },
  {
   "cell_type": "code",
   "execution_count": 6,
   "id": "7089cad6-f7ee-4f99-adfe-b78ec0f102c5",
   "metadata": {},
   "outputs": [],
   "source": [
    "sample_config = \"./sample_configs/skimmed_data_2018_MET_v1_noNJetCut.json\""
   ]
  },
  {
   "cell_type": "code",
   "execution_count": 7,
   "id": "e839a881-6de3-4b19-85d1-a0e252ad8f48",
   "metadata": {},
   "outputs": [
    {
     "data": {
      "application/vnd.jupyter.widget-view+json": {
       "model_id": "4db107b69d5f4fac8edd464754f9ae32",
       "version_major": 2,
       "version_minor": 0
      },
      "text/plain": [
       "Output()"
      ]
     },
     "metadata": {},
     "output_type": "display_data"
    },
    {
     "data": {
      "text/html": [
       "<pre style=\"white-space:pre;overflow-x:auto;line-height:normal;font-family:Menlo,'DejaVu Sans Mono',consolas,'Courier New',monospace\"></pre>\n"
      ],
      "text/plain": []
     },
     "metadata": {},
     "output_type": "display_data"
    },
    {
     "data": {
      "text/html": [
       "<pre style=\"white-space:pre;overflow-x:auto;line-height:normal;font-family:Menlo,'DejaVu Sans Mono',consolas,'Courier New',monospace\">\n",
       "</pre>\n"
      ],
      "text/plain": [
       "\n"
      ]
     },
     "metadata": {},
     "output_type": "display_data"
    },
    {
     "data": {
      "application/vnd.jupyter.widget-view+json": {
       "model_id": "c130acd6778f430f9f2d86489da39e3b",
       "version_major": 2,
       "version_minor": 0
      },
      "text/plain": [
       "Output()"
      ]
     },
     "metadata": {},
     "output_type": "display_data"
    },
    {
     "name": "stdout",
     "output_type": "stream",
     "text": [
      "NJet > 2\n",
      "NJet > 2\n",
      "NJet > 2\n",
      "NJet > 2\n"
     ]
    },
    {
     "data": {
      "text/html": [
       "<pre style=\"white-space:pre;overflow-x:auto;line-height:normal;font-family:Menlo,'DejaVu Sans Mono',consolas,'Courier New',monospace\"></pre>\n"
      ],
      "text/plain": []
     },
     "metadata": {},
     "output_type": "display_data"
    },
    {
     "data": {
      "text/html": [
       "<pre style=\"white-space:pre;overflow-x:auto;line-height:normal;font-family:Menlo,'DejaVu Sans Mono',consolas,'Courier New',monospace\">\n",
       "</pre>\n"
      ],
      "text/plain": [
       "\n"
      ]
     },
     "metadata": {},
     "output_type": "display_data"
    },
    {
     "name": "stderr",
     "output_type": "stream",
     "text": [
      "concurrent.futures.process._RemoteTraceback: \n",
      "\"\"\"\n",
      "Traceback (most recent call last):\n",
      "  File \"/uscms/home/kyungmip/nobackup/miniconda3/envs/coffea/lib/python3.8/site-packages/coffea/processor/executor.py\", line 1654, in _work_function\n",
      "    out = processor_instance.process(events)\n",
      "  File \"/uscms_data/d3/kyungmip/CMSSW_10_6_26/src/iDMe/python_analysis/studies/VR/VR_mass/../../../analysisTools/analysisTools.py\", line 332, in process\n",
      "    self.histoFill(events,histos,samp,cutName,info,sum_wgt=sum_wgt)\n",
      "  File \"/uscms_data/d3/kyungmip/CMSSW_10_6_26/src/iDMe/python_analysis/studies/VR/VR_mass/./histo_configs/histo_VR.py\", line 95, in fillHistos\n",
      "    histos[\"sel_vtx_mass_refit\"].fill(samp=samp,cut=cut,mass=vtx.refit_m,weight=wgt)\n",
      "  File \"/uscms/home/kyungmip/nobackup/miniconda3/envs/coffea/lib/python3.8/site-packages/awkward/highlevel.py\", line 1123, in __getattr__\n",
      "    raise AttributeError(\n",
      "AttributeError: no field named 'refit_m'\n",
      "\n",
      "(https://github.com/scikit-hep/awkward-1.0/blob/1.10.3/src/awkward/highlevel.py#L1124)\n",
      "\n",
      "The above exception was the direct cause of the following exception:\n",
      "\n",
      "Traceback (most recent call last):\n",
      "  File \"/uscms/home/kyungmip/nobackup/miniconda3/envs/coffea/lib/python3.8/concurrent/futures/process.py\", line 239, in _process_worker\n",
      "    r = call_item.fn(*call_item.args, **call_item.kwargs)\n",
      "  File \"/uscms/home/kyungmip/nobackup/miniconda3/envs/coffea/lib/python3.8/site-packages/coffea/processor/executor.py\", line 221, in __call__\n",
      "    out = self.function(*args, **kwargs)\n",
      "  File \"/uscms/home/kyungmip/nobackup/miniconda3/envs/coffea/lib/python3.8/site-packages/coffea/processor/executor.py\", line 1367, in automatic_retries\n",
      "    raise e\n",
      "  File \"/uscms/home/kyungmip/nobackup/miniconda3/envs/coffea/lib/python3.8/site-packages/coffea/processor/executor.py\", line 1336, in automatic_retries\n",
      "    return func(*args, **kwargs)\n",
      "  File \"/uscms/home/kyungmip/nobackup/miniconda3/envs/coffea/lib/python3.8/site-packages/coffea/processor/executor.py\", line 1656, in _work_function\n",
      "    raise Exception(f\"Failed processing file: {item!r}\") from e\n",
      "Exception: Failed processing file: WorkItem(dataset='data_2018_Data_MET_UL18_Run2018D', filename='root://cmsxrootd.fnal.gov//store/group/lpcmetx/iDMe//skimmed_ntuples/data/data_2018_MET_v1_rdfSkim_MET200_noNJetCut/output_Data_MET_UL18_Run2018D//ntuples_Data_MET_UL18_Run2018D_8.root', treename='ntuples/outT', entrystart=0, entrystop=37389, fileuuid=b'\\xe6\\x8c\\x11\\x94\\x06\\xf4\\x11\\xef\\xac_D\\xbc\\xe1\\x83\\xbe\\xef', usermeta={})\n",
      "\"\"\"\n",
      "\n",
      "The above exception was the direct cause of the following exception:\n",
      "\n",
      "Traceback (most recent call last):\n",
      "  File \"/uscms/home/kyungmip/nobackup/miniconda3/envs/coffea/lib/python3.8/site-packages/coffea/processor/executor.py\", line 786, in _processwith\n",
      "    merged = _watcher(FH, self, reducer, pool)\n",
      "  File \"/uscms/home/kyungmip/nobackup/miniconda3/envs/coffea/lib/python3.8/site-packages/coffea/processor/executor.py\", line 402, in _watcher\n",
      "    batch = FH.fetch(len(FH.completed))\n",
      "  File \"/uscms/home/kyungmip/nobackup/miniconda3/envs/coffea/lib/python3.8/site-packages/coffea/processor/executor.py\", line 286, in fetch\n",
      "    raise bad_futures[0].exception()\n",
      "Exception: Failed processing file: WorkItem(dataset='data_2018_Data_MET_UL18_Run2018D', filename='root://cmsxrootd.fnal.gov//store/group/lpcmetx/iDMe//skimmed_ntuples/data/data_2018_MET_v1_rdfSkim_MET200_noNJetCut/output_Data_MET_UL18_Run2018D//ntuples_Data_MET_UL18_Run2018D_8.root', treename='ntuples/outT', entrystart=0, entrystop=37389, fileuuid=b'\\xe6\\x8c\\x11\\x94\\x06\\xf4\\x11\\xef\\xac_D\\xbc\\xe1\\x83\\xbe\\xef', usermeta={})\n",
      "\n",
      "KeyboardInterrupt\n",
      "\n",
      "Process ForkProcess-8:\n",
      "Traceback (most recent call last):\n",
      "  File \"/uscms/home/kyungmip/nobackup/miniconda3/envs/coffea/lib/python3.8/site-packages/uproot/interpretation/identify.py\", line 379, in interpretation_of\n",
      "    from_dtype = _leaf_to_dtype(leaf, getdims=False).newbyteorder(\">\")\n",
      "  File \"/uscms/home/kyungmip/nobackup/miniconda3/envs/coffea/lib/python3.8/site-packages/uproot/interpretation/identify.py\", line 97, in _leaf_to_dtype\n",
      "    return numpy.dtype((_ftype_to_dtype(leaf.member(\"fType\")), dims))\n",
      "  File \"/uscms/home/kyungmip/nobackup/miniconda3/envs/coffea/lib/python3.8/site-packages/uproot/interpretation/identify.py\", line 60, in _ftype_to_dtype\n",
      "    raise NotNumerical()\n",
      "uproot.interpretation.identify.NotNumerical\n",
      "\n",
      "During handling of the above exception, another exception occurred:\n",
      "\n",
      "Traceback (most recent call last):\n",
      "  File \"/uscms/home/kyungmip/nobackup/miniconda3/envs/coffea/lib/python3.8/concurrent/futures/process.py\", line 239, in _process_worker\n",
      "    r = call_item.fn(*call_item.args, **call_item.kwargs)\n",
      "  File \"/uscms/home/kyungmip/nobackup/miniconda3/envs/coffea/lib/python3.8/site-packages/coffea/processor/executor.py\", line 221, in __call__\n",
      "    out = self.function(*args, **kwargs)\n",
      "  File \"/uscms/home/kyungmip/nobackup/miniconda3/envs/coffea/lib/python3.8/site-packages/coffea/processor/executor.py\", line 1336, in automatic_retries\n",
      "    return func(*args, **kwargs)\n",
      "  File \"/uscms/home/kyungmip/nobackup/miniconda3/envs/coffea/lib/python3.8/site-packages/coffea/processor/executor.py\", line 1615, in _work_function\n",
      "    factory = NanoEventsFactory.from_root(\n",
      "  File \"/uscms/home/kyungmip/nobackup/miniconda3/envs/coffea/lib/python3.8/site-packages/coffea/nanoevents/factory.py\", line 124, in from_root\n",
      "    base_form = mapping._extract_base_form(\n",
      "  File \"/uscms/home/kyungmip/nobackup/miniconda3/envs/coffea/lib/python3.8/site-packages/coffea/nanoevents/mapping/uproot.py\", line 99, in _extract_base_form\n",
      "    branch.interpretation,\n",
      "  File \"/uscms/home/kyungmip/nobackup/miniconda3/envs/coffea/lib/python3.8/site-packages/uproot/behaviors/TBranch.py\", line 2324, in interpretation\n",
      "    self._interpretation = uproot.interpretation.identify.interpretation_of(\n",
      "  File \"/uscms/home/kyungmip/nobackup/miniconda3/envs/coffea/lib/python3.8/site-packages/uproot/interpretation/identify.py\", line 446, in interpretation_of\n",
      "    model_cls = parse_typename(\n",
      "  File \"/uscms/home/kyungmip/nobackup/miniconda3/envs/coffea/lib/python3.8/site-packages/uproot/interpretation/identify.py\", line 1130, in parse_typename\n",
      "    i, out = _parse_node(\n",
      "  File \"/uscms/home/kyungmip/nobackup/miniconda3/envs/coffea/lib/python3.8/site-packages/uproot/interpretation/identify.py\", line 890, in _parse_node\n",
      "    elif _simplify_token(tokens[i]) == \"double*\":\n",
      "  File \"/uscms/home/kyungmip/nobackup/miniconda3/envs/coffea/lib/python3.8/site-packages/uproot/interpretation/identify.py\", line 517, in _simplify_token\n",
      "    text = _simplify_token_3.sub(\"<\", text)\n",
      "KeyboardInterrupt\n",
      "\n",
      "During handling of the above exception, another exception occurred:\n",
      "\n",
      "Traceback (most recent call last):\n",
      "  File \"/uscms/home/kyungmip/nobackup/miniconda3/envs/coffea/lib/python3.8/multiprocessing/process.py\", line 315, in _bootstrap\n",
      "    self.run()\n",
      "  File \"/uscms/home/kyungmip/nobackup/miniconda3/envs/coffea/lib/python3.8/multiprocessing/process.py\", line 108, in run\n",
      "    self._target(*self._args, **self._kwargs)\n",
      "  File \"/uscms/home/kyungmip/nobackup/miniconda3/envs/coffea/lib/python3.8/concurrent/futures/process.py\", line 241, in _process_worker\n",
      "    exc = _ExceptionWithTraceback(e, e.__traceback__)\n",
      "  File \"/uscms/home/kyungmip/nobackup/miniconda3/envs/coffea/lib/python3.8/concurrent/futures/process.py\", line 129, in __init__\n",
      "    tb = traceback.format_exception(type(exc), exc, tb)\n",
      "  File \"/uscms/home/kyungmip/nobackup/miniconda3/envs/coffea/lib/python3.8/traceback.py\", line 120, in format_exception\n",
      "    return list(TracebackException(\n",
      "  File \"/uscms/home/kyungmip/nobackup/miniconda3/envs/coffea/lib/python3.8/traceback.py\", line 508, in __init__\n",
      "    self.stack = StackSummary.extract(\n",
      "  File \"/uscms/home/kyungmip/nobackup/miniconda3/envs/coffea/lib/python3.8/traceback.py\", line 366, in extract\n",
      "    f.line\n",
      "  File \"/uscms/home/kyungmip/nobackup/miniconda3/envs/coffea/lib/python3.8/traceback.py\", line 288, in line\n",
      "    self._line = linecache.getline(self.filename, self.lineno).strip()\n",
      "  File \"/uscms/home/kyungmip/nobackup/miniconda3/envs/coffea/lib/python3.8/linecache.py\", line 16, in getline\n",
      "    lines = getlines(filename, module_globals)\n",
      "  File \"/uscms/home/kyungmip/nobackup/miniconda3/envs/coffea/lib/python3.8/linecache.py\", line 47, in getlines\n",
      "    return updatecache(filename, module_globals)\n",
      "  File \"/uscms/home/kyungmip/nobackup/miniconda3/envs/coffea/lib/python3.8/linecache.py\", line 136, in updatecache\n",
      "    with tokenize.open(fullname) as fp:\n",
      "  File \"/uscms/home/kyungmip/nobackup/miniconda3/envs/coffea/lib/python3.8/tokenize.py\", line 394, in open\n",
      "    encoding, lines = detect_encoding(buffer.readline)\n",
      "  File \"/uscms/home/kyungmip/nobackup/miniconda3/envs/coffea/lib/python3.8/tokenize.py\", line 363, in detect_encoding\n",
      "    first = read_or_stop()\n",
      "  File \"/uscms/home/kyungmip/nobackup/miniconda3/envs/coffea/lib/python3.8/tokenize.py\", line 321, in read_or_stop\n",
      "    return readline()\n",
      "KeyboardInterrupt\n"
     ]
    }
   ],
   "source": [
    "test = Analyzer(sample_config, histos_config, cuts_config)\n",
    "t1 = time.time()\n",
    "out = test.process(execr='futures', workers=4)\n",
    "t2 = time.time()\n",
    "print(f\"Runtime: {(t2-t1)/60} minutes\")\n",
    "#util.save(out,f\"{outdir}/data_VR_noNJetCut_good_vtx_v7.coffea\")\n",
    "util.save(out,f\"{outdir}/data_VR_NJet3orMore_good_vtx_v7_refitMass.coffea\")\n",
    "del out, test"
   ]
  },
  {
   "cell_type": "markdown",
   "id": "df64c715-cc6b-42ca-9b0f-814a91d49174",
   "metadata": {},
   "source": [
    "### Background"
   ]
  },
  {
   "cell_type": "code",
   "execution_count": 5,
   "id": "c385824c-f76d-411c-84d9-bffe5bdb039d",
   "metadata": {},
   "outputs": [],
   "source": [
    "#sample_config = \"./sample_configs/skimmed_bkg_2018_v7_miniAOD_noNJetCut.json\"\n",
    "#sample_config = \"./sample_configs/skimmed_bkg_2018_v7_miniAOD_noNJetCut_wZGamma.json\"\n",
    "sample_config = \"./sample_configs/skimmed_bkg_2018_v9_miniAOD_rdfSkim_MET200_nJetsG0.json\""
   ]
  },
  {
   "cell_type": "code",
   "execution_count": 6,
   "id": "59c858ed-0ef1-4704-92f7-ab3be2a94b2d",
   "metadata": {
    "scrolled": true
   },
   "outputs": [
    {
     "data": {
      "application/vnd.jupyter.widget-view+json": {
       "model_id": "1901ef47e4c34e78b44b63cc989df347",
       "version_major": 2,
       "version_minor": 0
      },
      "text/plain": [
       "Output()"
      ]
     },
     "metadata": {},
     "output_type": "display_data"
    },
    {
     "data": {
      "text/html": [
       "<pre style=\"white-space:pre;overflow-x:auto;line-height:normal;font-family:Menlo,'DejaVu Sans Mono',consolas,'Courier New',monospace\"></pre>\n"
      ],
      "text/plain": []
     },
     "metadata": {},
     "output_type": "display_data"
    },
    {
     "data": {
      "text/html": [
       "<pre style=\"white-space:pre;overflow-x:auto;line-height:normal;font-family:Menlo,'DejaVu Sans Mono',consolas,'Courier New',monospace\">\n",
       "</pre>\n"
      ],
      "text/plain": [
       "\n"
      ]
     },
     "metadata": {},
     "output_type": "display_data"
    },
    {
     "data": {
      "application/vnd.jupyter.widget-view+json": {
       "model_id": "d12e641afb8741b880e4e67a902dc273",
       "version_major": 2,
       "version_minor": 0
      },
      "text/plain": [
       "Output()"
      ]
     },
     "metadata": {},
     "output_type": "display_data"
    },
    {
     "name": "stdout",
     "output_type": "stream",
     "text": [
      "NJet > 2\n",
      "NJet > 2\n",
      "NJet > 2\n",
      "NJet > 2\n",
      "NJet > 2\n",
      "NJet > 2\n",
      "NJet > 2\n",
      "NJet > 2\n",
      "NJet > 2\n",
      "NJet > 2\n",
      "NJet > 2\n",
      "NJet > 2\n",
      "NJet > 2\n",
      "NJet > 2\n",
      "NJet > 2\n",
      "NJet > 2\n",
      "NJet > 2\n",
      "NJet > 2\n",
      "NJet > 2\n",
      "NJet > 2\n",
      "NJet > 2\n",
      "NJet > 2\n",
      "NJet > 2\n",
      "NJet > 2\n",
      "NJet > 2\n",
      "NJet > 2\n",
      "NJet > 2\n",
      "NJet > 2\n",
      "NJet > 2\n",
      "NJet > 2\n",
      "NJet > 2\n",
      "NJet > 2\n",
      "NJet > 2\n",
      "NJet > 2\n",
      "NJet > 2\n",
      "NJet > 2NJet > 2\n",
      "\n",
      "NJet > 2NJet > 2\n",
      "NJet > 2\n",
      "NJet > 2NJet > 2\n",
      "NJet > 2\n",
      "NJet > 2\n",
      "NJet > 2\n",
      "NJet > 2\n",
      "\n",
      "NJet > 2\n",
      "\n",
      "NJet > 2\n",
      "NJet > 2\n",
      "NJet > 2\n",
      "NJet > 2\n",
      "NJet > 2\n",
      "NJet > 2\n",
      "NJet > 2\n",
      "NJet > 2\n",
      "NJet > 2\n",
      "NJet > 2NJet > 2\n",
      "NJet > 2\n",
      "NJet > 2\n"
     ]
    },
    {
     "data": {
      "text/html": [
       "<pre style=\"white-space:pre;overflow-x:auto;line-height:normal;font-family:Menlo,'DejaVu Sans Mono',consolas,'Courier New',monospace\"></pre>\n"
      ],
      "text/plain": []
     },
     "metadata": {},
     "output_type": "display_data"
    },
    {
     "data": {
      "text/html": [
       "<pre style=\"white-space:pre;overflow-x:auto;line-height:normal;font-family:Menlo,'DejaVu Sans Mono',consolas,'Courier New',monospace\">\n",
       "</pre>\n"
      ],
      "text/plain": [
       "\n"
      ]
     },
     "metadata": {},
     "output_type": "display_data"
    },
    {
     "name": "stdout",
     "output_type": "stream",
     "text": [
      "Runtime: 4.985372805595398 minutes\n"
     ]
    }
   ],
   "source": [
    "test = Analyzer(sample_config, histos_config, cuts_config)\n",
    "t1 = time.time()\n",
    "out = test.process(execr='futures', workers=4)\n",
    "t2 = time.time()\n",
    "print(f\"Runtime: {(t2-t1)/60} minutes\")\n",
    "util.save(out,f\"{outdir}/background_VR_NJet3orMore_good_vtx_v7_refitMass.coffea\")\n",
    "del out, test"
   ]
  },
  {
   "cell_type": "markdown",
   "id": "550f4704-78d6-4e96-806b-58e8746cbfc8",
   "metadata": {},
   "source": [
    "### Signal"
   ]
  },
  {
   "cell_type": "code",
   "execution_count": 7,
   "id": "caaf36bb-e93c-42e4-bfd3-2cbc4ccef4b7",
   "metadata": {},
   "outputs": [],
   "source": [
    "#sample_config = \"./sample_configs/skimmed_signal_v9_miniAOD_2018_aEM_noNJetCut.json\"\n",
    "sample_config = \"./sample_configs/skimmed_signal_2018_v11_miniAOD_aEM_rdfSkim_MET200_nJetsG0.json\""
   ]
  },
  {
   "cell_type": "code",
   "execution_count": 8,
   "id": "fee872e7-eca2-4bc4-9062-33f452644a92",
   "metadata": {
    "scrolled": true
   },
   "outputs": [
    {
     "data": {
      "application/vnd.jupyter.widget-view+json": {
       "model_id": "f3188c76879c4305a7e76ffd2b9906d4",
       "version_major": 2,
       "version_minor": 0
      },
      "text/plain": [
       "Output()"
      ]
     },
     "metadata": {},
     "output_type": "display_data"
    },
    {
     "data": {
      "text/html": [
       "<pre style=\"white-space:pre;overflow-x:auto;line-height:normal;font-family:Menlo,'DejaVu Sans Mono',consolas,'Courier New',monospace\"></pre>\n"
      ],
      "text/plain": []
     },
     "metadata": {},
     "output_type": "display_data"
    },
    {
     "data": {
      "text/html": [
       "<pre style=\"white-space:pre;overflow-x:auto;line-height:normal;font-family:Menlo,'DejaVu Sans Mono',consolas,'Courier New',monospace\">\n",
       "</pre>\n"
      ],
      "text/plain": [
       "\n"
      ]
     },
     "metadata": {},
     "output_type": "display_data"
    },
    {
     "data": {
      "application/vnd.jupyter.widget-view+json": {
       "model_id": "ba22e446a2b146fda77f04d9f4043b04",
       "version_major": 2,
       "version_minor": 0
      },
      "text/plain": [
       "Output()"
      ]
     },
     "metadata": {},
     "output_type": "display_data"
    },
    {
     "name": "stdout",
     "output_type": "stream",
     "text": [
      "NJet > 2\n",
      "NJet > 2\n"
     ]
    },
    {
     "name": "stderr",
     "output_type": "stream",
     "text": [
      "/uscms_data/d3/kyungmip/CMSSW_10_6_26/src/iDMe/python_analysis/studies/VR/VR_mass/../../../analysisTools/analysisTools.py:326: RuntimeWarning: invalid value encountered in scalar divide\n",
      "  cutflow_vtx_matched[cutName] += ak.sum(vtx_matched_events.genWgt)/ak.sum(events.genWgt)\n"
     ]
    },
    {
     "name": "stdout",
     "output_type": "stream",
     "text": [
      "NJet > 2\n",
      "NJet > 2\n"
     ]
    },
    {
     "name": "stderr",
     "output_type": "stream",
     "text": [
      "/uscms_data/d3/kyungmip/CMSSW_10_6_26/src/iDMe/python_analysis/studies/VR/VR_mass/../../../analysisTools/analysisTools.py:326: RuntimeWarning: invalid value encountered in scalar divide\n",
      "  cutflow_vtx_matched[cutName] += ak.sum(vtx_matched_events.genWgt)/ak.sum(events.genWgt)\n"
     ]
    },
    {
     "name": "stdout",
     "output_type": "stream",
     "text": [
      "NJet > 2\n"
     ]
    },
    {
     "name": "stderr",
     "output_type": "stream",
     "text": [
      "/uscms_data/d3/kyungmip/CMSSW_10_6_26/src/iDMe/python_analysis/studies/VR/VR_mass/../../../analysisTools/analysisTools.py:326: RuntimeWarning: invalid value encountered in scalar divide\n",
      "  cutflow_vtx_matched[cutName] += ak.sum(vtx_matched_events.genWgt)/ak.sum(events.genWgt)\n"
     ]
    },
    {
     "name": "stdout",
     "output_type": "stream",
     "text": [
      "NJet > 2\n"
     ]
    },
    {
     "name": "stderr",
     "output_type": "stream",
     "text": [
      "/uscms_data/d3/kyungmip/CMSSW_10_6_26/src/iDMe/python_analysis/studies/VR/VR_mass/../../../analysisTools/analysisTools.py:326: RuntimeWarning: invalid value encountered in scalar divide\n",
      "  cutflow_vtx_matched[cutName] += ak.sum(vtx_matched_events.genWgt)/ak.sum(events.genWgt)\n"
     ]
    },
    {
     "name": "stdout",
     "output_type": "stream",
     "text": [
      "NJet > 2\n"
     ]
    },
    {
     "name": "stderr",
     "output_type": "stream",
     "text": [
      "/uscms_data/d3/kyungmip/CMSSW_10_6_26/src/iDMe/python_analysis/studies/VR/VR_mass/../../../analysisTools/analysisTools.py:326: RuntimeWarning: invalid value encountered in scalar divide\n",
      "  cutflow_vtx_matched[cutName] += ak.sum(vtx_matched_events.genWgt)/ak.sum(events.genWgt)\n"
     ]
    },
    {
     "name": "stdout",
     "output_type": "stream",
     "text": [
      "NJet > 2\n",
      "NJet > 2\n"
     ]
    },
    {
     "name": "stderr",
     "output_type": "stream",
     "text": [
      "/uscms_data/d3/kyungmip/CMSSW_10_6_26/src/iDMe/python_analysis/studies/VR/VR_mass/../../../analysisTools/analysisTools.py:326: RuntimeWarning: invalid value encountered in scalar divide\n",
      "  cutflow_vtx_matched[cutName] += ak.sum(vtx_matched_events.genWgt)/ak.sum(events.genWgt)\n"
     ]
    },
    {
     "name": "stdout",
     "output_type": "stream",
     "text": [
      "NJet > 2\n"
     ]
    },
    {
     "name": "stderr",
     "output_type": "stream",
     "text": [
      "/uscms_data/d3/kyungmip/CMSSW_10_6_26/src/iDMe/python_analysis/studies/VR/VR_mass/../../../analysisTools/analysisTools.py:326: RuntimeWarning: invalid value encountered in scalar divide\n",
      "  cutflow_vtx_matched[cutName] += ak.sum(vtx_matched_events.genWgt)/ak.sum(events.genWgt)\n",
      "/uscms_data/d3/kyungmip/CMSSW_10_6_26/src/iDMe/python_analysis/studies/VR/VR_mass/../../../analysisTools/analysisTools.py:326: RuntimeWarning: invalid value encountered in scalar divide\n",
      "  cutflow_vtx_matched[cutName] += ak.sum(vtx_matched_events.genWgt)/ak.sum(events.genWgt)\n"
     ]
    },
    {
     "name": "stdout",
     "output_type": "stream",
     "text": [
      "NJet > 2\n",
      "NJet > 2\n"
     ]
    },
    {
     "name": "stderr",
     "output_type": "stream",
     "text": [
      "/uscms_data/d3/kyungmip/CMSSW_10_6_26/src/iDMe/python_analysis/studies/VR/VR_mass/../../../analysisTools/analysisTools.py:326: RuntimeWarning: invalid value encountered in scalar divide\n",
      "  cutflow_vtx_matched[cutName] += ak.sum(vtx_matched_events.genWgt)/ak.sum(events.genWgt)\n",
      "/uscms_data/d3/kyungmip/CMSSW_10_6_26/src/iDMe/python_analysis/studies/VR/VR_mass/../../../analysisTools/analysisTools.py:326: RuntimeWarning: invalid value encountered in scalar divide\n",
      "  cutflow_vtx_matched[cutName] += ak.sum(vtx_matched_events.genWgt)/ak.sum(events.genWgt)\n"
     ]
    },
    {
     "name": "stdout",
     "output_type": "stream",
     "text": [
      "NJet > 2\n"
     ]
    },
    {
     "name": "stderr",
     "output_type": "stream",
     "text": [
      "/uscms_data/d3/kyungmip/CMSSW_10_6_26/src/iDMe/python_analysis/studies/VR/VR_mass/../../../analysisTools/analysisTools.py:326: RuntimeWarning: invalid value encountered in scalar divide\n",
      "  cutflow_vtx_matched[cutName] += ak.sum(vtx_matched_events.genWgt)/ak.sum(events.genWgt)\n"
     ]
    },
    {
     "name": "stdout",
     "output_type": "stream",
     "text": [
      "NJet > 2\n"
     ]
    },
    {
     "name": "stderr",
     "output_type": "stream",
     "text": [
      "/uscms_data/d3/kyungmip/CMSSW_10_6_26/src/iDMe/python_analysis/studies/VR/VR_mass/../../../analysisTools/analysisTools.py:326: RuntimeWarning: invalid value encountered in scalar divide\n",
      "  cutflow_vtx_matched[cutName] += ak.sum(vtx_matched_events.genWgt)/ak.sum(events.genWgt)\n"
     ]
    },
    {
     "name": "stdout",
     "output_type": "stream",
     "text": [
      "NJet > 2NJet > 2\n"
     ]
    },
    {
     "name": "stderr",
     "output_type": "stream",
     "text": [
      "/uscms_data/d3/kyungmip/CMSSW_10_6_26/src/iDMe/python_analysis/studies/VR/VR_mass/../../../analysisTools/analysisTools.py:326: RuntimeWarning: invalid value encountered in scalar divide\n",
      "  cutflow_vtx_matched[cutName] += ak.sum(vtx_matched_events.genWgt)/ak.sum(events.genWgt)\n"
     ]
    },
    {
     "name": "stdout",
     "output_type": "stream",
     "text": [
      "NJet > 2\n",
      "NJet > 2\n"
     ]
    },
    {
     "name": "stderr",
     "output_type": "stream",
     "text": [
      "/uscms_data/d3/kyungmip/CMSSW_10_6_26/src/iDMe/python_analysis/studies/VR/VR_mass/../../../analysisTools/analysisTools.py:326: RuntimeWarning: invalid value encountered in scalar divide\n",
      "  cutflow_vtx_matched[cutName] += ak.sum(vtx_matched_events.genWgt)/ak.sum(events.genWgt)\n"
     ]
    },
    {
     "name": "stdout",
     "output_type": "stream",
     "text": [
      "NJet > 2\n"
     ]
    },
    {
     "name": "stderr",
     "output_type": "stream",
     "text": [
      "/uscms_data/d3/kyungmip/CMSSW_10_6_26/src/iDMe/python_analysis/studies/VR/VR_mass/../../../analysisTools/analysisTools.py:326: RuntimeWarning: invalid value encountered in scalar divide\n",
      "  cutflow_vtx_matched[cutName] += ak.sum(vtx_matched_events.genWgt)/ak.sum(events.genWgt)\n",
      "/uscms_data/d3/kyungmip/CMSSW_10_6_26/src/iDMe/python_analysis/studies/VR/VR_mass/../../../analysisTools/analysisTools.py:326: RuntimeWarning: invalid value encountered in scalar divide\n",
      "  cutflow_vtx_matched[cutName] += ak.sum(vtx_matched_events.genWgt)/ak.sum(events.genWgt)\n"
     ]
    },
    {
     "name": "stdout",
     "output_type": "stream",
     "text": [
      "\n"
     ]
    },
    {
     "name": "stderr",
     "output_type": "stream",
     "text": [
      "/uscms_data/d3/kyungmip/CMSSW_10_6_26/src/iDMe/python_analysis/studies/VR/VR_mass/../../../analysisTools/analysisTools.py:326: RuntimeWarning: invalid value encountered in scalar divide\n",
      "  cutflow_vtx_matched[cutName] += ak.sum(vtx_matched_events.genWgt)/ak.sum(events.genWgt)\n"
     ]
    },
    {
     "name": "stdout",
     "output_type": "stream",
     "text": [
      "NJet > 2\n"
     ]
    },
    {
     "name": "stderr",
     "output_type": "stream",
     "text": [
      "/uscms_data/d3/kyungmip/CMSSW_10_6_26/src/iDMe/python_analysis/studies/VR/VR_mass/../../../analysisTools/analysisTools.py:326: RuntimeWarning: invalid value encountered in scalar divide\n",
      "  cutflow_vtx_matched[cutName] += ak.sum(vtx_matched_events.genWgt)/ak.sum(events.genWgt)\n"
     ]
    },
    {
     "name": "stdout",
     "output_type": "stream",
     "text": [
      "NJet > 2\n"
     ]
    },
    {
     "name": "stderr",
     "output_type": "stream",
     "text": [
      "/uscms_data/d3/kyungmip/CMSSW_10_6_26/src/iDMe/python_analysis/studies/VR/VR_mass/../../../analysisTools/analysisTools.py:326: RuntimeWarning: invalid value encountered in scalar divide\n",
      "  cutflow_vtx_matched[cutName] += ak.sum(vtx_matched_events.genWgt)/ak.sum(events.genWgt)\n"
     ]
    },
    {
     "name": "stdout",
     "output_type": "stream",
     "text": [
      "NJet > 2\n"
     ]
    },
    {
     "name": "stderr",
     "output_type": "stream",
     "text": [
      "/uscms_data/d3/kyungmip/CMSSW_10_6_26/src/iDMe/python_analysis/studies/VR/VR_mass/../../../analysisTools/analysisTools.py:326: RuntimeWarning: invalid value encountered in scalar divide\n",
      "  cutflow_vtx_matched[cutName] += ak.sum(vtx_matched_events.genWgt)/ak.sum(events.genWgt)\n"
     ]
    },
    {
     "name": "stdout",
     "output_type": "stream",
     "text": [
      "NJet > 2\n",
      "NJet > 2\n"
     ]
    },
    {
     "name": "stderr",
     "output_type": "stream",
     "text": [
      "/uscms_data/d3/kyungmip/CMSSW_10_6_26/src/iDMe/python_analysis/studies/VR/VR_mass/../../../analysisTools/analysisTools.py:326: RuntimeWarning: invalid value encountered in scalar divide\n",
      "  cutflow_vtx_matched[cutName] += ak.sum(vtx_matched_events.genWgt)/ak.sum(events.genWgt)\n",
      "/uscms_data/d3/kyungmip/CMSSW_10_6_26/src/iDMe/python_analysis/studies/VR/VR_mass/../../../analysisTools/analysisTools.py:326: RuntimeWarning: invalid value encountered in scalar divide\n",
      "  cutflow_vtx_matched[cutName] += ak.sum(vtx_matched_events.genWgt)/ak.sum(events.genWgt)\n"
     ]
    },
    {
     "name": "stdout",
     "output_type": "stream",
     "text": [
      "NJet > 2\n",
      "NJet > 2\n"
     ]
    },
    {
     "name": "stderr",
     "output_type": "stream",
     "text": [
      "/uscms_data/d3/kyungmip/CMSSW_10_6_26/src/iDMe/python_analysis/studies/VR/VR_mass/../../../analysisTools/analysisTools.py:326: RuntimeWarning: invalid value encountered in scalar divide\n",
      "  cutflow_vtx_matched[cutName] += ak.sum(vtx_matched_events.genWgt)/ak.sum(events.genWgt)\n",
      "/uscms_data/d3/kyungmip/CMSSW_10_6_26/src/iDMe/python_analysis/studies/VR/VR_mass/../../../analysisTools/analysisTools.py:326: RuntimeWarning: invalid value encountered in scalar divide\n",
      "  cutflow_vtx_matched[cutName] += ak.sum(vtx_matched_events.genWgt)/ak.sum(events.genWgt)\n",
      "/uscms_data/d3/kyungmip/CMSSW_10_6_26/src/iDMe/python_analysis/studies/VR/VR_mass/../../../analysisTools/analysisTools.py:326: RuntimeWarning: invalid value encountered in scalar divide\n",
      "  cutflow_vtx_matched[cutName] += ak.sum(vtx_matched_events.genWgt)/ak.sum(events.genWgt)\n"
     ]
    },
    {
     "name": "stdout",
     "output_type": "stream",
     "text": [
      "NJet > 2\n"
     ]
    },
    {
     "name": "stderr",
     "output_type": "stream",
     "text": [
      "/uscms_data/d3/kyungmip/CMSSW_10_6_26/src/iDMe/python_analysis/studies/VR/VR_mass/../../../analysisTools/analysisTools.py:326: RuntimeWarning: invalid value encountered in scalar divide\n",
      "  cutflow_vtx_matched[cutName] += ak.sum(vtx_matched_events.genWgt)/ak.sum(events.genWgt)\n"
     ]
    },
    {
     "name": "stdout",
     "output_type": "stream",
     "text": [
      "NJet > 2\n",
      "NJet > 2"
     ]
    },
    {
     "name": "stderr",
     "output_type": "stream",
     "text": [
      "/uscms_data/d3/kyungmip/CMSSW_10_6_26/src/iDMe/python_analysis/studies/VR/VR_mass/../../../analysisTools/analysisTools.py:326: RuntimeWarning: invalid value encountered in scalar divide\n",
      "  cutflow_vtx_matched[cutName] += ak.sum(vtx_matched_events.genWgt)/ak.sum(events.genWgt)\n",
      "/uscms_data/d3/kyungmip/CMSSW_10_6_26/src/iDMe/python_analysis/studies/VR/VR_mass/../../../analysisTools/analysisTools.py:326: RuntimeWarning: invalid value encountered in scalar divide\n",
      "  cutflow_vtx_matched[cutName] += ak.sum(vtx_matched_events.genWgt)/ak.sum(events.genWgt)\n"
     ]
    },
    {
     "name": "stdout",
     "output_type": "stream",
     "text": [
      "\n",
      "NJet > 2\n"
     ]
    },
    {
     "name": "stderr",
     "output_type": "stream",
     "text": [
      "/uscms_data/d3/kyungmip/CMSSW_10_6_26/src/iDMe/python_analysis/studies/VR/VR_mass/../../../analysisTools/analysisTools.py:326: RuntimeWarning: invalid value encountered in scalar divide\n",
      "  cutflow_vtx_matched[cutName] += ak.sum(vtx_matched_events.genWgt)/ak.sum(events.genWgt)\n",
      "/uscms_data/d3/kyungmip/CMSSW_10_6_26/src/iDMe/python_analysis/studies/VR/VR_mass/../../../analysisTools/analysisTools.py:326: RuntimeWarning: invalid value encountered in scalar divide\n",
      "  cutflow_vtx_matched[cutName] += ak.sum(vtx_matched_events.genWgt)/ak.sum(events.genWgt)\n"
     ]
    },
    {
     "name": "stdout",
     "output_type": "stream",
     "text": [
      "NJet > 2\n"
     ]
    },
    {
     "name": "stderr",
     "output_type": "stream",
     "text": [
      "/uscms_data/d3/kyungmip/CMSSW_10_6_26/src/iDMe/python_analysis/studies/VR/VR_mass/../../../analysisTools/analysisTools.py:326: RuntimeWarning: invalid value encountered in scalar divide\n",
      "  cutflow_vtx_matched[cutName] += ak.sum(vtx_matched_events.genWgt)/ak.sum(events.genWgt)\n"
     ]
    },
    {
     "name": "stdout",
     "output_type": "stream",
     "text": [
      "NJet > 2\n"
     ]
    },
    {
     "name": "stderr",
     "output_type": "stream",
     "text": [
      "/uscms_data/d3/kyungmip/CMSSW_10_6_26/src/iDMe/python_analysis/studies/VR/VR_mass/../../../analysisTools/analysisTools.py:326: RuntimeWarning: invalid value encountered in scalar divide\n",
      "  cutflow_vtx_matched[cutName] += ak.sum(vtx_matched_events.genWgt)/ak.sum(events.genWgt)\n"
     ]
    },
    {
     "name": "stdout",
     "output_type": "stream",
     "text": [
      "NJet > 2\n"
     ]
    },
    {
     "name": "stderr",
     "output_type": "stream",
     "text": [
      "/uscms_data/d3/kyungmip/CMSSW_10_6_26/src/iDMe/python_analysis/studies/VR/VR_mass/../../../analysisTools/analysisTools.py:326: RuntimeWarning: invalid value encountered in scalar divide\n",
      "  cutflow_vtx_matched[cutName] += ak.sum(vtx_matched_events.genWgt)/ak.sum(events.genWgt)\n",
      "/uscms_data/d3/kyungmip/CMSSW_10_6_26/src/iDMe/python_analysis/studies/VR/VR_mass/../../../analysisTools/analysisTools.py:326: RuntimeWarning: invalid value encountered in scalar divide\n",
      "  cutflow_vtx_matched[cutName] += ak.sum(vtx_matched_events.genWgt)/ak.sum(events.genWgt)\n"
     ]
    },
    {
     "name": "stdout",
     "output_type": "stream",
     "text": [
      "NJet > 2\n",
      "NJet > 2\n"
     ]
    },
    {
     "name": "stderr",
     "output_type": "stream",
     "text": [
      "/uscms_data/d3/kyungmip/CMSSW_10_6_26/src/iDMe/python_analysis/studies/VR/VR_mass/../../../analysisTools/analysisTools.py:326: RuntimeWarning: invalid value encountered in scalar divide\n",
      "  cutflow_vtx_matched[cutName] += ak.sum(vtx_matched_events.genWgt)/ak.sum(events.genWgt)\n"
     ]
    },
    {
     "name": "stdout",
     "output_type": "stream",
     "text": [
      "NJet > 2\n",
      "NJet > 2\n"
     ]
    },
    {
     "name": "stderr",
     "output_type": "stream",
     "text": [
      "/uscms_data/d3/kyungmip/CMSSW_10_6_26/src/iDMe/python_analysis/studies/VR/VR_mass/../../../analysisTools/analysisTools.py:326: RuntimeWarning: invalid value encountered in scalar divide\n",
      "  cutflow_vtx_matched[cutName] += ak.sum(vtx_matched_events.genWgt)/ak.sum(events.genWgt)\n",
      "/uscms_data/d3/kyungmip/CMSSW_10_6_26/src/iDMe/python_analysis/studies/VR/VR_mass/../../../analysisTools/analysisTools.py:326: RuntimeWarning: invalid value encountered in scalar divide\n",
      "  cutflow_vtx_matched[cutName] += ak.sum(vtx_matched_events.genWgt)/ak.sum(events.genWgt)\n"
     ]
    },
    {
     "name": "stdout",
     "output_type": "stream",
     "text": [
      "NJet > 2\n"
     ]
    },
    {
     "name": "stderr",
     "output_type": "stream",
     "text": [
      "/uscms_data/d3/kyungmip/CMSSW_10_6_26/src/iDMe/python_analysis/studies/VR/VR_mass/../../../analysisTools/analysisTools.py:326: RuntimeWarning: invalid value encountered in scalar divide\n",
      "  cutflow_vtx_matched[cutName] += ak.sum(vtx_matched_events.genWgt)/ak.sum(events.genWgt)\n"
     ]
    },
    {
     "name": "stdout",
     "output_type": "stream",
     "text": [
      "NJet > 2\n"
     ]
    },
    {
     "name": "stderr",
     "output_type": "stream",
     "text": [
      "/uscms_data/d3/kyungmip/CMSSW_10_6_26/src/iDMe/python_analysis/studies/VR/VR_mass/../../../analysisTools/analysisTools.py:326: RuntimeWarning: invalid value encountered in scalar divide\n",
      "  cutflow_vtx_matched[cutName] += ak.sum(vtx_matched_events.genWgt)/ak.sum(events.genWgt)\n"
     ]
    },
    {
     "name": "stdout",
     "output_type": "stream",
     "text": [
      "NJet > 2\n",
      "NJet > 2\n",
      "NJet > 2\n"
     ]
    },
    {
     "name": "stderr",
     "output_type": "stream",
     "text": [
      "/uscms_data/d3/kyungmip/CMSSW_10_6_26/src/iDMe/python_analysis/studies/VR/VR_mass/../../../analysisTools/analysisTools.py:326: RuntimeWarning: invalid value encountered in scalar divide\n",
      "  cutflow_vtx_matched[cutName] += ak.sum(vtx_matched_events.genWgt)/ak.sum(events.genWgt)\n",
      "/uscms_data/d3/kyungmip/CMSSW_10_6_26/src/iDMe/python_analysis/studies/VR/VR_mass/../../../analysisTools/analysisTools.py:326: RuntimeWarning: invalid value encountered in scalar divide\n",
      "  cutflow_vtx_matched[cutName] += ak.sum(vtx_matched_events.genWgt)/ak.sum(events.genWgt)\n"
     ]
    },
    {
     "name": "stdout",
     "output_type": "stream",
     "text": [
      "NJet > 2\n"
     ]
    },
    {
     "name": "stderr",
     "output_type": "stream",
     "text": [
      "/uscms_data/d3/kyungmip/CMSSW_10_6_26/src/iDMe/python_analysis/studies/VR/VR_mass/../../../analysisTools/analysisTools.py:326: RuntimeWarning: invalid value encountered in scalar divide\n",
      "  cutflow_vtx_matched[cutName] += ak.sum(vtx_matched_events.genWgt)/ak.sum(events.genWgt)\n"
     ]
    },
    {
     "name": "stdout",
     "output_type": "stream",
     "text": [
      "\n"
     ]
    },
    {
     "name": "stderr",
     "output_type": "stream",
     "text": [
      "/uscms_data/d3/kyungmip/CMSSW_10_6_26/src/iDMe/python_analysis/studies/VR/VR_mass/../../../analysisTools/analysisTools.py:326: RuntimeWarning: invalid value encountered in scalar divide\n",
      "  cutflow_vtx_matched[cutName] += ak.sum(vtx_matched_events.genWgt)/ak.sum(events.genWgt)\n"
     ]
    },
    {
     "name": "stdout",
     "output_type": "stream",
     "text": [
      "NJet > 2\n",
      "NJet > 2\n"
     ]
    },
    {
     "name": "stderr",
     "output_type": "stream",
     "text": [
      "/uscms_data/d3/kyungmip/CMSSW_10_6_26/src/iDMe/python_analysis/studies/VR/VR_mass/../../../analysisTools/analysisTools.py:326: RuntimeWarning: invalid value encountered in scalar divide\n",
      "  cutflow_vtx_matched[cutName] += ak.sum(vtx_matched_events.genWgt)/ak.sum(events.genWgt)\n",
      "/uscms_data/d3/kyungmip/CMSSW_10_6_26/src/iDMe/python_analysis/studies/VR/VR_mass/../../../analysisTools/analysisTools.py:326: RuntimeWarning: invalid value encountered in scalar divide\n",
      "  cutflow_vtx_matched[cutName] += ak.sum(vtx_matched_events.genWgt)/ak.sum(events.genWgt)\n"
     ]
    },
    {
     "name": "stdout",
     "output_type": "stream",
     "text": [
      "NJet > 2"
     ]
    },
    {
     "name": "stderr",
     "output_type": "stream",
     "text": [
      "/uscms_data/d3/kyungmip/CMSSW_10_6_26/src/iDMe/python_analysis/studies/VR/VR_mass/../../../analysisTools/analysisTools.py:326: RuntimeWarning: invalid value encountered in scalar divide\n",
      "  cutflow_vtx_matched[cutName] += ak.sum(vtx_matched_events.genWgt)/ak.sum(events.genWgt)\n"
     ]
    },
    {
     "name": "stdout",
     "output_type": "stream",
     "text": [
      "NJet > 2\n"
     ]
    },
    {
     "name": "stderr",
     "output_type": "stream",
     "text": [
      "/uscms_data/d3/kyungmip/CMSSW_10_6_26/src/iDMe/python_analysis/studies/VR/VR_mass/../../../analysisTools/analysisTools.py:326: RuntimeWarning: invalid value encountered in scalar divide\n",
      "  cutflow_vtx_matched[cutName] += ak.sum(vtx_matched_events.genWgt)/ak.sum(events.genWgt)\n"
     ]
    },
    {
     "name": "stdout",
     "output_type": "stream",
     "text": [
      "NJet > 2\n"
     ]
    },
    {
     "name": "stderr",
     "output_type": "stream",
     "text": [
      "/uscms_data/d3/kyungmip/CMSSW_10_6_26/src/iDMe/python_analysis/studies/VR/VR_mass/../../../analysisTools/analysisTools.py:326: RuntimeWarning: invalid value encountered in scalar divide\n",
      "  cutflow_vtx_matched[cutName] += ak.sum(vtx_matched_events.genWgt)/ak.sum(events.genWgt)\n"
     ]
    },
    {
     "name": "stdout",
     "output_type": "stream",
     "text": [
      "NJet > 2\n",
      "NJet > 2\n"
     ]
    },
    {
     "name": "stderr",
     "output_type": "stream",
     "text": [
      "/uscms_data/d3/kyungmip/CMSSW_10_6_26/src/iDMe/python_analysis/studies/VR/VR_mass/../../../analysisTools/analysisTools.py:326: RuntimeWarning: invalid value encountered in scalar divide\n",
      "  cutflow_vtx_matched[cutName] += ak.sum(vtx_matched_events.genWgt)/ak.sum(events.genWgt)\n"
     ]
    },
    {
     "name": "stdout",
     "output_type": "stream",
     "text": [
      "NJet > 2\n"
     ]
    },
    {
     "name": "stderr",
     "output_type": "stream",
     "text": [
      "/uscms_data/d3/kyungmip/CMSSW_10_6_26/src/iDMe/python_analysis/studies/VR/VR_mass/../../../analysisTools/analysisTools.py:326: RuntimeWarning: invalid value encountered in scalar divide\n",
      "  cutflow_vtx_matched[cutName] += ak.sum(vtx_matched_events.genWgt)/ak.sum(events.genWgt)\n"
     ]
    },
    {
     "name": "stdout",
     "output_type": "stream",
     "text": [
      "NJet > 2\n",
      "NJet > 2\n"
     ]
    },
    {
     "name": "stderr",
     "output_type": "stream",
     "text": [
      "/uscms_data/d3/kyungmip/CMSSW_10_6_26/src/iDMe/python_analysis/studies/VR/VR_mass/../../../analysisTools/analysisTools.py:326: RuntimeWarning: invalid value encountered in scalar divide\n",
      "  cutflow_vtx_matched[cutName] += ak.sum(vtx_matched_events.genWgt)/ak.sum(events.genWgt)\n",
      "/uscms_data/d3/kyungmip/CMSSW_10_6_26/src/iDMe/python_analysis/studies/VR/VR_mass/../../../analysisTools/analysisTools.py:326: RuntimeWarning: invalid value encountered in scalar divide\n",
      "  cutflow_vtx_matched[cutName] += ak.sum(vtx_matched_events.genWgt)/ak.sum(events.genWgt)\n"
     ]
    },
    {
     "name": "stdout",
     "output_type": "stream",
     "text": [
      "\n",
      "NJet > 2\n"
     ]
    },
    {
     "name": "stderr",
     "output_type": "stream",
     "text": [
      "/uscms_data/d3/kyungmip/CMSSW_10_6_26/src/iDMe/python_analysis/studies/VR/VR_mass/../../../analysisTools/analysisTools.py:326: RuntimeWarning: invalid value encountered in scalar divide\n",
      "  cutflow_vtx_matched[cutName] += ak.sum(vtx_matched_events.genWgt)/ak.sum(events.genWgt)\n"
     ]
    },
    {
     "name": "stdout",
     "output_type": "stream",
     "text": [
      "NJet > 2\n",
      "NJet > 2\n"
     ]
    },
    {
     "name": "stderr",
     "output_type": "stream",
     "text": [
      "/uscms_data/d3/kyungmip/CMSSW_10_6_26/src/iDMe/python_analysis/studies/VR/VR_mass/../../../analysisTools/analysisTools.py:326: RuntimeWarning: invalid value encountered in scalar divide\n",
      "  cutflow_vtx_matched[cutName] += ak.sum(vtx_matched_events.genWgt)/ak.sum(events.genWgt)\n",
      "/uscms_data/d3/kyungmip/CMSSW_10_6_26/src/iDMe/python_analysis/studies/VR/VR_mass/../../../analysisTools/analysisTools.py:326: RuntimeWarning: invalid value encountered in scalar divide\n",
      "  cutflow_vtx_matched[cutName] += ak.sum(vtx_matched_events.genWgt)/ak.sum(events.genWgt)\n"
     ]
    },
    {
     "name": "stdout",
     "output_type": "stream",
     "text": [
      "NJet > 2\n"
     ]
    },
    {
     "name": "stderr",
     "output_type": "stream",
     "text": [
      "/uscms_data/d3/kyungmip/CMSSW_10_6_26/src/iDMe/python_analysis/studies/VR/VR_mass/../../../analysisTools/analysisTools.py:326: RuntimeWarning: invalid value encountered in scalar divide\n",
      "  cutflow_vtx_matched[cutName] += ak.sum(vtx_matched_events.genWgt)/ak.sum(events.genWgt)\n"
     ]
    },
    {
     "data": {
      "text/html": [
       "<pre style=\"white-space:pre;overflow-x:auto;line-height:normal;font-family:Menlo,'DejaVu Sans Mono',consolas,'Courier New',monospace\"></pre>\n"
      ],
      "text/plain": []
     },
     "metadata": {},
     "output_type": "display_data"
    },
    {
     "data": {
      "text/html": [
       "<pre style=\"white-space:pre;overflow-x:auto;line-height:normal;font-family:Menlo,'DejaVu Sans Mono',consolas,'Courier New',monospace\">\n",
       "</pre>\n"
      ],
      "text/plain": [
       "\n"
      ]
     },
     "metadata": {},
     "output_type": "display_data"
    },
    {
     "name": "stdout",
     "output_type": "stream",
     "text": [
      "Runtime: 4.335414556662242 minutes\n"
     ]
    }
   ],
   "source": [
    "test = Analyzer(sample_config, histos_config, cuts_config)\n",
    "t1 = time.time()\n",
    "out = test.process(execr='futures', workers=4)\n",
    "t2 = time.time()\n",
    "print(f\"Runtime: {(t2-t1)/60} minutes\")\n",
    "util.save(out,f\"{outdir}/signal_VR_NJet3orMore_good_vtx_v7_refitMass.coffea\")\n",
    "del out, test"
   ]
  },
  {
   "cell_type": "code",
   "execution_count": null,
   "id": "d5c37cb4-4a7f-44b8-9a6b-3d079ded00c7",
   "metadata": {},
   "outputs": [],
   "source": []
  }
 ],
 "metadata": {
  "kernelspec": {
   "display_name": "Python 3 (ipykernel)",
   "language": "python",
   "name": "python3"
  },
  "language_info": {
   "codemirror_mode": {
    "name": "ipython",
    "version": 3
   },
   "file_extension": ".py",
   "mimetype": "text/x-python",
   "name": "python",
   "nbconvert_exporter": "python",
   "pygments_lexer": "ipython3",
   "version": "3.8.17"
  }
 },
 "nbformat": 4,
 "nbformat_minor": 5
}
