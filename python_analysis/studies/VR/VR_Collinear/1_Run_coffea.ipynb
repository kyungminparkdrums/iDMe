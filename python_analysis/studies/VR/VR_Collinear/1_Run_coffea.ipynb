{
 "cells": [
  {
   "cell_type": "code",
   "execution_count": 21,
   "id": "e94963cd-6dd7-44cd-9e04-b15d8ada688c",
   "metadata": {},
   "outputs": [
    {
     "name": "stdout",
     "output_type": "stream",
     "text": [
      "The autoreload extension is already loaded. To reload it, use:\n",
      "  %reload_ext autoreload\n"
     ]
    }
   ],
   "source": [
    "%load_ext autoreload\n",
    "%autoreload 2\n",
    "import uproot\n",
    "import numpy as np\n",
    "import matplotlib.pyplot as plt\n",
    "import awkward as ak\n",
    "import sys\n",
    "sys.path.append(\"../../../analysisTools/\")\n",
    "from analysisTools import Analyzer\n",
    "from analysisTools import loadSchema\n",
    "import analysisTools as tools\n",
    "import analysisSubroutines as routines\n",
    "import plotTools as ptools\n",
    "import utils\n",
    "import importlib\n",
    "import coffea.util as util\n",
    "import time\n",
    "import json\n",
    "import os\n",
    "import glob\n",
    "import pandas as pd"
   ]
  },
  {
   "cell_type": "code",
   "execution_count": 22,
   "id": "80730354-47ca-4b54-8913-832f3a6fcbe7",
   "metadata": {},
   "outputs": [
    {
     "data": {
      "text/plain": [
       "0"
      ]
     },
     "execution_count": 22,
     "metadata": {},
     "output_type": "execute_result"
    }
   ],
   "source": [
    "outdir = \"./coffea/\"\n",
    "os.system(f'mkdir -p {outdir}')"
   ]
  },
  {
   "cell_type": "markdown",
   "id": "7239900a-5708-42ba-801b-38a0edd23518",
   "metadata": {},
   "source": [
    "## VR"
   ]
  },
  {
   "cell_type": "code",
   "execution_count": 23,
   "id": "de587b56-297f-46fd-ae68-1bc951f3b855",
   "metadata": {},
   "outputs": [],
   "source": [
    "cuts_config = \"./cut_configs/VR_ProjectedLxy.py\""
   ]
  },
  {
   "cell_type": "code",
   "execution_count": 24,
   "id": "e32fad6a-c32e-4492-88e1-abb4c29831fc",
   "metadata": {},
   "outputs": [],
   "source": [
    "#histos_config = \"./histo_configs/histos.py\" # new histogramming framework\n",
    "histos_config = \"./histo_configs/histo_VR.py\" # old histogramming framework"
   ]
  },
  {
   "cell_type": "markdown",
   "id": "765fb997-fdee-4b80-968c-69f7658fc0f7",
   "metadata": {},
   "source": [
    "### Data"
   ]
  },
  {
   "cell_type": "code",
   "execution_count": 25,
   "id": "7089cad6-f7ee-4f99-adfe-b78ec0f102c5",
   "metadata": {},
   "outputs": [],
   "source": [
    "sample_config = \"./sample_configs/skimmed_data_2018_MET_v1.json\""
   ]
  },
  {
   "cell_type": "code",
   "execution_count": 26,
   "id": "e839a881-6de3-4b19-85d1-a0e252ad8f48",
   "metadata": {
    "scrolled": true
   },
   "outputs": [
    {
     "data": {
      "application/vnd.jupyter.widget-view+json": {
       "model_id": "ea24513c44004127b10bebb54d053673",
       "version_major": 2,
       "version_minor": 0
      },
      "text/plain": [
       "Output()"
      ]
     },
     "metadata": {},
     "output_type": "display_data"
    },
    {
     "name": "stdout",
     "output_type": "stream",
     "text": [
      "ProjectedLxy Cut Pass: 7/21\n",
      "ProjectedLxy Cut Pass: 8/24\n",
      "ProjectedLxy Cut Pass: 12/18\n",
      "ProjectedLxy Cut Pass: 6/17\n",
      "ProjectedLxy Cut Pass: 4/4\n",
      "ProjectedLxy Cut Pass: 1/1\n",
      "ProjectedLxy Cut Pass: 3/7\n",
      "ProjectedLxy Cut Pass: 2/4\n",
      "ProjectedLxy Cut Pass: 7/12\n",
      "ProjectedLxy Cut Pass: 7/12\n",
      "ProjectedLxy Cut Pass: 4/14\n",
      "ProjectedLxy Cut Pass: 8/15\n",
      "ProjectedLxy Cut Pass: 11/18\n",
      "ProjectedLxy Cut Pass: 8/15\n",
      "ProjectedLxy Cut Pass: 5/11\n",
      "ProjectedLxy Cut Pass: 5/11\n",
      "ProjectedLxy Cut Pass: 1/4\n",
      "ProjectedLxy Cut Pass: 1/2\n",
      "ProjectedLxy Cut Pass: 7/13\n",
      "ProjectedLxy Cut Pass: 8/23\n",
      "ProjectedLxy Cut Pass: 3/8\n",
      "ProjectedLxy Cut Pass: 3/11\n",
      "ProjectedLxy Cut Pass: 3/6\n",
      "ProjectedLxy Cut Pass: 3/14\n",
      "ProjectedLxy Cut Pass: 1/5\n",
      "ProjectedLxy Cut Pass: 1/6\n",
      "ProjectedLxy Cut Pass: 0/1\n",
      "ProjectedLxy Cut Pass: 5/8\n",
      "ProjectedLxy Cut Pass: 5/9\n",
      "ProjectedLxy Cut Pass: 1/3\n",
      "ProjectedLxy Cut Pass: 3/3\n",
      "ProjectedLxy Cut Pass: 6/16\n",
      "ProjectedLxy Cut Pass: 11/22\n",
      "ProjectedLxy Cut Pass: 0/3\n",
      "ProjectedLxy Cut Pass: 7/15\n",
      "ProjectedLxy Cut Pass: 2/5\n",
      "ProjectedLxy Cut Pass: 0/3\n",
      "ProjectedLxy Cut Pass: 2/5\n",
      "ProjectedLxy Cut Pass: 1/3\n"
     ]
    },
    {
     "data": {
      "text/html": [
       "<pre style=\"white-space:pre;overflow-x:auto;line-height:normal;font-family:Menlo,'DejaVu Sans Mono',consolas,'Courier New',monospace\"></pre>\n"
      ],
      "text/plain": []
     },
     "metadata": {},
     "output_type": "display_data"
    },
    {
     "data": {
      "text/html": [
       "<pre style=\"white-space:pre;overflow-x:auto;line-height:normal;font-family:Menlo,'DejaVu Sans Mono',consolas,'Courier New',monospace\">\n",
       "</pre>\n"
      ],
      "text/plain": [
       "\n"
      ]
     },
     "metadata": {},
     "output_type": "display_data"
    },
    {
     "name": "stdout",
     "output_type": "stream",
     "text": [
      "Runtime: 1.006607139110565 minutes\n"
     ]
    }
   ],
   "source": [
    "test = Analyzer(sample_config, histos_config, cuts_config)\n",
    "t1 = time.time()\n",
    "out = test.process(execr='futures', workers=4)\n",
    "t2 = time.time()\n",
    "print(f\"Runtime: {(t2-t1)/60} minutes\")\n",
    "util.save(out,f\"{outdir}/data_VR_collinear2D.coffea\")\n",
    "del out, test"
   ]
  },
  {
   "cell_type": "markdown",
   "id": "df64c715-cc6b-42ca-9b0f-814a91d49174",
   "metadata": {},
   "source": [
    "### Background"
   ]
  },
  {
   "cell_type": "code",
   "execution_count": 27,
   "id": "c385824c-f76d-411c-84d9-bffe5bdb039d",
   "metadata": {},
   "outputs": [],
   "source": [
    "sample_config = \"./sample_configs/skimmed_bkg_2018_v7_miniAOD.json\""
   ]
  },
  {
   "cell_type": "code",
   "execution_count": 28,
   "id": "59c858ed-0ef1-4704-92f7-ab3be2a94b2d",
   "metadata": {},
   "outputs": [
    {
     "data": {
      "application/vnd.jupyter.widget-view+json": {
       "model_id": "42efdbfbff0545cab65e3fd7e4d5c9a1",
       "version_major": 2,
       "version_minor": 0
      },
      "text/plain": [
       "Output()"
      ]
     },
     "metadata": {},
     "output_type": "display_data"
    },
    {
     "name": "stdout",
     "output_type": "stream",
     "text": [
      "ProjectedLxy Cut Pass: 0/0\n",
      "ProjectedLxy Cut Pass: 0/9\n",
      "ProjectedLxy Cut Pass: 0/0\n",
      "ProjectedLxy Cut Pass: 17/39\n",
      "ProjectedLxy Cut Pass: 21/39\n",
      "ProjectedLxy Cut Pass: 0/0\n",
      "ProjectedLxy Cut Pass: 0/0\n",
      "ProjectedLxy Cut Pass: 7/15\n",
      "ProjectedLxy Cut Pass: 7/23\n",
      "ProjectedLxy Cut Pass: 0/0\n",
      "ProjectedLxy Cut Pass: 117/325\n",
      "ProjectedLxy Cut Pass: 70/179\n",
      "ProjectedLxy Cut Pass: 13/36\n",
      "ProjectedLxy Cut Pass: 5/12\n",
      "ProjectedLxy Cut Pass: 2/13\n",
      "ProjectedLxy Cut Pass: 2/4\n",
      "ProjectedLxy Cut Pass: 0/1\n",
      "ProjectedLxy Cut Pass: 1/3\n",
      "ProjectedLxy Cut Pass: 1/2\n",
      "ProjectedLxy Cut Pass: 5/13\n",
      "\n",
      "ProjectedLxy Cut Pass: 3/4\n",
      "ProjectedLxy Cut Pass: 9/11\n",
      "ProjectedLxy Cut Pass: 0/1\n",
      "ProjectedLxy Cut Pass: 32/101\n",
      "\n",
      "ProjectedLxy Cut Pass: 0/0\n",
      "ProjectedLxy Cut Pass: 2/4\n",
      "ProjectedLxy Cut Pass: 0/0\n",
      "ProjectedLxy Cut Pass: 0/0\n",
      "ProjectedLxy Cut Pass: 0/0\n",
      "ProjectedLxy Cut Pass: 0/0\n",
      "ProjectedLxy Cut Pass: 1/3\n",
      "ProjectedLxy Cut Pass: 0/0\n",
      "ProjectedLxy Cut Pass: 0/0\n",
      "ProjectedLxy Cut Pass: 0/0\n",
      "ProjectedLxy Cut Pass: 0/0\n",
      "ProjectedLxy Cut Pass: 0/0\n",
      "ProjectedLxy Cut Pass: 1/2\n",
      "ProjectedLxy Cut Pass: 0/0\n",
      "ProjectedLxy Cut Pass: 1/1\n",
      "ProjectedLxy Cut Pass: 1/3\n",
      "ProjectedLxy Cut Pass: 1/3\n",
      "ProjectedLxy Cut Pass: 4/7\n",
      "ProjectedLxy Cut Pass: 1/1\n",
      "ProjectedLxy Cut Pass: 2/2\n",
      "ProjectedLxy Cut Pass: 0/0\n",
      "ProjectedLxy Cut Pass: 1/3\n",
      "ProjectedLxy Cut Pass: 65/207\n"
     ]
    },
    {
     "data": {
      "text/html": [
       "<pre style=\"white-space:pre;overflow-x:auto;line-height:normal;font-family:Menlo,'DejaVu Sans Mono',consolas,'Courier New',monospace\"></pre>\n"
      ],
      "text/plain": []
     },
     "metadata": {},
     "output_type": "display_data"
    },
    {
     "data": {
      "text/html": [
       "<pre style=\"white-space:pre;overflow-x:auto;line-height:normal;font-family:Menlo,'DejaVu Sans Mono',consolas,'Courier New',monospace\">\n",
       "</pre>\n"
      ],
      "text/plain": [
       "\n"
      ]
     },
     "metadata": {},
     "output_type": "display_data"
    },
    {
     "name": "stdout",
     "output_type": "stream",
     "text": [
      "Runtime: 1.688466735680898 minutes\n"
     ]
    }
   ],
   "source": [
    "test = Analyzer(sample_config, histos_config, cuts_config)\n",
    "t1 = time.time()\n",
    "out = test.process(execr='futures', workers=4)\n",
    "t2 = time.time()\n",
    "print(f\"Runtime: {(t2-t1)/60} minutes\")\n",
    "util.save(out,f\"{outdir}/background_VR_collinear2D.coffea\")\n",
    "del out, test"
   ]
  },
  {
   "cell_type": "markdown",
   "id": "550f4704-78d6-4e96-806b-58e8746cbfc8",
   "metadata": {},
   "source": [
    "### Signal"
   ]
  },
  {
   "cell_type": "code",
   "execution_count": 29,
   "id": "caaf36bb-e93c-42e4-bfd3-2cbc4ccef4b7",
   "metadata": {},
   "outputs": [],
   "source": [
    "sample_config = \"./sample_configs/skimmed_signal_v9_miniAOD_2018_aEM.json\""
   ]
  },
  {
   "cell_type": "code",
   "execution_count": 30,
   "id": "fee872e7-eca2-4bc4-9062-33f452644a92",
   "metadata": {
    "scrolled": true
   },
   "outputs": [
    {
     "data": {
      "application/vnd.jupyter.widget-view+json": {
       "model_id": "57d441fbd8e14c0e8b078b890bd03d88",
       "version_major": 2,
       "version_minor": 0
      },
      "text/plain": [
       "Output()"
      ]
     },
     "metadata": {},
     "output_type": "display_data"
    },
    {
     "name": "stdout",
     "output_type": "stream",
     "text": [
      "ProjectedLxy Cut Pass: 118/221\n",
      "ProjectedLxy Cut Pass: 208/369\n",
      "ProjectedLxy Cut Pass: 560/951\n",
      "ProjectedLxy Cut Pass: 706/1139\n",
      "ProjectedLxy Cut Pass: 110/191\n",
      "ProjectedLxy Cut Pass: 85/142\n",
      "ProjectedLxy Cut Pass: 35/62\n",
      "ProjectedLxy Cut Pass: 393/679\n",
      "ProjectedLxy Cut Pass: 488/889\n",
      "ProjectedLxy Cut Pass: 78/163\n",
      "ProjectedLxy Cut Pass: 65/93\n",
      "ProjectedLxy Cut Pass: 114/202\n",
      "ProjectedLxy Cut Pass: 161/275\n",
      "ProjectedLxy Cut Pass: 227/369\n",
      "ProjectedLxy Cut Pass: 27/41\n",
      "ProjectedLxy Cut Pass: 10/24\n",
      "ProjectedLxy Cut Pass: 53/95\n",
      "ProjectedLxy Cut Pass: 73/156\n",
      "ProjectedLxy Cut Pass: 17/38\n",
      "ProjectedLxy Cut Pass: 0/1\n"
     ]
    },
    {
     "name": "stderr",
     "output_type": "stream",
     "text": [
      "/uscms_data/d3/kyungmip/CMSSW_10_6_26/src/iDMe/python_analysis/studies/VR/VR_Collinear/../../../analysisTools/analysisTools.py:326: RuntimeWarning: invalid value encountered in scalar divide\n",
      "  cutflow_vtx_matched[cutName] += ak.sum(vtx_matched_events.genWgt)/ak.sum(events.genWgt)\n"
     ]
    },
    {
     "name": "stdout",
     "output_type": "stream",
     "text": [
      "ProjectedLxy Cut Pass: 2/9\n",
      "ProjectedLxy Cut Pass: 0/10\n"
     ]
    },
    {
     "name": "stderr",
     "output_type": "stream",
     "text": [
      "/uscms_data/d3/kyungmip/CMSSW_10_6_26/src/iDMe/python_analysis/studies/VR/VR_Collinear/../../../analysisTools/analysisTools.py:326: RuntimeWarning: invalid value encountered in scalar divide\n",
      "  cutflow_vtx_matched[cutName] += ak.sum(vtx_matched_events.genWgt)/ak.sum(events.genWgt)\n"
     ]
    },
    {
     "name": "stdout",
     "output_type": "stream",
     "text": [
      "ProjectedLxy Cut Pass: 64/123\n",
      "ProjectedLxy Cut Pass: 5/12\n",
      "ProjectedLxy Cut Pass: 4/13\n",
      "ProjectedLxy Cut Pass: 3/10\n",
      "ProjectedLxy Cut Pass: 12/24\n",
      "ProjectedLxy Cut Pass: 11/29\n",
      "ProjectedLxy Cut Pass: 6/11\n",
      "ProjectedLxy Cut Pass: 13/35\n",
      "ProjectedLxy Cut Pass: 56/108\n",
      "ProjectedLxy Cut Pass: 6/19\n",
      "ProjectedLxy Cut Pass: 19/47\n",
      "ProjectedLxy Cut Pass: 18/46\n",
      "ProjectedLxy Cut Pass: 40/83\n",
      "ProjectedLxy Cut Pass: 13/31\n",
      "ProjectedLxy Cut Pass: 12/44\n",
      "ProjectedLxy Cut Pass: 24/60\n",
      "ProjectedLxy Cut Pass: 3/8\n",
      "ProjectedLxy Cut Pass: 6/17\n",
      "ProjectedLxy Cut Pass: 12/29\n",
      "ProjectedLxy Cut Pass: 21/55\n",
      "ProjectedLxy Cut Pass: 10/29\n",
      "ProjectedLxy Cut Pass: 4/13\n",
      "ProjectedLxy Cut Pass: 17/62\n",
      "ProjectedLxy Cut Pass: 8/34\n",
      "ProjectedLxy Cut Pass: 9/28\n",
      "ProjectedLxy Cut Pass: 8/12\n",
      "ProjectedLxy Cut Pass: 8/16\n",
      "ProjectedLxy Cut Pass: 7/27\n",
      "ProjectedLxy Cut Pass: 3/15\n",
      "ProjectedLxy Cut Pass: 4/14\n",
      "ProjectedLxy Cut Pass: 8/25\n",
      "ProjectedLxy Cut Pass: 121/236\n",
      "ProjectedLxy Cut Pass: 381/623\n",
      "ProjectedLxy Cut Pass: 10/23\n",
      "ProjectedLxy Cut Pass: 7/31\n",
      "ProjectedLxy Cut Pass: 454/748\n",
      "ProjectedLxy Cut Pass: 8/33\n",
      "ProjectedLxy Cut Pass: 66/107\n",
      "ProjectedLxy Cut Pass: 179/334\n",
      "ProjectedLxy Cut Pass: 395/665\n"
     ]
    },
    {
     "data": {
      "text/html": [
       "<pre style=\"white-space:pre;overflow-x:auto;line-height:normal;font-family:Menlo,'DejaVu Sans Mono',consolas,'Courier New',monospace\"></pre>\n"
      ],
      "text/plain": []
     },
     "metadata": {},
     "output_type": "display_data"
    },
    {
     "data": {
      "text/html": [
       "<pre style=\"white-space:pre;overflow-x:auto;line-height:normal;font-family:Menlo,'DejaVu Sans Mono',consolas,'Courier New',monospace\">\n",
       "</pre>\n"
      ],
      "text/plain": [
       "\n"
      ]
     },
     "metadata": {},
     "output_type": "display_data"
    },
    {
     "name": "stdout",
     "output_type": "stream",
     "text": [
      "Runtime: 2.19225412607193 minutes\n"
     ]
    }
   ],
   "source": [
    "test = Analyzer(sample_config, histos_config, cuts_config)\n",
    "t1 = time.time()\n",
    "out = test.process(execr='futures', workers=4)\n",
    "t2 = time.time()\n",
    "print(f\"Runtime: {(t2-t1)/60} minutes\")\n",
    "util.save(out,f\"{outdir}/signal_VR_collinear2D.coffea\")\n",
    "del out, test"
   ]
  },
  {
   "cell_type": "code",
   "execution_count": null,
   "id": "d5c37cb4-4a7f-44b8-9a6b-3d079ded00c7",
   "metadata": {},
   "outputs": [],
   "source": []
  }
 ],
 "metadata": {
  "kernelspec": {
   "display_name": "Python 3 (ipykernel)",
   "language": "python",
   "name": "python3"
  },
  "language_info": {
   "codemirror_mode": {
    "name": "ipython",
    "version": 3
   },
   "file_extension": ".py",
   "mimetype": "text/x-python",
   "name": "python",
   "nbconvert_exporter": "python",
   "pygments_lexer": "ipython3",
   "version": "3.8.17"
  }
 },
 "nbformat": 4,
 "nbformat_minor": 5
}
