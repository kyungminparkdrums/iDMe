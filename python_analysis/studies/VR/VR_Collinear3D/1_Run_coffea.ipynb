{
 "cells": [
  {
   "cell_type": "code",
   "execution_count": 1,
   "id": "e94963cd-6dd7-44cd-9e04-b15d8ada688c",
   "metadata": {},
   "outputs": [],
   "source": [
    "%load_ext autoreload\n",
    "%autoreload 2\n",
    "import uproot\n",
    "import numpy as np\n",
    "import matplotlib.pyplot as plt\n",
    "import awkward as ak\n",
    "import sys\n",
    "sys.path.append(\"../../../analysisTools/\")\n",
    "from analysisTools import Analyzer\n",
    "from analysisTools import loadSchema\n",
    "import analysisTools as tools\n",
    "import analysisSubroutines as routines\n",
    "import plotTools as ptools\n",
    "import utils\n",
    "import importlib\n",
    "import coffea.util as util\n",
    "import time\n",
    "import json\n",
    "import os\n",
    "import glob\n",
    "import pandas as pd"
   ]
  },
  {
   "cell_type": "code",
   "execution_count": 2,
   "id": "80730354-47ca-4b54-8913-832f3a6fcbe7",
   "metadata": {},
   "outputs": [
    {
     "data": {
      "text/plain": [
       "0"
      ]
     },
     "execution_count": 2,
     "metadata": {},
     "output_type": "execute_result"
    }
   ],
   "source": [
    "outdir = \"./coffea/\"\n",
    "os.system(f'mkdir -p {outdir}')"
   ]
  },
  {
   "cell_type": "markdown",
   "id": "7239900a-5708-42ba-801b-38a0edd23518",
   "metadata": {},
   "source": [
    "## VR"
   ]
  },
  {
   "cell_type": "code",
   "execution_count": 7,
   "id": "de587b56-297f-46fd-ae68-1bc951f3b855",
   "metadata": {},
   "outputs": [],
   "source": [
    "cuts_config = \"./cut_configs/VR_Cos3D.py\""
   ]
  },
  {
   "cell_type": "code",
   "execution_count": 8,
   "id": "e32fad6a-c32e-4492-88e1-abb4c29831fc",
   "metadata": {},
   "outputs": [],
   "source": [
    "#histos_config = \"./histo_configs/histos.py\" # new histogramming framework\n",
    "histos_config = \"./histo_configs/histo_VR.py\" # old histogramming framework"
   ]
  },
  {
   "cell_type": "markdown",
   "id": "765fb997-fdee-4b80-968c-69f7658fc0f7",
   "metadata": {},
   "source": [
    "### Data"
   ]
  },
  {
   "cell_type": "code",
   "execution_count": 9,
   "id": "7089cad6-f7ee-4f99-adfe-b78ec0f102c5",
   "metadata": {},
   "outputs": [],
   "source": [
    "sample_config = \"./sample_configs/skimmed_data_2018_MET_v1.json\""
   ]
  },
  {
   "cell_type": "code",
   "execution_count": 10,
   "id": "e839a881-6de3-4b19-85d1-a0e252ad8f48",
   "metadata": {
    "scrolled": true
   },
   "outputs": [
    {
     "data": {
      "application/vnd.jupyter.widget-view+json": {
       "model_id": "14e0f62e59c84506a2e0708d040eb418",
       "version_major": 2,
       "version_minor": 0
      },
      "text/plain": [
       "Output()"
      ]
     },
     "metadata": {},
     "output_type": "display_data"
    },
    {
     "data": {
      "text/html": [
       "<pre style=\"white-space:pre;overflow-x:auto;line-height:normal;font-family:Menlo,'DejaVu Sans Mono',consolas,'Courier New',monospace\"></pre>\n"
      ],
      "text/plain": []
     },
     "metadata": {},
     "output_type": "display_data"
    },
    {
     "data": {
      "text/html": [
       "<pre style=\"white-space:pre;overflow-x:auto;line-height:normal;font-family:Menlo,'DejaVu Sans Mono',consolas,'Courier New',monospace\">\n",
       "</pre>\n"
      ],
      "text/plain": [
       "\n"
      ]
     },
     "metadata": {},
     "output_type": "display_data"
    },
    {
     "data": {
      "application/vnd.jupyter.widget-view+json": {
       "model_id": "f26ea6a5a2fe424b819a46c701f160b3",
       "version_major": 2,
       "version_minor": 0
      },
      "text/plain": [
       "Output()"
      ]
     },
     "metadata": {},
     "output_type": "display_data"
    },
    {
     "name": "stdout",
     "output_type": "stream",
     "text": [
      "ProjectedLxy Cut Pass: 17/51\n",
      "ProjectedLxy Cut Pass: 19/42\n",
      "ProjectedLxy Cut Pass: 17/41\n",
      "ProjectedLxy Cut Pass: 22/62\n",
      "ProjectedLxy Cut Pass: 7/14\n",
      "ProjectedLxy Cut Pass: 3/14\n",
      "ProjectedLxy Cut Pass: 2/22\n",
      "ProjectedLxy Cut Pass: 3/15\n",
      "ProjectedLxy Cut Pass: 10/25\n",
      "ProjectedLxy Cut Pass: 17/49\n",
      "ProjectedLxy Cut Pass: 10/30\n",
      "ProjectedLxy Cut Pass: 16/38\n",
      "ProjectedLxy Cut Pass: 18/49\n",
      "ProjectedLxy Cut Pass: 16/46\n",
      "ProjectedLxy Cut Pass: 14/46\n",
      "ProjectedLxy Cut Pass: 15/40\n",
      "ProjectedLxy Cut Pass: 6/14\n",
      "ProjectedLxy Cut Pass: 1/17\n",
      "ProjectedLxy Cut Pass: 14/41\n",
      "ProjectedLxy Cut Pass: 18/47\n",
      "ProjectedLxy Cut Pass: 6/22\n",
      "ProjectedLxy Cut Pass: 17/43\n",
      "ProjectedLxy Cut Pass: 18/40\n",
      "ProjectedLxy Cut Pass: 8/19\n",
      "ProjectedLxy Cut Pass: 5/13\n",
      "ProjectedLxy Cut Pass: 4/14\n",
      "ProjectedLxy Cut Pass: 4/12\n",
      "ProjectedLxy Cut Pass: 11/31\n",
      "ProjectedLxy Cut Pass: 11/26\n",
      "ProjectedLxy Cut Pass: 3/6\n",
      "ProjectedLxy Cut Pass: 5/14\n",
      "ProjectedLxy Cut Pass: 15/58\n",
      "ProjectedLxy Cut Pass: 17/39\n",
      "ProjectedLxy Cut Pass: 5/15\n",
      "ProjectedLxy Cut Pass: 10/39\n",
      "ProjectedLxy Cut Pass: 6/10\n",
      "ProjectedLxy Cut Pass: 6/17\n",
      "ProjectedLxy Cut Pass: 4/11\n",
      "ProjectedLxy Cut Pass: 3/11\n"
     ]
    },
    {
     "data": {
      "text/html": [
       "<pre style=\"white-space:pre;overflow-x:auto;line-height:normal;font-family:Menlo,'DejaVu Sans Mono',consolas,'Courier New',monospace\"></pre>\n"
      ],
      "text/plain": []
     },
     "metadata": {},
     "output_type": "display_data"
    },
    {
     "data": {
      "text/html": [
       "<pre style=\"white-space:pre;overflow-x:auto;line-height:normal;font-family:Menlo,'DejaVu Sans Mono',consolas,'Courier New',monospace\">\n",
       "</pre>\n"
      ],
      "text/plain": [
       "\n"
      ]
     },
     "metadata": {},
     "output_type": "display_data"
    },
    {
     "name": "stdout",
     "output_type": "stream",
     "text": [
      "Runtime: 1.0419558087984722 minutes\n"
     ]
    }
   ],
   "source": [
    "test = Analyzer(sample_config, histos_config, cuts_config)\n",
    "t1 = time.time()\n",
    "out = test.process(execr='futures', workers=4)\n",
    "t2 = time.time()\n",
    "print(f\"Runtime: {(t2-t1)/60} minutes\")\n",
    "util.save(out,f\"{outdir}/data_VR_collinear3D.coffea\")\n",
    "del out, test"
   ]
  },
  {
   "cell_type": "markdown",
   "id": "df64c715-cc6b-42ca-9b0f-814a91d49174",
   "metadata": {},
   "source": [
    "### Background"
   ]
  },
  {
   "cell_type": "code",
   "execution_count": 11,
   "id": "c385824c-f76d-411c-84d9-bffe5bdb039d",
   "metadata": {},
   "outputs": [],
   "source": [
    "sample_config = \"./sample_configs/skimmed_bkg_2018_v7_miniAOD.json\""
   ]
  },
  {
   "cell_type": "code",
   "execution_count": 12,
   "id": "59c858ed-0ef1-4704-92f7-ab3be2a94b2d",
   "metadata": {
    "scrolled": true
   },
   "outputs": [
    {
     "data": {
      "application/vnd.jupyter.widget-view+json": {
       "model_id": "30ae603f1a8f415ca6430212487730f6",
       "version_major": 2,
       "version_minor": 0
      },
      "text/plain": [
       "Output()"
      ]
     },
     "metadata": {},
     "output_type": "display_data"
    },
    {
     "data": {
      "text/html": [
       "<pre style=\"white-space:pre;overflow-x:auto;line-height:normal;font-family:Menlo,'DejaVu Sans Mono',consolas,'Courier New',monospace\"></pre>\n"
      ],
      "text/plain": []
     },
     "metadata": {},
     "output_type": "display_data"
    },
    {
     "data": {
      "text/html": [
       "<pre style=\"white-space:pre;overflow-x:auto;line-height:normal;font-family:Menlo,'DejaVu Sans Mono',consolas,'Courier New',monospace\">\n",
       "</pre>\n"
      ],
      "text/plain": [
       "\n"
      ]
     },
     "metadata": {},
     "output_type": "display_data"
    },
    {
     "data": {
      "application/vnd.jupyter.widget-view+json": {
       "model_id": "c354e367bd704dd0b0c32b70394f8f38",
       "version_major": 2,
       "version_minor": 0
      },
      "text/plain": [
       "Output()"
      ]
     },
     "metadata": {},
     "output_type": "display_data"
    },
    {
     "name": "stdout",
     "output_type": "stream",
     "text": [
      "ProjectedLxy Cut Pass: 0/1\n",
      "ProjectedLxy Cut Pass: 6/27\n",
      "ProjectedLxy Cut Pass: 0/2\n",
      "ProjectedLxy Cut Pass: 35/132\n",
      "ProjectedLxy Cut Pass: 31/126\n",
      "ProjectedLxy Cut Pass: 0/0\n",
      "ProjectedLxy Cut Pass: 0/0\n",
      "ProjectedLxy Cut Pass: 13/40\n",
      "ProjectedLxy Cut Pass: 31/76\n",
      "ProjectedLxy Cut Pass: 0/4\n",
      "ProjectedLxy Cut Pass: 217/634\n",
      "ProjectedLxy Cut Pass: 317/1031\n",
      "ProjectedLxy Cut Pass: 35/120\n",
      "ProjectedLxy Cut Pass: 11/29\n",
      "ProjectedLxy Cut Pass: 14/29\n",
      "ProjectedLxy Cut Pass: 4/9\n",
      "ProjectedLxy Cut Pass: 3/13\n",
      "ProjectedLxy Cut Pass: 4/7\n",
      "ProjectedLxy Cut Pass: 3/8\n",
      "ProjectedLxy Cut Pass: 14/29\n",
      "ProjectedLxy Cut Pass: 10/21\n",
      "ProjectedLxy Cut Pass: 7/13\n",
      "ProjectedLxy Cut Pass: 12/30\n",
      "ProjectedLxy Cut Pass: 1/5\n",
      "ProjectedLxy Cut Pass: 101/378\n",
      "ProjectedLxy Cut Pass: 7/14\n",
      "ProjectedLxy Cut Pass: 0/0\n",
      "ProjectedLxy Cut Pass: 9/21\n",
      "ProjectedLxy Cut Pass: 5/9\n",
      "ProjectedLxy Cut Pass: 0/0\n",
      "ProjectedLxy Cut Pass: 0/0\n",
      "ProjectedLxy Cut Pass: 0/0\n",
      "ProjectedLxy Cut Pass: 0/0\n",
      "ProjectedLxy Cut Pass: 0/0\n",
      "ProjectedLxy Cut Pass: 0/0\n",
      "ProjectedLxy Cut Pass: 0/0\n",
      "ProjectedLxy Cut Pass: 204/634\n",
      "ProjectedLxy Cut Pass: 0/0\n",
      "ProjectedLxy Cut Pass: 0/0\n",
      "ProjectedLxy Cut Pass: 0/0\n",
      "ProjectedLxy Cut Pass: 2/3\n",
      "ProjectedLxy Cut Pass: 0/1\n",
      "ProjectedLxy Cut Pass: 2/4\n",
      "ProjectedLxy Cut Pass: 3/6\n",
      "ProjectedLxy Cut Pass: 8/22\n",
      "ProjectedLxy Cut Pass: 1/2\n",
      "ProjectedLxy Cut Pass: 2/6\n",
      "ProjectedLxy Cut Pass: 1/1\n",
      "ProjectedLxy Cut Pass: 4/15\n"
     ]
    },
    {
     "data": {
      "text/html": [
       "<pre style=\"white-space:pre;overflow-x:auto;line-height:normal;font-family:Menlo,'DejaVu Sans Mono',consolas,'Courier New',monospace\"></pre>\n"
      ],
      "text/plain": []
     },
     "metadata": {},
     "output_type": "display_data"
    },
    {
     "data": {
      "text/html": [
       "<pre style=\"white-space:pre;overflow-x:auto;line-height:normal;font-family:Menlo,'DejaVu Sans Mono',consolas,'Courier New',monospace\">\n",
       "</pre>\n"
      ],
      "text/plain": [
       "\n"
      ]
     },
     "metadata": {},
     "output_type": "display_data"
    },
    {
     "name": "stdout",
     "output_type": "stream",
     "text": [
      "Runtime: 1.676997705300649 minutes\n"
     ]
    }
   ],
   "source": [
    "test = Analyzer(sample_config, histos_config, cuts_config)\n",
    "t1 = time.time()\n",
    "out = test.process(execr='futures', workers=4)\n",
    "t2 = time.time()\n",
    "print(f\"Runtime: {(t2-t1)/60} minutes\")\n",
    "util.save(out,f\"{outdir}/background_VR_collinear3D.coffea\")\n",
    "del out, test"
   ]
  },
  {
   "cell_type": "markdown",
   "id": "550f4704-78d6-4e96-806b-58e8746cbfc8",
   "metadata": {},
   "source": [
    "### Signal"
   ]
  },
  {
   "cell_type": "code",
   "execution_count": 13,
   "id": "caaf36bb-e93c-42e4-bfd3-2cbc4ccef4b7",
   "metadata": {},
   "outputs": [],
   "source": [
    "sample_config = \"./sample_configs/skimmed_signal_v9_miniAOD_2018_aEM.json\""
   ]
  },
  {
   "cell_type": "code",
   "execution_count": 14,
   "id": "fee872e7-eca2-4bc4-9062-33f452644a92",
   "metadata": {
    "scrolled": true
   },
   "outputs": [
    {
     "data": {
      "application/vnd.jupyter.widget-view+json": {
       "model_id": "b02c6b60cd184c48ac512791bf971cc5",
       "version_major": 2,
       "version_minor": 0
      },
      "text/plain": [
       "Output()"
      ]
     },
     "metadata": {},
     "output_type": "display_data"
    },
    {
     "data": {
      "text/html": [
       "<pre style=\"white-space:pre;overflow-x:auto;line-height:normal;font-family:Menlo,'DejaVu Sans Mono',consolas,'Courier New',monospace\"></pre>\n"
      ],
      "text/plain": []
     },
     "metadata": {},
     "output_type": "display_data"
    },
    {
     "data": {
      "text/html": [
       "<pre style=\"white-space:pre;overflow-x:auto;line-height:normal;font-family:Menlo,'DejaVu Sans Mono',consolas,'Courier New',monospace\">\n",
       "</pre>\n"
      ],
      "text/plain": [
       "\n"
      ]
     },
     "metadata": {},
     "output_type": "display_data"
    },
    {
     "data": {
      "application/vnd.jupyter.widget-view+json": {
       "model_id": "219c6773474547e3ada21b189714ed07",
       "version_major": 2,
       "version_minor": 0
      },
      "text/plain": [
       "Output()"
      ]
     },
     "metadata": {},
     "output_type": "display_data"
    },
    {
     "name": "stdout",
     "output_type": "stream",
     "text": [
      "ProjectedLxy Cut Pass: 631/3437\n",
      "ProjectedLxy Cut Pass: 536/3605\n",
      "ProjectedLxy Cut Pass: 2775/9605\n",
      "ProjectedLxy Cut Pass: 3789/8746\n",
      "ProjectedLxy Cut Pass: 272/1533\n",
      "ProjectedLxy Cut Pass: 656/2241\n",
      "ProjectedLxy Cut Pass: 3026/12181\n",
      "ProjectedLxy Cut Pass: 184/1199\n",
      "ProjectedLxy Cut Pass: 4323/10148\n",
      "ProjectedLxy Cut Pass: 886/3545\n",
      "ProjectedLxy Cut Pass: 190/1156\n",
      "ProjectedLxy Cut Pass: 769/3080\n",
      "ProjectedLxy Cut Pass: 1418/3352\n",
      "ProjectedLxy Cut Pass: 127/938\n",
      "ProjectedLxy Cut Pass: 1557/3727\n",
      "ProjectedLxy Cut Pass: 85/800\n",
      "ProjectedLxy Cut Pass: 725/3080\n",
      "ProjectedLxy Cut Pass: 1207/2869\n",
      "ProjectedLxy Cut Pass: 444/2170\n",
      "ProjectedLxy Cut Pass: 5/54\n",
      "ProjectedLxy Cut Pass: 23/316\n",
      "ProjectedLxy Cut Pass: 947/2413\n",
      "ProjectedLxy Cut Pass: 91/596\n",
      "ProjectedLxy Cut Pass: 28/316\n",
      "ProjectedLxy Cut Pass: 21/179\n",
      "ProjectedLxy Cut Pass: 44/316\n",
      "ProjectedLxy Cut Pass: 90/764\n",
      "ProjectedLxy Cut Pass: 93/213\n",
      "ProjectedLxy Cut Pass: 202/926\n",
      "ProjectedLxy Cut Pass: 138/1332\n",
      "ProjectedLxy Cut Pass: 488/2661\n",
      "ProjectedLxy Cut Pass: 885/2371\n",
      "ProjectedLxy Cut Pass: 134/1058\n",
      "ProjectedLxy Cut Pass: 438/2315\n",
      "ProjectedLxy Cut Pass: 777/2098\n",
      "ProjectedLxy Cut Pass: 364/2249\n",
      "ProjectedLxy Cut Pass: 107/1250\n",
      "ProjectedLxy Cut Pass: 51/464\n",
      "ProjectedLxy Cut Pass: 728/1989\n",
      "ProjectedLxy Cut Pass: 304/1838\n",
      "ProjectedLxy Cut Pass: 742/2074\n",
      "ProjectedLxy Cut Pass: 91/1024\n",
      "ProjectedLxy Cut Pass: 235/1828\n",
      "ProjectedLxy Cut Pass: 547/1623\n",
      "ProjectedLxy Cut Pass: 45/477\n",
      "ProjectedLxy Cut Pass: 227/1729\n",
      "ProjectedLxy Cut Pass: 497/1549\n",
      "ProjectedLxy Cut Pass: 103/985\n",
      "ProjectedLxy Cut Pass: 39/458\n",
      "ProjectedLxy Cut Pass: 314/1124\n",
      "ProjectedLxy Cut Pass: 26/288\n",
      "ProjectedLxy Cut Pass: 90/1030\n",
      "ProjectedLxy Cut Pass: 271/1214\n",
      "ProjectedLxy Cut Pass: 391/2022\n",
      "ProjectedLxy Cut Pass: 30/378\n",
      "ProjectedLxy Cut Pass: 1685/5683ProjectedLxy Cut Pass: 83/873\n",
      "ProjectedLxy Cut Pass: 2239/5050\n",
      "ProjectedLxy Cut Pass: 205/983\n",
      "ProjectedLxy Cut Pass: 530/1179\n",
      "ProjectedLxy Cut Pass: 734/4516\n",
      "ProjectedLxy Cut Pass: 2801/10432\n"
     ]
    },
    {
     "data": {
      "text/html": [
       "<pre style=\"white-space:pre;overflow-x:auto;line-height:normal;font-family:Menlo,'DejaVu Sans Mono',consolas,'Courier New',monospace\"></pre>\n"
      ],
      "text/plain": []
     },
     "metadata": {},
     "output_type": "display_data"
    },
    {
     "data": {
      "text/html": [
       "<pre style=\"white-space:pre;overflow-x:auto;line-height:normal;font-family:Menlo,'DejaVu Sans Mono',consolas,'Courier New',monospace\">\n",
       "</pre>\n"
      ],
      "text/plain": [
       "\n"
      ]
     },
     "metadata": {},
     "output_type": "display_data"
    },
    {
     "name": "stdout",
     "output_type": "stream",
     "text": [
      "Runtime: 2.3610090136528017 minutes\n"
     ]
    }
   ],
   "source": [
    "test = Analyzer(sample_config, histos_config, cuts_config)\n",
    "t1 = time.time()\n",
    "out = test.process(execr='futures', workers=4)\n",
    "t2 = time.time()\n",
    "print(f\"Runtime: {(t2-t1)/60} minutes\")\n",
    "util.save(out,f\"{outdir}/signal_VR_collinear3D.coffea\")\n",
    "del out, test"
   ]
  },
  {
   "cell_type": "code",
   "execution_count": null,
   "id": "d5c37cb4-4a7f-44b8-9a6b-3d079ded00c7",
   "metadata": {},
   "outputs": [],
   "source": []
  }
 ],
 "metadata": {
  "kernelspec": {
   "display_name": "Python 3 (ipykernel)",
   "language": "python",
   "name": "python3"
  },
  "language_info": {
   "codemirror_mode": {
    "name": "ipython",
    "version": 3
   },
   "file_extension": ".py",
   "mimetype": "text/x-python",
   "name": "python",
   "nbconvert_exporter": "python",
   "pygments_lexer": "ipython3",
   "version": "3.8.17"
  }
 },
 "nbformat": 4,
 "nbformat_minor": 5
}
