{
 "cells": [
  {
   "cell_type": "code",
   "execution_count": 16,
   "id": "e94963cd-6dd7-44cd-9e04-b15d8ada688c",
   "metadata": {},
   "outputs": [
    {
     "name": "stdout",
     "output_type": "stream",
     "text": [
      "The autoreload extension is already loaded. To reload it, use:\n",
      "  %reload_ext autoreload\n"
     ]
    }
   ],
   "source": [
    "%load_ext autoreload\n",
    "%autoreload 2\n",
    "import uproot\n",
    "import numpy as np\n",
    "import matplotlib.pyplot as plt\n",
    "import awkward as ak\n",
    "import sys\n",
    "sys.path.append(\"../../../analysisTools/\")\n",
    "from analysisTools import Analyzer\n",
    "from analysisTools import loadSchema\n",
    "import analysisTools as tools\n",
    "import analysisSubroutines as routines\n",
    "import plotTools as ptools\n",
    "import utils\n",
    "import importlib\n",
    "import coffea.util as util\n",
    "import time\n",
    "import json\n",
    "import os\n",
    "import glob\n",
    "import pandas as pd"
   ]
  },
  {
   "cell_type": "code",
   "execution_count": 17,
   "id": "80730354-47ca-4b54-8913-832f3a6fcbe7",
   "metadata": {},
   "outputs": [
    {
     "data": {
      "text/plain": [
       "0"
      ]
     },
     "execution_count": 17,
     "metadata": {},
     "output_type": "execute_result"
    }
   ],
   "source": [
    "outdir = \"./coffea/\"\n",
    "os.system(f'mkdir -p {outdir}')"
   ]
  },
  {
   "cell_type": "markdown",
   "id": "7239900a-5708-42ba-801b-38a0edd23518",
   "metadata": {},
   "source": [
    "## VR"
   ]
  },
  {
   "cell_type": "code",
   "execution_count": 18,
   "id": "de587b56-297f-46fd-ae68-1bc951f3b855",
   "metadata": {},
   "outputs": [],
   "source": [
    "cuts_config = \"./cut_configs/VR_SSSF.py\""
   ]
  },
  {
   "cell_type": "code",
   "execution_count": 19,
   "id": "e32fad6a-c32e-4492-88e1-abb4c29831fc",
   "metadata": {},
   "outputs": [],
   "source": [
    "#histos_config = \"./histo_configs/histos.py\" # new histogramming framework\n",
    "histos_config = \"./histo_configs/histo_VR.py\" # old histogramming framework"
   ]
  },
  {
   "cell_type": "markdown",
   "id": "765fb997-fdee-4b80-968c-69f7658fc0f7",
   "metadata": {},
   "source": [
    "### Data"
   ]
  },
  {
   "cell_type": "code",
   "execution_count": 20,
   "id": "7089cad6-f7ee-4f99-adfe-b78ec0f102c5",
   "metadata": {},
   "outputs": [],
   "source": [
    "sample_config = \"./sample_configs/skimmed_data_2018_MET_v1.json\""
   ]
  },
  {
   "cell_type": "code",
   "execution_count": 21,
   "id": "e839a881-6de3-4b19-85d1-a0e252ad8f48",
   "metadata": {
    "scrolled": true
   },
   "outputs": [
    {
     "data": {
      "application/vnd.jupyter.widget-view+json": {
       "model_id": "19fe784ab570443089f1080d05bc7165",
       "version_major": 2,
       "version_minor": 0
      },
      "text/plain": [
       "Output()"
      ]
     },
     "metadata": {},
     "output_type": "display_data"
    },
    {
     "name": "stdout",
     "output_type": "stream",
     "text": [
      "BDT Pass: 3/33\n",
      "BDT Pass: 1/41\n",
      "BDT Pass: 2/27\n",
      "BDT Pass: 1/47\n",
      "BDT Pass: 1/12\n",
      "BDT Pass: 1/16\n",
      "BDT Pass: 0/11\n",
      "BDT Pass: 1/9\n",
      "BDT Pass: 1/26\n",
      "BDT Pass: 0/13\n",
      "BDT Pass: 0/26\n",
      "BDT Pass: 2/25\n",
      "BDT Pass: 2/35\n",
      "BDT Pass: 3/35\n",
      "BDT Pass: 1/37BDT Pass: 0/24\n",
      "\n",
      "BDT Pass: 2/6\n",
      "BDT Pass: 0/12\n",
      "BDT Pass: 0/25\n",
      "BDT Pass: 1/9\n",
      "BDT Pass: 2/36\n",
      "BDT Pass: 4/37\n",
      "BDT Pass: 0/25\n",
      "BDT Pass: 0/16\n",
      "BDT Pass: 1/20\n",
      "BDT Pass: 0/9\n",
      "BDT Pass: 1/18\n",
      "BDT Pass: 0/6\n",
      "BDT Pass: 0/4\n",
      "BDT Pass: 0/13\n",
      "BDT Pass: 3/14\n",
      "BDT Pass: 3/38\n",
      "BDT Pass: 0/28\n",
      "BDT Pass: 0/12\n",
      "BDT Pass: 0/24\n",
      "BDT Pass: 0/9\n",
      "BDT Pass: 0/3\n",
      "BDT Pass: 0/9\n",
      "BDT Pass: 1/9\n"
     ]
    },
    {
     "data": {
      "text/html": [
       "<pre style=\"white-space:pre;overflow-x:auto;line-height:normal;font-family:Menlo,'DejaVu Sans Mono',consolas,'Courier New',monospace\"></pre>\n"
      ],
      "text/plain": []
     },
     "metadata": {},
     "output_type": "display_data"
    },
    {
     "data": {
      "text/html": [
       "<pre style=\"white-space:pre;overflow-x:auto;line-height:normal;font-family:Menlo,'DejaVu Sans Mono',consolas,'Courier New',monospace\">\n",
       "</pre>\n"
      ],
      "text/plain": [
       "\n"
      ]
     },
     "metadata": {},
     "output_type": "display_data"
    },
    {
     "name": "stdout",
     "output_type": "stream",
     "text": [
      "Runtime: 0.881351641813914 minutes\n"
     ]
    }
   ],
   "source": [
    "test = Analyzer(sample_config, histos_config, cuts_config)\n",
    "t1 = time.time()\n",
    "out = test.process(execr='futures', workers=4)\n",
    "t2 = time.time()\n",
    "print(f\"Runtime: {(t2-t1)/60} minutes\")\n",
    "util.save(out,f\"{outdir}/data_VR_SSSF.coffea\")\n",
    "del out, test"
   ]
  },
  {
   "cell_type": "markdown",
   "id": "df64c715-cc6b-42ca-9b0f-814a91d49174",
   "metadata": {},
   "source": [
    "### Background"
   ]
  },
  {
   "cell_type": "code",
   "execution_count": 22,
   "id": "c385824c-f76d-411c-84d9-bffe5bdb039d",
   "metadata": {},
   "outputs": [],
   "source": [
    "sample_config = \"./sample_configs/skimmed_bkg_2018_v7_miniAOD.json\""
   ]
  },
  {
   "cell_type": "code",
   "execution_count": 23,
   "id": "59c858ed-0ef1-4704-92f7-ab3be2a94b2d",
   "metadata": {
    "scrolled": true
   },
   "outputs": [
    {
     "data": {
      "application/vnd.jupyter.widget-view+json": {
       "model_id": "7f66939738f34210924708e4ef5f6973",
       "version_major": 2,
       "version_minor": 0
      },
      "text/plain": [
       "Output()"
      ]
     },
     "metadata": {},
     "output_type": "display_data"
    },
    {
     "name": "stdout",
     "output_type": "stream",
     "text": [
      "BDT Pass: 0/13\n",
      "BDT Pass: 0/2\n",
      "BDT Pass: 3/67\n",
      "BDT Pass: 0/62\n",
      "BDT Pass: 1/22\n",
      "BDT Pass: 1/35\n",
      "BDT Pass: 13/341\n",
      "BDT Pass: 5/93\n",
      "BDT Pass: 9/609\n",
      "BDT Pass: 0/19\n",
      "BDT Pass: 0/14\n",
      "BDT Pass: 1/2\n",
      "BDT Pass: 1/3\n",
      "BDT Pass: 0/15\n",
      "BDT Pass: 0/4\n",
      "BDT Pass: 0/9\n",
      "BDT Pass: 1/14\n",
      "BDT Pass: 1/14\n",
      "BDT Pass: 0/12\n",
      "BDT Pass: 0/6\n",
      "BDT Pass: 1/11\n",
      "BDT Pass: 6/241\n",
      "BDT Pass: 0/10\n",
      "BDT Pass: 0/3\n",
      "BDT Pass: 0/2\n",
      "BDT Pass: 0/5\n",
      "BDT Pass: 0/1\n",
      "BDT Pass: 0/8\n",
      "BDT Pass: 19/432\n",
      "BDT Pass: 0/9\n"
     ]
    },
    {
     "data": {
      "text/html": [
       "<pre style=\"white-space:pre;overflow-x:auto;line-height:normal;font-family:Menlo,'DejaVu Sans Mono',consolas,'Courier New',monospace\"></pre>\n"
      ],
      "text/plain": []
     },
     "metadata": {},
     "output_type": "display_data"
    },
    {
     "data": {
      "text/html": [
       "<pre style=\"white-space:pre;overflow-x:auto;line-height:normal;font-family:Menlo,'DejaVu Sans Mono',consolas,'Courier New',monospace\">\n",
       "</pre>\n"
      ],
      "text/plain": [
       "\n"
      ]
     },
     "metadata": {},
     "output_type": "display_data"
    },
    {
     "name": "stdout",
     "output_type": "stream",
     "text": [
      "Runtime: 1.5049124201138815 minutes\n"
     ]
    }
   ],
   "source": [
    "test = Analyzer(sample_config, histos_config, cuts_config)\n",
    "t1 = time.time()\n",
    "out = test.process(execr='futures', workers=4)\n",
    "t2 = time.time()\n",
    "print(f\"Runtime: {(t2-t1)/60} minutes\")\n",
    "util.save(out,f\"{outdir}/background_VR_SSSF.coffea\")\n",
    "del out, test"
   ]
  },
  {
   "cell_type": "markdown",
   "id": "550f4704-78d6-4e96-806b-58e8746cbfc8",
   "metadata": {},
   "source": [
    "### Signal"
   ]
  },
  {
   "cell_type": "code",
   "execution_count": 24,
   "id": "caaf36bb-e93c-42e4-bfd3-2cbc4ccef4b7",
   "metadata": {},
   "outputs": [],
   "source": [
    "sample_config = \"./sample_configs/skimmed_signal_v9_miniAOD_2018_aEM.json\""
   ]
  },
  {
   "cell_type": "code",
   "execution_count": 25,
   "id": "fee872e7-eca2-4bc4-9062-33f452644a92",
   "metadata": {
    "scrolled": true
   },
   "outputs": [
    {
     "data": {
      "application/vnd.jupyter.widget-view+json": {
       "model_id": "a6d4c7c3427e42e483e0671d457b9865",
       "version_major": 2,
       "version_minor": 0
      },
      "text/plain": [
       "Output()"
      ]
     },
     "metadata": {},
     "output_type": "display_data"
    },
    {
     "name": "stdout",
     "output_type": "stream",
     "text": [
      "BDT Pass: 101/193\n",
      "BDT Pass: 61/175\n",
      "BDT Pass: 86/216\n",
      "BDT Pass: 55/93\n",
      "BDT Pass: 33/172\n",
      "BDT Pass: 15/44\n",
      "BDT Pass: 25/68\n",
      "BDT Pass: 75/221\n",
      "BDT Pass: 29/216\n",
      "BDT Pass: 15/65\n",
      "BDT Pass: 38/69\n",
      "BDT Pass: 8/61\n",
      "BDT Pass: 30/69\n",
      "BDT Pass: 14/47\n",
      "BDT Pass: 19/73\n",
      "BDT Pass: 11/59\n",
      "BDT Pass: 9/43\n",
      "BDT Pass: 1/3\n",
      "BDT Pass: 12/67\n",
      "BDT Pass: 17/51\n",
      "BDT Pass: 10/59\n",
      "BDT Pass: 4/10\n",
      "BDT Pass: 1/14\n",
      "BDT Pass: 1/31\n",
      "BDT Pass: 7/17\n",
      "BDT Pass: 1/11\n",
      "BDT Pass: 28/50\n",
      "BDT Pass: 2/8\n",
      "BDT Pass: 6/15\n",
      "BDT Pass: 12/67\n",
      "BDT Pass: 20/49\n",
      "BDT Pass: 6/45\n",
      "BDT Pass: 9/56\n",
      "BDT Pass: 31/56\n",
      "BDT Pass: 7/42\n",
      "BDT Pass: 9/65\n",
      "BDT Pass: 9/44\n",
      "BDT Pass: 7/21\n",
      "BDT Pass: 7/49\n",
      "BDT Pass: 11/32\n",
      "BDT Pass: 10/46\n",
      "BDT Pass: 10/50\n",
      "BDT Pass: 6/41\n",
      "BDT Pass: 5/40\n",
      "BDT Pass: 4/22\n",
      "BDT Pass: 12/40\n",
      "BDT Pass: 8/23\n",
      "BDT Pass: 2/24\n",
      "BDT Pass: 2/19\n",
      "BDT Pass: 3/23\n",
      "BDT Pass: 6/20\n",
      "BDT Pass: 6/21\n",
      "BDT Pass: 6/19\n",
      "BDT Pass: 65/110\n",
      "BDT Pass: 3/23\n",
      "BDT Pass: 37/103\n",
      "BDT Pass: 23/92\n",
      "BDT Pass: 6/43\n",
      "BDT Pass: 1/30\n",
      "BDT Pass: 1/21\n",
      "BDT Pass: 95/217\n",
      "BDT Pass: 49/203\n"
     ]
    },
    {
     "data": {
      "text/html": [
       "<pre style=\"white-space:pre;overflow-x:auto;line-height:normal;font-family:Menlo,'DejaVu Sans Mono',consolas,'Courier New',monospace\"></pre>\n"
      ],
      "text/plain": []
     },
     "metadata": {},
     "output_type": "display_data"
    },
    {
     "data": {
      "text/html": [
       "<pre style=\"white-space:pre;overflow-x:auto;line-height:normal;font-family:Menlo,'DejaVu Sans Mono',consolas,'Courier New',monospace\">\n",
       "</pre>\n"
      ],
      "text/plain": [
       "\n"
      ]
     },
     "metadata": {},
     "output_type": "display_data"
    },
    {
     "name": "stdout",
     "output_type": "stream",
     "text": [
      "Runtime: 2.188018349806468 minutes\n"
     ]
    }
   ],
   "source": [
    "test = Analyzer(sample_config, histos_config, cuts_config)\n",
    "t1 = time.time()\n",
    "out = test.process(execr='futures', workers=4)\n",
    "t2 = time.time()\n",
    "print(f\"Runtime: {(t2-t1)/60} minutes\")\n",
    "util.save(out,f\"{outdir}/signal_VR_SSSF.coffea\")\n",
    "del out, test"
   ]
  },
  {
   "cell_type": "code",
   "execution_count": null,
   "id": "d5c37cb4-4a7f-44b8-9a6b-3d079ded00c7",
   "metadata": {},
   "outputs": [],
   "source": []
  },
  {
   "cell_type": "code",
   "execution_count": null,
   "id": "82c1bd2f-fa7e-46d3-9540-9b83cb924437",
   "metadata": {},
   "outputs": [],
   "source": []
  },
  {
   "cell_type": "code",
   "execution_count": null,
   "id": "839e5b86-7aac-413b-a42f-2e5eec493f28",
   "metadata": {},
   "outputs": [],
   "source": []
  }
 ],
 "metadata": {
  "kernelspec": {
   "display_name": "Python 3 (ipykernel)",
   "language": "python",
   "name": "python3"
  },
  "language_info": {
   "codemirror_mode": {
    "name": "ipython",
    "version": 3
   },
   "file_extension": ".py",
   "mimetype": "text/x-python",
   "name": "python",
   "nbconvert_exporter": "python",
   "pygments_lexer": "ipython3",
   "version": "3.8.17"
  }
 },
 "nbformat": 4,
 "nbformat_minor": 5
}
