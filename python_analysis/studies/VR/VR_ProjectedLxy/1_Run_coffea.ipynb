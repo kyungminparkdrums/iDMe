{
 "cells": [
  {
   "cell_type": "code",
   "execution_count": 1,
   "id": "e94963cd-6dd7-44cd-9e04-b15d8ada688c",
   "metadata": {},
   "outputs": [],
   "source": [
    "%load_ext autoreload\n",
    "%autoreload 2\n",
    "import uproot\n",
    "import numpy as np\n",
    "import matplotlib.pyplot as plt\n",
    "import awkward as ak\n",
    "import sys\n",
    "sys.path.append(\"../../../analysisTools/\")\n",
    "from analysisTools import Analyzer\n",
    "from analysisTools import loadSchema\n",
    "import analysisTools as tools\n",
    "import analysisSubroutines as routines\n",
    "import plotTools as ptools\n",
    "import utils\n",
    "import importlib\n",
    "import coffea.util as util\n",
    "import time\n",
    "import json\n",
    "import os\n",
    "import glob\n",
    "import pandas as pd"
   ]
  },
  {
   "cell_type": "code",
   "execution_count": 2,
   "id": "80730354-47ca-4b54-8913-832f3a6fcbe7",
   "metadata": {},
   "outputs": [
    {
     "data": {
      "text/plain": [
       "0"
      ]
     },
     "execution_count": 2,
     "metadata": {},
     "output_type": "execute_result"
    }
   ],
   "source": [
    "outdir = \"./coffea/\"\n",
    "os.system(f'mkdir -p {outdir}')"
   ]
  },
  {
   "cell_type": "markdown",
   "id": "7239900a-5708-42ba-801b-38a0edd23518",
   "metadata": {},
   "source": [
    "## VR"
   ]
  },
  {
   "cell_type": "code",
   "execution_count": 23,
   "id": "de587b56-297f-46fd-ae68-1bc951f3b855",
   "metadata": {},
   "outputs": [],
   "source": [
    "cuts_config = \"./cut_configs/VR_ProjectedLxy.py\""
   ]
  },
  {
   "cell_type": "code",
   "execution_count": 24,
   "id": "e32fad6a-c32e-4492-88e1-abb4c29831fc",
   "metadata": {},
   "outputs": [],
   "source": [
    "#histos_config = \"./histo_configs/histos.py\" # new histogramming framework\n",
    "histos_config = \"./histo_configs/histo_VR.py\" # old histogramming framework"
   ]
  },
  {
   "cell_type": "markdown",
   "id": "765fb997-fdee-4b80-968c-69f7658fc0f7",
   "metadata": {},
   "source": [
    "### Data"
   ]
  },
  {
   "cell_type": "code",
   "execution_count": 25,
   "id": "7089cad6-f7ee-4f99-adfe-b78ec0f102c5",
   "metadata": {},
   "outputs": [],
   "source": [
    "sample_config = \"./sample_configs/skimmed_data_2018_MET_v1.json\""
   ]
  },
  {
   "cell_type": "code",
   "execution_count": 26,
   "id": "e839a881-6de3-4b19-85d1-a0e252ad8f48",
   "metadata": {
    "scrolled": true
   },
   "outputs": [
    {
     "data": {
      "application/vnd.jupyter.widget-view+json": {
       "model_id": "898f5672a9b84a14bdfc3addf5bea23e",
       "version_major": 2,
       "version_minor": 0
      },
      "text/plain": [
       "Output()"
      ]
     },
     "metadata": {},
     "output_type": "display_data"
    },
    {
     "name": "stdout",
     "output_type": "stream",
     "text": [
      "ProjectedLxy Cut Pass: 17/41\n",
      "BDT Pass: 0/17\n",
      "ProjectedLxy Cut Pass: 21/51\n",
      "BDT Pass: 0/21\n",
      "ProjectedLxy Cut Pass: 18/42\n",
      "ProjectedLxy Cut Pass: 24/62\n",
      "BDT Pass: 0/18\n",
      "BDT Pass: 0/24\n",
      "ProjectedLxy Cut Pass: 4/14\n",
      "BDT Pass: 0/4\n",
      "ProjectedLxy Cut Pass: 7/14\n",
      "BDT Pass: 0/7\n",
      "ProjectedLxy Cut Pass: 4/15\n",
      "ProjectedLxy Cut Pass: 1/22\n",
      "BDT Pass: 0/4\n",
      "BDT Pass: 0/1\n",
      "ProjectedLxy Cut Pass: 12/30\n",
      "BDT Pass: 0/12\n",
      "ProjectedLxy Cut Pass: 12/25\n",
      "BDT Pass: 0/12\n",
      "ProjectedLxy Cut Pass: 14/38\n",
      "BDT Pass: 1/14\n",
      "ProjectedLxy Cut Pass: 15/49\n",
      "BDT Pass: 0/15\n",
      "ProjectedLxy Cut Pass: 15/46\n",
      "BDT Pass: 0/15\n",
      "ProjectedLxy Cut Pass: 11/40\n",
      "ProjectedLxy Cut Pass: 11/46\n",
      "BDT Pass: 0/11\n",
      "BDT Pass: 0/11\n",
      "ProjectedLxy Cut Pass: 18/49\n",
      "BDT Pass: 0/18\n",
      "ProjectedLxy Cut Pass: 13/41\n",
      "BDT Pass: 0/13\n",
      "ProjectedLxy Cut Pass: 4/14\n",
      "BDT Pass: 0/4\n",
      "ProjectedLxy Cut Pass: 2/17\n",
      "BDT Pass: 0/2\n",
      "ProjectedLxy Cut Pass: 8/22\n",
      "ProjectedLxy Cut Pass: 23/47\n",
      "BDT Pass: 0/8\n",
      "BDT Pass: 0/23\n",
      "ProjectedLxy Cut Pass: 14/43\n",
      "BDT Pass: 0/14\n",
      "ProjectedLxy Cut Pass: 11/40\n",
      "BDT Pass: 0/11\n",
      "ProjectedLxy Cut Pass: 6/19\n",
      "BDT Pass: 0/6\n",
      "ProjectedLxy Cut Pass: 5/13\n",
      "ProjectedLxy Cut Pass: 6/14\n",
      "BDT Pass: 0/5\n",
      "BDT Pass: 0/6\n",
      "ProjectedLxy Cut Pass: 8/31\n",
      "BDT Pass: 0/8\n",
      "ProjectedLxy Cut Pass: 3/12\n",
      "BDT Pass: 0/3\n",
      "ProjectedLxy Cut Pass: 9/26\n",
      "BDT Pass: 0/9\n",
      "ProjectedLxy Cut Pass: 1/6\n",
      "BDT Pass: 0/1\n",
      "ProjectedLxy Cut Pass: 3/14\n",
      "BDT Pass: 0/3\n",
      "ProjectedLxy Cut Pass: 16/39\n",
      "BDT Pass: 0/16\n",
      "ProjectedLxy Cut Pass: 15/58\n",
      "BDT Pass: 0/15\n",
      "ProjectedLxy Cut Pass: 22/39\n",
      "BDT Pass: 0/22\n",
      "ProjectedLxy Cut Pass: 3/15\n",
      "BDT Pass: 0/3\n",
      "ProjectedLxy Cut Pass: 5/10\n",
      "BDT Pass: 0/5\n",
      "ProjectedLxy Cut Pass: 5/17\n",
      "BDT Pass: 0/5\n",
      "ProjectedLxy Cut Pass: 3/11\n",
      "BDT Pass: 0/3\n",
      "ProjectedLxy Cut Pass: 3/11\n",
      "BDT Pass: 0/3\n"
     ]
    },
    {
     "data": {
      "text/html": [
       "<pre style=\"white-space:pre;overflow-x:auto;line-height:normal;font-family:Menlo,'DejaVu Sans Mono',consolas,'Courier New',monospace\"></pre>\n"
      ],
      "text/plain": []
     },
     "metadata": {},
     "output_type": "display_data"
    },
    {
     "data": {
      "text/html": [
       "<pre style=\"white-space:pre;overflow-x:auto;line-height:normal;font-family:Menlo,'DejaVu Sans Mono',consolas,'Courier New',monospace\">\n",
       "</pre>\n"
      ],
      "text/plain": [
       "\n"
      ]
     },
     "metadata": {},
     "output_type": "display_data"
    },
    {
     "name": "stdout",
     "output_type": "stream",
     "text": [
      "Runtime: 0.8756481448809306 minutes\n"
     ]
    }
   ],
   "source": [
    "test = Analyzer(sample_config, histos_config, cuts_config)\n",
    "t1 = time.time()\n",
    "out = test.process(execr='futures', workers=4)\n",
    "t2 = time.time()\n",
    "print(f\"Runtime: {(t2-t1)/60} minutes\")\n",
    "util.save(out,f\"{outdir}/data_VR_CosCollinear.coffea\")\n",
    "del out, test"
   ]
  },
  {
   "cell_type": "markdown",
   "id": "df64c715-cc6b-42ca-9b0f-814a91d49174",
   "metadata": {},
   "source": [
    "### Background"
   ]
  },
  {
   "cell_type": "code",
   "execution_count": 27,
   "id": "c385824c-f76d-411c-84d9-bffe5bdb039d",
   "metadata": {},
   "outputs": [],
   "source": [
    "sample_config = \"./sample_configs/skimmed_bkg_2018_v7_miniAOD.json\""
   ]
  },
  {
   "cell_type": "code",
   "execution_count": 28,
   "id": "59c858ed-0ef1-4704-92f7-ab3be2a94b2d",
   "metadata": {
    "scrolled": true
   },
   "outputs": [
    {
     "data": {
      "application/vnd.jupyter.widget-view+json": {
       "model_id": "ef6ac98004f1407793c9d519538a62a9",
       "version_major": 2,
       "version_minor": 0
      },
      "text/plain": [
       "Output()"
      ]
     },
     "metadata": {},
     "output_type": "display_data"
    },
    {
     "name": "stdout",
     "output_type": "stream",
     "text": [
      "ProjectedLxy Cut Pass: 0/1\n",
      "ProjectedLxy Cut Pass: 9/27\n",
      "BDT Pass: 0/9\n",
      "ProjectedLxy Cut Pass: 0/2\n",
      "ProjectedLxy Cut Pass: 39/132\n",
      "BDT Pass: 0/39\n",
      "ProjectedLxy Cut Pass: 39/126\n",
      "BDT Pass: 0/39\n",
      "ProjectedLxy Cut Pass: 0/0\n",
      "ProjectedLxy Cut Pass: 0/0\n",
      "ProjectedLxy Cut Pass: 15/40\n",
      "BDT Pass: 0/15\n",
      "ProjectedLxy Cut Pass: 23/76\n",
      "BDT Pass: 0/23\n",
      "ProjectedLxy Cut Pass: 0/4\n",
      "ProjectedLxy Cut Pass: 36/120\n",
      "BDT Pass: 0/36\n",
      "ProjectedLxy Cut Pass: 325/1031\n",
      "BDT Pass: 0/325\n",
      "ProjectedLxy Cut Pass: 179/634\n",
      "BDT Pass: 1/179\n",
      "ProjectedLxy Cut Pass: 12/29\n",
      "BDT Pass: 0/12\n",
      "ProjectedLxy Cut Pass: 13/29\n",
      "BDT Pass: 0/13\n",
      "ProjectedLxy Cut Pass: 1/9\n",
      "BDT Pass: 0/1\n",
      "ProjectedLxy Cut Pass: 4/13\n",
      "BDT Pass: 0/4\n",
      "ProjectedLxy Cut Pass: 3/8\n",
      "BDT Pass: 0/3\n",
      "ProjectedLxy Cut Pass: 2/7\n",
      "BDT Pass: 0/2\n",
      "ProjectedLxy Cut Pass: 13/29\n",
      "BDT Pass: 0/13\n",
      "ProjectedLxy Cut Pass: 5/21\n",
      "BDT Pass: 0/5\n",
      "ProjectedLxy Cut Pass: 4/13\n",
      "BDT Pass: 0/4\n",
      "ProjectedLxy Cut Pass: 11/30\n",
      "BDT Pass: 0/11\n",
      "ProjectedLxy Cut Pass: 1/5\n",
      "BDT Pass: 0/1\n",
      "ProjectedLxy Cut Pass: 5/14\n",
      "BDT Pass: 0/5\n",
      "ProjectedLxy Cut Pass: 3/9\n",
      "BDT Pass: 0/3\n",
      "\n",
      "BDT Pass: 0/4\n",
      "ProjectedLxy Cut Pass: 101/378\n",
      "ProjectedLxy Cut Pass: 0/0\n",
      "BDT Pass: 0/101\n",
      "ProjectedLxy Cut Pass: 0/0\n",
      "ProjectedLxy Cut Pass: 0/0\n",
      "ProjectedLxy Cut Pass: 0/0\n",
      "ProjectedLxy Cut Pass: 0/0\n",
      "ProjectedLxy Cut Pass: 0/0\n",
      "ProjectedLxy Cut Pass: 0/0\n",
      "ProjectedLxy Cut Pass: 0/0\n",
      "ProjectedLxy Cut Pass: 0/0\n",
      "ProjectedLxy Cut Pass: 0/0\n",
      "ProjectedLxy Cut Pass: 0/0\n",
      "ProjectedLxy Cut Pass: 2/3\n",
      "BDT Pass: 0/2\n",
      "ProjectedLxy Cut Pass: 1/1\n",
      "BDT Pass: 0/1\n",
      "ProjectedLxy Cut Pass: 3/6\n",
      "BDT Pass: 0/3\n",
      "ProjectedLxy Cut Pass: 7/22\n",
      "BDT Pass: 0/7\n",
      "ProjectedLxy Cut Pass: 3/4\n",
      "ProjectedLxy Cut Pass: 1/2\n",
      "BDT Pass: 0/3\n",
      "BDT Pass: 0/1\n",
      "ProjectedLxy Cut Pass: 0/1\n",
      "ProjectedLxy Cut Pass: 207/634\n",
      "ProjectedLxy Cut Pass: 2/6\n",
      "BDT Pass: 0/207\n",
      "BDT Pass: 0/2\n",
      "ProjectedLxy Cut Pass: 3/15\n",
      "BDT Pass: 0/3\n"
     ]
    },
    {
     "data": {
      "text/html": [
       "<pre style=\"white-space:pre;overflow-x:auto;line-height:normal;font-family:Menlo,'DejaVu Sans Mono',consolas,'Courier New',monospace\"></pre>\n"
      ],
      "text/plain": []
     },
     "metadata": {},
     "output_type": "display_data"
    },
    {
     "data": {
      "text/html": [
       "<pre style=\"white-space:pre;overflow-x:auto;line-height:normal;font-family:Menlo,'DejaVu Sans Mono',consolas,'Courier New',monospace\">\n",
       "</pre>\n"
      ],
      "text/plain": [
       "\n"
      ]
     },
     "metadata": {},
     "output_type": "display_data"
    },
    {
     "name": "stdout",
     "output_type": "stream",
     "text": [
      "Runtime: 1.565324600537618 minutes\n"
     ]
    }
   ],
   "source": [
    "test = Analyzer(sample_config, histos_config, cuts_config)\n",
    "t1 = time.time()\n",
    "out = test.process(execr='futures', workers=4)\n",
    "t2 = time.time()\n",
    "print(f\"Runtime: {(t2-t1)/60} minutes\")\n",
    "util.save(out,f\"{outdir}/background_VR_CosCollinear.coffea\")\n",
    "del out, test"
   ]
  },
  {
   "cell_type": "markdown",
   "id": "550f4704-78d6-4e96-806b-58e8746cbfc8",
   "metadata": {},
   "source": [
    "### Signal"
   ]
  },
  {
   "cell_type": "code",
   "execution_count": 29,
   "id": "caaf36bb-e93c-42e4-bfd3-2cbc4ccef4b7",
   "metadata": {},
   "outputs": [],
   "source": [
    "sample_config = \"./sample_configs/skimmed_signal_v9_miniAOD_2018_aEM.json\""
   ]
  },
  {
   "cell_type": "code",
   "execution_count": 30,
   "id": "fee872e7-eca2-4bc4-9062-33f452644a92",
   "metadata": {
    "scrolled": true
   },
   "outputs": [
    {
     "data": {
      "application/vnd.jupyter.widget-view+json": {
       "model_id": "b94781b3b26d434aa4a26eeca527c66e",
       "version_major": 2,
       "version_minor": 0
      },
      "text/plain": [
       "Output()"
      ]
     },
     "metadata": {},
     "output_type": "display_data"
    },
    {
     "name": "stdout",
     "output_type": "stream",
     "text": [
      "ProjectedLxy Cut Pass: 369/3437\n",
      "BDT Pass: 40/369\n",
      "ProjectedLxy Cut Pass: 221/3605\n",
      "BDT Pass: 24/221\n",
      "ProjectedLxy Cut Pass: 951/9605\n",
      "BDT Pass: 139/951\n",
      "ProjectedLxy Cut Pass: 1139/8746\n",
      "BDT Pass: 120/1139\n",
      "ProjectedLxy Cut Pass: 142/1533\n",
      "BDT Pass: 22/142\n",
      "ProjectedLxy Cut Pass: 191/2241\n",
      "BDT Pass: 23/191\n",
      "ProjectedLxy Cut Pass: 62/1199\n",
      "ProjectedLxy Cut Pass: 679/12181\n",
      "BDT Pass: 5/62\n",
      "BDT Pass: 91/679\n",
      "ProjectedLxy Cut Pass: 889/10148\n",
      "BDT Pass: 71/889\n",
      "ProjectedLxy Cut Pass: 163/3545\n",
      "BDT Pass: 25/163\n",
      "ProjectedLxy Cut Pass: 93/1156\n",
      "BDT Pass: 15/93\n",
      "ProjectedLxy Cut Pass: 275/3352\n",
      "BDT Pass: 22/275\n",
      "ProjectedLxy Cut Pass: 202/3080\n",
      "BDT Pass: 30/202\n",
      "ProjectedLxy Cut Pass: 41/938\n",
      "BDT Pass: 4/41\n",
      "ProjectedLxy Cut Pass: 369/3727\n",
      "BDT Pass: 41/369\n",
      "ProjectedLxy Cut Pass: 95/3080\n",
      "BDT Pass: 9/95\n",
      "ProjectedLxy Cut Pass: 156/2869\n",
      "ProjectedLxy Cut Pass: 24/800\n",
      "BDT Pass: 9/156\n",
      "BDT Pass: 1/24\n",
      "ProjectedLxy Cut Pass: 38/2170\n",
      "BDT Pass: 2/38\n",
      "ProjectedLxy Cut Pass: 1/54\n",
      "BDT Pass: 0/1\n"
     ]
    },
    {
     "name": "stderr",
     "output_type": "stream",
     "text": [
      "/uscms_data/d3/kyungmip/CMSSW_10_6_26/src/iDMe/python_analysis/studies/VR/VR_ProjectedLxy/../../../analysisTools/analysisTools.py:325: RuntimeWarning: invalid value encountered in scalar divide\n",
      "  cutflow_vtx_matched[cutName] += ak.sum(vtx_matched_events.genWgt)/ak.sum(events.genWgt)\n"
     ]
    },
    {
     "name": "stdout",
     "output_type": "stream",
     "text": [
      "ProjectedLxy Cut Pass: 9/316\n",
      "BDT Pass: 0/9\n"
     ]
    },
    {
     "name": "stderr",
     "output_type": "stream",
     "text": [
      "/uscms_data/d3/kyungmip/CMSSW_10_6_26/src/iDMe/python_analysis/studies/VR/VR_ProjectedLxy/../../../analysisTools/analysisTools.py:325: RuntimeWarning: invalid value encountered in scalar divide\n",
      "  cutflow_vtx_matched[cutName] += ak.sum(vtx_matched_events.genWgt)/ak.sum(events.genWgt)\n"
     ]
    },
    {
     "name": "stdout",
     "output_type": "stream",
     "text": [
      "ProjectedLxy Cut Pass: 123/2413\n",
      "BDT Pass: 10/123\n",
      "ProjectedLxy Cut Pass: 10/596\n",
      "BDT Pass: 0/10\n"
     ]
    },
    {
     "name": "stderr",
     "output_type": "stream",
     "text": [
      "/uscms_data/d3/kyungmip/CMSSW_10_6_26/src/iDMe/python_analysis/studies/VR/VR_ProjectedLxy/../../../analysisTools/analysisTools.py:325: RuntimeWarning: invalid value encountered in scalar divide\n",
      "  cutflow_vtx_matched[cutName] += ak.sum(vtx_matched_events.genWgt)/ak.sum(events.genWgt)\n"
     ]
    },
    {
     "name": "stdout",
     "output_type": "stream",
     "text": [
      "ProjectedLxy Cut Pass: 13/316\n",
      "ProjectedLxy Cut Pass: 12/179\n",
      "BDT Pass: 0/13\n"
     ]
    },
    {
     "name": "stderr",
     "output_type": "stream",
     "text": [
      "/uscms_data/d3/kyungmip/CMSSW_10_6_26/src/iDMe/python_analysis/studies/VR/VR_ProjectedLxy/../../../analysisTools/analysisTools.py:325: RuntimeWarning: invalid value encountered in scalar divide\n",
      "  cutflow_vtx_matched[cutName] += ak.sum(vtx_matched_events.genWgt)/ak.sum(events.genWgt)\n"
     ]
    },
    {
     "name": "stdout",
     "output_type": "stream",
     "text": [
      "BDT Pass: 0/12\n"
     ]
    },
    {
     "name": "stderr",
     "output_type": "stream",
     "text": [
      "/uscms_data/d3/kyungmip/CMSSW_10_6_26/src/iDMe/python_analysis/studies/VR/VR_ProjectedLxy/../../../analysisTools/analysisTools.py:325: RuntimeWarning: invalid value encountered in scalar divide\n",
      "  cutflow_vtx_matched[cutName] += ak.sum(vtx_matched_events.genWgt)/ak.sum(events.genWgt)\n"
     ]
    },
    {
     "name": "stdout",
     "output_type": "stream",
     "text": [
      "ProjectedLxy Cut Pass: 10/316\n",
      "BDT Pass: 0/10\n"
     ]
    },
    {
     "name": "stderr",
     "output_type": "stream",
     "text": [
      "/uscms_data/d3/kyungmip/CMSSW_10_6_26/src/iDMe/python_analysis/studies/VR/VR_ProjectedLxy/../../../analysisTools/analysisTools.py:325: RuntimeWarning: invalid value encountered in scalar divide\n",
      "  cutflow_vtx_matched[cutName] += ak.sum(vtx_matched_events.genWgt)/ak.sum(events.genWgt)\n"
     ]
    },
    {
     "name": "stdout",
     "output_type": "stream",
     "text": [
      "ProjectedLxy Cut Pass: 24/764\n",
      "BDT Pass: 2/24\n",
      "ProjectedLxy Cut Pass: 11/213\n",
      "BDT Pass: 2/11\n",
      "ProjectedLxy Cut Pass: 29/926\n",
      "BDT Pass: 4/29\n",
      "ProjectedLxy Cut Pass: 35/1332\n",
      "BDT Pass: 3/35\n",
      "ProjectedLxy Cut Pass: 47/2661\n",
      "BDT Pass: 3/47\n",
      "ProjectedLxy Cut Pass: 19/1058\n",
      "BDT Pass: 0/19\n"
     ]
    },
    {
     "name": "stderr",
     "output_type": "stream",
     "text": [
      "/uscms_data/d3/kyungmip/CMSSW_10_6_26/src/iDMe/python_analysis/studies/VR/VR_ProjectedLxy/../../../analysisTools/analysisTools.py:325: RuntimeWarning: invalid value encountered in scalar divide\n",
      "  cutflow_vtx_matched[cutName] += ak.sum(vtx_matched_events.genWgt)/ak.sum(events.genWgt)\n"
     ]
    },
    {
     "name": "stdout",
     "output_type": "stream",
     "text": [
      "ProjectedLxy Cut Pass: 108/2371\n",
      "BDT Pass: 10/108\n",
      "ProjectedLxy Cut Pass: 46/2315\n",
      "BDT Pass: 2/46\n",
      "ProjectedLxy Cut Pass: 83/2098\n",
      "ProjectedLxy Cut Pass: 31/1250\n",
      "ProjectedLxy Cut Pass: 44/2249\n",
      "BDT Pass: 5/83\n",
      "BDT Pass: 0/31\n"
     ]
    },
    {
     "name": "stderr",
     "output_type": "stream",
     "text": [
      "/uscms_data/d3/kyungmip/CMSSW_10_6_26/src/iDMe/python_analysis/studies/VR/VR_ProjectedLxy/../../../analysisTools/analysisTools.py:325: RuntimeWarning: invalid value encountered in scalar divide\n",
      "  cutflow_vtx_matched[cutName] += ak.sum(vtx_matched_events.genWgt)/ak.sum(events.genWgt)\n"
     ]
    },
    {
     "name": "stdout",
     "output_type": "stream",
     "text": [
      "BDT Pass: 1/44\n",
      "ProjectedLxy Cut Pass: 60/1989\n",
      "BDT Pass: 6/60\n",
      "ProjectedLxy Cut Pass: 8/464\n",
      "BDT Pass: 1/8\n",
      "ProjectedLxy Cut Pass: 17/1838\n",
      "BDT Pass: 1/17\n",
      "ProjectedLxy Cut Pass: 55/2074\n",
      "BDT Pass: 2/55\n",
      "ProjectedLxy Cut Pass: 29/1024\n",
      "BDT Pass: 0/29\n"
     ]
    },
    {
     "name": "stderr",
     "output_type": "stream",
     "text": [
      "/uscms_data/d3/kyungmip/CMSSW_10_6_26/src/iDMe/python_analysis/studies/VR/VR_ProjectedLxy/../../../analysisTools/analysisTools.py:325: RuntimeWarning: invalid value encountered in scalar divide\n",
      "  cutflow_vtx_matched[cutName] += ak.sum(vtx_matched_events.genWgt)/ak.sum(events.genWgt)\n"
     ]
    },
    {
     "name": "stdout",
     "output_type": "stream",
     "text": [
      "ProjectedLxy Cut Pass: 29/1828\n",
      "BDT Pass: 1/29\n",
      "ProjectedLxy Cut Pass: 62/1623\n",
      "ProjectedLxy Cut Pass: 13/477\n",
      "BDT Pass: 1/62\n",
      "BDT Pass: 1/13\n",
      "ProjectedLxy Cut Pass: 34/1729\n",
      "ProjectedLxy Cut Pass: 28/1549\n",
      "BDT Pass: 2/34\n",
      "BDT Pass: 1/28\n",
      "ProjectedLxy Cut Pass: 12/458\n",
      "BDT Pass: 0/12\n"
     ]
    },
    {
     "name": "stderr",
     "output_type": "stream",
     "text": [
      "/uscms_data/d3/kyungmip/CMSSW_10_6_26/src/iDMe/python_analysis/studies/VR/VR_ProjectedLxy/../../../analysisTools/analysisTools.py:325: RuntimeWarning: invalid value encountered in scalar divide\n",
      "  cutflow_vtx_matched[cutName] += ak.sum(vtx_matched_events.genWgt)/ak.sum(events.genWgt)\n"
     ]
    },
    {
     "name": "stdout",
     "output_type": "stream",
     "text": [
      "ProjectedLxy Cut Pass: 16/985\n",
      "BDT Pass: 1/16\n",
      "ProjectedLxy Cut Pass: 15/288\n",
      "BDT Pass: 0/15\n"
     ]
    },
    {
     "name": "stderr",
     "output_type": "stream",
     "text": [
      "/uscms_data/d3/kyungmip/CMSSW_10_6_26/src/iDMe/python_analysis/studies/VR/VR_ProjectedLxy/../../../analysisTools/analysisTools.py:325: RuntimeWarning: invalid value encountered in scalar divide\n",
      "  cutflow_vtx_matched[cutName] += ak.sum(vtx_matched_events.genWgt)/ak.sum(events.genWgt)\n"
     ]
    },
    {
     "name": "stdout",
     "output_type": "stream",
     "text": [
      "ProjectedLxy Cut Pass: 14/1030\n",
      "BDT Pass: 1/14\n",
      "ProjectedLxy Cut Pass: 27/1124\n",
      "BDT Pass: 2/27\n",
      "ProjectedLxy Cut Pass: 25/1214\n",
      "BDT Pass: 1/25\n",
      "ProjectedLxy Cut Pass: 236/2022\n",
      "BDT Pass: 30/236\n",
      "ProjectedLxy Cut Pass: 23/378\n",
      "BDT Pass: 0/23\n"
     ]
    },
    {
     "name": "stderr",
     "output_type": "stream",
     "text": [
      "/uscms_data/d3/kyungmip/CMSSW_10_6_26/src/iDMe/python_analysis/studies/VR/VR_ProjectedLxy/../../../analysisTools/analysisTools.py:325: RuntimeWarning: invalid value encountered in scalar divide\n",
      "  cutflow_vtx_matched[cutName] += ak.sum(vtx_matched_events.genWgt)/ak.sum(events.genWgt)\n"
     ]
    },
    {
     "name": "stdout",
     "output_type": "stream",
     "text": [
      "ProjectedLxy Cut Pass: 31/873\n",
      "BDT Pass: 0/31\n"
     ]
    },
    {
     "name": "stderr",
     "output_type": "stream",
     "text": [
      "/uscms_data/d3/kyungmip/CMSSW_10_6_26/src/iDMe/python_analysis/studies/VR/VR_ProjectedLxy/../../../analysisTools/analysisTools.py:325: RuntimeWarning: invalid value encountered in scalar divide\n",
      "  cutflow_vtx_matched[cutName] += ak.sum(vtx_matched_events.genWgt)/ak.sum(events.genWgt)\n"
     ]
    },
    {
     "name": "stdout",
     "output_type": "stream",
     "text": [
      "ProjectedLxy Cut Pass: 623/5683\n",
      "BDT Pass: 94/623\n",
      "ProjectedLxy Cut Pass: 748/5050\n",
      "BDT Pass: 88/748\n",
      "ProjectedLxy Cut Pass: 33/983\n",
      "BDT Pass: 0/33\n"
     ]
    },
    {
     "name": "stderr",
     "output_type": "stream",
     "text": [
      "/uscms_data/d3/kyungmip/CMSSW_10_6_26/src/iDMe/python_analysis/studies/VR/VR_ProjectedLxy/../../../analysisTools/analysisTools.py:325: RuntimeWarning: invalid value encountered in scalar divide\n",
      "  cutflow_vtx_matched[cutName] += ak.sum(vtx_matched_events.genWgt)/ak.sum(events.genWgt)\n"
     ]
    },
    {
     "name": "stdout",
     "output_type": "stream",
     "text": [
      "ProjectedLxy Cut Pass: 107/1179\n",
      "BDT Pass: 3/107\n",
      "ProjectedLxy Cut Pass: 334/4516\n",
      "BDT Pass: 32/334\n",
      "ProjectedLxy Cut Pass: 665/10432\n",
      "BDT Pass: 94/665\n"
     ]
    },
    {
     "data": {
      "text/html": [
       "<pre style=\"white-space:pre;overflow-x:auto;line-height:normal;font-family:Menlo,'DejaVu Sans Mono',consolas,'Courier New',monospace\"></pre>\n"
      ],
      "text/plain": []
     },
     "metadata": {},
     "output_type": "display_data"
    },
    {
     "data": {
      "text/html": [
       "<pre style=\"white-space:pre;overflow-x:auto;line-height:normal;font-family:Menlo,'DejaVu Sans Mono',consolas,'Courier New',monospace\">\n",
       "</pre>\n"
      ],
      "text/plain": [
       "\n"
      ]
     },
     "metadata": {},
     "output_type": "display_data"
    },
    {
     "name": "stdout",
     "output_type": "stream",
     "text": [
      "Runtime: 2.155379796028137 minutes\n"
     ]
    }
   ],
   "source": [
    "test = Analyzer(sample_config, histos_config, cuts_config)\n",
    "t1 = time.time()\n",
    "out = test.process(execr='futures', workers=4)\n",
    "t2 = time.time()\n",
    "print(f\"Runtime: {(t2-t1)/60} minutes\")\n",
    "util.save(out,f\"{outdir}/signal_VR_CosCollinear.coffea\")\n",
    "del out, test"
   ]
  },
  {
   "cell_type": "code",
   "execution_count": null,
   "id": "d5c37cb4-4a7f-44b8-9a6b-3d079ded00c7",
   "metadata": {},
   "outputs": [],
   "source": []
  }
 ],
 "metadata": {
  "kernelspec": {
   "display_name": "Python 3 (ipykernel)",
   "language": "python",
   "name": "python3"
  },
  "language_info": {
   "codemirror_mode": {
    "name": "ipython",
    "version": 3
   },
   "file_extension": ".py",
   "mimetype": "text/x-python",
   "name": "python",
   "nbconvert_exporter": "python",
   "pygments_lexer": "ipython3",
   "version": "3.8.17"
  }
 },
 "nbformat": 4,
 "nbformat_minor": 5
}
