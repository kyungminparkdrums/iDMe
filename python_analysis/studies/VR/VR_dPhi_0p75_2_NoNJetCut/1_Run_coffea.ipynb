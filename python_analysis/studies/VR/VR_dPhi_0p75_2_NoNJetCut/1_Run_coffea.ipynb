{
 "cells": [
  {
   "cell_type": "code",
   "execution_count": 25,
   "id": "e94963cd-6dd7-44cd-9e04-b15d8ada688c",
   "metadata": {},
   "outputs": [
    {
     "name": "stdout",
     "output_type": "stream",
     "text": [
      "The autoreload extension is already loaded. To reload it, use:\n",
      "  %reload_ext autoreload\n"
     ]
    }
   ],
   "source": [
    "%load_ext autoreload\n",
    "%autoreload 2\n",
    "import uproot\n",
    "import numpy as np\n",
    "import matplotlib.pyplot as plt\n",
    "import awkward as ak\n",
    "import sys\n",
    "sys.path.append(\"../../../analysisTools/\")\n",
    "from analysisTools import Analyzer\n",
    "from analysisTools import loadSchema\n",
    "import analysisTools as tools\n",
    "import analysisSubroutines as routines\n",
    "import plotTools as ptools\n",
    "import utils\n",
    "import importlib\n",
    "import coffea.util as util\n",
    "import time\n",
    "import json\n",
    "import os\n",
    "import glob\n",
    "import pandas as pd"
   ]
  },
  {
   "cell_type": "code",
   "execution_count": 26,
   "id": "80730354-47ca-4b54-8913-832f3a6fcbe7",
   "metadata": {},
   "outputs": [
    {
     "data": {
      "text/plain": [
       "0"
      ]
     },
     "execution_count": 26,
     "metadata": {},
     "output_type": "execute_result"
    }
   ],
   "source": [
    "outdir = \"./coffea/\"\n",
    "os.system(f'mkdir -p {outdir}')"
   ]
  },
  {
   "cell_type": "markdown",
   "id": "7239900a-5708-42ba-801b-38a0edd23518",
   "metadata": {},
   "source": [
    "## VR"
   ]
  },
  {
   "cell_type": "code",
   "execution_count": 35,
   "id": "de587b56-297f-46fd-ae68-1bc951f3b855",
   "metadata": {},
   "outputs": [],
   "source": [
    "cuts_config = \"./cut_configs/VR_dPhi-1to2.py\""
   ]
  },
  {
   "cell_type": "code",
   "execution_count": 36,
   "id": "e32fad6a-c32e-4492-88e1-abb4c29831fc",
   "metadata": {},
   "outputs": [],
   "source": [
    "#histos_config = \"./histo_configs/histos.py\" # new histogramming framework\n",
    "histos_config = \"./histo_configs/histo_VR.py\" # old histogramming framework"
   ]
  },
  {
   "cell_type": "markdown",
   "id": "765fb997-fdee-4b80-968c-69f7658fc0f7",
   "metadata": {},
   "source": [
    "### Data"
   ]
  },
  {
   "cell_type": "code",
   "execution_count": 37,
   "id": "7089cad6-f7ee-4f99-adfe-b78ec0f102c5",
   "metadata": {},
   "outputs": [],
   "source": [
    "sample_config = \"./sample_configs/skimmed_data_2018_MET_v1_noNJetCut.json\""
   ]
  },
  {
   "cell_type": "code",
   "execution_count": 38,
   "id": "e839a881-6de3-4b19-85d1-a0e252ad8f48",
   "metadata": {
    "scrolled": true
   },
   "outputs": [
    {
     "data": {
      "application/vnd.jupyter.widget-view+json": {
       "model_id": "470d34b45d5a46a78548bf4789e195c6",
       "version_major": 2,
       "version_minor": 0
      },
      "text/plain": [
       "Output()"
      ]
     },
     "metadata": {},
     "output_type": "display_data"
    },
    {
     "name": "stdout",
     "output_type": "stream",
     "text": [
      "NJet No Cut\n",
      "NJet No Cut\n",
      "NJet No Cut\n",
      "NJet No Cut\n",
      "NJet No Cut\n",
      "NJet No Cut\n",
      "NJet No Cut\n",
      "NJet No Cut\n",
      "NJet No Cut\n",
      "NJet No Cut\n",
      "NJet No Cut\n",
      "NJet No Cut\n",
      "NJet No Cut\n",
      "NJet No Cut\n",
      "NJet No Cut\n",
      "NJet No Cut\n",
      "NJet No Cut\n",
      "NJet No Cut\n",
      "NJet No Cut\n",
      "NJet No Cut\n",
      "NJet No Cut\n"
     ]
    },
    {
     "data": {
      "text/html": [
       "<pre style=\"white-space:pre;overflow-x:auto;line-height:normal;font-family:Menlo,'DejaVu Sans Mono',consolas,'Courier New',monospace\"></pre>\n"
      ],
      "text/plain": []
     },
     "metadata": {},
     "output_type": "display_data"
    },
    {
     "data": {
      "text/html": [
       "<pre style=\"white-space:pre;overflow-x:auto;line-height:normal;font-family:Menlo,'DejaVu Sans Mono',consolas,'Courier New',monospace\">\n",
       "</pre>\n"
      ],
      "text/plain": [
       "\n"
      ]
     },
     "metadata": {},
     "output_type": "display_data"
    },
    {
     "name": "stdout",
     "output_type": "stream",
     "text": [
      "Runtime: 1.3320573409398397 minutes\n"
     ]
    }
   ],
   "source": [
    "test = Analyzer(sample_config, histos_config, cuts_config)\n",
    "t1 = time.time()\n",
    "out = test.process(execr='futures', workers=4)\n",
    "t2 = time.time()\n",
    "print(f\"Runtime: {(t2-t1)/60} minutes\")\n",
    "util.save(out,f\"{outdir}/data_VR_dPhi-1to2_noNJetCut.coffea\")\n",
    "del out, test"
   ]
  },
  {
   "cell_type": "markdown",
   "id": "df64c715-cc6b-42ca-9b0f-814a91d49174",
   "metadata": {},
   "source": [
    "### Background"
   ]
  },
  {
   "cell_type": "code",
   "execution_count": 39,
   "id": "c385824c-f76d-411c-84d9-bffe5bdb039d",
   "metadata": {},
   "outputs": [],
   "source": [
    "sample_config = \"./sample_configs/skimmed_bkg_2018_v7_miniAOD_noNJetCut_wZGamma.json\"\n",
    "#sample_config = \"./sample_configs/skimmed_bkg_2018_v7_miniAOD_noNJetCut.json\""
   ]
  },
  {
   "cell_type": "code",
   "execution_count": 40,
   "id": "59c858ed-0ef1-4704-92f7-ab3be2a94b2d",
   "metadata": {
    "scrolled": true
   },
   "outputs": [
    {
     "data": {
      "application/vnd.jupyter.widget-view+json": {
       "model_id": "af9e9f0d5fe44a21897fb6c93aff156b",
       "version_major": 2,
       "version_minor": 0
      },
      "text/plain": [
       "Output()"
      ]
     },
     "metadata": {},
     "output_type": "display_data"
    },
    {
     "name": "stdout",
     "output_type": "stream",
     "text": [
      "NJet No Cut\n",
      "NJet No Cut\n",
      "NJet No Cut\n",
      "NJet No Cut\n",
      "NJet No Cut\n",
      "NJet No Cut\n",
      "NJet No Cut\n",
      "NJet No Cut\n",
      "NJet No Cut\n",
      "NJet No Cut\n",
      "NJet No Cut\n",
      "NJet No Cut\n",
      "NJet No Cut\n",
      "NJet No Cut\n",
      "NJet No Cut\n",
      "NJet No Cut\n",
      "NJet No Cut\n",
      "NJet No Cut\n",
      "NJet No Cut\n",
      "NJet No Cut\n",
      "NJet No Cut\n",
      "NJet No Cut\n",
      "NJet No Cut\n",
      "NJet No Cut\n",
      "NJet No Cut\n",
      "NJet No Cut\n",
      "NJet No Cut\n",
      "NJet No Cut\n",
      "NJet No Cut\n",
      "NJet No Cut\n",
      "NJet No Cut\n",
      "NJet No Cut\n",
      "NJet No Cut\n",
      "NJet No Cut\n",
      "NJet No Cut\n",
      "NJet No Cut\n",
      "NJet No Cut\n",
      "NJet No Cut\n",
      "NJet No Cut\n",
      "NJet No Cut\n",
      "NJet No Cut\n",
      "NJet No Cut\n",
      "NJet No Cut\n",
      "NJet No Cut\n",
      "NJet No Cut\n",
      "NJet No Cut\n",
      "NJet No Cut\n",
      "NJet No Cut\n",
      "NJet No Cut\n",
      "NJet No Cut\n",
      "NJet No Cut\n",
      "NJet No Cut\n"
     ]
    },
    {
     "data": {
      "text/html": [
       "<pre style=\"white-space:pre;overflow-x:auto;line-height:normal;font-family:Menlo,'DejaVu Sans Mono',consolas,'Courier New',monospace\"></pre>\n"
      ],
      "text/plain": []
     },
     "metadata": {},
     "output_type": "display_data"
    },
    {
     "data": {
      "text/html": [
       "<pre style=\"white-space:pre;overflow-x:auto;line-height:normal;font-family:Menlo,'DejaVu Sans Mono',consolas,'Courier New',monospace\">\n",
       "</pre>\n"
      ],
      "text/plain": [
       "\n"
      ]
     },
     "metadata": {},
     "output_type": "display_data"
    },
    {
     "name": "stdout",
     "output_type": "stream",
     "text": [
      "Runtime: 4.3135521650314335 minutes\n"
     ]
    }
   ],
   "source": [
    "test = Analyzer(sample_config, histos_config, cuts_config)\n",
    "t1 = time.time()\n",
    "out = test.process(execr='futures', workers=4)\n",
    "t2 = time.time()\n",
    "print(f\"Runtime: {(t2-t1)/60} minutes\")\n",
    "util.save(out,f\"{outdir}/background_VR_dPhi-1to2_noNJetCut.coffea\")\n",
    "del out, test"
   ]
  },
  {
   "cell_type": "markdown",
   "id": "550f4704-78d6-4e96-806b-58e8746cbfc8",
   "metadata": {},
   "source": [
    "### Signal"
   ]
  },
  {
   "cell_type": "code",
   "execution_count": 41,
   "id": "caaf36bb-e93c-42e4-bfd3-2cbc4ccef4b7",
   "metadata": {},
   "outputs": [],
   "source": [
    "sample_config = \"./sample_configs/skimmed_signal_v9_miniAOD_2018_aEM_noNJetCut.json\""
   ]
  },
  {
   "cell_type": "code",
   "execution_count": 42,
   "id": "fee872e7-eca2-4bc4-9062-33f452644a92",
   "metadata": {
    "scrolled": true
   },
   "outputs": [
    {
     "data": {
      "application/vnd.jupyter.widget-view+json": {
       "model_id": "1a9763cdeea84506be734dbc14bb17cd",
       "version_major": 2,
       "version_minor": 0
      },
      "text/plain": [
       "Output()"
      ]
     },
     "metadata": {},
     "output_type": "display_data"
    },
    {
     "name": "stdout",
     "output_type": "stream",
     "text": [
      "NJet No Cut\n",
      "NJet No Cut\n"
     ]
    },
    {
     "name": "stderr",
     "output_type": "stream",
     "text": [
      "/uscms_data/d3/kyungmip/CMSSW_10_6_26/src/iDMe/python_analysis/studies/VR/VR_dPhi_0p75_2_NoNJetCut/../../../analysisTools/analysisTools.py:324: RuntimeWarning: invalid value encountered in scalar divide\n",
      "  cutDesc[cutName] += cutDescription + \"@\"\n",
      "/uscms_data/d3/kyungmip/CMSSW_10_6_26/src/iDMe/python_analysis/studies/VR/VR_dPhi_0p75_2_NoNJetCut/../../../analysisTools/analysisTools.py:324: RuntimeWarning: invalid value encountered in scalar divide\n",
      "  cutDesc[cutName] += cutDescription + \"@\"\n"
     ]
    },
    {
     "name": "stdout",
     "output_type": "stream",
     "text": [
      "NJet No Cut\n"
     ]
    },
    {
     "name": "stderr",
     "output_type": "stream",
     "text": [
      "/uscms_data/d3/kyungmip/CMSSW_10_6_26/src/iDMe/python_analysis/studies/VR/VR_dPhi_0p75_2_NoNJetCut/../../../analysisTools/analysisTools.py:324: RuntimeWarning: invalid value encountered in scalar divide\n",
      "  cutDesc[cutName] += cutDescription + \"@\"\n"
     ]
    },
    {
     "name": "stdout",
     "output_type": "stream",
     "text": [
      "NJet No Cut\n"
     ]
    },
    {
     "name": "stderr",
     "output_type": "stream",
     "text": [
      "/uscms_data/d3/kyungmip/CMSSW_10_6_26/src/iDMe/python_analysis/studies/VR/VR_dPhi_0p75_2_NoNJetCut/../../../analysisTools/analysisTools.py:324: RuntimeWarning: invalid value encountered in scalar divide\n",
      "  cutDesc[cutName] += cutDescription + \"@\"\n"
     ]
    },
    {
     "name": "stdout",
     "output_type": "stream",
     "text": [
      "NJet No Cut\n"
     ]
    },
    {
     "name": "stderr",
     "output_type": "stream",
     "text": [
      "/uscms_data/d3/kyungmip/CMSSW_10_6_26/src/iDMe/python_analysis/studies/VR/VR_dPhi_0p75_2_NoNJetCut/../../../analysisTools/analysisTools.py:324: RuntimeWarning: invalid value encountered in scalar divide\n",
      "  cutDesc[cutName] += cutDescription + \"@\"\n"
     ]
    },
    {
     "name": "stdout",
     "output_type": "stream",
     "text": [
      "NJet No Cut\n"
     ]
    },
    {
     "name": "stderr",
     "output_type": "stream",
     "text": [
      "/uscms_data/d3/kyungmip/CMSSW_10_6_26/src/iDMe/python_analysis/studies/VR/VR_dPhi_0p75_2_NoNJetCut/../../../analysisTools/analysisTools.py:324: RuntimeWarning: invalid value encountered in scalar divide\n",
      "  cutDesc[cutName] += cutDescription + \"@\"\n"
     ]
    },
    {
     "name": "stdout",
     "output_type": "stream",
     "text": [
      "NJet No Cut\n"
     ]
    },
    {
     "name": "stderr",
     "output_type": "stream",
     "text": [
      "/uscms_data/d3/kyungmip/CMSSW_10_6_26/src/iDMe/python_analysis/studies/VR/VR_dPhi_0p75_2_NoNJetCut/../../../analysisTools/analysisTools.py:324: RuntimeWarning: invalid value encountered in scalar divide\n",
      "  cutDesc[cutName] += cutDescription + \"@\"\n"
     ]
    },
    {
     "name": "stdout",
     "output_type": "stream",
     "text": [
      "NJet No Cut\n",
      "NJet No Cut\n"
     ]
    },
    {
     "name": "stderr",
     "output_type": "stream",
     "text": [
      "/uscms_data/d3/kyungmip/CMSSW_10_6_26/src/iDMe/python_analysis/studies/VR/VR_dPhi_0p75_2_NoNJetCut/../../../analysisTools/analysisTools.py:324: RuntimeWarning: invalid value encountered in scalar divide\n",
      "  cutDesc[cutName] += cutDescription + \"@\"\n"
     ]
    },
    {
     "name": "stdout",
     "output_type": "stream",
     "text": [
      "NJet No Cut\n"
     ]
    },
    {
     "name": "stderr",
     "output_type": "stream",
     "text": [
      "/uscms_data/d3/kyungmip/CMSSW_10_6_26/src/iDMe/python_analysis/studies/VR/VR_dPhi_0p75_2_NoNJetCut/../../../analysisTools/analysisTools.py:324: RuntimeWarning: invalid value encountered in scalar divide\n",
      "  cutDesc[cutName] += cutDescription + \"@\"\n"
     ]
    },
    {
     "name": "stdout",
     "output_type": "stream",
     "text": [
      "NJet No Cut\n"
     ]
    },
    {
     "name": "stderr",
     "output_type": "stream",
     "text": [
      "/uscms_data/d3/kyungmip/CMSSW_10_6_26/src/iDMe/python_analysis/studies/VR/VR_dPhi_0p75_2_NoNJetCut/../../../analysisTools/analysisTools.py:324: RuntimeWarning: invalid value encountered in scalar divide\n",
      "  cutDesc[cutName] += cutDescription + \"@\"\n"
     ]
    },
    {
     "name": "stdout",
     "output_type": "stream",
     "text": [
      "NJet No Cut\n"
     ]
    },
    {
     "name": "stderr",
     "output_type": "stream",
     "text": [
      "/uscms_data/d3/kyungmip/CMSSW_10_6_26/src/iDMe/python_analysis/studies/VR/VR_dPhi_0p75_2_NoNJetCut/../../../analysisTools/analysisTools.py:324: RuntimeWarning: invalid value encountered in scalar divide\n",
      "  cutDesc[cutName] += cutDescription + \"@\"\n"
     ]
    },
    {
     "name": "stdout",
     "output_type": "stream",
     "text": [
      "NJet No Cut\n"
     ]
    },
    {
     "name": "stderr",
     "output_type": "stream",
     "text": [
      "/uscms_data/d3/kyungmip/CMSSW_10_6_26/src/iDMe/python_analysis/studies/VR/VR_dPhi_0p75_2_NoNJetCut/../../../analysisTools/analysisTools.py:324: RuntimeWarning: invalid value encountered in scalar divide\n",
      "  cutDesc[cutName] += cutDescription + \"@\"\n"
     ]
    },
    {
     "name": "stdout",
     "output_type": "stream",
     "text": [
      "NJet No Cut\n"
     ]
    },
    {
     "name": "stderr",
     "output_type": "stream",
     "text": [
      "/uscms_data/d3/kyungmip/CMSSW_10_6_26/src/iDMe/python_analysis/studies/VR/VR_dPhi_0p75_2_NoNJetCut/../../../analysisTools/analysisTools.py:324: RuntimeWarning: invalid value encountered in scalar divide\n",
      "  cutDesc[cutName] += cutDescription + \"@\"\n"
     ]
    },
    {
     "name": "stdout",
     "output_type": "stream",
     "text": [
      "NJet No Cut\n",
      "NJet No Cut\n"
     ]
    },
    {
     "name": "stderr",
     "output_type": "stream",
     "text": [
      "/uscms_data/d3/kyungmip/CMSSW_10_6_26/src/iDMe/python_analysis/studies/VR/VR_dPhi_0p75_2_NoNJetCut/../../../analysisTools/analysisTools.py:324: RuntimeWarning: invalid value encountered in scalar divide\n",
      "  cutDesc[cutName] += cutDescription + \"@\"\n"
     ]
    },
    {
     "name": "stdout",
     "output_type": "stream",
     "text": [
      "NJet No Cut\n"
     ]
    },
    {
     "name": "stderr",
     "output_type": "stream",
     "text": [
      "/uscms_data/d3/kyungmip/CMSSW_10_6_26/src/iDMe/python_analysis/studies/VR/VR_dPhi_0p75_2_NoNJetCut/../../../analysisTools/analysisTools.py:324: RuntimeWarning: invalid value encountered in scalar divide\n",
      "  cutDesc[cutName] += cutDescription + \"@\"\n"
     ]
    },
    {
     "name": "stdout",
     "output_type": "stream",
     "text": [
      "NJet No Cut\n"
     ]
    },
    {
     "name": "stderr",
     "output_type": "stream",
     "text": [
      "/uscms_data/d3/kyungmip/CMSSW_10_6_26/src/iDMe/python_analysis/studies/VR/VR_dPhi_0p75_2_NoNJetCut/../../../analysisTools/analysisTools.py:324: RuntimeWarning: invalid value encountered in scalar divide\n",
      "  cutDesc[cutName] += cutDescription + \"@\"\n"
     ]
    },
    {
     "name": "stdout",
     "output_type": "stream",
     "text": [
      "NJet No Cut\n",
      "NJet No Cut\n"
     ]
    },
    {
     "name": "stderr",
     "output_type": "stream",
     "text": [
      "/uscms_data/d3/kyungmip/CMSSW_10_6_26/src/iDMe/python_analysis/studies/VR/VR_dPhi_0p75_2_NoNJetCut/../../../analysisTools/analysisTools.py:324: RuntimeWarning: invalid value encountered in scalar divide\n",
      "  cutDesc[cutName] += cutDescription + \"@\"\n",
      "/uscms_data/d3/kyungmip/CMSSW_10_6_26/src/iDMe/python_analysis/studies/VR/VR_dPhi_0p75_2_NoNJetCut/../../../analysisTools/analysisTools.py:324: RuntimeWarning: invalid value encountered in scalar divide\n",
      "  cutDesc[cutName] += cutDescription + \"@\"\n"
     ]
    },
    {
     "name": "stdout",
     "output_type": "stream",
     "text": [
      "NJet No Cut\n",
      "NJet No Cut\n"
     ]
    },
    {
     "name": "stderr",
     "output_type": "stream",
     "text": [
      "/uscms_data/d3/kyungmip/CMSSW_10_6_26/src/iDMe/python_analysis/studies/VR/VR_dPhi_0p75_2_NoNJetCut/../../../analysisTools/analysisTools.py:324: RuntimeWarning: invalid value encountered in scalar divide\n",
      "  cutDesc[cutName] += cutDescription + \"@\"\n",
      "/uscms_data/d3/kyungmip/CMSSW_10_6_26/src/iDMe/python_analysis/studies/VR/VR_dPhi_0p75_2_NoNJetCut/../../../analysisTools/analysisTools.py:324: RuntimeWarning: invalid value encountered in scalar divide\n",
      "  cutDesc[cutName] += cutDescription + \"@\"\n"
     ]
    },
    {
     "name": "stdout",
     "output_type": "stream",
     "text": [
      "NJet No Cut\n",
      "NJet No Cut\n"
     ]
    },
    {
     "name": "stderr",
     "output_type": "stream",
     "text": [
      "/uscms_data/d3/kyungmip/CMSSW_10_6_26/src/iDMe/python_analysis/studies/VR/VR_dPhi_0p75_2_NoNJetCut/../../../analysisTools/analysisTools.py:324: RuntimeWarning: invalid value encountered in scalar divide\n",
      "  cutDesc[cutName] += cutDescription + \"@\"\n",
      "/uscms_data/d3/kyungmip/CMSSW_10_6_26/src/iDMe/python_analysis/studies/VR/VR_dPhi_0p75_2_NoNJetCut/../../../analysisTools/analysisTools.py:324: RuntimeWarning: invalid value encountered in scalar divide\n",
      "  cutDesc[cutName] += cutDescription + \"@\"\n"
     ]
    },
    {
     "name": "stdout",
     "output_type": "stream",
     "text": [
      "NJet No Cut\n"
     ]
    },
    {
     "name": "stderr",
     "output_type": "stream",
     "text": [
      "/uscms_data/d3/kyungmip/CMSSW_10_6_26/src/iDMe/python_analysis/studies/VR/VR_dPhi_0p75_2_NoNJetCut/../../../analysisTools/analysisTools.py:324: RuntimeWarning: invalid value encountered in scalar divide\n",
      "  cutDesc[cutName] += cutDescription + \"@\"\n"
     ]
    },
    {
     "name": "stdout",
     "output_type": "stream",
     "text": [
      "NJet No Cut\n"
     ]
    },
    {
     "name": "stderr",
     "output_type": "stream",
     "text": [
      "/uscms_data/d3/kyungmip/CMSSW_10_6_26/src/iDMe/python_analysis/studies/VR/VR_dPhi_0p75_2_NoNJetCut/../../../analysisTools/analysisTools.py:324: RuntimeWarning: invalid value encountered in scalar divide\n",
      "  cutDesc[cutName] += cutDescription + \"@\"\n"
     ]
    },
    {
     "name": "stdout",
     "output_type": "stream",
     "text": [
      "NJet No Cut\n"
     ]
    },
    {
     "name": "stderr",
     "output_type": "stream",
     "text": [
      "/uscms_data/d3/kyungmip/CMSSW_10_6_26/src/iDMe/python_analysis/studies/VR/VR_dPhi_0p75_2_NoNJetCut/../../../analysisTools/analysisTools.py:324: RuntimeWarning: invalid value encountered in scalar divide\n",
      "  cutDesc[cutName] += cutDescription + \"@\"\n"
     ]
    },
    {
     "name": "stdout",
     "output_type": "stream",
     "text": [
      "NJet No Cut\n",
      "NJet No Cut\n"
     ]
    },
    {
     "name": "stderr",
     "output_type": "stream",
     "text": [
      "/uscms_data/d3/kyungmip/CMSSW_10_6_26/src/iDMe/python_analysis/studies/VR/VR_dPhi_0p75_2_NoNJetCut/../../../analysisTools/analysisTools.py:324: RuntimeWarning: invalid value encountered in scalar divide\n",
      "  cutDesc[cutName] += cutDescription + \"@\"\n"
     ]
    },
    {
     "name": "stdout",
     "output_type": "stream",
     "text": [
      "NJet No Cut\n"
     ]
    },
    {
     "name": "stderr",
     "output_type": "stream",
     "text": [
      "/uscms_data/d3/kyungmip/CMSSW_10_6_26/src/iDMe/python_analysis/studies/VR/VR_dPhi_0p75_2_NoNJetCut/../../../analysisTools/analysisTools.py:324: RuntimeWarning: invalid value encountered in scalar divide\n",
      "  cutDesc[cutName] += cutDescription + \"@\"\n"
     ]
    },
    {
     "name": "stdout",
     "output_type": "stream",
     "text": [
      "NJet No Cut\n"
     ]
    },
    {
     "name": "stderr",
     "output_type": "stream",
     "text": [
      "/uscms_data/d3/kyungmip/CMSSW_10_6_26/src/iDMe/python_analysis/studies/VR/VR_dPhi_0p75_2_NoNJetCut/../../../analysisTools/analysisTools.py:324: RuntimeWarning: invalid value encountered in scalar divide\n",
      "  cutDesc[cutName] += cutDescription + \"@\"\n"
     ]
    },
    {
     "name": "stdout",
     "output_type": "stream",
     "text": [
      "NJet No Cut\n"
     ]
    },
    {
     "name": "stderr",
     "output_type": "stream",
     "text": [
      "/uscms_data/d3/kyungmip/CMSSW_10_6_26/src/iDMe/python_analysis/studies/VR/VR_dPhi_0p75_2_NoNJetCut/../../../analysisTools/analysisTools.py:324: RuntimeWarning: invalid value encountered in scalar divide\n",
      "  cutDesc[cutName] += cutDescription + \"@\"\n"
     ]
    },
    {
     "name": "stdout",
     "output_type": "stream",
     "text": [
      "NJet No Cut\n"
     ]
    },
    {
     "name": "stderr",
     "output_type": "stream",
     "text": [
      "/uscms_data/d3/kyungmip/CMSSW_10_6_26/src/iDMe/python_analysis/studies/VR/VR_dPhi_0p75_2_NoNJetCut/../../../analysisTools/analysisTools.py:324: RuntimeWarning: invalid value encountered in scalar divide\n",
      "  cutDesc[cutName] += cutDescription + \"@\"\n"
     ]
    },
    {
     "name": "stdout",
     "output_type": "stream",
     "text": [
      "NJet No Cut\n"
     ]
    },
    {
     "name": "stderr",
     "output_type": "stream",
     "text": [
      "/uscms_data/d3/kyungmip/CMSSW_10_6_26/src/iDMe/python_analysis/studies/VR/VR_dPhi_0p75_2_NoNJetCut/../../../analysisTools/analysisTools.py:324: RuntimeWarning: invalid value encountered in scalar divide\n",
      "  cutDesc[cutName] += cutDescription + \"@\"\n"
     ]
    },
    {
     "name": "stdout",
     "output_type": "stream",
     "text": [
      "NJet No Cut\n",
      "NJet No Cut\n"
     ]
    },
    {
     "name": "stderr",
     "output_type": "stream",
     "text": [
      "/uscms_data/d3/kyungmip/CMSSW_10_6_26/src/iDMe/python_analysis/studies/VR/VR_dPhi_0p75_2_NoNJetCut/../../../analysisTools/analysisTools.py:324: RuntimeWarning: invalid value encountered in scalar divide\n",
      "  cutDesc[cutName] += cutDescription + \"@\"\n",
      "/uscms_data/d3/kyungmip/CMSSW_10_6_26/src/iDMe/python_analysis/studies/VR/VR_dPhi_0p75_2_NoNJetCut/../../../analysisTools/analysisTools.py:324: RuntimeWarning: invalid value encountered in scalar divide\n",
      "  cutDesc[cutName] += cutDescription + \"@\"\n"
     ]
    },
    {
     "name": "stdout",
     "output_type": "stream",
     "text": [
      "NJet No Cut\n"
     ]
    },
    {
     "name": "stderr",
     "output_type": "stream",
     "text": [
      "/uscms_data/d3/kyungmip/CMSSW_10_6_26/src/iDMe/python_analysis/studies/VR/VR_dPhi_0p75_2_NoNJetCut/../../../analysisTools/analysisTools.py:324: RuntimeWarning: invalid value encountered in scalar divide\n",
      "  cutDesc[cutName] += cutDescription + \"@\"\n"
     ]
    },
    {
     "name": "stdout",
     "output_type": "stream",
     "text": [
      "NJet No Cut\n"
     ]
    },
    {
     "name": "stderr",
     "output_type": "stream",
     "text": [
      "/uscms_data/d3/kyungmip/CMSSW_10_6_26/src/iDMe/python_analysis/studies/VR/VR_dPhi_0p75_2_NoNJetCut/../../../analysisTools/analysisTools.py:324: RuntimeWarning: invalid value encountered in scalar divide\n",
      "  cutDesc[cutName] += cutDescription + \"@\"\n"
     ]
    },
    {
     "name": "stdout",
     "output_type": "stream",
     "text": [
      "NJet No Cut\n"
     ]
    },
    {
     "name": "stderr",
     "output_type": "stream",
     "text": [
      "/uscms_data/d3/kyungmip/CMSSW_10_6_26/src/iDMe/python_analysis/studies/VR/VR_dPhi_0p75_2_NoNJetCut/../../../analysisTools/analysisTools.py:324: RuntimeWarning: invalid value encountered in scalar divide\n",
      "  cutDesc[cutName] += cutDescription + \"@\"\n"
     ]
    },
    {
     "name": "stdout",
     "output_type": "stream",
     "text": [
      "NJet No Cut\n"
     ]
    },
    {
     "name": "stderr",
     "output_type": "stream",
     "text": [
      "/uscms_data/d3/kyungmip/CMSSW_10_6_26/src/iDMe/python_analysis/studies/VR/VR_dPhi_0p75_2_NoNJetCut/../../../analysisTools/analysisTools.py:324: RuntimeWarning: invalid value encountered in scalar divide\n",
      "  cutDesc[cutName] += cutDescription + \"@\"\n"
     ]
    },
    {
     "name": "stdout",
     "output_type": "stream",
     "text": [
      "NJet No Cut\n",
      "NJet No Cut\n"
     ]
    },
    {
     "name": "stderr",
     "output_type": "stream",
     "text": [
      "/uscms_data/d3/kyungmip/CMSSW_10_6_26/src/iDMe/python_analysis/studies/VR/VR_dPhi_0p75_2_NoNJetCut/../../../analysisTools/analysisTools.py:324: RuntimeWarning: invalid value encountered in scalar divide\n",
      "  cutDesc[cutName] += cutDescription + \"@\"\n",
      "/uscms_data/d3/kyungmip/CMSSW_10_6_26/src/iDMe/python_analysis/studies/VR/VR_dPhi_0p75_2_NoNJetCut/../../../analysisTools/analysisTools.py:324: RuntimeWarning: invalid value encountered in scalar divide\n",
      "  cutDesc[cutName] += cutDescription + \"@\"\n"
     ]
    },
    {
     "name": "stdout",
     "output_type": "stream",
     "text": [
      "NJet No Cut\n"
     ]
    },
    {
     "name": "stderr",
     "output_type": "stream",
     "text": [
      "/uscms_data/d3/kyungmip/CMSSW_10_6_26/src/iDMe/python_analysis/studies/VR/VR_dPhi_0p75_2_NoNJetCut/../../../analysisTools/analysisTools.py:324: RuntimeWarning: invalid value encountered in scalar divide\n",
      "  cutDesc[cutName] += cutDescription + \"@\"\n"
     ]
    },
    {
     "name": "stdout",
     "output_type": "stream",
     "text": [
      "NJet No Cut\n"
     ]
    },
    {
     "name": "stderr",
     "output_type": "stream",
     "text": [
      "/uscms_data/d3/kyungmip/CMSSW_10_6_26/src/iDMe/python_analysis/studies/VR/VR_dPhi_0p75_2_NoNJetCut/../../../analysisTools/analysisTools.py:324: RuntimeWarning: invalid value encountered in scalar divide\n",
      "  cutDesc[cutName] += cutDescription + \"@\"\n"
     ]
    },
    {
     "name": "stdout",
     "output_type": "stream",
     "text": [
      "NJet No Cut\n"
     ]
    },
    {
     "name": "stderr",
     "output_type": "stream",
     "text": [
      "/uscms_data/d3/kyungmip/CMSSW_10_6_26/src/iDMe/python_analysis/studies/VR/VR_dPhi_0p75_2_NoNJetCut/../../../analysisTools/analysisTools.py:324: RuntimeWarning: invalid value encountered in scalar divide\n",
      "  cutDesc[cutName] += cutDescription + \"@\"\n"
     ]
    },
    {
     "name": "stdout",
     "output_type": "stream",
     "text": [
      "NJet No Cut\n"
     ]
    },
    {
     "name": "stderr",
     "output_type": "stream",
     "text": [
      "/uscms_data/d3/kyungmip/CMSSW_10_6_26/src/iDMe/python_analysis/studies/VR/VR_dPhi_0p75_2_NoNJetCut/../../../analysisTools/analysisTools.py:324: RuntimeWarning: invalid value encountered in scalar divide\n",
      "  cutDesc[cutName] += cutDescription + \"@\"\n"
     ]
    },
    {
     "name": "stdout",
     "output_type": "stream",
     "text": [
      "NJet No Cut\n"
     ]
    },
    {
     "name": "stderr",
     "output_type": "stream",
     "text": [
      "/uscms_data/d3/kyungmip/CMSSW_10_6_26/src/iDMe/python_analysis/studies/VR/VR_dPhi_0p75_2_NoNJetCut/../../../analysisTools/analysisTools.py:324: RuntimeWarning: invalid value encountered in scalar divide\n",
      "  cutDesc[cutName] += cutDescription + \"@\"\n"
     ]
    },
    {
     "name": "stdout",
     "output_type": "stream",
     "text": [
      "NJet No Cut\n"
     ]
    },
    {
     "name": "stderr",
     "output_type": "stream",
     "text": [
      "/uscms_data/d3/kyungmip/CMSSW_10_6_26/src/iDMe/python_analysis/studies/VR/VR_dPhi_0p75_2_NoNJetCut/../../../analysisTools/analysisTools.py:324: RuntimeWarning: invalid value encountered in scalar divide\n",
      "  cutDesc[cutName] += cutDescription + \"@\"\n"
     ]
    },
    {
     "name": "stdout",
     "output_type": "stream",
     "text": [
      "NJet No Cut\n",
      "NJet No Cut\n",
      "NJet No Cut\n"
     ]
    },
    {
     "name": "stderr",
     "output_type": "stream",
     "text": [
      "/uscms_data/d3/kyungmip/CMSSW_10_6_26/src/iDMe/python_analysis/studies/VR/VR_dPhi_0p75_2_NoNJetCut/../../../analysisTools/analysisTools.py:324: RuntimeWarning: invalid value encountered in scalar divide\n",
      "  cutDesc[cutName] += cutDescription + \"@\"\n",
      "/uscms_data/d3/kyungmip/CMSSW_10_6_26/src/iDMe/python_analysis/studies/VR/VR_dPhi_0p75_2_NoNJetCut/../../../analysisTools/analysisTools.py:324: RuntimeWarning: invalid value encountered in scalar divide\n",
      "  cutDesc[cutName] += cutDescription + \"@\"\n",
      "/uscms_data/d3/kyungmip/CMSSW_10_6_26/src/iDMe/python_analysis/studies/VR/VR_dPhi_0p75_2_NoNJetCut/../../../analysisTools/analysisTools.py:324: RuntimeWarning: invalid value encountered in scalar divide\n",
      "  cutDesc[cutName] += cutDescription + \"@\"\n"
     ]
    },
    {
     "name": "stdout",
     "output_type": "stream",
     "text": [
      "NJet No Cut\n"
     ]
    },
    {
     "name": "stderr",
     "output_type": "stream",
     "text": [
      "/uscms_data/d3/kyungmip/CMSSW_10_6_26/src/iDMe/python_analysis/studies/VR/VR_dPhi_0p75_2_NoNJetCut/../../../analysisTools/analysisTools.py:324: RuntimeWarning: invalid value encountered in scalar divide\n",
      "  cutDesc[cutName] += cutDescription + \"@\"\n"
     ]
    },
    {
     "name": "stdout",
     "output_type": "stream",
     "text": [
      "NJet No Cut\n"
     ]
    },
    {
     "name": "stderr",
     "output_type": "stream",
     "text": [
      "/uscms_data/d3/kyungmip/CMSSW_10_6_26/src/iDMe/python_analysis/studies/VR/VR_dPhi_0p75_2_NoNJetCut/../../../analysisTools/analysisTools.py:324: RuntimeWarning: invalid value encountered in scalar divide\n",
      "  cutDesc[cutName] += cutDescription + \"@\"\n"
     ]
    },
    {
     "name": "stdout",
     "output_type": "stream",
     "text": [
      "NJet No Cut\n"
     ]
    },
    {
     "name": "stderr",
     "output_type": "stream",
     "text": [
      "/uscms_data/d3/kyungmip/CMSSW_10_6_26/src/iDMe/python_analysis/studies/VR/VR_dPhi_0p75_2_NoNJetCut/../../../analysisTools/analysisTools.py:324: RuntimeWarning: invalid value encountered in scalar divide\n",
      "  cutDesc[cutName] += cutDescription + \"@\"\n"
     ]
    },
    {
     "name": "stdout",
     "output_type": "stream",
     "text": [
      "NJet No Cut\n"
     ]
    },
    {
     "name": "stderr",
     "output_type": "stream",
     "text": [
      "/uscms_data/d3/kyungmip/CMSSW_10_6_26/src/iDMe/python_analysis/studies/VR/VR_dPhi_0p75_2_NoNJetCut/../../../analysisTools/analysisTools.py:324: RuntimeWarning: invalid value encountered in scalar divide\n",
      "  cutDesc[cutName] += cutDescription + \"@\"\n"
     ]
    },
    {
     "name": "stdout",
     "output_type": "stream",
     "text": [
      "NJet No Cut\n",
      "NJet No Cut\n"
     ]
    },
    {
     "name": "stderr",
     "output_type": "stream",
     "text": [
      "/uscms_data/d3/kyungmip/CMSSW_10_6_26/src/iDMe/python_analysis/studies/VR/VR_dPhi_0p75_2_NoNJetCut/../../../analysisTools/analysisTools.py:324: RuntimeWarning: invalid value encountered in scalar divide\n",
      "  cutDesc[cutName] += cutDescription + \"@\"\n",
      "/uscms_data/d3/kyungmip/CMSSW_10_6_26/src/iDMe/python_analysis/studies/VR/VR_dPhi_0p75_2_NoNJetCut/../../../analysisTools/analysisTools.py:324: RuntimeWarning: invalid value encountered in scalar divide\n",
      "  cutDesc[cutName] += cutDescription + \"@\"\n"
     ]
    },
    {
     "name": "stdout",
     "output_type": "stream",
     "text": [
      "NJet No Cut\n"
     ]
    },
    {
     "name": "stderr",
     "output_type": "stream",
     "text": [
      "/uscms_data/d3/kyungmip/CMSSW_10_6_26/src/iDMe/python_analysis/studies/VR/VR_dPhi_0p75_2_NoNJetCut/../../../analysisTools/analysisTools.py:324: RuntimeWarning: invalid value encountered in scalar divide\n",
      "  cutDesc[cutName] += cutDescription + \"@\"\n"
     ]
    },
    {
     "name": "stdout",
     "output_type": "stream",
     "text": [
      "NJet No Cut\n"
     ]
    },
    {
     "name": "stderr",
     "output_type": "stream",
     "text": [
      "/uscms_data/d3/kyungmip/CMSSW_10_6_26/src/iDMe/python_analysis/studies/VR/VR_dPhi_0p75_2_NoNJetCut/../../../analysisTools/analysisTools.py:324: RuntimeWarning: invalid value encountered in scalar divide\n",
      "  cutDesc[cutName] += cutDescription + \"@\"\n"
     ]
    },
    {
     "name": "stdout",
     "output_type": "stream",
     "text": [
      "NJet No Cut\n"
     ]
    },
    {
     "name": "stderr",
     "output_type": "stream",
     "text": [
      "/uscms_data/d3/kyungmip/CMSSW_10_6_26/src/iDMe/python_analysis/studies/VR/VR_dPhi_0p75_2_NoNJetCut/../../../analysisTools/analysisTools.py:324: RuntimeWarning: invalid value encountered in scalar divide\n",
      "  cutDesc[cutName] += cutDescription + \"@\"\n"
     ]
    },
    {
     "name": "stdout",
     "output_type": "stream",
     "text": [
      "NJet No Cut\n"
     ]
    },
    {
     "name": "stderr",
     "output_type": "stream",
     "text": [
      "/uscms_data/d3/kyungmip/CMSSW_10_6_26/src/iDMe/python_analysis/studies/VR/VR_dPhi_0p75_2_NoNJetCut/../../../analysisTools/analysisTools.py:324: RuntimeWarning: invalid value encountered in scalar divide\n",
      "  cutDesc[cutName] += cutDescription + \"@\"\n"
     ]
    },
    {
     "name": "stdout",
     "output_type": "stream",
     "text": [
      "NJet No Cut\n"
     ]
    },
    {
     "name": "stderr",
     "output_type": "stream",
     "text": [
      "/uscms_data/d3/kyungmip/CMSSW_10_6_26/src/iDMe/python_analysis/studies/VR/VR_dPhi_0p75_2_NoNJetCut/../../../analysisTools/analysisTools.py:324: RuntimeWarning: invalid value encountered in scalar divide\n",
      "  cutDesc[cutName] += cutDescription + \"@\"\n"
     ]
    },
    {
     "data": {
      "text/html": [
       "<pre style=\"white-space:pre;overflow-x:auto;line-height:normal;font-family:Menlo,'DejaVu Sans Mono',consolas,'Courier New',monospace\"></pre>\n"
      ],
      "text/plain": []
     },
     "metadata": {},
     "output_type": "display_data"
    },
    {
     "data": {
      "text/html": [
       "<pre style=\"white-space:pre;overflow-x:auto;line-height:normal;font-family:Menlo,'DejaVu Sans Mono',consolas,'Courier New',monospace\">\n",
       "</pre>\n"
      ],
      "text/plain": [
       "\n"
      ]
     },
     "metadata": {},
     "output_type": "display_data"
    },
    {
     "name": "stdout",
     "output_type": "stream",
     "text": [
      "Runtime: 2.091862738132477 minutes\n"
     ]
    }
   ],
   "source": [
    "test = Analyzer(sample_config, histos_config, cuts_config)\n",
    "t1 = time.time()\n",
    "out = test.process(execr='futures', workers=4)\n",
    "t2 = time.time()\n",
    "print(f\"Runtime: {(t2-t1)/60} minutes\")\n",
    "util.save(out,f\"{outdir}/signal_VR_dPhi-1to2_noNJetCut.coffea\")\n",
    "del out, test"
   ]
  },
  {
   "cell_type": "code",
   "execution_count": null,
   "id": "d5c37cb4-4a7f-44b8-9a6b-3d079ded00c7",
   "metadata": {},
   "outputs": [],
   "source": []
  }
 ],
 "metadata": {
  "kernelspec": {
   "display_name": "Python 3 (ipykernel)",
   "language": "python",
   "name": "python3"
  },
  "language_info": {
   "codemirror_mode": {
    "name": "ipython",
    "version": 3
   },
   "file_extension": ".py",
   "mimetype": "text/x-python",
   "name": "python",
   "nbconvert_exporter": "python",
   "pygments_lexer": "ipython3",
   "version": "3.8.17"
  }
 },
 "nbformat": 4,
 "nbformat_minor": 5
}
