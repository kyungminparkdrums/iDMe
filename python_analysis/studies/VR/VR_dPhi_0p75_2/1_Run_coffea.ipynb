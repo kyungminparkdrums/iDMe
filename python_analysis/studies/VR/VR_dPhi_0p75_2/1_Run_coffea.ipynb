{
 "cells": [
  {
   "cell_type": "code",
   "execution_count": 1,
   "id": "e94963cd-6dd7-44cd-9e04-b15d8ada688c",
   "metadata": {},
   "outputs": [],
   "source": [
    "%load_ext autoreload\n",
    "%autoreload 2\n",
    "import uproot\n",
    "import numpy as np\n",
    "import matplotlib.pyplot as plt\n",
    "import awkward as ak\n",
    "import sys\n",
    "sys.path.append(\"../../analysisTools/\")\n",
    "from analysisTools import Analyzer\n",
    "from analysisTools import loadSchema\n",
    "import analysisTools as tools\n",
    "import analysisSubroutines as routines\n",
    "import plotTools as ptools\n",
    "import utils\n",
    "import importlib\n",
    "import coffea.util as util\n",
    "import time\n",
    "import json\n",
    "import os\n",
    "import glob\n",
    "import pandas as pd"
   ]
  },
  {
   "cell_type": "code",
   "execution_count": 2,
   "id": "80730354-47ca-4b54-8913-832f3a6fcbe7",
   "metadata": {},
   "outputs": [
    {
     "data": {
      "text/plain": [
       "0"
      ]
     },
     "execution_count": 2,
     "metadata": {},
     "output_type": "execute_result"
    }
   ],
   "source": [
    "outdir = \"./coffea/\"\n",
    "os.system(f'mkdir -p {outdir}')"
   ]
  },
  {
   "cell_type": "markdown",
   "id": "7239900a-5708-42ba-801b-38a0edd23518",
   "metadata": {},
   "source": [
    "## VR"
   ]
  },
  {
   "cell_type": "code",
   "execution_count": 3,
   "id": "de587b56-297f-46fd-ae68-1bc951f3b855",
   "metadata": {},
   "outputs": [],
   "source": [
    "cuts_config = \"./cut_configs/VR.py\""
   ]
  },
  {
   "cell_type": "code",
   "execution_count": 4,
   "id": "e32fad6a-c32e-4492-88e1-abb4c29831fc",
   "metadata": {},
   "outputs": [],
   "source": [
    "#histos_config = \"./histo_configs/histos.py\" # new histogramming framework\n",
    "histos_config = \"./histo_configs/histo_VR.py\" # old histogramming framework"
   ]
  },
  {
   "cell_type": "markdown",
   "id": "765fb997-fdee-4b80-968c-69f7658fc0f7",
   "metadata": {},
   "source": [
    "### Data"
   ]
  },
  {
   "cell_type": "code",
   "execution_count": 5,
   "id": "7089cad6-f7ee-4f99-adfe-b78ec0f102c5",
   "metadata": {},
   "outputs": [],
   "source": [
    "sample_config = \"./sample_configs/skimmed_data_2018_MET_v1.json\""
   ]
  },
  {
   "cell_type": "code",
   "execution_count": null,
   "id": "e839a881-6de3-4b19-85d1-a0e252ad8f48",
   "metadata": {},
   "outputs": [],
   "source": [
    "test = Analyzer(sample_config, histos_config, cuts_config)\n",
    "t1 = time.time()\n",
    "out = test.process(execr='futures', workers=4)\n",
    "t2 = time.time()\n",
    "print(f\"Runtime: {(t2-t1)/60} minutes\")\n",
    "util.save(out,f\"{outdir}/data_VR.coffea\")\n",
    "del out, test"
   ]
  },
  {
   "cell_type": "markdown",
   "id": "df64c715-cc6b-42ca-9b0f-814a91d49174",
   "metadata": {
    "jp-MarkdownHeadingCollapsed": true
   },
   "source": [
    "### Background"
   ]
  },
  {
   "cell_type": "code",
   "execution_count": 9,
   "id": "c385824c-f76d-411c-84d9-bffe5bdb039d",
   "metadata": {},
   "outputs": [],
   "source": [
    "sample_config = \"./sample_configs/skimmed_bkg_2018_v7_miniAOD.json\""
   ]
  },
  {
   "cell_type": "code",
   "execution_count": 11,
   "id": "59c858ed-0ef1-4704-92f7-ab3be2a94b2d",
   "metadata": {},
   "outputs": [
    {
     "ename": "ValueError",
     "evalue": "invalid literal for int() with base 10: ''",
     "output_type": "error",
     "traceback": [
      "\u001b[0;31m---------------------------------------------------------------------------\u001b[0m",
      "\u001b[0;31mValueError\u001b[0m                                Traceback (most recent call last)",
      "Cell \u001b[0;32mIn[11], line 3\u001b[0m\n\u001b[1;32m      1\u001b[0m test \u001b[38;5;241m=\u001b[39m Analyzer(sample_config, histos_config, cuts_config)\n\u001b[1;32m      2\u001b[0m t1 \u001b[38;5;241m=\u001b[39m time\u001b[38;5;241m.\u001b[39mtime()\n\u001b[0;32m----> 3\u001b[0m out \u001b[38;5;241m=\u001b[39m \u001b[43mtest\u001b[49m\u001b[38;5;241;43m.\u001b[39;49m\u001b[43mprocess\u001b[49m\u001b[43m(\u001b[49m\u001b[43mexecr\u001b[49m\u001b[38;5;241;43m=\u001b[39;49m\u001b[38;5;124;43m'\u001b[39;49m\u001b[38;5;124;43mfutures\u001b[39;49m\u001b[38;5;124;43m'\u001b[39;49m\u001b[43m,\u001b[49m\u001b[43m \u001b[49m\u001b[43mworkers\u001b[49m\u001b[38;5;241;43m=\u001b[39;49m\u001b[38;5;241;43m4\u001b[39;49m\u001b[43m)\u001b[49m\n\u001b[1;32m      4\u001b[0m t2 \u001b[38;5;241m=\u001b[39m time\u001b[38;5;241m.\u001b[39mtime()\n\u001b[1;32m      5\u001b[0m \u001b[38;5;28mprint\u001b[39m(\u001b[38;5;124mf\u001b[39m\u001b[38;5;124m\"\u001b[39m\u001b[38;5;124mRuntime: \u001b[39m\u001b[38;5;132;01m{\u001b[39;00m(t2\u001b[38;5;241m-\u001b[39mt1)\u001b[38;5;241m/\u001b[39m\u001b[38;5;241m60\u001b[39m\u001b[38;5;132;01m}\u001b[39;00m\u001b[38;5;124m minutes\u001b[39m\u001b[38;5;124m\"\u001b[39m)\n",
      "File \u001b[0;32m/uscms_data/d3/kyungmip/CMSSW_10_6_26/src/iDMe/python_analysis/studies/VR/../../analysisTools/analysisTools.py:138\u001b[0m, in \u001b[0;36mAnalyzer.process\u001b[0;34m(self, treename, execr, workers, dask_client, procType, **kwargs)\u001b[0m\n\u001b[1;32m    136\u001b[0m fileset \u001b[38;5;241m=\u001b[39m \u001b[38;5;28mself\u001b[39m\u001b[38;5;241m.\u001b[39msample_locs\n\u001b[1;32m    137\u001b[0m \u001b[38;5;28;01mif\u001b[39;00m procType \u001b[38;5;241m==\u001b[39m \u001b[38;5;124m'\u001b[39m\u001b[38;5;124mdefault\u001b[39m\u001b[38;5;124m'\u001b[39m:\n\u001b[0;32m--> 138\u001b[0m     proc \u001b[38;5;241m=\u001b[39m \u001b[43miDMeProcessor\u001b[49m\u001b[43m(\u001b[49m\u001b[38;5;28;43mself\u001b[39;49m\u001b[38;5;241;43m.\u001b[39;49m\u001b[43msample_names\u001b[49m\u001b[43m,\u001b[49m\u001b[38;5;28;43mself\u001b[39;49m\u001b[38;5;241;43m.\u001b[39;49m\u001b[43msample_info\u001b[49m\u001b[43m,\u001b[49m\u001b[38;5;28;43mself\u001b[39;49m\u001b[38;5;241;43m.\u001b[39;49m\u001b[43msample_locs\u001b[49m\u001b[43m,\u001b[49m\u001b[38;5;28;43mself\u001b[39;49m\u001b[38;5;241;43m.\u001b[39;49m\u001b[43mhistoFile\u001b[49m\u001b[43m,\u001b[49m\u001b[38;5;28;43mself\u001b[39;49m\u001b[38;5;241;43m.\u001b[39;49m\u001b[43mcuts\u001b[49m\u001b[43m,\u001b[49m\u001b[43mmode\u001b[49m\u001b[38;5;241;43m=\u001b[39;49m\u001b[38;5;28;43mself\u001b[39;49m\u001b[38;5;241;43m.\u001b[39;49m\u001b[43mmode\u001b[49m\u001b[43m,\u001b[49m\u001b[38;5;241;43m*\u001b[39;49m\u001b[38;5;241;43m*\u001b[39;49m\u001b[43mkwargs\u001b[49m\u001b[43m)\u001b[49m\n\u001b[1;32m    139\u001b[0m \u001b[38;5;28;01melif\u001b[39;00m procType \u001b[38;5;241m==\u001b[39m \u001b[38;5;124m'\u001b[39m\u001b[38;5;124mgen\u001b[39m\u001b[38;5;124m'\u001b[39m:\n\u001b[1;32m    140\u001b[0m     proc \u001b[38;5;241m=\u001b[39m genProcessor(\u001b[38;5;28mself\u001b[39m\u001b[38;5;241m.\u001b[39msample_names,\u001b[38;5;28mself\u001b[39m\u001b[38;5;241m.\u001b[39msample_info,\u001b[38;5;28mself\u001b[39m\u001b[38;5;241m.\u001b[39msample_locs,\u001b[38;5;28mself\u001b[39m\u001b[38;5;241m.\u001b[39mhistoFile,\u001b[38;5;28mself\u001b[39m\u001b[38;5;241m.\u001b[39mcuts,mode\u001b[38;5;241m=\u001b[39m\u001b[38;5;28mself\u001b[39m\u001b[38;5;241m.\u001b[39mmode,\u001b[38;5;241m*\u001b[39m\u001b[38;5;241m*\u001b[39mkwargs)\n",
      "File \u001b[0;32m/uscms_data/d3/kyungmip/CMSSW_10_6_26/src/iDMe/python_analysis/studies/VR/../../analysisTools/analysisTools.py:190\u001b[0m, in \u001b[0;36miDMeProcessor.__init__\u001b[0;34m(self, samples, sampleInfo, fileSet, histoFile, cutFile, mode, **kwargs)\u001b[0m\n\u001b[1;32m    188\u001b[0m     \u001b[38;5;28mself\u001b[39m\u001b[38;5;241m.\u001b[39mcutLib \u001b[38;5;241m=\u001b[39m importlib\u001b[38;5;241m.\u001b[39mimport_module(cutFileName)\n\u001b[1;32m    189\u001b[0m     cutList \u001b[38;5;241m=\u001b[39m [c \u001b[38;5;28;01mfor\u001b[39;00m c \u001b[38;5;129;01min\u001b[39;00m \u001b[38;5;28mdir\u001b[39m(\u001b[38;5;28mself\u001b[39m\u001b[38;5;241m.\u001b[39mcutLib) \u001b[38;5;28;01mif\u001b[39;00m \u001b[38;5;124m\"\u001b[39m\u001b[38;5;124mcut\u001b[39m\u001b[38;5;124m\"\u001b[39m \u001b[38;5;129;01min\u001b[39;00m c]\n\u001b[0;32m--> 190\u001b[0m     cutList \u001b[38;5;241m=\u001b[39m \u001b[38;5;28;43msorted\u001b[39;49m\u001b[43m(\u001b[49m\u001b[43mcutList\u001b[49m\u001b[43m,\u001b[49m\u001b[43mkey\u001b[49m\u001b[38;5;241;43m=\u001b[39;49m\u001b[38;5;28;43;01mlambda\u001b[39;49;00m\u001b[43m \u001b[49m\u001b[43mx\u001b[49m\u001b[43m:\u001b[49m\u001b[43m \u001b[49m\u001b[38;5;28;43mint\u001b[39;49m\u001b[43m(\u001b[49m\u001b[43mx\u001b[49m\u001b[43m[\u001b[49m\u001b[38;5;241;43m3\u001b[39;49m\u001b[43m:\u001b[49m\u001b[43m]\u001b[49m\u001b[43m)\u001b[49m\u001b[43m)\u001b[49m \u001b[38;5;66;03m# make sure cuts are ordered as they are in the file\u001b[39;00m\n\u001b[1;32m    191\u001b[0m     \u001b[38;5;28mself\u001b[39m\u001b[38;5;241m.\u001b[39mcuts \u001b[38;5;241m=\u001b[39m [\u001b[38;5;28mgetattr\u001b[39m(\u001b[38;5;28mself\u001b[39m\u001b[38;5;241m.\u001b[39mcutLib,c) \u001b[38;5;28;01mfor\u001b[39;00m c \u001b[38;5;129;01min\u001b[39;00m cutList]\n\u001b[1;32m    192\u001b[0m \u001b[38;5;28;01melse\u001b[39;00m: \u001b[38;5;66;03m# cut file is in the same directory (e.g. running on condor)\u001b[39;00m\n",
      "File \u001b[0;32m/uscms_data/d3/kyungmip/CMSSW_10_6_26/src/iDMe/python_analysis/studies/VR/../../analysisTools/analysisTools.py:190\u001b[0m, in \u001b[0;36miDMeProcessor.__init__.<locals>.<lambda>\u001b[0;34m(x)\u001b[0m\n\u001b[1;32m    188\u001b[0m     \u001b[38;5;28mself\u001b[39m\u001b[38;5;241m.\u001b[39mcutLib \u001b[38;5;241m=\u001b[39m importlib\u001b[38;5;241m.\u001b[39mimport_module(cutFileName)\n\u001b[1;32m    189\u001b[0m     cutList \u001b[38;5;241m=\u001b[39m [c \u001b[38;5;28;01mfor\u001b[39;00m c \u001b[38;5;129;01min\u001b[39;00m \u001b[38;5;28mdir\u001b[39m(\u001b[38;5;28mself\u001b[39m\u001b[38;5;241m.\u001b[39mcutLib) \u001b[38;5;28;01mif\u001b[39;00m \u001b[38;5;124m\"\u001b[39m\u001b[38;5;124mcut\u001b[39m\u001b[38;5;124m\"\u001b[39m \u001b[38;5;129;01min\u001b[39;00m c]\n\u001b[0;32m--> 190\u001b[0m     cutList \u001b[38;5;241m=\u001b[39m \u001b[38;5;28msorted\u001b[39m(cutList,key\u001b[38;5;241m=\u001b[39m\u001b[38;5;28;01mlambda\u001b[39;00m x: \u001b[38;5;28;43mint\u001b[39;49m\u001b[43m(\u001b[49m\u001b[43mx\u001b[49m\u001b[43m[\u001b[49m\u001b[38;5;241;43m3\u001b[39;49m\u001b[43m:\u001b[49m\u001b[43m]\u001b[49m\u001b[43m)\u001b[49m) \u001b[38;5;66;03m# make sure cuts are ordered as they are in the file\u001b[39;00m\n\u001b[1;32m    191\u001b[0m     \u001b[38;5;28mself\u001b[39m\u001b[38;5;241m.\u001b[39mcuts \u001b[38;5;241m=\u001b[39m [\u001b[38;5;28mgetattr\u001b[39m(\u001b[38;5;28mself\u001b[39m\u001b[38;5;241m.\u001b[39mcutLib,c) \u001b[38;5;28;01mfor\u001b[39;00m c \u001b[38;5;129;01min\u001b[39;00m cutList]\n\u001b[1;32m    192\u001b[0m \u001b[38;5;28;01melse\u001b[39;00m: \u001b[38;5;66;03m# cut file is in the same directory (e.g. running on condor)\u001b[39;00m\n",
      "\u001b[0;31mValueError\u001b[0m: invalid literal for int() with base 10: ''"
     ]
    }
   ],
   "source": [
    "test = Analyzer(sample_config, histos_config, cuts_config)\n",
    "t1 = time.time()\n",
    "out = test.process(execr='futures', workers=4)\n",
    "t2 = time.time()\n",
    "print(f\"Runtime: {(t2-t1)/60} minutes\")\n",
    "util.save(out,f\"{outdir}/background_VR.coffea\")\n",
    "del out, test"
   ]
  },
  {
   "cell_type": "markdown",
   "id": "9d1bca0d-928c-4671-b836-63b6cc6e3733",
   "metadata": {},
   "source": [
    "#### Configs"
   ]
  },
  {
   "cell_type": "code",
   "execution_count": 3,
   "id": "a2b371d8-ebc4-4d4b-b5d1-f3c7abe6ef9f",
   "metadata": {},
   "outputs": [],
   "source": [
    "cuts_config = \"./cut_configs/SR_BDT_OneBin_minDxyCut.py\"\n",
    "#cuts_config = \"./cut_configs/dummy_cut.py\""
   ]
  },
  {
   "cell_type": "markdown",
   "id": "bef19ac4-797b-4daa-ac35-d0773331f7e8",
   "metadata": {},
   "source": [
    "#### Run background v7: MINIAOD & new xclean & miniISO + `v5` good_vtx"
   ]
  },
  {
   "cell_type": "code",
   "execution_count": 13,
   "id": "4d984be0-d751-4aaa-a105-f601529d99dd",
   "metadata": {},
   "outputs": [],
   "source": [
    "sample_config = \"./sample_configs/skimmed_bkg_2018_v7_miniAOD.json\"\n",
    "#histos_config = \"./histo_configs/histos.py\" # new histogramming framework\n",
    "histos_config = \"./histo_configs/BDTvariables.py\" # old histogramming framework"
   ]
  },
  {
   "cell_type": "code",
   "execution_count": 14,
   "id": "3c8fb24c-4f09-4844-9bd8-2dc1cfed1ae3",
   "metadata": {
    "scrolled": true
   },
   "outputs": [
    {
     "data": {
      "application/vnd.jupyter.widget-view+json": {
       "model_id": "8d168dccff7c49a79ef402d9e1253015",
       "version_major": 2,
       "version_minor": 0
      },
      "text/plain": [
       "Output()"
      ]
     },
     "metadata": {},
     "output_type": "display_data"
    },
    {
     "name": "stdout",
     "output_type": "stream",
     "text": [
      "BDT Pass: 0/2\n",
      "BDT Pass: 0/28\n",
      "BDT Pass: 0/3\n",
      "BDT Pass: 3/134\n",
      "BDT Pass: 1/126\n",
      "BDT Pass: 1/44\n",
      "BDT Pass: 1/78\n",
      "BDT Pass: 13/645\n",
      "BDT Pass: 0/5\n",
      "BDT Pass: 17/1032\n",
      "BDT Pass: 4/120\n",
      "BDT Pass: 0/29\n",
      "BDT Pass: 0/29\n",
      "BDT Pass: 1/9\n",
      "BDT Pass: 0/17\n",
      "BDT Pass: 2/7\n",
      "BDT Pass: 2/8\n",
      "BDT Pass: 3/29BDT Pass: 5/21\n",
      "\n",
      "BDT Pass: 13/378\n",
      "BDT Pass: 0/13\n",
      "BDT Pass: 4/30\n",
      "BDT Pass: 0/5\n",
      "BDT Pass: 3/14\n",
      "BDT Pass: 3/9\n",
      "BDT Pass: 2/21\n",
      "BDT Pass: 0/3\n",
      "BDT Pass: 0/1\n",
      "BDT Pass: 0/6\n",
      "BDT Pass: 0/2\n",
      "BDT Pass: 0/4\n",
      "BDT Pass: 2/22\n",
      "BDT Pass: 17/634\n",
      "BDT Pass: 1/6\n",
      "BDT Pass: 0/15\n",
      "BDT Pass: 1/1\n"
     ]
    },
    {
     "data": {
      "text/html": [
       "<pre style=\"white-space:pre;overflow-x:auto;line-height:normal;font-family:Menlo,'DejaVu Sans Mono',consolas,'Courier New',monospace\"></pre>\n"
      ],
      "text/plain": []
     },
     "metadata": {},
     "output_type": "display_data"
    },
    {
     "data": {
      "text/html": [
       "<pre style=\"white-space:pre;overflow-x:auto;line-height:normal;font-family:Menlo,'DejaVu Sans Mono',consolas,'Courier New',monospace\">\n",
       "</pre>\n"
      ],
      "text/plain": [
       "\n"
      ]
     },
     "metadata": {},
     "output_type": "display_data"
    },
    {
     "name": "stdout",
     "output_type": "stream",
     "text": [
      "Runtime: 1.58990083138148 minutes\n"
     ]
    }
   ],
   "source": [
    "test = Analyzer(sample_config, histos_config, cuts_config)\n",
    "t1 = time.time()\n",
    "out = test.process(execr='futures', workers=4)\n",
    "t2 = time.time()\n",
    "print(f\"Runtime: {(t2-t1)/60} minutes\")\n",
    "util.save(out,f\"{outdir}/background_v7_MINIAOD_NewXclean_v5_good_vtx.coffea\")\n",
    "del out, test"
   ]
  },
  {
   "cell_type": "code",
   "execution_count": null,
   "id": "0b89095c-5755-41dd-99b9-fad2c7bb8c79",
   "metadata": {},
   "outputs": [],
   "source": []
  },
  {
   "cell_type": "markdown",
   "id": "ab57036a-c551-4e9d-936f-5ba8e3cd9da0",
   "metadata": {},
   "source": [
    "#### Run background v7: MINIAOD & new xclean & miniISO + `ID + OSSF` good_vtx"
   ]
  },
  {
   "cell_type": "code",
   "execution_count": 15,
   "id": "44363566-fa27-40d7-b563-c8a8b63c599c",
   "metadata": {},
   "outputs": [],
   "source": [
    "sample_config = \"./sample_configs/skimmed_bkg_2018_v7_miniAOD.json\"\n",
    "#histos_config = \"./histo_configs/histos.py\" # new histogramming framework\n",
    "histos_config = \"./histo_configs/BDTvariables.py\" # old histogramming framework"
   ]
  },
  {
   "cell_type": "code",
   "execution_count": 16,
   "id": "2e9c9607-0f94-4cb0-836a-14a200813ef2",
   "metadata": {
    "scrolled": true
   },
   "outputs": [
    {
     "data": {
      "application/vnd.jupyter.widget-view+json": {
       "model_id": "754b7f2201e244048661ba9939edc007",
       "version_major": 2,
       "version_minor": 0
      },
      "text/plain": [
       "Output()"
      ]
     },
     "metadata": {},
     "output_type": "display_data"
    },
    {
     "name": "stdout",
     "output_type": "stream",
     "text": [
      "BDT Pass: 0/2\n",
      "BDT Pass: 0/123\n",
      "BDT Pass: 0/10\n",
      "BDT Pass: 3/527\n",
      "BDT Pass: 2/423\n",
      "BDT Pass: 0/1\n",
      "BDT Pass: 2/332\n",
      "BDT Pass: 2/239\n",
      "BDT Pass: 19/2910\n",
      "BDT Pass: 0/13\n",
      "BDT Pass: 22/4515\n",
      "BDT Pass: 9/623\n",
      "BDT Pass: 0/143\n",
      "BDT Pass: 0/94\n",
      "BDT Pass: 1/27\n",
      "BDT Pass: 1/102\n",
      "BDT Pass: 2/31\n",
      "BDT Pass: 2/36\n",
      "BDT Pass: 3/85\n",
      "BDT Pass: 6/88\n",
      "BDT Pass: 6/107\n",
      "BDT Pass: 5/66\n",
      "BDT Pass: 0/20\n",
      "BDT Pass: 2/72\n",
      "BDT Pass: 16/1778\n",
      "BDT Pass: 4/81\n",
      "BDT Pass: 3/31\n",
      "BDT Pass: 0/1\n",
      "BDT Pass: 0/1\n",
      "BDT Pass: 0/1\n",
      "BDT Pass: 0/5\n",
      "BDT Pass: 0/2\n",
      "BDT Pass: 1/25\n",
      "BDT Pass: 0/8\n",
      "BDT Pass: 0/12\n",
      "BDT Pass: 1/9\n",
      "BDT Pass: 3/83\n",
      "BDT Pass: 1/3\n",
      "BDT Pass: 0/74\n",
      "BDT Pass: 32/2899\n"
     ]
    },
    {
     "data": {
      "text/html": [
       "<pre style=\"white-space:pre;overflow-x:auto;line-height:normal;font-family:Menlo,'DejaVu Sans Mono',consolas,'Courier New',monospace\"></pre>\n"
      ],
      "text/plain": []
     },
     "metadata": {},
     "output_type": "display_data"
    },
    {
     "data": {
      "text/html": [
       "<pre style=\"white-space:pre;overflow-x:auto;line-height:normal;font-family:Menlo,'DejaVu Sans Mono',consolas,'Courier New',monospace\">\n",
       "</pre>\n"
      ],
      "text/plain": [
       "\n"
      ]
     },
     "metadata": {},
     "output_type": "display_data"
    },
    {
     "name": "stdout",
     "output_type": "stream",
     "text": [
      "Runtime: 1.545711624622345 minutes\n"
     ]
    }
   ],
   "source": [
    "test = Analyzer(sample_config, histos_config, cuts_config)\n",
    "t1 = time.time()\n",
    "out = test.process(execr='futures', workers=4)\n",
    "t2 = time.time()\n",
    "print(f\"Runtime: {(t2-t1)/60} minutes\")\n",
    "util.save(out,f\"{outdir}/background_v7_MINIAOD_NewXclean_default_good_vtx.coffea\")\n",
    "del out, test"
   ]
  },
  {
   "cell_type": "code",
   "execution_count": null,
   "id": "3d06da6b-a72e-4231-8acd-58788fe8b182",
   "metadata": {},
   "outputs": [],
   "source": []
  },
  {
   "cell_type": "markdown",
   "id": "333c3e9e-b450-4fac-bbbd-8f38e42a3fa1",
   "metadata": {},
   "source": [
    "#### Run background v7: MINIAOD & new xclean & miniISO `None` good_vtx"
   ]
  },
  {
   "cell_type": "code",
   "execution_count": 17,
   "id": "03222f15-b6d3-4885-9384-9208e5495294",
   "metadata": {},
   "outputs": [],
   "source": [
    "sample_config = \"./sample_configs/skimmed_bkg_2018_v7_miniAOD.json\"\n",
    "#histos_config = \"./histo_configs/histos.py\" # new histogramming framework\n",
    "histos_config = \"./histo_configs/BDTvariables.py\" # old histogramming framework"
   ]
  },
  {
   "cell_type": "code",
   "execution_count": 18,
   "id": "2c6c332d-0c00-48e7-a308-cb66075b7510",
   "metadata": {
    "scrolled": true
   },
   "outputs": [
    {
     "data": {
      "application/vnd.jupyter.widget-view+json": {
       "model_id": "98a8c3ec3ae744678ef342e09c38684d",
       "version_major": 2,
       "version_minor": 0
      },
      "text/plain": [
       "Output()"
      ]
     },
     "metadata": {},
     "output_type": "display_data"
    },
    {
     "name": "stdout",
     "output_type": "stream",
     "text": [
      "BDT Pass: 0/10\n",
      "BDT Pass: 1/381\n",
      "BDT Pass: 1/44\n",
      "BDT Pass: 7/1711\n",
      "BDT Pass: 5/1271\n",
      "BDT Pass: 0/2\n",
      "BDT Pass: 0/1\n",
      "BDT Pass: 4/644\n",
      "BDT Pass: 8/884\n",
      "BDT Pass: 0/29\n",
      "BDT Pass: 15/1643\n",
      "BDT Pass: 58/9142\n",
      "BDT Pass: 55/13962\n",
      "BDT Pass: 2/404\n",
      "BDT Pass: 2/255\n",
      "BDT Pass: 3/59\n",
      "BDT Pass: 2/258\n",
      "BDT Pass: 3/74\n",
      "BDT Pass: 3/163\n",
      "BDT Pass: 3/86\n",
      "BDT Pass: 9/166\n",
      "BDT Pass: 44/4723\n",
      "BDT Pass: 11/227\n",
      "BDT Pass: 0/47\n",
      "BDT Pass: 5/141\n",
      "BDT Pass: 5/164\n",
      "BDT Pass: 3/144\n",
      "BDT Pass: 0/1\n",
      "BDT Pass: 5/53\n",
      "BDT Pass: 0/2\n",
      "BDT Pass: 83/7537\n",
      "BDT Pass: 0/1\n",
      "BDT Pass: 0/14\n",
      "BDT Pass: 0/13\n",
      "BDT Pass: 0/21\n",
      "BDT Pass: 3/194\n",
      "BDT Pass: 0/14\n",
      "BDT Pass: 1/89\n",
      "BDT Pass: 2/7\n",
      "BDT Pass: 0/190\n",
      "BDT Pass: 2/33\n"
     ]
    },
    {
     "data": {
      "text/html": [
       "<pre style=\"white-space:pre;overflow-x:auto;line-height:normal;font-family:Menlo,'DejaVu Sans Mono',consolas,'Courier New',monospace\"></pre>\n"
      ],
      "text/plain": []
     },
     "metadata": {},
     "output_type": "display_data"
    },
    {
     "data": {
      "text/html": [
       "<pre style=\"white-space:pre;overflow-x:auto;line-height:normal;font-family:Menlo,'DejaVu Sans Mono',consolas,'Courier New',monospace\">\n",
       "</pre>\n"
      ],
      "text/plain": [
       "\n"
      ]
     },
     "metadata": {},
     "output_type": "display_data"
    },
    {
     "name": "stdout",
     "output_type": "stream",
     "text": [
      "Runtime: 1.6305693984031677 minutes\n"
     ]
    }
   ],
   "source": [
    "test = Analyzer(sample_config, histos_config, cuts_config)\n",
    "t1 = time.time()\n",
    "out = test.process(execr='futures', workers=4)\n",
    "t2 = time.time()\n",
    "print(f\"Runtime: {(t2-t1)/60} minutes\")\n",
    "util.save(out,f\"{outdir}/background_v7_MINIAOD_NewXclean.coffea\")\n",
    "del out, test"
   ]
  },
  {
   "cell_type": "code",
   "execution_count": null,
   "id": "eee79edd-2218-4f97-a3f1-96da3557a366",
   "metadata": {},
   "outputs": [],
   "source": []
  },
  {
   "cell_type": "markdown",
   "id": "4208e6b7-f3d4-4b0c-aed7-96a622ec99e9",
   "metadata": {},
   "source": [
    "#### Run background (legacy): AOD & old xclean"
   ]
  },
  {
   "cell_type": "code",
   "execution_count": 6,
   "id": "9b4d23d5-7e0b-4b10-a297-d831e7e48307",
   "metadata": {},
   "outputs": [],
   "source": [
    "cuts_config = \"./cut_configs/SR_BDT_OneBin_minDxyCut.py\"\n",
    "#cuts_config = \"./cut_configs/dummy_cut.py\""
   ]
  },
  {
   "cell_type": "code",
   "execution_count": 3,
   "id": "7f03a5cd-3e7b-469b-91a5-0afce318505d",
   "metadata": {},
   "outputs": [
    {
     "name": "stdout",
     "output_type": "stream",
     "text": [
      "['./sample_configs/skimmed_bkg_legacy/skimmed_bkg_2018_Diboson.json', './sample_configs/skimmed_bkg_legacy/skimmed_bkg_2018_DY.json', './sample_configs/skimmed_bkg_legacy/skimmed_bkg_2018_QCD_TuneCP5_PSWeights.json', './sample_configs/skimmed_bkg_legacy/skimmed_bkg_2018_Top.json', './sample_configs/skimmed_bkg_legacy/skimmed_bkg_2018_Triboson.json', './sample_configs/skimmed_bkg_legacy/skimmed_bkg_2018_TTJetsDiLept.json', './sample_configs/skimmed_bkg_legacy/skimmed_bkg_2018_WJets.json', './sample_configs/skimmed_bkg_legacy/skimmed_bkg_2018_ZJets.json']\n"
     ]
    }
   ],
   "source": [
    "bkg_configs = glob.glob(\"./sample_configs/skimmed_bkg_legacy/skimmed_bkg*.json\")\n",
    "print(bkg_configs)"
   ]
  },
  {
   "cell_type": "code",
   "execution_count": 4,
   "id": "8e00df5e-8b8d-44bc-836e-f340ff6a2d2b",
   "metadata": {},
   "outputs": [],
   "source": [
    "histos_config = \"./histo_configs/BDTvariables.py\" # old histogramming framework"
   ]
  },
  {
   "cell_type": "code",
   "execution_count": 7,
   "id": "005d9eb7-5bfb-473d-acaf-5aaabf95fff9",
   "metadata": {
    "scrolled": true
   },
   "outputs": [
    {
     "name": "stdout",
     "output_type": "stream",
     "text": [
      "bkg_2018_Diboson\n"
     ]
    },
    {
     "data": {
      "application/vnd.jupyter.widget-view+json": {
       "model_id": "96303cbad7234775b5e579d56ccf0405",
       "version_major": 2,
       "version_minor": 0
      },
      "text/plain": [
       "Output()"
      ]
     },
     "metadata": {},
     "output_type": "display_data"
    },
    {
     "data": {
      "text/html": [
       "<pre style=\"white-space:pre;overflow-x:auto;line-height:normal;font-family:Menlo,'DejaVu Sans Mono',consolas,'Courier New',monospace\"></pre>\n"
      ],
      "text/plain": []
     },
     "metadata": {},
     "output_type": "display_data"
    },
    {
     "data": {
      "text/html": [
       "<pre style=\"white-space:pre;overflow-x:auto;line-height:normal;font-family:Menlo,'DejaVu Sans Mono',consolas,'Courier New',monospace\">\n",
       "</pre>\n"
      ],
      "text/plain": [
       "\n"
      ]
     },
     "metadata": {},
     "output_type": "display_data"
    },
    {
     "data": {
      "application/vnd.jupyter.widget-view+json": {
       "model_id": "92197486836b4e04adc0fad9142a02c2",
       "version_major": 2,
       "version_minor": 0
      },
      "text/plain": [
       "Output()"
      ]
     },
     "metadata": {},
     "output_type": "display_data"
    },
    {
     "name": "stdout",
     "output_type": "stream",
     "text": [
      "BDT Pass: 0/17\n",
      "BDT Pass: 0/22\n",
      "BDT Pass: 0/17\n",
      "BDT Pass: 0/31\n",
      "BDT Pass: 0/13\n",
      "BDT Pass: 0/15\n",
      "BDT Pass: 0/6\n"
     ]
    },
    {
     "data": {
      "text/html": [
       "<pre style=\"white-space:pre;overflow-x:auto;line-height:normal;font-family:Menlo,'DejaVu Sans Mono',consolas,'Courier New',monospace\"></pre>\n"
      ],
      "text/plain": []
     },
     "metadata": {},
     "output_type": "display_data"
    },
    {
     "data": {
      "text/html": [
       "<pre style=\"white-space:pre;overflow-x:auto;line-height:normal;font-family:Menlo,'DejaVu Sans Mono',consolas,'Courier New',monospace\">\n",
       "</pre>\n"
      ],
      "text/plain": [
       "\n"
      ]
     },
     "metadata": {},
     "output_type": "display_data"
    },
    {
     "name": "stdout",
     "output_type": "stream",
     "text": [
      "Runtime: 0.53 minutes\n",
      "bkg_2018_DY\n"
     ]
    },
    {
     "data": {
      "application/vnd.jupyter.widget-view+json": {
       "model_id": "d08fba77bd4d4bc08c5180ada4a7a935",
       "version_major": 2,
       "version_minor": 0
      },
      "text/plain": [
       "Output()"
      ]
     },
     "metadata": {},
     "output_type": "display_data"
    },
    {
     "data": {
      "text/html": [
       "<pre style=\"white-space:pre;overflow-x:auto;line-height:normal;font-family:Menlo,'DejaVu Sans Mono',consolas,'Courier New',monospace\"></pre>\n"
      ],
      "text/plain": []
     },
     "metadata": {},
     "output_type": "display_data"
    },
    {
     "data": {
      "text/html": [
       "<pre style=\"white-space:pre;overflow-x:auto;line-height:normal;font-family:Menlo,'DejaVu Sans Mono',consolas,'Courier New',monospace\">\n",
       "</pre>\n"
      ],
      "text/plain": [
       "\n"
      ]
     },
     "metadata": {},
     "output_type": "display_data"
    },
    {
     "data": {
      "application/vnd.jupyter.widget-view+json": {
       "model_id": "dbda8c7c9e834b489ac2de023e6b5c42",
       "version_major": 2,
       "version_minor": 0
      },
      "text/plain": [
       "Output()"
      ]
     },
     "metadata": {},
     "output_type": "display_data"
    },
    {
     "name": "stdout",
     "output_type": "stream",
     "text": [
      "BDT Pass: 0/1\n",
      "BDT Pass: 0/2\n"
     ]
    },
    {
     "data": {
      "text/html": [
       "<pre style=\"white-space:pre;overflow-x:auto;line-height:normal;font-family:Menlo,'DejaVu Sans Mono',consolas,'Courier New',monospace\"></pre>\n"
      ],
      "text/plain": []
     },
     "metadata": {},
     "output_type": "display_data"
    },
    {
     "data": {
      "text/html": [
       "<pre style=\"white-space:pre;overflow-x:auto;line-height:normal;font-family:Menlo,'DejaVu Sans Mono',consolas,'Courier New',monospace\">\n",
       "</pre>\n"
      ],
      "text/plain": [
       "\n"
      ]
     },
     "metadata": {},
     "output_type": "display_data"
    },
    {
     "name": "stdout",
     "output_type": "stream",
     "text": [
      "Runtime: 0.96 minutes\n",
      "bkg_2018_QCD_TuneCP5_PSWeights\n"
     ]
    },
    {
     "data": {
      "application/vnd.jupyter.widget-view+json": {
       "model_id": "e8a2884c82fd480c97a073b1cf39f3c0",
       "version_major": 2,
       "version_minor": 0
      },
      "text/plain": [
       "Output()"
      ]
     },
     "metadata": {},
     "output_type": "display_data"
    },
    {
     "data": {
      "text/html": [
       "<pre style=\"white-space:pre;overflow-x:auto;line-height:normal;font-family:Menlo,'DejaVu Sans Mono',consolas,'Courier New',monospace\"></pre>\n"
      ],
      "text/plain": []
     },
     "metadata": {},
     "output_type": "display_data"
    },
    {
     "data": {
      "text/html": [
       "<pre style=\"white-space:pre;overflow-x:auto;line-height:normal;font-family:Menlo,'DejaVu Sans Mono',consolas,'Courier New',monospace\">\n",
       "</pre>\n"
      ],
      "text/plain": [
       "\n"
      ]
     },
     "metadata": {},
     "output_type": "display_data"
    },
    {
     "data": {
      "application/vnd.jupyter.widget-view+json": {
       "model_id": "045cd928ade04e45b9257dd6d53cb80e",
       "version_major": 2,
       "version_minor": 0
      },
      "text/plain": [
       "Output()"
      ]
     },
     "metadata": {},
     "output_type": "display_data"
    },
    {
     "name": "stdout",
     "output_type": "stream",
     "text": [
      "BDT Pass: 0/1\n",
      "BDT Pass: 0/1\n"
     ]
    },
    {
     "data": {
      "text/html": [
       "<pre style=\"white-space:pre;overflow-x:auto;line-height:normal;font-family:Menlo,'DejaVu Sans Mono',consolas,'Courier New',monospace\"></pre>\n"
      ],
      "text/plain": []
     },
     "metadata": {},
     "output_type": "display_data"
    },
    {
     "data": {
      "text/html": [
       "<pre style=\"white-space:pre;overflow-x:auto;line-height:normal;font-family:Menlo,'DejaVu Sans Mono',consolas,'Courier New',monospace\">\n",
       "</pre>\n"
      ],
      "text/plain": [
       "\n"
      ]
     },
     "metadata": {},
     "output_type": "display_data"
    },
    {
     "name": "stdout",
     "output_type": "stream",
     "text": [
      "Runtime: 1.48 minutes\n",
      "bkg_2018_Top\n"
     ]
    },
    {
     "data": {
      "application/vnd.jupyter.widget-view+json": {
       "model_id": "268e7a7b68dc4eea9cd722e1d1de7bae",
       "version_major": 2,
       "version_minor": 0
      },
      "text/plain": [
       "Output()"
      ]
     },
     "metadata": {},
     "output_type": "display_data"
    },
    {
     "data": {
      "text/html": [
       "<pre style=\"white-space:pre;overflow-x:auto;line-height:normal;font-family:Menlo,'DejaVu Sans Mono',consolas,'Courier New',monospace\"></pre>\n"
      ],
      "text/plain": []
     },
     "metadata": {},
     "output_type": "display_data"
    },
    {
     "data": {
      "text/html": [
       "<pre style=\"white-space:pre;overflow-x:auto;line-height:normal;font-family:Menlo,'DejaVu Sans Mono',consolas,'Courier New',monospace\">\n",
       "</pre>\n"
      ],
      "text/plain": [
       "\n"
      ]
     },
     "metadata": {},
     "output_type": "display_data"
    },
    {
     "data": {
      "application/vnd.jupyter.widget-view+json": {
       "model_id": "13a323be666e4362a187049681c7ada2",
       "version_major": 2,
       "version_minor": 0
      },
      "text/plain": [
       "Output()"
      ]
     },
     "metadata": {},
     "output_type": "display_data"
    },
    {
     "name": "stdout",
     "output_type": "stream",
     "text": [
      "BDT Pass: 0/7\n",
      "BDT Pass: 0/1\n",
      "BDT Pass: 0/4\n",
      "BDT Pass: 0/4\n",
      "BDT Pass: 0/1\n",
      "BDT Pass: 0/1\n",
      "BDT Pass: 0/4\n",
      "BDT Pass: 0/5\n",
      "BDT Pass: 0/6\n",
      "BDT Pass: 0/6\n",
      "BDT Pass: 0/5\n",
      "BDT Pass: 0/5\n",
      "BDT Pass: 0/3\n",
      "BDT Pass: 0/4\n",
      "BDT Pass: 0/6\n",
      "BDT Pass: 0/1\n",
      "BDT Pass: 0/6\n",
      "BDT Pass: 0/9\n",
      "BDT Pass: 0/2\n",
      "\n",
      "BDT Pass: 0/7BDT Pass: 0/5\n",
      "BDT Pass: 0/3\n",
      "BDT Pass: 0/2\n",
      "BDT Pass: 0/1\n",
      "BDT Pass: 0/3\n",
      "BDT Pass: 0/2\n",
      "BDT Pass: 0/9\n",
      "BDT Pass: 0/6\n",
      "BDT Pass: 0/15\n",
      "BDT Pass: 0/11BDT Pass: 0/2\n",
      "BDT Pass: 0/4\n",
      "BDT Pass: 0/1\n",
      "BDT Pass: 0/2\n",
      "BDT Pass: 0/5\n",
      "BDT Pass: 0/4\n",
      "BDT Pass: 0/2\n",
      "BDT Pass: 0/8\n",
      "BDT Pass: 0/6\n",
      "BDT Pass: 0/4BDT Pass: 0/2\n",
      "\n",
      "BDT Pass: 0/5\n",
      "BDT Pass: 0/14\n",
      "BDT Pass: 0/9\n",
      "\n",
      "BDT Pass: 0/9\n",
      "BDT Pass: 0/1\n",
      "BDT Pass: 0/2\n",
      "BDT Pass: 0/2\n",
      "BDT Pass: 0/2\n",
      "BDT Pass: 0/2\n",
      "BDT Pass: 0/3\n",
      "BDT Pass: 0/5BDT Pass: 0/9\n",
      "BDT Pass: 0/3\n",
      "BDT Pass: 0/6\n",
      "BDT Pass: 0/2\n",
      "BDT Pass: 0/1\n",
      "BDT Pass: 0/3\n",
      "BDT Pass: 0/4\n",
      "\n",
      "BDT Pass: 0/2\n",
      "BDT Pass: 0/11\n",
      "BDT Pass: 0/4\n",
      "BDT Pass: 0/3\n",
      "BDT Pass: 0/2\n",
      "BDT Pass: 0/1\n",
      "BDT Pass: 0/1\n",
      "BDT Pass: 0/2\n",
      "BDT Pass: 0/10\n",
      "BDT Pass: 0/1\n",
      "BDT Pass: 0/6\n",
      "BDT Pass: 0/6\n",
      "BDT Pass: 0/6\n",
      "BDT Pass: 0/7\n",
      "BDT Pass: 0/2\n",
      "BDT Pass: 0/3\n"
     ]
    },
    {
     "data": {
      "text/html": [
       "<pre style=\"white-space:pre;overflow-x:auto;line-height:normal;font-family:Menlo,'DejaVu Sans Mono',consolas,'Courier New',monospace\"></pre>\n"
      ],
      "text/plain": []
     },
     "metadata": {},
     "output_type": "display_data"
    },
    {
     "data": {
      "text/html": [
       "<pre style=\"white-space:pre;overflow-x:auto;line-height:normal;font-family:Menlo,'DejaVu Sans Mono',consolas,'Courier New',monospace\">\n",
       "</pre>\n"
      ],
      "text/plain": [
       "\n"
      ]
     },
     "metadata": {},
     "output_type": "display_data"
    },
    {
     "name": "stdout",
     "output_type": "stream",
     "text": [
      "Runtime: 5.06 minutes\n",
      "bkg_2018_Triboson\n"
     ]
    },
    {
     "data": {
      "application/vnd.jupyter.widget-view+json": {
       "model_id": "47e6a31904c34e4b85378fe3340f10fc",
       "version_major": 2,
       "version_minor": 0
      },
      "text/plain": [
       "Output()"
      ]
     },
     "metadata": {},
     "output_type": "display_data"
    },
    {
     "data": {
      "text/html": [
       "<pre style=\"white-space:pre;overflow-x:auto;line-height:normal;font-family:Menlo,'DejaVu Sans Mono',consolas,'Courier New',monospace\"></pre>\n"
      ],
      "text/plain": []
     },
     "metadata": {},
     "output_type": "display_data"
    },
    {
     "data": {
      "text/html": [
       "<pre style=\"white-space:pre;overflow-x:auto;line-height:normal;font-family:Menlo,'DejaVu Sans Mono',consolas,'Courier New',monospace\">\n",
       "</pre>\n"
      ],
      "text/plain": [
       "\n"
      ]
     },
     "metadata": {},
     "output_type": "display_data"
    },
    {
     "data": {
      "application/vnd.jupyter.widget-view+json": {
       "model_id": "6967c3d1afc640a28e0a83291dfe3a43",
       "version_major": 2,
       "version_minor": 0
      },
      "text/plain": [
       "Output()"
      ]
     },
     "metadata": {},
     "output_type": "display_data"
    },
    {
     "name": "stdout",
     "output_type": "stream",
     "text": [
      "BDT Pass: 0/4\n",
      "BDT Pass: 0/3\n",
      "BDT Pass: 0/1\n",
      "BDT Pass: 0/5\n"
     ]
    },
    {
     "data": {
      "text/html": [
       "<pre style=\"white-space:pre;overflow-x:auto;line-height:normal;font-family:Menlo,'DejaVu Sans Mono',consolas,'Courier New',monospace\"></pre>\n"
      ],
      "text/plain": []
     },
     "metadata": {},
     "output_type": "display_data"
    },
    {
     "data": {
      "text/html": [
       "<pre style=\"white-space:pre;overflow-x:auto;line-height:normal;font-family:Menlo,'DejaVu Sans Mono',consolas,'Courier New',monospace\">\n",
       "</pre>\n"
      ],
      "text/plain": [
       "\n"
      ]
     },
     "metadata": {},
     "output_type": "display_data"
    },
    {
     "name": "stdout",
     "output_type": "stream",
     "text": [
      "Runtime: 0.38 minutes\n",
      "bkg_2018_TTJetsDiLept\n",
      "bkg_2018_WJets\n"
     ]
    },
    {
     "data": {
      "application/vnd.jupyter.widget-view+json": {
       "model_id": "0a50b57da55449bd8de96b37770c19eb",
       "version_major": 2,
       "version_minor": 0
      },
      "text/plain": [
       "Output()"
      ]
     },
     "metadata": {},
     "output_type": "display_data"
    },
    {
     "data": {
      "text/html": [
       "<pre style=\"white-space:pre;overflow-x:auto;line-height:normal;font-family:Menlo,'DejaVu Sans Mono',consolas,'Courier New',monospace\"></pre>\n"
      ],
      "text/plain": []
     },
     "metadata": {},
     "output_type": "display_data"
    },
    {
     "data": {
      "text/html": [
       "<pre style=\"white-space:pre;overflow-x:auto;line-height:normal;font-family:Menlo,'DejaVu Sans Mono',consolas,'Courier New',monospace\">\n",
       "</pre>\n"
      ],
      "text/plain": [
       "\n"
      ]
     },
     "metadata": {},
     "output_type": "display_data"
    },
    {
     "data": {
      "application/vnd.jupyter.widget-view+json": {
       "model_id": "6d6b39998fe447baaafed3a7b8e71ba5",
       "version_major": 2,
       "version_minor": 0
      },
      "text/plain": [
       "Output()"
      ]
     },
     "metadata": {},
     "output_type": "display_data"
    },
    {
     "name": "stdout",
     "output_type": "stream",
     "text": [
      "BDT Pass: 0/6\n",
      "BDT Pass: 0/17\n",
      "BDT Pass: 1/91\n",
      "BDT Pass: 1/88\n",
      "\n",
      "BDT Pass: 0/40\n",
      "BDT Pass: 0/15\n",
      "\n",
      "BDT Pass: 0/47BDT Pass: 0/44\n",
      "BDT Pass: 0/43\n",
      "\n",
      "BDT Pass: 0/25\n",
      "BDT Pass: 0/20\n",
      "BDT Pass: 0/34\n",
      "\n",
      "BDT Pass: 1/204\n",
      "BDT Pass: 1/61\n",
      "BDT Pass: 0/183\n",
      "BDT Pass: 0/51\n",
      "BDT Pass: 0/67\n",
      "BDT Pass: 0/67\n",
      "BDT Pass: 4/400\n",
      "BDT Pass: 5/496\n",
      "BDT Pass: 2/499\n",
      "BDT Pass: 0/144\n",
      "BDT Pass: 2/62BDT Pass: 0/67\n",
      "BDT Pass: 0/50\n",
      "BDT Pass: 0/52\n",
      "BDT Pass: 0/249\n",
      "BDT Pass: 1/43\n",
      "BDT Pass: 3/509\n",
      "BDT Pass: 0/34\n",
      "BDT Pass: 2/443\n",
      "BDT Pass: 1/25\n",
      "BDT Pass: 0/75\n",
      "BDT Pass: 1/109\n",
      "BDT Pass: 1/47\n",
      "BDT Pass: 0/59\n"
     ]
    },
    {
     "data": {
      "text/html": [
       "<pre style=\"white-space:pre;overflow-x:auto;line-height:normal;font-family:Menlo,'DejaVu Sans Mono',consolas,'Courier New',monospace\"></pre>\n"
      ],
      "text/plain": []
     },
     "metadata": {},
     "output_type": "display_data"
    },
    {
     "data": {
      "text/html": [
       "<pre style=\"white-space:pre;overflow-x:auto;line-height:normal;font-family:Menlo,'DejaVu Sans Mono',consolas,'Courier New',monospace\">\n",
       "</pre>\n"
      ],
      "text/plain": [
       "\n"
      ]
     },
     "metadata": {},
     "output_type": "display_data"
    },
    {
     "name": "stdout",
     "output_type": "stream",
     "text": [
      "Runtime: 3.22 minutes\n",
      "bkg_2018_ZJets\n"
     ]
    },
    {
     "data": {
      "application/vnd.jupyter.widget-view+json": {
       "model_id": "ce6798cf8f764ebfb5ae94e69c98eaa8",
       "version_major": 2,
       "version_minor": 0
      },
      "text/plain": [
       "Output()"
      ]
     },
     "metadata": {},
     "output_type": "display_data"
    },
    {
     "data": {
      "text/html": [
       "<pre style=\"white-space:pre;overflow-x:auto;line-height:normal;font-family:Menlo,'DejaVu Sans Mono',consolas,'Courier New',monospace\"></pre>\n"
      ],
      "text/plain": []
     },
     "metadata": {},
     "output_type": "display_data"
    },
    {
     "data": {
      "text/html": [
       "<pre style=\"white-space:pre;overflow-x:auto;line-height:normal;font-family:Menlo,'DejaVu Sans Mono',consolas,'Courier New',monospace\">\n",
       "</pre>\n"
      ],
      "text/plain": [
       "\n"
      ]
     },
     "metadata": {},
     "output_type": "display_data"
    },
    {
     "data": {
      "application/vnd.jupyter.widget-view+json": {
       "model_id": "8b0e7fdb11f34bde90ca94d6d7efd303",
       "version_major": 2,
       "version_minor": 0
      },
      "text/plain": [
       "Output()"
      ]
     },
     "metadata": {},
     "output_type": "display_data"
    },
    {
     "name": "stdout",
     "output_type": "stream",
     "text": [
      "BDT Pass: 0/11\n",
      "BDT Pass: 1/128\n",
      "BDT Pass: 0/129\n",
      "BDT Pass: 0/80\n",
      "BDT Pass: 0/51\n",
      "BDT Pass: 0/89\n",
      "BDT Pass: 0/62\n",
      "BDT Pass: 2/596\n",
      "BDT Pass: 2/860\n",
      "BDT Pass: 1/1428\n",
      "BDT Pass: 1/1100\n",
      "BDT Pass: 1/1407\n",
      "BDT Pass: 3/654\n",
      "BDT Pass: 0/2\n",
      "BDT Pass: 0/684\n",
      "BDT Pass: 0/126\n",
      "BDT Pass: 1/557\n",
      "BDT Pass: 0/564\n",
      "BDT Pass: 1/255\n",
      "BDT Pass: 3/867\n",
      "BDT Pass: 1/752\n",
      "BDT Pass: 2/796\n"
     ]
    },
    {
     "data": {
      "text/html": [
       "<pre style=\"white-space:pre;overflow-x:auto;line-height:normal;font-family:Menlo,'DejaVu Sans Mono',consolas,'Courier New',monospace\"></pre>\n"
      ],
      "text/plain": []
     },
     "metadata": {},
     "output_type": "display_data"
    },
    {
     "data": {
      "text/html": [
       "<pre style=\"white-space:pre;overflow-x:auto;line-height:normal;font-family:Menlo,'DejaVu Sans Mono',consolas,'Courier New',monospace\">\n",
       "</pre>\n"
      ],
      "text/plain": [
       "\n"
      ]
     },
     "metadata": {},
     "output_type": "display_data"
    },
    {
     "name": "stdout",
     "output_type": "stream",
     "text": [
      "Runtime: 2.13 minutes\n"
     ]
    }
   ],
   "source": [
    "runAnalyzer = True\n",
    "\n",
    "for bkg in bkg_configs:\n",
    "    process = bkg.split('/')[-1].split('.json')[0].split('skimmed_')[-1]\n",
    "    print(process)\n",
    "\n",
    "    if 'TTJetsDiLept' in bkg: # currently not available ntuples\n",
    "        continue\n",
    "\n",
    "    #if 'Top' in bkg:\n",
    "    #    runAnalyzer = True\n",
    "\n",
    "    if runAnalyzer:\n",
    "        test = Analyzer(bkg,histos_config,cuts_config)\n",
    "                \n",
    "        t1 = time.time()\n",
    "        out = test.process(execr='futures')\n",
    "        t2 = time.time()\n",
    "                \n",
    "        print(\"Runtime: {:.2f} minutes\".format((t2-t1)/60))\n",
    "        util.save(out,f\"{outdir}/{process}_AOD_OldXclean.coffea\")\n",
    "        del out, test"
   ]
  },
  {
   "cell_type": "code",
   "execution_count": null,
   "id": "9fbcffad-c45e-4597-92b7-b1190f39503c",
   "metadata": {},
   "outputs": [],
   "source": []
  },
  {
   "cell_type": "code",
   "execution_count": null,
   "id": "98372d62-c2e8-4336-8260-1908b28b8b15",
   "metadata": {},
   "outputs": [],
   "source": []
  }
 ],
 "metadata": {
  "kernelspec": {
   "display_name": "Python 3 (ipykernel)",
   "language": "python",
   "name": "python3"
  },
  "language_info": {
   "codemirror_mode": {
    "name": "ipython",
    "version": 3
   },
   "file_extension": ".py",
   "mimetype": "text/x-python",
   "name": "python",
   "nbconvert_exporter": "python",
   "pygments_lexer": "ipython3",
   "version": "3.8.17"
  }
 },
 "nbformat": 4,
 "nbformat_minor": 5
}
