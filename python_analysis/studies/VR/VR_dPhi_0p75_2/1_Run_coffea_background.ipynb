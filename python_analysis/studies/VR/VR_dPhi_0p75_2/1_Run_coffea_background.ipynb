{
 "cells": [
  {
   "cell_type": "code",
   "execution_count": 1,
   "id": "e94963cd-6dd7-44cd-9e04-b15d8ada688c",
   "metadata": {},
   "outputs": [],
   "source": [
    "%load_ext autoreload\n",
    "%autoreload 2\n",
    "import uproot\n",
    "import numpy as np\n",
    "import matplotlib.pyplot as plt\n",
    "import awkward as ak\n",
    "import sys\n",
    "sys.path.append(\"../../analysisTools/\")\n",
    "from analysisTools import Analyzer\n",
    "from analysisTools import loadSchema\n",
    "import analysisTools as tools\n",
    "import analysisSubroutines as routines\n",
    "import plotTools as ptools\n",
    "import utils\n",
    "import importlib\n",
    "import coffea.util as util\n",
    "import time\n",
    "import json\n",
    "import os\n",
    "import glob\n",
    "import pandas as pd"
   ]
  },
  {
   "cell_type": "code",
   "execution_count": 2,
   "id": "80730354-47ca-4b54-8913-832f3a6fcbe7",
   "metadata": {},
   "outputs": [
    {
     "data": {
      "text/plain": [
       "0"
      ]
     },
     "execution_count": 2,
     "metadata": {},
     "output_type": "execute_result"
    }
   ],
   "source": [
    "outdir = \"./coffea/\"\n",
    "os.system(f'mkdir -p {outdir}')"
   ]
  },
  {
   "cell_type": "markdown",
   "id": "7239900a-5708-42ba-801b-38a0edd23518",
   "metadata": {},
   "source": [
    "## VR"
   ]
  },
  {
   "cell_type": "code",
   "execution_count": 3,
   "id": "de587b56-297f-46fd-ae68-1bc951f3b855",
   "metadata": {},
   "outputs": [],
   "source": [
    "cuts_config = \"./cut_configs/VR.py\""
   ]
  },
  {
   "cell_type": "code",
   "execution_count": 4,
   "id": "e32fad6a-c32e-4492-88e1-abb4c29831fc",
   "metadata": {},
   "outputs": [],
   "source": [
    "#histos_config = \"./histo_configs/histos.py\" # new histogramming framework\n",
    "histos_config = \"./histo_configs/histo_VR.py\" # old histogramming framework"
   ]
  },
  {
   "cell_type": "markdown",
   "id": "765fb997-fdee-4b80-968c-69f7658fc0f7",
   "metadata": {},
   "source": [
    "### Data"
   ]
  },
  {
   "cell_type": "code",
   "execution_count": 5,
   "id": "7089cad6-f7ee-4f99-adfe-b78ec0f102c5",
   "metadata": {},
   "outputs": [],
   "source": [
    "sample_config = \"./sample_configs/skimmed_data_2018_MET_v1.json\""
   ]
  },
  {
   "cell_type": "code",
   "execution_count": 6,
   "id": "e839a881-6de3-4b19-85d1-a0e252ad8f48",
   "metadata": {},
   "outputs": [
    {
     "data": {
      "application/vnd.jupyter.widget-view+json": {
       "model_id": "8acbc77ac6b64d4abaa32b4b0bb00e1b",
       "version_major": 2,
       "version_minor": 0
      },
      "text/plain": [
       "Output()"
      ]
     },
     "metadata": {},
     "output_type": "display_data"
    },
    {
     "data": {
      "text/html": [
       "<pre style=\"white-space:pre;overflow-x:auto;line-height:normal;font-family:Menlo,'DejaVu Sans Mono',consolas,'Courier New',monospace\"></pre>\n"
      ],
      "text/plain": []
     },
     "metadata": {},
     "output_type": "display_data"
    },
    {
     "data": {
      "text/html": [
       "<pre style=\"white-space:pre;overflow-x:auto;line-height:normal;font-family:Menlo,'DejaVu Sans Mono',consolas,'Courier New',monospace\">\n",
       "</pre>\n"
      ],
      "text/plain": [
       "\n"
      ]
     },
     "metadata": {},
     "output_type": "display_data"
    },
    {
     "data": {
      "application/vnd.jupyter.widget-view+json": {
       "model_id": "69ada800c4dc48cfa4edc42ca2b8bbc2",
       "version_major": 2,
       "version_minor": 0
      },
      "text/plain": [
       "Output()"
      ]
     },
     "metadata": {},
     "output_type": "display_data"
    },
    {
     "data": {
      "text/html": [
       "<pre style=\"white-space:pre;overflow-x:auto;line-height:normal;font-family:Menlo,'DejaVu Sans Mono',consolas,'Courier New',monospace\"></pre>\n"
      ],
      "text/plain": []
     },
     "metadata": {},
     "output_type": "display_data"
    },
    {
     "data": {
      "text/html": [
       "<pre style=\"white-space:pre;overflow-x:auto;line-height:normal;font-family:Menlo,'DejaVu Sans Mono',consolas,'Courier New',monospace\">\n",
       "</pre>\n"
      ],
      "text/plain": [
       "\n"
      ]
     },
     "metadata": {},
     "output_type": "display_data"
    },
    {
     "name": "stdout",
     "output_type": "stream",
     "text": [
      "Runtime: 1.08 minutes\n"
     ]
    }
   ],
   "source": [
    "test = Analyzer(sample_config, histos_config, cuts_config)\n",
    "t1 = time.time()\n",
    "out = test.process(execr='futures', workers=4)\n",
    "t2 = time.time()\n",
    "print(f\"Runtime: {(t2-t1)/60:.2f} minutes\")\n",
    "util.save(out,f\"{outdir}/data_VR.coffea\")\n",
    "del out, test"
   ]
  },
  {
   "cell_type": "markdown",
   "id": "df64c715-cc6b-42ca-9b0f-814a91d49174",
   "metadata": {},
   "source": [
    "### Background"
   ]
  },
  {
   "cell_type": "code",
   "execution_count": 7,
   "id": "c385824c-f76d-411c-84d9-bffe5bdb039d",
   "metadata": {},
   "outputs": [],
   "source": [
    "sample_config = \"./sample_configs/skimmed_bkg_2018_v7_miniAOD.json\""
   ]
  },
  {
   "cell_type": "code",
   "execution_count": 8,
   "id": "59c858ed-0ef1-4704-92f7-ab3be2a94b2d",
   "metadata": {},
   "outputs": [
    {
     "data": {
      "application/vnd.jupyter.widget-view+json": {
       "model_id": "5f79011185444211b472c786fca82eeb",
       "version_major": 2,
       "version_minor": 0
      },
      "text/plain": [
       "Output()"
      ]
     },
     "metadata": {},
     "output_type": "display_data"
    },
    {
     "data": {
      "text/html": [
       "<pre style=\"white-space:pre;overflow-x:auto;line-height:normal;font-family:Menlo,'DejaVu Sans Mono',consolas,'Courier New',monospace\"></pre>\n"
      ],
      "text/plain": []
     },
     "metadata": {},
     "output_type": "display_data"
    },
    {
     "data": {
      "text/html": [
       "<pre style=\"white-space:pre;overflow-x:auto;line-height:normal;font-family:Menlo,'DejaVu Sans Mono',consolas,'Courier New',monospace\">\n",
       "</pre>\n"
      ],
      "text/plain": [
       "\n"
      ]
     },
     "metadata": {},
     "output_type": "display_data"
    },
    {
     "data": {
      "application/vnd.jupyter.widget-view+json": {
       "model_id": "c18e9e1808104429b2b6c425807c9810",
       "version_major": 2,
       "version_minor": 0
      },
      "text/plain": [
       "Output()"
      ]
     },
     "metadata": {},
     "output_type": "display_data"
    },
    {
     "data": {
      "text/html": [
       "<pre style=\"white-space:pre;overflow-x:auto;line-height:normal;font-family:Menlo,'DejaVu Sans Mono',consolas,'Courier New',monospace\"></pre>\n"
      ],
      "text/plain": []
     },
     "metadata": {},
     "output_type": "display_data"
    },
    {
     "data": {
      "text/html": [
       "<pre style=\"white-space:pre;overflow-x:auto;line-height:normal;font-family:Menlo,'DejaVu Sans Mono',consolas,'Courier New',monospace\">\n",
       "</pre>\n"
      ],
      "text/plain": [
       "\n"
      ]
     },
     "metadata": {},
     "output_type": "display_data"
    },
    {
     "name": "stdout",
     "output_type": "stream",
     "text": [
      "Runtime: 1.70 minutes\n"
     ]
    }
   ],
   "source": [
    "test = Analyzer(sample_config, histos_config, cuts_config)\n",
    "t1 = time.time()\n",
    "out = test.process(execr='futures', workers=4)\n",
    "t2 = time.time()\n",
    "print(f\"Runtime: {(t2-t1)/60:.2f} minutes\")\n",
    "util.save(out,f\"{outdir}/background_VR.coffea\")\n",
    "del out, test"
   ]
  },
  {
   "cell_type": "markdown",
   "id": "53b3cde7-1edd-48f7-bc6d-aea7ea45c7ef",
   "metadata": {},
   "source": [
    "### Signal"
   ]
  },
  {
   "cell_type": "code",
   "execution_count": 9,
   "id": "679eaa21-7b22-4e95-b1ff-4c16ce1c07c6",
   "metadata": {},
   "outputs": [],
   "source": [
    "sample_config = \"./sample_configs/skimmed_signal_v9_miniAOD_2018_aEM.json\" # v9 signal; MINIAOD & new cross-cleaning & new xsec"
   ]
  },
  {
   "cell_type": "code",
   "execution_count": 10,
   "id": "ee30d28f-006f-409d-8e19-5ea3c079f8b6",
   "metadata": {
    "scrolled": true
   },
   "outputs": [
    {
     "data": {
      "application/vnd.jupyter.widget-view+json": {
       "model_id": "3659e90c3bb74f59b10798c80df7494c",
       "version_major": 2,
       "version_minor": 0
      },
      "text/plain": [
       "Output()"
      ]
     },
     "metadata": {},
     "output_type": "display_data"
    },
    {
     "data": {
      "text/html": [
       "<pre style=\"white-space:pre;overflow-x:auto;line-height:normal;font-family:Menlo,'DejaVu Sans Mono',consolas,'Courier New',monospace\"></pre>\n"
      ],
      "text/plain": []
     },
     "metadata": {},
     "output_type": "display_data"
    },
    {
     "data": {
      "text/html": [
       "<pre style=\"white-space:pre;overflow-x:auto;line-height:normal;font-family:Menlo,'DejaVu Sans Mono',consolas,'Courier New',monospace\">\n",
       "</pre>\n"
      ],
      "text/plain": [
       "\n"
      ]
     },
     "metadata": {},
     "output_type": "display_data"
    },
    {
     "data": {
      "application/vnd.jupyter.widget-view+json": {
       "model_id": "19e8b1d687fb4d48915a2a00624bfdc7",
       "version_major": 2,
       "version_minor": 0
      },
      "text/plain": [
       "Output()"
      ]
     },
     "metadata": {},
     "output_type": "display_data"
    },
    {
     "name": "stderr",
     "output_type": "stream",
     "text": [
      "/uscms_data/d3/kyungmip/CMSSW_10_6_26/src/iDMe/python_analysis/studies/VR/../../analysisTools/analysisTools.py:323: RuntimeWarning: invalid value encountered in scalar divide\n",
      "  cutflow_vtx_matched[cutName] += ak.sum(vtx_matched_events.genWgt)/ak.sum(events.genWgt)\n",
      "/uscms_data/d3/kyungmip/CMSSW_10_6_26/src/iDMe/python_analysis/studies/VR/../../analysisTools/analysisTools.py:323: RuntimeWarning: invalid value encountered in scalar divide\n",
      "  cutflow_vtx_matched[cutName] += ak.sum(vtx_matched_events.genWgt)/ak.sum(events.genWgt)\n",
      "/uscms_data/d3/kyungmip/CMSSW_10_6_26/src/iDMe/python_analysis/studies/VR/../../analysisTools/analysisTools.py:323: RuntimeWarning: invalid value encountered in scalar divide\n",
      "  cutflow_vtx_matched[cutName] += ak.sum(vtx_matched_events.genWgt)/ak.sum(events.genWgt)\n",
      "/uscms_data/d3/kyungmip/CMSSW_10_6_26/src/iDMe/python_analysis/studies/VR/../../analysisTools/analysisTools.py:323: RuntimeWarning: invalid value encountered in scalar divide\n",
      "  cutflow_vtx_matched[cutName] += ak.sum(vtx_matched_events.genWgt)/ak.sum(events.genWgt)\n",
      "/uscms_data/d3/kyungmip/CMSSW_10_6_26/src/iDMe/python_analysis/studies/VR/../../analysisTools/analysisTools.py:323: RuntimeWarning: invalid value encountered in scalar divide\n",
      "  cutflow_vtx_matched[cutName] += ak.sum(vtx_matched_events.genWgt)/ak.sum(events.genWgt)\n",
      "/uscms_data/d3/kyungmip/CMSSW_10_6_26/src/iDMe/python_analysis/studies/VR/../../analysisTools/analysisTools.py:323: RuntimeWarning: invalid value encountered in scalar divide\n",
      "  cutflow_vtx_matched[cutName] += ak.sum(vtx_matched_events.genWgt)/ak.sum(events.genWgt)\n",
      "/uscms_data/d3/kyungmip/CMSSW_10_6_26/src/iDMe/python_analysis/studies/VR/../../analysisTools/analysisTools.py:323: RuntimeWarning: invalid value encountered in scalar divide\n",
      "  cutflow_vtx_matched[cutName] += ak.sum(vtx_matched_events.genWgt)/ak.sum(events.genWgt)\n",
      "/uscms_data/d3/kyungmip/CMSSW_10_6_26/src/iDMe/python_analysis/studies/VR/../../analysisTools/analysisTools.py:323: RuntimeWarning: invalid value encountered in scalar divide\n",
      "  cutflow_vtx_matched[cutName] += ak.sum(vtx_matched_events.genWgt)/ak.sum(events.genWgt)\n",
      "/uscms_data/d3/kyungmip/CMSSW_10_6_26/src/iDMe/python_analysis/studies/VR/../../analysisTools/analysisTools.py:323: RuntimeWarning: invalid value encountered in scalar divide\n",
      "  cutflow_vtx_matched[cutName] += ak.sum(vtx_matched_events.genWgt)/ak.sum(events.genWgt)\n",
      "/uscms_data/d3/kyungmip/CMSSW_10_6_26/src/iDMe/python_analysis/studies/VR/../../analysisTools/analysisTools.py:323: RuntimeWarning: invalid value encountered in scalar divide\n",
      "  cutflow_vtx_matched[cutName] += ak.sum(vtx_matched_events.genWgt)/ak.sum(events.genWgt)\n",
      "/uscms_data/d3/kyungmip/CMSSW_10_6_26/src/iDMe/python_analysis/studies/VR/../../analysisTools/analysisTools.py:323: RuntimeWarning: invalid value encountered in scalar divide\n",
      "  cutflow_vtx_matched[cutName] += ak.sum(vtx_matched_events.genWgt)/ak.sum(events.genWgt)\n",
      "/uscms_data/d3/kyungmip/CMSSW_10_6_26/src/iDMe/python_analysis/studies/VR/../../analysisTools/analysisTools.py:323: RuntimeWarning: invalid value encountered in scalar divide\n",
      "  cutflow_vtx_matched[cutName] += ak.sum(vtx_matched_events.genWgt)/ak.sum(events.genWgt)\n",
      "/uscms_data/d3/kyungmip/CMSSW_10_6_26/src/iDMe/python_analysis/studies/VR/../../analysisTools/analysisTools.py:323: RuntimeWarning: invalid value encountered in scalar divide\n",
      "  cutflow_vtx_matched[cutName] += ak.sum(vtx_matched_events.genWgt)/ak.sum(events.genWgt)\n",
      "/uscms_data/d3/kyungmip/CMSSW_10_6_26/src/iDMe/python_analysis/studies/VR/../../analysisTools/analysisTools.py:323: RuntimeWarning: invalid value encountered in scalar divide\n",
      "  cutflow_vtx_matched[cutName] += ak.sum(vtx_matched_events.genWgt)/ak.sum(events.genWgt)\n",
      "/uscms_data/d3/kyungmip/CMSSW_10_6_26/src/iDMe/python_analysis/studies/VR/../../analysisTools/analysisTools.py:323: RuntimeWarning: invalid value encountered in scalar divide\n",
      "  cutflow_vtx_matched[cutName] += ak.sum(vtx_matched_events.genWgt)/ak.sum(events.genWgt)\n",
      "/uscms_data/d3/kyungmip/CMSSW_10_6_26/src/iDMe/python_analysis/studies/VR/../../analysisTools/analysisTools.py:323: RuntimeWarning: invalid value encountered in scalar divide\n",
      "  cutflow_vtx_matched[cutName] += ak.sum(vtx_matched_events.genWgt)/ak.sum(events.genWgt)\n",
      "/uscms_data/d3/kyungmip/CMSSW_10_6_26/src/iDMe/python_analysis/studies/VR/../../analysisTools/analysisTools.py:323: RuntimeWarning: invalid value encountered in scalar divide\n",
      "  cutflow_vtx_matched[cutName] += ak.sum(vtx_matched_events.genWgt)/ak.sum(events.genWgt)\n",
      "/uscms_data/d3/kyungmip/CMSSW_10_6_26/src/iDMe/python_analysis/studies/VR/../../analysisTools/analysisTools.py:323: RuntimeWarning: invalid value encountered in scalar divide\n",
      "  cutflow_vtx_matched[cutName] += ak.sum(vtx_matched_events.genWgt)/ak.sum(events.genWgt)\n",
      "/uscms_data/d3/kyungmip/CMSSW_10_6_26/src/iDMe/python_analysis/studies/VR/../../analysisTools/analysisTools.py:323: RuntimeWarning: invalid value encountered in scalar divide\n",
      "  cutflow_vtx_matched[cutName] += ak.sum(vtx_matched_events.genWgt)/ak.sum(events.genWgt)\n",
      "/uscms_data/d3/kyungmip/CMSSW_10_6_26/src/iDMe/python_analysis/studies/VR/../../analysisTools/analysisTools.py:323: RuntimeWarning: invalid value encountered in scalar divide\n",
      "  cutflow_vtx_matched[cutName] += ak.sum(vtx_matched_events.genWgt)/ak.sum(events.genWgt)\n",
      "/uscms_data/d3/kyungmip/CMSSW_10_6_26/src/iDMe/python_analysis/studies/VR/../../analysisTools/analysisTools.py:323: RuntimeWarning: invalid value encountered in scalar divide\n",
      "  cutflow_vtx_matched[cutName] += ak.sum(vtx_matched_events.genWgt)/ak.sum(events.genWgt)\n",
      "/uscms_data/d3/kyungmip/CMSSW_10_6_26/src/iDMe/python_analysis/studies/VR/../../analysisTools/analysisTools.py:323: RuntimeWarning: invalid value encountered in scalar divide\n",
      "  cutflow_vtx_matched[cutName] += ak.sum(vtx_matched_events.genWgt)/ak.sum(events.genWgt)\n",
      "/uscms_data/d3/kyungmip/CMSSW_10_6_26/src/iDMe/python_analysis/studies/VR/../../analysisTools/analysisTools.py:323: RuntimeWarning: invalid value encountered in scalar divide\n",
      "  cutflow_vtx_matched[cutName] += ak.sum(vtx_matched_events.genWgt)/ak.sum(events.genWgt)\n",
      "/uscms_data/d3/kyungmip/CMSSW_10_6_26/src/iDMe/python_analysis/studies/VR/../../analysisTools/analysisTools.py:323: RuntimeWarning: invalid value encountered in scalar divide\n",
      "  cutflow_vtx_matched[cutName] += ak.sum(vtx_matched_events.genWgt)/ak.sum(events.genWgt)\n",
      "/uscms_data/d3/kyungmip/CMSSW_10_6_26/src/iDMe/python_analysis/studies/VR/../../analysisTools/analysisTools.py:323: RuntimeWarning: invalid value encountered in scalar divide\n",
      "  cutflow_vtx_matched[cutName] += ak.sum(vtx_matched_events.genWgt)/ak.sum(events.genWgt)\n",
      "/uscms_data/d3/kyungmip/CMSSW_10_6_26/src/iDMe/python_analysis/studies/VR/../../analysisTools/analysisTools.py:323: RuntimeWarning: invalid value encountered in scalar divide\n",
      "  cutflow_vtx_matched[cutName] += ak.sum(vtx_matched_events.genWgt)/ak.sum(events.genWgt)\n",
      "/uscms_data/d3/kyungmip/CMSSW_10_6_26/src/iDMe/python_analysis/studies/VR/../../analysisTools/analysisTools.py:323: RuntimeWarning: invalid value encountered in scalar divide\n",
      "  cutflow_vtx_matched[cutName] += ak.sum(vtx_matched_events.genWgt)/ak.sum(events.genWgt)\n",
      "/uscms_data/d3/kyungmip/CMSSW_10_6_26/src/iDMe/python_analysis/studies/VR/../../analysisTools/analysisTools.py:323: RuntimeWarning: invalid value encountered in scalar divide\n",
      "  cutflow_vtx_matched[cutName] += ak.sum(vtx_matched_events.genWgt)/ak.sum(events.genWgt)\n",
      "/uscms_data/d3/kyungmip/CMSSW_10_6_26/src/iDMe/python_analysis/studies/VR/../../analysisTools/analysisTools.py:323: RuntimeWarning: invalid value encountered in scalar divide\n",
      "  cutflow_vtx_matched[cutName] += ak.sum(vtx_matched_events.genWgt)/ak.sum(events.genWgt)\n",
      "/uscms_data/d3/kyungmip/CMSSW_10_6_26/src/iDMe/python_analysis/studies/VR/../../analysisTools/analysisTools.py:323: RuntimeWarning: invalid value encountered in scalar divide\n",
      "  cutflow_vtx_matched[cutName] += ak.sum(vtx_matched_events.genWgt)/ak.sum(events.genWgt)\n",
      "/uscms_data/d3/kyungmip/CMSSW_10_6_26/src/iDMe/python_analysis/studies/VR/../../analysisTools/analysisTools.py:323: RuntimeWarning: invalid value encountered in scalar divide\n",
      "  cutflow_vtx_matched[cutName] += ak.sum(vtx_matched_events.genWgt)/ak.sum(events.genWgt)\n",
      "/uscms_data/d3/kyungmip/CMSSW_10_6_26/src/iDMe/python_analysis/studies/VR/../../analysisTools/analysisTools.py:323: RuntimeWarning: invalid value encountered in scalar divide\n",
      "  cutflow_vtx_matched[cutName] += ak.sum(vtx_matched_events.genWgt)/ak.sum(events.genWgt)\n",
      "/uscms_data/d3/kyungmip/CMSSW_10_6_26/src/iDMe/python_analysis/studies/VR/../../analysisTools/analysisTools.py:323: RuntimeWarning: invalid value encountered in scalar divide\n",
      "  cutflow_vtx_matched[cutName] += ak.sum(vtx_matched_events.genWgt)/ak.sum(events.genWgt)\n",
      "/uscms_data/d3/kyungmip/CMSSW_10_6_26/src/iDMe/python_analysis/studies/VR/../../analysisTools/analysisTools.py:323: RuntimeWarning: invalid value encountered in scalar divide\n",
      "  cutflow_vtx_matched[cutName] += ak.sum(vtx_matched_events.genWgt)/ak.sum(events.genWgt)\n",
      "/uscms_data/d3/kyungmip/CMSSW_10_6_26/src/iDMe/python_analysis/studies/VR/../../analysisTools/analysisTools.py:323: RuntimeWarning: invalid value encountered in scalar divide\n",
      "  cutflow_vtx_matched[cutName] += ak.sum(vtx_matched_events.genWgt)/ak.sum(events.genWgt)\n",
      "/uscms_data/d3/kyungmip/CMSSW_10_6_26/src/iDMe/python_analysis/studies/VR/../../analysisTools/analysisTools.py:323: RuntimeWarning: invalid value encountered in scalar divide\n",
      "  cutflow_vtx_matched[cutName] += ak.sum(vtx_matched_events.genWgt)/ak.sum(events.genWgt)\n",
      "/uscms_data/d3/kyungmip/CMSSW_10_6_26/src/iDMe/python_analysis/studies/VR/../../analysisTools/analysisTools.py:323: RuntimeWarning: invalid value encountered in scalar divide\n",
      "  cutflow_vtx_matched[cutName] += ak.sum(vtx_matched_events.genWgt)/ak.sum(events.genWgt)\n",
      "/uscms_data/d3/kyungmip/CMSSW_10_6_26/src/iDMe/python_analysis/studies/VR/../../analysisTools/analysisTools.py:323: RuntimeWarning: invalid value encountered in scalar divide\n",
      "  cutflow_vtx_matched[cutName] += ak.sum(vtx_matched_events.genWgt)/ak.sum(events.genWgt)\n",
      "/uscms_data/d3/kyungmip/CMSSW_10_6_26/src/iDMe/python_analysis/studies/VR/../../analysisTools/analysisTools.py:323: RuntimeWarning: invalid value encountered in scalar divide\n",
      "  cutflow_vtx_matched[cutName] += ak.sum(vtx_matched_events.genWgt)/ak.sum(events.genWgt)\n",
      "/uscms_data/d3/kyungmip/CMSSW_10_6_26/src/iDMe/python_analysis/studies/VR/../../analysisTools/analysisTools.py:323: RuntimeWarning: invalid value encountered in scalar divide\n",
      "  cutflow_vtx_matched[cutName] += ak.sum(vtx_matched_events.genWgt)/ak.sum(events.genWgt)\n",
      "/uscms_data/d3/kyungmip/CMSSW_10_6_26/src/iDMe/python_analysis/studies/VR/../../analysisTools/analysisTools.py:323: RuntimeWarning: invalid value encountered in scalar divide\n",
      "  cutflow_vtx_matched[cutName] += ak.sum(vtx_matched_events.genWgt)/ak.sum(events.genWgt)\n",
      "/uscms_data/d3/kyungmip/CMSSW_10_6_26/src/iDMe/python_analysis/studies/VR/../../analysisTools/analysisTools.py:323: RuntimeWarning: invalid value encountered in scalar divide\n",
      "  cutflow_vtx_matched[cutName] += ak.sum(vtx_matched_events.genWgt)/ak.sum(events.genWgt)\n",
      "/uscms_data/d3/kyungmip/CMSSW_10_6_26/src/iDMe/python_analysis/studies/VR/../../analysisTools/analysisTools.py:323: RuntimeWarning: invalid value encountered in scalar divide\n",
      "  cutflow_vtx_matched[cutName] += ak.sum(vtx_matched_events.genWgt)/ak.sum(events.genWgt)\n",
      "/uscms_data/d3/kyungmip/CMSSW_10_6_26/src/iDMe/python_analysis/studies/VR/../../analysisTools/analysisTools.py:323: RuntimeWarning: invalid value encountered in scalar divide\n",
      "  cutflow_vtx_matched[cutName] += ak.sum(vtx_matched_events.genWgt)/ak.sum(events.genWgt)\n",
      "/uscms_data/d3/kyungmip/CMSSW_10_6_26/src/iDMe/python_analysis/studies/VR/../../analysisTools/analysisTools.py:323: RuntimeWarning: invalid value encountered in scalar divide\n",
      "  cutflow_vtx_matched[cutName] += ak.sum(vtx_matched_events.genWgt)/ak.sum(events.genWgt)\n",
      "/uscms_data/d3/kyungmip/CMSSW_10_6_26/src/iDMe/python_analysis/studies/VR/../../analysisTools/analysisTools.py:323: RuntimeWarning: invalid value encountered in scalar divide\n",
      "  cutflow_vtx_matched[cutName] += ak.sum(vtx_matched_events.genWgt)/ak.sum(events.genWgt)\n",
      "/uscms_data/d3/kyungmip/CMSSW_10_6_26/src/iDMe/python_analysis/studies/VR/../../analysisTools/analysisTools.py:323: RuntimeWarning: invalid value encountered in scalar divide\n",
      "  cutflow_vtx_matched[cutName] += ak.sum(vtx_matched_events.genWgt)/ak.sum(events.genWgt)\n",
      "/uscms_data/d3/kyungmip/CMSSW_10_6_26/src/iDMe/python_analysis/studies/VR/../../analysisTools/analysisTools.py:323: RuntimeWarning: invalid value encountered in scalar divide\n",
      "  cutflow_vtx_matched[cutName] += ak.sum(vtx_matched_events.genWgt)/ak.sum(events.genWgt)\n",
      "/uscms_data/d3/kyungmip/CMSSW_10_6_26/src/iDMe/python_analysis/studies/VR/../../analysisTools/analysisTools.py:323: RuntimeWarning: invalid value encountered in scalar divide\n",
      "  cutflow_vtx_matched[cutName] += ak.sum(vtx_matched_events.genWgt)/ak.sum(events.genWgt)\n",
      "/uscms_data/d3/kyungmip/CMSSW_10_6_26/src/iDMe/python_analysis/studies/VR/../../analysisTools/analysisTools.py:323: RuntimeWarning: invalid value encountered in scalar divide\n",
      "  cutflow_vtx_matched[cutName] += ak.sum(vtx_matched_events.genWgt)/ak.sum(events.genWgt)\n",
      "/uscms_data/d3/kyungmip/CMSSW_10_6_26/src/iDMe/python_analysis/studies/VR/../../analysisTools/analysisTools.py:323: RuntimeWarning: invalid value encountered in scalar divide\n",
      "  cutflow_vtx_matched[cutName] += ak.sum(vtx_matched_events.genWgt)/ak.sum(events.genWgt)\n",
      "/uscms_data/d3/kyungmip/CMSSW_10_6_26/src/iDMe/python_analysis/studies/VR/../../analysisTools/analysisTools.py:323: RuntimeWarning: invalid value encountered in scalar divide\n",
      "  cutflow_vtx_matched[cutName] += ak.sum(vtx_matched_events.genWgt)/ak.sum(events.genWgt)\n",
      "/uscms_data/d3/kyungmip/CMSSW_10_6_26/src/iDMe/python_analysis/studies/VR/../../analysisTools/analysisTools.py:323: RuntimeWarning: invalid value encountered in scalar divide\n",
      "  cutflow_vtx_matched[cutName] += ak.sum(vtx_matched_events.genWgt)/ak.sum(events.genWgt)\n",
      "/uscms_data/d3/kyungmip/CMSSW_10_6_26/src/iDMe/python_analysis/studies/VR/../../analysisTools/analysisTools.py:323: RuntimeWarning: invalid value encountered in scalar divide\n",
      "  cutflow_vtx_matched[cutName] += ak.sum(vtx_matched_events.genWgt)/ak.sum(events.genWgt)\n",
      "/uscms_data/d3/kyungmip/CMSSW_10_6_26/src/iDMe/python_analysis/studies/VR/../../analysisTools/analysisTools.py:323: RuntimeWarning: invalid value encountered in scalar divide\n",
      "  cutflow_vtx_matched[cutName] += ak.sum(vtx_matched_events.genWgt)/ak.sum(events.genWgt)\n",
      "/uscms_data/d3/kyungmip/CMSSW_10_6_26/src/iDMe/python_analysis/studies/VR/../../analysisTools/analysisTools.py:323: RuntimeWarning: invalid value encountered in scalar divide\n",
      "  cutflow_vtx_matched[cutName] += ak.sum(vtx_matched_events.genWgt)/ak.sum(events.genWgt)\n",
      "/uscms_data/d3/kyungmip/CMSSW_10_6_26/src/iDMe/python_analysis/studies/VR/../../analysisTools/analysisTools.py:323: RuntimeWarning: invalid value encountered in scalar divide\n",
      "  cutflow_vtx_matched[cutName] += ak.sum(vtx_matched_events.genWgt)/ak.sum(events.genWgt)\n",
      "/uscms_data/d3/kyungmip/CMSSW_10_6_26/src/iDMe/python_analysis/studies/VR/../../analysisTools/analysisTools.py:323: RuntimeWarning: invalid value encountered in scalar divide\n",
      "  cutflow_vtx_matched[cutName] += ak.sum(vtx_matched_events.genWgt)/ak.sum(events.genWgt)\n",
      "/uscms_data/d3/kyungmip/CMSSW_10_6_26/src/iDMe/python_analysis/studies/VR/../../analysisTools/analysisTools.py:323: RuntimeWarning: invalid value encountered in scalar divide\n",
      "  cutflow_vtx_matched[cutName] += ak.sum(vtx_matched_events.genWgt)/ak.sum(events.genWgt)\n",
      "/uscms_data/d3/kyungmip/CMSSW_10_6_26/src/iDMe/python_analysis/studies/VR/../../analysisTools/analysisTools.py:323: RuntimeWarning: invalid value encountered in scalar divide\n",
      "  cutflow_vtx_matched[cutName] += ak.sum(vtx_matched_events.genWgt)/ak.sum(events.genWgt)\n"
     ]
    },
    {
     "data": {
      "text/html": [
       "<pre style=\"white-space:pre;overflow-x:auto;line-height:normal;font-family:Menlo,'DejaVu Sans Mono',consolas,'Courier New',monospace\"></pre>\n"
      ],
      "text/plain": []
     },
     "metadata": {},
     "output_type": "display_data"
    },
    {
     "data": {
      "text/html": [
       "<pre style=\"white-space:pre;overflow-x:auto;line-height:normal;font-family:Menlo,'DejaVu Sans Mono',consolas,'Courier New',monospace\">\n",
       "</pre>\n"
      ],
      "text/plain": [
       "\n"
      ]
     },
     "metadata": {},
     "output_type": "display_data"
    },
    {
     "name": "stdout",
     "output_type": "stream",
     "text": [
      "Runtime: 2.36 minutes\n"
     ]
    }
   ],
   "source": [
    "test = Analyzer(sample_config, histos_config, cuts_config)\n",
    "t1 = time.time()\n",
    "out = test.process(execr='futures', workers=4)\n",
    "t2 = time.time()\n",
    "print(f\"Runtime: {(t2-t1)/60:.2f} minutes\")\n",
    "util.save(out,f\"{outdir}/signal_VR.coffea\")\n",
    "del out, test"
   ]
  },
  {
   "cell_type": "code",
   "execution_count": null,
   "id": "4d25baec-c26c-4964-94c0-3b891f5f9c9c",
   "metadata": {},
   "outputs": [],
   "source": []
  }
 ],
 "metadata": {
  "kernelspec": {
   "display_name": "Python 3 (ipykernel)",
   "language": "python",
   "name": "python3"
  },
  "language_info": {
   "codemirror_mode": {
    "name": "ipython",
    "version": 3
   },
   "file_extension": ".py",
   "mimetype": "text/x-python",
   "name": "python",
   "nbconvert_exporter": "python",
   "pygments_lexer": "ipython3",
   "version": "3.8.17"
  }
 },
 "nbformat": 4,
 "nbformat_minor": 5
}
