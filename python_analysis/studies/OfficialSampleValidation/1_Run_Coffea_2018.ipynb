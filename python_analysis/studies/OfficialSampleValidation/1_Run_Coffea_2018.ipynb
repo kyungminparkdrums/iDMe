{
 "cells": [
  {
   "cell_type": "code",
   "execution_count": 1,
   "id": "e669ba8e-d8ae-45e9-bdac-9dabb1da3557",
   "metadata": {},
   "outputs": [],
   "source": [
    "%load_ext autoreload\n",
    "%autoreload 2\n",
    "import numpy as np\n",
    "import matplotlib.pyplot as plt\n",
    "import awkward as ak\n",
    "import sys\n",
    "sys.path.append(\"../../analysisTools/\")\n",
    "from analysisTools import Analyzer\n",
    "from analysisTools import loadSchema\n",
    "import analysisTools as tools\n",
    "import analysisSubroutines as routines\n",
    "import importlib\n",
    "import coffea.util as util\n",
    "import time\n",
    "import json\n",
    "import os\n",
    "import glob"
   ]
  },
  {
   "cell_type": "code",
   "execution_count": null,
   "id": "6a68e4a5-fbb9-45fb-91f1-638ad84c22d1",
   "metadata": {},
   "outputs": [],
   "source": []
  },
  {
   "cell_type": "code",
   "execution_count": 2,
   "id": "c59aff4f-6762-4e07-957a-349d22652fad",
   "metadata": {},
   "outputs": [],
   "source": [
    "outdir = \"./coffea/\"\n",
    "if not os.path.isdir(outdir):\n",
    "    os.mkdir(outdir)"
   ]
  },
  {
   "cell_type": "code",
   "execution_count": 3,
   "id": "73201266-7873-48cb-b6b9-ea70e7703e5b",
   "metadata": {},
   "outputs": [],
   "source": [
    "outdir = \"./coffea/skimmed/\"\n",
    "if not os.path.isdir(outdir):\n",
    "    os.mkdir(outdir)"
   ]
  },
  {
   "cell_type": "code",
   "execution_count": 24,
   "id": "c72681ac-a0f5-402a-8a80-d5f17505b69c",
   "metadata": {},
   "outputs": [],
   "source": [
    "#cuts_config = \"./cut_configs/NoCut.py\"\n",
    "\n",
    "cuts_config = \"./cut_configs/BDT_ABCD_SR_unskimmed.py\"\n",
    "#histos_config = \"./histo_configs/histos_gen.py\"\n",
    "histos_config = \"./histo_configs/histos_SR.py\""
   ]
  },
  {
   "cell_type": "code",
   "execution_count": null,
   "id": "332c38ba-db6d-4cde-9e46-65c272ab7fee",
   "metadata": {},
   "outputs": [],
   "source": []
  },
  {
   "cell_type": "code",
   "execution_count": 25,
   "id": "428a1241-611c-4d36-bb91-3aaee2fd0ca7",
   "metadata": {},
   "outputs": [],
   "source": [
    "#outname = '2018_SR_goodVtx_none_NoNJet'\n",
    "#outname = '2018_NoCut_goodVtx_none_NoNJet'\n",
    "outname = '2018_SR_goodVtx_v27_NoNJet'"
   ]
  },
  {
   "cell_type": "markdown",
   "id": "d248ae59-1cd0-45e3-91a1-3462012c6a27",
   "metadata": {},
   "source": [
    "### Signal"
   ]
  },
  {
   "cell_type": "code",
   "execution_count": 15,
   "id": "e0ecc4e0-151c-408b-b400-381d1e1a973e",
   "metadata": {},
   "outputs": [],
   "source": [
    "#sample_config = \"./sample_configs/skimmed_signal_2018_10X_systematics.json\"\n",
    "#sample_config = \"./sample_configs/skimmed_signal_2018_official_MET200.json\"\n",
    "sample_config = \"./sample_configs/signal_2018_official_aEM_m50.json\""
   ]
  },
  {
   "cell_type": "code",
   "execution_count": null,
   "id": "ffb250b7-12f8-43b3-bafc-51560ecb67b7",
   "metadata": {
    "scrolled": true
   },
   "outputs": [
    {
     "name": "stdout",
     "output_type": "stream",
     "text": [
      "None\n"
     ]
    },
    {
     "data": {
      "application/vnd.jupyter.widget-view+json": {
       "model_id": "e6345b538efc4a9db0f50f13ab1f4c27",
       "version_major": 2,
       "version_minor": 0
      },
      "text/plain": [
       "Output()"
      ]
     },
     "metadata": {},
     "output_type": "display_data"
    }
   ],
   "source": [
    "# SR / VR2\n",
    "test = Analyzer(sample_config,histos_config,cuts_config,model_json='./models/BDT_NJetG0_allSigns_goodvtx_v11_max_depth_7_n_estimators_800_lr_0.005.json',\\\n",
    "               nJet_isNominal=None, good_vtx='v27') # run over all samples in the config\n",
    "\n",
    "t1 = time.time()\n",
    "out = test.process(execr='futures')\n",
    "#out = test.process(execr='iterative')\n",
    "\n",
    "t2 = time.time()\n",
    "\n",
    "print(\"Runtime: {:.2f} minutes\".format((t2-t1)/60))\n",
    "\n",
    "util.save(out,f\"{outdir}/signal_{outname}_official.coffea\")\n",
    "\n",
    "del out, test"
   ]
  },
  {
   "cell_type": "code",
   "execution_count": null,
   "id": "4ab18fa3-1ee3-49ee-9e61-a9f0713f3d14",
   "metadata": {},
   "outputs": [],
   "source": []
  },
  {
   "cell_type": "code",
   "execution_count": null,
   "id": "5fe58be0-8000-4f42-9ce1-a9cab9ef794e",
   "metadata": {},
   "outputs": [],
   "source": [
    "sample_config = \"./sample_configs/signal_2018_10X_systematics_aEM_m50.json\""
   ]
  },
  {
   "cell_type": "code",
   "execution_count": null,
   "id": "50d3811e-0c7a-40cd-8424-82a1b300a6d5",
   "metadata": {
    "scrolled": true
   },
   "outputs": [],
   "source": [
    "# SR / VR2\n",
    "test = Analyzer(sample_config,histos_config,cuts_config,model_json='./models/BDT_NJetG0_allSigns_goodvtx_v11_max_depth_7_n_estimators_800_lr_0.005.json',\\\n",
    "               nJet_isNominal=None, good_vtx='v27') # run over all samples in the config\n",
    "\n",
    "t1 = time.time()\n",
    "out = test.process(execr='futures')\n",
    "t2 = time.time()\n",
    "\n",
    "print(\"Runtime: {:.2f} minutes\".format((t2-t1)/60))\n",
    "\n",
    "util.save(out,f\"{outdir}/signal_{outname}_private.coffea\")\n",
    "\n",
    "del out, test"
   ]
  },
  {
   "cell_type": "code",
   "execution_count": null,
   "id": "faeb7159-d194-4952-a98c-00007c8d264e",
   "metadata": {},
   "outputs": [],
   "source": []
  },
  {
   "cell_type": "code",
   "execution_count": 29,
   "id": "09c591cc-b68d-48b7-99ae-e3b163d173b1",
   "metadata": {},
   "outputs": [],
   "source": [
    "outname = '2017_SR_goodVtx_v27_NoNJet'"
   ]
  },
  {
   "cell_type": "code",
   "execution_count": 30,
   "id": "7cd756d6-46bd-426d-8778-5912e8c96725",
   "metadata": {},
   "outputs": [],
   "source": [
    "sample_config = \"./sample_configs/signal_2017_official_aEM_m50.json\""
   ]
  },
  {
   "cell_type": "code",
   "execution_count": 31,
   "id": "e65682f7-5eb1-4416-8820-ddded77388ac",
   "metadata": {
    "scrolled": true
   },
   "outputs": [
    {
     "name": "stdout",
     "output_type": "stream",
     "text": [
      "None\n"
     ]
    },
    {
     "data": {
      "application/vnd.jupyter.widget-view+json": {
       "model_id": "76593759b48e4667a30f99037b3a5fb5",
       "version_major": 2,
       "version_minor": 0
      },
      "text/plain": [
       "Output()"
      ]
     },
     "metadata": {},
     "output_type": "display_data"
    },
    {
     "name": "stdout",
     "output_type": "stream",
     "text": [
      "BDT Pass: 3/4\n",
      "BDT Pass: 2/2\n",
      "BDT Pass: 2/2\n",
      "BDT Pass: 27/38\n",
      "BDT Pass: 8/11\n",
      "BDT Pass: 12/18\n",
      "BDT Pass: 4/6\n",
      "BDT Pass: 34/43\n",
      "BDT Pass: 2/2\n",
      "BDT Pass: 11/19\n",
      "BDT Pass: 12/18\n",
      "BDT Pass: 3/4\n",
      "BDT Pass: 11/13\n",
      "BDT Pass: 6/6\n",
      "BDT Pass: 120/169\n",
      "BDT Pass: 4/4\n",
      "BDT Pass: 132/179\n",
      "BDT Pass: 5/9\n",
      "BDT Pass: 8/18\n",
      "BDT Pass: 28/50\n",
      "BDT Pass: 29/58\n",
      "BDT Pass: 8/12\n",
      "BDT Pass: 80/145\n",
      "BDT Pass: 4/11\n",
      "BDT Pass: 55/97\n",
      "BDT Pass: 7/11\n",
      "BDT Pass: 6/10\n",
      "BDT Pass: 5/7\n",
      "BDT Pass: 11/16\n",
      "BDT Pass: 54/85\n",
      "BDT Pass: 16/72\n",
      "BDT Pass: 10/49\n",
      "BDT Pass: 5/28\n",
      "BDT Pass: 2/20\n",
      "BDT Pass: 8/42\n",
      "BDT Pass: 3/14\n",
      "BDT Pass: 2/8\n",
      "BDT Pass: 5/14\n",
      "BDT Pass: 10/88\n",
      "BDT Pass: 4/18\n",
      "BDT Pass: 4/33\n",
      "BDT Pass: 38/170\n",
      "BDT Pass: 5/29\n",
      "BDT Pass: 12/60\n"
     ]
    },
    {
     "data": {
      "text/html": [
       "<pre style=\"white-space:pre;overflow-x:auto;line-height:normal;font-family:Menlo,'DejaVu Sans Mono',consolas,'Courier New',monospace\"></pre>\n"
      ],
      "text/plain": []
     },
     "metadata": {},
     "output_type": "display_data"
    },
    {
     "data": {
      "text/html": [
       "<pre style=\"white-space:pre;overflow-x:auto;line-height:normal;font-family:Menlo,'DejaVu Sans Mono',consolas,'Courier New',monospace\">\n",
       "</pre>\n"
      ],
      "text/plain": [
       "\n"
      ]
     },
     "metadata": {},
     "output_type": "display_data"
    },
    {
     "name": "stdout",
     "output_type": "stream",
     "text": [
      "Runtime: 1.50 minutes\n"
     ]
    }
   ],
   "source": [
    "# SR / VR2\n",
    "test = Analyzer(sample_config,histos_config,cuts_config,model_json='./models/BDT_NJetG0_allSigns_goodvtx_v11_max_depth_7_n_estimators_800_lr_0.005.json',\\\n",
    "               nJet_isNominal=None, good_vtx='v27') # run over all samples in the config\n",
    "\n",
    "t1 = time.time()\n",
    "out = test.process(execr='futures')\n",
    "#out = test.process(execr='iterative')\n",
    "\n",
    "t2 = time.time()\n",
    "\n",
    "print(\"Runtime: {:.2f} minutes\".format((t2-t1)/60))\n",
    "\n",
    "util.save(out,f\"{outdir}/signal_{outname}_official.coffea\")\n",
    "\n",
    "del out, test"
   ]
  },
  {
   "cell_type": "code",
   "execution_count": null,
   "id": "888110ae-5381-403f-b62e-5cc53741c15b",
   "metadata": {},
   "outputs": [],
   "source": []
  },
  {
   "cell_type": "code",
   "execution_count": 35,
   "id": "e3a69b65-2e35-4503-97f9-36b11adba1a5",
   "metadata": {},
   "outputs": [],
   "source": [
    "outname = '2016_SR_goodVtx_v27_NoNJet'"
   ]
  },
  {
   "cell_type": "code",
   "execution_count": 36,
   "id": "d4cba4ee-9106-4cc0-88e5-7b54b6b6d73f",
   "metadata": {},
   "outputs": [],
   "source": [
    "sample_config = \"./sample_configs/signal_2016_postVFP_official_aEM_m50.json\""
   ]
  },
  {
   "cell_type": "code",
   "execution_count": 37,
   "id": "3dc84ebd-da51-471a-a726-4f4104a48d83",
   "metadata": {},
   "outputs": [
    {
     "name": "stdout",
     "output_type": "stream",
     "text": [
      "None\n"
     ]
    },
    {
     "data": {
      "application/vnd.jupyter.widget-view+json": {
       "model_id": "5b24e76750f549eebd85a800a7686eb6",
       "version_major": 2,
       "version_minor": 0
      },
      "text/plain": [
       "Output()"
      ]
     },
     "metadata": {},
     "output_type": "display_data"
    },
    {
     "name": "stdout",
     "output_type": "stream",
     "text": [
      "BDT Pass: 8/11\n",
      "BDT Pass: 2/3\n",
      "BDT Pass: 1/2\n",
      "BDT Pass: 0/2\n"
     ]
    },
    {
     "name": "stderr",
     "output_type": "stream",
     "text": [
      "/uscms_data/d3/kyungmip/CMSSW_10_6_26/src/iDMe/python_analysis/studies/OfficialSampleValidation/../../analysisTools/analysisTools.py:489: RuntimeWarning: invalid value encountered in scalar divide\n",
      "  cutflow_vtx_matched[cutName] += ak.sum(vtx_matched_events.genWgt)/ak.sum(events.genWgt)\n",
      "/uscms_data/d3/kyungmip/CMSSW_10_6_26/src/iDMe/python_analysis/studies/OfficialSampleValidation/../../analysisTools/analysisTools.py:494: RuntimeWarning: invalid value encountered in scalar divide\n",
      "  cutflow_vtx_matched_fromReco[cutName] += ak.sum(vtx_matched_events.genWgt)/ak.sum(has_reco_events.genWgt)\n"
     ]
    },
    {
     "name": "stdout",
     "output_type": "stream",
     "text": [
      "BDT Pass: 0/2\n"
     ]
    },
    {
     "name": "stderr",
     "output_type": "stream",
     "text": [
      "/uscms_data/d3/kyungmip/CMSSW_10_6_26/src/iDMe/python_analysis/studies/OfficialSampleValidation/../../analysisTools/analysisTools.py:489: RuntimeWarning: invalid value encountered in scalar divide\n",
      "  cutflow_vtx_matched[cutName] += ak.sum(vtx_matched_events.genWgt)/ak.sum(events.genWgt)\n",
      "/uscms_data/d3/kyungmip/CMSSW_10_6_26/src/iDMe/python_analysis/studies/OfficialSampleValidation/../../analysisTools/analysisTools.py:494: RuntimeWarning: invalid value encountered in scalar divide\n",
      "  cutflow_vtx_matched_fromReco[cutName] += ak.sum(vtx_matched_events.genWgt)/ak.sum(has_reco_events.genWgt)\n"
     ]
    },
    {
     "name": "stdout",
     "output_type": "stream",
     "text": [
      "BDT Pass: 18/21\n"
     ]
    },
    {
     "name": "stderr",
     "output_type": "stream",
     "text": [
      "/uscms_data/d3/kyungmip/CMSSW_10_6_26/src/iDMe/python_analysis/studies/OfficialSampleValidation/../../analysisTools/analysisTools.py:489: RuntimeWarning: invalid value encountered in scalar divide\n",
      "  cutflow_vtx_matched[cutName] += ak.sum(vtx_matched_events.genWgt)/ak.sum(events.genWgt)\n",
      "/uscms_data/d3/kyungmip/CMSSW_10_6_26/src/iDMe/python_analysis/studies/OfficialSampleValidation/../../analysisTools/analysisTools.py:494: RuntimeWarning: invalid value encountered in scalar divide\n",
      "  cutflow_vtx_matched_fromReco[cutName] += ak.sum(vtx_matched_events.genWgt)/ak.sum(has_reco_events.genWgt)\n"
     ]
    },
    {
     "name": "stdout",
     "output_type": "stream",
     "text": [
      "BDT Pass: 7/11\n",
      "BDT Pass: 99/138\n",
      "BDT Pass: 24/35\n",
      "BDT Pass: 3/4\n",
      "BDT Pass: 6/7\n",
      "BDT Pass: 3/6\n",
      "BDT Pass: 22/32\n",
      "BDT Pass: 12/15\n",
      "BDT Pass: 24/41\n",
      "BDT Pass: 17/21\n",
      "BDT Pass: 53/117\n",
      "BDT Pass: 16/26\n",
      "BDT Pass: 10/18\n",
      "BDT Pass: 7/11\n",
      "BDT Pass: 12/17\n",
      "BDT Pass: 18/28\n",
      "BDT Pass: 9/10\n",
      "BDT Pass: 6/15\n",
      "BDT Pass: 2/12\n",
      "BDT Pass: 13/21\n",
      "BDT Pass: 10/42\n",
      "BDT Pass: 6/32\n",
      "BDT Pass: 64/282\n"
     ]
    },
    {
     "data": {
      "text/html": [
       "<pre style=\"white-space:pre;overflow-x:auto;line-height:normal;font-family:Menlo,'DejaVu Sans Mono',consolas,'Courier New',monospace\"></pre>\n"
      ],
      "text/plain": []
     },
     "metadata": {},
     "output_type": "display_data"
    },
    {
     "data": {
      "text/html": [
       "<pre style=\"white-space:pre;overflow-x:auto;line-height:normal;font-family:Menlo,'DejaVu Sans Mono',consolas,'Courier New',monospace\">\n",
       "</pre>\n"
      ],
      "text/plain": [
       "\n"
      ]
     },
     "metadata": {},
     "output_type": "display_data"
    },
    {
     "name": "stdout",
     "output_type": "stream",
     "text": [
      "Runtime: 1.10 minutes\n"
     ]
    }
   ],
   "source": [
    "# SR / VR2\n",
    "test = Analyzer(sample_config,histos_config,cuts_config,model_json='./models/BDT_NJetG0_allSigns_goodvtx_v11_max_depth_7_n_estimators_800_lr_0.005.json',\\\n",
    "               nJet_isNominal=None, good_vtx='v27') # run over all samples in the config\n",
    "\n",
    "t1 = time.time()\n",
    "out = test.process(execr='futures')\n",
    "#out = test.process(execr='iterative')\n",
    "\n",
    "t2 = time.time()\n",
    "\n",
    "print(\"Runtime: {:.2f} minutes\".format((t2-t1)/60))\n",
    "\n",
    "util.save(out,f\"{outdir}/signal_{outname}_official.coffea\")\n",
    "\n",
    "del out, test"
   ]
  },
  {
   "cell_type": "code",
   "execution_count": null,
   "id": "440950e0-2640-4ff7-9331-410760e9709a",
   "metadata": {},
   "outputs": [],
   "source": []
  },
  {
   "cell_type": "code",
   "execution_count": 38,
   "id": "e7f46e5b-bca8-47d2-8cf0-8efb606e6cb4",
   "metadata": {},
   "outputs": [],
   "source": [
    "outname = '2016APV_SR_goodVtx_v27_NoNJet'"
   ]
  },
  {
   "cell_type": "code",
   "execution_count": 39,
   "id": "e5b8a72c-c344-4385-b5bb-3b04815bbc84",
   "metadata": {},
   "outputs": [],
   "source": [
    "sample_config = \"./sample_configs/signal_2016_preVFP_official_aEM_m50.json\""
   ]
  },
  {
   "cell_type": "code",
   "execution_count": 40,
   "id": "316d7dbc-06e1-4b1d-a9ed-6b1156670e2a",
   "metadata": {},
   "outputs": [
    {
     "name": "stdout",
     "output_type": "stream",
     "text": [
      "None\n"
     ]
    },
    {
     "data": {
      "application/vnd.jupyter.widget-view+json": {
       "model_id": "26e93b7ae7d1498398a335499c24dcf5",
       "version_major": 2,
       "version_minor": 0
      },
      "text/plain": [
       "Output()"
      ]
     },
     "metadata": {},
     "output_type": "display_data"
    },
    {
     "data": {
      "text/html": [
       "<pre style=\"white-space:pre;overflow-x:auto;line-height:normal;font-family:Menlo,'DejaVu Sans Mono',consolas,'Courier New',monospace\"></pre>\n"
      ],
      "text/plain": []
     },
     "metadata": {},
     "output_type": "display_data"
    },
    {
     "data": {
      "text/html": [
       "<pre style=\"white-space:pre;overflow-x:auto;line-height:normal;font-family:Menlo,'DejaVu Sans Mono',consolas,'Courier New',monospace\">\n",
       "</pre>\n"
      ],
      "text/plain": [
       "\n"
      ]
     },
     "metadata": {},
     "output_type": "display_data"
    },
    {
     "data": {
      "application/vnd.jupyter.widget-view+json": {
       "model_id": "d2475d8894a144d1834cd9a452a585e0",
       "version_major": 2,
       "version_minor": 0
      },
      "text/plain": [
       "Output()"
      ]
     },
     "metadata": {},
     "output_type": "display_data"
    },
    {
     "name": "stdout",
     "output_type": "stream",
     "text": [
      "BDT Pass: 2/3\n",
      "BDT Pass: 2/4\n",
      "BDT Pass: 5/7\n",
      "BDT Pass: 13/18\n",
      "BDT Pass: 1/3\n",
      "BDT Pass: 2/4\n",
      "BDT Pass: 2/2\n",
      "BDT Pass: 3/4\n",
      "BDT Pass: 9/13\n",
      "BDT Pass: 2/4\n",
      "BDT Pass: 7/11\n",
      "BDT Pass: 2/2\n",
      "BDT Pass: 6/14\n",
      "BDT Pass: 10/13\n",
      "BDT Pass: 32/57\n",
      "BDT Pass: 10/17\n",
      "BDT Pass: 41/70\n",
      "BDT Pass: 26/38\n",
      "BDT Pass: 6/9\n",
      "BDT Pass: 17/35\n",
      "BDT Pass: 9/12\n",
      "BDT Pass: 6/8\n",
      "BDT Pass: 10/12\n",
      "BDT Pass: 5/10\n",
      "BDT Pass: 51/101\n",
      "BDT Pass: 5/34\n",
      "BDT Pass: 6/19\n",
      "BDT Pass: 17/91\n",
      "BDT Pass: 6/28\n",
      "BDT Pass: 5/43\n",
      "BDT Pass: 3/15\n",
      "BDT Pass: 1/10\n",
      "BDT Pass: 2/12\n",
      "BDT Pass: 7/45\n"
     ]
    },
    {
     "data": {
      "text/html": [
       "<pre style=\"white-space:pre;overflow-x:auto;line-height:normal;font-family:Menlo,'DejaVu Sans Mono',consolas,'Courier New',monospace\"></pre>\n"
      ],
      "text/plain": []
     },
     "metadata": {},
     "output_type": "display_data"
    },
    {
     "data": {
      "text/html": [
       "<pre style=\"white-space:pre;overflow-x:auto;line-height:normal;font-family:Menlo,'DejaVu Sans Mono',consolas,'Courier New',monospace\">\n",
       "</pre>\n"
      ],
      "text/plain": [
       "\n"
      ]
     },
     "metadata": {},
     "output_type": "display_data"
    },
    {
     "name": "stdout",
     "output_type": "stream",
     "text": [
      "Runtime: 1.30 minutes\n"
     ]
    }
   ],
   "source": [
    "# SR / VR2\n",
    "test = Analyzer(sample_config,histos_config,cuts_config,model_json='./models/BDT_NJetG0_allSigns_goodvtx_v11_max_depth_7_n_estimators_800_lr_0.005.json',\\\n",
    "               nJet_isNominal=None, good_vtx='v27') # run over all samples in the config\n",
    "\n",
    "t1 = time.time()\n",
    "out = test.process(execr='futures')\n",
    "#out = test.process(execr='iterative')\n",
    "\n",
    "t2 = time.time()\n",
    "\n",
    "print(\"Runtime: {:.2f} minutes\".format((t2-t1)/60))\n",
    "\n",
    "util.save(out,f\"{outdir}/signal_{outname}_official.coffea\")\n",
    "\n",
    "del out, test"
   ]
  },
  {
   "cell_type": "code",
   "execution_count": null,
   "id": "761f6df9-8043-4735-a1db-6124ebfac4cf",
   "metadata": {},
   "outputs": [],
   "source": []
  },
  {
   "cell_type": "code",
   "execution_count": null,
   "id": "91345ce0-01ec-443e-b534-774d766db179",
   "metadata": {},
   "outputs": [],
   "source": []
  },
  {
   "cell_type": "code",
   "execution_count": null,
   "id": "ec1715c4-5fa8-40bb-9cbe-1043df367292",
   "metadata": {},
   "outputs": [],
   "source": []
  },
  {
   "cell_type": "code",
   "execution_count": null,
   "id": "1061dbbd-84ed-4ec2-bead-0c960e6ecfe4",
   "metadata": {},
   "outputs": [],
   "source": []
  },
  {
   "cell_type": "code",
   "execution_count": null,
   "id": "cf8bdc58-1cda-4ccf-b110-2793abbdb75c",
   "metadata": {},
   "outputs": [],
   "source": []
  },
  {
   "cell_type": "markdown",
   "id": "97b2ff87-c610-4e5a-9d3d-0255d980dbe3",
   "metadata": {
    "jp-MarkdownHeadingCollapsed": true
   },
   "source": [
    "### Background"
   ]
  },
  {
   "cell_type": "code",
   "execution_count": 10,
   "id": "c65bc29b-bfda-48ed-84d4-7ea8f8eded39",
   "metadata": {},
   "outputs": [],
   "source": [
    "sample_config = \"./sample_configs/skimmed_bkg_2018_10X_systematics.json\""
   ]
  },
  {
   "cell_type": "code",
   "execution_count": 11,
   "id": "f7af452c-6938-4868-8307-bd0f6b2e330d",
   "metadata": {
    "scrolled": true
   },
   "outputs": [
    {
     "name": "stdout",
     "output_type": "stream",
     "text": [
      "None\n"
     ]
    },
    {
     "data": {
      "application/vnd.jupyter.widget-view+json": {
       "model_id": "fd867920f9784bf991645080895cb3d5",
       "version_major": 2,
       "version_minor": 0
      },
      "text/plain": [
       "Output()"
      ]
     },
     "metadata": {},
     "output_type": "display_data"
    },
    {
     "data": {
      "text/html": [
       "<pre style=\"white-space:pre;overflow-x:auto;line-height:normal;font-family:Menlo,'DejaVu Sans Mono',consolas,'Courier New',monospace\"></pre>\n"
      ],
      "text/plain": []
     },
     "metadata": {},
     "output_type": "display_data"
    },
    {
     "data": {
      "text/html": [
       "<pre style=\"white-space:pre;overflow-x:auto;line-height:normal;font-family:Menlo,'DejaVu Sans Mono',consolas,'Courier New',monospace\">\n",
       "</pre>\n"
      ],
      "text/plain": [
       "\n"
      ]
     },
     "metadata": {},
     "output_type": "display_data"
    },
    {
     "data": {
      "application/vnd.jupyter.widget-view+json": {
       "model_id": "eb72d234fa304692821d897d25f79b42",
       "version_major": 2,
       "version_minor": 0
      },
      "text/plain": [
       "Output()"
      ]
     },
     "metadata": {},
     "output_type": "display_data"
    },
    {
     "name": "stderr",
     "output_type": "stream",
     "text": [
      "/uscms/home/kyungmip/nobackup/miniconda3/envs/debug/lib/python3.8/site-packages/awkward/_connect/_numpy.py:195: RuntimeWarning: invalid value encountered in arccos\n",
      "  result = getattr(ufunc, method)(\n"
     ]
    },
    {
     "name": "stdout",
     "output_type": "stream",
     "text": [
      "BDT Pass: 3/166\n",
      "BDT Pass: 0/38\n"
     ]
    },
    {
     "name": "stderr",
     "output_type": "stream",
     "text": [
      "/uscms/home/kyungmip/nobackup/miniconda3/envs/debug/lib/python3.8/site-packages/awkward/_connect/_numpy.py:195: RuntimeWarning: invalid value encountered in arccos\n",
      "  result = getattr(ufunc, method)(\n"
     ]
    },
    {
     "name": "stdout",
     "output_type": "stream",
     "text": [
      "BDT Pass: 0/54\n",
      "BDT Pass: 0/79\n",
      "BDT Pass: 0/2\n",
      "BDT Pass: 2/124\n"
     ]
    },
    {
     "name": "stderr",
     "output_type": "stream",
     "text": [
      "/uscms/home/kyungmip/nobackup/miniconda3/envs/debug/lib/python3.8/site-packages/awkward/_connect/_numpy.py:195: RuntimeWarning: invalid value encountered in arccos\n",
      "  result = getattr(ufunc, method)(\n"
     ]
    },
    {
     "name": "stdout",
     "output_type": "stream",
     "text": [
      "BDT Pass: 2/143\n",
      "BDT Pass: 0/149\n",
      "BDT Pass: 0/25\n",
      "BDT Pass: 3/228\n",
      "BDT Pass: 0/2\n"
     ]
    },
    {
     "name": "stderr",
     "output_type": "stream",
     "text": [
      "/uscms/home/kyungmip/nobackup/miniconda3/envs/debug/lib/python3.8/site-packages/awkward/_connect/_numpy.py:195: RuntimeWarning: invalid value encountered in arccos\n",
      "  result = getattr(ufunc, method)(\n"
     ]
    },
    {
     "name": "stdout",
     "output_type": "stream",
     "text": [
      "BDT Pass: 0/7\n",
      "BDT Pass: 0/26\n",
      "BDT Pass: 0/1\n",
      "BDT Pass: 5/232\n",
      "BDT Pass: 0/33\n",
      "BDT Pass: 0/25\n",
      "BDT Pass: 0/38\n",
      "BDT Pass: 1/77\n",
      "BDT Pass: 1/65\n",
      "BDT Pass: 3/141\n",
      "BDT Pass: 0/11\n",
      "BDT Pass: 5/207\n",
      "BDT Pass: 0/6\n",
      "BDT Pass: 3/221\n",
      "\n",
      "BDT Pass: 0/14\n",
      "BDT Pass: 0/12\n",
      "BDT Pass: 0/18\n",
      "BDT Pass: 0/16\n",
      "BDT Pass: 0/16\n",
      "BDT Pass: 0/14\n",
      "BDT Pass: 0/16\n",
      "BDT Pass: 1/15\n",
      "BDT Pass: 0/8\n",
      "BDT Pass: 0/38\n",
      "BDT Pass: 1/31\n",
      "BDT Pass: 1/16\n",
      "BDT Pass: 0/11\n",
      "BDT Pass: 0/2\n",
      "BDT Pass: 0/3\n",
      "BDT Pass: 1/15\n",
      "BDT Pass: 0/14\n",
      "\n",
      "BDT Pass: 0/4\n",
      "BDT Pass: 0/5\n",
      "BDT Pass: 0/1\n",
      "BDT Pass: 0/14\n"
     ]
    },
    {
     "data": {
      "text/html": [
       "<pre style=\"white-space:pre;overflow-x:auto;line-height:normal;font-family:Menlo,'DejaVu Sans Mono',consolas,'Courier New',monospace\"></pre>\n"
      ],
      "text/plain": []
     },
     "metadata": {},
     "output_type": "display_data"
    },
    {
     "data": {
      "text/html": [
       "<pre style=\"white-space:pre;overflow-x:auto;line-height:normal;font-family:Menlo,'DejaVu Sans Mono',consolas,'Courier New',monospace\">\n",
       "</pre>\n"
      ],
      "text/plain": [
       "\n"
      ]
     },
     "metadata": {},
     "output_type": "display_data"
    },
    {
     "name": "stdout",
     "output_type": "stream",
     "text": [
      "Runtime: 6.49 minutes\n"
     ]
    }
   ],
   "source": [
    "test = Analyzer(sample_config,histos_config,cuts_config,model_json='./models/BDT_NJetG0_allSigns_goodvtx_v11_max_depth_7_n_estimators_800_lr_0.005.json',\\\n",
    "               nJet_isNominal=None, good_vtx='v20') # run over all samples in the config\n",
    "\n",
    "t1 = time.time()\n",
    "out = test.process(execr='futures')\n",
    "t2 = time.time()\n",
    "\n",
    "print(\"Runtime: {:.2f} minutes\".format((t2-t1)/60))\n",
    "\n",
    "util.save(out,f\"{outdir}/bkg_{outname}.coffea\")\n",
    "\n",
    "del out, test"
   ]
  },
  {
   "cell_type": "code",
   "execution_count": null,
   "id": "3bc2fd8a-cb7b-41cb-b776-94a443c8632a",
   "metadata": {},
   "outputs": [],
   "source": []
  },
  {
   "cell_type": "markdown",
   "id": "7c4960f0-3be6-4639-a1e6-cb69163ed1b6",
   "metadata": {
    "jp-MarkdownHeadingCollapsed": true
   },
   "source": [
    "## Data"
   ]
  },
  {
   "cell_type": "code",
   "execution_count": 12,
   "id": "504ae78e-6bf7-456b-9a82-b676d6125638",
   "metadata": {},
   "outputs": [],
   "source": [
    "#cuts_config = \"./cut_configs/BDT_ABCD_SR.py\"\n",
    "#cuts_config = \"./cut_configs/BDT_ABCD_VR1.py\"\n",
    "cuts_config = \"./cut_configs/BDT_ABCD_VR2.py\"\n",
    "#cuts_config = \"./cut_configs/BDT_ABCD_VR2-lowMET-300.py\"\n",
    "#cuts_config = \"./cut_configs/BDT_ABCD_VR2-lowPtVtx_12GeV.py\"\n",
    "\n",
    "\n",
    "histos_config = \"./histo_configs/histos_SR.py\"\n",
    "#histos_config = \"./histo_configs/histos_BDTtheta.py\""
   ]
  },
  {
   "cell_type": "code",
   "execution_count": 13,
   "id": "e4a8cb1e-16c5-4c92-b444-38769dd47e5a",
   "metadata": {},
   "outputs": [],
   "source": [
    "outname = '2018_VR2_v27_ABCD'\n",
    "#outname = '2018_VR2_v27_ABCD_lowPtVtx_12GeV'"
   ]
  },
  {
   "cell_type": "code",
   "execution_count": 14,
   "id": "bc80a708-94b3-4d79-98cb-2330de3b6cf1",
   "metadata": {},
   "outputs": [],
   "source": [
    "sample_config = \"./sample_configs/skimmed_data_2018_MET_10X_systematics.json\""
   ]
  },
  {
   "cell_type": "code",
   "execution_count": 15,
   "id": "a46f59fa-6443-4691-be8a-3cd9a9022a11",
   "metadata": {
    "scrolled": true
   },
   "outputs": [
    {
     "name": "stdout",
     "output_type": "stream",
     "text": [
      "None\n"
     ]
    },
    {
     "data": {
      "application/vnd.jupyter.widget-view+json": {
       "model_id": "9df501dfe22c46ca8ecc5a86b8392d5d",
       "version_major": 2,
       "version_minor": 0
      },
      "text/plain": [
       "Output()"
      ]
     },
     "metadata": {},
     "output_type": "display_data"
    },
    {
     "name": "stdout",
     "output_type": "stream",
     "text": [
      "Njet nominal\n",
      "Njet nominal\n",
      "prepare bdt\n",
      "prepare bdt\n",
      "prepare bdt\n",
      "BDT Pass: 44/291\n",
      "prepare bdt\n",
      "BDT Pass: 38/309\n",
      "Njet nominal\n",
      "Njet nominal\n",
      "prepare bdt\n",
      "prepare bdt\n",
      "prepare bdt\n",
      "BDT Pass: 41/306\n",
      "prepare bdt\n",
      "BDT Pass: 50/321\n",
      "Njet nominal\n",
      "prepare bdt\n",
      "prepare bdt\n",
      "BDT Pass: 0/11\n",
      "Njet nominal\n",
      "prepare bdt\n",
      "prepare bdt\n",
      "BDT Pass: 2/40\n",
      "Njet nominal\n",
      "prepare bdt\n",
      "prepare bdt\n",
      "BDT Pass: 25/151\n",
      "Njet nominal\n",
      "prepare bdt\n",
      "prepare bdt\n",
      "BDT Pass: 45/253\n",
      "Njet nominal\n",
      "prepare bdt\n",
      "prepare bdt\n",
      "BDT Pass: 48/292\n",
      "Njet nominal\n",
      "prepare bdt\n",
      "prepare bdt\n",
      "\n",
      "BDT Pass: 50/341Njet nominal\n",
      "prepare bdt\n",
      "prepare bdt\n",
      "BDT Pass: 13/142\n",
      "Njet nominal\n",
      "prepare bdt\n",
      "prepare bdt\n",
      "BDT Pass: 48/290\n",
      "Njet nominal\n",
      "prepare bdt\n",
      "prepare bdt\n",
      "BDT Pass: 26/182\n",
      "Njet nominal\n",
      "prepare bdt\n",
      "prepare bdt\n",
      "BDT Pass: 4/34\n",
      "Njet nominal\n",
      "prepare bdt\n",
      "prepare bdt\n",
      "BDT Pass: 33/279\n",
      "Njet nominal\n",
      "prepare bdt\n",
      "prepare bdt\n",
      "BDT Pass: 25/206\n"
     ]
    },
    {
     "data": {
      "text/html": [
       "<pre style=\"white-space:pre;overflow-x:auto;line-height:normal;font-family:Menlo,'DejaVu Sans Mono',consolas,'Courier New',monospace\"></pre>\n"
      ],
      "text/plain": []
     },
     "metadata": {},
     "output_type": "display_data"
    },
    {
     "data": {
      "text/html": [
       "<pre style=\"white-space:pre;overflow-x:auto;line-height:normal;font-family:Menlo,'DejaVu Sans Mono',consolas,'Courier New',monospace\">\n",
       "</pre>\n"
      ],
      "text/plain": [
       "\n"
      ]
     },
     "metadata": {},
     "output_type": "display_data"
    },
    {
     "name": "stdout",
     "output_type": "stream",
     "text": [
      "Runtime: 2.00 minutes\n"
     ]
    }
   ],
   "source": [
    "analyzer = Analyzer(sample_config,histos_config,cuts_config,model_json='./models/BDT_NJetG0_allSigns_goodvtx_v11_max_depth_7_n_estimators_800_lr_0.005.json',\\\n",
    "               nJet_isNominal=True, good_vtx='v27') # run over all samples in the config\n",
    "\n",
    "t1 = time.time()\n",
    "out = analyzer.process(execr='futures')\n",
    "t2 = time.time()\n",
    "\n",
    "print(\"Runtime: {:.2f} minutes\".format((t2-t1)/60))\n",
    "\n",
    "util.save(out,f\"{outdir}/data_{outname}.coffea\")\n",
    "\n",
    "del out, analyzer"
   ]
  },
  {
   "cell_type": "code",
   "execution_count": null,
   "id": "a1ca6b87-25b9-4e6d-853d-ce311cbab53f",
   "metadata": {},
   "outputs": [],
   "source": []
  },
  {
   "cell_type": "code",
   "execution_count": null,
   "id": "b827918d-4570-428b-9d6c-da1a8b55c0f5",
   "metadata": {},
   "outputs": [],
   "source": []
  },
  {
   "cell_type": "code",
   "execution_count": null,
   "id": "86cda4fc-ac1c-46c1-9489-2c478133892a",
   "metadata": {},
   "outputs": [],
   "source": []
  },
  {
   "cell_type": "code",
   "execution_count": null,
   "id": "5d5d6508-ef34-46eb-84aa-97198a6fd7da",
   "metadata": {},
   "outputs": [],
   "source": []
  },
  {
   "cell_type": "code",
   "execution_count": null,
   "id": "16efe06b-3b34-4999-944a-143612de34b5",
   "metadata": {},
   "outputs": [],
   "source": []
  },
  {
   "cell_type": "code",
   "execution_count": null,
   "id": "fcc05148-4ff1-4f3a-8fc3-c01707f4a29e",
   "metadata": {},
   "outputs": [],
   "source": []
  },
  {
   "cell_type": "code",
   "execution_count": null,
   "id": "12936e5b-053e-4005-b473-7bad34134435",
   "metadata": {},
   "outputs": [],
   "source": []
  },
  {
   "cell_type": "code",
   "execution_count": null,
   "id": "c9ad824d-d4ae-4e87-bea5-c72341a9858e",
   "metadata": {},
   "outputs": [],
   "source": []
  },
  {
   "cell_type": "code",
   "execution_count": null,
   "id": "74b6f30d-bb4c-4b00-bc78-031bb12132ae",
   "metadata": {},
   "outputs": [],
   "source": []
  },
  {
   "cell_type": "code",
   "execution_count": 31,
   "id": "517fc1f0-c7be-46e8-9fe1-9d02337f6859",
   "metadata": {},
   "outputs": [],
   "source": [
    "cuts_config = \"./cut_configs/BDT_ABCD_VR2-highMET-300.py\"\n",
    "histos_config = \"./histo_configs/histos_BDTtheta.py\""
   ]
  },
  {
   "cell_type": "code",
   "execution_count": 32,
   "id": "af2658ac-be2b-4199-80ec-f852b1f562f7",
   "metadata": {},
   "outputs": [],
   "source": [
    "outname = '2018_VR2_v27_ABCD_highMET_300'"
   ]
  },
  {
   "cell_type": "code",
   "execution_count": 33,
   "id": "c4fd7abe-4c19-4fc4-8f20-aff88e145dc6",
   "metadata": {},
   "outputs": [],
   "source": [
    "sample_config = \"./sample_configs/skimmed_data_2018_MET_10X_systematics.json\""
   ]
  },
  {
   "cell_type": "code",
   "execution_count": 34,
   "id": "60986d49-aa53-4d27-8620-4b9991176352",
   "metadata": {
    "scrolled": true
   },
   "outputs": [
    {
     "name": "stdout",
     "output_type": "stream",
     "text": [
      "None\n"
     ]
    },
    {
     "data": {
      "application/vnd.jupyter.widget-view+json": {
       "model_id": "c47c673a941c4c99aca0ccf6d416f76f",
       "version_major": 2,
       "version_minor": 0
      },
      "text/plain": [
       "Output()"
      ]
     },
     "metadata": {},
     "output_type": "display_data"
    },
    {
     "name": "stdout",
     "output_type": "stream",
     "text": [
      "Njet nominal\n"
     ]
    },
    {
     "name": "stderr",
     "output_type": "stream",
     "text": [
      "/uscms/home/kyungmip/nobackup/miniconda3/envs/debug/lib/python3.8/site-packages/awkward/_connect/_numpy.py:195: RuntimeWarning: invalid value encountered in arccos\n",
      "  result = getattr(ufunc, method)(\n"
     ]
    },
    {
     "name": "stdout",
     "output_type": "stream",
     "text": [
      "BDT Pass: 44/291\n",
      "Njet nominal\n",
      "Njet nominal\n",
      "BDT Pass: 38/309\n",
      "BDT Pass: 41/306\n",
      "Njet nominal\n",
      "BDT Pass: 50/321\n",
      "Njet nominal\n",
      "Njet nominal\n",
      "BDT Pass: 0/11\n",
      "BDT Pass: 2/40\n",
      "Njet nominal\n",
      "BDT Pass: 25/151\n",
      "Njet nominal\n",
      "BDT Pass: 45/253\n",
      "Njet nominal\n",
      "BDT Pass: 50/341\n",
      "Njet nominalBDT Pass: 48/292\n",
      "Njet nominal\n",
      "BDT Pass: 13/142\n",
      "Njet nominal\n",
      "BDT Pass: 48/290\n",
      "Njet nominal\n",
      "BDT Pass: 26/182\n",
      "Njet nominal\n",
      "Njet nominal\n",
      "BDT Pass: 4/34\n",
      "BDT Pass: 33/279\n",
      "Njet nominal\n",
      "BDT Pass: 25/206\n"
     ]
    },
    {
     "data": {
      "text/html": [
       "<pre style=\"white-space:pre;overflow-x:auto;line-height:normal;font-family:Menlo,'DejaVu Sans Mono',consolas,'Courier New',monospace\"></pre>\n"
      ],
      "text/plain": []
     },
     "metadata": {},
     "output_type": "display_data"
    },
    {
     "data": {
      "text/html": [
       "<pre style=\"white-space:pre;overflow-x:auto;line-height:normal;font-family:Menlo,'DejaVu Sans Mono',consolas,'Courier New',monospace\">\n",
       "</pre>\n"
      ],
      "text/plain": [
       "\n"
      ]
     },
     "metadata": {},
     "output_type": "display_data"
    },
    {
     "name": "stdout",
     "output_type": "stream",
     "text": [
      "Runtime: 2.13 minutes\n"
     ]
    }
   ],
   "source": [
    "analyzer = Analyzer(sample_config,histos_config,cuts_config,model_json='./models/BDT_NJetG0_allSigns_goodvtx_v11_max_depth_7_n_estimators_800_lr_0.005.json',\\\n",
    "               nJet_isNominal=True, good_vtx='v27') # run over all samples in the config\n",
    "\n",
    "t1 = time.time()\n",
    "out = analyzer.process(execr='futures')\n",
    "t2 = time.time()\n",
    "\n",
    "print(\"Runtime: {:.2f} minutes\".format((t2-t1)/60))\n",
    "\n",
    "util.save(out,f\"{outdir}/data_{outname}.coffea\")\n",
    "\n",
    "del out, analyzer"
   ]
  },
  {
   "cell_type": "code",
   "execution_count": null,
   "id": "6d897822-fbb2-479d-ac44-2b780fe53ed4",
   "metadata": {},
   "outputs": [],
   "source": []
  },
  {
   "cell_type": "code",
   "execution_count": 19,
   "id": "201faa3c-b574-4dd5-b015-54cb4939cbb1",
   "metadata": {},
   "outputs": [],
   "source": [
    "cuts_config = \"./cut_configs/BDT_ABCD_VR2-lowMET-250.py\"\n",
    "histos_config = \"./histo_configs/histos_BDTtheta.py\""
   ]
  },
  {
   "cell_type": "code",
   "execution_count": 20,
   "id": "355a2ef9-734d-4fd5-ab8c-8997107fda75",
   "metadata": {},
   "outputs": [],
   "source": [
    "outname = '2017_VR2_v27_ABCD_lowMET_250'"
   ]
  },
  {
   "cell_type": "code",
   "execution_count": 21,
   "id": "1f5c1321-5aea-490e-9c2a-4468802fc2a3",
   "metadata": {},
   "outputs": [],
   "source": [
    "sample_config = \"./sample_configs/skimmed_data_2017_MET_10X_systematics.json\""
   ]
  },
  {
   "cell_type": "code",
   "execution_count": 22,
   "id": "86fc4184-85ef-45fc-9805-edb711b52fba",
   "metadata": {
    "scrolled": true
   },
   "outputs": [
    {
     "name": "stdout",
     "output_type": "stream",
     "text": [
      "None\n"
     ]
    },
    {
     "data": {
      "application/vnd.jupyter.widget-view+json": {
       "model_id": "a64a72ee63c24db79b085058865ac2d0",
       "version_major": 2,
       "version_minor": 0
      },
      "text/plain": [
       "Output()"
      ]
     },
     "metadata": {},
     "output_type": "display_data"
    },
    {
     "data": {
      "text/html": [
       "<pre style=\"white-space:pre;overflow-x:auto;line-height:normal;font-family:Menlo,'DejaVu Sans Mono',consolas,'Courier New',monospace\"></pre>\n"
      ],
      "text/plain": []
     },
     "metadata": {},
     "output_type": "display_data"
    },
    {
     "data": {
      "text/html": [
       "<pre style=\"white-space:pre;overflow-x:auto;line-height:normal;font-family:Menlo,'DejaVu Sans Mono',consolas,'Courier New',monospace\">\n",
       "</pre>\n"
      ],
      "text/plain": [
       "\n"
      ]
     },
     "metadata": {},
     "output_type": "display_data"
    },
    {
     "data": {
      "application/vnd.jupyter.widget-view+json": {
       "model_id": "a6ffabbac9e74605bb9f9b61ca7da4b2",
       "version_major": 2,
       "version_minor": 0
      },
      "text/plain": [
       "Output()"
      ]
     },
     "metadata": {},
     "output_type": "display_data"
    },
    {
     "name": "stdout",
     "output_type": "stream",
     "text": [
      "Njet nominal\n",
      "BDT Pass: 12/58\n",
      "Njet nominal\n",
      "Njet nominal\n",
      "BDT Pass: 13/114\n",
      "BDT Pass: 8/83\n",
      "Njet nominal\n",
      "BDT Pass: 12/133\n",
      "Njet nominal\n",
      "BDT Pass: 10/72\n",
      "Njet nominal\n",
      "BDT Pass: 6/68\n",
      "Njet nominal\n",
      "BDT Pass: 13/95\n",
      "Njet nominal\n",
      "BDT Pass: 13/86\n",
      "Njet nominal\n",
      "BDT Pass: 11/70\n",
      "Njet nominal\n",
      "BDT Pass: 18/123\n",
      "Njet nominal\n",
      "BDT Pass: 22/110\n",
      "Njet nominal\n",
      "Njet nominal\n",
      "BDT Pass: 14/118\n",
      "BDT Pass: 17/162\n",
      "Njet nominal\n",
      "BDT Pass: 11/94\n",
      "Njet nominal\n",
      "BDT Pass: 41/215\n",
      "Njet nominal\n",
      "BDT Pass: 24/177\n",
      "Njet nominal\n",
      "BDT Pass: 38/235\n",
      "Njet nominal\n"
     ]
    },
    {
     "name": "stderr",
     "output_type": "stream",
     "text": [
      "/uscms/home/kyungmip/nobackup/miniconda3/envs/debug/lib/python3.8/site-packages/awkward/_connect/_numpy.py:195: RuntimeWarning: invalid value encountered in arccos\n",
      "  result = getattr(ufunc, method)(\n"
     ]
    },
    {
     "name": "stdout",
     "output_type": "stream",
     "text": [
      "BDT Pass: 53/345\n",
      "Njet nominal\n",
      "Njet nominal\n",
      "BDT Pass: 29/203\n",
      "Njet nominal\n",
      "BDT Pass: 20/99\n",
      "\n",
      "Njet nominal\n",
      "BDT Pass: 17/137\n"
     ]
    },
    {
     "data": {
      "text/html": [
       "<pre style=\"white-space:pre;overflow-x:auto;line-height:normal;font-family:Menlo,'DejaVu Sans Mono',consolas,'Courier New',monospace\"></pre>\n"
      ],
      "text/plain": []
     },
     "metadata": {},
     "output_type": "display_data"
    },
    {
     "data": {
      "text/html": [
       "<pre style=\"white-space:pre;overflow-x:auto;line-height:normal;font-family:Menlo,'DejaVu Sans Mono',consolas,'Courier New',monospace\">\n",
       "</pre>\n"
      ],
      "text/plain": [
       "\n"
      ]
     },
     "metadata": {},
     "output_type": "display_data"
    },
    {
     "name": "stdout",
     "output_type": "stream",
     "text": [
      "Runtime: 1.71 minutes\n"
     ]
    }
   ],
   "source": [
    "analyzer = Analyzer(sample_config,histos_config,cuts_config,model_json='./models/BDT_NJetG0_allSigns_goodvtx_v11_max_depth_7_n_estimators_800_lr_0.005.json',\\\n",
    "               nJet_isNominal=True, good_vtx='v27') # run over all samples in the config\n",
    "\n",
    "t1 = time.time()\n",
    "out = analyzer.process(execr='futures')\n",
    "t2 = time.time()\n",
    "\n",
    "print(\"Runtime: {:.2f} minutes\".format((t2-t1)/60))\n",
    "\n",
    "util.save(out,f\"{outdir}/data_{outname}.coffea\")\n",
    "\n",
    "del out, analyzer"
   ]
  },
  {
   "cell_type": "code",
   "execution_count": null,
   "id": "29dc2a31-b2fc-4aa2-ab09-2764be475f03",
   "metadata": {},
   "outputs": [],
   "source": []
  },
  {
   "cell_type": "code",
   "execution_count": 23,
   "id": "3fc1c299-9d95-461d-ae66-f630a4040ae6",
   "metadata": {},
   "outputs": [],
   "source": [
    "cuts_config = \"./cut_configs/BDT_ABCD_VR2-highMET-250.py\"\n",
    "histos_config = \"./histo_configs/histos_BDTtheta.py\""
   ]
  },
  {
   "cell_type": "code",
   "execution_count": 24,
   "id": "476e2778-bdea-4f1d-a820-4373a0859156",
   "metadata": {},
   "outputs": [],
   "source": [
    "outname = '2017_VR2_v27_ABCD_highMET_250'"
   ]
  },
  {
   "cell_type": "code",
   "execution_count": 25,
   "id": "f4adf138-8193-48bc-b069-001e87d85d6c",
   "metadata": {},
   "outputs": [],
   "source": [
    "sample_config = \"./sample_configs/skimmed_data_2017_MET_10X_systematics.json\""
   ]
  },
  {
   "cell_type": "code",
   "execution_count": 26,
   "id": "97da9064-5a9c-41f4-bef7-4d5276cc5bab",
   "metadata": {},
   "outputs": [
    {
     "name": "stdout",
     "output_type": "stream",
     "text": [
      "None\n"
     ]
    },
    {
     "data": {
      "application/vnd.jupyter.widget-view+json": {
       "model_id": "579cfe958db94a93b7cb160d2d30237d",
       "version_major": 2,
       "version_minor": 0
      },
      "text/plain": [
       "Output()"
      ]
     },
     "metadata": {},
     "output_type": "display_data"
    },
    {
     "name": "stdout",
     "output_type": "stream",
     "text": [
      "Njet nominal\n",
      "BDT Pass: 12/58\n",
      "Njet nominal\n",
      "BDT Pass: 8/83\n",
      "Njet nominal\n",
      "Njet nominal\n",
      "BDT Pass: 13/114\n",
      "BDT Pass: 12/133\n",
      "Njet nominal\n",
      "BDT Pass: 6/68\n",
      "Njet nominal\n",
      "BDT Pass: 10/72\n",
      "Njet nominal\n",
      "BDT Pass: 13/86\n",
      "Njet nominal\n",
      "BDT Pass: 13/95\n",
      "Njet nominal\n",
      "BDT Pass: 11/70\n",
      "Njet nominal\n",
      "BDT Pass: 18/123\n",
      "Njet nominal\n",
      "BDT Pass: 22/110\n",
      "Njet nominal\n",
      "BDT Pass: 14/118\n",
      "Njet nominal\n",
      "BDT Pass: 11/94\n",
      "Njet nominal\n",
      "BDT Pass: 17/162\n",
      "Njet nominal\n",
      "BDT Pass: 41/215\n",
      "BDT Pass: 24/177\n",
      "Njet nominal\n",
      "Njet nominal\n"
     ]
    },
    {
     "name": "stderr",
     "output_type": "stream",
     "text": [
      "/uscms/home/kyungmip/nobackup/miniconda3/envs/debug/lib/python3.8/site-packages/awkward/_connect/_numpy.py:195: RuntimeWarning: invalid value encountered in arccos\n",
      "  result = getattr(ufunc, method)(\n"
     ]
    },
    {
     "name": "stdout",
     "output_type": "stream",
     "text": [
      "BDT Pass: 53/345\n",
      "BDT Pass: 38/235\n",
      "Njet nominal\n",
      "Njet nominal\n",
      "BDT Pass: 20/99\n",
      "BDT Pass: 17/138\n",
      "Njet nominal\n",
      "BDT Pass: 17/137\n",
      "Njet nominal\n",
      "BDT Pass: 29/203\n"
     ]
    },
    {
     "data": {
      "text/html": [
       "<pre style=\"white-space:pre;overflow-x:auto;line-height:normal;font-family:Menlo,'DejaVu Sans Mono',consolas,'Courier New',monospace\"></pre>\n"
      ],
      "text/plain": []
     },
     "metadata": {},
     "output_type": "display_data"
    },
    {
     "data": {
      "text/html": [
       "<pre style=\"white-space:pre;overflow-x:auto;line-height:normal;font-family:Menlo,'DejaVu Sans Mono',consolas,'Courier New',monospace\">\n",
       "</pre>\n"
      ],
      "text/plain": [
       "\n"
      ]
     },
     "metadata": {},
     "output_type": "display_data"
    },
    {
     "name": "stdout",
     "output_type": "stream",
     "text": [
      "Runtime: 1.48 minutes\n"
     ]
    }
   ],
   "source": [
    "analyzer = Analyzer(sample_config,histos_config,cuts_config,model_json='./models/BDT_NJetG0_allSigns_goodvtx_v11_max_depth_7_n_estimators_800_lr_0.005.json',\\\n",
    "               nJet_isNominal=True, good_vtx='v27') # run over all samples in the config\n",
    "\n",
    "t1 = time.time()\n",
    "out = analyzer.process(execr='futures')\n",
    "t2 = time.time()\n",
    "\n",
    "print(\"Runtime: {:.2f} minutes\".format((t2-t1)/60))\n",
    "\n",
    "util.save(out,f\"{outdir}/data_{outname}.coffea\")\n",
    "\n",
    "del out, analyzer"
   ]
  },
  {
   "cell_type": "code",
   "execution_count": null,
   "id": "8259b067-f1e0-4350-8524-8478485cb7b0",
   "metadata": {},
   "outputs": [],
   "source": []
  },
  {
   "cell_type": "code",
   "execution_count": 27,
   "id": "f66e9c5d-a3fd-4946-a360-420e9ea5a1fb",
   "metadata": {},
   "outputs": [],
   "source": [
    "cuts_config = \"./cut_configs/BDT_ABCD_VR2-lowMET-250.py\"\n",
    "histos_config = \"./histo_configs/histos_BDTtheta.py\""
   ]
  },
  {
   "cell_type": "code",
   "execution_count": 28,
   "id": "10dbfbca-5d1a-4c8e-8694-8107e5de6f7d",
   "metadata": {},
   "outputs": [],
   "source": [
    "outname = '2016_VR2_v27_ABCD_lowMET_250'"
   ]
  },
  {
   "cell_type": "code",
   "execution_count": 29,
   "id": "4c643d49-b557-42c4-b1f1-6ca5621beffa",
   "metadata": {},
   "outputs": [],
   "source": [
    "sample_config = \"./sample_configs/skimmed_data_2016_postVFP_MET_10X_systematics.json\""
   ]
  },
  {
   "cell_type": "code",
   "execution_count": 30,
   "id": "5f69178c-2c64-41d4-b0c1-ac52a69adaa1",
   "metadata": {},
   "outputs": [
    {
     "name": "stdout",
     "output_type": "stream",
     "text": [
      "None\n"
     ]
    },
    {
     "data": {
      "application/vnd.jupyter.widget-view+json": {
       "model_id": "0137647c7bc2415e9b9a629c025babf4",
       "version_major": 2,
       "version_minor": 0
      },
      "text/plain": [
       "Output()"
      ]
     },
     "metadata": {},
     "output_type": "display_data"
    },
    {
     "data": {
      "text/html": [
       "<pre style=\"white-space:pre;overflow-x:auto;line-height:normal;font-family:Menlo,'DejaVu Sans Mono',consolas,'Courier New',monospace\"></pre>\n"
      ],
      "text/plain": []
     },
     "metadata": {},
     "output_type": "display_data"
    },
    {
     "data": {
      "text/html": [
       "<pre style=\"white-space:pre;overflow-x:auto;line-height:normal;font-family:Menlo,'DejaVu Sans Mono',consolas,'Courier New',monospace\">\n",
       "</pre>\n"
      ],
      "text/plain": [
       "\n"
      ]
     },
     "metadata": {},
     "output_type": "display_data"
    },
    {
     "data": {
      "application/vnd.jupyter.widget-view+json": {
       "model_id": "ce13f8af92744a66ac8906b349b402fd",
       "version_major": 2,
       "version_minor": 0
      },
      "text/plain": [
       "Output()"
      ]
     },
     "metadata": {},
     "output_type": "display_data"
    },
    {
     "name": "stdout",
     "output_type": "stream",
     "text": [
      "Njet nominal\n",
      "BDT Pass: 32/212\n",
      "Njet nominal\n",
      "BDT Pass: 35/318\n",
      "Njet nominal\n",
      "BDT Pass: 6/35\n",
      "Njet nominal\n",
      "BDT Pass: 66/385\n",
      "Njet nominal\n",
      "BDT Pass: 69/491\n"
     ]
    },
    {
     "data": {
      "text/html": [
       "<pre style=\"white-space:pre;overflow-x:auto;line-height:normal;font-family:Menlo,'DejaVu Sans Mono',consolas,'Courier New',monospace\"></pre>\n"
      ],
      "text/plain": []
     },
     "metadata": {},
     "output_type": "display_data"
    },
    {
     "data": {
      "text/html": [
       "<pre style=\"white-space:pre;overflow-x:auto;line-height:normal;font-family:Menlo,'DejaVu Sans Mono',consolas,'Courier New',monospace\">\n",
       "</pre>\n"
      ],
      "text/plain": [
       "\n"
      ]
     },
     "metadata": {},
     "output_type": "display_data"
    },
    {
     "name": "stdout",
     "output_type": "stream",
     "text": [
      "Runtime: 0.62 minutes\n"
     ]
    }
   ],
   "source": [
    "analyzer = Analyzer(sample_config,histos_config,cuts_config,model_json='./models/BDT_NJetG0_allSigns_goodvtx_v11_max_depth_7_n_estimators_800_lr_0.005.json',\\\n",
    "               nJet_isNominal=True, good_vtx='v27') # run over all samples in the config\n",
    "\n",
    "t1 = time.time()\n",
    "out = analyzer.process(execr='futures')\n",
    "t2 = time.time()\n",
    "\n",
    "print(\"Runtime: {:.2f} minutes\".format((t2-t1)/60))\n",
    "\n",
    "util.save(out,f\"{outdir}/data_{outname}.coffea\")\n",
    "\n",
    "del out, analyzer"
   ]
  },
  {
   "cell_type": "code",
   "execution_count": null,
   "id": "da8e9779-83c8-401e-920d-608880be87b2",
   "metadata": {},
   "outputs": [],
   "source": []
  },
  {
   "cell_type": "code",
   "execution_count": 31,
   "id": "b8ccf3d6-b6b9-487b-bc33-4ebf5a8f2c56",
   "metadata": {},
   "outputs": [],
   "source": [
    "cuts_config = \"./cut_configs/BDT_ABCD_VR2-highMET-250.py\"\n",
    "histos_config = \"./histo_configs/histos_BDTtheta.py\""
   ]
  },
  {
   "cell_type": "code",
   "execution_count": 32,
   "id": "562d2312-47cf-4515-b4b1-4f272b42a7ef",
   "metadata": {},
   "outputs": [],
   "source": [
    "outname = '2016_VR2_v27_ABCD_highMET_250'"
   ]
  },
  {
   "cell_type": "code",
   "execution_count": 33,
   "id": "a98f6b82-34c7-4c26-8dd7-4dc3f563844b",
   "metadata": {},
   "outputs": [],
   "source": [
    "sample_config = \"./sample_configs/skimmed_data_2016_postVFP_MET_10X_systematics.json\""
   ]
  },
  {
   "cell_type": "code",
   "execution_count": 34,
   "id": "8e8e5d6e-0b34-43ab-9d89-6c95f5df4460",
   "metadata": {},
   "outputs": [
    {
     "name": "stdout",
     "output_type": "stream",
     "text": [
      "None\n"
     ]
    },
    {
     "data": {
      "application/vnd.jupyter.widget-view+json": {
       "model_id": "ecdd45dda245400aa1f8de70807fb6cd",
       "version_major": 2,
       "version_minor": 0
      },
      "text/plain": [
       "Output()"
      ]
     },
     "metadata": {},
     "output_type": "display_data"
    },
    {
     "name": "stdout",
     "output_type": "stream",
     "text": [
      "Njet nominal\n",
      "BDT Pass: 32/212\n",
      "Njet nominal\n",
      "Njet nominal\n",
      "BDT Pass: 35/318\n",
      "BDT Pass: 6/35\n",
      "Njet nominal\n",
      "BDT Pass: 66/385\n",
      "Njet nominal\n",
      "BDT Pass: 69/491\n"
     ]
    },
    {
     "data": {
      "text/html": [
       "<pre style=\"white-space:pre;overflow-x:auto;line-height:normal;font-family:Menlo,'DejaVu Sans Mono',consolas,'Courier New',monospace\"></pre>\n"
      ],
      "text/plain": []
     },
     "metadata": {},
     "output_type": "display_data"
    },
    {
     "data": {
      "text/html": [
       "<pre style=\"white-space:pre;overflow-x:auto;line-height:normal;font-family:Menlo,'DejaVu Sans Mono',consolas,'Courier New',monospace\">\n",
       "</pre>\n"
      ],
      "text/plain": [
       "\n"
      ]
     },
     "metadata": {},
     "output_type": "display_data"
    },
    {
     "name": "stdout",
     "output_type": "stream",
     "text": [
      "Runtime: 0.54 minutes\n"
     ]
    }
   ],
   "source": [
    "analyzer = Analyzer(sample_config,histos_config,cuts_config,model_json='./models/BDT_NJetG0_allSigns_goodvtx_v11_max_depth_7_n_estimators_800_lr_0.005.json',\\\n",
    "               nJet_isNominal=True, good_vtx='v27') # run over all samples in the config\n",
    "\n",
    "t1 = time.time()\n",
    "out = analyzer.process(execr='futures')\n",
    "t2 = time.time()\n",
    "\n",
    "print(\"Runtime: {:.2f} minutes\".format((t2-t1)/60))\n",
    "\n",
    "util.save(out,f\"{outdir}/data_{outname}.coffea\")\n",
    "\n",
    "del out, analyzer"
   ]
  },
  {
   "cell_type": "code",
   "execution_count": null,
   "id": "4ff8bc3b-b8b7-45da-999d-035b544b450c",
   "metadata": {},
   "outputs": [],
   "source": []
  },
  {
   "cell_type": "code",
   "execution_count": 43,
   "id": "7f89e5f5-006c-409b-ae4b-7e14955567e8",
   "metadata": {},
   "outputs": [],
   "source": [
    "cuts_config = \"./cut_configs/BDT_ABCD_VR2-lowPtVtx-10GeV.py\"\n",
    "histos_config = \"./histo_configs/histos_BDTtheta.py\""
   ]
  },
  {
   "cell_type": "code",
   "execution_count": 44,
   "id": "b32f965d-ad52-47b5-8be2-998950714cc9",
   "metadata": {},
   "outputs": [],
   "source": [
    "outname = '2018_VR2_v27_ABCD_lowPtVtx_10'"
   ]
  },
  {
   "cell_type": "code",
   "execution_count": 45,
   "id": "c9ceb9c5-418f-41d4-bce7-9ff2a6a352a9",
   "metadata": {},
   "outputs": [],
   "source": [
    "sample_config = \"./sample_configs/skimmed_data_2018_MET_10X_systematics.json\""
   ]
  },
  {
   "cell_type": "code",
   "execution_count": null,
   "id": "c5e01b96-2d83-4b96-8e1d-f0764ff56e87",
   "metadata": {
    "scrolled": true
   },
   "outputs": [
    {
     "name": "stdout",
     "output_type": "stream",
     "text": [
      "None\n"
     ]
    },
    {
     "data": {
      "application/vnd.jupyter.widget-view+json": {
       "model_id": "feb0319ef76e46bf9fafcc7554b45f85",
       "version_major": 2,
       "version_minor": 0
      },
      "text/plain": [
       "Output()"
      ]
     },
     "metadata": {},
     "output_type": "display_data"
    },
    {
     "name": "stdout",
     "output_type": "stream",
     "text": [
      "Njet nominal\n"
     ]
    },
    {
     "name": "stderr",
     "output_type": "stream",
     "text": [
      "/uscms/home/kyungmip/nobackup/miniconda3/envs/debug/lib/python3.8/site-packages/awkward/_connect/_numpy.py:195: RuntimeWarning: invalid value encountered in arccos\n",
      "  result = getattr(ufunc, method)(\n"
     ]
    },
    {
     "name": "stdout",
     "output_type": "stream",
     "text": [
      "BDT Pass: 44/291\n",
      "Njet nominal\n",
      "Njet nominal\n",
      "BDT Pass: 38/309\n",
      "BDT Pass: 41/306\n",
      "Njet nominal\n",
      "BDT Pass: 50/321\n",
      "Njet nominal\n",
      "BDT Pass: 0/11\n",
      "Njet nominal\n",
      "BDT Pass: 2/40\n",
      "Njet nominal\n",
      "BDT Pass: 25/151\n",
      "Njet nominal\n",
      "BDT Pass: 45/253\n",
      "Njet nominal\n",
      "BDT Pass: 50/341\n",
      "Njet nominal\n",
      "BDT Pass: 48/292\n",
      "Njet nominal\n",
      "BDT Pass: 13/142\n",
      "Njet nominal\n",
      "BDT Pass: 48/290\n",
      "Njet nominal\n",
      "Njet nominal\n",
      "BDT Pass: 26/182BDT Pass: 4/34\n",
      "\n",
      "Njet nominal\n",
      "BDT Pass: 33/279\n",
      "Njet nominal\n",
      "BDT Pass: 25/206\n"
     ]
    }
   ],
   "source": [
    "analyzer = Analyzer(sample_config,histos_config,cuts_config,model_json='./models/BDT_NJetG0_allSigns_goodvtx_v11_max_depth_7_n_estimators_800_lr_0.005.json',\\\n",
    "               nJet_isNominal=True, good_vtx='v27') # run over all samples in the config\n",
    "\n",
    "t1 = time.time()\n",
    "out = analyzer.process(execr='futures')\n",
    "t2 = time.time()\n",
    "\n",
    "print(\"Runtime: {:.2f} minutes\".format((t2-t1)/60))\n",
    "\n",
    "util.save(out,f\"{outdir}/data_{outname}.coffea\")\n",
    "\n",
    "del out, analyzer"
   ]
  },
  {
   "cell_type": "code",
   "execution_count": 39,
   "id": "272c8dbe-b3f5-4b7e-b4d6-5e728ef1d490",
   "metadata": {},
   "outputs": [],
   "source": [
    "cuts_config = \"./cut_configs/BDT_ABCD_VR2-highPtVtx-10GeV.py\"\n",
    "histos_config = \"./histo_configs/histos_BDTtheta.py\""
   ]
  },
  {
   "cell_type": "code",
   "execution_count": 40,
   "id": "e14f4692-7fc8-43c7-bc03-ad2ebd80415b",
   "metadata": {},
   "outputs": [],
   "source": [
    "outname = '2018_VR2_v27_ABCD_highPtVtx_10'"
   ]
  },
  {
   "cell_type": "code",
   "execution_count": 41,
   "id": "738253c4-0cc7-4d5e-94e7-15875e74f23a",
   "metadata": {},
   "outputs": [],
   "source": [
    "sample_config = \"./sample_configs/skimmed_data_2018_MET_10X_systematics.json\""
   ]
  },
  {
   "cell_type": "code",
   "execution_count": 42,
   "id": "7336870a-f3c4-4913-af61-4507e09f4032",
   "metadata": {
    "scrolled": true
   },
   "outputs": [
    {
     "name": "stdout",
     "output_type": "stream",
     "text": [
      "None\n"
     ]
    },
    {
     "data": {
      "application/vnd.jupyter.widget-view+json": {
       "model_id": "3997ab15d0f8436dac4016a8adb3ddaf",
       "version_major": 2,
       "version_minor": 0
      },
      "text/plain": [
       "Output()"
      ]
     },
     "metadata": {},
     "output_type": "display_data"
    },
    {
     "name": "stdout",
     "output_type": "stream",
     "text": [
      "Njet nominal\n",
      "Njet nominal\n"
     ]
    },
    {
     "name": "stderr",
     "output_type": "stream",
     "text": [
      "/uscms/home/kyungmip/nobackup/miniconda3/envs/debug/lib/python3.8/site-packages/awkward/_connect/_numpy.py:195: RuntimeWarning: invalid value encountered in arccos\n",
      "  result = getattr(ufunc, method)(\n"
     ]
    },
    {
     "name": "stdout",
     "output_type": "stream",
     "text": [
      "BDT Pass: 44/291\n",
      "BDT Pass: 41/306\n",
      "Njet nominal\n",
      "Njet nominal\n",
      "BDT Pass: 38/309\n",
      "BDT Pass: 50/321\n",
      "Njet nominal\n",
      "BDT Pass: 0/11\n",
      "Njet nominal\n",
      "BDT Pass: 2/40\n",
      "Njet nominal\n",
      "BDT Pass: 25/151\n",
      "Njet nominal\n",
      "BDT Pass: 45/253\n",
      "Njet nominal\n",
      "BDT Pass: 48/292\n",
      "Njet nominal\n",
      "BDT Pass: 50/341\n",
      "Njet nominal\n",
      "BDT Pass: 13/142\n",
      "Njet nominal\n",
      "BDT Pass: 48/290\n",
      "Njet nominal\n",
      "BDT Pass: 26/182\n",
      "Njet nominal\n",
      "BDT Pass: 4/34\n",
      "Njet nominal\n"
     ]
    },
    {
     "name": "stderr",
     "output_type": "stream",
     "text": [
      "/uscms/home/kyungmip/nobackup/miniconda3/envs/debug/lib/python3.8/site-packages/awkward/_connect/_numpy.py:195: RuntimeWarning: invalid value encountered in arccos\n",
      "  result = getattr(ufunc, method)(\n"
     ]
    },
    {
     "name": "stdout",
     "output_type": "stream",
     "text": [
      "BDT Pass: 33/279\n",
      "Njet nominal\n",
      "BDT Pass: 25/206\n"
     ]
    },
    {
     "data": {
      "text/html": [
       "<pre style=\"white-space:pre;overflow-x:auto;line-height:normal;font-family:Menlo,'DejaVu Sans Mono',consolas,'Courier New',monospace\"></pre>\n"
      ],
      "text/plain": []
     },
     "metadata": {},
     "output_type": "display_data"
    },
    {
     "data": {
      "text/html": [
       "<pre style=\"white-space:pre;overflow-x:auto;line-height:normal;font-family:Menlo,'DejaVu Sans Mono',consolas,'Courier New',monospace\">\n",
       "</pre>\n"
      ],
      "text/plain": [
       "\n"
      ]
     },
     "metadata": {},
     "output_type": "display_data"
    },
    {
     "name": "stdout",
     "output_type": "stream",
     "text": [
      "Runtime: 2.07 minutes\n"
     ]
    }
   ],
   "source": [
    "analyzer = Analyzer(sample_config,histos_config,cuts_config,model_json='./models/BDT_NJetG0_allSigns_goodvtx_v11_max_depth_7_n_estimators_800_lr_0.005.json',\\\n",
    "               nJet_isNominal=True, good_vtx='v27') # run over all samples in the config\n",
    "\n",
    "t1 = time.time()\n",
    "out = analyzer.process(execr='futures')\n",
    "t2 = time.time()\n",
    "\n",
    "print(\"Runtime: {:.2f} minutes\".format((t2-t1)/60))\n",
    "\n",
    "util.save(out,f\"{outdir}/data_{outname}.coffea\")\n",
    "\n",
    "del out, analyzer"
   ]
  },
  {
   "cell_type": "code",
   "execution_count": null,
   "id": "887c304f-675f-493e-b8cd-29f20d204add",
   "metadata": {},
   "outputs": [],
   "source": []
  },
  {
   "cell_type": "code",
   "execution_count": null,
   "id": "d7f123d9-e291-4f5c-8b0d-7d595c21db8d",
   "metadata": {},
   "outputs": [],
   "source": []
  },
  {
   "cell_type": "code",
   "execution_count": null,
   "id": "7257c4e8-3466-433c-aaef-a01412202845",
   "metadata": {},
   "outputs": [],
   "source": []
  },
  {
   "cell_type": "code",
   "execution_count": null,
   "id": "b1780d4c-b041-4495-b78a-d88f80f00eb6",
   "metadata": {},
   "outputs": [],
   "source": []
  },
  {
   "cell_type": "code",
   "execution_count": null,
   "id": "878f5c74-eb82-4d61-97d2-803d1a69da68",
   "metadata": {},
   "outputs": [],
   "source": []
  },
  {
   "cell_type": "code",
   "execution_count": 43,
   "id": "6aab35f0-0030-4312-8409-535c9f6a19af",
   "metadata": {},
   "outputs": [],
   "source": [
    "cuts_config = \"./cut_configs/BDT_ABCD_VR2-lowPtVtx-15GeV.py\"\n",
    "histos_config = \"./histo_configs/histos_BDTtheta.py\""
   ]
  },
  {
   "cell_type": "code",
   "execution_count": 44,
   "id": "2753d51b-e993-48a4-96fd-fe6a85107d4f",
   "metadata": {},
   "outputs": [],
   "source": [
    "outname = '2017_VR2_v27_ABCD_lowPtVtx_15'"
   ]
  },
  {
   "cell_type": "code",
   "execution_count": 45,
   "id": "ba9fdea4-9971-4772-aa66-5ac669679bc4",
   "metadata": {},
   "outputs": [],
   "source": [
    "sample_config = \"./sample_configs/skimmed_data_2017_MET_10X_systematics.json\""
   ]
  },
  {
   "cell_type": "code",
   "execution_count": 46,
   "id": "e5d4ee5b-9c9a-40eb-acb7-b2fc0510f248",
   "metadata": {},
   "outputs": [
    {
     "name": "stdout",
     "output_type": "stream",
     "text": [
      "None\n"
     ]
    },
    {
     "data": {
      "application/vnd.jupyter.widget-view+json": {
       "model_id": "2bc4fb5cddea4206b6ac512ef33d1ff7",
       "version_major": 2,
       "version_minor": 0
      },
      "text/plain": [
       "Output()"
      ]
     },
     "metadata": {},
     "output_type": "display_data"
    },
    {
     "name": "stdout",
     "output_type": "stream",
     "text": [
      "Njet nominal\n",
      "BDT Pass: 12/58\n",
      "Njet nominal\n",
      "Njet nominal\n",
      "BDT Pass: 8/83\n",
      "Njet nominal\n",
      "BDT Pass: 13/114\n",
      "BDT Pass: 12/133\n",
      "Njet nominal\n",
      "Njet nominal\n",
      "BDT Pass: 6/68\n",
      "BDT Pass: 10/72\n",
      "Njet nominal\n",
      "BDT Pass: 13/95\n",
      "Njet nominal\n",
      "BDT Pass: 13/86\n",
      "Njet nominal\n",
      "BDT Pass: 11/70\n",
      "Njet nominal\n",
      "BDT Pass: 18/123\n",
      "Njet nominal\n",
      "BDT Pass: 22/110\n",
      "Njet nominal\n",
      "Njet nominal\n",
      "Njet nominal\n",
      "BDT Pass: 17/162\n",
      "BDT Pass: 11/94\n",
      "Njet nominal\n",
      "BDT Pass: 24/177\n",
      "Njet nominal\n",
      "BDT Pass: 41/215\n",
      "Njet nominal\n",
      "BDT Pass: 38/235\n",
      "Njet nominal\n"
     ]
    },
    {
     "name": "stderr",
     "output_type": "stream",
     "text": [
      "/uscms/home/kyungmip/nobackup/miniconda3/envs/debug/lib/python3.8/site-packages/awkward/_connect/_numpy.py:195: RuntimeWarning: invalid value encountered in arccos\n",
      "  result = getattr(ufunc, method)(\n"
     ]
    },
    {
     "name": "stdout",
     "output_type": "stream",
     "text": [
      "BDT Pass: 53/345\n",
      "Njet nominal\n",
      "Njet nominal\n",
      "Njet nominal\n",
      "BDT Pass: 29/203\n",
      "\n",
      "Njet nominal\n",
      "BDT Pass: 17/137\n"
     ]
    },
    {
     "data": {
      "text/html": [
       "<pre style=\"white-space:pre;overflow-x:auto;line-height:normal;font-family:Menlo,'DejaVu Sans Mono',consolas,'Courier New',monospace\"></pre>\n"
      ],
      "text/plain": []
     },
     "metadata": {},
     "output_type": "display_data"
    },
    {
     "data": {
      "text/html": [
       "<pre style=\"white-space:pre;overflow-x:auto;line-height:normal;font-family:Menlo,'DejaVu Sans Mono',consolas,'Courier New',monospace\">\n",
       "</pre>\n"
      ],
      "text/plain": [
       "\n"
      ]
     },
     "metadata": {},
     "output_type": "display_data"
    },
    {
     "name": "stdout",
     "output_type": "stream",
     "text": [
      "Runtime: 1.43 minutes\n"
     ]
    }
   ],
   "source": [
    "analyzer = Analyzer(sample_config,histos_config,cuts_config,model_json='./models/BDT_NJetG0_allSigns_goodvtx_v11_max_depth_7_n_estimators_800_lr_0.005.json',\\\n",
    "               nJet_isNominal=True, good_vtx='v27') # run over all samples in the config\n",
    "\n",
    "t1 = time.time()\n",
    "out = analyzer.process(execr='futures')\n",
    "t2 = time.time()\n",
    "\n",
    "print(\"Runtime: {:.2f} minutes\".format((t2-t1)/60))\n",
    "\n",
    "util.save(out,f\"{outdir}/data_{outname}.coffea\")\n",
    "\n",
    "del out, analyzer"
   ]
  },
  {
   "cell_type": "code",
   "execution_count": null,
   "id": "31991c58-da84-487a-a36d-c8c47b0b9523",
   "metadata": {},
   "outputs": [],
   "source": []
  },
  {
   "cell_type": "code",
   "execution_count": 47,
   "id": "ac9bda67-11a2-411f-baf9-68de235c0083",
   "metadata": {},
   "outputs": [],
   "source": [
    "cuts_config = \"./cut_configs/BDT_ABCD_VR2-highPtVtx-15GeV.py\"\n",
    "histos_config = \"./histo_configs/histos_BDTtheta.py\""
   ]
  },
  {
   "cell_type": "code",
   "execution_count": 48,
   "id": "2d185834-24be-4bb1-9099-e5eac1038836",
   "metadata": {},
   "outputs": [],
   "source": [
    "outname = '2017_VR2_v27_ABCD_highPtVtx_15'"
   ]
  },
  {
   "cell_type": "code",
   "execution_count": 49,
   "id": "7975df92-d5f9-43f0-b185-27f56b1aa850",
   "metadata": {},
   "outputs": [],
   "source": [
    "sample_config = \"./sample_configs/skimmed_data_2017_MET_10X_systematics.json\""
   ]
  },
  {
   "cell_type": "code",
   "execution_count": 50,
   "id": "1fad60bf-c41e-46bc-a928-e7d8e00ffbd8",
   "metadata": {},
   "outputs": [
    {
     "name": "stdout",
     "output_type": "stream",
     "text": [
      "None\n"
     ]
    },
    {
     "data": {
      "application/vnd.jupyter.widget-view+json": {
       "model_id": "d42e591c93844a2aaad99e4c28f3f538",
       "version_major": 2,
       "version_minor": 0
      },
      "text/plain": [
       "Output()"
      ]
     },
     "metadata": {},
     "output_type": "display_data"
    },
    {
     "name": "stdout",
     "output_type": "stream",
     "text": [
      "Njet nominal\n",
      "Njet nominal\n",
      "BDT Pass: 8/83\n",
      "BDT Pass: 12/58\n",
      "Njet nominal\n",
      "Njet nominal\n",
      "BDT Pass: 13/114\n",
      "BDT Pass: 12/133\n",
      "Njet nominal\n",
      "BDT Pass: 6/68\n",
      "Njet nominal\n",
      "BDT Pass: 10/72\n",
      "Njet nominal\n",
      "BDT Pass: 13/86\n",
      "Njet nominal\n",
      "BDT Pass: 13/95\n",
      "Njet nominal\n",
      "BDT Pass: 11/70\n",
      "Njet nominal\n",
      "BDT Pass: 18/123\n",
      "Njet nominal\n",
      "BDT Pass: 22/110\n",
      "Njet nominal\n",
      "BDT Pass: 14/118\n",
      "\n",
      "BDT Pass: 17/162\n",
      "Njet nominal\n",
      "BDT Pass: 11/94\n",
      "Njet nominal\n",
      "BDT Pass: 24/177\n",
      "Njet nominal\n",
      "BDT Pass: 41/215\n",
      "Njet nominal\n"
     ]
    },
    {
     "name": "stderr",
     "output_type": "stream",
     "text": [
      "/uscms/home/kyungmip/nobackup/miniconda3/envs/debug/lib/python3.8/site-packages/awkward/_connect/_numpy.py:195: RuntimeWarning: invalid value encountered in arccos\n",
      "  result = getattr(ufunc, method)(\n"
     ]
    },
    {
     "name": "stdout",
     "output_type": "stream",
     "text": [
      "BDT Pass: 53/345\n",
      "Njet nominal\n",
      "BDT Pass: 38/235\n",
      "Njet nominal\n",
      "BDT Pass: 29/203\n",
      "Njet nominal\n",
      "BDT Pass: 17/138\n",
      "Njet nominal\n",
      "BDT Pass: 20/99\n",
      "Njet nominal\n",
      "BDT Pass: 17/137\n"
     ]
    },
    {
     "data": {
      "text/html": [
       "<pre style=\"white-space:pre;overflow-x:auto;line-height:normal;font-family:Menlo,'DejaVu Sans Mono',consolas,'Courier New',monospace\"></pre>\n"
      ],
      "text/plain": []
     },
     "metadata": {},
     "output_type": "display_data"
    },
    {
     "data": {
      "text/html": [
       "<pre style=\"white-space:pre;overflow-x:auto;line-height:normal;font-family:Menlo,'DejaVu Sans Mono',consolas,'Courier New',monospace\">\n",
       "</pre>\n"
      ],
      "text/plain": [
       "\n"
      ]
     },
     "metadata": {},
     "output_type": "display_data"
    },
    {
     "name": "stdout",
     "output_type": "stream",
     "text": [
      "Runtime: 1.52 minutes\n"
     ]
    }
   ],
   "source": [
    "analyzer = Analyzer(sample_config,histos_config,cuts_config,model_json='./models/BDT_NJetG0_allSigns_goodvtx_v11_max_depth_7_n_estimators_800_lr_0.005.json',\\\n",
    "               nJet_isNominal=True, good_vtx='v27') # run over all samples in the config\n",
    "\n",
    "t1 = time.time()\n",
    "out = analyzer.process(execr='futures')\n",
    "t2 = time.time()\n",
    "\n",
    "print(\"Runtime: {:.2f} minutes\".format((t2-t1)/60))\n",
    "\n",
    "util.save(out,f\"{outdir}/data_{outname}.coffea\")\n",
    "\n",
    "del out, analyzer"
   ]
  },
  {
   "cell_type": "code",
   "execution_count": null,
   "id": "eaa2cbe5-3db5-4e7c-94a0-a09394150044",
   "metadata": {},
   "outputs": [],
   "source": []
  },
  {
   "cell_type": "code",
   "execution_count": 51,
   "id": "7c431958-f13b-4a59-8d26-feeab4128e86",
   "metadata": {},
   "outputs": [],
   "source": [
    "cuts_config = \"./cut_configs/BDT_ABCD_VR2-lowPtVtx-15GeV.py\"\n",
    "histos_config = \"./histo_configs/histos_BDTtheta.py\""
   ]
  },
  {
   "cell_type": "code",
   "execution_count": 52,
   "id": "fe508906-b689-4229-87d4-68d5630211d3",
   "metadata": {},
   "outputs": [],
   "source": [
    "outname = '2016_VR2_v27_ABCD_lowPtVtx_15'"
   ]
  },
  {
   "cell_type": "code",
   "execution_count": 53,
   "id": "e1d54f6e-b939-43f7-9046-dc65a80dd1ea",
   "metadata": {},
   "outputs": [],
   "source": [
    "sample_config = \"./sample_configs/skimmed_data_2016_postVFP_MET_10X_systematics.json\""
   ]
  },
  {
   "cell_type": "code",
   "execution_count": 54,
   "id": "3285f072-f901-422d-9bcf-d86a4c59ee82",
   "metadata": {
    "scrolled": true
   },
   "outputs": [
    {
     "name": "stdout",
     "output_type": "stream",
     "text": [
      "None\n"
     ]
    },
    {
     "data": {
      "application/vnd.jupyter.widget-view+json": {
       "model_id": "cd70221a6fad4cb49d58686b21342c57",
       "version_major": 2,
       "version_minor": 0
      },
      "text/plain": [
       "Output()"
      ]
     },
     "metadata": {},
     "output_type": "display_data"
    },
    {
     "name": "stdout",
     "output_type": "stream",
     "text": [
      "Njet nominal\n",
      "BDT Pass: 12/58\n",
      "Njet nominal\n",
      "BDT Pass: 8/83\n",
      "Njet nominal\n",
      "Njet nominal\n",
      "BDT Pass: 13/114\n",
      "BDT Pass: 12/133\n",
      "Njet nominal\n",
      "BDT Pass: 10/72\n",
      "Njet nominal\n",
      "BDT Pass: 6/68\n",
      "Njet nominal\n",
      "BDT Pass: 13/86\n",
      "Njet nominal\n",
      "Njet nominal\n",
      "BDT Pass: 13/95\n",
      "BDT Pass: 11/70\n",
      "Njet nominal\n",
      "BDT Pass: 18/123\n",
      "Njet nominal\n",
      "BDT Pass: 22/110\n",
      "Njet nominal\n",
      "BDT Pass: 14/118\n",
      "Njet nominal\n",
      "BDT Pass: 17/162\n",
      "Njet nominal\n",
      "BDT Pass: 11/94\n",
      "Njet nominal\n",
      "BDT Pass: 24/177\n",
      "Njet nominal\n",
      "BDT Pass: 41/215\n",
      "Njet nominal\n",
      "BDT Pass: 38/235\n",
      "Njet nominal\n"
     ]
    },
    {
     "name": "stderr",
     "output_type": "stream",
     "text": [
      "/uscms/home/kyungmip/nobackup/miniconda3/envs/debug/lib/python3.8/site-packages/awkward/_connect/_numpy.py:195: RuntimeWarning: invalid value encountered in arccos\n",
      "  result = getattr(ufunc, method)(\n"
     ]
    },
    {
     "name": "stdout",
     "output_type": "stream",
     "text": [
      "BDT Pass: 53/345\n",
      "Njet nominal\n",
      "BDT Pass: 29/203\n",
      "Njet nominal\n",
      "Njet nominal\n",
      "BDT Pass: 17/138\n",
      "BDT Pass: 20/99\n",
      "Njet nominal\n",
      "BDT Pass: 17/137\n"
     ]
    },
    {
     "data": {
      "text/html": [
       "<pre style=\"white-space:pre;overflow-x:auto;line-height:normal;font-family:Menlo,'DejaVu Sans Mono',consolas,'Courier New',monospace\"></pre>\n"
      ],
      "text/plain": []
     },
     "metadata": {},
     "output_type": "display_data"
    },
    {
     "data": {
      "text/html": [
       "<pre style=\"white-space:pre;overflow-x:auto;line-height:normal;font-family:Menlo,'DejaVu Sans Mono',consolas,'Courier New',monospace\">\n",
       "</pre>\n"
      ],
      "text/plain": [
       "\n"
      ]
     },
     "metadata": {},
     "output_type": "display_data"
    },
    {
     "name": "stdout",
     "output_type": "stream",
     "text": [
      "Runtime: 1.41 minutes\n"
     ]
    }
   ],
   "source": [
    "analyzer = Analyzer(sample_config,histos_config,cuts_config,model_json='./models/BDT_NJetG0_allSigns_goodvtx_v11_max_depth_7_n_estimators_800_lr_0.005.json',\\\n",
    "               nJet_isNominal=True, good_vtx='v27') # run over all samples in the config\n",
    "\n",
    "t1 = time.time()\n",
    "out = analyzer.process(execr='futures')\n",
    "t2 = time.time()\n",
    "\n",
    "print(\"Runtime: {:.2f} minutes\".format((t2-t1)/60))\n",
    "\n",
    "util.save(out,f\"{outdir}/data_{outname}.coffea\")\n",
    "\n",
    "del out, analyzer"
   ]
  },
  {
   "cell_type": "code",
   "execution_count": 55,
   "id": "902ea8b8-ae82-4830-90ca-7c8fff255f67",
   "metadata": {},
   "outputs": [],
   "source": [
    "cuts_config = \"./cut_configs/BDT_ABCD_VR2-highPtVtx-15GeV.py\"\n",
    "histos_config = \"./histo_configs/histos_BDTtheta.py\""
   ]
  },
  {
   "cell_type": "code",
   "execution_count": 56,
   "id": "a7cc3b72-6758-4dc8-889c-e929599ae27a",
   "metadata": {},
   "outputs": [],
   "source": [
    "outname = '2016_VR2_v27_ABCD_highPtVtx_15'"
   ]
  },
  {
   "cell_type": "code",
   "execution_count": 57,
   "id": "f42bacdb-c028-4191-84fb-37ac41652d78",
   "metadata": {},
   "outputs": [],
   "source": [
    "sample_config = \"./sample_configs/skimmed_data_2016_postVFP_MET_10X_systematics.json\""
   ]
  },
  {
   "cell_type": "code",
   "execution_count": 58,
   "id": "3293aad8-d489-4952-983f-c70a62875aa0",
   "metadata": {
    "scrolled": true
   },
   "outputs": [
    {
     "name": "stdout",
     "output_type": "stream",
     "text": [
      "None\n"
     ]
    },
    {
     "data": {
      "application/vnd.jupyter.widget-view+json": {
       "model_id": "fb723fa499a54b398e3276da311f608c",
       "version_major": 2,
       "version_minor": 0
      },
      "text/plain": [
       "Output()"
      ]
     },
     "metadata": {},
     "output_type": "display_data"
    },
    {
     "name": "stdout",
     "output_type": "stream",
     "text": [
      "Njet nominal\n",
      "BDT Pass: 32/212\n",
      "Njet nominal\n",
      "BDT Pass: 35/318\n",
      "Njet nominal\n",
      "BDT Pass: 6/35\n",
      "Njet nominal\n",
      "BDT Pass: 66/385\n",
      "Njet nominal\n",
      "BDT Pass: 69/491\n"
     ]
    },
    {
     "data": {
      "text/html": [
       "<pre style=\"white-space:pre;overflow-x:auto;line-height:normal;font-family:Menlo,'DejaVu Sans Mono',consolas,'Courier New',monospace\"></pre>\n"
      ],
      "text/plain": []
     },
     "metadata": {},
     "output_type": "display_data"
    },
    {
     "data": {
      "text/html": [
       "<pre style=\"white-space:pre;overflow-x:auto;line-height:normal;font-family:Menlo,'DejaVu Sans Mono',consolas,'Courier New',monospace\">\n",
       "</pre>\n"
      ],
      "text/plain": [
       "\n"
      ]
     },
     "metadata": {},
     "output_type": "display_data"
    },
    {
     "name": "stdout",
     "output_type": "stream",
     "text": [
      "Runtime: 0.55 minutes\n"
     ]
    }
   ],
   "source": [
    "analyzer = Analyzer(sample_config,histos_config,cuts_config,model_json='./models/BDT_NJetG0_allSigns_goodvtx_v11_max_depth_7_n_estimators_800_lr_0.005.json',\\\n",
    "               nJet_isNominal=True, good_vtx='v27') # run over all samples in the config\n",
    "\n",
    "t1 = time.time()\n",
    "out = analyzer.process(execr='futures')\n",
    "t2 = time.time()\n",
    "\n",
    "print(\"Runtime: {:.2f} minutes\".format((t2-t1)/60))\n",
    "\n",
    "util.save(out,f\"{outdir}/data_{outname}.coffea\")\n",
    "\n",
    "del out, analyzer"
   ]
  },
  {
   "cell_type": "code",
   "execution_count": null,
   "id": "c635162c-f3a6-4863-a204-c947df8eb5a7",
   "metadata": {},
   "outputs": [],
   "source": []
  },
  {
   "cell_type": "code",
   "execution_count": null,
   "id": "6e46190e-ef1a-4285-ab0a-98c274b736c3",
   "metadata": {},
   "outputs": [],
   "source": []
  },
  {
   "cell_type": "code",
   "execution_count": null,
   "id": "f3d79b4f-6756-4aec-81ea-47167815046e",
   "metadata": {},
   "outputs": [],
   "source": []
  },
  {
   "cell_type": "code",
   "execution_count": null,
   "id": "6bcdcd09-9349-44dd-8cf4-60a3473d2c58",
   "metadata": {},
   "outputs": [],
   "source": []
  },
  {
   "cell_type": "code",
   "execution_count": null,
   "id": "3a6bbdf0-c6c0-4f80-8e36-4546bb15ecf1",
   "metadata": {},
   "outputs": [],
   "source": []
  },
  {
   "cell_type": "code",
   "execution_count": 27,
   "id": "5b53125e-d5e6-4d79-ba06-6c75e0252ddc",
   "metadata": {},
   "outputs": [],
   "source": [
    "#outname = '2018_VR2_v27_ABCD_lowMET'\n",
    "\n",
    "outname = '2018_VR2_v27_ABCD_highPtVtx'\n",
    "#outname = '2017_VR2_v27_ABCD_lowMET'\n",
    "\n",
    "cuts_config = \"./cut_configs/BDT_ABCD_VR2-highPtVtx.py\""
   ]
  },
  {
   "cell_type": "code",
   "execution_count": 28,
   "id": "3ea7b640-03fb-4269-9bbe-00154e549e66",
   "metadata": {
    "scrolled": true
   },
   "outputs": [
    {
     "name": "stdout",
     "output_type": "stream",
     "text": [
      "None\n"
     ]
    },
    {
     "data": {
      "application/vnd.jupyter.widget-view+json": {
       "model_id": "8b458a1822084102b901d82604aa2d66",
       "version_major": 2,
       "version_minor": 0
      },
      "text/plain": [
       "Output()"
      ]
     },
     "metadata": {},
     "output_type": "display_data"
    },
    {
     "name": "stdout",
     "output_type": "stream",
     "text": [
      "Njet nominal\n",
      "Njet nominal\n"
     ]
    },
    {
     "name": "stderr",
     "output_type": "stream",
     "text": [
      "/uscms/home/kyungmip/nobackup/miniconda3/envs/debug/lib/python3.8/site-packages/awkward/_connect/_numpy.py:195: RuntimeWarning: invalid value encountered in arccos\n",
      "  result = getattr(ufunc, method)(\n"
     ]
    },
    {
     "name": "stdout",
     "output_type": "stream",
     "text": [
      "Njet nominal\n",
      "BDT Pass: 44/291\n",
      "BDT Pass: 41/306\n",
      "BDT Pass: 38/309\n",
      "Njet nominal\n",
      "Njet nominal\n",
      "BDT Pass: 2/40\n",
      "BDT Pass: 50/321Njet nominal\n",
      "BDT Pass: 0/11\n",
      "Njet nominal\n",
      "Njet nominal\n",
      "BDT Pass: 25/151\n",
      "BDT Pass: 45/253\n",
      "Njet nominal\n",
      "BDT Pass: 50/341\n",
      "Njet nominal\n",
      "BDT Pass: 48/292\n",
      "Njet nominal\n",
      "BDT Pass: 13/142\n",
      "Njet nominal\n",
      "Njet nominal\n",
      "BDT Pass: 26/182\n",
      "BDT Pass: 48/290\n",
      "Njet nominal\n",
      "Njet nominal\n",
      "BDT Pass: 33/279\n",
      "Njet nominal\n",
      "BDT Pass: 25/206\n",
      "BDT Pass: 4/34\n"
     ]
    },
    {
     "data": {
      "text/html": [
       "<pre style=\"white-space:pre;overflow-x:auto;line-height:normal;font-family:Menlo,'DejaVu Sans Mono',consolas,'Courier New',monospace\"></pre>\n"
      ],
      "text/plain": []
     },
     "metadata": {},
     "output_type": "display_data"
    },
    {
     "data": {
      "text/html": [
       "<pre style=\"white-space:pre;overflow-x:auto;line-height:normal;font-family:Menlo,'DejaVu Sans Mono',consolas,'Courier New',monospace\">\n",
       "</pre>\n"
      ],
      "text/plain": [
       "\n"
      ]
     },
     "metadata": {},
     "output_type": "display_data"
    },
    {
     "name": "stdout",
     "output_type": "stream",
     "text": [
      "Runtime: 2.00 minutes\n"
     ]
    }
   ],
   "source": [
    "analyzer = Analyzer(sample_config,histos_config,cuts_config,model_json='./models/BDT_NJetG0_allSigns_goodvtx_v11_max_depth_7_n_estimators_800_lr_0.005.json',\\\n",
    "               nJet_isNominal=True, good_vtx='v27') # run over all samples in the config\n",
    "\n",
    "t1 = time.time()\n",
    "out = analyzer.process(execr='futures')\n",
    "t2 = time.time()\n",
    "\n",
    "print(\"Runtime: {:.2f} minutes\".format((t2-t1)/60))\n",
    "\n",
    "util.save(out,f\"{outdir}/data_{outname}.coffea\")\n",
    "\n",
    "del out, analyzer"
   ]
  },
  {
   "cell_type": "code",
   "execution_count": null,
   "id": "5136f072-80fe-4de7-a026-4b5f696c0d99",
   "metadata": {},
   "outputs": [],
   "source": []
  },
  {
   "cell_type": "code",
   "execution_count": null,
   "id": "0bbfdf22-2942-48cd-a03e-85d56632e6b8",
   "metadata": {},
   "outputs": [],
   "source": []
  },
  {
   "cell_type": "code",
   "execution_count": null,
   "id": "c0af4702-1502-4c94-9002-4493a9ba0614",
   "metadata": {},
   "outputs": [],
   "source": []
  },
  {
   "cell_type": "code",
   "execution_count": null,
   "id": "80cdf9a4-f1cd-49ce-9414-510a31ecdb5c",
   "metadata": {},
   "outputs": [],
   "source": []
  },
  {
   "cell_type": "code",
   "execution_count": null,
   "id": "cd4e01dd-aaa6-4ce4-bb42-d673cec52257",
   "metadata": {},
   "outputs": [],
   "source": []
  },
  {
   "cell_type": "code",
   "execution_count": null,
   "id": "42ee7ee3-cba1-42b4-978c-c609e559cadc",
   "metadata": {},
   "outputs": [],
   "source": [
    "#outname = '2018_VR2_v27_ABCD_highPtVtx'\n",
    "#outname = '2018_VR2_v27_ABCD_highPtVtx'\n",
    "outname = '2017_VR2_v27_ABCD_highPtVtx'\n",
    "\n",
    "cuts_config = \"./cut_configs/BDT_ABCD_VR2-highPtVtx.py\""
   ]
  },
  {
   "cell_type": "code",
   "execution_count": null,
   "id": "7b1f58e8-22a0-4711-a988-8a29b9021b9c",
   "metadata": {
    "scrolled": true
   },
   "outputs": [],
   "source": [
    "analyzer = Analyzer(sample_config,histos_config,cuts_config,model_json='./models/BDT_NJetG0_allSigns_goodvtx_v11_max_depth_7_n_estimators_800_lr_0.005.json',\\\n",
    "               nJet_isNominal=True, good_vtx='v27') # run over all samples in the config\n",
    "\n",
    "t1 = time.time()\n",
    "out = analyzer.process(execr='futures')\n",
    "t2 = time.time()\n",
    "\n",
    "print(\"Runtime: {:.2f} minutes\".format((t2-t1)/60))\n",
    "\n",
    "util.save(out,f\"{outdir}/data_{outname}.coffea\")\n",
    "\n",
    "del out, analyzer"
   ]
  },
  {
   "cell_type": "code",
   "execution_count": null,
   "id": "92e81ee5-0800-47c7-8dbc-9f9f25c36ebd",
   "metadata": {},
   "outputs": [],
   "source": [
    "#outname = '2018_VR2_v27_ABCD_lowPtVtx'\n",
    "outname = '2017_VR2_v27_ABCD_lowPtVtx'\n",
    "\n",
    "cuts_config = \"./cut_configs/BDT_ABCD_VR2-lowPtVtx.py\""
   ]
  },
  {
   "cell_type": "code",
   "execution_count": null,
   "id": "e7ef6aae-a337-4b4e-b01a-e1d40056db1e",
   "metadata": {},
   "outputs": [],
   "source": [
    "analyzer = Analyzer(sample_config,histos_config,cuts_config,model_json='./models/BDT_NJetG0_allSigns_goodvtx_v11_max_depth_7_n_estimators_800_lr_0.005.json',\\\n",
    "               nJet_isNominal=True, good_vtx='v27') # run over all samples in the config\n",
    "\n",
    "t1 = time.time()\n",
    "out = analyzer.process(execr='futures')\n",
    "t2 = time.time()\n",
    "\n",
    "print(\"Runtime: {:.2f} minutes\".format((t2-t1)/60))\n",
    "\n",
    "util.save(out,f\"{outdir}/data_{outname}.coffea\")\n",
    "\n",
    "del out, analyzer"
   ]
  },
  {
   "cell_type": "code",
   "execution_count": null,
   "id": "5400a67d-4b60-44aa-bd0b-a294ded332b8",
   "metadata": {},
   "outputs": [],
   "source": []
  },
  {
   "cell_type": "code",
   "execution_count": null,
   "id": "0b727345-18bf-4e12-94e1-e1f90da7c274",
   "metadata": {},
   "outputs": [],
   "source": []
  },
  {
   "cell_type": "code",
   "execution_count": null,
   "id": "1adec31f-ed45-4223-923f-89955ad3c00c",
   "metadata": {},
   "outputs": [],
   "source": []
  },
  {
   "cell_type": "code",
   "execution_count": null,
   "id": "9e429538-eecf-47ec-bee9-ae37e2985c07",
   "metadata": {},
   "outputs": [],
   "source": []
  },
  {
   "cell_type": "code",
   "execution_count": null,
   "id": "901cf67c-4bb2-4a26-a7ea-39cd3c35053a",
   "metadata": {},
   "outputs": [],
   "source": []
  },
  {
   "cell_type": "code",
   "execution_count": null,
   "id": "7a09eb93-1619-4257-9c2d-3e2a0dee1f94",
   "metadata": {},
   "outputs": [],
   "source": []
  },
  {
   "cell_type": "code",
   "execution_count": null,
   "id": "daf28cad-4b54-4a94-ba81-cd355fdddeaa",
   "metadata": {},
   "outputs": [],
   "source": []
  },
  {
   "cell_type": "code",
   "execution_count": 8,
   "id": "28d3bd4b-6531-47af-8d7d-52072e69c22c",
   "metadata": {},
   "outputs": [
    {
     "data": {
      "text/plain": [
       "'2018_VR2_v27_ABCD'"
      ]
     },
     "execution_count": 8,
     "metadata": {},
     "output_type": "execute_result"
    }
   ],
   "source": [
    "outname"
   ]
  },
  {
   "cell_type": "markdown",
   "id": "3e226c93-2b94-49d9-8706-d1c50c98c55f",
   "metadata": {
    "jp-MarkdownHeadingCollapsed": true
   },
   "source": [
    "## VR2"
   ]
  },
  {
   "cell_type": "code",
   "execution_count": 44,
   "id": "8f10a5ee-8241-4d77-b3a8-52af7002aa42",
   "metadata": {},
   "outputs": [],
   "source": [
    "cuts_config = \"./cut_configs/BDT_ABCD_VR2.py\"\n",
    "histos_config = \"./histo_configs/histos_BDTtheta.py\"\n",
    "#outname = 'VR1_goodvtx_v23_NJet4'\n",
    "outname = 'VR2_goodvtx_v23_NJet4'"
   ]
  },
  {
   "cell_type": "markdown",
   "id": "94def020-2320-410b-b2e7-4ae2696fd033",
   "metadata": {
    "jp-MarkdownHeadingCollapsed": true
   },
   "source": [
    "## Bkg"
   ]
  },
  {
   "cell_type": "code",
   "execution_count": 45,
   "id": "24da6408-8d3e-42dc-a2d5-20028a2b9afa",
   "metadata": {},
   "outputs": [],
   "source": [
    "#sample_config = \"./sample_configs/skimmed_bkg_2018_ANv3_2018.json\"\n",
    "sample_config = \"./sample_configs/skimmed_bkg_2018_v13_miniAOD.json\""
   ]
  },
  {
   "cell_type": "code",
   "execution_count": 46,
   "id": "02271e4e-dc59-442b-92b0-70c4b9299235",
   "metadata": {
    "scrolled": true
   },
   "outputs": [
    {
     "data": {
      "application/vnd.jupyter.widget-view+json": {
       "model_id": "8add8ee8192f4ea2ac11e723e3b548c8",
       "version_major": 2,
       "version_minor": 0
      },
      "text/plain": [
       "Output()"
      ]
     },
     "metadata": {},
     "output_type": "display_data"
    },
    {
     "name": "stdout",
     "output_type": "stream",
     "text": [
      "Njet nominal\n",
      "BDT Pass: 2/13\n",
      "Njet nominal\n",
      "Njet nominal\n",
      "BDT Pass: 22/96\n",
      "BDT Pass: 20/95\n",
      "Njet nominal\n",
      "BDT Pass: 0/1\n",
      "Njet nominal\n"
     ]
    },
    {
     "name": "stderr",
     "output_type": "stream",
     "text": [
      "/uscms/home/kyungmip/nobackup/miniconda3/envs/debug/lib/python3.8/site-packages/awkward/_connect/_numpy.py:195: RuntimeWarning: invalid value encountered in arccos\n",
      "  result = getattr(ufunc, method)(\n"
     ]
    },
    {
     "name": "stdout",
     "output_type": "stream",
     "text": [
      "BDT Pass: 7/54\n",
      "Njet nominal\n",
      "Njet nominal\n",
      "BDT Pass: 3/14\n",
      "Njet nominal\n",
      "BDT Pass: 32/129\n",
      "\n",
      "Njet nominalBDT Pass: 18/81\n",
      "\n",
      "BDT Pass: 3/20\n",
      "Njet nominal\n",
      "Njet nominal\n",
      "Njet nominal\n",
      "BDT Pass: 1/9\n",
      "BDT Pass: 0/2\n",
      "Njet nominal\n",
      "Njet nominal\n",
      "BDT Pass: 34/120\n",
      "Njet nominal\n",
      "BDT Pass: 8/56\n",
      "Njet nominal\n",
      "BDT Pass: 5/46\n",
      "Njet nominal\n",
      "BDT Pass: 3/26\n",
      "Njet nominal\n",
      "BDT Pass: 8/35\n",
      "Njet nominal\n",
      "Njet nominal\n",
      "BDT Pass: 35/177\n",
      "BDT Pass: 24/170\n",
      "Njet nominal\n",
      "BDT Pass: 22/134\n",
      "Njet nominal\n",
      "BDT Pass: 1/9\n",
      "Njet nominal\n",
      "BDT Pass: 30/178\n",
      "Njet nominal\n",
      "Njet nominal\n",
      "BDT Pass: 1/18\n",
      "BDT Pass: 3/14\n",
      "Njet nominal\n",
      "BDT Pass: 2/26\n",
      "Njet nominal\n",
      "Njet nominal\n",
      "BDT Pass: 1/15\n",
      "BDT Pass: 14/66\n",
      "Njet nominal\n",
      "BDT Pass: 35/170\n",
      "Njet nominal\n",
      "BDT Pass: 46/203\n",
      "Njet nominal\n",
      "BDT Pass: 45/199\n",
      "Njet nominal\n"
     ]
    },
    {
     "name": "stderr",
     "output_type": "stream",
     "text": [
      "/uscms/home/kyungmip/nobackup/miniconda3/envs/debug/lib/python3.8/site-packages/awkward/_connect/_numpy.py:195: RuntimeWarning: invalid value encountered in arccos\n",
      "  result = getattr(ufunc, method)(\n"
     ]
    },
    {
     "name": "stdout",
     "output_type": "stream",
     "text": [
      "Njet nominal\n",
      "BDT Pass: 33/195\n",
      "Njet nominal\n",
      "Njet nominal\n",
      "Njet nominal\n",
      "Njet nominal\n",
      "Njet nominal\n",
      "BDT Pass: 20/128\n",
      "Njet nominal\n",
      "Njet nominal\n",
      "BDT Pass: 42/204\n",
      "Njet nominal\n",
      "BDT Pass: 16/85\n",
      "Njet nominal\n",
      "BDT Pass: 1/22\n",
      "Njet nominal\n",
      "BDT Pass: 0/1\n",
      "Njet nominal\n",
      "BDT Pass: 23/141\n",
      "Njet nominal\n",
      "BDT Pass: 17/144\n",
      "Njet nominal\n",
      "BDT Pass: 1/8\n",
      "Njet nominal\n",
      "BDT Pass: 3/19\n",
      "Njet nominal\n",
      "BDT Pass: 2/19\n",
      "Njet nominal\n",
      "BDT Pass: 4/39\n",
      "Njet nominal\n",
      "Njet nominal\n",
      "BDT Pass: 5/24\n",
      "BDT Pass: 9/53\n",
      "BDT Pass: 8/41\n",
      "Njet nominal\n",
      "Njet nominal\n",
      "\n",
      "BDT Pass: 2/17\n",
      "Njet nominal\n",
      "Njet nominal\n",
      "Njet nominal\n",
      "BDT Pass: 4/16\n",
      "BDT Pass: 0/1\n",
      "Njet nominal\n",
      "Njet nominal\n",
      "Njet nominal\n",
      "Njet nominal\n",
      "BDT Pass: 20/110Njet nominal\n",
      "Njet nominal\n",
      "Njet nominal\n",
      "BDT Pass: 1/3\n",
      "Njet nominal\n",
      "BDT Pass: 1/4\n",
      "\n",
      "Njet nominal\n",
      "BDT Pass: 0/2\n",
      "Njet nominal\n",
      "Njet nominal\n",
      "BDT Pass: 1/8\n",
      "Njet nominal\n",
      "\n",
      "BDT Pass: 0/4\n",
      "Njet nominal\n",
      "BDT Pass: 3/16\n",
      "Njet nominal\n",
      "BDT Pass: 17/134\n",
      "Njet nominal\n",
      "BDT Pass: 7/89\n",
      "Njet nominal\n",
      "Njet nominal\n",
      "BDT Pass: 27/145\n",
      "BDT Pass: 4/50\n",
      "Njet nominal\n",
      "BDT Pass: 0/6\n",
      "Njet nominal\n",
      "\n",
      "Njet nominal\n",
      "BDT Pass: 1/16\n",
      "Njet nominal\n",
      "BDT Pass: 1/18\n",
      "Njet nominal\n",
      "Njet nominal\n",
      "BDT Pass: 0/6\n",
      "Njet nominal\n",
      "BDT Pass: 0/31\n"
     ]
    },
    {
     "data": {
      "text/html": [
       "<pre style=\"white-space:pre;overflow-x:auto;line-height:normal;font-family:Menlo,'DejaVu Sans Mono',consolas,'Courier New',monospace\"></pre>\n"
      ],
      "text/plain": []
     },
     "metadata": {},
     "output_type": "display_data"
    },
    {
     "data": {
      "text/html": [
       "<pre style=\"white-space:pre;overflow-x:auto;line-height:normal;font-family:Menlo,'DejaVu Sans Mono',consolas,'Courier New',monospace\">\n",
       "</pre>\n"
      ],
      "text/plain": [
       "\n"
      ]
     },
     "metadata": {},
     "output_type": "display_data"
    },
    {
     "name": "stdout",
     "output_type": "stream",
     "text": [
      "Runtime: 7.23 minutes\n"
     ]
    }
   ],
   "source": [
    "# SR / VR2\n",
    "test = Analyzer(sample_config,histos_config,cuts_config,model_json='./models/BDT_NJetG0_allSigns_goodvtx_v11_max_depth_7_n_estimators_800_lr_0.005.json',\\\n",
    "               nJet_isNominal=True, good_vtx='v23') # run over all samples in the config\n",
    "\n",
    "# VR1\n",
    "#test = Analyzer(sample_config,histos_config,cuts_config,model_json='./models/BDT_NJetG0_allSigns_goodvtx_v11_max_depth_7_n_estimators_800_lr_0.005.json',\\\n",
    "#               nJet_isNominal=None, good_vtx='v11') # run over all samples in the config\n",
    "\n",
    "\n",
    "t1 = time.time()\n",
    "out = test.process(execr='futures')\n",
    "t2 = time.time()\n",
    "\n",
    "print(\"Runtime: {:.2f} minutes\".format((t2-t1)/60))\n",
    "\n",
    "util.save(out,f\"{outdir}/bkg_{outname}.coffea\")\n",
    "\n",
    "del out, test"
   ]
  },
  {
   "cell_type": "markdown",
   "id": "be660351-3d0c-4e1b-8df4-8fd38a722749",
   "metadata": {
    "jp-MarkdownHeadingCollapsed": true
   },
   "source": [
    "## Data"
   ]
  },
  {
   "cell_type": "code",
   "execution_count": 47,
   "id": "5216e2f1-012b-420f-89e3-af1e0639f2e8",
   "metadata": {},
   "outputs": [],
   "source": [
    "#sample_config = \"./sample_configs/skimmed_data_2018_MET_ANv3_2018.json\" # WITH refitted mass & HEM veto NOT applied\n",
    "sample_config = \"./sample_configs/skimmed_data_2018_MET_v7.json\""
   ]
  },
  {
   "cell_type": "code",
   "execution_count": 48,
   "id": "82ed07d8-8112-40c3-926d-334a3f517030",
   "metadata": {
    "scrolled": true
   },
   "outputs": [
    {
     "data": {
      "application/vnd.jupyter.widget-view+json": {
       "model_id": "24fddfa78b544cccb331184a0c0d9338",
       "version_major": 2,
       "version_minor": 0
      },
      "text/plain": [
       "Output()"
      ]
     },
     "metadata": {},
     "output_type": "display_data"
    },
    {
     "name": "stdout",
     "output_type": "stream",
     "text": [
      "Njet nominal\n",
      "BDT Pass: 10/47\n",
      "Njet nominal\n",
      "BDT Pass: 6/62\n",
      "Njet nominal\n",
      "Njet nominal\n",
      "BDT Pass: 11/57\n",
      "BDT Pass: 10/63\n",
      "Njet nominal\n",
      "BDT Pass: 1/9\n",
      "Njet nominal\n",
      "BDT Pass: 6/45\n",
      "Njet nominal\n",
      "BDT Pass: 11/55\n",
      "Njet nominal\n",
      "BDT Pass: 9/53\n",
      "Njet nominal\n",
      "BDT Pass: 5/39\n",
      "Njet nominal\n",
      "Njet nominal\n",
      "BDT Pass: 0/21\n",
      "BDT Pass: 3/15\n",
      "Njet nominal\n",
      "Njet nominal\n",
      "BDT Pass: 7/31\n",
      "BDT Pass: 13/60\n",
      "Njet nominal\n",
      "BDT Pass: 1/12\n",
      "Njet nominal\n",
      "BDT Pass: 5/22\n",
      "Njet nominal\n",
      "BDT Pass: 13/53\n",
      "Njet nominal\n",
      "BDT Pass: 9/64\n"
     ]
    },
    {
     "data": {
      "text/html": [
       "<pre style=\"white-space:pre;overflow-x:auto;line-height:normal;font-family:Menlo,'DejaVu Sans Mono',consolas,'Courier New',monospace\"></pre>\n"
      ],
      "text/plain": []
     },
     "metadata": {},
     "output_type": "display_data"
    },
    {
     "data": {
      "text/html": [
       "<pre style=\"white-space:pre;overflow-x:auto;line-height:normal;font-family:Menlo,'DejaVu Sans Mono',consolas,'Courier New',monospace\">\n",
       "</pre>\n"
      ],
      "text/plain": [
       "\n"
      ]
     },
     "metadata": {},
     "output_type": "display_data"
    },
    {
     "name": "stdout",
     "output_type": "stream",
     "text": [
      "Runtime: 1.58 minutes\n"
     ]
    }
   ],
   "source": [
    "# VR1\n",
    "analyzer = Analyzer(sample_config,histos_config,cuts_config,model_json='./models/BDT_NJetG0_allSigns_goodvtx_v11_max_depth_7_n_estimators_800_lr_0.005.json',\\\n",
    "               nJet_isNominal=True, good_vtx='v23') # run over all samples in the config\n",
    "\n",
    "# VR2\n",
    "#analyzer = Analyzer(sample_config,histos_config,cuts_config,model_json='./models/BDT_NJetG0_allSigns_goodvtx_v11_max_depth_7_n_estimators_800_lr_0.005.json',\\\n",
    "#               nJet_isNominal=None, good_vtx='v11') # run over all samples in the config\n",
    "\n",
    "\n",
    "t1 = time.time()\n",
    "out = analyzer.process(execr='futures')\n",
    "t2 = time.time()\n",
    "\n",
    "print(\"Runtime: {:.2f} minutes\".format((t2-t1)/60))\n",
    "\n",
    "util.save(out,f\"{outdir}/data_{outname}.coffea\")\n",
    "\n",
    "del out, analyzer"
   ]
  },
  {
   "cell_type": "code",
   "execution_count": null,
   "id": "d6a64d34-38ad-47fb-90de-7d636551587e",
   "metadata": {},
   "outputs": [],
   "source": []
  }
 ],
 "metadata": {
  "kernelspec": {
   "display_name": "Python 3 (ipykernel)",
   "language": "python",
   "name": "python3"
  },
  "language_info": {
   "codemirror_mode": {
    "name": "ipython",
    "version": 3
   },
   "file_extension": ".py",
   "mimetype": "text/x-python",
   "name": "python",
   "nbconvert_exporter": "python",
   "pygments_lexer": "ipython3",
   "version": "3.8.17"
  }
 },
 "nbformat": 4,
 "nbformat_minor": 5
}
