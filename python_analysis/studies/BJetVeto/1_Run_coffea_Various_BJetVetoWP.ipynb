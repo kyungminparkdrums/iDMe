{
 "cells": [
  {
   "cell_type": "code",
   "execution_count": 1,
   "id": "e94963cd-6dd7-44cd-9e04-b15d8ada688c",
   "metadata": {},
   "outputs": [],
   "source": [
    "%load_ext autoreload\n",
    "%autoreload 2\n",
    "import uproot\n",
    "import numpy as np\n",
    "import matplotlib.pyplot as plt\n",
    "import awkward as ak\n",
    "import sys\n",
    "sys.path.append(\"../../analysisTools/\")\n",
    "from analysisTools import Analyzer\n",
    "from analysisTools import loadSchema\n",
    "import analysisTools as tools\n",
    "import analysisSubroutines as routines\n",
    "import plotTools as ptools\n",
    "import utils\n",
    "import importlib\n",
    "import coffea.util as util\n",
    "import time\n",
    "import json\n",
    "import os\n",
    "import glob\n",
    "import pandas as pd"
   ]
  },
  {
   "cell_type": "code",
   "execution_count": 2,
   "id": "80730354-47ca-4b54-8913-832f3a6fcbe7",
   "metadata": {},
   "outputs": [
    {
     "data": {
      "text/plain": [
       "0"
      ]
     },
     "execution_count": 2,
     "metadata": {},
     "output_type": "execute_result"
    }
   ],
   "source": [
    "outdir = \"./coffea/\"\n",
    "os.system(f'mkdir -p {outdir}')"
   ]
  },
  {
   "cell_type": "markdown",
   "id": "c0386d2a-9699-4903-9620-94105baa74ed",
   "metadata": {},
   "source": [
    "## SR: BJet Veto Loose WP"
   ]
  },
  {
   "cell_type": "markdown",
   "id": "9d1bca0d-928c-4671-b836-63b6cc6e3733",
   "metadata": {},
   "source": [
    "#### Configs"
   ]
  },
  {
   "cell_type": "code",
   "execution_count": 3,
   "id": "a2b371d8-ebc4-4d4b-b5d1-f3c7abe6ef9f",
   "metadata": {},
   "outputs": [],
   "source": [
    "cuts_config = \"./cut_configs/SR_BJetLoose.py\""
   ]
  },
  {
   "cell_type": "code",
   "execution_count": 4,
   "id": "67c13a84-0d94-45ba-8644-ba5baf1e1a57",
   "metadata": {},
   "outputs": [],
   "source": [
    "#histos_config = \"./histo_configs/histos.py\" # new histogramming framework\n",
    "histos_config = \"./histo_configs/histo_SR.py\" # old histogramming framework"
   ]
  },
  {
   "cell_type": "markdown",
   "id": "84f19506-e4fd-49e2-86aa-936c72b9f6db",
   "metadata": {},
   "source": [
    "### Signal"
   ]
  },
  {
   "cell_type": "code",
   "execution_count": 5,
   "id": "3dff0d97-df35-41d8-9d43-9408306b234f",
   "metadata": {},
   "outputs": [],
   "source": [
    "sample_config = \"./sample_configs/skimmed_signal_v9_miniAOD_2018_aEM.json\" # NJet [1,2] preselection applied\n",
    "#sample_config = \"./sample_configs/skimmed_signal_v9_miniAOD_2018_aEM_noNJetCut.json\" # No NJet cut; only NJet > 0 applied in analyzer"
   ]
  },
  {
   "cell_type": "code",
   "execution_count": 6,
   "id": "a355af5d-9c4e-40af-b108-ff1afeb6edc9",
   "metadata": {
    "scrolled": true
   },
   "outputs": [
    {
     "data": {
      "application/vnd.jupyter.widget-view+json": {
       "model_id": "8475ad00ae0c4e0b929672624c1528da",
       "version_major": 2,
       "version_minor": 0
      },
      "text/plain": [
       "Output()"
      ]
     },
     "metadata": {},
     "output_type": "display_data"
    },
    {
     "data": {
      "text/html": [
       "<pre style=\"white-space:pre;overflow-x:auto;line-height:normal;font-family:Menlo,'DejaVu Sans Mono',consolas,'Courier New',monospace\"></pre>\n"
      ],
      "text/plain": []
     },
     "metadata": {},
     "output_type": "display_data"
    },
    {
     "data": {
      "text/html": [
       "<pre style=\"white-space:pre;overflow-x:auto;line-height:normal;font-family:Menlo,'DejaVu Sans Mono',consolas,'Courier New',monospace\">\n",
       "</pre>\n"
      ],
      "text/plain": [
       "\n"
      ]
     },
     "metadata": {},
     "output_type": "display_data"
    },
    {
     "data": {
      "application/vnd.jupyter.widget-view+json": {
       "model_id": "6c3f4240d35c4e81adcfc3e0ecefa313",
       "version_major": 2,
       "version_minor": 0
      },
      "text/plain": [
       "Output()"
      ]
     },
     "metadata": {},
     "output_type": "display_data"
    },
    {
     "name": "stdout",
     "output_type": "stream",
     "text": [
      "BDT Pass: 2552/3437\n",
      "BDT Pass: 2912/3605\n",
      "BDT Pass: 7445/9605\n",
      "BDT Pass: 6007/8746\n",
      "BDT Pass: 1219/1533\n",
      "BDT Pass: 1803/2241\n",
      "BDT Pass: 995/1199\n",
      "BDT Pass: 10227/12181\n",
      "BDT Pass: 3082/3545\n",
      "BDT Pass: 7548/10148\n",
      "BDT Pass: 946/1156\n",
      "BDT Pass: 2554/3352\n",
      "BDT Pass: 2605/3080\n",
      "BDT Pass: 805/938\n",
      "BDT Pass: 2811/3727\n",
      "BDT Pass: 2733/3080\n",
      "BDT Pass: 708/800\n",
      "BDT Pass: 1968/2170\n",
      "BDT Pass: 2292/2869\n",
      "BDT Pass: 28/54\n",
      "BDT Pass: 1976/2413\n",
      "BDT Pass: 216/316\n",
      "BDT Pass: 457/596\n",
      "BDT Pass: 43/179\n",
      "BDT Pass: 109/316\n",
      "BDT Pass: 122/316\n",
      "BDT Pass: 865/926\n",
      "BDT Pass: 671/764\n",
      "BDT Pass: 185/213\n",
      "BDT Pass: 1161/1332\n",
      "BDT Pass: 2473/2661\n",
      "BDT Pass: 956/1058\n",
      "BDT Pass: 2019/2371BDT Pass: 2179/2315\n",
      "BDT Pass: 1840/2098\n",
      "BDT Pass: 2102/2249\n",
      "BDT Pass: 1076/1250\n",
      "BDT Pass: 417/464\n",
      "BDT Pass: 1759/1838\n",
      "BDT Pass: 1877/2074\n",
      "BDT Pass: 1723/1989\n",
      "BDT Pass: 1682/1828\n",
      "BDT Pass: 856/1024\n",
      "BDT Pass: 408/477\n",
      "BDT Pass: 1451/1623\n",
      "BDT Pass: 1625/1729\n",
      "BDT Pass: 364/458\n",
      "BDT Pass: 1436/1549\n",
      "BDT Pass: 887/985\n",
      "BDT Pass: 207/288\n",
      "BDT Pass: 1001/1124\n",
      "BDT Pass: 1113/1214\n",
      "BDT Pass: 909/1030\n",
      "BDT Pass: 1448/2022\n",
      "BDT Pass: 224/378\n",
      "BDT Pass: 637/873\n",
      "BDT Pass: 4254/5683\n",
      "BDT Pass: 3332/5050\n",
      "BDT Pass: 765/983\n",
      "BDT Pass: 839/1179\n",
      "BDT Pass: 3559/4516\n",
      "BDT Pass: 8555/10432\n"
     ]
    },
    {
     "data": {
      "text/html": [
       "<pre style=\"white-space:pre;overflow-x:auto;line-height:normal;font-family:Menlo,'DejaVu Sans Mono',consolas,'Courier New',monospace\"></pre>\n"
      ],
      "text/plain": []
     },
     "metadata": {},
     "output_type": "display_data"
    },
    {
     "data": {
      "text/html": [
       "<pre style=\"white-space:pre;overflow-x:auto;line-height:normal;font-family:Menlo,'DejaVu Sans Mono',consolas,'Courier New',monospace\">\n",
       "</pre>\n"
      ],
      "text/plain": [
       "\n"
      ]
     },
     "metadata": {},
     "output_type": "display_data"
    },
    {
     "name": "stdout",
     "output_type": "stream",
     "text": [
      "Runtime: 2.3232873916625976 minutes\n"
     ]
    }
   ],
   "source": [
    "test = Analyzer(sample_config, histos_config, cuts_config)\n",
    "t1 = time.time()\n",
    "out = test.process(execr='futures', workers=4)\n",
    "t2 = time.time()\n",
    "print(f\"Runtime: {(t2-t1)/60} minutes\")\n",
    "util.save(out,f\"{outdir}/signal_BJetVetoLoose.coffea\")\n",
    "del out, test"
   ]
  },
  {
   "cell_type": "markdown",
   "id": "22727b08-0078-4652-a57b-9c2312e7fccc",
   "metadata": {},
   "source": [
    "### Background"
   ]
  },
  {
   "cell_type": "code",
   "execution_count": 7,
   "id": "60f35816-5d5c-4af3-93a6-f473500d12dc",
   "metadata": {},
   "outputs": [],
   "source": [
    "sample_config = \"./sample_configs/skimmed_bkg_2018_v7_miniAOD.json\" # NJet [1,2] preselection applied\n",
    "#sample_config = \"./sample_configs/skimmed_bkg_2018_v7_miniAOD_noNJetCut.json\""
   ]
  },
  {
   "cell_type": "code",
   "execution_count": 8,
   "id": "78e32a58-c7c1-4df1-9fff-d5710e78220d",
   "metadata": {
    "scrolled": true
   },
   "outputs": [
    {
     "data": {
      "application/vnd.jupyter.widget-view+json": {
       "model_id": "20187eae16fb4e969d9dfbcac8de9f0f",
       "version_major": 2,
       "version_minor": 0
      },
      "text/plain": [
       "Output()"
      ]
     },
     "metadata": {},
     "output_type": "display_data"
    },
    {
     "data": {
      "text/html": [
       "<pre style=\"white-space:pre;overflow-x:auto;line-height:normal;font-family:Menlo,'DejaVu Sans Mono',consolas,'Courier New',monospace\"></pre>\n"
      ],
      "text/plain": []
     },
     "metadata": {},
     "output_type": "display_data"
    },
    {
     "data": {
      "text/html": [
       "<pre style=\"white-space:pre;overflow-x:auto;line-height:normal;font-family:Menlo,'DejaVu Sans Mono',consolas,'Courier New',monospace\">\n",
       "</pre>\n"
      ],
      "text/plain": [
       "\n"
      ]
     },
     "metadata": {},
     "output_type": "display_data"
    },
    {
     "data": {
      "application/vnd.jupyter.widget-view+json": {
       "model_id": "8ff1dcd98f624d8ca53c5f092bef77b1",
       "version_major": 2,
       "version_minor": 0
      },
      "text/plain": [
       "Output()"
      ]
     },
     "metadata": {},
     "output_type": "display_data"
    },
    {
     "name": "stdout",
     "output_type": "stream",
     "text": [
      "BDT Pass: 0/1\n",
      "BDT Pass: 0/27\n",
      "BDT Pass: 0/2\n",
      "BDT Pass: 2/132\n",
      "BDT Pass: 3/126\n",
      "BDT Pass: 1/40\n",
      "BDT Pass: 2/76\n",
      "BDT Pass: 0/4\n",
      "BDT Pass: 11/634\n",
      "BDT Pass: 25/1031\n",
      "BDT Pass: 4/120\n",
      "BDT Pass: 1/29\n",
      "BDT Pass: 0/29\n",
      "BDT Pass: 0/9\n",
      "BDT Pass: 0/8\n",
      "BDT Pass: 0/13\n",
      "BDT Pass: 1/7\n",
      "BDT Pass: 0/21\n",
      "BDT Pass: 1/29\n",
      "BDT Pass: 3/30\n",
      "BDT Pass: 0/13\n",
      "BDT Pass: 10/378\n",
      "BDT Pass: 0/5\n",
      "BDT Pass: 1/14\n",
      "BDT Pass: 1/21\n",
      "BDT Pass: 1/9\n",
      "BDT Pass: 0/3\n",
      "BDT Pass: 0/6BDT Pass: 0/1\n",
      "\n",
      "BDT Pass: 0/2\n",
      "BDT Pass: 0/4\n",
      "BDT Pass: 17/634\n",
      "BDT Pass: 0/22\n",
      "BDT Pass: 1/6\n",
      "BDT Pass: 1/1\n",
      "BDT Pass: 0/15\n"
     ]
    },
    {
     "data": {
      "text/html": [
       "<pre style=\"white-space:pre;overflow-x:auto;line-height:normal;font-family:Menlo,'DejaVu Sans Mono',consolas,'Courier New',monospace\"></pre>\n"
      ],
      "text/plain": []
     },
     "metadata": {},
     "output_type": "display_data"
    },
    {
     "data": {
      "text/html": [
       "<pre style=\"white-space:pre;overflow-x:auto;line-height:normal;font-family:Menlo,'DejaVu Sans Mono',consolas,'Courier New',monospace\">\n",
       "</pre>\n"
      ],
      "text/plain": [
       "\n"
      ]
     },
     "metadata": {},
     "output_type": "display_data"
    },
    {
     "name": "stdout",
     "output_type": "stream",
     "text": [
      "Runtime: 1.6617826382319132 minutes\n"
     ]
    }
   ],
   "source": [
    "test = Analyzer(sample_config, histos_config, cuts_config)\n",
    "t1 = time.time()\n",
    "out = test.process(execr='futures', workers=4)\n",
    "t2 = time.time()\n",
    "print(f\"Runtime: {(t2-t1)/60} minutes\")\n",
    "util.save(out,f\"{outdir}/background_BJetVetoLoose.coffea\")\n",
    "del out, test"
   ]
  },
  {
   "cell_type": "code",
   "execution_count": null,
   "id": "4c88511e-4122-4008-85a1-871514e7ad8d",
   "metadata": {},
   "outputs": [],
   "source": []
  },
  {
   "cell_type": "markdown",
   "id": "6b0b11a4-283c-4e11-9f28-a95e100395c9",
   "metadata": {},
   "source": [
    "## SR: BJet Veto Medium WP"
   ]
  },
  {
   "cell_type": "markdown",
   "id": "864ba23f-bb9d-4b7a-8f1c-ed8d3acf3938",
   "metadata": {},
   "source": [
    "#### Configs"
   ]
  },
  {
   "cell_type": "code",
   "execution_count": 3,
   "id": "c7f65876-5410-4232-8bf1-315278460c9c",
   "metadata": {},
   "outputs": [],
   "source": [
    "cuts_config = \"./cut_configs/SR_BJetMedium.py\""
   ]
  },
  {
   "cell_type": "code",
   "execution_count": 4,
   "id": "f07110c9-9140-4cd4-87ce-7888dc1417f7",
   "metadata": {},
   "outputs": [],
   "source": [
    "#histos_config = \"./histo_configs/histos.py\" # new histogramming framework\n",
    "histos_config = \"./histo_configs/histo_SR.py\" # old histogramming framework"
   ]
  },
  {
   "cell_type": "markdown",
   "id": "be2f4047-1512-4e00-8909-3fee66d656a9",
   "metadata": {},
   "source": [
    "### Signal"
   ]
  },
  {
   "cell_type": "code",
   "execution_count": 5,
   "id": "40d5b96d-951c-43a7-8d5e-ce3792735904",
   "metadata": {},
   "outputs": [],
   "source": [
    "sample_config = \"./sample_configs/skimmed_signal_v9_miniAOD_2018_aEM.json\" # NJet [1,2] preselection applied\n",
    "#sample_config = \"./sample_configs/skimmed_signal_v9_miniAOD_2018_aEM_noNJetCut.json\" # No NJet cut; only NJet > 0 applied in analyzer"
   ]
  },
  {
   "cell_type": "code",
   "execution_count": 6,
   "id": "67a9c513-c74f-424a-88d9-8637bfce62bf",
   "metadata": {
    "scrolled": true
   },
   "outputs": [
    {
     "data": {
      "application/vnd.jupyter.widget-view+json": {
       "model_id": "010ec57fd6e443b88d4eb03487f22cc3",
       "version_major": 2,
       "version_minor": 0
      },
      "text/plain": [
       "Output()"
      ]
     },
     "metadata": {},
     "output_type": "display_data"
    },
    {
     "data": {
      "text/html": [
       "<pre style=\"white-space:pre;overflow-x:auto;line-height:normal;font-family:Menlo,'DejaVu Sans Mono',consolas,'Courier New',monospace\"></pre>\n"
      ],
      "text/plain": []
     },
     "metadata": {},
     "output_type": "display_data"
    },
    {
     "data": {
      "text/html": [
       "<pre style=\"white-space:pre;overflow-x:auto;line-height:normal;font-family:Menlo,'DejaVu Sans Mono',consolas,'Courier New',monospace\">\n",
       "</pre>\n"
      ],
      "text/plain": [
       "\n"
      ]
     },
     "metadata": {},
     "output_type": "display_data"
    },
    {
     "data": {
      "application/vnd.jupyter.widget-view+json": {
       "model_id": "6945f41fb9e6407aadb357f610bab619",
       "version_major": 2,
       "version_minor": 0
      },
      "text/plain": [
       "Output()"
      ]
     },
     "metadata": {},
     "output_type": "display_data"
    },
    {
     "name": "stdout",
     "output_type": "stream",
     "text": [
      "BDT Pass: 2935/3933\n",
      "BDT Pass: 3344/4139\n",
      "BDT Pass: 8516/10963\n",
      "BDT Pass: 6911/10003\n",
      "BDT Pass: 1387/1744\n",
      "BDT Pass: 2088/2585\n",
      "BDT Pass: 1146/1377\n",
      "BDT Pass: 11732/13957\n",
      "BDT Pass: 3551/4087\n",
      "BDT Pass: 8659/11630\n",
      "BDT Pass: 1074/1316\n",
      "BDT Pass: 2907/3820\n",
      "BDT Pass: 2959/3508\n",
      "BDT Pass: 949/1101\n",
      "BDT Pass: 3250/4288\n",
      "BDT Pass: 3110/3501\n",
      "BDT Pass: 2671/3343\n",
      "BDT Pass: 2243/2471BDT Pass: 802/899\n",
      "\n",
      "BDT Pass: 29/57\n",
      "BDT Pass: 250/363\n",
      "BDT Pass: 526/683\n",
      "BDT Pass: 2267/2768\n",
      "BDT Pass: 117/347\n",
      "BDT Pass: 137/347\n",
      "BDT Pass: 51/202\n",
      "BDT Pass: 780/884\n",
      "BDT Pass: 213/245\n",
      "BDT Pass: 989/1065\n",
      "BDT Pass: 1330/1522\n",
      "BDT Pass: 2841/3054\n",
      "BDT Pass: 2297/2693\n",
      "BDT Pass: 1056/1174\n",
      "BDT Pass: 2112/2405\n",
      "BDT Pass: 2516/2677\n",
      "BDT Pass: 2386/2555\n",
      "BDT Pass: 1220/1413\n",
      "BDT Pass: 462/517\n",
      "BDT Pass: 1980/2282\n",
      "BDT Pass: 1987/2080\n",
      "BDT Pass: 971/1157\n",
      "BDT Pass: 2141/2364\n",
      "BDT Pass: 1911/2078\n",
      "BDT Pass: 463/537\n",
      "BDT Pass: 1630/1821\n",
      "BDT Pass: 1825/1944\n",
      "BDT Pass: 1632/1761\n",
      "BDT Pass: 416/520\n",
      "BDT Pass: 1028/1138\n",
      "BDT Pass: 1144/1291\n",
      "BDT Pass: 240/331\n",
      "BDT Pass: 1040/1179\n",
      "BDT Pass: 1260/1373\n",
      "BDT Pass: 1648/2291\n",
      "BDT Pass: 257/433\n",
      "BDT Pass: 4934/6554\n",
      "BDT Pass: 726/997\n",
      "BDT Pass: 3858/5816\n",
      "BDT Pass: 894/1136\n",
      "BDT Pass: 982/1373\n",
      "BDT Pass: 4062/5156\n",
      "BDT Pass: 9814/11933\n"
     ]
    },
    {
     "data": {
      "text/html": [
       "<pre style=\"white-space:pre;overflow-x:auto;line-height:normal;font-family:Menlo,'DejaVu Sans Mono',consolas,'Courier New',monospace\"></pre>\n"
      ],
      "text/plain": []
     },
     "metadata": {},
     "output_type": "display_data"
    },
    {
     "data": {
      "text/html": [
       "<pre style=\"white-space:pre;overflow-x:auto;line-height:normal;font-family:Menlo,'DejaVu Sans Mono',consolas,'Courier New',monospace\">\n",
       "</pre>\n"
      ],
      "text/plain": [
       "\n"
      ]
     },
     "metadata": {},
     "output_type": "display_data"
    },
    {
     "name": "stdout",
     "output_type": "stream",
     "text": [
      "Runtime: 2.454516931374868 minutes\n"
     ]
    }
   ],
   "source": [
    "test = Analyzer(sample_config, histos_config, cuts_config)\n",
    "t1 = time.time()\n",
    "out = test.process(execr='futures', workers=4)\n",
    "t2 = time.time()\n",
    "print(f\"Runtime: {(t2-t1)/60} minutes\")\n",
    "util.save(out,f\"{outdir}/signal_BJetVetoMedium.coffea\")\n",
    "del out, test"
   ]
  },
  {
   "cell_type": "markdown",
   "id": "0a41f603-0797-43df-b932-fdf20128df12",
   "metadata": {},
   "source": [
    "### Background"
   ]
  },
  {
   "cell_type": "code",
   "execution_count": 7,
   "id": "f7a0e716-6ce2-4136-b3ab-6f8bd3ccb7e2",
   "metadata": {},
   "outputs": [],
   "source": [
    "sample_config = \"./sample_configs/skimmed_bkg_2018_v7_miniAOD.json\" # NJet [1,2] preselection applied\n",
    "#sample_config = \"./sample_configs/skimmed_bkg_2018_v7_miniAOD_noNJetCut.json\""
   ]
  },
  {
   "cell_type": "code",
   "execution_count": 8,
   "id": "558853a8-9169-465e-9555-fcfada77963b",
   "metadata": {
    "scrolled": true
   },
   "outputs": [
    {
     "data": {
      "application/vnd.jupyter.widget-view+json": {
       "model_id": "a266a04304b4401195c5c62b6bf83ab9",
       "version_major": 2,
       "version_minor": 0
      },
      "text/plain": [
       "Output()"
      ]
     },
     "metadata": {},
     "output_type": "display_data"
    },
    {
     "data": {
      "text/html": [
       "<pre style=\"white-space:pre;overflow-x:auto;line-height:normal;font-family:Menlo,'DejaVu Sans Mono',consolas,'Courier New',monospace\"></pre>\n"
      ],
      "text/plain": []
     },
     "metadata": {},
     "output_type": "display_data"
    },
    {
     "data": {
      "text/html": [
       "<pre style=\"white-space:pre;overflow-x:auto;line-height:normal;font-family:Menlo,'DejaVu Sans Mono',consolas,'Courier New',monospace\">\n",
       "</pre>\n"
      ],
      "text/plain": [
       "\n"
      ]
     },
     "metadata": {},
     "output_type": "display_data"
    },
    {
     "data": {
      "application/vnd.jupyter.widget-view+json": {
       "model_id": "8595afb88ad348a1af0334cc86549c17",
       "version_major": 2,
       "version_minor": 0
      },
      "text/plain": [
       "Output()"
      ]
     },
     "metadata": {},
     "output_type": "display_data"
    },
    {
     "name": "stdout",
     "output_type": "stream",
     "text": [
      "BDT Pass: 0/2\n",
      "BDT Pass: 0/44\n",
      "BDT Pass: 0/3\n",
      "BDT Pass: 2/182\n",
      "BDT Pass: 3/140\n",
      "BDT Pass: 2/76\n",
      "BDT Pass: 4/105\n",
      "BDT Pass: 0/13\n",
      "BDT Pass: 16/820\n",
      "BDT Pass: 31/1223\n",
      "BDT Pass: 4/155\n",
      "BDT Pass: 1/33\n",
      "BDT Pass: 0/29\n",
      "BDT Pass: 0/38\n",
      "BDT Pass: 0/11\n",
      "BDT Pass: 0/11\n",
      "BDT Pass: 2/10\n",
      "BDT Pass: 1/29\n",
      "BDT Pass: 0/28\n",
      "BDT Pass: 4/38\n",
      "BDT Pass: 2/19\n",
      "BDT Pass: 12/462\n",
      "BDT Pass: 0/7\n",
      "BDT Pass: 1/18\n",
      "BDT Pass: 1/27\n",
      "BDT Pass: 0/1\n",
      "BDT Pass: 4/20\n",
      "BDT Pass: 0/3\n",
      "BDT Pass: 0/7\n",
      "BDT Pass: 0/3\n",
      "BDT Pass: 0/30\n",
      "BDT Pass: 0/2\n",
      "BDT Pass: 0/7\n",
      "BDT Pass: 1/1\n",
      "BDT Pass: 1/6\n",
      "BDT Pass: 0/25\n",
      "BDT Pass: 21/749\n"
     ]
    },
    {
     "data": {
      "text/html": [
       "<pre style=\"white-space:pre;overflow-x:auto;line-height:normal;font-family:Menlo,'DejaVu Sans Mono',consolas,'Courier New',monospace\"></pre>\n"
      ],
      "text/plain": []
     },
     "metadata": {},
     "output_type": "display_data"
    },
    {
     "data": {
      "text/html": [
       "<pre style=\"white-space:pre;overflow-x:auto;line-height:normal;font-family:Menlo,'DejaVu Sans Mono',consolas,'Courier New',monospace\">\n",
       "</pre>\n"
      ],
      "text/plain": [
       "\n"
      ]
     },
     "metadata": {},
     "output_type": "display_data"
    },
    {
     "name": "stdout",
     "output_type": "stream",
     "text": [
      "Runtime: 1.8551109592119852 minutes\n"
     ]
    }
   ],
   "source": [
    "test = Analyzer(sample_config, histos_config, cuts_config)\n",
    "t1 = time.time()\n",
    "out = test.process(execr='futures', workers=4)\n",
    "t2 = time.time()\n",
    "print(f\"Runtime: {(t2-t1)/60} minutes\")\n",
    "util.save(out,f\"{outdir}/background_BJetVetoMedium.coffea\")\n",
    "del out, test"
   ]
  },
  {
   "cell_type": "code",
   "execution_count": null,
   "id": "53e50ff8-9ee3-494a-9f20-38e669ea64b6",
   "metadata": {},
   "outputs": [],
   "source": []
  }
 ],
 "metadata": {
  "kernelspec": {
   "display_name": "Python 3 (ipykernel)",
   "language": "python",
   "name": "python3"
  },
  "language_info": {
   "codemirror_mode": {
    "name": "ipython",
    "version": 3
   },
   "file_extension": ".py",
   "mimetype": "text/x-python",
   "name": "python",
   "nbconvert_exporter": "python",
   "pygments_lexer": "ipython3",
   "version": "3.8.17"
  }
 },
 "nbformat": 4,
 "nbformat_minor": 5
}
