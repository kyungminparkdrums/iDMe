{
 "cells": [
  {
   "cell_type": "code",
   "execution_count": 10,
   "id": "e669ba8e-d8ae-45e9-bdac-9dabb1da3557",
   "metadata": {},
   "outputs": [
    {
     "name": "stdout",
     "output_type": "stream",
     "text": [
      "The autoreload extension is already loaded. To reload it, use:\n",
      "  %reload_ext autoreload\n"
     ]
    }
   ],
   "source": [
    "%load_ext autoreload\n",
    "%autoreload 2\n",
    "import numpy as np\n",
    "import matplotlib.pyplot as plt\n",
    "import awkward as ak\n",
    "\n",
    "import sys\n",
    "sys.path.append(\"../../analysisTools/\")\n",
    "from analysisTools import Analyzer\n",
    "from analysisTools import loadSchema\n",
    "import analysisTools as tools\n",
    "import analysisSubroutines as routines\n",
    "import importlib\n",
    "import coffea.util as util\n",
    "\n",
    "import time\n",
    "import json\n",
    "import os\n",
    "import glob"
   ]
  },
  {
   "cell_type": "markdown",
   "id": "d90eb2c8-1882-4781-a242-44a5758376b4",
   "metadata": {},
   "source": [
    "## Run coffea on skimmed ntuples"
   ]
  },
  {
   "cell_type": "code",
   "execution_count": 11,
   "id": "c72681ac-a0f5-402a-8a80-d5f17505b69c",
   "metadata": {},
   "outputs": [],
   "source": [
    "#cuts_config = \"./configs/cut_configs/VR_Collinearity_withLocalHEMjetVeto.py\"\n",
    "cuts_config = \"./configs/cut_configs/VR_Collinearity_fromPV_refit_withLocalHEMjetVeto.py\"\n",
    "histos_config = \"./configs/histo_configs/vxy_histo.py\""
   ]
  },
  {
   "cell_type": "code",
   "execution_count": 12,
   "id": "67a3d095-2d86-4899-a215-b97b166a5fc2",
   "metadata": {},
   "outputs": [],
   "source": [
    "# BDT \n",
    "model_config = \"./configs/models/BDT_inclusive_10Vars.json\""
   ]
  },
  {
   "cell_type": "code",
   "execution_count": 13,
   "id": "8ca2a112-1126-407b-8b83-99e6b07a59eb",
   "metadata": {},
   "outputs": [],
   "source": [
    "outdir = \"./coffea/skimmed/\"\n",
    "os.makedirs(outdir, exist_ok=True)"
   ]
  },
  {
   "cell_type": "markdown",
   "id": "97b2ff87-c610-4e5a-9d3d-0255d980dbe3",
   "metadata": {},
   "source": [
    "### Background"
   ]
  },
  {
   "cell_type": "code",
   "execution_count": 14,
   "id": "4cbca9d7-c595-4f90-abcf-ad958b299a3b",
   "metadata": {},
   "outputs": [],
   "source": [
    "#sample_config = \"./configs/sample_configs/skimmed_bkg_2018_v11_miniAOD.json\" # WITH refitted mass & HEM veto (bug) applied\n",
    "sample_config = \"./configs/sample_configs/skimmed_bkg_2018_v11_miniAOD_noHEMveto.json\" # WITH refitted mass & HEM veto NOT applied"
   ]
  },
  {
   "cell_type": "code",
   "execution_count": 15,
   "id": "6f817866-b919-4b88-b1ad-01f21d032c36",
   "metadata": {},
   "outputs": [],
   "source": [
    "#outname = 'VR_Collinear_HEMvetos_good_vtx_v8'\n",
    "outname = 'VR_Collinear_fromPV_refit_HEMvetos_good_vtx_v8_m0p95'\n",
    "#outname = 'VR_Collinear_fromPV_refit_HEMvetos_good_vtx_v11' # take out OSSF"
   ]
  },
  {
   "cell_type": "code",
   "execution_count": 7,
   "id": "f3671a4a-36ea-4965-91f2-aea7fae78ca6",
   "metadata": {
    "scrolled": true
   },
   "outputs": [
    {
     "data": {
      "application/vnd.jupyter.widget-view+json": {
       "model_id": "16b2e6687d1e4d55b6b2561143c87895",
       "version_major": 2,
       "version_minor": 0
      },
      "text/plain": [
       "Output()"
      ]
     },
     "metadata": {},
     "output_type": "display_data"
    },
    {
     "data": {
      "text/html": [
       "<pre style=\"white-space:pre;overflow-x:auto;line-height:normal;font-family:Menlo,'DejaVu Sans Mono',consolas,'Courier New',monospace\"></pre>\n"
      ],
      "text/plain": []
     },
     "metadata": {},
     "output_type": "display_data"
    },
    {
     "data": {
      "text/html": [
       "<pre style=\"white-space:pre;overflow-x:auto;line-height:normal;font-family:Menlo,'DejaVu Sans Mono',consolas,'Courier New',monospace\">\n",
       "</pre>\n"
      ],
      "text/plain": [
       "\n"
      ]
     },
     "metadata": {},
     "output_type": "display_data"
    },
    {
     "data": {
      "application/vnd.jupyter.widget-view+json": {
       "model_id": "3eaf6557c18940e6ae72a58cbc860e3a",
       "version_major": 2,
       "version_minor": 0
      },
      "text/plain": [
       "Output()"
      ]
     },
     "metadata": {},
     "output_type": "display_data"
    },
    {
     "name": "stdout",
     "output_type": "stream",
     "text": [
      "NJet > 2\n",
      "good_vtx definition v8\n",
      "NJet > 2\n",
      "good_vtx definition v8\n",
      "NJet > 2\n",
      "good_vtx definition v8\n",
      "NJet > 2\n",
      "good_vtx definition v8\n",
      "NJet > 2\n",
      "good_vtx definition v8\n",
      "NJet > 2\n",
      "good_vtx definition v8\n",
      "NJet > 2\n",
      "good_vtx definition v8\n",
      "NJet > 2\n",
      "good_vtx definition v8\n",
      "NJet > 2\n",
      "good_vtx definition v8\n",
      "NJet > 2\n",
      "good_vtx definition v8\n",
      "NJet > 2\n",
      "good_vtx definition v8\n",
      "\n",
      "good_vtx definition v8\n",
      "NJet > 2\n",
      "NJet > 2\n",
      "good_vtx definition v8\n",
      "good_vtx definition v8NJet > 2\n",
      "good_vtx definition v8\n",
      "NJet > 2\n",
      "NJet > 2\n",
      "good_vtx definition v8\n",
      "good_vtx definition v8\n",
      "NJet > 2\n",
      "good_vtx definition v8\n",
      "NJet > 2\n",
      "good_vtx definition v8\n",
      "NJet > 2\n",
      "good_vtx definition v8\n",
      "NJet > 2\n",
      "good_vtx definition v8NJet > 2\n",
      "good_vtx definition v8\n",
      "NJet > 2\n",
      "good_vtx definition v8\n",
      "NJet > 2\n",
      "good_vtx definition v8\n",
      "NJet > 2\n",
      "good_vtx definition v8\n",
      "NJet > 2\n",
      "good_vtx definition v8\n",
      "NJet > 2\n",
      "good_vtx definition v8\n",
      "NJet > 2\n",
      "good_vtx definition v8\n",
      "NJet > 2\n",
      "good_vtx definition v8\n",
      "NJet > 2\n",
      "good_vtx definition v8\n",
      "NJet > 2\n",
      "good_vtx definition v8\n",
      "NJet > 2\n",
      "\n",
      "good_vtx definition v8NJet > 2good_vtx definition v8\n",
      "NJet > 2\n",
      "good_vtx definition v8\n",
      "NJet > 2\n",
      "good_vtx definition v8\n",
      "NJet > 2\n",
      "good_vtx definition v8\n",
      "NJet > 2\n",
      "good_vtx definition v8\n",
      "NJet > 2\n",
      "good_vtx definition v8\n",
      "NJet > 2\n",
      "good_vtx definition v8\n",
      "NJet > 2\n",
      "good_vtx definition v8\n",
      "NJet > 2\n",
      "good_vtx definition v8\n",
      "NJet > 2\n",
      "good_vtx definition v8\n",
      "NJet > 2\n",
      "NJet > 2\n",
      "good_vtx definition v8\n",
      "NJet > 2\n",
      "good_vtx definition v8\n",
      "NJet > 2\n",
      "good_vtx definition v8\n",
      "NJet > 2\n",
      "good_vtx definition v8\n",
      "NJet > 2\n",
      "good_vtx definition v8\n",
      "NJet > 2\n",
      "good_vtx definition v8\n",
      "NJet > 2\n",
      "good_vtx definition v8\n",
      "NJet > 2\n",
      "good_vtx definition v8\n",
      "NJet > 2good_vtx definition v8\n",
      "NJet > 2\n",
      "NJet > 2\n",
      "good_vtx definition v8\n",
      "\n",
      "NJet > 2\n",
      "good_vtx definition v8\n",
      "NJet > 2\n",
      "good_vtx definition v8\n",
      "NJet > 2\n",
      "good_vtx definition v8\n",
      "NJet > 2\n",
      "good_vtx definition v8\n",
      "NJet > 2\n",
      "NJet > 2\n",
      "good_vtx definition v8\n",
      "good_vtx definition v8\n",
      "\n",
      "good_vtx definition v8\n",
      "NJet > 2\n",
      "good_vtx definition v8\n",
      "NJet > 2\n",
      "good_vtx definition v8\n",
      "NJet > 2\n",
      "good_vtx definition v8\n",
      "NJet > 2\n",
      "NJet > 2\n",
      "good_vtx definition v8\n",
      "NJet > 2\n",
      "good_vtx definition v8\n",
      "NJet > 2\n",
      "good_vtx definition v8\n",
      "NJet > 2\n",
      "good_vtx definition v8\n",
      "NJet > 2\n",
      "good_vtx definition v8\n",
      "NJet > 2\n",
      "good_vtx definition v8\n",
      "NJet > 2good_vtx definition v8\n",
      "NJet > 2\n",
      "good_vtx definition v8\n",
      "NJet > 2\n",
      "good_vtx definition v8\n",
      "NJet > 2\n",
      "good_vtx definition v8\n",
      "NJet > 2\n",
      "good_vtx definition v8\n",
      "\n",
      "\n",
      "good_vtx definition v8\n",
      "NJet > 2\n",
      "good_vtx definition v8NJet > 2NJet > 2\n",
      "good_vtx definition v8\n"
     ]
    },
    {
     "data": {
      "text/html": [
       "<pre style=\"white-space:pre;overflow-x:auto;line-height:normal;font-family:Menlo,'DejaVu Sans Mono',consolas,'Courier New',monospace\"></pre>\n"
      ],
      "text/plain": []
     },
     "metadata": {},
     "output_type": "display_data"
    },
    {
     "data": {
      "text/html": [
       "<pre style=\"white-space:pre;overflow-x:auto;line-height:normal;font-family:Menlo,'DejaVu Sans Mono',consolas,'Courier New',monospace\">\n",
       "</pre>\n"
      ],
      "text/plain": [
       "\n"
      ]
     },
     "metadata": {},
     "output_type": "display_data"
    },
    {
     "name": "stdout",
     "output_type": "stream",
     "text": [
      "Runtime: 7.89 minutes\n"
     ]
    }
   ],
   "source": [
    "#analyzer = Analyzer(sample_config, histos_config, cuts_config, model_config) # If using BDT in cuts\n",
    "analyzer = Analyzer(sample_config, histos_config, cuts_config) # If not using BDT in cuts\n",
    "\n",
    "t1 = time.time()\n",
    "out = analyzer.process(execr='futures')\n",
    "t2 = time.time()\n",
    "\n",
    "print(\"Runtime: {:.2f} minutes\".format((t2-t1)/60))\n",
    "\n",
    "util.save(out,f\"{outdir}/bkg_{outname}.coffea\")\n",
    "\n",
    "del out, analyzer"
   ]
  },
  {
   "cell_type": "markdown",
   "id": "7c1a1354-e052-4ff6-a4e1-0259a2a1e564",
   "metadata": {},
   "source": [
    "### Data"
   ]
  },
  {
   "cell_type": "code",
   "execution_count": 16,
   "id": "4b10e392-03a0-4408-a84f-07ff69ef5e5c",
   "metadata": {},
   "outputs": [],
   "source": [
    "#sample_config = \"./configs/sample_configs/skimmed_data_2018_MET_v4.json\" # WITH refitted mass & HEM veto (bug) applied\n",
    "sample_config = \"./configs/sample_configs/skimmed_data_2018_MET_v4_noHEMveto.json\" # WITH refitted mass & HEM veto NOT applied"
   ]
  },
  {
   "cell_type": "code",
   "execution_count": 18,
   "id": "8ac5ea24-3f42-48f5-8fdd-9fde5589d67a",
   "metadata": {},
   "outputs": [
    {
     "data": {
      "application/vnd.jupyter.widget-view+json": {
       "model_id": "735965bbfc264189b212570df39e599e",
       "version_major": 2,
       "version_minor": 0
      },
      "text/plain": [
       "Output()"
      ]
     },
     "metadata": {},
     "output_type": "display_data"
    },
    {
     "name": "stdout",
     "output_type": "stream",
     "text": [
      "{'name': 'Data_MET_UL18_MET_Run2018D', 'location': '/store/group/lpcmetx/iDMe/skimmed_ntuples/data/data_2018_MET_v4_rdfSkim_MET200_noHEMveto_nJetsG0/output_Data_MET_UL18_MET_Run2018D/', 'sum_wgt': 0.0, 'type': 'data', 'year': 2018, 'xsec': 0.0, 'nFiles': 8, 'num_events': 150931631, 'blacklist': [], 'defineGoodVertices': <function defineGoodVertices at 0x7f02bc2ad310>, 'selectBestVertex': <function selectBestVertex at 0x7f02bc2ad160>}\n",
      "{'name': 'Data_MET_UL18_MET_Run2018D', 'location': '/store/group/lpcmetx/iDMe/skimmed_ntuples/data/data_2018_MET_v4_rdfSkim_MET200_noHEMveto_nJetsG0/output_Data_MET_UL18_MET_Run2018D/', 'sum_wgt': 0.0, 'type': 'data', 'year': 2018, 'xsec': 0.0, 'nFiles': 8, 'num_events': 150931631, 'blacklist': [], 'defineGoodVertices': <function defineGoodVertices at 0x7f02bc2ad310>, 'selectBestVertex': <function selectBestVertex at 0x7f02bc2ad160>}\n",
      "{'name': 'Data_MET_UL18_MET_Run2018D', 'location': '/store/group/lpcmetx/iDMe/skimmed_ntuples/data/data_2018_MET_v4_rdfSkim_MET200_noHEMveto_nJetsG0/output_Data_MET_UL18_MET_Run2018D/', 'sum_wgt': 0.0, 'type': 'data', 'year': 2018, 'xsec': 0.0, 'nFiles': 8, 'num_events': 150931631, 'blacklist': [], 'defineGoodVertices': <function defineGoodVertices at 0x7f02bc2ad310>, 'selectBestVertex': <function selectBestVertex at 0x7f02bc2ad160>}\n",
      "{'name': 'Data_MET_UL18_MET_Run2018D', 'location': '/store/group/lpcmetx/iDMe/skimmed_ntuples/data/data_2018_MET_v4_rdfSkim_MET200_noHEMveto_nJetsG0/output_Data_MET_UL18_MET_Run2018D/', 'sum_wgt': 0.0, 'type': 'data', 'year': 2018, 'xsec': 0.0, 'nFiles': 8, 'num_events': 150931631, 'blacklist': [], 'defineGoodVertices': <function defineGoodVertices at 0x7f02bc2ad310>, 'selectBestVertex': <function selectBestVertex at 0x7f02bc2ad160>}\n",
      "NJet > 2\n",
      "good_vtx definition v8\n",
      "Cos(collinear) [-1, -0.95] event #:  [3783605874, 3515625468, 3463272340, ... 240866426, 1150448376, 3568119541]\n",
      "{'name': 'Data_MET_UL18_MET_Run2018D', 'location': '/store/group/lpcmetx/iDMe/skimmed_ntuples/data/data_2018_MET_v4_rdfSkim_MET200_noHEMveto_nJetsG0/output_Data_MET_UL18_MET_Run2018D/', 'sum_wgt': 0.0, 'type': 'data', 'year': 2018, 'xsec': 0.0, 'nFiles': 8, 'num_events': 150931631, 'blacklist': [], 'defineGoodVertices': <function defineGoodVertices at 0x7f02bc2ad310>, 'selectBestVertex': <function selectBestVertex at 0x7f02bc2ad160>}\n",
      "NJet > 2\n",
      "NJet > 2\n",
      "good_vtx definition v8\n",
      "good_vtx definition v8\n",
      "Cos(collinear) [-1, -0.95] event #:  [209229606, 1170557152, 344835065, 503279909, ... 831034435, 3003449264, 2051757462]\n",
      "Cos(collinear) [-1, -0.95] event #:  [537257306, 257154943, 392979072, 705881999, 823375593, 719100283]\n",
      "{'name': 'Data_MET_UL18_MET_Run2018D', 'location': '/store/group/lpcmetx/iDMe/skimmed_ntuples/data/data_2018_MET_v4_rdfSkim_MET200_noHEMveto_nJetsG0/output_Data_MET_UL18_MET_Run2018D/', 'sum_wgt': 0.0, 'type': 'data', 'year': 2018, 'xsec': 0.0, 'nFiles': 8, 'num_events': 150931631, 'blacklist': [], 'defineGoodVertices': <function defineGoodVertices at 0x7f02bc2ad310>, 'selectBestVertex': <function selectBestVertex at 0x7f02bc2ad160>}\n",
      "{'name': 'Data_MET_UL18_MET_Run2018D', 'location': '/store/group/lpcmetx/iDMe/skimmed_ntuples/data/data_2018_MET_v4_rdfSkim_MET200_noHEMveto_nJetsG0/output_Data_MET_UL18_MET_Run2018D/', 'sum_wgt': 0.0, 'type': 'data', 'year': 2018, 'xsec': 0.0, 'nFiles': 8, 'num_events': 150931631, 'blacklist': [], 'defineGoodVertices': <function defineGoodVertices at 0x7f02bc2ad310>, 'selectBestVertex': <function selectBestVertex at 0x7f02bc2ad160>}\n",
      "NJet > 2\n",
      "good_vtx definition v8\n",
      "Cos(collinear) [-1, -0.95] event #:  [155329612, 287762759, 291038267, 657225960, ... 150643136, 1467875735, 3077475]\n"
     ]
    },
    {
     "data": {
      "text/html": [
       "<pre style=\"white-space:pre;overflow-x:auto;line-height:normal;font-family:Menlo,'DejaVu Sans Mono',consolas,'Courier New',monospace\"></pre>\n"
      ],
      "text/plain": []
     },
     "metadata": {},
     "output_type": "display_data"
    },
    {
     "data": {
      "text/html": [
       "<pre style=\"white-space:pre;overflow-x:auto;line-height:normal;font-family:Menlo,'DejaVu Sans Mono',consolas,'Courier New',monospace\">\n",
       "</pre>\n"
      ],
      "text/plain": [
       "\n"
      ]
     },
     "metadata": {},
     "output_type": "display_data"
    },
    {
     "name": "stderr",
     "output_type": "stream",
     "text": [
      "\n",
      "KeyboardInterrupt\n",
      "\n",
      "Process ForkProcess-24:\n",
      "Process ForkProcess-23:\n",
      "Traceback (most recent call last):\n",
      "  File \"/uscms/home/kyungmip/nobackup/miniconda3/envs/debug/lib/python3.8/multiprocessing/process.py\", line 315, in _bootstrap\n",
      "    self.run()\n",
      "  File \"/uscms/home/kyungmip/nobackup/miniconda3/envs/debug/lib/python3.8/multiprocessing/process.py\", line 108, in run\n",
      "    self._target(*self._args, **self._kwargs)\n",
      "  File \"/uscms/home/kyungmip/nobackup/miniconda3/envs/debug/lib/python3.8/concurrent/futures/process.py\", line 233, in _process_worker\n",
      "    call_item = call_queue.get(block=True)\n",
      "  File \"/uscms/home/kyungmip/nobackup/miniconda3/envs/debug/lib/python3.8/multiprocessing/queues.py\", line 97, in get\n",
      "    res = self._recv_bytes()\n",
      "  File \"/uscms/home/kyungmip/nobackup/miniconda3/envs/debug/lib/python3.8/multiprocessing/connection.py\", line 216, in recv_bytes\n",
      "    buf = self._recv_bytes(maxlength)\n",
      "  File \"/uscms/home/kyungmip/nobackup/miniconda3/envs/debug/lib/python3.8/multiprocessing/connection.py\", line 414, in _recv_bytes\n",
      "    buf = self._recv(4)\n",
      "  File \"/uscms/home/kyungmip/nobackup/miniconda3/envs/debug/lib/python3.8/multiprocessing/connection.py\", line 379, in _recv\n",
      "    chunk = read(handle, remaining)\n",
      "KeyboardInterrupt\n",
      "Exception ignored in: <function WeakSet.__init__.<locals>._remove at 0x7f02c3836700>\n",
      "Traceback (most recent call last):\n",
      "  File \"/uscms/home/kyungmip/nobackup/miniconda3/envs/debug/lib/python3.8/_weakrefset.py\", line 38, in _remove\n",
      "    def _remove(item, selfref=ref(self)):Traceback (most recent call last):\n",
      "\n",
      "KeyboardInterrupt  File \"/uscms/home/kyungmip/nobackup/miniconda3/envs/debug/lib/python3.8/multiprocessing/process.py\", line 315, in _bootstrap\n",
      "    self.run()\n",
      ":   File \"/uscms/home/kyungmip/nobackup/miniconda3/envs/debug/lib/python3.8/multiprocessing/process.py\", line 108, in run\n",
      "    self._target(*self._args, **self._kwargs)\n",
      "\n",
      "  File \"/uscms/home/kyungmip/nobackup/miniconda3/envs/debug/lib/python3.8/concurrent/futures/process.py\", line 233, in _process_worker\n",
      "    call_item = call_queue.get(block=True)\n",
      "  File \"/uscms/home/kyungmip/nobackup/miniconda3/envs/debug/lib/python3.8/multiprocessing/queues.py\", line 96, in get\n",
      "    with self._rlock:\n",
      "  File \"/uscms/home/kyungmip/nobackup/miniconda3/envs/debug/lib/python3.8/multiprocessing/synchronize.py\", line 95, in __enter__\n",
      "    return self._semlock.__enter__()\n",
      "KeyboardInterrupt\n"
     ]
    }
   ],
   "source": [
    "#analyzer = Analyzer(sample_config, histos_config, cuts_config, model_config) # If using BDT in cuts\n",
    "analyzer = Analyzer(sample_config, histos_config, cuts_config) # If not using BDT in cuts\n",
    "\n",
    "t1 = time.time()\n",
    "out = analyzer.process(execr='futures')\n",
    "t2 = time.time()\n",
    "\n",
    "print(\"Runtime: {:.2f} minutes\".format((t2-t1)/60))\n",
    "\n",
    "util.save(out,f\"{outdir}/data_{outname}.coffea\")\n",
    "\n",
    "del out, analyzer"
   ]
  },
  {
   "cell_type": "code",
   "execution_count": null,
   "id": "3535cbce-e3ab-4783-91ba-559f06713645",
   "metadata": {},
   "outputs": [],
   "source": []
  },
  {
   "cell_type": "code",
   "execution_count": null,
   "id": "d605ab3d-7e55-4bf1-b3f0-a5caaf0eabef",
   "metadata": {},
   "outputs": [],
   "source": []
  }
 ],
 "metadata": {
  "kernelspec": {
   "display_name": "Python 3 (ipykernel)",
   "language": "python",
   "name": "python3"
  },
  "language_info": {
   "codemirror_mode": {
    "name": "ipython",
    "version": 3
   },
   "file_extension": ".py",
   "mimetype": "text/x-python",
   "name": "python",
   "nbconvert_exporter": "python",
   "pygments_lexer": "ipython3",
   "version": "3.8.17"
  }
 },
 "nbformat": 4,
 "nbformat_minor": 5
}
