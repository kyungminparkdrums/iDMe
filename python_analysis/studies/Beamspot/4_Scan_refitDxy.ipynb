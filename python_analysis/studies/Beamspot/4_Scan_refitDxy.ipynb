{
 "cells": [
  {
   "cell_type": "code",
   "execution_count": 49,
   "id": "8b69bf98-fd9c-4d1d-939b-dd736c47ae7f",
   "metadata": {},
   "outputs": [
    {
     "name": "stdout",
     "output_type": "stream",
     "text": [
      "The autoreload extension is already loaded. To reload it, use:\n",
      "  %reload_ext autoreload\n"
     ]
    }
   ],
   "source": [
    "%load_ext autoreload\n",
    "%autoreload 2\n",
    "import numpy as np\n",
    "import matplotlib.pyplot as plt\n",
    "from coffea import util\n",
    "from coffea.processor import accumulate\n",
    "import os\n",
    "import re\n",
    "import pandas as pd\n",
    "import hist\n",
    "import matplotlib as mpl\n",
    "import mplhep\n",
    "import sys\n",
    "\n",
    "sys.path.append(\"../../analysisTools/\")\n",
    "import plotTools as ptools\n",
    "import utils\n",
    "import warnings\n",
    "warnings.filterwarnings('ignore')"
   ]
  },
  {
   "cell_type": "code",
   "execution_count": 50,
   "id": "2af90064-03d6-4f93-81b2-a3c29d279213",
   "metadata": {},
   "outputs": [],
   "source": [
    "prefix = './coffea/skimmed/'\n",
    "suffix = 'VR_Collinear_fromPV_refit_HEMvetos_good_vtx_v9_trackdxy'"
   ]
  },
  {
   "cell_type": "code",
   "execution_count": 51,
   "id": "f8822ce9-e34c-478b-91bf-4d519d0f7e9b",
   "metadata": {},
   "outputs": [],
   "source": [
    "# Background\n",
    "bkg_histo = util.load(f'{prefix}/bkg_{suffix}.coffea')[0]"
   ]
  },
  {
   "cell_type": "code",
   "execution_count": 52,
   "id": "aa03f525-3ce7-4416-b7e2-f56ab6f67b2a",
   "metadata": {},
   "outputs": [],
   "source": [
    "# Data\n",
    "data_histo = util.load(f'{prefix}/data_{suffix}.coffea')[0]"
   ]
  },
  {
   "cell_type": "code",
   "execution_count": 53,
   "id": "76994290-1d42-45d0-81df-75eb6bb9b178",
   "metadata": {},
   "outputs": [
    {
     "data": {
      "text/plain": [
       "dict_keys(['sel_e1_dxy', 'sel_e1_trkVtxVx', 'sel_e1_trkVtxVy', 'sel_e1_trkVtxPx', 'sel_e1_trkVtxPy', 'sel_e1_trkVtxPt', 'sel_e1_trkVtxPVposx', 'sel_e1_trkVtxPVposy', 'sel_e1_trkVtxDxyFromPV', 'sel_e1_dxy_refit', 'sel_e2_dxy', 'sel_e2_trkVtxVx', 'sel_e2_trkVtxVy', 'sel_e2_trkVtxPx', 'sel_e2_trkVtxPy', 'sel_e2_trkVtxPt', 'sel_e2_trkVtxPVposx', 'sel_e2_trkVtxPVposy', 'sel_e2_trkVtxDxyFromPV', 'sel_e2_dxy_refit', 'sel_e_lead_dxy', 'sel_e_sub_dxy', 'sel_e_lead_dxy_refit', 'sel_e_sub_dxy_refit', 'PVx', 'PVy', 'sel_vtx_vxy1', 'sel_vtx_vxy10', 'sel_vtx_vxy100', 'sel_vtx_vxy1_fromPV_vectorSub', 'sel_vtx_CosThetaColl', 'sel_vtx_CosThetaColl_fromPV', 'sel_vtx_CosThetaColl_fromPV_refit', 'sel_vtx_CosThetaColl_fromPV_refit_vs_sel_e_lead_dxy', 'sel_vtx_CosThetaColl_fromPV_refit_vs_sel_e_sub_dxy', 'sel_vtx_CosThetaColl_fromPV_refit_vs_sel_e_lead_dxy_refit', 'sel_vtx_CosThetaColl_fromPV_refit_vs_sel_e_sub_dxy_refit', 'sel_vtx_min_dxy', 'sel_vtx_min_dxy_refit', 'sel_e1_trkVtxVxMinusBSx', 'sel_e1_trkVtxVyMinusBSy', 'sel_e1_trkVtxVxMinusPVx', 'sel_e1_trkVtxVyMinusPVy', 'cutDesc', 'cutflow', 'cutflow_cts', 'cutflow_nevts', 'cutflow_vtx_matched'])"
      ]
     },
     "execution_count": 53,
     "metadata": {},
     "output_type": "execute_result"
    }
   ],
   "source": [
    "bkg_histo.keys()"
   ]
  },
  {
   "cell_type": "code",
   "execution_count": 54,
   "id": "24e840bc-3921-4c46-b9b9-7cbbf8311e1c",
   "metadata": {},
   "outputs": [
    {
     "data": {
      "text/plain": [
       "Hist(\n",
       "  StrCategory(['bkg_2018_ZJets_ZJetsNuNu_HT800to1200', 'bkg_2018_ZJets_ZJetsNuNu_HT400to600', 'bkg_2018_ZJets_ZJetsNuNu_HT2500toInf', 'bkg_2018_ZJets_ZJetsNuNu_HT600to800', 'bkg_2018_ZJets_ZJetsNuNu_HT1200to2500', 'bkg_2018_ZJets_ZJetsNuNu_HT200to400', 'bkg_2018_ZJets_ZJetsNuNu_HT100to200', 'bkg_2018_ZGamma_ZGToLLG', 'bkg_2018_ZGamma_ZGToNuNuG', 'bkg_2018_ZGamma_ZG2JTo2L2JG', 'bkg_2018_WJets_WJetsLNu_HT600to800', 'bkg_2018_WJets_WJetsLNu_HT800to1200', 'bkg_2018_WJets_WJetsLNu_HT200to400', 'bkg_2018_WJets_WJetsLNu_HT400to600', 'bkg_2018_WJets_WJetsLNu_HT2500toInf', 'bkg_2018_WJets_WJetsLNu_HT100to200', 'bkg_2018_WJets_WJetsLNu_HT1200to2500', 'bkg_2018_TTbar_TTToSemiLeptonic', 'bkg_2018_TTbar_TTToHadronic', 'bkg_2018_TTX_TTZToQQ', 'bkg_2018_TTbar_TTTo2L2Nu', 'bkg_2018_TTX_TTWJetsToQQ', 'bkg_2018_SingleTop_ST_tW_top', 'bkg_2018_TTX_TTGJets', 'bkg_2018_SingleTop_ST_tW_antitop', 'bkg_2018_SingleTop_ST_t-channel_top', 'bkg_2018_TTX_TTWJetsToLNu', 'bkg_2018_SingleTop_ST_t-channel_antitop', 'bkg_2018_SingleTop_ST_s-channel', 'bkg_2018_QCD_QCD_HT700to1000', 'bkg_2018_QCD_QCD_HT1000to1500', 'bkg_2018_Multiboson_ZZZ', 'bkg_2018_QCD_QCD_HT1500to2000', 'bkg_2018_QCD_QCD_HT2000toInf', 'bkg_2018_Multiboson_ZZ', 'bkg_2018_Multiboson_WZZ', 'bkg_2018_TTX_TTZToLLNuNu', 'bkg_2018_Multiboson_WWW', 'bkg_2018_Multiboson_WWZ', 'bkg_2018_Multiboson_WZ', 'bkg_2018_Multiboson_WW', 'bkg_2018_DY-M50_DYJetsToLL_M-50_HT-400to600', 'bkg_2018_DY-M50_DYJetsToLL_M-50_HT-600to800', 'bkg_2018_DY-M50_DYJetsToLL_M-50_HT-200to400', 'bkg_2018_DY-M50_DYJetsToLL_M-50_HT-800to1200', 'bkg_2018_DY-M50_DYJetsToLL_M-50_HT-100to200', 'bkg_2018_DY-M4to50_DYJetsToLL_M-4to50_HT-400to600', 'bkg_2018_DY-M4to50_DYJetsToLL_M-4to50_HT-200to400', 'bkg_2018_DY-M4to50_DYJetsToLL_M-4to50_HT-600toInf', 'bkg_2018_DY-M50_DYJetsToLL_M-50_HT-2500toInf', 'bkg_2018_DY-M50_DYJetsToLL_M-50_HT-1200to2500'], growth=True, name='samp', label='Sample Name'),\n",
       "  StrCategory(['cut5', 'cut6', 'cut7', 'cut8', 'cut9', 'cut10'], growth=True, name='cut', label='Cut Applied'),\n",
       "  Regular(5000, 0, 5, name='dxy'),\n",
       "  storage=Weight()) # Sum: WeightedSum(value=10361.2, variance=4470.33) (WeightedSum(value=14148.4, variance=7136.18) with flow)"
      ]
     },
     "execution_count": 54,
     "metadata": {},
     "output_type": "execute_result"
    }
   ],
   "source": [
    "bkg_histo['sel_e_lead_dxy_refit']"
   ]
  },
  {
   "cell_type": "code",
   "execution_count": 7,
   "id": "d924ed0f-942a-4e98-9316-be7eb34c47f8",
   "metadata": {},
   "outputs": [],
   "source": [
    "variable = 'sel_e_lead_dxy_refit'\n",
    "cut = 'cut9'"
   ]
  },
  {
   "cell_type": "code",
   "execution_count": 8,
   "id": "7a173185-b940-4a4e-a7ae-537946586b59",
   "metadata": {},
   "outputs": [
    {
     "data": {
      "image/png": "[encoded data removed]",
      "text/plain": [
       "<Figure size 600x600 with 1 Axes>"
      ]
     },
     "metadata": {},
     "output_type": "display_data"
    }
   ],
   "source": [
    "fig, ax = plt.subplots(figsize=(6,6))\n"
   ]
  },
  {
   "cell_type": "code",
   "execution_count": 9,
   "id": "c9a4148a-a4fa-4cf8-a13a-905470990ec3",
   "metadata": {},
   "outputs": [],
   "source": [
    "style_dict = {\n",
    "    'fig': fig,\n",
    "    'ax': ax,\n",
    "    'rebin': 1j,\n",
    "    'xlim': None,     # if None, the default will show up; otherwise give as a list, i.e. [0, 10]\n",
    "    'doLogy': False, \n",
    "    'doLogx': False,\n",
    "    'doDensity': False,\n",
    "    'doYerr': True, \n",
    "    'xlabel': None,   # if None, the default will show up; otherwise give as a string, i.e. 'Electron dxy'\n",
    "    'ylabel': None,   # if None, the default will show up; otherwise give as a string, i.e. 'Efficiency'\n",
    "    'label': 'Data',    # if None, the default will show up; otherwise give as a string, i.e. 'Highest ctau signal samples'\n",
    "    'flow': None,     # overflow\n",
    "    'doSave': False,\n",
    "    'outDir': f'./plots/{suffix}/data_bkg/sel_vtx/',\n",
    "    'outName': f'data_VR_{variable}_{cut}.png'\n",
    "}\n"
   ]
  },
  {
   "cell_type": "code",
   "execution_count": 10,
   "id": "ffe4f3e6-ef0c-4544-b086-cf9d57f52ba9",
   "metadata": {},
   "outputs": [
    {
     "data": {
      "text/plain": [
       "1298.9432909326206"
      ]
     },
     "execution_count": 10,
     "metadata": {},
     "output_type": "execute_result"
    }
   ],
   "source": [
    "# Plot settings\n",
    "plot_dict = {\n",
    "    'variable': variable,\n",
    "    'cut': cut,\n",
    "    'year': 2018\n",
    "}\n",
    "\n",
    "ptools.get_bkg_histo_stacked_1d(bkg_histo, plot_dict, style_dict).sum().value"
   ]
  },
  {
   "cell_type": "code",
   "execution_count": 11,
   "id": "6d09db50-07f3-4129-bfd4-e6751e460b57",
   "metadata": {},
   "outputs": [
    {
     "data": {
      "text/plain": [
       "416.89633674432116"
      ]
     },
     "execution_count": 11,
     "metadata": {},
     "output_type": "execute_result"
    }
   ],
   "source": [
    "style_dict['xlim'] = [0.01, 10]\n",
    "ptools.get_bkg_histo_stacked_1d(bkg_histo, plot_dict, style_dict).sum().value"
   ]
  },
  {
   "cell_type": "code",
   "execution_count": 12,
   "id": "3b4e73f0-d9f2-4c16-9a7d-a43484d8291d",
   "metadata": {},
   "outputs": [
    {
     "data": {
      "text/plain": [
       "462.0"
      ]
     },
     "execution_count": 12,
     "metadata": {},
     "output_type": "execute_result"
    }
   ],
   "source": [
    "ptools.get_data_histo_1d(data_histo, plot_dict, style_dict).sum().value"
   ]
  },
  {
   "cell_type": "code",
   "execution_count": 77,
   "id": "58e300f8-1c6d-4fed-ae64-8181cf000c67",
   "metadata": {},
   "outputs": [
    {
     "name": "stderr",
     "output_type": "stream",
     "text": [
      "\n",
      "KeyboardInterrupt\n",
      "\n"
     ]
    }
   ],
   "source": [
    "yield_bkg = []\n",
    "yield_data = []\n",
    "\n",
    "range_scan_mindxy = np.arange(0,0.01,0.0001)\n",
    "\n",
    "data_over_mc = []\n",
    "\n",
    "for idx, epsil in enumerate(range_scan_mindxy):\n",
    "    style_dict['xlim'] = [epsil, 10]\n",
    "    yield_bkg.append(ptools.get_bkg_histo_stacked_1d(bkg_histo, plot_dict, style_dict).sum().value)\n",
    "    yield_data.append(ptools.get_data_histo_1d(data_histo, plot_dict, style_dict).sum().value)\n",
    "\n",
    "    data_over_mc.append(yield_data[idx]/yield_bkg[idx])"
   ]
  },
  {
   "cell_type": "code",
   "execution_count": null,
   "id": "8f9081bc-9752-441c-bbad-bb45762b8663",
   "metadata": {
    "scrolled": true
   },
   "outputs": [],
   "source": [
    "data_over_mc"
   ]
  },
  {
   "cell_type": "code",
   "execution_count": null,
   "id": "66079f96-ee4f-44a3-a4e6-1b08c3d4a0a7",
   "metadata": {
    "scrolled": true
   },
   "outputs": [],
   "source": [
    "yield_data"
   ]
  },
  {
   "cell_type": "code",
   "execution_count": null,
   "id": "e2d02eaa-d85b-4fd7-afd8-92f752e684c3",
   "metadata": {
    "scrolled": true
   },
   "outputs": [],
   "source": [
    "yield_bkg"
   ]
  },
  {
   "cell_type": "code",
   "execution_count": null,
   "id": "ee2f3e25-9abc-4550-a458-8cd05a51eb95",
   "metadata": {},
   "outputs": [],
   "source": []
  },
  {
   "cell_type": "code",
   "execution_count": null,
   "id": "3acdfbce-0b09-43ac-9c95-2fd6bd10d4ca",
   "metadata": {},
   "outputs": [],
   "source": []
  },
  {
   "cell_type": "code",
   "execution_count": null,
   "id": "af32a480-9d91-4548-a0ce-0c90a8f921c1",
   "metadata": {},
   "outputs": [],
   "source": []
  },
  {
   "cell_type": "code",
   "execution_count": 60,
   "id": "d26bb578-ecc7-4532-a263-9eba47e95ca8",
   "metadata": {},
   "outputs": [],
   "source": [
    "variable = 'sel_vtx_CosThetaColl_fromPV_refit_vs_sel_e_lead_dxy'\n",
    "\n",
    "style_2d_dict = {\n",
    "    'fig': fig,\n",
    "    'ax': ax,\n",
    "    'xrebin': 1j,\n",
    "    'yrebin': 1j,\n",
    "    'xlim': None,     # if None, the default will show up; otherwise give as a list, i.e. [0, 10]  \n",
    "    'ylim': None,     # if None, the default will show up; otherwise give as a list, i.e. [0, 10]\n",
    "    'doLogy': False, \n",
    "    'doLogx': False,\n",
    "    'doLogz': True,\n",
    "    'xlabel': None,   # if None, the default will show up; otherwise give as a string, i.e. 'Electron dxy'\n",
    "    'ylabel': None,   # if None, the default will show up; otherwise give as a string, i.e. 'Efficiency'\n",
    "    'zlabel': 'Events',   \n",
    "    'flow': None,     # overflow\n",
    "    'doSave': False,\n",
    "    'outDir': f'./plots/{suffix}/data/sel_vtx/',\n",
    "    'outName': f'data_VR_{variable}_{cut}.png'\n",
    "}"
   ]
  },
  {
   "cell_type": "code",
   "execution_count": 61,
   "id": "67dfdaf3-431e-4f30-8935-78c058c6fbbd",
   "metadata": {},
   "outputs": [
    {
     "data": {
      "text/plain": [
       "1439.0"
      ]
     },
     "execution_count": 61,
     "metadata": {},
     "output_type": "execute_result"
    }
   ],
   "source": [
    "ptools.get_data_histo_2D(data_histo, plot_dict, style_2d_dict).sum().value"
   ]
  },
  {
   "cell_type": "code",
   "execution_count": 62,
   "id": "c722d149-8ba5-44b1-844d-ce04765b3117",
   "metadata": {},
   "outputs": [
    {
     "data": {
      "text/plain": [
       "10361.184031717581"
      ]
     },
     "execution_count": 62,
     "metadata": {},
     "output_type": "execute_result"
    }
   ],
   "source": [
    "ptools.get_bkg_histo_2D(bkg_histo, plot_dict, style_2d_dict).sum().value"
   ]
  },
  {
   "cell_type": "code",
   "execution_count": null,
   "id": "5dff1cbc-ef4f-40a8-8d37-2f022159daa5",
   "metadata": {
    "scrolled": true
   },
   "outputs": [],
   "source": []
  },
  {
   "cell_type": "code",
   "execution_count": 64,
   "id": "3b6e0973-e35c-47e9-87fb-f8432e28120e",
   "metadata": {
    "scrolled": true
   },
   "outputs": [
    {
     "data": {
      "text/plain": [
       "Hist(Regular(5000, 0, 5, name='dxy'), storage=Weight()) # Sum: WeightedSum(value=702, variance=702) (WeightedSum(value=936, variance=936) with flow)"
      ]
     },
     "execution_count": 64,
     "metadata": {},
     "output_type": "execute_result"
    }
   ],
   "source": [
    "plot_dict['cut'] = 'cut10'\n",
    "#style_2d_dict['xlim'] = [0,10]\n",
    "ptools.get_data_histo_2D(data_histo, plot_dict, style_2d_dict)"
   ]
  },
  {
   "cell_type": "code",
   "execution_count": null,
   "id": "b0433334-82d8-4e65-ab50-7fda51ef4422",
   "metadata": {},
   "outputs": [],
   "source": []
  },
  {
   "cell_type": "code",
   "execution_count": null,
   "id": "caef36ee-207d-41d1-b8c2-974c8b793106",
   "metadata": {},
   "outputs": [],
   "source": []
  },
  {
   "cell_type": "code",
   "execution_count": null,
   "id": "48b26de8-78ce-4df8-a232-1beb28dfa229",
   "metadata": {},
   "outputs": [],
   "source": []
  },
  {
   "cell_type": "code",
   "execution_count": null,
   "id": "0188dd99-aeab-4060-b12e-9d540008c2e8",
   "metadata": {},
   "outputs": [],
   "source": []
  },
  {
   "cell_type": "code",
   "execution_count": null,
   "id": "fd0ee200-8a94-4f3f-8495-cd4c82102a10",
   "metadata": {},
   "outputs": [],
   "source": []
  },
  {
   "cell_type": "code",
   "execution_count": null,
   "id": "f2fdc19a-63a3-4a9f-a7ad-1ae0230a3dc9",
   "metadata": {},
   "outputs": [],
   "source": [
    "variable = 'sel_vtx_CosThetaColl_fromPV_refit_vs_sel_e_lead_dxy_refit'"
   ]
  },
  {
   "cell_type": "code",
   "execution_count": null,
   "id": "fa7f4be3-2d4c-4552-a443-bbebfeb81138",
   "metadata": {},
   "outputs": [],
   "source": [
    "ptools.get_data_histo_2d(data_histo, plot_dict, style_2d_dict)"
   ]
  },
  {
   "cell_type": "code",
   "execution_count": null,
   "id": "54810618-0fbe-4dad-ad66-3895ee4dfd4e",
   "metadata": {},
   "outputs": [],
   "source": [
    "ptools.get_bkg_histo_2d(bkg_histo, plot_dict, style_2d_dict)"
   ]
  },
  {
   "cell_type": "code",
   "execution_count": null,
   "id": "70805eb4-5e12-4e56-9629-7b453b6c0078",
   "metadata": {},
   "outputs": [],
   "source": []
  }
 ],
 "metadata": {
  "kernelspec": {
   "display_name": "Python 3 (ipykernel)",
   "language": "python",
   "name": "python3"
  },
  "language_info": {
   "codemirror_mode": {
    "name": "ipython",
    "version": 3
   },
   "file_extension": ".py",
   "mimetype": "text/x-python",
   "name": "python",
   "nbconvert_exporter": "python",
   "pygments_lexer": "ipython3",
   "version": "3.8.17"
  }
 },
 "nbformat": 4,
 "nbformat_minor": 5
}
